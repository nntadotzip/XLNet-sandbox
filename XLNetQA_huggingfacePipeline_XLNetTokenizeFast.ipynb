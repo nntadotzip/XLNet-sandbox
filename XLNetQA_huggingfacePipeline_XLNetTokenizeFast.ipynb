{
  "nbformat": 4,
  "nbformat_minor": 0,
  "metadata": {
    "colab": {
      "name": "XLNetQA_huggingfacePipeline.ipynb",
      "provenance": [],
      "authorship_tag": "ABX9TyOyivnoxDhj5VNdDOzR3f9x",
      "include_colab_link": true
    },
    "kernelspec": {
      "name": "python3",
      "display_name": "Python 3"
    },
    "language_info": {
      "name": "python"
    },
    "widgets": {
      "application/vnd.jupyter.widget-state+json": {
        "90968dad24b644d79480b93aa858e57a": {
          "model_module": "@jupyter-widgets/controls",
          "model_name": "VBoxModel",
          "model_module_version": "1.5.0",
          "state": {
            "_view_name": "VBoxView",
            "_dom_classes": [],
            "_model_name": "VBoxModel",
            "_view_module": "@jupyter-widgets/controls",
            "_model_module_version": "1.5.0",
            "_view_count": null,
            "_view_module_version": "1.5.0",
            "box_style": "",
            "layout": "IPY_MODEL_aa2c275d839144c1b2d7e3963f2db00e",
            "_model_module": "@jupyter-widgets/controls",
            "children": [
              "IPY_MODEL_25f3d79027974c1798e617cb665fd5d2",
              "IPY_MODEL_6082c79860394880aa0ec82c7001d818",
              "IPY_MODEL_254297bebef94e1fa8922307b7b3722f",
              "IPY_MODEL_7fb1af1cad41483e84c2986addcc4796",
              "IPY_MODEL_f37e9bfd880040b0b0c6fa5be37fc77c"
            ]
          }
        },
        "aa2c275d839144c1b2d7e3963f2db00e": {
          "model_module": "@jupyter-widgets/base",
          "model_name": "LayoutModel",
          "model_module_version": "1.2.0",
          "state": {
            "_view_name": "LayoutView",
            "grid_template_rows": null,
            "right": null,
            "justify_content": null,
            "_view_module": "@jupyter-widgets/base",
            "overflow": null,
            "_model_module_version": "1.2.0",
            "_view_count": null,
            "flex_flow": "column",
            "width": "50%",
            "min_width": null,
            "border": null,
            "align_items": "center",
            "bottom": null,
            "_model_module": "@jupyter-widgets/base",
            "top": null,
            "grid_column": null,
            "overflow_y": null,
            "overflow_x": null,
            "grid_auto_flow": null,
            "grid_area": null,
            "grid_template_columns": null,
            "flex": null,
            "_model_name": "LayoutModel",
            "justify_items": null,
            "grid_row": null,
            "max_height": null,
            "align_content": null,
            "visibility": null,
            "align_self": null,
            "height": null,
            "min_height": null,
            "padding": null,
            "grid_auto_rows": null,
            "grid_gap": null,
            "max_width": null,
            "order": null,
            "_view_module_version": "1.2.0",
            "grid_template_areas": null,
            "object_position": null,
            "object_fit": null,
            "grid_auto_columns": null,
            "margin": null,
            "display": "flex",
            "left": null
          }
        },
        "25f3d79027974c1798e617cb665fd5d2": {
          "model_module": "@jupyter-widgets/controls",
          "model_name": "HTMLModel",
          "model_module_version": "1.5.0",
          "state": {
            "_view_name": "HTMLView",
            "style": "IPY_MODEL_158d8c4a6c254b4d93f51fe774c469eb",
            "_dom_classes": [],
            "description": "",
            "_model_name": "HTMLModel",
            "placeholder": "​",
            "_view_module": "@jupyter-widgets/controls",
            "_model_module_version": "1.5.0",
            "value": "<center>\n<img src=https://huggingface.co/front/assets/huggingface_logo-noborder.svg alt='Hugging Face'>\n<br>\nCopy a token from <a href=\"https://huggingface.co/settings/token\" target=\"_blank\">your Hugging Face tokens page</a> and paste it below.\n<br>\nImmediately click login after copying your token or it might be stored in plain text in this notebook file.\n</center>",
            "_view_count": null,
            "_view_module_version": "1.5.0",
            "description_tooltip": null,
            "_model_module": "@jupyter-widgets/controls",
            "layout": "IPY_MODEL_1ff5708d826e48dcab985837be69d7aa"
          }
        },
        "6082c79860394880aa0ec82c7001d818": {
          "model_module": "@jupyter-widgets/controls",
          "model_name": "PasswordModel",
          "model_module_version": "1.5.0",
          "state": {
            "_view_name": "PasswordView",
            "style": "IPY_MODEL_a9229d2c171f42f6a79e40f3fc37548a",
            "_dom_classes": [],
            "description": "Token:",
            "_model_name": "PasswordModel",
            "placeholder": "​",
            "_view_module": "@jupyter-widgets/controls",
            "_model_module_version": "1.5.0",
            "value": "",
            "_view_count": null,
            "disabled": false,
            "_view_module_version": "1.5.0",
            "continuous_update": true,
            "description_tooltip": null,
            "_model_module": "@jupyter-widgets/controls",
            "layout": "IPY_MODEL_21ec43089a6b4da091f5ad8c37a60929"
          }
        },
        "254297bebef94e1fa8922307b7b3722f": {
          "model_module": "@jupyter-widgets/controls",
          "model_name": "ButtonModel",
          "model_module_version": "1.5.0",
          "state": {
            "_view_name": "ButtonView",
            "style": "IPY_MODEL_8caa2752a5a6426392eefdb0130d7b39",
            "_dom_classes": [],
            "description": "Login",
            "_model_name": "ButtonModel",
            "button_style": "",
            "_view_module": "@jupyter-widgets/controls",
            "_model_module_version": "1.5.0",
            "tooltip": "",
            "_view_count": null,
            "disabled": false,
            "_view_module_version": "1.5.0",
            "layout": "IPY_MODEL_37e13d59ffdc4c6cabb3cd9d35cda8a4",
            "_model_module": "@jupyter-widgets/controls",
            "icon": ""
          }
        },
        "7fb1af1cad41483e84c2986addcc4796": {
          "model_module": "@jupyter-widgets/controls",
          "model_name": "HTMLModel",
          "model_module_version": "1.5.0",
          "state": {
            "_view_name": "HTMLView",
            "style": "IPY_MODEL_800e083062454055bd5d708ebce08b7e",
            "_dom_classes": [],
            "description": "",
            "_model_name": "HTMLModel",
            "placeholder": "​",
            "_view_module": "@jupyter-widgets/controls",
            "_model_module_version": "1.5.0",
            "value": "\n<b>Pro Tip:</b> If you don't already have one, you can create a dedicated 'notebooks' token with 'write' access, that you can then easily reuse for all notebooks.\n<br>\n<i>Logging in with your username and password is deprecated and won't be possible anymore in the near future. You can still use them for now by clicking below.</i>\n</center>",
            "_view_count": null,
            "_view_module_version": "1.5.0",
            "description_tooltip": null,
            "_model_module": "@jupyter-widgets/controls",
            "layout": "IPY_MODEL_eb6b2eee035440c19851be7fc1328cb4"
          }
        },
        "f37e9bfd880040b0b0c6fa5be37fc77c": {
          "model_module": "@jupyter-widgets/controls",
          "model_name": "ButtonModel",
          "model_module_version": "1.5.0",
          "state": {
            "_view_name": "ButtonView",
            "style": "IPY_MODEL_6c9a3358b65f4d63a3c77a178e1d07bc",
            "_dom_classes": [],
            "description": "Use password",
            "_model_name": "ButtonModel",
            "button_style": "",
            "_view_module": "@jupyter-widgets/controls",
            "_model_module_version": "1.5.0",
            "tooltip": "",
            "_view_count": null,
            "disabled": false,
            "_view_module_version": "1.5.0",
            "layout": "IPY_MODEL_32b1e4eacc1a420ba7fb29a803aa8a6c",
            "_model_module": "@jupyter-widgets/controls",
            "icon": ""
          }
        },
        "158d8c4a6c254b4d93f51fe774c469eb": {
          "model_module": "@jupyter-widgets/controls",
          "model_name": "DescriptionStyleModel",
          "model_module_version": "1.5.0",
          "state": {
            "_view_name": "StyleView",
            "_model_name": "DescriptionStyleModel",
            "description_width": "",
            "_view_module": "@jupyter-widgets/base",
            "_model_module_version": "1.5.0",
            "_view_count": null,
            "_view_module_version": "1.2.0",
            "_model_module": "@jupyter-widgets/controls"
          }
        },
        "1ff5708d826e48dcab985837be69d7aa": {
          "model_module": "@jupyter-widgets/base",
          "model_name": "LayoutModel",
          "model_module_version": "1.2.0",
          "state": {
            "_view_name": "LayoutView",
            "grid_template_rows": null,
            "right": null,
            "justify_content": null,
            "_view_module": "@jupyter-widgets/base",
            "overflow": null,
            "_model_module_version": "1.2.0",
            "_view_count": null,
            "flex_flow": null,
            "width": null,
            "min_width": null,
            "border": null,
            "align_items": null,
            "bottom": null,
            "_model_module": "@jupyter-widgets/base",
            "top": null,
            "grid_column": null,
            "overflow_y": null,
            "overflow_x": null,
            "grid_auto_flow": null,
            "grid_area": null,
            "grid_template_columns": null,
            "flex": null,
            "_model_name": "LayoutModel",
            "justify_items": null,
            "grid_row": null,
            "max_height": null,
            "align_content": null,
            "visibility": null,
            "align_self": null,
            "height": null,
            "min_height": null,
            "padding": null,
            "grid_auto_rows": null,
            "grid_gap": null,
            "max_width": null,
            "order": null,
            "_view_module_version": "1.2.0",
            "grid_template_areas": null,
            "object_position": null,
            "object_fit": null,
            "grid_auto_columns": null,
            "margin": null,
            "display": null,
            "left": null
          }
        },
        "a9229d2c171f42f6a79e40f3fc37548a": {
          "model_module": "@jupyter-widgets/controls",
          "model_name": "DescriptionStyleModel",
          "model_module_version": "1.5.0",
          "state": {
            "_view_name": "StyleView",
            "_model_name": "DescriptionStyleModel",
            "description_width": "",
            "_view_module": "@jupyter-widgets/base",
            "_model_module_version": "1.5.0",
            "_view_count": null,
            "_view_module_version": "1.2.0",
            "_model_module": "@jupyter-widgets/controls"
          }
        },
        "21ec43089a6b4da091f5ad8c37a60929": {
          "model_module": "@jupyter-widgets/base",
          "model_name": "LayoutModel",
          "model_module_version": "1.2.0",
          "state": {
            "_view_name": "LayoutView",
            "grid_template_rows": null,
            "right": null,
            "justify_content": null,
            "_view_module": "@jupyter-widgets/base",
            "overflow": null,
            "_model_module_version": "1.2.0",
            "_view_count": null,
            "flex_flow": null,
            "width": null,
            "min_width": null,
            "border": null,
            "align_items": null,
            "bottom": null,
            "_model_module": "@jupyter-widgets/base",
            "top": null,
            "grid_column": null,
            "overflow_y": null,
            "overflow_x": null,
            "grid_auto_flow": null,
            "grid_area": null,
            "grid_template_columns": null,
            "flex": null,
            "_model_name": "LayoutModel",
            "justify_items": null,
            "grid_row": null,
            "max_height": null,
            "align_content": null,
            "visibility": null,
            "align_self": null,
            "height": null,
            "min_height": null,
            "padding": null,
            "grid_auto_rows": null,
            "grid_gap": null,
            "max_width": null,
            "order": null,
            "_view_module_version": "1.2.0",
            "grid_template_areas": null,
            "object_position": null,
            "object_fit": null,
            "grid_auto_columns": null,
            "margin": null,
            "display": null,
            "left": null
          }
        },
        "8caa2752a5a6426392eefdb0130d7b39": {
          "model_module": "@jupyter-widgets/controls",
          "model_name": "ButtonStyleModel",
          "model_module_version": "1.5.0",
          "state": {
            "_view_name": "StyleView",
            "_model_name": "ButtonStyleModel",
            "_view_module": "@jupyter-widgets/base",
            "_model_module_version": "1.5.0",
            "_view_count": null,
            "button_color": null,
            "font_weight": "",
            "_view_module_version": "1.2.0",
            "_model_module": "@jupyter-widgets/controls"
          }
        },
        "37e13d59ffdc4c6cabb3cd9d35cda8a4": {
          "model_module": "@jupyter-widgets/base",
          "model_name": "LayoutModel",
          "model_module_version": "1.2.0",
          "state": {
            "_view_name": "LayoutView",
            "grid_template_rows": null,
            "right": null,
            "justify_content": null,
            "_view_module": "@jupyter-widgets/base",
            "overflow": null,
            "_model_module_version": "1.2.0",
            "_view_count": null,
            "flex_flow": null,
            "width": null,
            "min_width": null,
            "border": null,
            "align_items": null,
            "bottom": null,
            "_model_module": "@jupyter-widgets/base",
            "top": null,
            "grid_column": null,
            "overflow_y": null,
            "overflow_x": null,
            "grid_auto_flow": null,
            "grid_area": null,
            "grid_template_columns": null,
            "flex": null,
            "_model_name": "LayoutModel",
            "justify_items": null,
            "grid_row": null,
            "max_height": null,
            "align_content": null,
            "visibility": null,
            "align_self": null,
            "height": null,
            "min_height": null,
            "padding": null,
            "grid_auto_rows": null,
            "grid_gap": null,
            "max_width": null,
            "order": null,
            "_view_module_version": "1.2.0",
            "grid_template_areas": null,
            "object_position": null,
            "object_fit": null,
            "grid_auto_columns": null,
            "margin": null,
            "display": null,
            "left": null
          }
        },
        "800e083062454055bd5d708ebce08b7e": {
          "model_module": "@jupyter-widgets/controls",
          "model_name": "DescriptionStyleModel",
          "model_module_version": "1.5.0",
          "state": {
            "_view_name": "StyleView",
            "_model_name": "DescriptionStyleModel",
            "description_width": "",
            "_view_module": "@jupyter-widgets/base",
            "_model_module_version": "1.5.0",
            "_view_count": null,
            "_view_module_version": "1.2.0",
            "_model_module": "@jupyter-widgets/controls"
          }
        },
        "eb6b2eee035440c19851be7fc1328cb4": {
          "model_module": "@jupyter-widgets/base",
          "model_name": "LayoutModel",
          "model_module_version": "1.2.0",
          "state": {
            "_view_name": "LayoutView",
            "grid_template_rows": null,
            "right": null,
            "justify_content": null,
            "_view_module": "@jupyter-widgets/base",
            "overflow": null,
            "_model_module_version": "1.2.0",
            "_view_count": null,
            "flex_flow": null,
            "width": null,
            "min_width": null,
            "border": null,
            "align_items": null,
            "bottom": null,
            "_model_module": "@jupyter-widgets/base",
            "top": null,
            "grid_column": null,
            "overflow_y": null,
            "overflow_x": null,
            "grid_auto_flow": null,
            "grid_area": null,
            "grid_template_columns": null,
            "flex": null,
            "_model_name": "LayoutModel",
            "justify_items": null,
            "grid_row": null,
            "max_height": null,
            "align_content": null,
            "visibility": null,
            "align_self": null,
            "height": null,
            "min_height": null,
            "padding": null,
            "grid_auto_rows": null,
            "grid_gap": null,
            "max_width": null,
            "order": null,
            "_view_module_version": "1.2.0",
            "grid_template_areas": null,
            "object_position": null,
            "object_fit": null,
            "grid_auto_columns": null,
            "margin": null,
            "display": null,
            "left": null
          }
        },
        "6c9a3358b65f4d63a3c77a178e1d07bc": {
          "model_module": "@jupyter-widgets/controls",
          "model_name": "ButtonStyleModel",
          "model_module_version": "1.5.0",
          "state": {
            "_view_name": "StyleView",
            "_model_name": "ButtonStyleModel",
            "_view_module": "@jupyter-widgets/base",
            "_model_module_version": "1.5.0",
            "_view_count": null,
            "button_color": null,
            "font_weight": "",
            "_view_module_version": "1.2.0",
            "_model_module": "@jupyter-widgets/controls"
          }
        },
        "32b1e4eacc1a420ba7fb29a803aa8a6c": {
          "model_module": "@jupyter-widgets/base",
          "model_name": "LayoutModel",
          "model_module_version": "1.2.0",
          "state": {
            "_view_name": "LayoutView",
            "grid_template_rows": null,
            "right": null,
            "justify_content": null,
            "_view_module": "@jupyter-widgets/base",
            "overflow": null,
            "_model_module_version": "1.2.0",
            "_view_count": null,
            "flex_flow": null,
            "width": null,
            "min_width": null,
            "border": null,
            "align_items": null,
            "bottom": null,
            "_model_module": "@jupyter-widgets/base",
            "top": null,
            "grid_column": null,
            "overflow_y": null,
            "overflow_x": null,
            "grid_auto_flow": null,
            "grid_area": null,
            "grid_template_columns": null,
            "flex": null,
            "_model_name": "LayoutModel",
            "justify_items": null,
            "grid_row": null,
            "max_height": null,
            "align_content": null,
            "visibility": null,
            "align_self": null,
            "height": null,
            "min_height": null,
            "padding": null,
            "grid_auto_rows": null,
            "grid_gap": null,
            "max_width": null,
            "order": null,
            "_view_module_version": "1.2.0",
            "grid_template_areas": null,
            "object_position": null,
            "object_fit": null,
            "grid_auto_columns": null,
            "margin": null,
            "display": null,
            "left": null
          }
        },
        "5b34116c2cc04599845a4e493f27ea3f": {
          "model_module": "@jupyter-widgets/controls",
          "model_name": "HBoxModel",
          "model_module_version": "1.5.0",
          "state": {
            "_view_name": "HBoxView",
            "_dom_classes": [],
            "_model_name": "HBoxModel",
            "_view_module": "@jupyter-widgets/controls",
            "_model_module_version": "1.5.0",
            "_view_count": null,
            "_view_module_version": "1.5.0",
            "box_style": "",
            "layout": "IPY_MODEL_180d61d89b40456eb9770f8c68b76215",
            "_model_module": "@jupyter-widgets/controls",
            "children": [
              "IPY_MODEL_5799af962fc847fe81ce685100b68fa4",
              "IPY_MODEL_af572e28fd4e4dffb8ca5a14a5f505c8",
              "IPY_MODEL_05b1d6e95c9845aa8f981462350c818a"
            ]
          }
        },
        "180d61d89b40456eb9770f8c68b76215": {
          "model_module": "@jupyter-widgets/base",
          "model_name": "LayoutModel",
          "model_module_version": "1.2.0",
          "state": {
            "_view_name": "LayoutView",
            "grid_template_rows": null,
            "right": null,
            "justify_content": null,
            "_view_module": "@jupyter-widgets/base",
            "overflow": null,
            "_model_module_version": "1.2.0",
            "_view_count": null,
            "flex_flow": null,
            "width": null,
            "min_width": null,
            "border": null,
            "align_items": null,
            "bottom": null,
            "_model_module": "@jupyter-widgets/base",
            "top": null,
            "grid_column": null,
            "overflow_y": null,
            "overflow_x": null,
            "grid_auto_flow": null,
            "grid_area": null,
            "grid_template_columns": null,
            "flex": null,
            "_model_name": "LayoutModel",
            "justify_items": null,
            "grid_row": null,
            "max_height": null,
            "align_content": null,
            "visibility": null,
            "align_self": null,
            "height": null,
            "min_height": null,
            "padding": null,
            "grid_auto_rows": null,
            "grid_gap": null,
            "max_width": null,
            "order": null,
            "_view_module_version": "1.2.0",
            "grid_template_areas": null,
            "object_position": null,
            "object_fit": null,
            "grid_auto_columns": null,
            "margin": null,
            "display": null,
            "left": null
          }
        },
        "5799af962fc847fe81ce685100b68fa4": {
          "model_module": "@jupyter-widgets/controls",
          "model_name": "HTMLModel",
          "model_module_version": "1.5.0",
          "state": {
            "_view_name": "HTMLView",
            "style": "IPY_MODEL_06aef13d388c41ffb7582a4d493530cf",
            "_dom_classes": [],
            "description": "",
            "_model_name": "HTMLModel",
            "placeholder": "​",
            "_view_module": "@jupyter-widgets/controls",
            "_model_module_version": "1.5.0",
            "value": "100%",
            "_view_count": null,
            "_view_module_version": "1.5.0",
            "description_tooltip": null,
            "_model_module": "@jupyter-widgets/controls",
            "layout": "IPY_MODEL_74af73142d614b738635a89aa97330ae"
          }
        },
        "af572e28fd4e4dffb8ca5a14a5f505c8": {
          "model_module": "@jupyter-widgets/controls",
          "model_name": "FloatProgressModel",
          "model_module_version": "1.5.0",
          "state": {
            "_view_name": "ProgressView",
            "style": "IPY_MODEL_d5d3069bf67e4ccdbcc436f01f9ff19c",
            "_dom_classes": [],
            "description": "",
            "_model_name": "FloatProgressModel",
            "bar_style": "success",
            "max": 2,
            "_view_module": "@jupyter-widgets/controls",
            "_model_module_version": "1.5.0",
            "value": 2,
            "_view_count": null,
            "_view_module_version": "1.5.0",
            "orientation": "horizontal",
            "min": 0,
            "description_tooltip": null,
            "_model_module": "@jupyter-widgets/controls",
            "layout": "IPY_MODEL_91aabbbe0416497c926aa52caa7053fe"
          }
        },
        "05b1d6e95c9845aa8f981462350c818a": {
          "model_module": "@jupyter-widgets/controls",
          "model_name": "HTMLModel",
          "model_module_version": "1.5.0",
          "state": {
            "_view_name": "HTMLView",
            "style": "IPY_MODEL_b5fe2d50345b41adb4d3ab37a7ef226c",
            "_dom_classes": [],
            "description": "",
            "_model_name": "HTMLModel",
            "placeholder": "​",
            "_view_module": "@jupyter-widgets/controls",
            "_model_module_version": "1.5.0",
            "value": " 2/2 [00:00&lt;00:00, 52.74it/s]",
            "_view_count": null,
            "_view_module_version": "1.5.0",
            "description_tooltip": null,
            "_model_module": "@jupyter-widgets/controls",
            "layout": "IPY_MODEL_b3a32dd63e46450ba79a0e4b5c7b41bb"
          }
        },
        "06aef13d388c41ffb7582a4d493530cf": {
          "model_module": "@jupyter-widgets/controls",
          "model_name": "DescriptionStyleModel",
          "model_module_version": "1.5.0",
          "state": {
            "_view_name": "StyleView",
            "_model_name": "DescriptionStyleModel",
            "description_width": "",
            "_view_module": "@jupyter-widgets/base",
            "_model_module_version": "1.5.0",
            "_view_count": null,
            "_view_module_version": "1.2.0",
            "_model_module": "@jupyter-widgets/controls"
          }
        },
        "74af73142d614b738635a89aa97330ae": {
          "model_module": "@jupyter-widgets/base",
          "model_name": "LayoutModel",
          "model_module_version": "1.2.0",
          "state": {
            "_view_name": "LayoutView",
            "grid_template_rows": null,
            "right": null,
            "justify_content": null,
            "_view_module": "@jupyter-widgets/base",
            "overflow": null,
            "_model_module_version": "1.2.0",
            "_view_count": null,
            "flex_flow": null,
            "width": null,
            "min_width": null,
            "border": null,
            "align_items": null,
            "bottom": null,
            "_model_module": "@jupyter-widgets/base",
            "top": null,
            "grid_column": null,
            "overflow_y": null,
            "overflow_x": null,
            "grid_auto_flow": null,
            "grid_area": null,
            "grid_template_columns": null,
            "flex": null,
            "_model_name": "LayoutModel",
            "justify_items": null,
            "grid_row": null,
            "max_height": null,
            "align_content": null,
            "visibility": null,
            "align_self": null,
            "height": null,
            "min_height": null,
            "padding": null,
            "grid_auto_rows": null,
            "grid_gap": null,
            "max_width": null,
            "order": null,
            "_view_module_version": "1.2.0",
            "grid_template_areas": null,
            "object_position": null,
            "object_fit": null,
            "grid_auto_columns": null,
            "margin": null,
            "display": null,
            "left": null
          }
        },
        "d5d3069bf67e4ccdbcc436f01f9ff19c": {
          "model_module": "@jupyter-widgets/controls",
          "model_name": "ProgressStyleModel",
          "model_module_version": "1.5.0",
          "state": {
            "_view_name": "StyleView",
            "_model_name": "ProgressStyleModel",
            "description_width": "",
            "_view_module": "@jupyter-widgets/base",
            "_model_module_version": "1.5.0",
            "_view_count": null,
            "_view_module_version": "1.2.0",
            "bar_color": null,
            "_model_module": "@jupyter-widgets/controls"
          }
        },
        "91aabbbe0416497c926aa52caa7053fe": {
          "model_module": "@jupyter-widgets/base",
          "model_name": "LayoutModel",
          "model_module_version": "1.2.0",
          "state": {
            "_view_name": "LayoutView",
            "grid_template_rows": null,
            "right": null,
            "justify_content": null,
            "_view_module": "@jupyter-widgets/base",
            "overflow": null,
            "_model_module_version": "1.2.0",
            "_view_count": null,
            "flex_flow": null,
            "width": null,
            "min_width": null,
            "border": null,
            "align_items": null,
            "bottom": null,
            "_model_module": "@jupyter-widgets/base",
            "top": null,
            "grid_column": null,
            "overflow_y": null,
            "overflow_x": null,
            "grid_auto_flow": null,
            "grid_area": null,
            "grid_template_columns": null,
            "flex": null,
            "_model_name": "LayoutModel",
            "justify_items": null,
            "grid_row": null,
            "max_height": null,
            "align_content": null,
            "visibility": null,
            "align_self": null,
            "height": null,
            "min_height": null,
            "padding": null,
            "grid_auto_rows": null,
            "grid_gap": null,
            "max_width": null,
            "order": null,
            "_view_module_version": "1.2.0",
            "grid_template_areas": null,
            "object_position": null,
            "object_fit": null,
            "grid_auto_columns": null,
            "margin": null,
            "display": null,
            "left": null
          }
        },
        "b5fe2d50345b41adb4d3ab37a7ef226c": {
          "model_module": "@jupyter-widgets/controls",
          "model_name": "DescriptionStyleModel",
          "model_module_version": "1.5.0",
          "state": {
            "_view_name": "StyleView",
            "_model_name": "DescriptionStyleModel",
            "description_width": "",
            "_view_module": "@jupyter-widgets/base",
            "_model_module_version": "1.5.0",
            "_view_count": null,
            "_view_module_version": "1.2.0",
            "_model_module": "@jupyter-widgets/controls"
          }
        },
        "b3a32dd63e46450ba79a0e4b5c7b41bb": {
          "model_module": "@jupyter-widgets/base",
          "model_name": "LayoutModel",
          "model_module_version": "1.2.0",
          "state": {
            "_view_name": "LayoutView",
            "grid_template_rows": null,
            "right": null,
            "justify_content": null,
            "_view_module": "@jupyter-widgets/base",
            "overflow": null,
            "_model_module_version": "1.2.0",
            "_view_count": null,
            "flex_flow": null,
            "width": null,
            "min_width": null,
            "border": null,
            "align_items": null,
            "bottom": null,
            "_model_module": "@jupyter-widgets/base",
            "top": null,
            "grid_column": null,
            "overflow_y": null,
            "overflow_x": null,
            "grid_auto_flow": null,
            "grid_area": null,
            "grid_template_columns": null,
            "flex": null,
            "_model_name": "LayoutModel",
            "justify_items": null,
            "grid_row": null,
            "max_height": null,
            "align_content": null,
            "visibility": null,
            "align_self": null,
            "height": null,
            "min_height": null,
            "padding": null,
            "grid_auto_rows": null,
            "grid_gap": null,
            "max_width": null,
            "order": null,
            "_view_module_version": "1.2.0",
            "grid_template_areas": null,
            "object_position": null,
            "object_fit": null,
            "grid_auto_columns": null,
            "margin": null,
            "display": null,
            "left": null
          }
        },
        "677e687fa6154214ad859ea0c8a803a1": {
          "model_module": "@jupyter-widgets/controls",
          "model_name": "HBoxModel",
          "model_module_version": "1.5.0",
          "state": {
            "_view_name": "HBoxView",
            "_dom_classes": [],
            "_model_name": "HBoxModel",
            "_view_module": "@jupyter-widgets/controls",
            "_model_module_version": "1.5.0",
            "_view_count": null,
            "_view_module_version": "1.5.0",
            "box_style": "",
            "layout": "IPY_MODEL_d3402b9df29b4b6383d3f685e6f8366c",
            "_model_module": "@jupyter-widgets/controls",
            "children": [
              "IPY_MODEL_b2ea72d60e2e45cfa8aa54c97d02724b",
              "IPY_MODEL_fc722b01eee348199107d0e4e28c6312",
              "IPY_MODEL_e97735d7726748e581a3a70611ff36e5"
            ]
          }
        },
        "d3402b9df29b4b6383d3f685e6f8366c": {
          "model_module": "@jupyter-widgets/base",
          "model_name": "LayoutModel",
          "model_module_version": "1.2.0",
          "state": {
            "_view_name": "LayoutView",
            "grid_template_rows": null,
            "right": null,
            "justify_content": null,
            "_view_module": "@jupyter-widgets/base",
            "overflow": null,
            "_model_module_version": "1.2.0",
            "_view_count": null,
            "flex_flow": null,
            "width": null,
            "min_width": null,
            "border": null,
            "align_items": null,
            "bottom": null,
            "_model_module": "@jupyter-widgets/base",
            "top": null,
            "grid_column": null,
            "overflow_y": null,
            "overflow_x": null,
            "grid_auto_flow": null,
            "grid_area": null,
            "grid_template_columns": null,
            "flex": null,
            "_model_name": "LayoutModel",
            "justify_items": null,
            "grid_row": null,
            "max_height": null,
            "align_content": null,
            "visibility": null,
            "align_self": null,
            "height": null,
            "min_height": null,
            "padding": null,
            "grid_auto_rows": null,
            "grid_gap": null,
            "max_width": null,
            "order": null,
            "_view_module_version": "1.2.0",
            "grid_template_areas": null,
            "object_position": null,
            "object_fit": null,
            "grid_auto_columns": null,
            "margin": null,
            "display": null,
            "left": null
          }
        },
        "b2ea72d60e2e45cfa8aa54c97d02724b": {
          "model_module": "@jupyter-widgets/controls",
          "model_name": "HTMLModel",
          "model_module_version": "1.5.0",
          "state": {
            "_view_name": "HTMLView",
            "style": "IPY_MODEL_6e7dc916ddbd451d97531463e7900249",
            "_dom_classes": [],
            "description": "",
            "_model_name": "HTMLModel",
            "placeholder": "​",
            "_view_module": "@jupyter-widgets/controls",
            "_model_module_version": "1.5.0",
            "value": "100%",
            "_view_count": null,
            "_view_module_version": "1.5.0",
            "description_tooltip": null,
            "_model_module": "@jupyter-widgets/controls",
            "layout": "IPY_MODEL_8fad5b43cf6e48fd8ca768579ca23c2d"
          }
        },
        "fc722b01eee348199107d0e4e28c6312": {
          "model_module": "@jupyter-widgets/controls",
          "model_name": "FloatProgressModel",
          "model_module_version": "1.5.0",
          "state": {
            "_view_name": "ProgressView",
            "style": "IPY_MODEL_a7532796c6eb49ee9d3e482c7c25582e",
            "_dom_classes": [],
            "description": "",
            "_model_name": "FloatProgressModel",
            "bar_style": "success",
            "max": 1,
            "_view_module": "@jupyter-widgets/controls",
            "_model_module_version": "1.5.0",
            "value": 1,
            "_view_count": null,
            "_view_module_version": "1.5.0",
            "orientation": "horizontal",
            "min": 0,
            "description_tooltip": null,
            "_model_module": "@jupyter-widgets/controls",
            "layout": "IPY_MODEL_2262a9318e3a47a59a2361d1233ad123"
          }
        },
        "e97735d7726748e581a3a70611ff36e5": {
          "model_module": "@jupyter-widgets/controls",
          "model_name": "HTMLModel",
          "model_module_version": "1.5.0",
          "state": {
            "_view_name": "HTMLView",
            "style": "IPY_MODEL_68ccbe2d13b54d038cda1d93656e5854",
            "_dom_classes": [],
            "description": "",
            "_model_name": "HTMLModel",
            "placeholder": "​",
            "_view_module": "@jupyter-widgets/controls",
            "_model_module_version": "1.5.0",
            "value": " 1/1 [00:01&lt;00:00,  1.93s/ba]",
            "_view_count": null,
            "_view_module_version": "1.5.0",
            "description_tooltip": null,
            "_model_module": "@jupyter-widgets/controls",
            "layout": "IPY_MODEL_0cd002fe5dd843a4ba26c1b5bdb61c81"
          }
        },
        "6e7dc916ddbd451d97531463e7900249": {
          "model_module": "@jupyter-widgets/controls",
          "model_name": "DescriptionStyleModel",
          "model_module_version": "1.5.0",
          "state": {
            "_view_name": "StyleView",
            "_model_name": "DescriptionStyleModel",
            "description_width": "",
            "_view_module": "@jupyter-widgets/base",
            "_model_module_version": "1.5.0",
            "_view_count": null,
            "_view_module_version": "1.2.0",
            "_model_module": "@jupyter-widgets/controls"
          }
        },
        "8fad5b43cf6e48fd8ca768579ca23c2d": {
          "model_module": "@jupyter-widgets/base",
          "model_name": "LayoutModel",
          "model_module_version": "1.2.0",
          "state": {
            "_view_name": "LayoutView",
            "grid_template_rows": null,
            "right": null,
            "justify_content": null,
            "_view_module": "@jupyter-widgets/base",
            "overflow": null,
            "_model_module_version": "1.2.0",
            "_view_count": null,
            "flex_flow": null,
            "width": null,
            "min_width": null,
            "border": null,
            "align_items": null,
            "bottom": null,
            "_model_module": "@jupyter-widgets/base",
            "top": null,
            "grid_column": null,
            "overflow_y": null,
            "overflow_x": null,
            "grid_auto_flow": null,
            "grid_area": null,
            "grid_template_columns": null,
            "flex": null,
            "_model_name": "LayoutModel",
            "justify_items": null,
            "grid_row": null,
            "max_height": null,
            "align_content": null,
            "visibility": null,
            "align_self": null,
            "height": null,
            "min_height": null,
            "padding": null,
            "grid_auto_rows": null,
            "grid_gap": null,
            "max_width": null,
            "order": null,
            "_view_module_version": "1.2.0",
            "grid_template_areas": null,
            "object_position": null,
            "object_fit": null,
            "grid_auto_columns": null,
            "margin": null,
            "display": null,
            "left": null
          }
        },
        "a7532796c6eb49ee9d3e482c7c25582e": {
          "model_module": "@jupyter-widgets/controls",
          "model_name": "ProgressStyleModel",
          "model_module_version": "1.5.0",
          "state": {
            "_view_name": "StyleView",
            "_model_name": "ProgressStyleModel",
            "description_width": "",
            "_view_module": "@jupyter-widgets/base",
            "_model_module_version": "1.5.0",
            "_view_count": null,
            "_view_module_version": "1.2.0",
            "bar_color": null,
            "_model_module": "@jupyter-widgets/controls"
          }
        },
        "2262a9318e3a47a59a2361d1233ad123": {
          "model_module": "@jupyter-widgets/base",
          "model_name": "LayoutModel",
          "model_module_version": "1.2.0",
          "state": {
            "_view_name": "LayoutView",
            "grid_template_rows": null,
            "right": null,
            "justify_content": null,
            "_view_module": "@jupyter-widgets/base",
            "overflow": null,
            "_model_module_version": "1.2.0",
            "_view_count": null,
            "flex_flow": null,
            "width": null,
            "min_width": null,
            "border": null,
            "align_items": null,
            "bottom": null,
            "_model_module": "@jupyter-widgets/base",
            "top": null,
            "grid_column": null,
            "overflow_y": null,
            "overflow_x": null,
            "grid_auto_flow": null,
            "grid_area": null,
            "grid_template_columns": null,
            "flex": null,
            "_model_name": "LayoutModel",
            "justify_items": null,
            "grid_row": null,
            "max_height": null,
            "align_content": null,
            "visibility": null,
            "align_self": null,
            "height": null,
            "min_height": null,
            "padding": null,
            "grid_auto_rows": null,
            "grid_gap": null,
            "max_width": null,
            "order": null,
            "_view_module_version": "1.2.0",
            "grid_template_areas": null,
            "object_position": null,
            "object_fit": null,
            "grid_auto_columns": null,
            "margin": null,
            "display": null,
            "left": null
          }
        },
        "68ccbe2d13b54d038cda1d93656e5854": {
          "model_module": "@jupyter-widgets/controls",
          "model_name": "DescriptionStyleModel",
          "model_module_version": "1.5.0",
          "state": {
            "_view_name": "StyleView",
            "_model_name": "DescriptionStyleModel",
            "description_width": "",
            "_view_module": "@jupyter-widgets/base",
            "_model_module_version": "1.5.0",
            "_view_count": null,
            "_view_module_version": "1.2.0",
            "_model_module": "@jupyter-widgets/controls"
          }
        },
        "0cd002fe5dd843a4ba26c1b5bdb61c81": {
          "model_module": "@jupyter-widgets/base",
          "model_name": "LayoutModel",
          "model_module_version": "1.2.0",
          "state": {
            "_view_name": "LayoutView",
            "grid_template_rows": null,
            "right": null,
            "justify_content": null,
            "_view_module": "@jupyter-widgets/base",
            "overflow": null,
            "_model_module_version": "1.2.0",
            "_view_count": null,
            "flex_flow": null,
            "width": null,
            "min_width": null,
            "border": null,
            "align_items": null,
            "bottom": null,
            "_model_module": "@jupyter-widgets/base",
            "top": null,
            "grid_column": null,
            "overflow_y": null,
            "overflow_x": null,
            "grid_auto_flow": null,
            "grid_area": null,
            "grid_template_columns": null,
            "flex": null,
            "_model_name": "LayoutModel",
            "justify_items": null,
            "grid_row": null,
            "max_height": null,
            "align_content": null,
            "visibility": null,
            "align_self": null,
            "height": null,
            "min_height": null,
            "padding": null,
            "grid_auto_rows": null,
            "grid_gap": null,
            "max_width": null,
            "order": null,
            "_view_module_version": "1.2.0",
            "grid_template_areas": null,
            "object_position": null,
            "object_fit": null,
            "grid_auto_columns": null,
            "margin": null,
            "display": null,
            "left": null
          }
        },
        "7cedd280dc494c0f909fcbb2bc3fb518": {
          "model_module": "@jupyter-widgets/controls",
          "model_name": "HBoxModel",
          "model_module_version": "1.5.0",
          "state": {
            "_view_name": "HBoxView",
            "_dom_classes": [],
            "_model_name": "HBoxModel",
            "_view_module": "@jupyter-widgets/controls",
            "_model_module_version": "1.5.0",
            "_view_count": null,
            "_view_module_version": "1.5.0",
            "box_style": "",
            "layout": "IPY_MODEL_a48b329349754d698d317ffe86ad2623",
            "_model_module": "@jupyter-widgets/controls",
            "children": [
              "IPY_MODEL_97af913afdff4bffbaf70511c23a8dbb",
              "IPY_MODEL_12b7150fd50441d0b25eeb79278dd6f0",
              "IPY_MODEL_0a1c18aecec3415ca7facf3808e8fc44"
            ]
          }
        },
        "a48b329349754d698d317ffe86ad2623": {
          "model_module": "@jupyter-widgets/base",
          "model_name": "LayoutModel",
          "model_module_version": "1.2.0",
          "state": {
            "_view_name": "LayoutView",
            "grid_template_rows": null,
            "right": null,
            "justify_content": null,
            "_view_module": "@jupyter-widgets/base",
            "overflow": null,
            "_model_module_version": "1.2.0",
            "_view_count": null,
            "flex_flow": null,
            "width": null,
            "min_width": null,
            "border": null,
            "align_items": null,
            "bottom": null,
            "_model_module": "@jupyter-widgets/base",
            "top": null,
            "grid_column": null,
            "overflow_y": null,
            "overflow_x": null,
            "grid_auto_flow": null,
            "grid_area": null,
            "grid_template_columns": null,
            "flex": null,
            "_model_name": "LayoutModel",
            "justify_items": null,
            "grid_row": null,
            "max_height": null,
            "align_content": null,
            "visibility": null,
            "align_self": null,
            "height": null,
            "min_height": null,
            "padding": null,
            "grid_auto_rows": null,
            "grid_gap": null,
            "max_width": null,
            "order": null,
            "_view_module_version": "1.2.0",
            "grid_template_areas": null,
            "object_position": null,
            "object_fit": null,
            "grid_auto_columns": null,
            "margin": null,
            "display": null,
            "left": null
          }
        },
        "97af913afdff4bffbaf70511c23a8dbb": {
          "model_module": "@jupyter-widgets/controls",
          "model_name": "HTMLModel",
          "model_module_version": "1.5.0",
          "state": {
            "_view_name": "HTMLView",
            "style": "IPY_MODEL_a241380b9e014ad2ab6ef383f91550c5",
            "_dom_classes": [],
            "description": "",
            "_model_name": "HTMLModel",
            "placeholder": "​",
            "_view_module": "@jupyter-widgets/controls",
            "_model_module_version": "1.5.0",
            "value": "100%",
            "_view_count": null,
            "_view_module_version": "1.5.0",
            "description_tooltip": null,
            "_model_module": "@jupyter-widgets/controls",
            "layout": "IPY_MODEL_9219f347e49645729680b17c37af6751"
          }
        },
        "12b7150fd50441d0b25eeb79278dd6f0": {
          "model_module": "@jupyter-widgets/controls",
          "model_name": "FloatProgressModel",
          "model_module_version": "1.5.0",
          "state": {
            "_view_name": "ProgressView",
            "style": "IPY_MODEL_23266f5ba3ee4d1d8709062e6a0b21cb",
            "_dom_classes": [],
            "description": "",
            "_model_name": "FloatProgressModel",
            "bar_style": "success",
            "max": 1,
            "_view_module": "@jupyter-widgets/controls",
            "_model_module_version": "1.5.0",
            "value": 1,
            "_view_count": null,
            "_view_module_version": "1.5.0",
            "orientation": "horizontal",
            "min": 0,
            "description_tooltip": null,
            "_model_module": "@jupyter-widgets/controls",
            "layout": "IPY_MODEL_444c6179398749239a50a6f742243a4b"
          }
        },
        "0a1c18aecec3415ca7facf3808e8fc44": {
          "model_module": "@jupyter-widgets/controls",
          "model_name": "HTMLModel",
          "model_module_version": "1.5.0",
          "state": {
            "_view_name": "HTMLView",
            "style": "IPY_MODEL_24eee6d60d7a41859e291fc3b490a844",
            "_dom_classes": [],
            "description": "",
            "_model_name": "HTMLModel",
            "placeholder": "​",
            "_view_module": "@jupyter-widgets/controls",
            "_model_module_version": "1.5.0",
            "value": " 1/1 [00:00&lt;00:00,  4.09ba/s]",
            "_view_count": null,
            "_view_module_version": "1.5.0",
            "description_tooltip": null,
            "_model_module": "@jupyter-widgets/controls",
            "layout": "IPY_MODEL_75617938121645c4950f28f0b6f30ec5"
          }
        },
        "a241380b9e014ad2ab6ef383f91550c5": {
          "model_module": "@jupyter-widgets/controls",
          "model_name": "DescriptionStyleModel",
          "model_module_version": "1.5.0",
          "state": {
            "_view_name": "StyleView",
            "_model_name": "DescriptionStyleModel",
            "description_width": "",
            "_view_module": "@jupyter-widgets/base",
            "_model_module_version": "1.5.0",
            "_view_count": null,
            "_view_module_version": "1.2.0",
            "_model_module": "@jupyter-widgets/controls"
          }
        },
        "9219f347e49645729680b17c37af6751": {
          "model_module": "@jupyter-widgets/base",
          "model_name": "LayoutModel",
          "model_module_version": "1.2.0",
          "state": {
            "_view_name": "LayoutView",
            "grid_template_rows": null,
            "right": null,
            "justify_content": null,
            "_view_module": "@jupyter-widgets/base",
            "overflow": null,
            "_model_module_version": "1.2.0",
            "_view_count": null,
            "flex_flow": null,
            "width": null,
            "min_width": null,
            "border": null,
            "align_items": null,
            "bottom": null,
            "_model_module": "@jupyter-widgets/base",
            "top": null,
            "grid_column": null,
            "overflow_y": null,
            "overflow_x": null,
            "grid_auto_flow": null,
            "grid_area": null,
            "grid_template_columns": null,
            "flex": null,
            "_model_name": "LayoutModel",
            "justify_items": null,
            "grid_row": null,
            "max_height": null,
            "align_content": null,
            "visibility": null,
            "align_self": null,
            "height": null,
            "min_height": null,
            "padding": null,
            "grid_auto_rows": null,
            "grid_gap": null,
            "max_width": null,
            "order": null,
            "_view_module_version": "1.2.0",
            "grid_template_areas": null,
            "object_position": null,
            "object_fit": null,
            "grid_auto_columns": null,
            "margin": null,
            "display": null,
            "left": null
          }
        },
        "23266f5ba3ee4d1d8709062e6a0b21cb": {
          "model_module": "@jupyter-widgets/controls",
          "model_name": "ProgressStyleModel",
          "model_module_version": "1.5.0",
          "state": {
            "_view_name": "StyleView",
            "_model_name": "ProgressStyleModel",
            "description_width": "",
            "_view_module": "@jupyter-widgets/base",
            "_model_module_version": "1.5.0",
            "_view_count": null,
            "_view_module_version": "1.2.0",
            "bar_color": null,
            "_model_module": "@jupyter-widgets/controls"
          }
        },
        "444c6179398749239a50a6f742243a4b": {
          "model_module": "@jupyter-widgets/base",
          "model_name": "LayoutModel",
          "model_module_version": "1.2.0",
          "state": {
            "_view_name": "LayoutView",
            "grid_template_rows": null,
            "right": null,
            "justify_content": null,
            "_view_module": "@jupyter-widgets/base",
            "overflow": null,
            "_model_module_version": "1.2.0",
            "_view_count": null,
            "flex_flow": null,
            "width": null,
            "min_width": null,
            "border": null,
            "align_items": null,
            "bottom": null,
            "_model_module": "@jupyter-widgets/base",
            "top": null,
            "grid_column": null,
            "overflow_y": null,
            "overflow_x": null,
            "grid_auto_flow": null,
            "grid_area": null,
            "grid_template_columns": null,
            "flex": null,
            "_model_name": "LayoutModel",
            "justify_items": null,
            "grid_row": null,
            "max_height": null,
            "align_content": null,
            "visibility": null,
            "align_self": null,
            "height": null,
            "min_height": null,
            "padding": null,
            "grid_auto_rows": null,
            "grid_gap": null,
            "max_width": null,
            "order": null,
            "_view_module_version": "1.2.0",
            "grid_template_areas": null,
            "object_position": null,
            "object_fit": null,
            "grid_auto_columns": null,
            "margin": null,
            "display": null,
            "left": null
          }
        },
        "24eee6d60d7a41859e291fc3b490a844": {
          "model_module": "@jupyter-widgets/controls",
          "model_name": "DescriptionStyleModel",
          "model_module_version": "1.5.0",
          "state": {
            "_view_name": "StyleView",
            "_model_name": "DescriptionStyleModel",
            "description_width": "",
            "_view_module": "@jupyter-widgets/base",
            "_model_module_version": "1.5.0",
            "_view_count": null,
            "_view_module_version": "1.2.0",
            "_model_module": "@jupyter-widgets/controls"
          }
        },
        "75617938121645c4950f28f0b6f30ec5": {
          "model_module": "@jupyter-widgets/base",
          "model_name": "LayoutModel",
          "model_module_version": "1.2.0",
          "state": {
            "_view_name": "LayoutView",
            "grid_template_rows": null,
            "right": null,
            "justify_content": null,
            "_view_module": "@jupyter-widgets/base",
            "overflow": null,
            "_model_module_version": "1.2.0",
            "_view_count": null,
            "flex_flow": null,
            "width": null,
            "min_width": null,
            "border": null,
            "align_items": null,
            "bottom": null,
            "_model_module": "@jupyter-widgets/base",
            "top": null,
            "grid_column": null,
            "overflow_y": null,
            "overflow_x": null,
            "grid_auto_flow": null,
            "grid_area": null,
            "grid_template_columns": null,
            "flex": null,
            "_model_name": "LayoutModel",
            "justify_items": null,
            "grid_row": null,
            "max_height": null,
            "align_content": null,
            "visibility": null,
            "align_self": null,
            "height": null,
            "min_height": null,
            "padding": null,
            "grid_auto_rows": null,
            "grid_gap": null,
            "max_width": null,
            "order": null,
            "_view_module_version": "1.2.0",
            "grid_template_areas": null,
            "object_position": null,
            "object_fit": null,
            "grid_auto_columns": null,
            "margin": null,
            "display": null,
            "left": null
          }
        },
        "242ba42cef21459a815a6deddd936765": {
          "model_module": "@jupyter-widgets/controls",
          "model_name": "HBoxModel",
          "model_module_version": "1.5.0",
          "state": {
            "_view_name": "HBoxView",
            "_dom_classes": [],
            "_model_name": "HBoxModel",
            "_view_module": "@jupyter-widgets/controls",
            "_model_module_version": "1.5.0",
            "_view_count": null,
            "_view_module_version": "1.5.0",
            "box_style": "",
            "layout": "IPY_MODEL_5f132b0469ce4abb925c45a8f4098ac5",
            "_model_module": "@jupyter-widgets/controls",
            "children": [
              "IPY_MODEL_d5c78ff209874dc5bc4e290665ca8124",
              "IPY_MODEL_26a65c1853784830ba98f717d64afc2d",
              "IPY_MODEL_057c607e8beb441baec7ea3d21652ad9"
            ]
          }
        },
        "5f132b0469ce4abb925c45a8f4098ac5": {
          "model_module": "@jupyter-widgets/base",
          "model_name": "LayoutModel",
          "model_module_version": "1.2.0",
          "state": {
            "_view_name": "LayoutView",
            "grid_template_rows": null,
            "right": null,
            "justify_content": null,
            "_view_module": "@jupyter-widgets/base",
            "overflow": null,
            "_model_module_version": "1.2.0",
            "_view_count": null,
            "flex_flow": null,
            "width": null,
            "min_width": null,
            "border": null,
            "align_items": null,
            "bottom": null,
            "_model_module": "@jupyter-widgets/base",
            "top": null,
            "grid_column": null,
            "overflow_y": null,
            "overflow_x": null,
            "grid_auto_flow": null,
            "grid_area": null,
            "grid_template_columns": null,
            "flex": null,
            "_model_name": "LayoutModel",
            "justify_items": null,
            "grid_row": null,
            "max_height": null,
            "align_content": null,
            "visibility": null,
            "align_self": null,
            "height": null,
            "min_height": null,
            "padding": null,
            "grid_auto_rows": null,
            "grid_gap": null,
            "max_width": null,
            "order": null,
            "_view_module_version": "1.2.0",
            "grid_template_areas": null,
            "object_position": null,
            "object_fit": null,
            "grid_auto_columns": null,
            "margin": null,
            "display": null,
            "left": null
          }
        },
        "d5c78ff209874dc5bc4e290665ca8124": {
          "model_module": "@jupyter-widgets/controls",
          "model_name": "HTMLModel",
          "model_module_version": "1.5.0",
          "state": {
            "_view_name": "HTMLView",
            "style": "IPY_MODEL_8546dcdc11de4fca82236b7699eb5e29",
            "_dom_classes": [],
            "description": "",
            "_model_name": "HTMLModel",
            "placeholder": "​",
            "_view_module": "@jupyter-widgets/controls",
            "_model_module_version": "1.5.0",
            "value": "Downloading: 100%",
            "_view_count": null,
            "_view_module_version": "1.5.0",
            "description_tooltip": null,
            "_model_module": "@jupyter-widgets/controls",
            "layout": "IPY_MODEL_2995648ccdbf4effa7c0fbe88a01114d"
          }
        },
        "26a65c1853784830ba98f717d64afc2d": {
          "model_module": "@jupyter-widgets/controls",
          "model_name": "FloatProgressModel",
          "model_module_version": "1.5.0",
          "state": {
            "_view_name": "ProgressView",
            "style": "IPY_MODEL_99c969be31ef43ccbf92def0b2ab26ac",
            "_dom_classes": [],
            "description": "",
            "_model_name": "FloatProgressModel",
            "bar_style": "success",
            "max": 467042463,
            "_view_module": "@jupyter-widgets/controls",
            "_model_module_version": "1.5.0",
            "value": 467042463,
            "_view_count": null,
            "_view_module_version": "1.5.0",
            "orientation": "horizontal",
            "min": 0,
            "description_tooltip": null,
            "_model_module": "@jupyter-widgets/controls",
            "layout": "IPY_MODEL_7f1f38c849084ec481e910b24c2eab01"
          }
        },
        "057c607e8beb441baec7ea3d21652ad9": {
          "model_module": "@jupyter-widgets/controls",
          "model_name": "HTMLModel",
          "model_module_version": "1.5.0",
          "state": {
            "_view_name": "HTMLView",
            "style": "IPY_MODEL_840ec60372f6474fb495aa7222fe107a",
            "_dom_classes": [],
            "description": "",
            "_model_name": "HTMLModel",
            "placeholder": "​",
            "_view_module": "@jupyter-widgets/controls",
            "_model_module_version": "1.5.0",
            "value": " 445M/445M [00:10&lt;00:00, 22.6MB/s]",
            "_view_count": null,
            "_view_module_version": "1.5.0",
            "description_tooltip": null,
            "_model_module": "@jupyter-widgets/controls",
            "layout": "IPY_MODEL_1132afbe541a42e1b1d4891246281910"
          }
        },
        "8546dcdc11de4fca82236b7699eb5e29": {
          "model_module": "@jupyter-widgets/controls",
          "model_name": "DescriptionStyleModel",
          "model_module_version": "1.5.0",
          "state": {
            "_view_name": "StyleView",
            "_model_name": "DescriptionStyleModel",
            "description_width": "",
            "_view_module": "@jupyter-widgets/base",
            "_model_module_version": "1.5.0",
            "_view_count": null,
            "_view_module_version": "1.2.0",
            "_model_module": "@jupyter-widgets/controls"
          }
        },
        "2995648ccdbf4effa7c0fbe88a01114d": {
          "model_module": "@jupyter-widgets/base",
          "model_name": "LayoutModel",
          "model_module_version": "1.2.0",
          "state": {
            "_view_name": "LayoutView",
            "grid_template_rows": null,
            "right": null,
            "justify_content": null,
            "_view_module": "@jupyter-widgets/base",
            "overflow": null,
            "_model_module_version": "1.2.0",
            "_view_count": null,
            "flex_flow": null,
            "width": null,
            "min_width": null,
            "border": null,
            "align_items": null,
            "bottom": null,
            "_model_module": "@jupyter-widgets/base",
            "top": null,
            "grid_column": null,
            "overflow_y": null,
            "overflow_x": null,
            "grid_auto_flow": null,
            "grid_area": null,
            "grid_template_columns": null,
            "flex": null,
            "_model_name": "LayoutModel",
            "justify_items": null,
            "grid_row": null,
            "max_height": null,
            "align_content": null,
            "visibility": null,
            "align_self": null,
            "height": null,
            "min_height": null,
            "padding": null,
            "grid_auto_rows": null,
            "grid_gap": null,
            "max_width": null,
            "order": null,
            "_view_module_version": "1.2.0",
            "grid_template_areas": null,
            "object_position": null,
            "object_fit": null,
            "grid_auto_columns": null,
            "margin": null,
            "display": null,
            "left": null
          }
        },
        "99c969be31ef43ccbf92def0b2ab26ac": {
          "model_module": "@jupyter-widgets/controls",
          "model_name": "ProgressStyleModel",
          "model_module_version": "1.5.0",
          "state": {
            "_view_name": "StyleView",
            "_model_name": "ProgressStyleModel",
            "description_width": "",
            "_view_module": "@jupyter-widgets/base",
            "_model_module_version": "1.5.0",
            "_view_count": null,
            "_view_module_version": "1.2.0",
            "bar_color": null,
            "_model_module": "@jupyter-widgets/controls"
          }
        },
        "7f1f38c849084ec481e910b24c2eab01": {
          "model_module": "@jupyter-widgets/base",
          "model_name": "LayoutModel",
          "model_module_version": "1.2.0",
          "state": {
            "_view_name": "LayoutView",
            "grid_template_rows": null,
            "right": null,
            "justify_content": null,
            "_view_module": "@jupyter-widgets/base",
            "overflow": null,
            "_model_module_version": "1.2.0",
            "_view_count": null,
            "flex_flow": null,
            "width": null,
            "min_width": null,
            "border": null,
            "align_items": null,
            "bottom": null,
            "_model_module": "@jupyter-widgets/base",
            "top": null,
            "grid_column": null,
            "overflow_y": null,
            "overflow_x": null,
            "grid_auto_flow": null,
            "grid_area": null,
            "grid_template_columns": null,
            "flex": null,
            "_model_name": "LayoutModel",
            "justify_items": null,
            "grid_row": null,
            "max_height": null,
            "align_content": null,
            "visibility": null,
            "align_self": null,
            "height": null,
            "min_height": null,
            "padding": null,
            "grid_auto_rows": null,
            "grid_gap": null,
            "max_width": null,
            "order": null,
            "_view_module_version": "1.2.0",
            "grid_template_areas": null,
            "object_position": null,
            "object_fit": null,
            "grid_auto_columns": null,
            "margin": null,
            "display": null,
            "left": null
          }
        },
        "840ec60372f6474fb495aa7222fe107a": {
          "model_module": "@jupyter-widgets/controls",
          "model_name": "DescriptionStyleModel",
          "model_module_version": "1.5.0",
          "state": {
            "_view_name": "StyleView",
            "_model_name": "DescriptionStyleModel",
            "description_width": "",
            "_view_module": "@jupyter-widgets/base",
            "_model_module_version": "1.5.0",
            "_view_count": null,
            "_view_module_version": "1.2.0",
            "_model_module": "@jupyter-widgets/controls"
          }
        },
        "1132afbe541a42e1b1d4891246281910": {
          "model_module": "@jupyter-widgets/base",
          "model_name": "LayoutModel",
          "model_module_version": "1.2.0",
          "state": {
            "_view_name": "LayoutView",
            "grid_template_rows": null,
            "right": null,
            "justify_content": null,
            "_view_module": "@jupyter-widgets/base",
            "overflow": null,
            "_model_module_version": "1.2.0",
            "_view_count": null,
            "flex_flow": null,
            "width": null,
            "min_width": null,
            "border": null,
            "align_items": null,
            "bottom": null,
            "_model_module": "@jupyter-widgets/base",
            "top": null,
            "grid_column": null,
            "overflow_y": null,
            "overflow_x": null,
            "grid_auto_flow": null,
            "grid_area": null,
            "grid_template_columns": null,
            "flex": null,
            "_model_name": "LayoutModel",
            "justify_items": null,
            "grid_row": null,
            "max_height": null,
            "align_content": null,
            "visibility": null,
            "align_self": null,
            "height": null,
            "min_height": null,
            "padding": null,
            "grid_auto_rows": null,
            "grid_gap": null,
            "max_width": null,
            "order": null,
            "_view_module_version": "1.2.0",
            "grid_template_areas": null,
            "object_position": null,
            "object_fit": null,
            "grid_auto_columns": null,
            "margin": null,
            "display": null,
            "left": null
          }
        },
        "9744198078694f84ad39852fe93a7c5d": {
          "model_module": "@jupyter-widgets/controls",
          "model_name": "HBoxModel",
          "model_module_version": "1.5.0",
          "state": {
            "_view_name": "HBoxView",
            "_dom_classes": [],
            "_model_name": "HBoxModel",
            "_view_module": "@jupyter-widgets/controls",
            "_model_module_version": "1.5.0",
            "_view_count": null,
            "_view_module_version": "1.5.0",
            "box_style": "",
            "layout": "IPY_MODEL_fa8ef9075fb545eb8b9231b3ec7a5d71",
            "_model_module": "@jupyter-widgets/controls",
            "children": [
              "IPY_MODEL_adfe2496efd24a3494c07fa3ceebd48f",
              "IPY_MODEL_fa85d859fe0441698175ea89fe6ffd92",
              "IPY_MODEL_b7e07f81978148488dc890e58d8498f8"
            ]
          }
        },
        "fa8ef9075fb545eb8b9231b3ec7a5d71": {
          "model_module": "@jupyter-widgets/base",
          "model_name": "LayoutModel",
          "model_module_version": "1.2.0",
          "state": {
            "_view_name": "LayoutView",
            "grid_template_rows": null,
            "right": null,
            "justify_content": null,
            "_view_module": "@jupyter-widgets/base",
            "overflow": null,
            "_model_module_version": "1.2.0",
            "_view_count": null,
            "flex_flow": null,
            "width": null,
            "min_width": null,
            "border": null,
            "align_items": null,
            "bottom": null,
            "_model_module": "@jupyter-widgets/base",
            "top": null,
            "grid_column": null,
            "overflow_y": null,
            "overflow_x": null,
            "grid_auto_flow": null,
            "grid_area": null,
            "grid_template_columns": null,
            "flex": null,
            "_model_name": "LayoutModel",
            "justify_items": null,
            "grid_row": null,
            "max_height": null,
            "align_content": null,
            "visibility": null,
            "align_self": null,
            "height": null,
            "min_height": null,
            "padding": null,
            "grid_auto_rows": null,
            "grid_gap": null,
            "max_width": null,
            "order": null,
            "_view_module_version": "1.2.0",
            "grid_template_areas": null,
            "object_position": null,
            "object_fit": null,
            "grid_auto_columns": null,
            "margin": null,
            "display": null,
            "left": null
          }
        },
        "adfe2496efd24a3494c07fa3ceebd48f": {
          "model_module": "@jupyter-widgets/controls",
          "model_name": "HTMLModel",
          "model_module_version": "1.5.0",
          "state": {
            "_view_name": "HTMLView",
            "style": "IPY_MODEL_ec2ba907db504f188330b6c59dd52248",
            "_dom_classes": [],
            "description": "",
            "_model_name": "HTMLModel",
            "placeholder": "​",
            "_view_module": "@jupyter-widgets/controls",
            "_model_module_version": "1.5.0",
            "value": "100%",
            "_view_count": null,
            "_view_module_version": "1.5.0",
            "description_tooltip": null,
            "_model_module": "@jupyter-widgets/controls",
            "layout": "IPY_MODEL_45c22054b6fc4994ae58b2656e77e359"
          }
        },
        "fa85d859fe0441698175ea89fe6ffd92": {
          "model_module": "@jupyter-widgets/controls",
          "model_name": "FloatProgressModel",
          "model_module_version": "1.5.0",
          "state": {
            "_view_name": "ProgressView",
            "style": "IPY_MODEL_281a8af3f9c74de38f7124ad34e368e9",
            "_dom_classes": [],
            "description": "",
            "_model_name": "FloatProgressModel",
            "bar_style": "success",
            "max": 1,
            "_view_module": "@jupyter-widgets/controls",
            "_model_module_version": "1.5.0",
            "value": 1,
            "_view_count": null,
            "_view_module_version": "1.5.0",
            "orientation": "horizontal",
            "min": 0,
            "description_tooltip": null,
            "_model_module": "@jupyter-widgets/controls",
            "layout": "IPY_MODEL_8227e263c1ef4da6a2702d2cd6047fef"
          }
        },
        "b7e07f81978148488dc890e58d8498f8": {
          "model_module": "@jupyter-widgets/controls",
          "model_name": "HTMLModel",
          "model_module_version": "1.5.0",
          "state": {
            "_view_name": "HTMLView",
            "style": "IPY_MODEL_e1b5ec96aaa546e5ae910beced4f4b9f",
            "_dom_classes": [],
            "description": "",
            "_model_name": "HTMLModel",
            "placeholder": "​",
            "_view_module": "@jupyter-widgets/controls",
            "_model_module_version": "1.5.0",
            "value": " 1/1 [00:01&lt;00:00,  1.86s/ba]",
            "_view_count": null,
            "_view_module_version": "1.5.0",
            "description_tooltip": null,
            "_model_module": "@jupyter-widgets/controls",
            "layout": "IPY_MODEL_33fd6bc74b3142829f8f477d8825b039"
          }
        },
        "ec2ba907db504f188330b6c59dd52248": {
          "model_module": "@jupyter-widgets/controls",
          "model_name": "DescriptionStyleModel",
          "model_module_version": "1.5.0",
          "state": {
            "_view_name": "StyleView",
            "_model_name": "DescriptionStyleModel",
            "description_width": "",
            "_view_module": "@jupyter-widgets/base",
            "_model_module_version": "1.5.0",
            "_view_count": null,
            "_view_module_version": "1.2.0",
            "_model_module": "@jupyter-widgets/controls"
          }
        },
        "45c22054b6fc4994ae58b2656e77e359": {
          "model_module": "@jupyter-widgets/base",
          "model_name": "LayoutModel",
          "model_module_version": "1.2.0",
          "state": {
            "_view_name": "LayoutView",
            "grid_template_rows": null,
            "right": null,
            "justify_content": null,
            "_view_module": "@jupyter-widgets/base",
            "overflow": null,
            "_model_module_version": "1.2.0",
            "_view_count": null,
            "flex_flow": null,
            "width": null,
            "min_width": null,
            "border": null,
            "align_items": null,
            "bottom": null,
            "_model_module": "@jupyter-widgets/base",
            "top": null,
            "grid_column": null,
            "overflow_y": null,
            "overflow_x": null,
            "grid_auto_flow": null,
            "grid_area": null,
            "grid_template_columns": null,
            "flex": null,
            "_model_name": "LayoutModel",
            "justify_items": null,
            "grid_row": null,
            "max_height": null,
            "align_content": null,
            "visibility": null,
            "align_self": null,
            "height": null,
            "min_height": null,
            "padding": null,
            "grid_auto_rows": null,
            "grid_gap": null,
            "max_width": null,
            "order": null,
            "_view_module_version": "1.2.0",
            "grid_template_areas": null,
            "object_position": null,
            "object_fit": null,
            "grid_auto_columns": null,
            "margin": null,
            "display": null,
            "left": null
          }
        },
        "281a8af3f9c74de38f7124ad34e368e9": {
          "model_module": "@jupyter-widgets/controls",
          "model_name": "ProgressStyleModel",
          "model_module_version": "1.5.0",
          "state": {
            "_view_name": "StyleView",
            "_model_name": "ProgressStyleModel",
            "description_width": "",
            "_view_module": "@jupyter-widgets/base",
            "_model_module_version": "1.5.0",
            "_view_count": null,
            "_view_module_version": "1.2.0",
            "bar_color": null,
            "_model_module": "@jupyter-widgets/controls"
          }
        },
        "8227e263c1ef4da6a2702d2cd6047fef": {
          "model_module": "@jupyter-widgets/base",
          "model_name": "LayoutModel",
          "model_module_version": "1.2.0",
          "state": {
            "_view_name": "LayoutView",
            "grid_template_rows": null,
            "right": null,
            "justify_content": null,
            "_view_module": "@jupyter-widgets/base",
            "overflow": null,
            "_model_module_version": "1.2.0",
            "_view_count": null,
            "flex_flow": null,
            "width": null,
            "min_width": null,
            "border": null,
            "align_items": null,
            "bottom": null,
            "_model_module": "@jupyter-widgets/base",
            "top": null,
            "grid_column": null,
            "overflow_y": null,
            "overflow_x": null,
            "grid_auto_flow": null,
            "grid_area": null,
            "grid_template_columns": null,
            "flex": null,
            "_model_name": "LayoutModel",
            "justify_items": null,
            "grid_row": null,
            "max_height": null,
            "align_content": null,
            "visibility": null,
            "align_self": null,
            "height": null,
            "min_height": null,
            "padding": null,
            "grid_auto_rows": null,
            "grid_gap": null,
            "max_width": null,
            "order": null,
            "_view_module_version": "1.2.0",
            "grid_template_areas": null,
            "object_position": null,
            "object_fit": null,
            "grid_auto_columns": null,
            "margin": null,
            "display": null,
            "left": null
          }
        },
        "e1b5ec96aaa546e5ae910beced4f4b9f": {
          "model_module": "@jupyter-widgets/controls",
          "model_name": "DescriptionStyleModel",
          "model_module_version": "1.5.0",
          "state": {
            "_view_name": "StyleView",
            "_model_name": "DescriptionStyleModel",
            "description_width": "",
            "_view_module": "@jupyter-widgets/base",
            "_model_module_version": "1.5.0",
            "_view_count": null,
            "_view_module_version": "1.2.0",
            "_model_module": "@jupyter-widgets/controls"
          }
        },
        "33fd6bc74b3142829f8f477d8825b039": {
          "model_module": "@jupyter-widgets/base",
          "model_name": "LayoutModel",
          "model_module_version": "1.2.0",
          "state": {
            "_view_name": "LayoutView",
            "grid_template_rows": null,
            "right": null,
            "justify_content": null,
            "_view_module": "@jupyter-widgets/base",
            "overflow": null,
            "_model_module_version": "1.2.0",
            "_view_count": null,
            "flex_flow": null,
            "width": null,
            "min_width": null,
            "border": null,
            "align_items": null,
            "bottom": null,
            "_model_module": "@jupyter-widgets/base",
            "top": null,
            "grid_column": null,
            "overflow_y": null,
            "overflow_x": null,
            "grid_auto_flow": null,
            "grid_area": null,
            "grid_template_columns": null,
            "flex": null,
            "_model_name": "LayoutModel",
            "justify_items": null,
            "grid_row": null,
            "max_height": null,
            "align_content": null,
            "visibility": null,
            "align_self": null,
            "height": null,
            "min_height": null,
            "padding": null,
            "grid_auto_rows": null,
            "grid_gap": null,
            "max_width": null,
            "order": null,
            "_view_module_version": "1.2.0",
            "grid_template_areas": null,
            "object_position": null,
            "object_fit": null,
            "grid_auto_columns": null,
            "margin": null,
            "display": null,
            "left": null
          }
        },
        "02c4d1b5b7264de7abf57a517f905f21": {
          "model_module": "@jupyter-widgets/controls",
          "model_name": "HBoxModel",
          "model_module_version": "1.5.0",
          "state": {
            "_view_name": "HBoxView",
            "_dom_classes": [],
            "_model_name": "HBoxModel",
            "_view_module": "@jupyter-widgets/controls",
            "_model_module_version": "1.5.0",
            "_view_count": null,
            "_view_module_version": "1.5.0",
            "box_style": "",
            "layout": "IPY_MODEL_96dbcca35d2647fb81acdbfe63323d3f",
            "_model_module": "@jupyter-widgets/controls",
            "children": [
              "IPY_MODEL_c01d588b499e497ba467e66e91375540",
              "IPY_MODEL_91406defc2f74cc484a80bdf39b73db0",
              "IPY_MODEL_e5724b6ce0f84229988dd5ee4b37fbfc"
            ]
          }
        },
        "96dbcca35d2647fb81acdbfe63323d3f": {
          "model_module": "@jupyter-widgets/base",
          "model_name": "LayoutModel",
          "model_module_version": "1.2.0",
          "state": {
            "_view_name": "LayoutView",
            "grid_template_rows": null,
            "right": null,
            "justify_content": null,
            "_view_module": "@jupyter-widgets/base",
            "overflow": null,
            "_model_module_version": "1.2.0",
            "_view_count": null,
            "flex_flow": null,
            "width": null,
            "min_width": null,
            "border": null,
            "align_items": null,
            "bottom": null,
            "_model_module": "@jupyter-widgets/base",
            "top": null,
            "grid_column": null,
            "overflow_y": null,
            "overflow_x": null,
            "grid_auto_flow": null,
            "grid_area": null,
            "grid_template_columns": null,
            "flex": null,
            "_model_name": "LayoutModel",
            "justify_items": null,
            "grid_row": null,
            "max_height": null,
            "align_content": null,
            "visibility": null,
            "align_self": null,
            "height": null,
            "min_height": null,
            "padding": null,
            "grid_auto_rows": null,
            "grid_gap": null,
            "max_width": null,
            "order": null,
            "_view_module_version": "1.2.0",
            "grid_template_areas": null,
            "object_position": null,
            "object_fit": null,
            "grid_auto_columns": null,
            "margin": null,
            "display": null,
            "left": null
          }
        },
        "c01d588b499e497ba467e66e91375540": {
          "model_module": "@jupyter-widgets/controls",
          "model_name": "HTMLModel",
          "model_module_version": "1.5.0",
          "state": {
            "_view_name": "HTMLView",
            "style": "IPY_MODEL_a9e0ffb29cb84f18b200f51d0c154e18",
            "_dom_classes": [],
            "description": "",
            "_model_name": "HTMLModel",
            "placeholder": "​",
            "_view_module": "@jupyter-widgets/controls",
            "_model_module_version": "1.5.0",
            "value": "100%",
            "_view_count": null,
            "_view_module_version": "1.5.0",
            "description_tooltip": null,
            "_model_module": "@jupyter-widgets/controls",
            "layout": "IPY_MODEL_5d7811c18cd74398acf543aa05a6af5b"
          }
        },
        "91406defc2f74cc484a80bdf39b73db0": {
          "model_module": "@jupyter-widgets/controls",
          "model_name": "FloatProgressModel",
          "model_module_version": "1.5.0",
          "state": {
            "_view_name": "ProgressView",
            "style": "IPY_MODEL_d43b33a86abd429eb0baf9d23b77f708",
            "_dom_classes": [],
            "description": "",
            "_model_name": "FloatProgressModel",
            "bar_style": "success",
            "max": 19,
            "_view_module": "@jupyter-widgets/controls",
            "_model_module_version": "1.5.0",
            "value": 19,
            "_view_count": null,
            "_view_module_version": "1.5.0",
            "orientation": "horizontal",
            "min": 0,
            "description_tooltip": null,
            "_model_module": "@jupyter-widgets/controls",
            "layout": "IPY_MODEL_1279fbfd674c4978a936b6d67329d29f"
          }
        },
        "e5724b6ce0f84229988dd5ee4b37fbfc": {
          "model_module": "@jupyter-widgets/controls",
          "model_name": "HTMLModel",
          "model_module_version": "1.5.0",
          "state": {
            "_view_name": "HTMLView",
            "style": "IPY_MODEL_93e592e6171d4ce193a59f376a0b4918",
            "_dom_classes": [],
            "description": "",
            "_model_name": "HTMLModel",
            "placeholder": "​",
            "_view_module": "@jupyter-widgets/controls",
            "_model_module_version": "1.5.0",
            "value": " 19/19 [00:01&lt;00:00, 17.78it/s]",
            "_view_count": null,
            "_view_module_version": "1.5.0",
            "description_tooltip": null,
            "_model_module": "@jupyter-widgets/controls",
            "layout": "IPY_MODEL_4e1cfb748f7c44e993d3fa11c8f0cff2"
          }
        },
        "a9e0ffb29cb84f18b200f51d0c154e18": {
          "model_module": "@jupyter-widgets/controls",
          "model_name": "DescriptionStyleModel",
          "model_module_version": "1.5.0",
          "state": {
            "_view_name": "StyleView",
            "_model_name": "DescriptionStyleModel",
            "description_width": "",
            "_view_module": "@jupyter-widgets/base",
            "_model_module_version": "1.5.0",
            "_view_count": null,
            "_view_module_version": "1.2.0",
            "_model_module": "@jupyter-widgets/controls"
          }
        },
        "5d7811c18cd74398acf543aa05a6af5b": {
          "model_module": "@jupyter-widgets/base",
          "model_name": "LayoutModel",
          "model_module_version": "1.2.0",
          "state": {
            "_view_name": "LayoutView",
            "grid_template_rows": null,
            "right": null,
            "justify_content": null,
            "_view_module": "@jupyter-widgets/base",
            "overflow": null,
            "_model_module_version": "1.2.0",
            "_view_count": null,
            "flex_flow": null,
            "width": null,
            "min_width": null,
            "border": null,
            "align_items": null,
            "bottom": null,
            "_model_module": "@jupyter-widgets/base",
            "top": null,
            "grid_column": null,
            "overflow_y": null,
            "overflow_x": null,
            "grid_auto_flow": null,
            "grid_area": null,
            "grid_template_columns": null,
            "flex": null,
            "_model_name": "LayoutModel",
            "justify_items": null,
            "grid_row": null,
            "max_height": null,
            "align_content": null,
            "visibility": null,
            "align_self": null,
            "height": null,
            "min_height": null,
            "padding": null,
            "grid_auto_rows": null,
            "grid_gap": null,
            "max_width": null,
            "order": null,
            "_view_module_version": "1.2.0",
            "grid_template_areas": null,
            "object_position": null,
            "object_fit": null,
            "grid_auto_columns": null,
            "margin": null,
            "display": null,
            "left": null
          }
        },
        "d43b33a86abd429eb0baf9d23b77f708": {
          "model_module": "@jupyter-widgets/controls",
          "model_name": "ProgressStyleModel",
          "model_module_version": "1.5.0",
          "state": {
            "_view_name": "StyleView",
            "_model_name": "ProgressStyleModel",
            "description_width": "",
            "_view_module": "@jupyter-widgets/base",
            "_model_module_version": "1.5.0",
            "_view_count": null,
            "_view_module_version": "1.2.0",
            "bar_color": null,
            "_model_module": "@jupyter-widgets/controls"
          }
        },
        "1279fbfd674c4978a936b6d67329d29f": {
          "model_module": "@jupyter-widgets/base",
          "model_name": "LayoutModel",
          "model_module_version": "1.2.0",
          "state": {
            "_view_name": "LayoutView",
            "grid_template_rows": null,
            "right": null,
            "justify_content": null,
            "_view_module": "@jupyter-widgets/base",
            "overflow": null,
            "_model_module_version": "1.2.0",
            "_view_count": null,
            "flex_flow": null,
            "width": null,
            "min_width": null,
            "border": null,
            "align_items": null,
            "bottom": null,
            "_model_module": "@jupyter-widgets/base",
            "top": null,
            "grid_column": null,
            "overflow_y": null,
            "overflow_x": null,
            "grid_auto_flow": null,
            "grid_area": null,
            "grid_template_columns": null,
            "flex": null,
            "_model_name": "LayoutModel",
            "justify_items": null,
            "grid_row": null,
            "max_height": null,
            "align_content": null,
            "visibility": null,
            "align_self": null,
            "height": null,
            "min_height": null,
            "padding": null,
            "grid_auto_rows": null,
            "grid_gap": null,
            "max_width": null,
            "order": null,
            "_view_module_version": "1.2.0",
            "grid_template_areas": null,
            "object_position": null,
            "object_fit": null,
            "grid_auto_columns": null,
            "margin": null,
            "display": null,
            "left": null
          }
        },
        "93e592e6171d4ce193a59f376a0b4918": {
          "model_module": "@jupyter-widgets/controls",
          "model_name": "DescriptionStyleModel",
          "model_module_version": "1.5.0",
          "state": {
            "_view_name": "StyleView",
            "_model_name": "DescriptionStyleModel",
            "description_width": "",
            "_view_module": "@jupyter-widgets/base",
            "_model_module_version": "1.5.0",
            "_view_count": null,
            "_view_module_version": "1.2.0",
            "_model_module": "@jupyter-widgets/controls"
          }
        },
        "4e1cfb748f7c44e993d3fa11c8f0cff2": {
          "model_module": "@jupyter-widgets/base",
          "model_name": "LayoutModel",
          "model_module_version": "1.2.0",
          "state": {
            "_view_name": "LayoutView",
            "grid_template_rows": null,
            "right": null,
            "justify_content": null,
            "_view_module": "@jupyter-widgets/base",
            "overflow": null,
            "_model_module_version": "1.2.0",
            "_view_count": null,
            "flex_flow": null,
            "width": null,
            "min_width": null,
            "border": null,
            "align_items": null,
            "bottom": null,
            "_model_module": "@jupyter-widgets/base",
            "top": null,
            "grid_column": null,
            "overflow_y": null,
            "overflow_x": null,
            "grid_auto_flow": null,
            "grid_area": null,
            "grid_template_columns": null,
            "flex": null,
            "_model_name": "LayoutModel",
            "justify_items": null,
            "grid_row": null,
            "max_height": null,
            "align_content": null,
            "visibility": null,
            "align_self": null,
            "height": null,
            "min_height": null,
            "padding": null,
            "grid_auto_rows": null,
            "grid_gap": null,
            "max_width": null,
            "order": null,
            "_view_module_version": "1.2.0",
            "grid_template_areas": null,
            "object_position": null,
            "object_fit": null,
            "grid_auto_columns": null,
            "margin": null,
            "display": null,
            "left": null
          }
        },
        "9f1d6f5ebc6844d59e112b2b873982e7": {
          "model_module": "@jupyter-widgets/controls",
          "model_name": "HBoxModel",
          "model_module_version": "1.5.0",
          "state": {
            "_view_name": "HBoxView",
            "_dom_classes": [],
            "_model_name": "HBoxModel",
            "_view_module": "@jupyter-widgets/controls",
            "_model_module_version": "1.5.0",
            "_view_count": null,
            "_view_module_version": "1.5.0",
            "box_style": "",
            "layout": "IPY_MODEL_e4ff6be44e834548946d1b758f43d315",
            "_model_module": "@jupyter-widgets/controls",
            "children": [
              "IPY_MODEL_14dbb0230b2146cf905bbd113ec9722d",
              "IPY_MODEL_2591ef2c259c45e3abc409f3b7eb1886",
              "IPY_MODEL_ab5bbe58503347198a43c40fbb991405"
            ]
          }
        },
        "e4ff6be44e834548946d1b758f43d315": {
          "model_module": "@jupyter-widgets/base",
          "model_name": "LayoutModel",
          "model_module_version": "1.2.0",
          "state": {
            "_view_name": "LayoutView",
            "grid_template_rows": null,
            "right": null,
            "justify_content": null,
            "_view_module": "@jupyter-widgets/base",
            "overflow": null,
            "_model_module_version": "1.2.0",
            "_view_count": null,
            "flex_flow": null,
            "width": null,
            "min_width": null,
            "border": null,
            "align_items": null,
            "bottom": null,
            "_model_module": "@jupyter-widgets/base",
            "top": null,
            "grid_column": null,
            "overflow_y": null,
            "overflow_x": null,
            "grid_auto_flow": null,
            "grid_area": null,
            "grid_template_columns": null,
            "flex": null,
            "_model_name": "LayoutModel",
            "justify_items": null,
            "grid_row": null,
            "max_height": null,
            "align_content": null,
            "visibility": null,
            "align_self": null,
            "height": null,
            "min_height": null,
            "padding": null,
            "grid_auto_rows": null,
            "grid_gap": null,
            "max_width": null,
            "order": null,
            "_view_module_version": "1.2.0",
            "grid_template_areas": null,
            "object_position": null,
            "object_fit": null,
            "grid_auto_columns": null,
            "margin": null,
            "display": null,
            "left": null
          }
        },
        "14dbb0230b2146cf905bbd113ec9722d": {
          "model_module": "@jupyter-widgets/controls",
          "model_name": "HTMLModel",
          "model_module_version": "1.5.0",
          "state": {
            "_view_name": "HTMLView",
            "style": "IPY_MODEL_7c93257b80574e569153a59794727452",
            "_dom_classes": [],
            "description": "",
            "_model_name": "HTMLModel",
            "placeholder": "​",
            "_view_module": "@jupyter-widgets/controls",
            "_model_module_version": "1.5.0",
            "value": "Downloading: ",
            "_view_count": null,
            "_view_module_version": "1.5.0",
            "description_tooltip": null,
            "_model_module": "@jupyter-widgets/controls",
            "layout": "IPY_MODEL_77e2c8a6ecda47e2a2f9bf46f0e3c40c"
          }
        },
        "2591ef2c259c45e3abc409f3b7eb1886": {
          "model_module": "@jupyter-widgets/controls",
          "model_name": "FloatProgressModel",
          "model_module_version": "1.5.0",
          "state": {
            "_view_name": "ProgressView",
            "style": "IPY_MODEL_cd5a1dbd5f2f4967a947de8a636fbf4e",
            "_dom_classes": [],
            "description": "",
            "_model_name": "FloatProgressModel",
            "bar_style": "success",
            "max": 2264,
            "_view_module": "@jupyter-widgets/controls",
            "_model_module_version": "1.5.0",
            "value": 2264,
            "_view_count": null,
            "_view_module_version": "1.5.0",
            "orientation": "horizontal",
            "min": 0,
            "description_tooltip": null,
            "_model_module": "@jupyter-widgets/controls",
            "layout": "IPY_MODEL_f407c6dd004b46edb98586ee81aeb590"
          }
        },
        "ab5bbe58503347198a43c40fbb991405": {
          "model_module": "@jupyter-widgets/controls",
          "model_name": "HTMLModel",
          "model_module_version": "1.5.0",
          "state": {
            "_view_name": "HTMLView",
            "style": "IPY_MODEL_ff5b2048ef884bf7bd3de8d978dd5f72",
            "_dom_classes": [],
            "description": "",
            "_model_name": "HTMLModel",
            "placeholder": "​",
            "_view_module": "@jupyter-widgets/controls",
            "_model_module_version": "1.5.0",
            "value": " 6.49k/? [00:00&lt;00:00, 189kB/s]",
            "_view_count": null,
            "_view_module_version": "1.5.0",
            "description_tooltip": null,
            "_model_module": "@jupyter-widgets/controls",
            "layout": "IPY_MODEL_d2d3ac71a59a4694bdaf004a3f9611e7"
          }
        },
        "7c93257b80574e569153a59794727452": {
          "model_module": "@jupyter-widgets/controls",
          "model_name": "DescriptionStyleModel",
          "model_module_version": "1.5.0",
          "state": {
            "_view_name": "StyleView",
            "_model_name": "DescriptionStyleModel",
            "description_width": "",
            "_view_module": "@jupyter-widgets/base",
            "_model_module_version": "1.5.0",
            "_view_count": null,
            "_view_module_version": "1.2.0",
            "_model_module": "@jupyter-widgets/controls"
          }
        },
        "77e2c8a6ecda47e2a2f9bf46f0e3c40c": {
          "model_module": "@jupyter-widgets/base",
          "model_name": "LayoutModel",
          "model_module_version": "1.2.0",
          "state": {
            "_view_name": "LayoutView",
            "grid_template_rows": null,
            "right": null,
            "justify_content": null,
            "_view_module": "@jupyter-widgets/base",
            "overflow": null,
            "_model_module_version": "1.2.0",
            "_view_count": null,
            "flex_flow": null,
            "width": null,
            "min_width": null,
            "border": null,
            "align_items": null,
            "bottom": null,
            "_model_module": "@jupyter-widgets/base",
            "top": null,
            "grid_column": null,
            "overflow_y": null,
            "overflow_x": null,
            "grid_auto_flow": null,
            "grid_area": null,
            "grid_template_columns": null,
            "flex": null,
            "_model_name": "LayoutModel",
            "justify_items": null,
            "grid_row": null,
            "max_height": null,
            "align_content": null,
            "visibility": null,
            "align_self": null,
            "height": null,
            "min_height": null,
            "padding": null,
            "grid_auto_rows": null,
            "grid_gap": null,
            "max_width": null,
            "order": null,
            "_view_module_version": "1.2.0",
            "grid_template_areas": null,
            "object_position": null,
            "object_fit": null,
            "grid_auto_columns": null,
            "margin": null,
            "display": null,
            "left": null
          }
        },
        "cd5a1dbd5f2f4967a947de8a636fbf4e": {
          "model_module": "@jupyter-widgets/controls",
          "model_name": "ProgressStyleModel",
          "model_module_version": "1.5.0",
          "state": {
            "_view_name": "StyleView",
            "_model_name": "ProgressStyleModel",
            "description_width": "",
            "_view_module": "@jupyter-widgets/base",
            "_model_module_version": "1.5.0",
            "_view_count": null,
            "_view_module_version": "1.2.0",
            "bar_color": null,
            "_model_module": "@jupyter-widgets/controls"
          }
        },
        "f407c6dd004b46edb98586ee81aeb590": {
          "model_module": "@jupyter-widgets/base",
          "model_name": "LayoutModel",
          "model_module_version": "1.2.0",
          "state": {
            "_view_name": "LayoutView",
            "grid_template_rows": null,
            "right": null,
            "justify_content": null,
            "_view_module": "@jupyter-widgets/base",
            "overflow": null,
            "_model_module_version": "1.2.0",
            "_view_count": null,
            "flex_flow": null,
            "width": null,
            "min_width": null,
            "border": null,
            "align_items": null,
            "bottom": null,
            "_model_module": "@jupyter-widgets/base",
            "top": null,
            "grid_column": null,
            "overflow_y": null,
            "overflow_x": null,
            "grid_auto_flow": null,
            "grid_area": null,
            "grid_template_columns": null,
            "flex": null,
            "_model_name": "LayoutModel",
            "justify_items": null,
            "grid_row": null,
            "max_height": null,
            "align_content": null,
            "visibility": null,
            "align_self": null,
            "height": null,
            "min_height": null,
            "padding": null,
            "grid_auto_rows": null,
            "grid_gap": null,
            "max_width": null,
            "order": null,
            "_view_module_version": "1.2.0",
            "grid_template_areas": null,
            "object_position": null,
            "object_fit": null,
            "grid_auto_columns": null,
            "margin": null,
            "display": null,
            "left": null
          }
        },
        "ff5b2048ef884bf7bd3de8d978dd5f72": {
          "model_module": "@jupyter-widgets/controls",
          "model_name": "DescriptionStyleModel",
          "model_module_version": "1.5.0",
          "state": {
            "_view_name": "StyleView",
            "_model_name": "DescriptionStyleModel",
            "description_width": "",
            "_view_module": "@jupyter-widgets/base",
            "_model_module_version": "1.5.0",
            "_view_count": null,
            "_view_module_version": "1.2.0",
            "_model_module": "@jupyter-widgets/controls"
          }
        },
        "d2d3ac71a59a4694bdaf004a3f9611e7": {
          "model_module": "@jupyter-widgets/base",
          "model_name": "LayoutModel",
          "model_module_version": "1.2.0",
          "state": {
            "_view_name": "LayoutView",
            "grid_template_rows": null,
            "right": null,
            "justify_content": null,
            "_view_module": "@jupyter-widgets/base",
            "overflow": null,
            "_model_module_version": "1.2.0",
            "_view_count": null,
            "flex_flow": null,
            "width": null,
            "min_width": null,
            "border": null,
            "align_items": null,
            "bottom": null,
            "_model_module": "@jupyter-widgets/base",
            "top": null,
            "grid_column": null,
            "overflow_y": null,
            "overflow_x": null,
            "grid_auto_flow": null,
            "grid_area": null,
            "grid_template_columns": null,
            "flex": null,
            "_model_name": "LayoutModel",
            "justify_items": null,
            "grid_row": null,
            "max_height": null,
            "align_content": null,
            "visibility": null,
            "align_self": null,
            "height": null,
            "min_height": null,
            "padding": null,
            "grid_auto_rows": null,
            "grid_gap": null,
            "max_width": null,
            "order": null,
            "_view_module_version": "1.2.0",
            "grid_template_areas": null,
            "object_position": null,
            "object_fit": null,
            "grid_auto_columns": null,
            "margin": null,
            "display": null,
            "left": null
          }
        },
        "397b7e1ac519427d81625947bb83b280": {
          "model_module": "@jupyter-widgets/controls",
          "model_name": "HBoxModel",
          "model_module_version": "1.5.0",
          "state": {
            "_view_name": "HBoxView",
            "_dom_classes": [],
            "_model_name": "HBoxModel",
            "_view_module": "@jupyter-widgets/controls",
            "_model_module_version": "1.5.0",
            "_view_count": null,
            "_view_module_version": "1.5.0",
            "box_style": "",
            "layout": "IPY_MODEL_a8fd75290b7e4be29287321718e7cd64",
            "_model_module": "@jupyter-widgets/controls",
            "children": [
              "IPY_MODEL_8638929988b34c2bb073cc9d872d8136",
              "IPY_MODEL_0a4ff1846a2e4e6ca26c98a320e1bece",
              "IPY_MODEL_c1a7d319408b4ab495b317e865fd8af0"
            ]
          }
        },
        "a8fd75290b7e4be29287321718e7cd64": {
          "model_module": "@jupyter-widgets/base",
          "model_name": "LayoutModel",
          "model_module_version": "1.2.0",
          "state": {
            "_view_name": "LayoutView",
            "grid_template_rows": null,
            "right": null,
            "justify_content": null,
            "_view_module": "@jupyter-widgets/base",
            "overflow": null,
            "_model_module_version": "1.2.0",
            "_view_count": null,
            "flex_flow": null,
            "width": null,
            "min_width": null,
            "border": null,
            "align_items": null,
            "bottom": null,
            "_model_module": "@jupyter-widgets/base",
            "top": null,
            "grid_column": null,
            "overflow_y": null,
            "overflow_x": null,
            "grid_auto_flow": null,
            "grid_area": null,
            "grid_template_columns": null,
            "flex": null,
            "_model_name": "LayoutModel",
            "justify_items": null,
            "grid_row": null,
            "max_height": null,
            "align_content": null,
            "visibility": null,
            "align_self": null,
            "height": null,
            "min_height": null,
            "padding": null,
            "grid_auto_rows": null,
            "grid_gap": null,
            "max_width": null,
            "order": null,
            "_view_module_version": "1.2.0",
            "grid_template_areas": null,
            "object_position": null,
            "object_fit": null,
            "grid_auto_columns": null,
            "margin": null,
            "display": null,
            "left": null
          }
        },
        "8638929988b34c2bb073cc9d872d8136": {
          "model_module": "@jupyter-widgets/controls",
          "model_name": "HTMLModel",
          "model_module_version": "1.5.0",
          "state": {
            "_view_name": "HTMLView",
            "style": "IPY_MODEL_23598314d75049c8b4e9d04cabd9179e",
            "_dom_classes": [],
            "description": "",
            "_model_name": "HTMLModel",
            "placeholder": "​",
            "_view_module": "@jupyter-widgets/controls",
            "_model_module_version": "1.5.0",
            "value": "Downloading: ",
            "_view_count": null,
            "_view_module_version": "1.5.0",
            "description_tooltip": null,
            "_model_module": "@jupyter-widgets/controls",
            "layout": "IPY_MODEL_9b66ecdcf6164cd18c14f332ec1877ba"
          }
        },
        "0a4ff1846a2e4e6ca26c98a320e1bece": {
          "model_module": "@jupyter-widgets/controls",
          "model_name": "FloatProgressModel",
          "model_module_version": "1.5.0",
          "state": {
            "_view_name": "ProgressView",
            "style": "IPY_MODEL_dae4573fc70b412ab5a3eebf872df6dd",
            "_dom_classes": [],
            "description": "",
            "_model_name": "FloatProgressModel",
            "bar_style": "success",
            "max": 3181,
            "_view_module": "@jupyter-widgets/controls",
            "_model_module_version": "1.5.0",
            "value": 3181,
            "_view_count": null,
            "_view_module_version": "1.5.0",
            "orientation": "horizontal",
            "min": 0,
            "description_tooltip": null,
            "_model_module": "@jupyter-widgets/controls",
            "layout": "IPY_MODEL_7e7d18d6984e4e47bd9666019d532377"
          }
        },
        "c1a7d319408b4ab495b317e865fd8af0": {
          "model_module": "@jupyter-widgets/controls",
          "model_name": "HTMLModel",
          "model_module_version": "1.5.0",
          "state": {
            "_view_name": "HTMLView",
            "style": "IPY_MODEL_60e0e68cc4ec4eb2b0844fbd58de7716",
            "_dom_classes": [],
            "description": "",
            "_model_name": "HTMLModel",
            "placeholder": "​",
            "_view_module": "@jupyter-widgets/controls",
            "_model_module_version": "1.5.0",
            "value": " 11.3k/? [00:00&lt;00:00, 373kB/s]",
            "_view_count": null,
            "_view_module_version": "1.5.0",
            "description_tooltip": null,
            "_model_module": "@jupyter-widgets/controls",
            "layout": "IPY_MODEL_baa933914cb641cdbbd0d46b2f98ca19"
          }
        },
        "23598314d75049c8b4e9d04cabd9179e": {
          "model_module": "@jupyter-widgets/controls",
          "model_name": "DescriptionStyleModel",
          "model_module_version": "1.5.0",
          "state": {
            "_view_name": "StyleView",
            "_model_name": "DescriptionStyleModel",
            "description_width": "",
            "_view_module": "@jupyter-widgets/base",
            "_model_module_version": "1.5.0",
            "_view_count": null,
            "_view_module_version": "1.2.0",
            "_model_module": "@jupyter-widgets/controls"
          }
        },
        "9b66ecdcf6164cd18c14f332ec1877ba": {
          "model_module": "@jupyter-widgets/base",
          "model_name": "LayoutModel",
          "model_module_version": "1.2.0",
          "state": {
            "_view_name": "LayoutView",
            "grid_template_rows": null,
            "right": null,
            "justify_content": null,
            "_view_module": "@jupyter-widgets/base",
            "overflow": null,
            "_model_module_version": "1.2.0",
            "_view_count": null,
            "flex_flow": null,
            "width": null,
            "min_width": null,
            "border": null,
            "align_items": null,
            "bottom": null,
            "_model_module": "@jupyter-widgets/base",
            "top": null,
            "grid_column": null,
            "overflow_y": null,
            "overflow_x": null,
            "grid_auto_flow": null,
            "grid_area": null,
            "grid_template_columns": null,
            "flex": null,
            "_model_name": "LayoutModel",
            "justify_items": null,
            "grid_row": null,
            "max_height": null,
            "align_content": null,
            "visibility": null,
            "align_self": null,
            "height": null,
            "min_height": null,
            "padding": null,
            "grid_auto_rows": null,
            "grid_gap": null,
            "max_width": null,
            "order": null,
            "_view_module_version": "1.2.0",
            "grid_template_areas": null,
            "object_position": null,
            "object_fit": null,
            "grid_auto_columns": null,
            "margin": null,
            "display": null,
            "left": null
          }
        },
        "dae4573fc70b412ab5a3eebf872df6dd": {
          "model_module": "@jupyter-widgets/controls",
          "model_name": "ProgressStyleModel",
          "model_module_version": "1.5.0",
          "state": {
            "_view_name": "StyleView",
            "_model_name": "ProgressStyleModel",
            "description_width": "",
            "_view_module": "@jupyter-widgets/base",
            "_model_module_version": "1.5.0",
            "_view_count": null,
            "_view_module_version": "1.2.0",
            "bar_color": null,
            "_model_module": "@jupyter-widgets/controls"
          }
        },
        "7e7d18d6984e4e47bd9666019d532377": {
          "model_module": "@jupyter-widgets/base",
          "model_name": "LayoutModel",
          "model_module_version": "1.2.0",
          "state": {
            "_view_name": "LayoutView",
            "grid_template_rows": null,
            "right": null,
            "justify_content": null,
            "_view_module": "@jupyter-widgets/base",
            "overflow": null,
            "_model_module_version": "1.2.0",
            "_view_count": null,
            "flex_flow": null,
            "width": null,
            "min_width": null,
            "border": null,
            "align_items": null,
            "bottom": null,
            "_model_module": "@jupyter-widgets/base",
            "top": null,
            "grid_column": null,
            "overflow_y": null,
            "overflow_x": null,
            "grid_auto_flow": null,
            "grid_area": null,
            "grid_template_columns": null,
            "flex": null,
            "_model_name": "LayoutModel",
            "justify_items": null,
            "grid_row": null,
            "max_height": null,
            "align_content": null,
            "visibility": null,
            "align_self": null,
            "height": null,
            "min_height": null,
            "padding": null,
            "grid_auto_rows": null,
            "grid_gap": null,
            "max_width": null,
            "order": null,
            "_view_module_version": "1.2.0",
            "grid_template_areas": null,
            "object_position": null,
            "object_fit": null,
            "grid_auto_columns": null,
            "margin": null,
            "display": null,
            "left": null
          }
        },
        "60e0e68cc4ec4eb2b0844fbd58de7716": {
          "model_module": "@jupyter-widgets/controls",
          "model_name": "DescriptionStyleModel",
          "model_module_version": "1.5.0",
          "state": {
            "_view_name": "StyleView",
            "_model_name": "DescriptionStyleModel",
            "description_width": "",
            "_view_module": "@jupyter-widgets/base",
            "_model_module_version": "1.5.0",
            "_view_count": null,
            "_view_module_version": "1.2.0",
            "_model_module": "@jupyter-widgets/controls"
          }
        },
        "baa933914cb641cdbbd0d46b2f98ca19": {
          "model_module": "@jupyter-widgets/base",
          "model_name": "LayoutModel",
          "model_module_version": "1.2.0",
          "state": {
            "_view_name": "LayoutView",
            "grid_template_rows": null,
            "right": null,
            "justify_content": null,
            "_view_module": "@jupyter-widgets/base",
            "overflow": null,
            "_model_module_version": "1.2.0",
            "_view_count": null,
            "flex_flow": null,
            "width": null,
            "min_width": null,
            "border": null,
            "align_items": null,
            "bottom": null,
            "_model_module": "@jupyter-widgets/base",
            "top": null,
            "grid_column": null,
            "overflow_y": null,
            "overflow_x": null,
            "grid_auto_flow": null,
            "grid_area": null,
            "grid_template_columns": null,
            "flex": null,
            "_model_name": "LayoutModel",
            "justify_items": null,
            "grid_row": null,
            "max_height": null,
            "align_content": null,
            "visibility": null,
            "align_self": null,
            "height": null,
            "min_height": null,
            "padding": null,
            "grid_auto_rows": null,
            "grid_gap": null,
            "max_width": null,
            "order": null,
            "_view_module_version": "1.2.0",
            "grid_template_areas": null,
            "object_position": null,
            "object_fit": null,
            "grid_auto_columns": null,
            "margin": null,
            "display": null,
            "left": null
          }
        },
        "5fd4981110af475d9011b1b3803d7728": {
          "model_module": "@jupyter-widgets/controls",
          "model_name": "HBoxModel",
          "model_module_version": "1.5.0",
          "state": {
            "_view_name": "HBoxView",
            "_dom_classes": [],
            "_model_name": "HBoxModel",
            "_view_module": "@jupyter-widgets/controls",
            "_model_module_version": "1.5.0",
            "_view_count": null,
            "_view_module_version": "1.5.0",
            "box_style": "",
            "layout": "IPY_MODEL_8e9ce5168ee24dd1a9d69c17a0b7d339",
            "_model_module": "@jupyter-widgets/controls",
            "children": [
              "IPY_MODEL_63f0847cdab8409895c07e278c41e4b1",
              "IPY_MODEL_296f1cb9f7594577b37c2e56d69d8f7d",
              "IPY_MODEL_8a729a1752eb4fe1bf9a9126d8307c85"
            ]
          }
        },
        "8e9ce5168ee24dd1a9d69c17a0b7d339": {
          "model_module": "@jupyter-widgets/base",
          "model_name": "LayoutModel",
          "model_module_version": "1.2.0",
          "state": {
            "_view_name": "LayoutView",
            "grid_template_rows": null,
            "right": null,
            "justify_content": null,
            "_view_module": "@jupyter-widgets/base",
            "overflow": null,
            "_model_module_version": "1.2.0",
            "_view_count": null,
            "flex_flow": null,
            "width": null,
            "min_width": null,
            "border": null,
            "align_items": null,
            "bottom": null,
            "_model_module": "@jupyter-widgets/base",
            "top": null,
            "grid_column": null,
            "overflow_y": null,
            "overflow_x": null,
            "grid_auto_flow": null,
            "grid_area": null,
            "grid_template_columns": null,
            "flex": null,
            "_model_name": "LayoutModel",
            "justify_items": null,
            "grid_row": null,
            "max_height": null,
            "align_content": null,
            "visibility": null,
            "align_self": null,
            "height": null,
            "min_height": null,
            "padding": null,
            "grid_auto_rows": null,
            "grid_gap": null,
            "max_width": null,
            "order": null,
            "_view_module_version": "1.2.0",
            "grid_template_areas": null,
            "object_position": null,
            "object_fit": null,
            "grid_auto_columns": null,
            "margin": null,
            "display": null,
            "left": null
          }
        },
        "63f0847cdab8409895c07e278c41e4b1": {
          "model_module": "@jupyter-widgets/controls",
          "model_name": "HTMLModel",
          "model_module_version": "1.5.0",
          "state": {
            "_view_name": "HTMLView",
            "style": "IPY_MODEL_229242023bf94a4ca5d6c797f2318f28",
            "_dom_classes": [],
            "description": "",
            "_model_name": "HTMLModel",
            "placeholder": "​",
            "_view_module": "@jupyter-widgets/controls",
            "_model_module_version": "1.5.0",
            "value": "Upload file pytorch_model.bin: 100%",
            "_view_count": null,
            "_view_module_version": "1.5.0",
            "description_tooltip": null,
            "_model_module": "@jupyter-widgets/controls",
            "layout": "IPY_MODEL_3032c343404f4ee987d99ce0f28f87f7"
          }
        },
        "296f1cb9f7594577b37c2e56d69d8f7d": {
          "model_module": "@jupyter-widgets/controls",
          "model_name": "FloatProgressModel",
          "model_module_version": "1.5.0",
          "state": {
            "_view_name": "ProgressView",
            "style": "IPY_MODEL_2e0aba7b2b0f4168a71c6c86c1171ae6",
            "_dom_classes": [],
            "description": "",
            "_model_name": "FloatProgressModel",
            "bar_style": "success",
            "max": 466953569,
            "_view_module": "@jupyter-widgets/controls",
            "_model_module_version": "1.5.0",
            "value": 466953569,
            "_view_count": null,
            "_view_module_version": "1.5.0",
            "orientation": "horizontal",
            "min": 0,
            "description_tooltip": null,
            "_model_module": "@jupyter-widgets/controls",
            "layout": "IPY_MODEL_fe99b3744ee6487bbe202333aecfdbfb"
          }
        },
        "8a729a1752eb4fe1bf9a9126d8307c85": {
          "model_module": "@jupyter-widgets/controls",
          "model_name": "HTMLModel",
          "model_module_version": "1.5.0",
          "state": {
            "_view_name": "HTMLView",
            "style": "IPY_MODEL_ff03a63061eb4a2eb2693e84688a0a0d",
            "_dom_classes": [],
            "description": "",
            "_model_name": "HTMLModel",
            "placeholder": "​",
            "_view_module": "@jupyter-widgets/controls",
            "_model_module_version": "1.5.0",
            "value": " 445M/445M [05:24&lt;00:00, 1.53MB/s]",
            "_view_count": null,
            "_view_module_version": "1.5.0",
            "description_tooltip": null,
            "_model_module": "@jupyter-widgets/controls",
            "layout": "IPY_MODEL_e6d010d6772c482d87b0ebe7e69bca82"
          }
        },
        "229242023bf94a4ca5d6c797f2318f28": {
          "model_module": "@jupyter-widgets/controls",
          "model_name": "DescriptionStyleModel",
          "model_module_version": "1.5.0",
          "state": {
            "_view_name": "StyleView",
            "_model_name": "DescriptionStyleModel",
            "description_width": "",
            "_view_module": "@jupyter-widgets/base",
            "_model_module_version": "1.5.0",
            "_view_count": null,
            "_view_module_version": "1.2.0",
            "_model_module": "@jupyter-widgets/controls"
          }
        },
        "3032c343404f4ee987d99ce0f28f87f7": {
          "model_module": "@jupyter-widgets/base",
          "model_name": "LayoutModel",
          "model_module_version": "1.2.0",
          "state": {
            "_view_name": "LayoutView",
            "grid_template_rows": null,
            "right": null,
            "justify_content": null,
            "_view_module": "@jupyter-widgets/base",
            "overflow": null,
            "_model_module_version": "1.2.0",
            "_view_count": null,
            "flex_flow": null,
            "width": null,
            "min_width": null,
            "border": null,
            "align_items": null,
            "bottom": null,
            "_model_module": "@jupyter-widgets/base",
            "top": null,
            "grid_column": null,
            "overflow_y": null,
            "overflow_x": null,
            "grid_auto_flow": null,
            "grid_area": null,
            "grid_template_columns": null,
            "flex": null,
            "_model_name": "LayoutModel",
            "justify_items": null,
            "grid_row": null,
            "max_height": null,
            "align_content": null,
            "visibility": null,
            "align_self": null,
            "height": null,
            "min_height": null,
            "padding": null,
            "grid_auto_rows": null,
            "grid_gap": null,
            "max_width": null,
            "order": null,
            "_view_module_version": "1.2.0",
            "grid_template_areas": null,
            "object_position": null,
            "object_fit": null,
            "grid_auto_columns": null,
            "margin": null,
            "display": null,
            "left": null
          }
        },
        "2e0aba7b2b0f4168a71c6c86c1171ae6": {
          "model_module": "@jupyter-widgets/controls",
          "model_name": "ProgressStyleModel",
          "model_module_version": "1.5.0",
          "state": {
            "_view_name": "StyleView",
            "_model_name": "ProgressStyleModel",
            "description_width": "",
            "_view_module": "@jupyter-widgets/base",
            "_model_module_version": "1.5.0",
            "_view_count": null,
            "_view_module_version": "1.2.0",
            "bar_color": null,
            "_model_module": "@jupyter-widgets/controls"
          }
        },
        "fe99b3744ee6487bbe202333aecfdbfb": {
          "model_module": "@jupyter-widgets/base",
          "model_name": "LayoutModel",
          "model_module_version": "1.2.0",
          "state": {
            "_view_name": "LayoutView",
            "grid_template_rows": null,
            "right": null,
            "justify_content": null,
            "_view_module": "@jupyter-widgets/base",
            "overflow": null,
            "_model_module_version": "1.2.0",
            "_view_count": null,
            "flex_flow": null,
            "width": null,
            "min_width": null,
            "border": null,
            "align_items": null,
            "bottom": null,
            "_model_module": "@jupyter-widgets/base",
            "top": null,
            "grid_column": null,
            "overflow_y": null,
            "overflow_x": null,
            "grid_auto_flow": null,
            "grid_area": null,
            "grid_template_columns": null,
            "flex": null,
            "_model_name": "LayoutModel",
            "justify_items": null,
            "grid_row": null,
            "max_height": null,
            "align_content": null,
            "visibility": null,
            "align_self": null,
            "height": null,
            "min_height": null,
            "padding": null,
            "grid_auto_rows": null,
            "grid_gap": null,
            "max_width": null,
            "order": null,
            "_view_module_version": "1.2.0",
            "grid_template_areas": null,
            "object_position": null,
            "object_fit": null,
            "grid_auto_columns": null,
            "margin": null,
            "display": null,
            "left": null
          }
        },
        "ff03a63061eb4a2eb2693e84688a0a0d": {
          "model_module": "@jupyter-widgets/controls",
          "model_name": "DescriptionStyleModel",
          "model_module_version": "1.5.0",
          "state": {
            "_view_name": "StyleView",
            "_model_name": "DescriptionStyleModel",
            "description_width": "",
            "_view_module": "@jupyter-widgets/base",
            "_model_module_version": "1.5.0",
            "_view_count": null,
            "_view_module_version": "1.2.0",
            "_model_module": "@jupyter-widgets/controls"
          }
        },
        "e6d010d6772c482d87b0ebe7e69bca82": {
          "model_module": "@jupyter-widgets/base",
          "model_name": "LayoutModel",
          "model_module_version": "1.2.0",
          "state": {
            "_view_name": "LayoutView",
            "grid_template_rows": null,
            "right": null,
            "justify_content": null,
            "_view_module": "@jupyter-widgets/base",
            "overflow": null,
            "_model_module_version": "1.2.0",
            "_view_count": null,
            "flex_flow": null,
            "width": null,
            "min_width": null,
            "border": null,
            "align_items": null,
            "bottom": null,
            "_model_module": "@jupyter-widgets/base",
            "top": null,
            "grid_column": null,
            "overflow_y": null,
            "overflow_x": null,
            "grid_auto_flow": null,
            "grid_area": null,
            "grid_template_columns": null,
            "flex": null,
            "_model_name": "LayoutModel",
            "justify_items": null,
            "grid_row": null,
            "max_height": null,
            "align_content": null,
            "visibility": null,
            "align_self": null,
            "height": null,
            "min_height": null,
            "padding": null,
            "grid_auto_rows": null,
            "grid_gap": null,
            "max_width": null,
            "order": null,
            "_view_module_version": "1.2.0",
            "grid_template_areas": null,
            "object_position": null,
            "object_fit": null,
            "grid_auto_columns": null,
            "margin": null,
            "display": null,
            "left": null
          }
        },
        "fe368d17152c4a7483507c08fe99dd25": {
          "model_module": "@jupyter-widgets/controls",
          "model_name": "HBoxModel",
          "model_module_version": "1.5.0",
          "state": {
            "_view_name": "HBoxView",
            "_dom_classes": [],
            "_model_name": "HBoxModel",
            "_view_module": "@jupyter-widgets/controls",
            "_model_module_version": "1.5.0",
            "_view_count": null,
            "_view_module_version": "1.5.0",
            "box_style": "",
            "layout": "IPY_MODEL_2fade01dfb874090b1f05c604d37c9ad",
            "_model_module": "@jupyter-widgets/controls",
            "children": [
              "IPY_MODEL_ec093ab5cc5e4b3fa27bb92a1692a1f1",
              "IPY_MODEL_16cffe66a209411388154a61e3481662",
              "IPY_MODEL_e051161467894ca6a0e9627ec956a246"
            ]
          }
        },
        "2fade01dfb874090b1f05c604d37c9ad": {
          "model_module": "@jupyter-widgets/base",
          "model_name": "LayoutModel",
          "model_module_version": "1.2.0",
          "state": {
            "_view_name": "LayoutView",
            "grid_template_rows": null,
            "right": null,
            "justify_content": null,
            "_view_module": "@jupyter-widgets/base",
            "overflow": null,
            "_model_module_version": "1.2.0",
            "_view_count": null,
            "flex_flow": null,
            "width": null,
            "min_width": null,
            "border": null,
            "align_items": null,
            "bottom": null,
            "_model_module": "@jupyter-widgets/base",
            "top": null,
            "grid_column": null,
            "overflow_y": null,
            "overflow_x": null,
            "grid_auto_flow": null,
            "grid_area": null,
            "grid_template_columns": null,
            "flex": null,
            "_model_name": "LayoutModel",
            "justify_items": null,
            "grid_row": null,
            "max_height": null,
            "align_content": null,
            "visibility": null,
            "align_self": null,
            "height": null,
            "min_height": null,
            "padding": null,
            "grid_auto_rows": null,
            "grid_gap": null,
            "max_width": null,
            "order": null,
            "_view_module_version": "1.2.0",
            "grid_template_areas": null,
            "object_position": null,
            "object_fit": null,
            "grid_auto_columns": null,
            "margin": null,
            "display": null,
            "left": null
          }
        },
        "ec093ab5cc5e4b3fa27bb92a1692a1f1": {
          "model_module": "@jupyter-widgets/controls",
          "model_name": "HTMLModel",
          "model_module_version": "1.5.0",
          "state": {
            "_view_name": "HTMLView",
            "style": "IPY_MODEL_022f107948cb42be9884d2a25a8f2cd8",
            "_dom_classes": [],
            "description": "",
            "_model_name": "HTMLModel",
            "placeholder": "​",
            "_view_module": "@jupyter-widgets/controls",
            "_model_module_version": "1.5.0",
            "value": "Upload file runs/Jan20_16-33-07_976aff881058/events.out.tfevents.1642696418.976aff881058.552.0: 100%",
            "_view_count": null,
            "_view_module_version": "1.5.0",
            "description_tooltip": null,
            "_model_module": "@jupyter-widgets/controls",
            "layout": "IPY_MODEL_83e3dfb1bc764912b9a9c155baf8a7bc"
          }
        },
        "16cffe66a209411388154a61e3481662": {
          "model_module": "@jupyter-widgets/controls",
          "model_name": "FloatProgressModel",
          "model_module_version": "1.5.0",
          "state": {
            "_view_name": "ProgressView",
            "style": "IPY_MODEL_9406134e2a79489ea89b5059c59466dc",
            "_dom_classes": [],
            "description": "",
            "_model_name": "FloatProgressModel",
            "bar_style": "success",
            "max": 4991,
            "_view_module": "@jupyter-widgets/controls",
            "_model_module_version": "1.5.0",
            "value": 4991,
            "_view_count": null,
            "_view_module_version": "1.5.0",
            "orientation": "horizontal",
            "min": 0,
            "description_tooltip": null,
            "_model_module": "@jupyter-widgets/controls",
            "layout": "IPY_MODEL_8923625b3aa844d3bf107dd908cbd056"
          }
        },
        "e051161467894ca6a0e9627ec956a246": {
          "model_module": "@jupyter-widgets/controls",
          "model_name": "HTMLModel",
          "model_module_version": "1.5.0",
          "state": {
            "_view_name": "HTMLView",
            "style": "IPY_MODEL_c3ab51365808480988fc6693f3195bf6",
            "_dom_classes": [],
            "description": "",
            "_model_name": "HTMLModel",
            "placeholder": "​",
            "_view_module": "@jupyter-widgets/controls",
            "_model_module_version": "1.5.0",
            "value": " 4.87k/4.87k [05:24&lt;00:00, 4.76B/s]",
            "_view_count": null,
            "_view_module_version": "1.5.0",
            "description_tooltip": null,
            "_model_module": "@jupyter-widgets/controls",
            "layout": "IPY_MODEL_ade0b9a5a7e2445b989034c1e5ec23cf"
          }
        },
        "022f107948cb42be9884d2a25a8f2cd8": {
          "model_module": "@jupyter-widgets/controls",
          "model_name": "DescriptionStyleModel",
          "model_module_version": "1.5.0",
          "state": {
            "_view_name": "StyleView",
            "_model_name": "DescriptionStyleModel",
            "description_width": "",
            "_view_module": "@jupyter-widgets/base",
            "_model_module_version": "1.5.0",
            "_view_count": null,
            "_view_module_version": "1.2.0",
            "_model_module": "@jupyter-widgets/controls"
          }
        },
        "83e3dfb1bc764912b9a9c155baf8a7bc": {
          "model_module": "@jupyter-widgets/base",
          "model_name": "LayoutModel",
          "model_module_version": "1.2.0",
          "state": {
            "_view_name": "LayoutView",
            "grid_template_rows": null,
            "right": null,
            "justify_content": null,
            "_view_module": "@jupyter-widgets/base",
            "overflow": null,
            "_model_module_version": "1.2.0",
            "_view_count": null,
            "flex_flow": null,
            "width": null,
            "min_width": null,
            "border": null,
            "align_items": null,
            "bottom": null,
            "_model_module": "@jupyter-widgets/base",
            "top": null,
            "grid_column": null,
            "overflow_y": null,
            "overflow_x": null,
            "grid_auto_flow": null,
            "grid_area": null,
            "grid_template_columns": null,
            "flex": null,
            "_model_name": "LayoutModel",
            "justify_items": null,
            "grid_row": null,
            "max_height": null,
            "align_content": null,
            "visibility": null,
            "align_self": null,
            "height": null,
            "min_height": null,
            "padding": null,
            "grid_auto_rows": null,
            "grid_gap": null,
            "max_width": null,
            "order": null,
            "_view_module_version": "1.2.0",
            "grid_template_areas": null,
            "object_position": null,
            "object_fit": null,
            "grid_auto_columns": null,
            "margin": null,
            "display": null,
            "left": null
          }
        },
        "9406134e2a79489ea89b5059c59466dc": {
          "model_module": "@jupyter-widgets/controls",
          "model_name": "ProgressStyleModel",
          "model_module_version": "1.5.0",
          "state": {
            "_view_name": "StyleView",
            "_model_name": "ProgressStyleModel",
            "description_width": "",
            "_view_module": "@jupyter-widgets/base",
            "_model_module_version": "1.5.0",
            "_view_count": null,
            "_view_module_version": "1.2.0",
            "bar_color": null,
            "_model_module": "@jupyter-widgets/controls"
          }
        },
        "8923625b3aa844d3bf107dd908cbd056": {
          "model_module": "@jupyter-widgets/base",
          "model_name": "LayoutModel",
          "model_module_version": "1.2.0",
          "state": {
            "_view_name": "LayoutView",
            "grid_template_rows": null,
            "right": null,
            "justify_content": null,
            "_view_module": "@jupyter-widgets/base",
            "overflow": null,
            "_model_module_version": "1.2.0",
            "_view_count": null,
            "flex_flow": null,
            "width": null,
            "min_width": null,
            "border": null,
            "align_items": null,
            "bottom": null,
            "_model_module": "@jupyter-widgets/base",
            "top": null,
            "grid_column": null,
            "overflow_y": null,
            "overflow_x": null,
            "grid_auto_flow": null,
            "grid_area": null,
            "grid_template_columns": null,
            "flex": null,
            "_model_name": "LayoutModel",
            "justify_items": null,
            "grid_row": null,
            "max_height": null,
            "align_content": null,
            "visibility": null,
            "align_self": null,
            "height": null,
            "min_height": null,
            "padding": null,
            "grid_auto_rows": null,
            "grid_gap": null,
            "max_width": null,
            "order": null,
            "_view_module_version": "1.2.0",
            "grid_template_areas": null,
            "object_position": null,
            "object_fit": null,
            "grid_auto_columns": null,
            "margin": null,
            "display": null,
            "left": null
          }
        },
        "c3ab51365808480988fc6693f3195bf6": {
          "model_module": "@jupyter-widgets/controls",
          "model_name": "DescriptionStyleModel",
          "model_module_version": "1.5.0",
          "state": {
            "_view_name": "StyleView",
            "_model_name": "DescriptionStyleModel",
            "description_width": "",
            "_view_module": "@jupyter-widgets/base",
            "_model_module_version": "1.5.0",
            "_view_count": null,
            "_view_module_version": "1.2.0",
            "_model_module": "@jupyter-widgets/controls"
          }
        },
        "ade0b9a5a7e2445b989034c1e5ec23cf": {
          "model_module": "@jupyter-widgets/base",
          "model_name": "LayoutModel",
          "model_module_version": "1.2.0",
          "state": {
            "_view_name": "LayoutView",
            "grid_template_rows": null,
            "right": null,
            "justify_content": null,
            "_view_module": "@jupyter-widgets/base",
            "overflow": null,
            "_model_module_version": "1.2.0",
            "_view_count": null,
            "flex_flow": null,
            "width": null,
            "min_width": null,
            "border": null,
            "align_items": null,
            "bottom": null,
            "_model_module": "@jupyter-widgets/base",
            "top": null,
            "grid_column": null,
            "overflow_y": null,
            "overflow_x": null,
            "grid_auto_flow": null,
            "grid_area": null,
            "grid_template_columns": null,
            "flex": null,
            "_model_name": "LayoutModel",
            "justify_items": null,
            "grid_row": null,
            "max_height": null,
            "align_content": null,
            "visibility": null,
            "align_self": null,
            "height": null,
            "min_height": null,
            "padding": null,
            "grid_auto_rows": null,
            "grid_gap": null,
            "max_width": null,
            "order": null,
            "_view_module_version": "1.2.0",
            "grid_template_areas": null,
            "object_position": null,
            "object_fit": null,
            "grid_auto_columns": null,
            "margin": null,
            "display": null,
            "left": null
          }
        }
      }
    },
    "accelerator": "GPU"
  },
  "cells": [
    {
      "cell_type": "markdown",
      "metadata": {
        "id": "view-in-github",
        "colab_type": "text"
      },
      "source": [
        "<a href=\"https://colab.research.google.com/github/nntadotzip/XLNet-sandbox/blob/main/XLNetQA_huggingfacePipeline_XLNetTokenizeFast.ipynb\" target=\"_parent\"><img src=\"https://colab.research.google.com/assets/colab-badge.svg\" alt=\"Open In Colab\"/></a>"
      ]
    },
    {
      "cell_type": "markdown",
      "source": [
        "# Import and Install"
      ],
      "metadata": {
        "id": "ePhfO2A3wlWM"
      }
    },
    {
      "cell_type": "code",
      "source": [
        "import tensorflow as tf\n",
        "\n",
        "device_name = tf.test.gpu_device_name()\n",
        "if device_name != '/device:GPU:0':\n",
        "  raise SystemError('GPU device not found')\n",
        "print('Found GPU at: {}'.format(device_name))"
      ],
      "metadata": {
        "colab": {
          "base_uri": "https://localhost:8080/"
        },
        "id": "kgtA4B-Sdj4Z",
        "outputId": "a768e95e-2573-4214-ddd9-4fb1f0c18626"
      },
      "execution_count": 1,
      "outputs": [
        {
          "output_type": "stream",
          "name": "stdout",
          "text": [
            "Found GPU at: /device:GPU:0\n"
          ]
        }
      ]
    },
    {
      "cell_type": "code",
      "execution_count": 2,
      "metadata": {
        "id": "Rv_xR_o9wetZ",
        "colab": {
          "base_uri": "https://localhost:8080/"
        },
        "outputId": "2dd84176-14c0-4b27-8048-236fdcba5a96"
      },
      "outputs": [
        {
          "output_type": "stream",
          "name": "stdout",
          "text": [
            "Requirement already satisfied: datasets in /usr/local/lib/python3.7/dist-packages (1.17.0)\n",
            "Requirement already satisfied: transformers in /usr/local/lib/python3.7/dist-packages (4.15.0)\n",
            "Requirement already satisfied: xxhash in /usr/local/lib/python3.7/dist-packages (from datasets) (2.0.2)\n",
            "Requirement already satisfied: packaging in /usr/local/lib/python3.7/dist-packages (from datasets) (21.3)\n",
            "Requirement already satisfied: numpy>=1.17 in /usr/local/lib/python3.7/dist-packages (from datasets) (1.19.5)\n",
            "Requirement already satisfied: huggingface-hub<1.0.0,>=0.1.0 in /usr/local/lib/python3.7/dist-packages (from datasets) (0.4.0)\n",
            "Requirement already satisfied: pandas in /usr/local/lib/python3.7/dist-packages (from datasets) (1.1.5)\n",
            "Requirement already satisfied: multiprocess in /usr/local/lib/python3.7/dist-packages (from datasets) (0.70.12.2)\n",
            "Requirement already satisfied: fsspec[http]>=2021.05.0 in /usr/local/lib/python3.7/dist-packages (from datasets) (2022.1.0)\n",
            "Requirement already satisfied: dill in /usr/local/lib/python3.7/dist-packages (from datasets) (0.3.4)\n",
            "Requirement already satisfied: aiohttp in /usr/local/lib/python3.7/dist-packages (from datasets) (3.8.1)\n",
            "Requirement already satisfied: requests>=2.19.0 in /usr/local/lib/python3.7/dist-packages (from datasets) (2.23.0)\n",
            "Requirement already satisfied: pyarrow!=4.0.0,>=3.0.0 in /usr/local/lib/python3.7/dist-packages (from datasets) (3.0.0)\n",
            "Requirement already satisfied: importlib-metadata in /usr/local/lib/python3.7/dist-packages (from datasets) (4.10.0)\n",
            "Requirement already satisfied: tqdm>=4.62.1 in /usr/local/lib/python3.7/dist-packages (from datasets) (4.62.3)\n",
            "Requirement already satisfied: filelock in /usr/local/lib/python3.7/dist-packages (from huggingface-hub<1.0.0,>=0.1.0->datasets) (3.4.2)\n",
            "Requirement already satisfied: pyyaml in /usr/local/lib/python3.7/dist-packages (from huggingface-hub<1.0.0,>=0.1.0->datasets) (6.0)\n",
            "Requirement already satisfied: typing-extensions>=3.7.4.3 in /usr/local/lib/python3.7/dist-packages (from huggingface-hub<1.0.0,>=0.1.0->datasets) (3.10.0.2)\n",
            "Requirement already satisfied: pyparsing!=3.0.5,>=2.0.2 in /usr/local/lib/python3.7/dist-packages (from packaging->datasets) (3.0.6)\n",
            "Requirement already satisfied: idna<3,>=2.5 in /usr/local/lib/python3.7/dist-packages (from requests>=2.19.0->datasets) (2.10)\n",
            "Requirement already satisfied: urllib3!=1.25.0,!=1.25.1,<1.26,>=1.21.1 in /usr/local/lib/python3.7/dist-packages (from requests>=2.19.0->datasets) (1.25.11)\n",
            "Requirement already satisfied: chardet<4,>=3.0.2 in /usr/local/lib/python3.7/dist-packages (from requests>=2.19.0->datasets) (3.0.4)\n",
            "Requirement already satisfied: certifi>=2017.4.17 in /usr/local/lib/python3.7/dist-packages (from requests>=2.19.0->datasets) (2021.10.8)\n",
            "Requirement already satisfied: sacremoses in /usr/local/lib/python3.7/dist-packages (from transformers) (0.0.47)\n",
            "Requirement already satisfied: tokenizers<0.11,>=0.10.1 in /usr/local/lib/python3.7/dist-packages (from transformers) (0.10.3)\n",
            "Requirement already satisfied: regex!=2019.12.17 in /usr/local/lib/python3.7/dist-packages (from transformers) (2019.12.20)\n",
            "Requirement already satisfied: multidict<7.0,>=4.5 in /usr/local/lib/python3.7/dist-packages (from aiohttp->datasets) (5.2.0)\n",
            "Requirement already satisfied: attrs>=17.3.0 in /usr/local/lib/python3.7/dist-packages (from aiohttp->datasets) (21.4.0)\n",
            "Requirement already satisfied: async-timeout<5.0,>=4.0.0a3 in /usr/local/lib/python3.7/dist-packages (from aiohttp->datasets) (4.0.2)\n",
            "Requirement already satisfied: frozenlist>=1.1.1 in /usr/local/lib/python3.7/dist-packages (from aiohttp->datasets) (1.3.0)\n",
            "Requirement already satisfied: yarl<2.0,>=1.0 in /usr/local/lib/python3.7/dist-packages (from aiohttp->datasets) (1.7.2)\n",
            "Requirement already satisfied: asynctest==0.13.0 in /usr/local/lib/python3.7/dist-packages (from aiohttp->datasets) (0.13.0)\n",
            "Requirement already satisfied: aiosignal>=1.1.2 in /usr/local/lib/python3.7/dist-packages (from aiohttp->datasets) (1.2.0)\n",
            "Requirement already satisfied: charset-normalizer<3.0,>=2.0 in /usr/local/lib/python3.7/dist-packages (from aiohttp->datasets) (2.0.10)\n",
            "Requirement already satisfied: zipp>=0.5 in /usr/local/lib/python3.7/dist-packages (from importlib-metadata->datasets) (3.7.0)\n",
            "Requirement already satisfied: pytz>=2017.2 in /usr/local/lib/python3.7/dist-packages (from pandas->datasets) (2018.9)\n",
            "Requirement already satisfied: python-dateutil>=2.7.3 in /usr/local/lib/python3.7/dist-packages (from pandas->datasets) (2.8.2)\n",
            "Requirement already satisfied: six>=1.5 in /usr/local/lib/python3.7/dist-packages (from python-dateutil>=2.7.3->pandas->datasets) (1.15.0)\n",
            "Requirement already satisfied: joblib in /usr/local/lib/python3.7/dist-packages (from sacremoses->transformers) (1.1.0)\n",
            "Requirement already satisfied: click in /usr/local/lib/python3.7/dist-packages (from sacremoses->transformers) (7.1.2)\n",
            "Requirement already satisfied: pytorch-transformers in /usr/local/lib/python3.7/dist-packages (1.2.0)\n",
            "Requirement already satisfied: tqdm in /usr/local/lib/python3.7/dist-packages (from pytorch-transformers) (4.62.3)\n",
            "Requirement already satisfied: sentencepiece in /usr/local/lib/python3.7/dist-packages (from pytorch-transformers) (0.1.96)\n",
            "Requirement already satisfied: requests in /usr/local/lib/python3.7/dist-packages (from pytorch-transformers) (2.23.0)\n",
            "Requirement already satisfied: sacremoses in /usr/local/lib/python3.7/dist-packages (from pytorch-transformers) (0.0.47)\n",
            "Requirement already satisfied: regex in /usr/local/lib/python3.7/dist-packages (from pytorch-transformers) (2019.12.20)\n",
            "Requirement already satisfied: boto3 in /usr/local/lib/python3.7/dist-packages (from pytorch-transformers) (1.20.39)\n",
            "Requirement already satisfied: torch>=1.0.0 in /usr/local/lib/python3.7/dist-packages (from pytorch-transformers) (1.10.0+cu111)\n",
            "Requirement already satisfied: numpy in /usr/local/lib/python3.7/dist-packages (from pytorch-transformers) (1.19.5)\n",
            "Requirement already satisfied: typing-extensions in /usr/local/lib/python3.7/dist-packages (from torch>=1.0.0->pytorch-transformers) (3.10.0.2)\n",
            "Requirement already satisfied: jmespath<1.0.0,>=0.7.1 in /usr/local/lib/python3.7/dist-packages (from boto3->pytorch-transformers) (0.10.0)\n",
            "Requirement already satisfied: botocore<1.24.0,>=1.23.39 in /usr/local/lib/python3.7/dist-packages (from boto3->pytorch-transformers) (1.23.39)\n",
            "Requirement already satisfied: s3transfer<0.6.0,>=0.5.0 in /usr/local/lib/python3.7/dist-packages (from boto3->pytorch-transformers) (0.5.0)\n",
            "Requirement already satisfied: urllib3<1.27,>=1.25.4 in /usr/local/lib/python3.7/dist-packages (from botocore<1.24.0,>=1.23.39->boto3->pytorch-transformers) (1.25.11)\n",
            "Requirement already satisfied: python-dateutil<3.0.0,>=2.1 in /usr/local/lib/python3.7/dist-packages (from botocore<1.24.0,>=1.23.39->boto3->pytorch-transformers) (2.8.2)\n",
            "Requirement already satisfied: six>=1.5 in /usr/local/lib/python3.7/dist-packages (from python-dateutil<3.0.0,>=2.1->botocore<1.24.0,>=1.23.39->boto3->pytorch-transformers) (1.15.0)\n",
            "Requirement already satisfied: idna<3,>=2.5 in /usr/local/lib/python3.7/dist-packages (from requests->pytorch-transformers) (2.10)\n",
            "Requirement already satisfied: chardet<4,>=3.0.2 in /usr/local/lib/python3.7/dist-packages (from requests->pytorch-transformers) (3.0.4)\n",
            "Requirement already satisfied: certifi>=2017.4.17 in /usr/local/lib/python3.7/dist-packages (from requests->pytorch-transformers) (2021.10.8)\n",
            "Requirement already satisfied: joblib in /usr/local/lib/python3.7/dist-packages (from sacremoses->pytorch-transformers) (1.1.0)\n",
            "Requirement already satisfied: click in /usr/local/lib/python3.7/dist-packages (from sacremoses->pytorch-transformers) (7.1.2)\n"
          ]
        }
      ],
      "source": [
        "! pip install datasets transformers\n",
        "! pip install pytorch-transformers"
      ]
    },
    {
      "cell_type": "code",
      "source": [
        "!huggingface-cli login"
      ],
      "metadata": {
        "colab": {
          "base_uri": "https://localhost:8080/"
        },
        "id": "2HpdDzs6wkvX",
        "outputId": "91ef6db7-c8fe-4b38-a68a-ac0800b22ebd"
      },
      "execution_count": 3,
      "outputs": [
        {
          "output_type": "stream",
          "name": "stdout",
          "text": [
            "\n",
            "        _|    _|  _|    _|    _|_|_|    _|_|_|  _|_|_|  _|      _|    _|_|_|      _|_|_|_|    _|_|      _|_|_|  _|_|_|_|\n",
            "        _|    _|  _|    _|  _|        _|          _|    _|_|    _|  _|            _|        _|    _|  _|        _|\n",
            "        _|_|_|_|  _|    _|  _|  _|_|  _|  _|_|    _|    _|  _|  _|  _|  _|_|      _|_|_|    _|_|_|_|  _|        _|_|_|\n",
            "        _|    _|  _|    _|  _|    _|  _|    _|    _|    _|    _|_|  _|    _|      _|        _|    _|  _|        _|\n",
            "        _|    _|    _|_|      _|_|_|    _|_|_|  _|_|_|  _|      _|    _|_|_|      _|        _|    _|    _|_|_|  _|_|_|_|\n",
            "\n",
            "        To login, `huggingface_hub` now requires a token generated from https://huggingface.co/settings/token.\n",
            "        (Deprecated, will be removed in v0.3.0) To login with username and password instead, interrupt with Ctrl+C.\n",
            "        \n",
            "Token: \n",
            "Login successful\n",
            "Your token has been saved to /root/.huggingface/token\n"
          ]
        }
      ]
    },
    {
      "cell_type": "code",
      "source": [
        "import torch\n",
        "import transformers\n",
        "from torch.utils.data import TensorDataset, DataLoader, RandomSampler, SequentialSampler\n",
        "from keras.preprocessing.sequence import pad_sequences\n",
        "from sklearn.model_selection import train_test_split\n",
        "\n",
        "from transformers import XLNetModel, XLNetTokenizer, XLNetForQuestionAnswering\n",
        "from transformers import AdamW\n",
        "\n",
        "from tqdm import tqdm, trange\n",
        "import pandas as pd\n",
        "import io\n",
        "import numpy as np\n",
        "import matplotlib.pyplot as plt\n",
        "% matplotlib inline"
      ],
      "metadata": {
        "id": "uldvT61mdt4X"
      },
      "execution_count": 4,
      "outputs": []
    },
    {
      "cell_type": "code",
      "source": [
        "device = torch.device(\"cuda\" if torch.cuda.is_available() else \"cpu\")\n",
        "n_gpu = torch.cuda.device_count()\n",
        "torch.cuda.get_device_name(0)"
      ],
      "metadata": {
        "colab": {
          "base_uri": "https://localhost:8080/",
          "height": 35
        },
        "id": "N3odrIFjdxUI",
        "outputId": "31173832-74e3-4095-f4bb-d59677317665"
      },
      "execution_count": 5,
      "outputs": [
        {
          "output_type": "execute_result",
          "data": {
            "application/vnd.google.colaboratory.intrinsic+json": {
              "type": "string"
            },
            "text/plain": [
              "'Tesla T4'"
            ]
          },
          "metadata": {},
          "execution_count": 5
        }
      ]
    },
    {
      "cell_type": "code",
      "source": [
        "!git config --global credential.helper store"
      ],
      "metadata": {
        "id": "fCMjYetfd0eU"
      },
      "execution_count": 6,
      "outputs": []
    },
    {
      "cell_type": "code",
      "source": [
        "from huggingface_hub import notebook_login\n",
        "notebook_login()"
      ],
      "metadata": {
        "colab": {
          "base_uri": "https://localhost:8080/",
          "height": 415,
          "referenced_widgets": [
            "90968dad24b644d79480b93aa858e57a",
            "aa2c275d839144c1b2d7e3963f2db00e",
            "25f3d79027974c1798e617cb665fd5d2",
            "6082c79860394880aa0ec82c7001d818",
            "254297bebef94e1fa8922307b7b3722f",
            "7fb1af1cad41483e84c2986addcc4796",
            "f37e9bfd880040b0b0c6fa5be37fc77c",
            "158d8c4a6c254b4d93f51fe774c469eb",
            "1ff5708d826e48dcab985837be69d7aa",
            "a9229d2c171f42f6a79e40f3fc37548a",
            "21ec43089a6b4da091f5ad8c37a60929",
            "8caa2752a5a6426392eefdb0130d7b39",
            "37e13d59ffdc4c6cabb3cd9d35cda8a4",
            "800e083062454055bd5d708ebce08b7e",
            "eb6b2eee035440c19851be7fc1328cb4",
            "6c9a3358b65f4d63a3c77a178e1d07bc",
            "32b1e4eacc1a420ba7fb29a803aa8a6c"
          ]
        },
        "id": "rYaLysZjd6Hg",
        "outputId": "b77470fd-16c8-4c4b-c4d0-fe251675f338"
      },
      "execution_count": 7,
      "outputs": [
        {
          "output_type": "stream",
          "name": "stdout",
          "text": [
            "Login successful\n",
            "Your token has been saved to /root/.huggingface/token\n"
          ]
        }
      ]
    },
    {
      "cell_type": "code",
      "source": [
        "!apt install git-lfs\n",
        "!git config --global user.email \"nntanh@hcmiu.edu.vn\"\n",
        "!git config --global user.name \"nntadotzip\""
      ],
      "metadata": {
        "colab": {
          "base_uri": "https://localhost:8080/"
        },
        "id": "eerdC8NPd9Ce",
        "outputId": "5f81208f-e67c-48f0-f00f-4bda21a87c90"
      },
      "execution_count": 8,
      "outputs": [
        {
          "output_type": "stream",
          "name": "stdout",
          "text": [
            "Reading package lists... Done\n",
            "Building dependency tree       \n",
            "Reading state information... Done\n",
            "git-lfs is already the newest version (2.3.4-1).\n",
            "0 upgraded, 0 newly installed, 0 to remove and 37 not upgraded.\n"
          ]
        }
      ]
    },
    {
      "cell_type": "code",
      "source": [
        "from datasets import load_dataset\n",
        "dataset = load_dataset(\"nntadotzip/iuQAchatbot\", use_auth_token=True, field='data')"
      ],
      "metadata": {
        "colab": {
          "base_uri": "https://localhost:8080/",
          "height": 104,
          "referenced_widgets": [
            "5b34116c2cc04599845a4e493f27ea3f",
            "180d61d89b40456eb9770f8c68b76215",
            "5799af962fc847fe81ce685100b68fa4",
            "af572e28fd4e4dffb8ca5a14a5f505c8",
            "05b1d6e95c9845aa8f981462350c818a",
            "06aef13d388c41ffb7582a4d493530cf",
            "74af73142d614b738635a89aa97330ae",
            "d5d3069bf67e4ccdbcc436f01f9ff19c",
            "91aabbbe0416497c926aa52caa7053fe",
            "b5fe2d50345b41adb4d3ab37a7ef226c",
            "b3a32dd63e46450ba79a0e4b5c7b41bb"
          ]
        },
        "id": "GRTVUxR8zw8g",
        "outputId": "23dd7086-9696-44cd-e17b-17b81cb8c6de"
      },
      "execution_count": 9,
      "outputs": [
        {
          "output_type": "stream",
          "name": "stderr",
          "text": [
            "Using custom data configuration nntadotzip--iuQAchatbot-da3c79a8c8a167fc\n",
            "Reusing dataset json (/root/.cache/huggingface/datasets/json/nntadotzip--iuQAchatbot-da3c79a8c8a167fc/0.0.0/c90812beea906fcffe0d5e3bb9eba909a80a998b5f88e9f8acbd320aa91acfde)\n"
          ]
        },
        {
          "output_type": "display_data",
          "data": {
            "application/vnd.jupyter.widget-view+json": {
              "model_id": "5b34116c2cc04599845a4e493f27ea3f",
              "version_minor": 0,
              "version_major": 2
            },
            "text/plain": [
              "  0%|          | 0/2 [00:00<?, ?it/s]"
            ]
          },
          "metadata": {}
        }
      ]
    },
    {
      "cell_type": "code",
      "source": [
        "dataset"
      ],
      "metadata": {
        "id": "b2spthn401wh",
        "colab": {
          "base_uri": "https://localhost:8080/"
        },
        "outputId": "1fe6484c-70de-4401-caea-7f4ddf89e651"
      },
      "execution_count": 10,
      "outputs": [
        {
          "output_type": "execute_result",
          "data": {
            "text/plain": [
              "DatasetDict({\n",
              "    train: Dataset({\n",
              "        features: ['answers', 'context', 'id', 'question', 'title'],\n",
              "        num_rows: 166\n",
              "    })\n",
              "    test: Dataset({\n",
              "        features: ['answers', 'context', 'id', 'question', 'title'],\n",
              "        num_rows: 19\n",
              "    })\n",
              "})"
            ]
          },
          "metadata": {},
          "execution_count": 10
        }
      ]
    },
    {
      "cell_type": "code",
      "source": [
        "dataset[\"train\"][0]"
      ],
      "metadata": {
        "colab": {
          "base_uri": "https://localhost:8080/"
        },
        "id": "pY8Qev97Yo1r",
        "outputId": "5db92b99-ee9d-4c06-aa6f-40dec20e6cc4"
      },
      "execution_count": 11,
      "outputs": [
        {
          "output_type": "execute_result",
          "data": {
            "text/plain": [
              "{'answers': {'answer_start': [4163],\n",
              "  'text': ['Phòng Công tác Sinh viên: Được thành lập năm vào tháng 12/2009, Phòng Công tác Sinh viên (PCTSV) là đơn vị tham mưu giúp việc cho Ban Giám hiệu trong công tác thực hiện chế độ chính sách, học bổng Doanh nghiệp, khen thưởng-kỷ luật sinh viên']},\n",
              " 'context': 'Phòng Đào tạo Sau đại học: Tham mưu cho Hiệu trưởng về các công tác quản lý đào tạo và bồi dưỡng sau đại học thuộc trách nhiệm và thẩm quyền. Liên hệ: Room O2 – 609Telephone: (84)-28-37244270. Ext: 3120Fax: (84-28) 37244271. Phòng Vật tư Thiết bị: Phòng Vật tư Thiết bị Liên hệ: Phòng O1 – 612, Trường Đại học Quốc tếKhu phố 6, Phường Linh Trung, Quận Thủ Đức, TP. HCMĐiện thoại: (028) 37244270 – số máy lẻ: 3555, 3246 Fax: (028) 37244271. Trung tâm Đổi mới sáng tạo và Chuyển giao công nghệ: Trung tâm là đơn vị sự nghiệp khoa học trực thuộc trường Đại Học Quốc Tế – Đại Học Quốc Gia TP. HCM, có chức năng cung cấp dịch vụ – nghiên cứu – đào tạo – tư vấn và chuyển giao công nghệ cho các doanh nghiệp và các cơ quan chức năng Nhà nước. Trung tâm là cầu nối giữa giảng viên và sinh viên của Trường với các nghiên cứu và dự án thực tiễn tại các doanh nghiệp và đơn vị chức năng trực thuộc nhà nước. Liên hệ: Phòng O2– 303, Trường Đại học Quốc tếKhu phố 6, Phường Linh Trung, Quận Thủ Đức, TP. HCMĐiện thoại: (028) 37244270 – số máy lẻ: 3949 Fax: (028) 37244271. Phòng Hành chính Tổng hợp: Phòng Hành chính Tổng hợp Liên hệ: Phòng O2-711, Trường Đại học Quốc tếKhu phố 6, Phường Linh Trung, Quận Thủ Đức, TP. HCMĐiện thoại: (028) 37244270 – số máy lẻ: 3225, 3939, 3737 Fax: (028) 37244271. Phòng Đầu tư & Phát triển: Tham mưu, đề xuất Hiệu trưởng thực hiện chức năng chủ đầu tư xây dựng quản lý và sử dụng các nguồn vốn được giao để tổ chức quản lý thực hiện dự án đầu tư xây dựng. Phòng Quản trị cơ sở vật chất: Phòng có chức năng tham mưu và giúp Hiệu trưởng trong công tác quản lý, mua sắm, sữa chữa, bảo quản cơ sở vật chất của trường, phục vụ cho công tác đào tạo, nghiên cứu khoa học, của cán bộ công nhân viên và sinh viên toàn trường. Liên hệ: Phòng O2 – 702, Trường Đại học Quốc tếKhu phố 6, Phường Linh Trung, Quận Thủ Đức, TP. HCMĐiện thoại: (028) 37244270 – số máy lẻ: 3223. Phòng Quan hệ Đối ngoại: Tham mưu cho Hiệu trưởng về công tác đối ngoại, quan hệ công chúng và truyền thông của trường. Phòng Quản lý Khoa học: Tham mưu cho Hiệu trưởng về công tác quản lý toàn bộ hoạt động khoa học và công nghệ của trường. Phòng Tổ chức cán bộ: Phòng Tổ chức cán bộ Liên hệ: Phòng O2.709, Trường Đại học Quốc tếKhu phố 6, Phường Linh Trung, Quận Thủ Đức, TP. HCMĐiện thoại: (028) 37244270 – số máy lẻ: 3336, 3526, 3527 Fax: (028) 37244271. Phòng Hợp tác Đào tạo nước ngoài: Phòng Hợp tác Đào tạo nước ngoài Liên hệ: Phòng O1 – 614, Trường Đại học Quốc tếKhu phố 6, Phường Linh Trung, Quận Thủ Đức, TP. HCMĐiện thoại: (028) 37244270 – số máy lẻ: 3880 Fax: (028) 37244271. Trung tâm Dịch vụ Công nghệ thông tin: Trung tâm Dịch vụ Công nghệ Thông tin chịu trách nhiệm quản lý và hỗ trợ kỹ thuật cho toàn bộ hệ thống mạng Internet, mạng điện thoại và các trang web của trường. Bên cạnh đó Trung tâm còn có chức năng chụp ảnh, viết bài đưa tin những hình ảnh hoạt động thường xuyên của nhà trường nhằm xây dựng quảng bá hình ảnh thương hiệu trường ngày càng được nhiều người biết đến. Liên hệ: Phòng O1 – 312, Trường Đại học Quốc tếKhu phố 6, Phường Linh Trung, Quận Thủ Đức, TP. HCMĐiện thoại: (028) 37244270 – số máy lẻ: 3366. Phòng Kế hoạch Tài chính: Phòng có chức năng tham mưu và giúp Hiệu trưởng trong công tác xây dựng và quản lý kế hoạch về tài chính của trường, theo dõi giám sát và kiểm tra việc thu chi, sử dụng tài chính, kế hoạch tài chính và các lĩnh vực khác có liên quan đến công tác kế hoạch tài chính trong toàn trường. Liên hệ: Phòng O2 – 701, Trường Đại học Quốc tếKhu phố 6, Phường Linh Trung, Quận Thủ Đức, TP. HCM. Phòng Đào tạo Đại học: Phòng có chức năng tham mưu, giúp Hiệu trưởng trong kế hoạch đào tạo ngắn hạn và dài hạn của nhà trường. Tổ chức chỉ đạo thực hiện, kiểm tra và giám sát toàn bộ công tác giảng dạy và học tập trong trường, các hệ đào tạo chính quy đại học và sau đại học. Nghiên cứu đề xuất về mục tiêu đào tạo, các hệ đào tạo, cơ cấu ngành nghề, quy mô và phương thức đào tạo, cũng như việc phát triển cơ sở vật chất cần thiết phục vụ cho công tác giảng dạy và học tập. Liên hệ: Phòng O2 – 708, Trường Đại học Quốc tếKhu phố 6, Phường Linh Trung, Quận Thủ Đức, TP. HCMĐiện thoại: (028) 37244270 – số máy lẻ: 3777, 3229. Phòng Công tác Sinh viên: Được thành lập năm vào tháng 12/2009, Phòng Công tác Sinh viên (PCTSV) là đơn vị tham mưu giúp việc cho Ban Giám hiệu trong công tác thực hiện chế độ chính sách, học bổng Doanh nghiệp, khen thưởng-kỷ luật sinh viên. Phòng Thanh tra Pháp chế: Công tác thanh tra: Tham mưu, giúp Hiệu trưởng thực hiện đúng công tác thanh tra, kiểm tra trong phạm vi quản lý của Hiệu trưởng nhằm đảm bảo việc thực hiện chính sách pháp luật về giáo dục và chính sách, pháp luật liên quan. Công tác pháp chế: Chủ trì, phối hợp với các bộ phận liên quan tư vấn, giúp Hiệu trưởng về những vấn đề pháp lý. Phòng Bảo đảm Chất lượng Giáo dục và Khảo thí: Tư vấn, tham mưu cho Ban Giám hiệu về chiến lược, các kế hoạch cải tiến hoạt động bảo đảm chất lượng. Trung tâm đào tạo Quản lý công: Trung tâm Đào tạo Quản lý công là nơi đào tạo nên những nhà lãnh đạo theo hướng đổi mới sáng tạo, quản trị tốt với kỹ năng, nghiệp vụ ngày càng chuyên nghiệp, hiệu quả. Liên hệ: Phòng O2 – 304 Điện thoại: (028) 37244270 – số máy lẻ: 3305. Khoa Công nghệ Thông tin: Thông qua các chương trình đào tạo kỹ sư phần cứng máy tính, mạng máy tính, phần mềm và Khoa học dữ liệu, Khoa CNTT đã đào tạo ra nhiều lứa sinh viên có trình độ chuyên môn cao và khả năng ngoại ngữ lưu loát. Liên hệ: Phòng A1.610 Điện thoại: (84-28) 37244270 – Số máy lẻ: 3232. Bộ môn Kỹ thuật Xây dựng: Bộ môn Kỹ thuật Xây dựng (KTXD) được thành lập vào tháng 1 năm 2011 nhằm xây dựng một nền tảng vững chắc cho sinh viên và giúp giảng viên phát huy tối đa khả năng của mình Liên hệ: Phòng O1 – 506 Điện thoại: (84 -28) 3724 4270 số nhánh lẻ: 342. Khoa Kỹ thuật và Quản lý Công nghiệp: Khoa Kỹ thuật và Quản lý Công nghiệp mong muốn thu hút, đào tạo sinh viên và chuẩn bị cho họ trở thành những nhà cán bộ kỹ thuật và nhà lãnh đạo trong các lãnh vực Quản lý Sản xuất, Hậu cần, Chuỗi Cung ứng, các ngành Dịch vụ tại Việt Nam Liên hệ: Phòng O2 – 602 Điện thoại: (84 – 28) 37244270 số máy lẻ: 3327, 3982. Khoa Công nghệ Sinh học: Chương trình đào tạo của Khoa CNSH được xây dựng trên nền tảng của các chương trình tiên tiến có khả năng giải quyết các nhu cầu thực tiễn trong nước, tập trung vào việc trang bị kiến thức hiện đại, kỹ năng thực hành và làm việc cần thiết cho người học Liên hệ: Phòng O1 – 708 Điện thoại: (84 – 28) 37244270 – số máy lẻ 3233. Bộ môn Toán: Bộ môn Toán chịu trách nhiệm biên soạn đề cương, chương trình và thực hiện giảng dạy các học phần Toán học cho sinh viên trường Đại học Quốc tế. Liên hệ: Phòng O2 – 610 Điện thoại: (84-28) 3724 4270 số nhánh lẻ: 3235. Khoa Điện tử Viễn thông: Mục tiêu của Khoa ĐTVT chính là chuẩn bị cho sinh viên tốt nghiệp một hành trang vững chắc để thích ứng với những thay đổi nhanh chóng của thế giới công nghệ, đặc biệt là trong các lĩnh vực Kỹ thuật Điện tử, Viễn thông, Xử lý Tín hiệu (âm thanh, hình ảnh), Kỹ thuật Điều khiển và Tự động hóa Liên hệ: Phòng A2.206 ĐT: (84-28) 37244270 – số nội bộ: 3231. Khoa Kỹ thuật Y sinh: Kỹ thuật Y Sinh (KTYS) hiện đang là một lĩnh vực nổi bật thu hút sự quan tâm trên thế giới Liên hệ: Phòng O1- 405 Điện thoại: (84-28) 3724 4270 số nhánh lẻ: 3236. Bộ môn Kỹ thuật Môi trường: Bộ môn Kỹ thuật Môi trường được thành lập vào tháng 7 năm 2017 với sứ mệnh là đào tạo ra những kỹ sư cho ngành kỹ thuật môi trường với kiến thức chuyên môn sâu, cùng với những kỹ năng cần thiết để đáp ứng nhu cầu nhân lực chất lượng cao, giải quyết các vấn đề ô nhiễm môi trường (ô nhiễm nguồn nước, ô nhiễm không khí, chất thải rắn). Liên hệ: Phòng A2-513 Điện thoại: (028) 3724 4270 Số nhánh lẻ: 3950. Khoa Quản trị kinh doanh: Một đơn vị đào tạo cử nhân ngành quản trị kinh doanh chất lượng cao trong khối trường đại học công lập Liên hệ: Phòng 01 – 306 Điện thoại: (84-28) 37244270 số máy lẻ: 3230, 3724',\n",
              " 'id': 58,\n",
              " 'question': 'Cho tôi hỏi về Phòng Công tác Sinh viên',\n",
              " 'title': 'Thông tin chung'}"
            ]
          },
          "metadata": {},
          "execution_count": 11
        }
      ]
    },
    {
      "cell_type": "markdown",
      "source": [
        "Review the Dataset"
      ],
      "metadata": {
        "id": "IztAbwIWZB_M"
      }
    },
    {
      "cell_type": "code",
      "source": [
        "from datasets import ClassLabel, Sequence\n",
        "import random\n",
        "import pandas as pd\n",
        "from IPython.display import display, HTML\n",
        "\n",
        "def show_random_elements(dataset, num_examples=10):\n",
        "    assert num_examples <= len(dataset), \"Can't pick more elements than there are in the dataset.\"\n",
        "    picks = []\n",
        "    for _ in range(num_examples):\n",
        "        pick = random.randint(0, len(dataset)-1)\n",
        "        while pick in picks:\n",
        "            pick = random.randint(0, len(dataset)-1)\n",
        "        picks.append(pick)\n",
        "    \n",
        "    df = pd.DataFrame(dataset[picks])\n",
        "    for column, typ in dataset.features.items():\n",
        "        if isinstance(typ, ClassLabel):\n",
        "            df[column] = df[column].transform(lambda i: typ.names[i])\n",
        "        elif isinstance(typ, Sequence) and isinstance(typ.feature, ClassLabel):\n",
        "            df[column] = df[column].transform(lambda x: [typ.feature.names[i] for i in x])\n",
        "    display(HTML(df.to_html()))"
      ],
      "metadata": {
        "id": "klcStvFt0-d2"
      },
      "execution_count": 12,
      "outputs": []
    },
    {
      "cell_type": "code",
      "source": [
        "show_random_elements(dataset[\"train\"])"
      ],
      "metadata": {
        "colab": {
          "base_uri": "https://localhost:8080/",
          "height": 1000
        },
        "id": "ZId-9Gp6YzJQ",
        "outputId": "b4d94745-4ed5-483b-fa53-7a566fbdaae8"
      },
      "execution_count": 13,
      "outputs": [
        {
          "output_type": "display_data",
          "data": {
            "text/html": [
              "<table border=\"1\" class=\"dataframe\">\n",
              "  <thead>\n",
              "    <tr style=\"text-align: right;\">\n",
              "      <th></th>\n",
              "      <th>answers</th>\n",
              "      <th>context</th>\n",
              "      <th>id</th>\n",
              "      <th>question</th>\n",
              "      <th>title</th>\n",
              "    </tr>\n",
              "  </thead>\n",
              "  <tbody>\n",
              "    <tr>\n",
              "      <th>0</th>\n",
              "      <td>{'answer_start': [0], 'text': ['Phòng Đào tạo Sau đại học: Tham mưu cho Hiệu trưởng về các công tác quản lý đào tạo và bồi dưỡng sau đại học thuộc trách nhiệm và thẩm quyền. Liên hệ: Room O2 – 609Telephone: (84)-28-37244270. Ext: 3120Fax: (84-28) 37244271']}</td>\n",
              "      <td>Phòng Đào tạo Sau đại học: Tham mưu cho Hiệu trưởng về các công tác quản lý đào tạo và bồi dưỡng sau đại học thuộc trách nhiệm và thẩm quyền. Liên hệ: Room O2 – 609Telephone: (84)-28-37244270. Ext: 3120Fax: (84-28) 37244271. Phòng Vật tư Thiết bị: Phòng Vật tư Thiết bị Liên hệ: Phòng O1 – 612, Trường Đại học Quốc tếKhu phố 6, Phường Linh Trung, Quận Thủ Đức, TP. HCMĐiện thoại: (028) 37244270 – số máy lẻ: 3555, 3246 Fax: (028) 37244271. Trung tâm Đổi mới sáng tạo và Chuyển giao công nghệ: Trung tâm là đơn vị sự nghiệp khoa học trực thuộc trường Đại Học Quốc Tế – Đại Học Quốc Gia TP. HCM, có chức năng cung cấp dịch vụ – nghiên cứu – đào tạo – tư vấn và chuyển giao công nghệ cho các doanh nghiệp và các cơ quan chức năng Nhà nước. Trung tâm là cầu nối giữa giảng viên và sinh viên của Trường với các nghiên cứu và dự án thực tiễn tại các doanh nghiệp và đơn vị chức năng trực thuộc nhà nước. Liên hệ: Phòng O2– 303, Trường Đại học Quốc tếKhu phố 6, Phường Linh Trung, Quận Thủ Đức, TP. HCMĐiện thoại: (028) 37244270 – số máy lẻ: 3949 Fax: (028) 37244271. Phòng Hành chính Tổng hợp: Phòng Hành chính Tổng hợp Liên hệ: Phòng O2-711, Trường Đại học Quốc tếKhu phố 6, Phường Linh Trung, Quận Thủ Đức, TP. HCMĐiện thoại: (028) 37244270 – số máy lẻ: 3225, 3939, 3737 Fax: (028) 37244271. Phòng Đầu tư &amp; Phát triển: Tham mưu, đề xuất Hiệu trưởng thực hiện chức năng chủ đầu tư xây dựng quản lý và sử dụng các nguồn vốn được giao để tổ chức quản lý thực hiện dự án đầu tư xây dựng. Phòng Quản trị cơ sở vật chất: Phòng có chức năng tham mưu và giúp Hiệu trưởng trong công tác quản lý, mua sắm, sữa chữa, bảo quản cơ sở vật chất của trường, phục vụ cho công tác đào tạo, nghiên cứu khoa học, của cán bộ công nhân viên và sinh viên toàn trường. Liên hệ: Phòng O2 – 702, Trường Đại học Quốc tếKhu phố 6, Phường Linh Trung, Quận Thủ Đức, TP. HCMĐiện thoại: (028) 37244270 – số máy lẻ: 3223. Phòng Quan hệ Đối ngoại: Tham mưu cho Hiệu trưởng về công tác đối ngoại, quan hệ công chúng và truyền thông của trường. Phòng Quản lý Khoa học: Tham mưu cho Hiệu trưởng về công tác quản lý toàn bộ hoạt động khoa học và công nghệ của trường. Phòng Tổ chức cán bộ: Phòng Tổ chức cán bộ Liên hệ: Phòng O2.709, Trường Đại học Quốc tếKhu phố 6, Phường Linh Trung, Quận Thủ Đức, TP. HCMĐiện thoại: (028) 37244270 – số máy lẻ: 3336, 3526, 3527 Fax: (028) 37244271. Phòng Hợp tác Đào tạo nước ngoài: Phòng Hợp tác Đào tạo nước ngoài Liên hệ: Phòng O1 – 614, Trường Đại học Quốc tếKhu phố 6, Phường Linh Trung, Quận Thủ Đức, TP. HCMĐiện thoại: (028) 37244270 – số máy lẻ: 3880 Fax: (028) 37244271. Trung tâm Dịch vụ Công nghệ thông tin: Trung tâm Dịch vụ Công nghệ Thông tin chịu trách nhiệm quản lý và hỗ trợ kỹ thuật cho toàn bộ hệ thống mạng Internet, mạng điện thoại và các trang web của trường. Bên cạnh đó Trung tâm còn có chức năng chụp ảnh, viết bài đưa tin những hình ảnh hoạt động thường xuyên của nhà trường nhằm xây dựng quảng bá hình ảnh thương hiệu trường ngày càng được nhiều người biết đến. Liên hệ: Phòng O1 – 312, Trường Đại học Quốc tếKhu phố 6, Phường Linh Trung, Quận Thủ Đức, TP. HCMĐiện thoại: (028) 37244270 – số máy lẻ: 3366. Phòng Kế hoạch Tài chính: Phòng có chức năng tham mưu và giúp Hiệu trưởng trong công tác xây dựng và quản lý kế hoạch về tài chính của trường, theo dõi giám sát và kiểm tra việc thu chi, sử dụng tài chính, kế hoạch tài chính và các lĩnh vực khác có liên quan đến công tác kế hoạch tài chính trong toàn trường. Liên hệ: Phòng O2 – 701, Trường Đại học Quốc tếKhu phố 6, Phường Linh Trung, Quận Thủ Đức, TP. HCM. Phòng Đào tạo Đại học: Phòng có chức năng tham mưu, giúp Hiệu trưởng trong kế hoạch đào tạo ngắn hạn và dài hạn của nhà trường. Tổ chức chỉ đạo thực hiện, kiểm tra và giám sát toàn bộ công tác giảng dạy và học tập trong trường, các hệ đào tạo chính quy đại học và sau đại học. Nghiên cứu đề xuất về mục tiêu đào tạo, các hệ đào tạo, cơ cấu ngành nghề, quy mô và phương thức đào tạo, cũng như việc phát triển cơ sở vật chất cần thiết phục vụ cho công tác giảng dạy và học tập. Liên hệ: Phòng O2 – 708, Trường Đại học Quốc tếKhu phố 6, Phường Linh Trung, Quận Thủ Đức, TP. HCMĐiện thoại: (028) 37244270 – số máy lẻ: 3777, 3229. Phòng Công tác Sinh viên: Được thành lập năm vào tháng 12/2009, Phòng Công tác Sinh viên (PCTSV) là đơn vị tham mưu giúp việc cho Ban Giám hiệu trong công tác thực hiện chế độ chính sách, học bổng Doanh nghiệp, khen thưởng-kỷ luật sinh viên. Phòng Thanh tra Pháp chế: Công tác thanh tra: Tham mưu, giúp Hiệu trưởng thực hiện đúng công tác thanh tra, kiểm tra trong phạm vi quản lý của Hiệu trưởng nhằm đảm bảo việc thực hiện chính sách pháp luật về giáo dục và chính sách, pháp luật liên quan. Công tác pháp chế: Chủ trì, phối hợp với các bộ phận liên quan tư vấn, giúp Hiệu trưởng về những vấn đề pháp lý. Phòng Bảo đảm Chất lượng Giáo dục và Khảo thí: Tư vấn, tham mưu cho Ban Giám hiệu về chiến lược, các kế hoạch cải tiến hoạt động bảo đảm chất lượng. Trung tâm đào tạo Quản lý công: Trung tâm Đào tạo Quản lý công là nơi đào tạo nên những nhà lãnh đạo theo hướng đổi mới sáng tạo, quản trị tốt với kỹ năng, nghiệp vụ ngày càng chuyên nghiệp, hiệu quả. Liên hệ: Phòng O2 – 304 Điện thoại: (028) 37244270 – số máy lẻ: 3305. Khoa Công nghệ Thông tin: Thông qua các chương trình đào tạo kỹ sư phần cứng máy tính, mạng máy tính, phần mềm và Khoa học dữ liệu, Khoa CNTT đã đào tạo ra nhiều lứa sinh viên có trình độ chuyên môn cao và khả năng ngoại ngữ lưu loát. Liên hệ: Phòng A1.610 Điện thoại: (84-28) 37244270 – Số máy lẻ: 3232. Bộ môn Kỹ thuật Xây dựng: Bộ môn Kỹ thuật Xây dựng (KTXD) được thành lập vào tháng 1 năm 2011 nhằm xây dựng một nền tảng vững chắc cho sinh viên và giúp giảng viên phát huy tối đa khả năng của mình Liên hệ: Phòng O1 – 506 Điện thoại: (84 -28) 3724 4270 số nhánh lẻ: 342. Khoa Kỹ thuật và Quản lý Công nghiệp: Khoa Kỹ thuật và Quản lý Công nghiệp mong muốn thu hút, đào tạo sinh viên và chuẩn bị cho họ trở thành những nhà cán bộ kỹ thuật và nhà lãnh đạo trong các lãnh vực Quản lý Sản xuất, Hậu cần, Chuỗi Cung ứng, các ngành Dịch vụ tại Việt Nam Liên hệ: Phòng O2 – 602 Điện thoại: (84 – 28) 37244270 số máy lẻ: 3327, 3982. Khoa Công nghệ Sinh học: Chương trình đào tạo của Khoa CNSH được xây dựng trên nền tảng của các chương trình tiên tiến có khả năng giải quyết các nhu cầu thực tiễn trong nước, tập trung vào việc trang bị kiến thức hiện đại, kỹ năng thực hành và làm việc cần thiết cho người học Liên hệ: Phòng O1 – 708 Điện thoại: (84 – 28) 37244270 – số máy lẻ 3233. Bộ môn Toán: Bộ môn Toán chịu trách nhiệm biên soạn đề cương, chương trình và thực hiện giảng dạy các học phần Toán học cho sinh viên trường Đại học Quốc tế. Liên hệ: Phòng O2 – 610 Điện thoại: (84-28) 3724 4270 số nhánh lẻ: 3235. Khoa Điện tử Viễn thông: Mục tiêu của Khoa ĐTVT chính là chuẩn bị cho sinh viên tốt nghiệp một hành trang vững chắc để thích ứng với những thay đổi nhanh chóng của thế giới công nghệ, đặc biệt là trong các lĩnh vực Kỹ thuật Điện tử, Viễn thông, Xử lý Tín hiệu (âm thanh, hình ảnh), Kỹ thuật Điều khiển và Tự động hóa Liên hệ: Phòng A2.206 ĐT: (84-28) 37244270 – số nội bộ: 3231. Khoa Kỹ thuật Y sinh: Kỹ thuật Y Sinh (KTYS) hiện đang là một lĩnh vực nổi bật thu hút sự quan tâm trên thế giới Liên hệ: Phòng O1- 405 Điện thoại: (84-28) 3724 4270 số nhánh lẻ: 3236. Bộ môn Kỹ thuật Môi trường: Bộ môn Kỹ thuật Môi trường được thành lập vào tháng 7 năm 2017 với sứ mệnh là đào tạo ra những kỹ sư cho ngành kỹ thuật môi trường với kiến thức chuyên môn sâu, cùng với những kỹ năng cần thiết để đáp ứng nhu cầu nhân lực chất lượng cao, giải quyết các vấn đề ô nhiễm môi trường (ô nhiễm nguồn nước, ô nhiễm không khí, chất thải rắn). Liên hệ: Phòng A2-513 Điện thoại: (028) 3724 4270 Số nhánh lẻ: 3950. Khoa Quản trị kinh doanh: Một đơn vị đào tạo cử nhân ngành quản trị kinh doanh chất lượng cao trong khối trường đại học công lập Liên hệ: Phòng 01 – 306 Điện thoại: (84-28) 37244270 số máy lẻ: 3230, 3724</td>\n",
              "      <td>71</td>\n",
              "      <td>Chức năng nhiệm vụ của Phòng Đào tạo Sau đại học là gì?</td>\n",
              "      <td>Chức năng nhiệm vụ</td>\n",
              "    </tr>\n",
              "    <tr>\n",
              "      <th>1</th>\n",
              "      <td>{'answer_start': [1885], 'text': ['Phòng Quan hệ Đối ngoại: Tham mưu cho Hiệu trưởng về công tác đối ngoại, quan hệ công chúng và truyền thông của trường']}</td>\n",
              "      <td>Phòng Đào tạo Sau đại học: Tham mưu cho Hiệu trưởng về các công tác quản lý đào tạo và bồi dưỡng sau đại học thuộc trách nhiệm và thẩm quyền. Liên hệ: Room O2 – 609Telephone: (84)-28-37244270. Ext: 3120Fax: (84-28) 37244271. Phòng Vật tư Thiết bị: Phòng Vật tư Thiết bị Liên hệ: Phòng O1 – 612, Trường Đại học Quốc tếKhu phố 6, Phường Linh Trung, Quận Thủ Đức, TP. HCMĐiện thoại: (028) 37244270 – số máy lẻ: 3555, 3246 Fax: (028) 37244271. Trung tâm Đổi mới sáng tạo và Chuyển giao công nghệ: Trung tâm là đơn vị sự nghiệp khoa học trực thuộc trường Đại Học Quốc Tế – Đại Học Quốc Gia TP. HCM, có chức năng cung cấp dịch vụ – nghiên cứu – đào tạo – tư vấn và chuyển giao công nghệ cho các doanh nghiệp và các cơ quan chức năng Nhà nước. Trung tâm là cầu nối giữa giảng viên và sinh viên của Trường với các nghiên cứu và dự án thực tiễn tại các doanh nghiệp và đơn vị chức năng trực thuộc nhà nước. Liên hệ: Phòng O2– 303, Trường Đại học Quốc tếKhu phố 6, Phường Linh Trung, Quận Thủ Đức, TP. HCMĐiện thoại: (028) 37244270 – số máy lẻ: 3949 Fax: (028) 37244271. Phòng Hành chính Tổng hợp: Phòng Hành chính Tổng hợp Liên hệ: Phòng O2-711, Trường Đại học Quốc tếKhu phố 6, Phường Linh Trung, Quận Thủ Đức, TP. HCMĐiện thoại: (028) 37244270 – số máy lẻ: 3225, 3939, 3737 Fax: (028) 37244271. Phòng Đầu tư &amp; Phát triển: Tham mưu, đề xuất Hiệu trưởng thực hiện chức năng chủ đầu tư xây dựng quản lý và sử dụng các nguồn vốn được giao để tổ chức quản lý thực hiện dự án đầu tư xây dựng. Phòng Quản trị cơ sở vật chất: Phòng có chức năng tham mưu và giúp Hiệu trưởng trong công tác quản lý, mua sắm, sữa chữa, bảo quản cơ sở vật chất của trường, phục vụ cho công tác đào tạo, nghiên cứu khoa học, của cán bộ công nhân viên và sinh viên toàn trường. Liên hệ: Phòng O2 – 702, Trường Đại học Quốc tếKhu phố 6, Phường Linh Trung, Quận Thủ Đức, TP. HCMĐiện thoại: (028) 37244270 – số máy lẻ: 3223. Phòng Quan hệ Đối ngoại: Tham mưu cho Hiệu trưởng về công tác đối ngoại, quan hệ công chúng và truyền thông của trường. Phòng Quản lý Khoa học: Tham mưu cho Hiệu trưởng về công tác quản lý toàn bộ hoạt động khoa học và công nghệ của trường. Phòng Tổ chức cán bộ: Phòng Tổ chức cán bộ Liên hệ: Phòng O2.709, Trường Đại học Quốc tếKhu phố 6, Phường Linh Trung, Quận Thủ Đức, TP. HCMĐiện thoại: (028) 37244270 – số máy lẻ: 3336, 3526, 3527 Fax: (028) 37244271. Phòng Hợp tác Đào tạo nước ngoài: Phòng Hợp tác Đào tạo nước ngoài Liên hệ: Phòng O1 – 614, Trường Đại học Quốc tếKhu phố 6, Phường Linh Trung, Quận Thủ Đức, TP. HCMĐiện thoại: (028) 37244270 – số máy lẻ: 3880 Fax: (028) 37244271. Trung tâm Dịch vụ Công nghệ thông tin: Trung tâm Dịch vụ Công nghệ Thông tin chịu trách nhiệm quản lý và hỗ trợ kỹ thuật cho toàn bộ hệ thống mạng Internet, mạng điện thoại và các trang web của trường. Bên cạnh đó Trung tâm còn có chức năng chụp ảnh, viết bài đưa tin những hình ảnh hoạt động thường xuyên của nhà trường nhằm xây dựng quảng bá hình ảnh thương hiệu trường ngày càng được nhiều người biết đến. Liên hệ: Phòng O1 – 312, Trường Đại học Quốc tếKhu phố 6, Phường Linh Trung, Quận Thủ Đức, TP. HCMĐiện thoại: (028) 37244270 – số máy lẻ: 3366. Phòng Kế hoạch Tài chính: Phòng có chức năng tham mưu và giúp Hiệu trưởng trong công tác xây dựng và quản lý kế hoạch về tài chính của trường, theo dõi giám sát và kiểm tra việc thu chi, sử dụng tài chính, kế hoạch tài chính và các lĩnh vực khác có liên quan đến công tác kế hoạch tài chính trong toàn trường. Liên hệ: Phòng O2 – 701, Trường Đại học Quốc tếKhu phố 6, Phường Linh Trung, Quận Thủ Đức, TP. HCM. Phòng Đào tạo Đại học: Phòng có chức năng tham mưu, giúp Hiệu trưởng trong kế hoạch đào tạo ngắn hạn và dài hạn của nhà trường. Tổ chức chỉ đạo thực hiện, kiểm tra và giám sát toàn bộ công tác giảng dạy và học tập trong trường, các hệ đào tạo chính quy đại học và sau đại học. Nghiên cứu đề xuất về mục tiêu đào tạo, các hệ đào tạo, cơ cấu ngành nghề, quy mô và phương thức đào tạo, cũng như việc phát triển cơ sở vật chất cần thiết phục vụ cho công tác giảng dạy và học tập. Liên hệ: Phòng O2 – 708, Trường Đại học Quốc tếKhu phố 6, Phường Linh Trung, Quận Thủ Đức, TP. HCMĐiện thoại: (028) 37244270 – số máy lẻ: 3777, 3229. Phòng Công tác Sinh viên: Được thành lập năm vào tháng 12/2009, Phòng Công tác Sinh viên (PCTSV) là đơn vị tham mưu giúp việc cho Ban Giám hiệu trong công tác thực hiện chế độ chính sách, học bổng Doanh nghiệp, khen thưởng-kỷ luật sinh viên. Phòng Thanh tra Pháp chế: Công tác thanh tra: Tham mưu, giúp Hiệu trưởng thực hiện đúng công tác thanh tra, kiểm tra trong phạm vi quản lý của Hiệu trưởng nhằm đảm bảo việc thực hiện chính sách pháp luật về giáo dục và chính sách, pháp luật liên quan. Công tác pháp chế: Chủ trì, phối hợp với các bộ phận liên quan tư vấn, giúp Hiệu trưởng về những vấn đề pháp lý. Phòng Bảo đảm Chất lượng Giáo dục và Khảo thí: Tư vấn, tham mưu cho Ban Giám hiệu về chiến lược, các kế hoạch cải tiến hoạt động bảo đảm chất lượng. Trung tâm đào tạo Quản lý công: Trung tâm Đào tạo Quản lý công là nơi đào tạo nên những nhà lãnh đạo theo hướng đổi mới sáng tạo, quản trị tốt với kỹ năng, nghiệp vụ ngày càng chuyên nghiệp, hiệu quả. Liên hệ: Phòng O2 – 304 Điện thoại: (028) 37244270 – số máy lẻ: 3305. Khoa Công nghệ Thông tin: Thông qua các chương trình đào tạo kỹ sư phần cứng máy tính, mạng máy tính, phần mềm và Khoa học dữ liệu, Khoa CNTT đã đào tạo ra nhiều lứa sinh viên có trình độ chuyên môn cao và khả năng ngoại ngữ lưu loát. Liên hệ: Phòng A1.610 Điện thoại: (84-28) 37244270 – Số máy lẻ: 3232. Bộ môn Kỹ thuật Xây dựng: Bộ môn Kỹ thuật Xây dựng (KTXD) được thành lập vào tháng 1 năm 2011 nhằm xây dựng một nền tảng vững chắc cho sinh viên và giúp giảng viên phát huy tối đa khả năng của mình Liên hệ: Phòng O1 – 506 Điện thoại: (84 -28) 3724 4270 số nhánh lẻ: 342. Khoa Kỹ thuật và Quản lý Công nghiệp: Khoa Kỹ thuật và Quản lý Công nghiệp mong muốn thu hút, đào tạo sinh viên và chuẩn bị cho họ trở thành những nhà cán bộ kỹ thuật và nhà lãnh đạo trong các lãnh vực Quản lý Sản xuất, Hậu cần, Chuỗi Cung ứng, các ngành Dịch vụ tại Việt Nam Liên hệ: Phòng O2 – 602 Điện thoại: (84 – 28) 37244270 số máy lẻ: 3327, 3982. Khoa Công nghệ Sinh học: Chương trình đào tạo của Khoa CNSH được xây dựng trên nền tảng của các chương trình tiên tiến có khả năng giải quyết các nhu cầu thực tiễn trong nước, tập trung vào việc trang bị kiến thức hiện đại, kỹ năng thực hành và làm việc cần thiết cho người học Liên hệ: Phòng O1 – 708 Điện thoại: (84 – 28) 37244270 – số máy lẻ 3233. Bộ môn Toán: Bộ môn Toán chịu trách nhiệm biên soạn đề cương, chương trình và thực hiện giảng dạy các học phần Toán học cho sinh viên trường Đại học Quốc tế. Liên hệ: Phòng O2 – 610 Điện thoại: (84-28) 3724 4270 số nhánh lẻ: 3235. Khoa Điện tử Viễn thông: Mục tiêu của Khoa ĐTVT chính là chuẩn bị cho sinh viên tốt nghiệp một hành trang vững chắc để thích ứng với những thay đổi nhanh chóng của thế giới công nghệ, đặc biệt là trong các lĩnh vực Kỹ thuật Điện tử, Viễn thông, Xử lý Tín hiệu (âm thanh, hình ảnh), Kỹ thuật Điều khiển và Tự động hóa Liên hệ: Phòng A2.206 ĐT: (84-28) 37244270 – số nội bộ: 3231. Khoa Kỹ thuật Y sinh: Kỹ thuật Y Sinh (KTYS) hiện đang là một lĩnh vực nổi bật thu hút sự quan tâm trên thế giới Liên hệ: Phòng O1- 405 Điện thoại: (84-28) 3724 4270 số nhánh lẻ: 3236. Bộ môn Kỹ thuật Môi trường: Bộ môn Kỹ thuật Môi trường được thành lập vào tháng 7 năm 2017 với sứ mệnh là đào tạo ra những kỹ sư cho ngành kỹ thuật môi trường với kiến thức chuyên môn sâu, cùng với những kỹ năng cần thiết để đáp ứng nhu cầu nhân lực chất lượng cao, giải quyết các vấn đề ô nhiễm môi trường (ô nhiễm nguồn nước, ô nhiễm không khí, chất thải rắn). Liên hệ: Phòng A2-513 Điện thoại: (028) 3724 4270 Số nhánh lẻ: 3950. Khoa Quản trị kinh doanh: Một đơn vị đào tạo cử nhân ngành quản trị kinh doanh chất lượng cao trong khối trường đại học công lập Liên hệ: Phòng 01 – 306 Điện thoại: (84-28) 37244270 số máy lẻ: 3230, 3724</td>\n",
              "      <td>77</td>\n",
              "      <td>Chức năng nhiệm vụ của Phòng Quan hệ Đối ngoại là gì?</td>\n",
              "      <td>Chức năng nhiệm vụ</td>\n",
              "    </tr>\n",
              "    <tr>\n",
              "      <th>2</th>\n",
              "      <td>{'answer_start': [575], 'text': ['Xét tuyển dựa trên kết quả kỳ thi THPT QG năm 2021 40% - 60% tổng chỉ tiêu tuyển sinh 2021']}</td>\n",
              "      <td>Xét tuyển dựa trên kết quả kỳ thi Đánh giá năng lực của ĐHQG TP. HCM năm 2021 10% - 30% tổng chỉ tiêu tuyển sinh 2021. Xét tuyển đối với thí sinh có chứng chỉ tú tài quốc tế hoặc tốt nghiệp chương trình trung học phổ thông nước ngoài 5% - 10% tổng chỉ tiêu tuyển sinh 2021. Xét tuyển dựa trên kết quả kỳ thi Đánh giá năng lực do Trường ĐH Quốc tế – ĐHQG TP. HCM tổ chức. 20% - 50% tổng chỉ tiêu tuyển sinh 2021. Xét tuyển thẳng, ưu tiên xét tuyển thẳng 1% tổng chỉ tiêu 2021. Ưu tiên xét tuyển học sinh giỏi các trường THPT theo quy định của ĐHQG 5 - 15% tổng chỉ tiêu 2021. Xét tuyển dựa trên kết quả kỳ thi THPT QG năm 2021 40% - 60% tổng chỉ tiêu tuyển sinh 2021</td>\n",
              "      <td>184</td>\n",
              "      <td>Cho hỏi về phương thức tuyển sinh Xét tuyển dựa trên kết quả kỳ thi THPT QG năm 2021 ?</td>\n",
              "      <td>Phương thức tuyển sinh</td>\n",
              "    </tr>\n",
              "    <tr>\n",
              "      <th>3</th>\n",
              "      <td>{'answer_start': [1536], 'text': ['Ngành Quản trị Kinh doanh (Mã ngành: 7340101_UH) ở phương thức Ưu tiên xét tuyển học sinh giỏi các trường THPT theo quy định của ĐHQG có điểm chuẩn 18.0']}</td>\n",
              "      <td>Ngành Công nghệ Thông tin (3+1) (Mã ngành: 7480201_DK3) ở phương thức Ưu tiên xét tuyển học sinh giỏi các trường THPT theo quy định của ĐHQG có điểm chuẩn 18.0. Ngành Ngôn ngữ Anh (Mã ngành: 7220201) ở phương thức Ưu tiên xét tuyển học sinh giỏi các trường THPT theo quy định của ĐHQG có điểm chuẩn 27.5. Ngành Kỹ thuật Điện tử (Mã ngành: 7520207_SB) ở phương thức Ưu tiên xét tuyển học sinh giỏi các trường THPT theo quy định của ĐHQG có điểm chuẩn 18.0. Ngành Công nghệ Sinh học (Mã ngành: 7420201) ở phương thức Ưu tiên xét tuyển học sinh giỏi các trường THPT theo quy định của ĐHQG có điểm chuẩn 22.0. Ngành Công nghệ Thông tin (2.5+1.5) (Mã ngành: 7480201_DK25) ở phương thức Ưu tiên xét tuyển học sinh giỏi các trường THPT theo quy định của ĐHQG có điểm chuẩn 18.0. Ngành Công nghệ Thực phẩm (Mã ngành: 7540101) ở phương thức Ưu tiên xét tuyển học sinh giỏi các trường THPT theo quy định của ĐHQG có điểm chuẩn 22.0. Ngành Hóa học (Hóa sinh) (Mã ngành: 7440112) ở phương thức Ưu tiên xét tuyển học sinh giỏi các trường THPT theo quy định của ĐHQG có điểm chuẩn 22.0. Ngành Kỹ thuật Xây dựng (Mã ngành: 7580201) ở phương thức Ưu tiên xét tuyển học sinh giỏi các trường THPT theo quy định của ĐHQG có điểm chuẩn 21.0. Ngành Quản trị Kinh doanh (2+2) (Mã ngành: 7340101_WE) ở phương thức Ưu tiên xét tuyển học sinh giỏi các trường THPT theo quy định của ĐHQG có điểm chuẩn 18.0. Ngành Công nghệ Thông tin (Mã ngành: 7480201_UN) ở phương thức Ưu tiên xét tuyển học sinh giỏi các trường THPT theo quy định của ĐHQG có điểm chuẩn 18.0. Ngành Quản trị Kinh doanh (Mã ngành: 7340101_UH) ở phương thức Ưu tiên xét tuyển học sinh giỏi các trường THPT theo quy định của ĐHQG có điểm chuẩn 18.0. Ngành Công nghệ Thông tin (Mã ngành: 7480201) ở phương thức Ưu tiên xét tuyển học sinh giỏi các trường THPT theo quy định của ĐHQG có điểm chuẩn 23.0. Ngành Công nghệ Thực phẩm (Mã ngành: 7540101_UN) ở phương thức Ưu tiên xét tuyển học sinh giỏi các trường THPT theo quy định của ĐHQG có điểm chuẩn 18.0. Ngành Kỹ thuật Hệ thống Công nghiệp (Mã ngành: 7520118) ở phương thức Ưu tiên xét tuyển học sinh giỏi các trường THPT theo quy định của ĐHQG có điểm chuẩn 21.0. Ngành Kỹ thuật Điện tử - Viễn thông (Mã ngành: 7520207_WE) ở phương thức Ưu tiên xét tuyển học sinh giỏi các trường THPT theo quy định của ĐHQG có điểm chuẩn 18.0. Ngành Kỹ thuật Y Sinh (Mã ngành: 7520212) ở phương thức Ưu tiên xét tuyển học sinh giỏi các trường THPT theo quy định của ĐHQG có điểm chuẩn 24.0. Ngành Toán ứng dụng (Kỹ thuật Tài chính và Quản trị rủi ro) (Mã ngành: 7460112) ở phương thức Ưu tiên xét tuyển học sinh giỏi các trường THPT theo quy định của ĐHQG có điểm chuẩn 22.0. Ngành Quản trị kinh doanh (Mã ngành: 7340101_NS) ở phương thức Ưu tiên xét tuyển học sinh giỏi các trường THPT theo quy định của ĐHQG có điểm chuẩn 18.0. Ngành Tài chính – Ngân hàng (Mã ngành: 7340201) ở phương thức Ưu tiên xét tuyển học sinh giỏi các trường THPT theo quy định của ĐHQG có điểm chuẩn 24.0. Ngành Kỹ thuật Máy tính (Mã ngành: 7480106_SB) ở phương thức Ưu tiên xét tuyển học sinh giỏi các trường THPT theo quy định của ĐHQG có điểm chuẩn 18.0. Ngành Công nghệ Thông tin (2+2) (Mã ngành: 7480201_DK2) ở phương thức Ưu tiên xét tuyển học sinh giỏi các trường THPT theo quy định của ĐHQG có điểm chuẩn 18.0. Ngành Quản trị Kinh doanh (Mã ngành: 7340101_AU) ở phương thức Ưu tiên xét tuyển học sinh giỏi các trường THPT theo quy định của ĐHQG có điểm chuẩn 18.0. Ngành Logistics và Quản lý chuỗi cung ứng (Mã ngành: 7510605) ở phương thức Ưu tiên xét tuyển học sinh giỏi các trường THPT theo quy định của ĐHQG có điểm chuẩn 27.5. Ngành Kỹ thuật Điện tử - Viễn thông (Mã ngành: 7520207_UN) ở phương thức Ưu tiên xét tuyển học sinh giỏi các trường THPT theo quy định của ĐHQG có điểm chuẩn 18.0. Ngành Quản trị kinh doanh (4+0) (Mã ngành: 7340101_WE4) ở phương thức Ưu tiên xét tuyển học sinh giỏi các trường THPT theo quy định của ĐHQG có điểm chuẩn 18.0. Ngành Khoa học Dữ liệu (Mã ngành: 7480109) ở phương thức Ưu tiên xét tuyển học sinh giỏi các trường THPT theo quy định của ĐHQG có điểm chuẩn 23.0. Ngành Quản lý Xây dựng (Mã ngành: 7580302) ở phương thức Ưu tiên xét tuyển học sinh giỏi các trường THPT theo quy định của ĐHQG có điểm chuẩn 21.0. Ngành Công nghệ Sinh học định hướng Y sinh (4+0) (Mã ngành: 7420201_WE4) ở phương thức Ưu tiên xét tuyển học sinh giỏi các trường THPT theo quy định của ĐHQG có điểm chuẩn 18.0. Ngành Công nghệ Sinh học (2+2) (Mã ngành: 7420201_WE2) ở phương thức Ưu tiên xét tuyển học sinh giỏi các trường THPT theo quy định của ĐHQG có điểm chuẩn 18.0. Ngành Kỹ thuật Điều khiển và Tự động hóa (Mã ngành: 7520216) ở phương thức Ưu tiên xét tuyển học sinh giỏi các trường THPT theo quy định của ĐHQG có điểm chuẩn 22.0. Ngành Quản trị Kinh doanh (Mã ngành: 7340101_UN) ở phương thức Ưu tiên xét tuyển học sinh giỏi các trường THPT theo quy định của ĐHQG có điểm chuẩn 18.0. Ngành Kỹ thuật Điện tử - Viễn thông (Mã ngành: 7520207) ở phương thức Ưu tiên xét tuyển học sinh giỏi các trường THPT theo quy định của ĐHQG có điểm chuẩn 21.0. Ngành Kế toán (Mã ngành: 7340301) ở phương thức Ưu tiên xét tuyển học sinh giỏi các trường THPT theo quy định của ĐHQG có điểm chuẩn 22.0. Ngành Kỹ thuật Không gian (Mã ngành: 7520121) ở phương thức Ưu tiên xét tuyển học sinh giỏi các trường THPT theo quy định của ĐHQG có điểm chuẩn 21.0. Ngành Ngôn ngữ Anh (4+0) (Mã ngành: 7220201_WE4) ở phương thức Ưu tiên xét tuyển học sinh giỏi các trường THPT theo quy định của ĐHQG có điểm chuẩn 18.0. Ngành Công nghệ Thông tin (2+2) (Mã ngành: 7480201_WE2) ở phương thức Ưu tiên xét tuyển học sinh giỏi các trường THPT theo quy định của ĐHQG có điểm chuẩn 18.0. Ngành Kỹ thuật Hóa học (Mã ngành: 7520301) ở phương thức Ưu tiên xét tuyển học sinh giỏi các trường THPT theo quy định của ĐHQG có điểm chuẩn 23.0. Ngành Ngôn ngữ Anh (3+1) (Mã ngành: 7220201_WE3) ở phương thức Ưu tiên xét tuyển học sinh giỏi các trường THPT theo quy định của ĐHQG có điểm chuẩn 18.0. Ngành Công nghệ Sinh học (Mã ngành: 7420201_UN) ở phương thức Ưu tiên xét tuyển học sinh giỏi các trường THPT theo quy định của ĐHQG có điểm chuẩn 18.0. Ngành Khoa học Máy tính (Mã ngành: 7480101) ở phương thức Ưu tiên xét tuyển học sinh giỏi các trường THPT theo quy định của ĐHQG có điểm chuẩn 23.0. Ngành Ngôn ngữ Anh (2+2) (Mã ngành: 7220201_WE2) ở phương thức Ưu tiên xét tuyển học sinh giỏi các trường THPT theo quy định của ĐHQG có điểm chuẩn 18.0. Ngành Kỹ thuật Hệ thống Công nghiệp (Mã ngành: 7520118_SB) ở phương thức Ưu tiên xét tuyển học sinh giỏi các trường THPT theo quy định của ĐHQG có điểm chuẩn 18.0. Ngành Công nghệ Thông tin (4+0) (Mã ngành: 7480201_WE4) ở phương thức Ưu tiên xét tuyển học sinh giỏi các trường THPT theo quy định của ĐHQG có điểm chuẩn 18.0. Ngành Quản trị Kinh doanh (Mã ngành: 7340101) ở phương thức Ưu tiên xét tuyển học sinh giỏi các trường THPT theo quy định của ĐHQG có điểm chuẩn 27.5. Ngành Kỹ thuật Môi trường (Mã ngành: 7520320) ở phương thức Ưu tiên xét tuyển học sinh giỏi các trường THPT theo quy định của ĐHQG có điểm chuẩn 21.0</td>\n",
              "      <td>133</td>\n",
              "      <td>Điểm chuẩn ngành Quản trị Kinh doanh là bao nhiêu?</td>\n",
              "      <td>Điểm chuẩn</td>\n",
              "    </tr>\n",
              "    <tr>\n",
              "      <th>4</th>\n",
              "      <td>{'answer_start': [24266], 'text': ['Ngành Công nghệ Sinh học (Mã ngành: 7420201_UN) Chương trình: Chương trình liên kết cấp bằng của trường ĐH Nottingham (UK) Công nghệ sinh học (CNSH) là một lĩnh vực nghiên cứu và vận dụng sinh vật sống để tạo ra sản phẩm hoặc để phục vụ cho lợi ích của nhân loại.']}</td>\n",
              "      <td>Ngành Công nghệ Thực phẩm (Mã ngành: 7540101) Chương trình: Trong nước Chương trình đào tạo ngành CNTP tại Trường Đai học Quốc tế được thiết kế nhằm đào tạo các kỹ sư CNTP, có những nét chính như sau:, Cung cấp kiến thức rộng, cân bằng về các khoa học thực phẩm và kỹ thuật thực phẩm Cung cấp kiến thức cơ bản về quản lý thực phẩm (bao gồm cả quản lý sản xuất, chất lượng, vệ sinh an toàn thực phẩm và vệ sinh môi trường) Chú trọng đến kỹ năng thực hành và khả năng tiếp cận với thiết bị công nghệ cao Giảng dạy hoàn toàn bằng tiếng Anh (kỹ sư sau khi tốt nghiệp sẽ đạt trình độ tiếng Anh TOEF pBT 550 hoặc tương đương (IELTS 6.0, TOEFL iBT 60)). Ngành Kỹ thuật Hệ thống Công nghiệp (Mã ngành: 7520118) Chương trình: Trong nước Chương trình đại học của ngành Kỹ thuật Hệ thống công nghiệp (ISE) sẽ cung cấp cho sinh viên những kiến thức lý thuyết và kỹ năng thực tế trong việc thiết kế, vận hành, cải thiện và tối ưu các hệ thống sản xuất và dịch vụ Sau khi tốt nghiệp, sinh viên có thể:, Theo đuổi việc học lên cao hơn, có khả năng cạnh tranh thành công để giành được những học bổng uy tín để có thể theo học các chương trình cao học ở nước ngoài Trở thành kỹ sư Kỹ thuật Hệ thống công nghiệp giỏi, có thể tìm được việc làm trong các lĩnh vực sản xuất, quản lý vật tư tồn kho, chuỗi cung ứng và hậu cần, quản lý chất lượng, lập kế hoạch và điều độ, thiết kế và sắp xếp các mặt bằng trong các công ty/ cơquan:. Ngành Kỹ thuật Điều khiển và Tự động hóa (Mã ngành: 7520216) Chương trình: Trong nước Mục tiêu đào tạo: , Cung cấp toàn bộ các kiến thức cơ sở của nhóm ngành Điện – Điện tử, các kiến thức chuyên ngành về Đo Lường, Giám Sát và Điều Khiển. Các kỹ năng cần thiết của một kỹ sư để đáp ứng nhu cầu của công nghiệp, để tiếp tục chương trình cao học, nghiên cứu chuyên sâu ngành Điều Khiển Các kỹ năng tự đào tạo để thích ứng với sự thay đổi của công nghệ Định hướng đào tạo: , Lý thuyết điều khiển và ứng dụng vào các đối tượng điều khiển và các quá trình. Công nghệ đo lường, điều khiển và giám sát hệ thống. Robot (công nghiệp, tự hành) và trí thông minh nhân tạo. Ngành Công nghệ Thông tin (2+2) (Mã ngành: 7480201_DK2) Chương trình: Chương trình liên kết cấp bằng của trường ĐH Deakin (Úc) Công nghệ Thông tin (với hai chuyên ngành: kỹ sư mạng máy tính và cử nhân khoa học máy tính) và cử nhân Khoa học Dữ liệu. Chương trình đào tạo tuân thủ theo các chuẩn mực quốc tế và đã đạt được chứng nhận kiểm định chất lượng bởi Tổ chức các trường Đại học Đông Nam Á (AUN) từ năm 2009 và tái kiểm định năm 2017. Các chương trình đào tạo đã đạt được chuẩn MOET năm 2017 và hiện đang tiếp tục thực hiện quy chuẩn kiểm định ABET của Mỹ. Ngành Quản trị Kinh doanh (Mã ngành: 7340101_AU) Chương trình: Chương trình liên kết cấp bằng của trường ĐH Auckland University of Technology (New Zealand) Quản trị kinh doanh là một ngành tổng hợp gồm nhiều bộ môn căn bản về “quản trị” và “kinh doanh”. Nói cách khác, khi đăng ký ngành này, bạn sẽ được đào tạo đầy đủ những kiến thức căn bản trong khối ngành kinh tế như tài chính, kế toán, nhân sự cho tới các chiến lược kinh doanh, marketing. Song song với các kiến thức trên, hệ thống tư duy, kỹ năng lãnh đạo cùng nhưng mô hình quản trị sao cho tối đa hóa hiệu suất công việc cũng là những môn học không thể thiếu của chuyên ngành đặc biệt này. Ngành Công nghệ Thực phẩm (Mã ngành: 7540101_UN) Chương trình: Chương trình liên kết cấp bằng của trường ĐH Nottingham (UK) Cung cấp kiến thức rộng, cân bằng về các khoa học thực phẩm và kỹ thuật thực phẩm Cung cấp kiến thức cơ bản về quản lý thực phẩm (bao gồm cả quản lý sản xuất, chất lượng, vệ sinh an toàn thực phẩm và vệ sinh môi trường) Chú trọng đến kỹ năng thực hành và khả năng tiếp cận với thiết bị công nghệ cao. Ngành Kỹ thuật Điện tử - Viễn thông (Mã ngành: 7520207_WE) Chương trình: Chương trình liên kết cấp bằng của trường ĐH West of England (UK) Mục tiêu đào tạo:, Cung cấp kiến thức cơ sở hoàn chỉnh và các kỹ năng trong lĩnh vực Điện tử và Viễn thông Phục vụ và đáp ứng các nhu cầu công nghiệp, nghiên cứu khoa học và học sau đại học Chuẩn bị cho sinh viên tốt nghiệp có thể thích ứng với sự thay đổi nhanh trong lĩnh vực công nghệ cao như Điện tử và Viễn thông. Ngành Logistics và Quản lý chuỗi cung ứng (Mã ngành: 7510605) Chương trình: Trong nước Logistics và Quản lý chuỗi cung ứng là việc quản lý một mạng lưới kết nối của các doanh nghiệp tham gia vào việc cung cấp hàng hoá và dịch vụ đến tận tay người tiêu dùng. Nó đòi hỏi nhiều quy trình khác nhau, bao gồm lưu trữ, vận chuyển nguyên vật liệu, quá trình xử lý hàng tồn kho, sản xuất…. Ngành Công nghệ Thông tin (2.5+1.5) (Mã ngành: 7480201_DK25) Chương trình: Chương trình liên kết cấp bằng của trường ĐH Deakin (Úc) Công nghệ Thông tin (với hai chuyên ngành: kỹ sư mạng máy tính và cử nhân khoa học máy tính) và cử nhân Khoa học Dữ liệu. Chương trình đào tạo tuân thủ theo các chuẩn mực quốc tế và đã đạt được chứng nhận kiểm định chất lượng bởi Tổ chức các trường Đại học Đông Nam Á (AUN) từ năm 2009 và tái kiểm định năm 2017. Các chương trình đào tạo đã đạt được chuẩn MOET năm 2017 và hiện đang tiếp tục thực hiện quy chuẩn kiểm định ABET của Mỹ. Ngành Kỹ thuật Điện tử (Mã ngành: 7520207_SB) Chương trình: Chương trình liên kết cấp bằng của trường ĐH SUNY Binghamton (USA) Đời sống công nghệ hiện đại không thể nào thiếu được các thiết bị điện và điện tử. Các thiết bị này phổ biến ở khắp các hộ gia đình, trong các thiết bị giải trí, trong nhà máy sản xuất và có thể nói là tất cả mọi nơi có con nguời. Chính vì vậy, ngành Kỹ thuật Điện tử có nhu cầu nhân lực lớn và sẽ tiếp tục phát triển trong tương lai. Ngành Tài chính – Ngân hàng (Mã ngành: 7340201) Chương trình: Trong nước Tài chính ngân hàng là ngành nghề liên quan đến các dịch vụ giao dịch, luân chuyển tiền tệ thông qua ngân hàng và các công cụ tài chính của ngân hàng phát hành trong phạm vi nội địa và quốc tế. Tài chính ngân hàng là một phạm trù rất rộng, bao gồm các lĩnh vực nhỏ và chuyên biệt hơn như ngân hàng, tài chính doanh nghiệp, tài chính thuế, tài chính bảo hiểm, phân tích tài chính, kinh tế học tài chính,.. Ngành Kế toán (Mã ngành: 7340301) Chương trình: Trong nước Kế toán (tiếng Anh là Accountant) là công việc ghi chép, thu nhận, xử lý và cung cấp các thông tin về tình hình hoạt động tài chính của một tổ chức, một doanh nghiệp, một cơ quan nhà nước, một cơ sở kinh doanh tư nhân.. Ngành Kỹ thuật Máy tính (Mã ngành: 7480106_SB) Chương trình: Chương trình liên kết cấp bằng của trường ĐH SUNY Binghamton (USA) Ngành Kỹ thuật máy tính (KTMT) là một ngành khá đặc biệt trong nhóm ngành Công nghệ thông tin, là ngành học kết hợp kiến thức cả hai lĩnh vực Điện tử và Công nghệ thông tin, Ngành Kỹ thuật máy tính đang được nhà nước ưu tiên phát triển đặc biệt cụ thể qua các chính sách, dự án nhà máy chế tạo chip đầu tiên của Việt Nam đang được triển khai rầm rộ. Ngành Kỹ thuật Không gian (Mã ngành: 7520121) Chương trình: Trong nước Kỹ thuật Không gian là chương trình đào tạo kỹ sư 4 năm trong lĩnh vực ứng dụng công nghệ vệ tinh, bao gồm xử lý và phân tích tín hiệu, hình ảnh vệ tinh, công nghệ viễn thám, và định vị vệ tinh. Chương trình ra đời nhằm đáp ứng nhu cầu rất lớn về nguồn nhân lực trình độ cao trong ứng dụng công nghệ vệ tinh vào đời sống xã hội, quản lý tài nguyên, môi trường, lãnh thổ, biển đảo, và an ninh quốc phòng. Ngành Công nghệ Thông tin (Mã ngành: 7480201_UN) Chương trình: Chương trình liên kết cấp bằng của trường ĐH Nottingham (UK) Công nghệ Thông tin (với hai chuyên ngành: kỹ sư mạng máy tính và cử nhân khoa học máy tính) và cử nhân Khoa học Dữ liệu. Chương trình đào tạo tuân thủ theo các chuẩn mực quốc tế và đã đạt được chứng nhận kiểm định chất lượng bởi Tổ chức các trường Đại học Đông Nam Á (AUN) từ năm 2009 và tái kiểm định năm 2017. Các chương trình đào tạo đã đạt được chuẩn MOET năm 2017 và hiện đang tiếp tục thực hiện quy chuẩn kiểm định ABET của Mỹ. Ngành Kỹ thuật Điện tử - Viễn thông (Mã ngành: 7520207_UN) Chương trình: Chương trình liên kết cấp bằng của trường ĐH Nottingham (UK) Mục tiêu đào tạo:, Cung cấp kiến thức cơ sở hoàn chỉnh và các kỹ năng trong lĩnh vực Điện tử và Viễn thông Phục vụ và đáp ứng các nhu cầu công nghiệp, nghiên cứu khoa học và học sau đại học Chuẩn bị cho sinh viên tốt nghiệp có thể thích ứng với sự thay đổi nhanh trong lĩnh vực công nghệ cao như Điện tử và Viễn thông. Ngành Công nghệ Sinh học (2+2) (Mã ngành: 7420201_WE2) Chương trình: Chương trình liên kết cấp bằng của trường ĐH West of England (UK) Công nghệ sinh học (CNSH) là một lĩnh vực nghiên cứu và vận dụng sinh vật sống để tạo ra sản phẩm hoặc để phục vụ cho lợi ích của nhân loại. Ngành Kỹ thuật Môi trường (Mã ngành: 7520320) Chương trình: Trong nước Chương trình nhằm đào tạo kỹ sư Kỹ thuật Môi trường có năng lực tốt và trình độ am hiểu các vấn đề Kỹ thuật Môi trường, theo đuổi sự nghiên cứu sáng tạo, kỹ thuật hiện đại để phục vụ nhu cầu của đất nước, xã hội, công nghiệp và cộng đồng khoa học Được thiết kế theo tiêu chí của ABET Inc. (cơ quan đánh giá giáo dục kỹ thuật của Hoa Kỳ), chương trình đào tạo ngành Kỹ thuật môi trường bao gồm 4 năm (8 đến 9 học kỳ, tùy trình độ năng lực tiếng Anh đầu vào) cho 145 tín chỉ. Ngành Ngôn ngữ Anh (Mã ngành: 7220201) Chương trình: Trong nước Chương trình Cử nhân Ngôn ngữ Anh của Bộ môn Anh tại trường Đại học Quốc tế được thiết kế nhằm giúp sinh viên đáp ứng nhu cầu sử dụng tiếng Anh trong môi trường học tập và làm việc toàn cầu. Theo dự kiến, sinh viên hoàn thành 135 tín chỉ của các khóa học trong bốn năm. Những chương trình Anh ngữ Tăng cường và Học thuật của chúng tôi góp phần thúc đẩy sự thành công của sinh viên IU trong môi trường học tập và nói tiếng Anh tại IU và các trường đại học trên toàn thế giới. Chúng tôi tập trung vào các lĩnh vực thường sử dụng tiếng Anh trong nhiều bối cảnh học thuật khác nhau, như đọc chuyên ngành, nghe bài giảng và ghi chú, kỹ thuật thuyết trình, viết học thuật, viết bài kỹ thuật và viết bài nghiên cứu, và chuẩn bị cho các bài kiểm tra tiêu chuẩn quốc tế như TOEFL iBT và IELTS. Ngành Kỹ thuật Hóa học (Mã ngành: 7520301) Chương trình: Trong nước Đào tạo kỹ sư hóa học với triết lý ‘Job ready’, cụ thể như sau:, Có kiến thức cơ bản vững chắc về khoa học và kỹ thuật trong lĩnh vực hóa học và những lĩnh vực có liên quan (vd như sinh học, dược học, môi trường, v.v.) Có khả năng vận dụng sáng tạo các kiến thức cơ bản trong ngành để giải quyết các vấn đề đa dạng trong các lĩnh vực nghề nghiệp Có đạo đức nghề nghiệp, hiểu rõ các vấn đề về môi trường, xã hội, an ninh và kinh tế Có đầy đủ các kỹ năng mềm, kỹ năng quản lý, khả năng làm việc nhóm, khả năng lãnh đạo, khả năng giao tiếp và làm việc chuyên môn thành thạo bằng tiếng Anh. Ngành Công nghệ Thông tin (3+1) (Mã ngành: 7480201_DK3) Chương trình: Chương trình liên kết cấp bằng của trường ĐH Deakin (Úc) Công nghệ Thông tin (với hai chuyên ngành: kỹ sư mạng máy tính và cử nhân khoa học máy tính) và cử nhân Khoa học Dữ liệu. Chương trình đào tạo tuân thủ theo các chuẩn mực quốc tế và đã đạt được chứng nhận kiểm định chất lượng bởi Tổ chức các trường Đại học Đông Nam Á (AUN) từ năm 2009 và tái kiểm định năm 2017. Các chương trình đào tạo đã đạt được chuẩn MOET năm 2017 và hiện đang tiếp tục thực hiện quy chuẩn kiểm định ABET của Mỹ. Ngành Công nghệ Sinh học định hướng Y sinh (4+0) (Mã ngành: 7420201_WE4) Chương trình: Chương trình liên kết cấp bằng của trường ĐH West of England (UK) (4+0) Đây là ngành học ứng dụng các thành tựu của công nghệ sinh học vào lĩnh vực y học – dược học hướng tới gia tăng khả năng điều trị, chẩn đoán và bảo vệ sức khoẻ con người. Ngành Quản trị Kinh doanh (Mã ngành: 7340101_UN) Chương trình: Chương trình liên kết cấp bằng của trường ĐH Nottingham (UK) Quản trị kinh doanh là một ngành tổng hợp gồm nhiều bộ môn căn bản về “quản trị” và “kinh doanh”. Nói cách khác, khi đăng ký ngành này, bạn sẽ được đào tạo đầy đủ những kiến thức căn bản trong khối ngành kinh tế như tài chính, kế toán, nhân sự cho tới các chiến lược kinh doanh, marketing. Song song với các kiến thức trên, hệ thống tư duy, kỹ năng lãnh đạo cùng nhưng mô hình quản trị sao cho tối đa hóa hiệu suất công việc cũng là những môn học không thể thiếu của chuyên ngành đặc biệt này. Ngành Công nghệ Thông tin (Mã ngành: 7480201) Chương trình: Trong nước Công nghệ Thông tin (với hai chuyên ngành: kỹ sư mạng máy tính và cử nhân khoa học máy tính) và cử nhân Khoa học Dữ liệu. Chương trình đào tạo tuân thủ theo các chuẩn mực quốc tế và đã đạt được chứng nhận kiểm định chất lượng bởi Tổ chức các trường Đại học Đông Nam Á (AUN) từ năm 2009 và tái kiểm định năm 2017. Các chương trình đào tạo đã đạt được chuẩn MOET năm 2017 và hiện đang tiếp tục thực hiện quy chuẩn kiểm định ABET của Mỹ. Ngành Khoa học Máy tính (Mã ngành: 7480101) Chương trình: Trong nước Ngành Khoa học máy tính đóng vai trò rất quan trọng trong việc xây dựng các nền tảng nghiên cứu, phát triển các công nghệ trong tương lai, đặc biệt là những nghiên cứu ứng dụng thiết thực trong cuộc sống. Chương trình đào tạo ngành Khoa học máy tính có nhiệm vụ đào tạo ngồn nhân lực chất lượng cao cho ngành CNTT. Sinh viên tốt nghiệp chương trình Cử nhân Khoa học máy tính đáp ứng các yêu cầu sau:, Có kiến thức cơ bản và chuyên sâu về khoa học máy tính và công nghệ thông tin, có khả năng thiết kế các hệ thống xử lý tính toán phức tạp, các phần mềm có chất lượng khoa học và công nghệ cao, thử nghiệm, quản lý các hệ thống máy tính, các hệ thống tin học Có khả năng triển khai xây dựng các hệ thống ứng dụng tin học và phân tích, thiết kế xây dựng các phần mềm có giá trị thực tiễn cao, có tính sáng tạo, đặc biệt là các ứng dụng thông minh dựa trên việc xử lý tri thức, xử lý ngôn ngữ tự nhiên, xử lý và khai thác dữ liệu đa phương tiện. Ngành Kỹ thuật Điện tử - Viễn thông (Mã ngành: 7520207) Chương trình: Trong nước Chương trình Kỹ thuật Điện tử – Viễn thông đã được công nhận đạt chuẩn của các tổ chức kiểm định chất lượng quốc tế như của mạng lưới các trường Đông Nam Á (AUN) và gần đây nhất là của tổ chức Kiểm định các chương trình đào tạo kỹ thuật &amp; công nghệ của Hoa Kỳ từ cuối năm 2018 Mục tiêu đào tạo:, Cung cấp kiến thức cơ sở hoàn chỉnh và các kỹ năng trong lĩnh vực Điện tử và Viễn thông Phục vụ và đáp ứng các nhu cầu công nghiệp, nghiên cứu khoa học và học sau đại học Chuẩn bị cho sinh viên tốt nghiệp có thể thích ứng với sự thay đổi nhanh trong lĩnh vực công nghệ cao như Điện tử và Viễn thông. Ngành Quản trị Kinh doanh (Mã ngành: 7340101_UH) Chương trình: Chương trình liên kết cấp bằng của trường ĐH Houston (USA) Quản trị kinh doanh là một ngành tổng hợp gồm nhiều bộ môn căn bản về “quản trị” và “kinh doanh”. Nói cách khác, khi đăng ký ngành này, bạn sẽ được đào tạo đầy đủ những kiến thức căn bản trong khối ngành kinh tế như tài chính, kế toán, nhân sự cho tới các chiến lược kinh doanh, marketing. Song song với các kiến thức trên, hệ thống tư duy, kỹ năng lãnh đạo cùng nhưng mô hình quản trị sao cho tối đa hóa hiệu suất công việc cũng là những môn học không thể thiếu của chuyên ngành đặc biệt này. Ngành Toán ứng dụng (Kỹ thuật Tài chính và Quản trị rủi ro) (Mã ngành: 7460112) Chương trình: Trong nước Chương trình Kĩ thuật tài chính và Quản trị rủi ro được thiết kế nhằm trang bị cho sinh viên các kiến thức cơ bản và hiện đại về Toán học, Tin học, và Kỹ thuật tài chính, giúp các em có thể thực hiện các quy trình phân tích, dự báo, quản trị các vấn đề tài chính và các vấn đề liên quan, giải quyết được các tình huống thực tế trong lĩnh vực Kinh tế-Tài chính. Ngành Công nghệ Thông tin (2+2) (Mã ngành: 7480201_WE2) Chương trình: Chương trình liên kết cấp bằng của trường ĐH West of England (UK) Công nghệ Thông tin (với hai chuyên ngành: kỹ sư mạng máy tính và cử nhân khoa học máy tính) và cử nhân Khoa học Dữ liệu. Chương trình đào tạo tuân thủ theo các chuẩn mực quốc tế và đã đạt được chứng nhận kiểm định chất lượng bởi Tổ chức các trường Đại học Đông Nam Á (AUN) từ năm 2009 và tái kiểm định năm 2017. Các chương trình đào tạo đã đạt được chuẩn MOET năm 2017 và hiện đang tiếp tục thực hiện quy chuẩn kiểm định ABET của Mỹ. Ngành Quản trị kinh doanh (4+0) (Mã ngành: 7340101_WE4) Chương trình: Chương trình liên kết cấp bằng của trường ĐH West of England (UK) (4+0) Quản trị kinh doanh là một ngành tổng hợp gồm nhiều bộ môn căn bản về “quản trị” và “kinh doanh”. Nói cách khác, khi đăng ký ngành này, bạn sẽ được đào tạo đầy đủ những kiến thức căn bản trong khối ngành kinh tế như tài chính, kế toán, nhân sự cho tới các chiến lược kinh doanh, marketing. Song song với các kiến thức trên, hệ thống tư duy, kỹ năng lãnh đạo cùng nhưng mô hình quản trị sao cho tối đa hóa hiệu suất công việc cũng là những môn học không thể thiếu của chuyên ngành đặc biệt này. Ngành Công nghệ Thông tin (4+0) (Mã ngành: 7480201_WE4) Chương trình: Chương trình liên kết cấp bằng của trường ĐH West of England (UK) (4+0) Công nghệ Thông tin (với hai chuyên ngành: kỹ sư mạng máy tính và cử nhân khoa học máy tính) và cử nhân Khoa học Dữ liệu. Chương trình đào tạo tuân thủ theo các chuẩn mực quốc tế và đã đạt được chứng nhận kiểm định chất lượng bởi Tổ chức các trường Đại học Đông Nam Á (AUN) từ năm 2009 và tái kiểm định năm 2017. Các chương trình đào tạo đã đạt được chuẩn MOET năm 2017 và hiện đang tiếp tục thực hiện quy chuẩn kiểm định ABET của Mỹ. Ngành Ngôn ngữ Anh (4+0) (Mã ngành: 7220201_WE4) Chương trình: Chương trình liên kết cấp bằng của trường ĐH West of England (UK) (4+0) Chương trình Cử nhân Ngôn ngữ Anh của Bộ môn Anh tại trường Đại học Quốc tế được thiết kế nhằm giúp sinh viên đáp ứng nhu cầu sử dụng tiếng Anh trong môi trường học tập và làm việc toàn cầu. Theo dự kiến, sinh viên hoàn thành 135 tín chỉ của các khóa học trong bốn năm. Những chương trình Anh ngữ Tăng cường và Học thuật của chúng tôi góp phần thúc đẩy sự thành công của sinh viên IU trong môi trường học tập và nói tiếng Anh tại IU và các trường đại học trên toàn thế giới. Chúng tôi tập trung vào các lĩnh vực thường sử dụng tiếng Anh trong nhiều bối cảnh học thuật khác nhau, như đọc chuyên ngành, nghe bài giảng và ghi chú, kỹ thuật thuyết trình, viết học thuật, viết bài kỹ thuật và viết bài nghiên cứu, và chuẩn bị cho các bài kiểm tra tiêu chuẩn quốc tế như TOEFL iBT và IELTS. Ngành Ngôn ngữ Anh (3+1) (Mã ngành: 7220201_WE3) Chương trình: Chương trình liên kết cấp bằng của trường ĐH West of England (UK) (3+1) Chương trình Cử nhân Ngôn ngữ Anh của Bộ môn Anh tại trường Đại học Quốc tế được thiết kế nhằm giúp sinh viên đáp ứng nhu cầu sử dụng tiếng Anh trong môi trường học tập và làm việc toàn cầu. Theo dự kiến, sinh viên hoàn thành 135 tín chỉ của các khóa học trong bốn năm. Những chương trình Anh ngữ Tăng cường và Học thuật của chúng tôi góp phần thúc đẩy sự thành công của sinh viên IU trong môi trường học tập và nói tiếng Anh tại IU và các trường đại học trên toàn thế giới. Chúng tôi tập trung vào các lĩnh vực thường sử dụng tiếng Anh trong nhiều bối cảnh học thuật khác nhau, như đọc chuyên ngành, nghe bài giảng và ghi chú, kỹ thuật thuyết trình, viết học thuật, viết bài kỹ thuật và viết bài nghiên cứu, và chuẩn bị cho các bài kiểm tra tiêu chuẩn quốc tế như TOEFL iBT và IELTS. Ngành Quản trị Kinh doanh (Mã ngành: 7340101) Chương trình: Trong nước Quản trị kinh doanh là một ngành tổng hợp gồm nhiều bộ môn căn bản về “quản trị” và “kinh doanh”. Nói cách khác, khi đăng ký ngành này, bạn sẽ được đào tạo đầy đủ những kiến thức căn bản trong khối ngành kinh tế như tài chính, kế toán, nhân sự cho tới các chiến lược kinh doanh, marketing. Song song với các kiến thức trên, hệ thống tư duy, kỹ năng lãnh đạo cùng nhưng mô hình quản trị sao cho tối đa hóa hiệu suất công việc cũng là những môn học không thể thiếu của chuyên ngành đặc biệt này. Ngành Ngôn ngữ Anh (2+2) (Mã ngành: 7220201_WE2) Chương trình: Chương trình liên kết cấp bằng của trường ĐH West of England (UK) Chương trình Cử nhân Ngôn ngữ Anh của Bộ môn Anh tại trường Đại học Quốc tế được thiết kế nhằm giúp sinh viên đáp ứng nhu cầu sử dụng tiếng Anh trong môi trường học tập và làm việc toàn cầu. Theo dự kiến, sinh viên hoàn thành 135 tín chỉ của các khóa học trong bốn năm. Những chương trình Anh ngữ Tăng cường và Học thuật của chúng tôi góp phần thúc đẩy sự thành công của sinh viên IU trong môi trường học tập và nói tiếng Anh tại IU và các trường đại học trên toàn thế giới. Chúng tôi tập trung vào các lĩnh vực thường sử dụng tiếng Anh trong nhiều bối cảnh học thuật khác nhau, như đọc chuyên ngành, nghe bài giảng và ghi chú, kỹ thuật thuyết trình, viết học thuật, viết bài kỹ thuật và viết bài nghiên cứu, và chuẩn bị cho các bài kiểm tra tiêu chuẩn quốc tế như TOEFL iBT và IELTS. Ngành Khoa học Dữ liệu (Mã ngành: 7480109) Chương trình: Trong nước Khoa học dữ liệu (KHDL) là khoa học về việc quản trị và phân tích dữ liệu để tìm ra các hiểu biết, các tri thức hành động, các quyết định dẫn dắt hành động. KHDL gồm ba phần chính: Tạo ra và quản trị dữ liệu, phân tích dữ liệu, và chuyển kết quả phân tích thành giá trị của hành động. Nôm na bước thứ nhất là về số hóa và bước thứ hai là về dùng dữ liệu. Việc phân tích và dùng dữ liệu lại dựa vào ba nguồn tri thức: toán học (thống kê toán học), công nghệ thông tin (máy học) và tri thức của lĩnh vực ứng dụng cụ thể. Ngành Kỹ thuật Hệ thống Công nghiệp (Mã ngành: 7520118_SB) Chương trình: Chương trình liên kết cấp bằng của trường ĐH SUNY Binghamton (USA) Chương trình đại học của ngành Kỹ thuật Hệ thống công nghiệp (ISE) sẽ cung cấp cho sinh viên những kiến thức lý thuyết và kỹ năng thực tế trong việc thiết kế, vận hành, cải thiện và tối ưu các hệ thống sản xuất và dịch vụ. Ngành Công nghệ Sinh học (Mã ngành: 7420201) Chương trình: Trong nước Công nghệ sinh học (CNSH) là một lĩnh vực nghiên cứu và vận dụng sinh vật sống để tạo ra sản phẩm hoặc để phục vụ cho lợi ích của nhân loại. Ngành Quản lý Xây dựng (Mã ngành: 7580302) Chương trình: Trong nước Ngành Quản lý xây dựng là ngành trực tiếp thực hiện nhiệm vụ hoặc thực hành tư vấn về lập và đánh giá dự án, lập hồ sơ thiết kế tổ chức thi công, tổ chức các hoạt động trên từng giai đoạn chuẩn bị và thực hiện dự án như đấu thầu, triển khai thiết kế, thi công, bàn giao nghiệm thu và thanh quyết toán công trình. Ngành Kỹ thuật Xây dựng (Mã ngành: 7580201) Chương trình: Trong nước Kỹ thuật xây dựng là ngành chuyên về lĩnh vực tư vấn, thiết kế, tổ chức thi công, quản lí giảm sát và nghiệm thu các công trình xây dựng phục vụ đời sống con người như: nhà ở, nhà hàng – khách sạn, bệnh viện, cầu đường…. Ngành Quản trị kinh doanh (Mã ngành: 7340101_NS) Chương trình: Chương trình liên kết cấp bằng của trường ĐH New South Wales (Australia) Quản trị kinh doanh là một ngành tổng hợp gồm nhiều bộ môn căn bản về “quản trị” và “kinh doanh”. Nói cách khác, khi đăng ký ngành này, bạn sẽ được đào tạo đầy đủ những kiến thức căn bản trong khối ngành kinh tế như tài chính, kế toán, nhân sự cho tới các chiến lược kinh doanh, marketing. Song song với các kiến thức trên, hệ thống tư duy, kỹ năng lãnh đạo cùng nhưng mô hình quản trị sao cho tối đa hóa hiệu suất công việc cũng là những môn học không thể thiếu của chuyên ngành đặc biệt này. Ngành Hóa học (Hóa sinh) (Mã ngành: 7440112) Chương trình: Trong nước Ngành Hóa sinh được thiết kế dành riêng cho sinh viên chuyên nghiên cứu các tiến trình hóa học của sự sống ở cấp độ phân tử. Chương trình bao gồm giảng dạy các môn học về nguyên lý Sinh học, Hóa học, Vật lý và đặc biệt là mối liên quan của các nguyên lý này bên trong cơ thể sống. Sinh viên sẽ được nghiên cứu các tiến trình hóa học liên quan đến các đại phân tử và ý nghĩa từng cấu trúc trên các tiến trình tế bào. Chương trình còn khái quát các khía cạnh khác nhau của Hóa sinh bao gồm Hóa sinh phân tử, Enzym học, Công nghệ lên men, Hóa sinh lâm sàng và Kỹ thuật Hóa sinh. Ngành Quản trị Kinh doanh (2+2) (Mã ngành: 7340101_WE) Chương trình: Chương trình liên kết cấp bằng của trường ĐH West of England (UK) Quản trị kinh doanh là một ngành tổng hợp gồm nhiều bộ môn căn bản về “quản trị” và “kinh doanh”. Nói cách khác, khi đăng ký ngành này, bạn sẽ được đào tạo đầy đủ những kiến thức căn bản trong khối ngành kinh tế như tài chính, kế toán, nhân sự cho tới các chiến lược kinh doanh, marketing. Song song với các kiến thức trên, hệ thống tư duy, kỹ năng lãnh đạo cùng nhưng mô hình quản trị sao cho tối đa hóa hiệu suất công việc cũng là những môn học không thể thiếu của chuyên ngành đặc biệt này. Ngành Công nghệ Sinh học (Mã ngành: 7420201_UN) Chương trình: Chương trình liên kết cấp bằng của trường ĐH Nottingham (UK) Công nghệ sinh học (CNSH) là một lĩnh vực nghiên cứu và vận dụng sinh vật sống để tạo ra sản phẩm hoặc để phục vụ cho lợi ích của nhân loại. Ngành Kỹ thuật Y Sinh (Mã ngành: 7520212) Chương trình: Trong nước Kỹ thuật Y Sinh (KTYS) hiện đang là một lĩnh vực nổi bật thu hút sự quan tâm trên thế giới. Đây là một lĩnh vực đa ngành ứng dụng kỹ thuật tiên tiến vào việc tạo ra các phương pháp nghiên cứu và thiết bị phục vụ cho sức khỏe cũng như giúp hiểu biết sâu hơn về các tiến trình sinh học của con người.</td>\n",
              "      <td>43</td>\n",
              "      <td>Cho tôi hỏi về Công nghệ Sinh học</td>\n",
              "      <td>Thông tin chung</td>\n",
              "    </tr>\n",
              "    <tr>\n",
              "      <th>5</th>\n",
              "      <td>{'answer_start': [606], 'text': ['Ngành Công nghệ Thông tin (2.5+1.5) (Mã ngành: 7480201_DK25) ở phương thức Ưu tiên xét tuyển học sinh giỏi các trường THPT theo quy định của ĐHQG có điểm chuẩn 18.0']}</td>\n",
              "      <td>Ngành Công nghệ Thông tin (3+1) (Mã ngành: 7480201_DK3) ở phương thức Ưu tiên xét tuyển học sinh giỏi các trường THPT theo quy định của ĐHQG có điểm chuẩn 18.0. Ngành Ngôn ngữ Anh (Mã ngành: 7220201) ở phương thức Ưu tiên xét tuyển học sinh giỏi các trường THPT theo quy định của ĐHQG có điểm chuẩn 27.5. Ngành Kỹ thuật Điện tử (Mã ngành: 7520207_SB) ở phương thức Ưu tiên xét tuyển học sinh giỏi các trường THPT theo quy định của ĐHQG có điểm chuẩn 18.0. Ngành Công nghệ Sinh học (Mã ngành: 7420201) ở phương thức Ưu tiên xét tuyển học sinh giỏi các trường THPT theo quy định của ĐHQG có điểm chuẩn 22.0. Ngành Công nghệ Thông tin (2.5+1.5) (Mã ngành: 7480201_DK25) ở phương thức Ưu tiên xét tuyển học sinh giỏi các trường THPT theo quy định của ĐHQG có điểm chuẩn 18.0. Ngành Công nghệ Thực phẩm (Mã ngành: 7540101) ở phương thức Ưu tiên xét tuyển học sinh giỏi các trường THPT theo quy định của ĐHQG có điểm chuẩn 22.0. Ngành Hóa học (Hóa sinh) (Mã ngành: 7440112) ở phương thức Ưu tiên xét tuyển học sinh giỏi các trường THPT theo quy định của ĐHQG có điểm chuẩn 22.0. Ngành Kỹ thuật Xây dựng (Mã ngành: 7580201) ở phương thức Ưu tiên xét tuyển học sinh giỏi các trường THPT theo quy định của ĐHQG có điểm chuẩn 21.0. Ngành Quản trị Kinh doanh (2+2) (Mã ngành: 7340101_WE) ở phương thức Ưu tiên xét tuyển học sinh giỏi các trường THPT theo quy định của ĐHQG có điểm chuẩn 18.0. Ngành Công nghệ Thông tin (Mã ngành: 7480201_UN) ở phương thức Ưu tiên xét tuyển học sinh giỏi các trường THPT theo quy định của ĐHQG có điểm chuẩn 18.0. Ngành Quản trị Kinh doanh (Mã ngành: 7340101_UH) ở phương thức Ưu tiên xét tuyển học sinh giỏi các trường THPT theo quy định của ĐHQG có điểm chuẩn 18.0. Ngành Công nghệ Thông tin (Mã ngành: 7480201) ở phương thức Ưu tiên xét tuyển học sinh giỏi các trường THPT theo quy định của ĐHQG có điểm chuẩn 23.0. Ngành Công nghệ Thực phẩm (Mã ngành: 7540101_UN) ở phương thức Ưu tiên xét tuyển học sinh giỏi các trường THPT theo quy định của ĐHQG có điểm chuẩn 18.0. Ngành Kỹ thuật Hệ thống Công nghiệp (Mã ngành: 7520118) ở phương thức Ưu tiên xét tuyển học sinh giỏi các trường THPT theo quy định của ĐHQG có điểm chuẩn 21.0. Ngành Kỹ thuật Điện tử - Viễn thông (Mã ngành: 7520207_WE) ở phương thức Ưu tiên xét tuyển học sinh giỏi các trường THPT theo quy định của ĐHQG có điểm chuẩn 18.0. Ngành Kỹ thuật Y Sinh (Mã ngành: 7520212) ở phương thức Ưu tiên xét tuyển học sinh giỏi các trường THPT theo quy định của ĐHQG có điểm chuẩn 24.0. Ngành Toán ứng dụng (Kỹ thuật Tài chính và Quản trị rủi ro) (Mã ngành: 7460112) ở phương thức Ưu tiên xét tuyển học sinh giỏi các trường THPT theo quy định của ĐHQG có điểm chuẩn 22.0. Ngành Quản trị kinh doanh (Mã ngành: 7340101_NS) ở phương thức Ưu tiên xét tuyển học sinh giỏi các trường THPT theo quy định của ĐHQG có điểm chuẩn 18.0. Ngành Tài chính – Ngân hàng (Mã ngành: 7340201) ở phương thức Ưu tiên xét tuyển học sinh giỏi các trường THPT theo quy định của ĐHQG có điểm chuẩn 24.0. Ngành Kỹ thuật Máy tính (Mã ngành: 7480106_SB) ở phương thức Ưu tiên xét tuyển học sinh giỏi các trường THPT theo quy định của ĐHQG có điểm chuẩn 18.0. Ngành Công nghệ Thông tin (2+2) (Mã ngành: 7480201_DK2) ở phương thức Ưu tiên xét tuyển học sinh giỏi các trường THPT theo quy định của ĐHQG có điểm chuẩn 18.0. Ngành Quản trị Kinh doanh (Mã ngành: 7340101_AU) ở phương thức Ưu tiên xét tuyển học sinh giỏi các trường THPT theo quy định của ĐHQG có điểm chuẩn 18.0. Ngành Logistics và Quản lý chuỗi cung ứng (Mã ngành: 7510605) ở phương thức Ưu tiên xét tuyển học sinh giỏi các trường THPT theo quy định của ĐHQG có điểm chuẩn 27.5. Ngành Kỹ thuật Điện tử - Viễn thông (Mã ngành: 7520207_UN) ở phương thức Ưu tiên xét tuyển học sinh giỏi các trường THPT theo quy định của ĐHQG có điểm chuẩn 18.0. Ngành Quản trị kinh doanh (4+0) (Mã ngành: 7340101_WE4) ở phương thức Ưu tiên xét tuyển học sinh giỏi các trường THPT theo quy định của ĐHQG có điểm chuẩn 18.0. Ngành Khoa học Dữ liệu (Mã ngành: 7480109) ở phương thức Ưu tiên xét tuyển học sinh giỏi các trường THPT theo quy định của ĐHQG có điểm chuẩn 23.0. Ngành Quản lý Xây dựng (Mã ngành: 7580302) ở phương thức Ưu tiên xét tuyển học sinh giỏi các trường THPT theo quy định của ĐHQG có điểm chuẩn 21.0. Ngành Công nghệ Sinh học định hướng Y sinh (4+0) (Mã ngành: 7420201_WE4) ở phương thức Ưu tiên xét tuyển học sinh giỏi các trường THPT theo quy định của ĐHQG có điểm chuẩn 18.0. Ngành Công nghệ Sinh học (2+2) (Mã ngành: 7420201_WE2) ở phương thức Ưu tiên xét tuyển học sinh giỏi các trường THPT theo quy định của ĐHQG có điểm chuẩn 18.0. Ngành Kỹ thuật Điều khiển và Tự động hóa (Mã ngành: 7520216) ở phương thức Ưu tiên xét tuyển học sinh giỏi các trường THPT theo quy định của ĐHQG có điểm chuẩn 22.0. Ngành Quản trị Kinh doanh (Mã ngành: 7340101_UN) ở phương thức Ưu tiên xét tuyển học sinh giỏi các trường THPT theo quy định của ĐHQG có điểm chuẩn 18.0. Ngành Kỹ thuật Điện tử - Viễn thông (Mã ngành: 7520207) ở phương thức Ưu tiên xét tuyển học sinh giỏi các trường THPT theo quy định của ĐHQG có điểm chuẩn 21.0. Ngành Kế toán (Mã ngành: 7340301) ở phương thức Ưu tiên xét tuyển học sinh giỏi các trường THPT theo quy định của ĐHQG có điểm chuẩn 22.0. Ngành Kỹ thuật Không gian (Mã ngành: 7520121) ở phương thức Ưu tiên xét tuyển học sinh giỏi các trường THPT theo quy định của ĐHQG có điểm chuẩn 21.0. Ngành Ngôn ngữ Anh (4+0) (Mã ngành: 7220201_WE4) ở phương thức Ưu tiên xét tuyển học sinh giỏi các trường THPT theo quy định của ĐHQG có điểm chuẩn 18.0. Ngành Công nghệ Thông tin (2+2) (Mã ngành: 7480201_WE2) ở phương thức Ưu tiên xét tuyển học sinh giỏi các trường THPT theo quy định của ĐHQG có điểm chuẩn 18.0. Ngành Kỹ thuật Hóa học (Mã ngành: 7520301) ở phương thức Ưu tiên xét tuyển học sinh giỏi các trường THPT theo quy định của ĐHQG có điểm chuẩn 23.0. Ngành Ngôn ngữ Anh (3+1) (Mã ngành: 7220201_WE3) ở phương thức Ưu tiên xét tuyển học sinh giỏi các trường THPT theo quy định của ĐHQG có điểm chuẩn 18.0. Ngành Công nghệ Sinh học (Mã ngành: 7420201_UN) ở phương thức Ưu tiên xét tuyển học sinh giỏi các trường THPT theo quy định của ĐHQG có điểm chuẩn 18.0. Ngành Khoa học Máy tính (Mã ngành: 7480101) ở phương thức Ưu tiên xét tuyển học sinh giỏi các trường THPT theo quy định của ĐHQG có điểm chuẩn 23.0. Ngành Ngôn ngữ Anh (2+2) (Mã ngành: 7220201_WE2) ở phương thức Ưu tiên xét tuyển học sinh giỏi các trường THPT theo quy định của ĐHQG có điểm chuẩn 18.0. Ngành Kỹ thuật Hệ thống Công nghiệp (Mã ngành: 7520118_SB) ở phương thức Ưu tiên xét tuyển học sinh giỏi các trường THPT theo quy định của ĐHQG có điểm chuẩn 18.0. Ngành Công nghệ Thông tin (4+0) (Mã ngành: 7480201_WE4) ở phương thức Ưu tiên xét tuyển học sinh giỏi các trường THPT theo quy định của ĐHQG có điểm chuẩn 18.0. Ngành Quản trị Kinh doanh (Mã ngành: 7340101) ở phương thức Ưu tiên xét tuyển học sinh giỏi các trường THPT theo quy định của ĐHQG có điểm chuẩn 27.5. Ngành Kỹ thuật Môi trường (Mã ngành: 7520320) ở phương thức Ưu tiên xét tuyển học sinh giỏi các trường THPT theo quy định của ĐHQG có điểm chuẩn 21.0</td>\n",
              "      <td>127</td>\n",
              "      <td>Điểm chuẩn ngành Công nghệ Thông tin (2.5+1.5) là bao nhiêu?</td>\n",
              "      <td>Điểm chuẩn</td>\n",
              "    </tr>\n",
              "    <tr>\n",
              "      <th>6</th>\n",
              "      <td>{'answer_start': [1222], 'text': ['Ngành Quản trị Kinh doanh (2+2) (Mã ngành: 7340101_WE) ở phương thức Ưu tiên xét tuyển học sinh giỏi các trường THPT theo quy định của ĐHQG có điểm chuẩn 18.0']}</td>\n",
              "      <td>Ngành Công nghệ Thông tin (3+1) (Mã ngành: 7480201_DK3) ở phương thức Ưu tiên xét tuyển học sinh giỏi các trường THPT theo quy định của ĐHQG có điểm chuẩn 18.0. Ngành Ngôn ngữ Anh (Mã ngành: 7220201) ở phương thức Ưu tiên xét tuyển học sinh giỏi các trường THPT theo quy định của ĐHQG có điểm chuẩn 27.5. Ngành Kỹ thuật Điện tử (Mã ngành: 7520207_SB) ở phương thức Ưu tiên xét tuyển học sinh giỏi các trường THPT theo quy định của ĐHQG có điểm chuẩn 18.0. Ngành Công nghệ Sinh học (Mã ngành: 7420201) ở phương thức Ưu tiên xét tuyển học sinh giỏi các trường THPT theo quy định của ĐHQG có điểm chuẩn 22.0. Ngành Công nghệ Thông tin (2.5+1.5) (Mã ngành: 7480201_DK25) ở phương thức Ưu tiên xét tuyển học sinh giỏi các trường THPT theo quy định của ĐHQG có điểm chuẩn 18.0. Ngành Công nghệ Thực phẩm (Mã ngành: 7540101) ở phương thức Ưu tiên xét tuyển học sinh giỏi các trường THPT theo quy định của ĐHQG có điểm chuẩn 22.0. Ngành Hóa học (Hóa sinh) (Mã ngành: 7440112) ở phương thức Ưu tiên xét tuyển học sinh giỏi các trường THPT theo quy định của ĐHQG có điểm chuẩn 22.0. Ngành Kỹ thuật Xây dựng (Mã ngành: 7580201) ở phương thức Ưu tiên xét tuyển học sinh giỏi các trường THPT theo quy định của ĐHQG có điểm chuẩn 21.0. Ngành Quản trị Kinh doanh (2+2) (Mã ngành: 7340101_WE) ở phương thức Ưu tiên xét tuyển học sinh giỏi các trường THPT theo quy định của ĐHQG có điểm chuẩn 18.0. Ngành Công nghệ Thông tin (Mã ngành: 7480201_UN) ở phương thức Ưu tiên xét tuyển học sinh giỏi các trường THPT theo quy định của ĐHQG có điểm chuẩn 18.0. Ngành Quản trị Kinh doanh (Mã ngành: 7340101_UH) ở phương thức Ưu tiên xét tuyển học sinh giỏi các trường THPT theo quy định của ĐHQG có điểm chuẩn 18.0. Ngành Công nghệ Thông tin (Mã ngành: 7480201) ở phương thức Ưu tiên xét tuyển học sinh giỏi các trường THPT theo quy định của ĐHQG có điểm chuẩn 23.0. Ngành Công nghệ Thực phẩm (Mã ngành: 7540101_UN) ở phương thức Ưu tiên xét tuyển học sinh giỏi các trường THPT theo quy định của ĐHQG có điểm chuẩn 18.0. Ngành Kỹ thuật Hệ thống Công nghiệp (Mã ngành: 7520118) ở phương thức Ưu tiên xét tuyển học sinh giỏi các trường THPT theo quy định của ĐHQG có điểm chuẩn 21.0. Ngành Kỹ thuật Điện tử - Viễn thông (Mã ngành: 7520207_WE) ở phương thức Ưu tiên xét tuyển học sinh giỏi các trường THPT theo quy định của ĐHQG có điểm chuẩn 18.0. Ngành Kỹ thuật Y Sinh (Mã ngành: 7520212) ở phương thức Ưu tiên xét tuyển học sinh giỏi các trường THPT theo quy định của ĐHQG có điểm chuẩn 24.0. Ngành Toán ứng dụng (Kỹ thuật Tài chính và Quản trị rủi ro) (Mã ngành: 7460112) ở phương thức Ưu tiên xét tuyển học sinh giỏi các trường THPT theo quy định của ĐHQG có điểm chuẩn 22.0. Ngành Quản trị kinh doanh (Mã ngành: 7340101_NS) ở phương thức Ưu tiên xét tuyển học sinh giỏi các trường THPT theo quy định của ĐHQG có điểm chuẩn 18.0. Ngành Tài chính – Ngân hàng (Mã ngành: 7340201) ở phương thức Ưu tiên xét tuyển học sinh giỏi các trường THPT theo quy định của ĐHQG có điểm chuẩn 24.0. Ngành Kỹ thuật Máy tính (Mã ngành: 7480106_SB) ở phương thức Ưu tiên xét tuyển học sinh giỏi các trường THPT theo quy định của ĐHQG có điểm chuẩn 18.0. Ngành Công nghệ Thông tin (2+2) (Mã ngành: 7480201_DK2) ở phương thức Ưu tiên xét tuyển học sinh giỏi các trường THPT theo quy định của ĐHQG có điểm chuẩn 18.0. Ngành Quản trị Kinh doanh (Mã ngành: 7340101_AU) ở phương thức Ưu tiên xét tuyển học sinh giỏi các trường THPT theo quy định của ĐHQG có điểm chuẩn 18.0. Ngành Logistics và Quản lý chuỗi cung ứng (Mã ngành: 7510605) ở phương thức Ưu tiên xét tuyển học sinh giỏi các trường THPT theo quy định của ĐHQG có điểm chuẩn 27.5. Ngành Kỹ thuật Điện tử - Viễn thông (Mã ngành: 7520207_UN) ở phương thức Ưu tiên xét tuyển học sinh giỏi các trường THPT theo quy định của ĐHQG có điểm chuẩn 18.0. Ngành Quản trị kinh doanh (4+0) (Mã ngành: 7340101_WE4) ở phương thức Ưu tiên xét tuyển học sinh giỏi các trường THPT theo quy định của ĐHQG có điểm chuẩn 18.0. Ngành Khoa học Dữ liệu (Mã ngành: 7480109) ở phương thức Ưu tiên xét tuyển học sinh giỏi các trường THPT theo quy định của ĐHQG có điểm chuẩn 23.0. Ngành Quản lý Xây dựng (Mã ngành: 7580302) ở phương thức Ưu tiên xét tuyển học sinh giỏi các trường THPT theo quy định của ĐHQG có điểm chuẩn 21.0. Ngành Công nghệ Sinh học định hướng Y sinh (4+0) (Mã ngành: 7420201_WE4) ở phương thức Ưu tiên xét tuyển học sinh giỏi các trường THPT theo quy định của ĐHQG có điểm chuẩn 18.0. Ngành Công nghệ Sinh học (2+2) (Mã ngành: 7420201_WE2) ở phương thức Ưu tiên xét tuyển học sinh giỏi các trường THPT theo quy định của ĐHQG có điểm chuẩn 18.0. Ngành Kỹ thuật Điều khiển và Tự động hóa (Mã ngành: 7520216) ở phương thức Ưu tiên xét tuyển học sinh giỏi các trường THPT theo quy định của ĐHQG có điểm chuẩn 22.0. Ngành Quản trị Kinh doanh (Mã ngành: 7340101_UN) ở phương thức Ưu tiên xét tuyển học sinh giỏi các trường THPT theo quy định của ĐHQG có điểm chuẩn 18.0. Ngành Kỹ thuật Điện tử - Viễn thông (Mã ngành: 7520207) ở phương thức Ưu tiên xét tuyển học sinh giỏi các trường THPT theo quy định của ĐHQG có điểm chuẩn 21.0. Ngành Kế toán (Mã ngành: 7340301) ở phương thức Ưu tiên xét tuyển học sinh giỏi các trường THPT theo quy định của ĐHQG có điểm chuẩn 22.0. Ngành Kỹ thuật Không gian (Mã ngành: 7520121) ở phương thức Ưu tiên xét tuyển học sinh giỏi các trường THPT theo quy định của ĐHQG có điểm chuẩn 21.0. Ngành Ngôn ngữ Anh (4+0) (Mã ngành: 7220201_WE4) ở phương thức Ưu tiên xét tuyển học sinh giỏi các trường THPT theo quy định của ĐHQG có điểm chuẩn 18.0. Ngành Công nghệ Thông tin (2+2) (Mã ngành: 7480201_WE2) ở phương thức Ưu tiên xét tuyển học sinh giỏi các trường THPT theo quy định của ĐHQG có điểm chuẩn 18.0. Ngành Kỹ thuật Hóa học (Mã ngành: 7520301) ở phương thức Ưu tiên xét tuyển học sinh giỏi các trường THPT theo quy định của ĐHQG có điểm chuẩn 23.0. Ngành Ngôn ngữ Anh (3+1) (Mã ngành: 7220201_WE3) ở phương thức Ưu tiên xét tuyển học sinh giỏi các trường THPT theo quy định của ĐHQG có điểm chuẩn 18.0. Ngành Công nghệ Sinh học (Mã ngành: 7420201_UN) ở phương thức Ưu tiên xét tuyển học sinh giỏi các trường THPT theo quy định của ĐHQG có điểm chuẩn 18.0. Ngành Khoa học Máy tính (Mã ngành: 7480101) ở phương thức Ưu tiên xét tuyển học sinh giỏi các trường THPT theo quy định của ĐHQG có điểm chuẩn 23.0. Ngành Ngôn ngữ Anh (2+2) (Mã ngành: 7220201_WE2) ở phương thức Ưu tiên xét tuyển học sinh giỏi các trường THPT theo quy định của ĐHQG có điểm chuẩn 18.0. Ngành Kỹ thuật Hệ thống Công nghiệp (Mã ngành: 7520118_SB) ở phương thức Ưu tiên xét tuyển học sinh giỏi các trường THPT theo quy định của ĐHQG có điểm chuẩn 18.0. Ngành Công nghệ Thông tin (4+0) (Mã ngành: 7480201_WE4) ở phương thức Ưu tiên xét tuyển học sinh giỏi các trường THPT theo quy định của ĐHQG có điểm chuẩn 18.0. Ngành Quản trị Kinh doanh (Mã ngành: 7340101) ở phương thức Ưu tiên xét tuyển học sinh giỏi các trường THPT theo quy định của ĐHQG có điểm chuẩn 27.5. Ngành Kỹ thuật Môi trường (Mã ngành: 7520320) ở phương thức Ưu tiên xét tuyển học sinh giỏi các trường THPT theo quy định của ĐHQG có điểm chuẩn 21.0</td>\n",
              "      <td>131</td>\n",
              "      <td>Điểm chuẩn ngành Quản trị Kinh doanh (2+2) là bao nhiêu?</td>\n",
              "      <td>Điểm chuẩn</td>\n",
              "    </tr>\n",
              "    <tr>\n",
              "      <th>7</th>\n",
              "      <td>{'answer_start': [6396], 'text': ['Ngành Kỹ thuật Hệ thống Công nghiệp (Mã ngành: 7520118_SB) ở phương thức Ưu tiên xét tuyển học sinh giỏi các trường THPT theo quy định của ĐHQG có điểm chuẩn 18.0']}</td>\n",
              "      <td>Ngành Công nghệ Thông tin (3+1) (Mã ngành: 7480201_DK3) ở phương thức Ưu tiên xét tuyển học sinh giỏi các trường THPT theo quy định của ĐHQG có điểm chuẩn 18.0. Ngành Ngôn ngữ Anh (Mã ngành: 7220201) ở phương thức Ưu tiên xét tuyển học sinh giỏi các trường THPT theo quy định của ĐHQG có điểm chuẩn 27.5. Ngành Kỹ thuật Điện tử (Mã ngành: 7520207_SB) ở phương thức Ưu tiên xét tuyển học sinh giỏi các trường THPT theo quy định của ĐHQG có điểm chuẩn 18.0. Ngành Công nghệ Sinh học (Mã ngành: 7420201) ở phương thức Ưu tiên xét tuyển học sinh giỏi các trường THPT theo quy định của ĐHQG có điểm chuẩn 22.0. Ngành Công nghệ Thông tin (2.5+1.5) (Mã ngành: 7480201_DK25) ở phương thức Ưu tiên xét tuyển học sinh giỏi các trường THPT theo quy định của ĐHQG có điểm chuẩn 18.0. Ngành Công nghệ Thực phẩm (Mã ngành: 7540101) ở phương thức Ưu tiên xét tuyển học sinh giỏi các trường THPT theo quy định của ĐHQG có điểm chuẩn 22.0. Ngành Hóa học (Hóa sinh) (Mã ngành: 7440112) ở phương thức Ưu tiên xét tuyển học sinh giỏi các trường THPT theo quy định của ĐHQG có điểm chuẩn 22.0. Ngành Kỹ thuật Xây dựng (Mã ngành: 7580201) ở phương thức Ưu tiên xét tuyển học sinh giỏi các trường THPT theo quy định của ĐHQG có điểm chuẩn 21.0. Ngành Quản trị Kinh doanh (2+2) (Mã ngành: 7340101_WE) ở phương thức Ưu tiên xét tuyển học sinh giỏi các trường THPT theo quy định của ĐHQG có điểm chuẩn 18.0. Ngành Công nghệ Thông tin (Mã ngành: 7480201_UN) ở phương thức Ưu tiên xét tuyển học sinh giỏi các trường THPT theo quy định của ĐHQG có điểm chuẩn 18.0. Ngành Quản trị Kinh doanh (Mã ngành: 7340101_UH) ở phương thức Ưu tiên xét tuyển học sinh giỏi các trường THPT theo quy định của ĐHQG có điểm chuẩn 18.0. Ngành Công nghệ Thông tin (Mã ngành: 7480201) ở phương thức Ưu tiên xét tuyển học sinh giỏi các trường THPT theo quy định của ĐHQG có điểm chuẩn 23.0. Ngành Công nghệ Thực phẩm (Mã ngành: 7540101_UN) ở phương thức Ưu tiên xét tuyển học sinh giỏi các trường THPT theo quy định của ĐHQG có điểm chuẩn 18.0. Ngành Kỹ thuật Hệ thống Công nghiệp (Mã ngành: 7520118) ở phương thức Ưu tiên xét tuyển học sinh giỏi các trường THPT theo quy định của ĐHQG có điểm chuẩn 21.0. Ngành Kỹ thuật Điện tử - Viễn thông (Mã ngành: 7520207_WE) ở phương thức Ưu tiên xét tuyển học sinh giỏi các trường THPT theo quy định của ĐHQG có điểm chuẩn 18.0. Ngành Kỹ thuật Y Sinh (Mã ngành: 7520212) ở phương thức Ưu tiên xét tuyển học sinh giỏi các trường THPT theo quy định của ĐHQG có điểm chuẩn 24.0. Ngành Toán ứng dụng (Kỹ thuật Tài chính và Quản trị rủi ro) (Mã ngành: 7460112) ở phương thức Ưu tiên xét tuyển học sinh giỏi các trường THPT theo quy định của ĐHQG có điểm chuẩn 22.0. Ngành Quản trị kinh doanh (Mã ngành: 7340101_NS) ở phương thức Ưu tiên xét tuyển học sinh giỏi các trường THPT theo quy định của ĐHQG có điểm chuẩn 18.0. Ngành Tài chính – Ngân hàng (Mã ngành: 7340201) ở phương thức Ưu tiên xét tuyển học sinh giỏi các trường THPT theo quy định của ĐHQG có điểm chuẩn 24.0. Ngành Kỹ thuật Máy tính (Mã ngành: 7480106_SB) ở phương thức Ưu tiên xét tuyển học sinh giỏi các trường THPT theo quy định của ĐHQG có điểm chuẩn 18.0. Ngành Công nghệ Thông tin (2+2) (Mã ngành: 7480201_DK2) ở phương thức Ưu tiên xét tuyển học sinh giỏi các trường THPT theo quy định của ĐHQG có điểm chuẩn 18.0. Ngành Quản trị Kinh doanh (Mã ngành: 7340101_AU) ở phương thức Ưu tiên xét tuyển học sinh giỏi các trường THPT theo quy định của ĐHQG có điểm chuẩn 18.0. Ngành Logistics và Quản lý chuỗi cung ứng (Mã ngành: 7510605) ở phương thức Ưu tiên xét tuyển học sinh giỏi các trường THPT theo quy định của ĐHQG có điểm chuẩn 27.5. Ngành Kỹ thuật Điện tử - Viễn thông (Mã ngành: 7520207_UN) ở phương thức Ưu tiên xét tuyển học sinh giỏi các trường THPT theo quy định của ĐHQG có điểm chuẩn 18.0. Ngành Quản trị kinh doanh (4+0) (Mã ngành: 7340101_WE4) ở phương thức Ưu tiên xét tuyển học sinh giỏi các trường THPT theo quy định của ĐHQG có điểm chuẩn 18.0. Ngành Khoa học Dữ liệu (Mã ngành: 7480109) ở phương thức Ưu tiên xét tuyển học sinh giỏi các trường THPT theo quy định của ĐHQG có điểm chuẩn 23.0. Ngành Quản lý Xây dựng (Mã ngành: 7580302) ở phương thức Ưu tiên xét tuyển học sinh giỏi các trường THPT theo quy định của ĐHQG có điểm chuẩn 21.0. Ngành Công nghệ Sinh học định hướng Y sinh (4+0) (Mã ngành: 7420201_WE4) ở phương thức Ưu tiên xét tuyển học sinh giỏi các trường THPT theo quy định của ĐHQG có điểm chuẩn 18.0. Ngành Công nghệ Sinh học (2+2) (Mã ngành: 7420201_WE2) ở phương thức Ưu tiên xét tuyển học sinh giỏi các trường THPT theo quy định của ĐHQG có điểm chuẩn 18.0. Ngành Kỹ thuật Điều khiển và Tự động hóa (Mã ngành: 7520216) ở phương thức Ưu tiên xét tuyển học sinh giỏi các trường THPT theo quy định của ĐHQG có điểm chuẩn 22.0. Ngành Quản trị Kinh doanh (Mã ngành: 7340101_UN) ở phương thức Ưu tiên xét tuyển học sinh giỏi các trường THPT theo quy định của ĐHQG có điểm chuẩn 18.0. Ngành Kỹ thuật Điện tử - Viễn thông (Mã ngành: 7520207) ở phương thức Ưu tiên xét tuyển học sinh giỏi các trường THPT theo quy định của ĐHQG có điểm chuẩn 21.0. Ngành Kế toán (Mã ngành: 7340301) ở phương thức Ưu tiên xét tuyển học sinh giỏi các trường THPT theo quy định của ĐHQG có điểm chuẩn 22.0. Ngành Kỹ thuật Không gian (Mã ngành: 7520121) ở phương thức Ưu tiên xét tuyển học sinh giỏi các trường THPT theo quy định của ĐHQG có điểm chuẩn 21.0. Ngành Ngôn ngữ Anh (4+0) (Mã ngành: 7220201_WE4) ở phương thức Ưu tiên xét tuyển học sinh giỏi các trường THPT theo quy định của ĐHQG có điểm chuẩn 18.0. Ngành Công nghệ Thông tin (2+2) (Mã ngành: 7480201_WE2) ở phương thức Ưu tiên xét tuyển học sinh giỏi các trường THPT theo quy định của ĐHQG có điểm chuẩn 18.0. Ngành Kỹ thuật Hóa học (Mã ngành: 7520301) ở phương thức Ưu tiên xét tuyển học sinh giỏi các trường THPT theo quy định của ĐHQG có điểm chuẩn 23.0. Ngành Ngôn ngữ Anh (3+1) (Mã ngành: 7220201_WE3) ở phương thức Ưu tiên xét tuyển học sinh giỏi các trường THPT theo quy định của ĐHQG có điểm chuẩn 18.0. Ngành Công nghệ Sinh học (Mã ngành: 7420201_UN) ở phương thức Ưu tiên xét tuyển học sinh giỏi các trường THPT theo quy định của ĐHQG có điểm chuẩn 18.0. Ngành Khoa học Máy tính (Mã ngành: 7480101) ở phương thức Ưu tiên xét tuyển học sinh giỏi các trường THPT theo quy định của ĐHQG có điểm chuẩn 23.0. Ngành Ngôn ngữ Anh (2+2) (Mã ngành: 7220201_WE2) ở phương thức Ưu tiên xét tuyển học sinh giỏi các trường THPT theo quy định của ĐHQG có điểm chuẩn 18.0. Ngành Kỹ thuật Hệ thống Công nghiệp (Mã ngành: 7520118_SB) ở phương thức Ưu tiên xét tuyển học sinh giỏi các trường THPT theo quy định của ĐHQG có điểm chuẩn 18.0. Ngành Công nghệ Thông tin (4+0) (Mã ngành: 7480201_WE4) ở phương thức Ưu tiên xét tuyển học sinh giỏi các trường THPT theo quy định của ĐHQG có điểm chuẩn 18.0. Ngành Quản trị Kinh doanh (Mã ngành: 7340101) ở phương thức Ưu tiên xét tuyển học sinh giỏi các trường THPT theo quy định của ĐHQG có điểm chuẩn 27.5. Ngành Kỹ thuật Môi trường (Mã ngành: 7520320) ở phương thức Ưu tiên xét tuyển học sinh giỏi các trường THPT theo quy định của ĐHQG có điểm chuẩn 21.0</td>\n",
              "      <td>164</td>\n",
              "      <td>Điểm chuẩn ngành Kỹ thuật Hệ thống Công nghiệp là bao nhiêu?</td>\n",
              "      <td>Điểm chuẩn</td>\n",
              "    </tr>\n",
              "    <tr>\n",
              "      <th>8</th>\n",
              "      <td>{'answer_start': [1690], 'text': ['Ngành Công nghệ Thông tin (Mã ngành: 7480201) ở phương thức Ưu tiên xét tuyển học sinh giỏi các trường THPT theo quy định của ĐHQG có điểm chuẩn 23.0']}</td>\n",
              "      <td>Ngành Công nghệ Thông tin (3+1) (Mã ngành: 7480201_DK3) ở phương thức Ưu tiên xét tuyển học sinh giỏi các trường THPT theo quy định của ĐHQG có điểm chuẩn 18.0. Ngành Ngôn ngữ Anh (Mã ngành: 7220201) ở phương thức Ưu tiên xét tuyển học sinh giỏi các trường THPT theo quy định của ĐHQG có điểm chuẩn 27.5. Ngành Kỹ thuật Điện tử (Mã ngành: 7520207_SB) ở phương thức Ưu tiên xét tuyển học sinh giỏi các trường THPT theo quy định của ĐHQG có điểm chuẩn 18.0. Ngành Công nghệ Sinh học (Mã ngành: 7420201) ở phương thức Ưu tiên xét tuyển học sinh giỏi các trường THPT theo quy định của ĐHQG có điểm chuẩn 22.0. Ngành Công nghệ Thông tin (2.5+1.5) (Mã ngành: 7480201_DK25) ở phương thức Ưu tiên xét tuyển học sinh giỏi các trường THPT theo quy định của ĐHQG có điểm chuẩn 18.0. Ngành Công nghệ Thực phẩm (Mã ngành: 7540101) ở phương thức Ưu tiên xét tuyển học sinh giỏi các trường THPT theo quy định của ĐHQG có điểm chuẩn 22.0. Ngành Hóa học (Hóa sinh) (Mã ngành: 7440112) ở phương thức Ưu tiên xét tuyển học sinh giỏi các trường THPT theo quy định của ĐHQG có điểm chuẩn 22.0. Ngành Kỹ thuật Xây dựng (Mã ngành: 7580201) ở phương thức Ưu tiên xét tuyển học sinh giỏi các trường THPT theo quy định của ĐHQG có điểm chuẩn 21.0. Ngành Quản trị Kinh doanh (2+2) (Mã ngành: 7340101_WE) ở phương thức Ưu tiên xét tuyển học sinh giỏi các trường THPT theo quy định của ĐHQG có điểm chuẩn 18.0. Ngành Công nghệ Thông tin (Mã ngành: 7480201_UN) ở phương thức Ưu tiên xét tuyển học sinh giỏi các trường THPT theo quy định của ĐHQG có điểm chuẩn 18.0. Ngành Quản trị Kinh doanh (Mã ngành: 7340101_UH) ở phương thức Ưu tiên xét tuyển học sinh giỏi các trường THPT theo quy định của ĐHQG có điểm chuẩn 18.0. Ngành Công nghệ Thông tin (Mã ngành: 7480201) ở phương thức Ưu tiên xét tuyển học sinh giỏi các trường THPT theo quy định của ĐHQG có điểm chuẩn 23.0. Ngành Công nghệ Thực phẩm (Mã ngành: 7540101_UN) ở phương thức Ưu tiên xét tuyển học sinh giỏi các trường THPT theo quy định của ĐHQG có điểm chuẩn 18.0. Ngành Kỹ thuật Hệ thống Công nghiệp (Mã ngành: 7520118) ở phương thức Ưu tiên xét tuyển học sinh giỏi các trường THPT theo quy định của ĐHQG có điểm chuẩn 21.0. Ngành Kỹ thuật Điện tử - Viễn thông (Mã ngành: 7520207_WE) ở phương thức Ưu tiên xét tuyển học sinh giỏi các trường THPT theo quy định của ĐHQG có điểm chuẩn 18.0. Ngành Kỹ thuật Y Sinh (Mã ngành: 7520212) ở phương thức Ưu tiên xét tuyển học sinh giỏi các trường THPT theo quy định của ĐHQG có điểm chuẩn 24.0. Ngành Toán ứng dụng (Kỹ thuật Tài chính và Quản trị rủi ro) (Mã ngành: 7460112) ở phương thức Ưu tiên xét tuyển học sinh giỏi các trường THPT theo quy định của ĐHQG có điểm chuẩn 22.0. Ngành Quản trị kinh doanh (Mã ngành: 7340101_NS) ở phương thức Ưu tiên xét tuyển học sinh giỏi các trường THPT theo quy định của ĐHQG có điểm chuẩn 18.0. Ngành Tài chính – Ngân hàng (Mã ngành: 7340201) ở phương thức Ưu tiên xét tuyển học sinh giỏi các trường THPT theo quy định của ĐHQG có điểm chuẩn 24.0. Ngành Kỹ thuật Máy tính (Mã ngành: 7480106_SB) ở phương thức Ưu tiên xét tuyển học sinh giỏi các trường THPT theo quy định của ĐHQG có điểm chuẩn 18.0. Ngành Công nghệ Thông tin (2+2) (Mã ngành: 7480201_DK2) ở phương thức Ưu tiên xét tuyển học sinh giỏi các trường THPT theo quy định của ĐHQG có điểm chuẩn 18.0. Ngành Quản trị Kinh doanh (Mã ngành: 7340101_AU) ở phương thức Ưu tiên xét tuyển học sinh giỏi các trường THPT theo quy định của ĐHQG có điểm chuẩn 18.0. Ngành Logistics và Quản lý chuỗi cung ứng (Mã ngành: 7510605) ở phương thức Ưu tiên xét tuyển học sinh giỏi các trường THPT theo quy định của ĐHQG có điểm chuẩn 27.5. Ngành Kỹ thuật Điện tử - Viễn thông (Mã ngành: 7520207_UN) ở phương thức Ưu tiên xét tuyển học sinh giỏi các trường THPT theo quy định của ĐHQG có điểm chuẩn 18.0. Ngành Quản trị kinh doanh (4+0) (Mã ngành: 7340101_WE4) ở phương thức Ưu tiên xét tuyển học sinh giỏi các trường THPT theo quy định của ĐHQG có điểm chuẩn 18.0. Ngành Khoa học Dữ liệu (Mã ngành: 7480109) ở phương thức Ưu tiên xét tuyển học sinh giỏi các trường THPT theo quy định của ĐHQG có điểm chuẩn 23.0. Ngành Quản lý Xây dựng (Mã ngành: 7580302) ở phương thức Ưu tiên xét tuyển học sinh giỏi các trường THPT theo quy định của ĐHQG có điểm chuẩn 21.0. Ngành Công nghệ Sinh học định hướng Y sinh (4+0) (Mã ngành: 7420201_WE4) ở phương thức Ưu tiên xét tuyển học sinh giỏi các trường THPT theo quy định của ĐHQG có điểm chuẩn 18.0. Ngành Công nghệ Sinh học (2+2) (Mã ngành: 7420201_WE2) ở phương thức Ưu tiên xét tuyển học sinh giỏi các trường THPT theo quy định của ĐHQG có điểm chuẩn 18.0. Ngành Kỹ thuật Điều khiển và Tự động hóa (Mã ngành: 7520216) ở phương thức Ưu tiên xét tuyển học sinh giỏi các trường THPT theo quy định của ĐHQG có điểm chuẩn 22.0. Ngành Quản trị Kinh doanh (Mã ngành: 7340101_UN) ở phương thức Ưu tiên xét tuyển học sinh giỏi các trường THPT theo quy định của ĐHQG có điểm chuẩn 18.0. Ngành Kỹ thuật Điện tử - Viễn thông (Mã ngành: 7520207) ở phương thức Ưu tiên xét tuyển học sinh giỏi các trường THPT theo quy định của ĐHQG có điểm chuẩn 21.0. Ngành Kế toán (Mã ngành: 7340301) ở phương thức Ưu tiên xét tuyển học sinh giỏi các trường THPT theo quy định của ĐHQG có điểm chuẩn 22.0. Ngành Kỹ thuật Không gian (Mã ngành: 7520121) ở phương thức Ưu tiên xét tuyển học sinh giỏi các trường THPT theo quy định của ĐHQG có điểm chuẩn 21.0. Ngành Ngôn ngữ Anh (4+0) (Mã ngành: 7220201_WE4) ở phương thức Ưu tiên xét tuyển học sinh giỏi các trường THPT theo quy định của ĐHQG có điểm chuẩn 18.0. Ngành Công nghệ Thông tin (2+2) (Mã ngành: 7480201_WE2) ở phương thức Ưu tiên xét tuyển học sinh giỏi các trường THPT theo quy định của ĐHQG có điểm chuẩn 18.0. Ngành Kỹ thuật Hóa học (Mã ngành: 7520301) ở phương thức Ưu tiên xét tuyển học sinh giỏi các trường THPT theo quy định của ĐHQG có điểm chuẩn 23.0. Ngành Ngôn ngữ Anh (3+1) (Mã ngành: 7220201_WE3) ở phương thức Ưu tiên xét tuyển học sinh giỏi các trường THPT theo quy định của ĐHQG có điểm chuẩn 18.0. Ngành Công nghệ Sinh học (Mã ngành: 7420201_UN) ở phương thức Ưu tiên xét tuyển học sinh giỏi các trường THPT theo quy định của ĐHQG có điểm chuẩn 18.0. Ngành Khoa học Máy tính (Mã ngành: 7480101) ở phương thức Ưu tiên xét tuyển học sinh giỏi các trường THPT theo quy định của ĐHQG có điểm chuẩn 23.0. Ngành Ngôn ngữ Anh (2+2) (Mã ngành: 7220201_WE2) ở phương thức Ưu tiên xét tuyển học sinh giỏi các trường THPT theo quy định của ĐHQG có điểm chuẩn 18.0. Ngành Kỹ thuật Hệ thống Công nghiệp (Mã ngành: 7520118_SB) ở phương thức Ưu tiên xét tuyển học sinh giỏi các trường THPT theo quy định của ĐHQG có điểm chuẩn 18.0. Ngành Công nghệ Thông tin (4+0) (Mã ngành: 7480201_WE4) ở phương thức Ưu tiên xét tuyển học sinh giỏi các trường THPT theo quy định của ĐHQG có điểm chuẩn 18.0. Ngành Quản trị Kinh doanh (Mã ngành: 7340101) ở phương thức Ưu tiên xét tuyển học sinh giỏi các trường THPT theo quy định của ĐHQG có điểm chuẩn 27.5. Ngành Kỹ thuật Môi trường (Mã ngành: 7520320) ở phương thức Ưu tiên xét tuyển học sinh giỏi các trường THPT theo quy định của ĐHQG có điểm chuẩn 21.0</td>\n",
              "      <td>134</td>\n",
              "      <td>Điểm chuẩn ngành Công nghệ Thông tin là bao nhiêu?</td>\n",
              "      <td>Điểm chuẩn</td>\n",
              "    </tr>\n",
              "    <tr>\n",
              "      <th>9</th>\n",
              "      <td>{'answer_start': [6335], 'text': ['Ngành Kỹ thuật Máy tính (Mã ngành: 7480106_SB) Chương trình: Chương trình liên kết cấp bằng của trường ĐH SUNY Binghamton (USA) Ngành Kỹ thuật máy tính (KTMT) là một ngành khá đặc biệt trong nhóm ngành Công nghệ thông tin, là ngành học kết hợp kiến thức cả hai lĩnh vực Điện tử và Công nghệ thông tin, Ngành Kỹ thuật máy tính đang được nhà nước ưu tiên phát triển đặc biệt cụ thể qua các chính sách, dự án nhà máy chế tạo chip đầu tiên của Việt Nam đang được triển khai rầm rộ.']}</td>\n",
              "      <td>Ngành Công nghệ Thực phẩm (Mã ngành: 7540101) Chương trình: Trong nước Chương trình đào tạo ngành CNTP tại Trường Đai học Quốc tế được thiết kế nhằm đào tạo các kỹ sư CNTP, có những nét chính như sau:, Cung cấp kiến thức rộng, cân bằng về các khoa học thực phẩm và kỹ thuật thực phẩm Cung cấp kiến thức cơ bản về quản lý thực phẩm (bao gồm cả quản lý sản xuất, chất lượng, vệ sinh an toàn thực phẩm và vệ sinh môi trường) Chú trọng đến kỹ năng thực hành và khả năng tiếp cận với thiết bị công nghệ cao Giảng dạy hoàn toàn bằng tiếng Anh (kỹ sư sau khi tốt nghiệp sẽ đạt trình độ tiếng Anh TOEF pBT 550 hoặc tương đương (IELTS 6.0, TOEFL iBT 60)). Ngành Kỹ thuật Hệ thống Công nghiệp (Mã ngành: 7520118) Chương trình: Trong nước Chương trình đại học của ngành Kỹ thuật Hệ thống công nghiệp (ISE) sẽ cung cấp cho sinh viên những kiến thức lý thuyết và kỹ năng thực tế trong việc thiết kế, vận hành, cải thiện và tối ưu các hệ thống sản xuất và dịch vụ Sau khi tốt nghiệp, sinh viên có thể:, Theo đuổi việc học lên cao hơn, có khả năng cạnh tranh thành công để giành được những học bổng uy tín để có thể theo học các chương trình cao học ở nước ngoài Trở thành kỹ sư Kỹ thuật Hệ thống công nghiệp giỏi, có thể tìm được việc làm trong các lĩnh vực sản xuất, quản lý vật tư tồn kho, chuỗi cung ứng và hậu cần, quản lý chất lượng, lập kế hoạch và điều độ, thiết kế và sắp xếp các mặt bằng trong các công ty/ cơquan:. Ngành Kỹ thuật Điều khiển và Tự động hóa (Mã ngành: 7520216) Chương trình: Trong nước Mục tiêu đào tạo: , Cung cấp toàn bộ các kiến thức cơ sở của nhóm ngành Điện – Điện tử, các kiến thức chuyên ngành về Đo Lường, Giám Sát và Điều Khiển. Các kỹ năng cần thiết của một kỹ sư để đáp ứng nhu cầu của công nghiệp, để tiếp tục chương trình cao học, nghiên cứu chuyên sâu ngành Điều Khiển Các kỹ năng tự đào tạo để thích ứng với sự thay đổi của công nghệ Định hướng đào tạo: , Lý thuyết điều khiển và ứng dụng vào các đối tượng điều khiển và các quá trình. Công nghệ đo lường, điều khiển và giám sát hệ thống. Robot (công nghiệp, tự hành) và trí thông minh nhân tạo. Ngành Công nghệ Thông tin (2+2) (Mã ngành: 7480201_DK2) Chương trình: Chương trình liên kết cấp bằng của trường ĐH Deakin (Úc) Công nghệ Thông tin (với hai chuyên ngành: kỹ sư mạng máy tính và cử nhân khoa học máy tính) và cử nhân Khoa học Dữ liệu. Chương trình đào tạo tuân thủ theo các chuẩn mực quốc tế và đã đạt được chứng nhận kiểm định chất lượng bởi Tổ chức các trường Đại học Đông Nam Á (AUN) từ năm 2009 và tái kiểm định năm 2017. Các chương trình đào tạo đã đạt được chuẩn MOET năm 2017 và hiện đang tiếp tục thực hiện quy chuẩn kiểm định ABET của Mỹ. Ngành Quản trị Kinh doanh (Mã ngành: 7340101_AU) Chương trình: Chương trình liên kết cấp bằng của trường ĐH Auckland University of Technology (New Zealand) Quản trị kinh doanh là một ngành tổng hợp gồm nhiều bộ môn căn bản về “quản trị” và “kinh doanh”. Nói cách khác, khi đăng ký ngành này, bạn sẽ được đào tạo đầy đủ những kiến thức căn bản trong khối ngành kinh tế như tài chính, kế toán, nhân sự cho tới các chiến lược kinh doanh, marketing. Song song với các kiến thức trên, hệ thống tư duy, kỹ năng lãnh đạo cùng nhưng mô hình quản trị sao cho tối đa hóa hiệu suất công việc cũng là những môn học không thể thiếu của chuyên ngành đặc biệt này. Ngành Công nghệ Thực phẩm (Mã ngành: 7540101_UN) Chương trình: Chương trình liên kết cấp bằng của trường ĐH Nottingham (UK) Cung cấp kiến thức rộng, cân bằng về các khoa học thực phẩm và kỹ thuật thực phẩm Cung cấp kiến thức cơ bản về quản lý thực phẩm (bao gồm cả quản lý sản xuất, chất lượng, vệ sinh an toàn thực phẩm và vệ sinh môi trường) Chú trọng đến kỹ năng thực hành và khả năng tiếp cận với thiết bị công nghệ cao. Ngành Kỹ thuật Điện tử - Viễn thông (Mã ngành: 7520207_WE) Chương trình: Chương trình liên kết cấp bằng của trường ĐH West of England (UK) Mục tiêu đào tạo:, Cung cấp kiến thức cơ sở hoàn chỉnh và các kỹ năng trong lĩnh vực Điện tử và Viễn thông Phục vụ và đáp ứng các nhu cầu công nghiệp, nghiên cứu khoa học và học sau đại học Chuẩn bị cho sinh viên tốt nghiệp có thể thích ứng với sự thay đổi nhanh trong lĩnh vực công nghệ cao như Điện tử và Viễn thông. Ngành Logistics và Quản lý chuỗi cung ứng (Mã ngành: 7510605) Chương trình: Trong nước Logistics và Quản lý chuỗi cung ứng là việc quản lý một mạng lưới kết nối của các doanh nghiệp tham gia vào việc cung cấp hàng hoá và dịch vụ đến tận tay người tiêu dùng. Nó đòi hỏi nhiều quy trình khác nhau, bao gồm lưu trữ, vận chuyển nguyên vật liệu, quá trình xử lý hàng tồn kho, sản xuất…. Ngành Công nghệ Thông tin (2.5+1.5) (Mã ngành: 7480201_DK25) Chương trình: Chương trình liên kết cấp bằng của trường ĐH Deakin (Úc) Công nghệ Thông tin (với hai chuyên ngành: kỹ sư mạng máy tính và cử nhân khoa học máy tính) và cử nhân Khoa học Dữ liệu. Chương trình đào tạo tuân thủ theo các chuẩn mực quốc tế và đã đạt được chứng nhận kiểm định chất lượng bởi Tổ chức các trường Đại học Đông Nam Á (AUN) từ năm 2009 và tái kiểm định năm 2017. Các chương trình đào tạo đã đạt được chuẩn MOET năm 2017 và hiện đang tiếp tục thực hiện quy chuẩn kiểm định ABET của Mỹ. Ngành Kỹ thuật Điện tử (Mã ngành: 7520207_SB) Chương trình: Chương trình liên kết cấp bằng của trường ĐH SUNY Binghamton (USA) Đời sống công nghệ hiện đại không thể nào thiếu được các thiết bị điện và điện tử. Các thiết bị này phổ biến ở khắp các hộ gia đình, trong các thiết bị giải trí, trong nhà máy sản xuất và có thể nói là tất cả mọi nơi có con nguời. Chính vì vậy, ngành Kỹ thuật Điện tử có nhu cầu nhân lực lớn và sẽ tiếp tục phát triển trong tương lai. Ngành Tài chính – Ngân hàng (Mã ngành: 7340201) Chương trình: Trong nước Tài chính ngân hàng là ngành nghề liên quan đến các dịch vụ giao dịch, luân chuyển tiền tệ thông qua ngân hàng và các công cụ tài chính của ngân hàng phát hành trong phạm vi nội địa và quốc tế. Tài chính ngân hàng là một phạm trù rất rộng, bao gồm các lĩnh vực nhỏ và chuyên biệt hơn như ngân hàng, tài chính doanh nghiệp, tài chính thuế, tài chính bảo hiểm, phân tích tài chính, kinh tế học tài chính,.. Ngành Kế toán (Mã ngành: 7340301) Chương trình: Trong nước Kế toán (tiếng Anh là Accountant) là công việc ghi chép, thu nhận, xử lý và cung cấp các thông tin về tình hình hoạt động tài chính của một tổ chức, một doanh nghiệp, một cơ quan nhà nước, một cơ sở kinh doanh tư nhân.. Ngành Kỹ thuật Máy tính (Mã ngành: 7480106_SB) Chương trình: Chương trình liên kết cấp bằng của trường ĐH SUNY Binghamton (USA) Ngành Kỹ thuật máy tính (KTMT) là một ngành khá đặc biệt trong nhóm ngành Công nghệ thông tin, là ngành học kết hợp kiến thức cả hai lĩnh vực Điện tử và Công nghệ thông tin, Ngành Kỹ thuật máy tính đang được nhà nước ưu tiên phát triển đặc biệt cụ thể qua các chính sách, dự án nhà máy chế tạo chip đầu tiên của Việt Nam đang được triển khai rầm rộ. Ngành Kỹ thuật Không gian (Mã ngành: 7520121) Chương trình: Trong nước Kỹ thuật Không gian là chương trình đào tạo kỹ sư 4 năm trong lĩnh vực ứng dụng công nghệ vệ tinh, bao gồm xử lý và phân tích tín hiệu, hình ảnh vệ tinh, công nghệ viễn thám, và định vị vệ tinh. Chương trình ra đời nhằm đáp ứng nhu cầu rất lớn về nguồn nhân lực trình độ cao trong ứng dụng công nghệ vệ tinh vào đời sống xã hội, quản lý tài nguyên, môi trường, lãnh thổ, biển đảo, và an ninh quốc phòng. Ngành Công nghệ Thông tin (Mã ngành: 7480201_UN) Chương trình: Chương trình liên kết cấp bằng của trường ĐH Nottingham (UK) Công nghệ Thông tin (với hai chuyên ngành: kỹ sư mạng máy tính và cử nhân khoa học máy tính) và cử nhân Khoa học Dữ liệu. Chương trình đào tạo tuân thủ theo các chuẩn mực quốc tế và đã đạt được chứng nhận kiểm định chất lượng bởi Tổ chức các trường Đại học Đông Nam Á (AUN) từ năm 2009 và tái kiểm định năm 2017. Các chương trình đào tạo đã đạt được chuẩn MOET năm 2017 và hiện đang tiếp tục thực hiện quy chuẩn kiểm định ABET của Mỹ. Ngành Kỹ thuật Điện tử - Viễn thông (Mã ngành: 7520207_UN) Chương trình: Chương trình liên kết cấp bằng của trường ĐH Nottingham (UK) Mục tiêu đào tạo:, Cung cấp kiến thức cơ sở hoàn chỉnh và các kỹ năng trong lĩnh vực Điện tử và Viễn thông Phục vụ và đáp ứng các nhu cầu công nghiệp, nghiên cứu khoa học và học sau đại học Chuẩn bị cho sinh viên tốt nghiệp có thể thích ứng với sự thay đổi nhanh trong lĩnh vực công nghệ cao như Điện tử và Viễn thông. Ngành Công nghệ Sinh học (2+2) (Mã ngành: 7420201_WE2) Chương trình: Chương trình liên kết cấp bằng của trường ĐH West of England (UK) Công nghệ sinh học (CNSH) là một lĩnh vực nghiên cứu và vận dụng sinh vật sống để tạo ra sản phẩm hoặc để phục vụ cho lợi ích của nhân loại. Ngành Kỹ thuật Môi trường (Mã ngành: 7520320) Chương trình: Trong nước Chương trình nhằm đào tạo kỹ sư Kỹ thuật Môi trường có năng lực tốt và trình độ am hiểu các vấn đề Kỹ thuật Môi trường, theo đuổi sự nghiên cứu sáng tạo, kỹ thuật hiện đại để phục vụ nhu cầu của đất nước, xã hội, công nghiệp và cộng đồng khoa học Được thiết kế theo tiêu chí của ABET Inc. (cơ quan đánh giá giáo dục kỹ thuật của Hoa Kỳ), chương trình đào tạo ngành Kỹ thuật môi trường bao gồm 4 năm (8 đến 9 học kỳ, tùy trình độ năng lực tiếng Anh đầu vào) cho 145 tín chỉ. Ngành Ngôn ngữ Anh (Mã ngành: 7220201) Chương trình: Trong nước Chương trình Cử nhân Ngôn ngữ Anh của Bộ môn Anh tại trường Đại học Quốc tế được thiết kế nhằm giúp sinh viên đáp ứng nhu cầu sử dụng tiếng Anh trong môi trường học tập và làm việc toàn cầu. Theo dự kiến, sinh viên hoàn thành 135 tín chỉ của các khóa học trong bốn năm. Những chương trình Anh ngữ Tăng cường và Học thuật của chúng tôi góp phần thúc đẩy sự thành công của sinh viên IU trong môi trường học tập và nói tiếng Anh tại IU và các trường đại học trên toàn thế giới. Chúng tôi tập trung vào các lĩnh vực thường sử dụng tiếng Anh trong nhiều bối cảnh học thuật khác nhau, như đọc chuyên ngành, nghe bài giảng và ghi chú, kỹ thuật thuyết trình, viết học thuật, viết bài kỹ thuật và viết bài nghiên cứu, và chuẩn bị cho các bài kiểm tra tiêu chuẩn quốc tế như TOEFL iBT và IELTS. Ngành Kỹ thuật Hóa học (Mã ngành: 7520301) Chương trình: Trong nước Đào tạo kỹ sư hóa học với triết lý ‘Job ready’, cụ thể như sau:, Có kiến thức cơ bản vững chắc về khoa học và kỹ thuật trong lĩnh vực hóa học và những lĩnh vực có liên quan (vd như sinh học, dược học, môi trường, v.v.) Có khả năng vận dụng sáng tạo các kiến thức cơ bản trong ngành để giải quyết các vấn đề đa dạng trong các lĩnh vực nghề nghiệp Có đạo đức nghề nghiệp, hiểu rõ các vấn đề về môi trường, xã hội, an ninh và kinh tế Có đầy đủ các kỹ năng mềm, kỹ năng quản lý, khả năng làm việc nhóm, khả năng lãnh đạo, khả năng giao tiếp và làm việc chuyên môn thành thạo bằng tiếng Anh. Ngành Công nghệ Thông tin (3+1) (Mã ngành: 7480201_DK3) Chương trình: Chương trình liên kết cấp bằng của trường ĐH Deakin (Úc) Công nghệ Thông tin (với hai chuyên ngành: kỹ sư mạng máy tính và cử nhân khoa học máy tính) và cử nhân Khoa học Dữ liệu. Chương trình đào tạo tuân thủ theo các chuẩn mực quốc tế và đã đạt được chứng nhận kiểm định chất lượng bởi Tổ chức các trường Đại học Đông Nam Á (AUN) từ năm 2009 và tái kiểm định năm 2017. Các chương trình đào tạo đã đạt được chuẩn MOET năm 2017 và hiện đang tiếp tục thực hiện quy chuẩn kiểm định ABET của Mỹ. Ngành Công nghệ Sinh học định hướng Y sinh (4+0) (Mã ngành: 7420201_WE4) Chương trình: Chương trình liên kết cấp bằng của trường ĐH West of England (UK) (4+0) Đây là ngành học ứng dụng các thành tựu của công nghệ sinh học vào lĩnh vực y học – dược học hướng tới gia tăng khả năng điều trị, chẩn đoán và bảo vệ sức khoẻ con người. Ngành Quản trị Kinh doanh (Mã ngành: 7340101_UN) Chương trình: Chương trình liên kết cấp bằng của trường ĐH Nottingham (UK) Quản trị kinh doanh là một ngành tổng hợp gồm nhiều bộ môn căn bản về “quản trị” và “kinh doanh”. Nói cách khác, khi đăng ký ngành này, bạn sẽ được đào tạo đầy đủ những kiến thức căn bản trong khối ngành kinh tế như tài chính, kế toán, nhân sự cho tới các chiến lược kinh doanh, marketing. Song song với các kiến thức trên, hệ thống tư duy, kỹ năng lãnh đạo cùng nhưng mô hình quản trị sao cho tối đa hóa hiệu suất công việc cũng là những môn học không thể thiếu của chuyên ngành đặc biệt này. Ngành Công nghệ Thông tin (Mã ngành: 7480201) Chương trình: Trong nước Công nghệ Thông tin (với hai chuyên ngành: kỹ sư mạng máy tính và cử nhân khoa học máy tính) và cử nhân Khoa học Dữ liệu. Chương trình đào tạo tuân thủ theo các chuẩn mực quốc tế và đã đạt được chứng nhận kiểm định chất lượng bởi Tổ chức các trường Đại học Đông Nam Á (AUN) từ năm 2009 và tái kiểm định năm 2017. Các chương trình đào tạo đã đạt được chuẩn MOET năm 2017 và hiện đang tiếp tục thực hiện quy chuẩn kiểm định ABET của Mỹ. Ngành Khoa học Máy tính (Mã ngành: 7480101) Chương trình: Trong nước Ngành Khoa học máy tính đóng vai trò rất quan trọng trong việc xây dựng các nền tảng nghiên cứu, phát triển các công nghệ trong tương lai, đặc biệt là những nghiên cứu ứng dụng thiết thực trong cuộc sống. Chương trình đào tạo ngành Khoa học máy tính có nhiệm vụ đào tạo ngồn nhân lực chất lượng cao cho ngành CNTT. Sinh viên tốt nghiệp chương trình Cử nhân Khoa học máy tính đáp ứng các yêu cầu sau:, Có kiến thức cơ bản và chuyên sâu về khoa học máy tính và công nghệ thông tin, có khả năng thiết kế các hệ thống xử lý tính toán phức tạp, các phần mềm có chất lượng khoa học và công nghệ cao, thử nghiệm, quản lý các hệ thống máy tính, các hệ thống tin học Có khả năng triển khai xây dựng các hệ thống ứng dụng tin học và phân tích, thiết kế xây dựng các phần mềm có giá trị thực tiễn cao, có tính sáng tạo, đặc biệt là các ứng dụng thông minh dựa trên việc xử lý tri thức, xử lý ngôn ngữ tự nhiên, xử lý và khai thác dữ liệu đa phương tiện. Ngành Kỹ thuật Điện tử - Viễn thông (Mã ngành: 7520207) Chương trình: Trong nước Chương trình Kỹ thuật Điện tử – Viễn thông đã được công nhận đạt chuẩn của các tổ chức kiểm định chất lượng quốc tế như của mạng lưới các trường Đông Nam Á (AUN) và gần đây nhất là của tổ chức Kiểm định các chương trình đào tạo kỹ thuật &amp; công nghệ của Hoa Kỳ từ cuối năm 2018 Mục tiêu đào tạo:, Cung cấp kiến thức cơ sở hoàn chỉnh và các kỹ năng trong lĩnh vực Điện tử và Viễn thông Phục vụ và đáp ứng các nhu cầu công nghiệp, nghiên cứu khoa học và học sau đại học Chuẩn bị cho sinh viên tốt nghiệp có thể thích ứng với sự thay đổi nhanh trong lĩnh vực công nghệ cao như Điện tử và Viễn thông. Ngành Quản trị Kinh doanh (Mã ngành: 7340101_UH) Chương trình: Chương trình liên kết cấp bằng của trường ĐH Houston (USA) Quản trị kinh doanh là một ngành tổng hợp gồm nhiều bộ môn căn bản về “quản trị” và “kinh doanh”. Nói cách khác, khi đăng ký ngành này, bạn sẽ được đào tạo đầy đủ những kiến thức căn bản trong khối ngành kinh tế như tài chính, kế toán, nhân sự cho tới các chiến lược kinh doanh, marketing. Song song với các kiến thức trên, hệ thống tư duy, kỹ năng lãnh đạo cùng nhưng mô hình quản trị sao cho tối đa hóa hiệu suất công việc cũng là những môn học không thể thiếu của chuyên ngành đặc biệt này. Ngành Toán ứng dụng (Kỹ thuật Tài chính và Quản trị rủi ro) (Mã ngành: 7460112) Chương trình: Trong nước Chương trình Kĩ thuật tài chính và Quản trị rủi ro được thiết kế nhằm trang bị cho sinh viên các kiến thức cơ bản và hiện đại về Toán học, Tin học, và Kỹ thuật tài chính, giúp các em có thể thực hiện các quy trình phân tích, dự báo, quản trị các vấn đề tài chính và các vấn đề liên quan, giải quyết được các tình huống thực tế trong lĩnh vực Kinh tế-Tài chính. Ngành Công nghệ Thông tin (2+2) (Mã ngành: 7480201_WE2) Chương trình: Chương trình liên kết cấp bằng của trường ĐH West of England (UK) Công nghệ Thông tin (với hai chuyên ngành: kỹ sư mạng máy tính và cử nhân khoa học máy tính) và cử nhân Khoa học Dữ liệu. Chương trình đào tạo tuân thủ theo các chuẩn mực quốc tế và đã đạt được chứng nhận kiểm định chất lượng bởi Tổ chức các trường Đại học Đông Nam Á (AUN) từ năm 2009 và tái kiểm định năm 2017. Các chương trình đào tạo đã đạt được chuẩn MOET năm 2017 và hiện đang tiếp tục thực hiện quy chuẩn kiểm định ABET của Mỹ. Ngành Quản trị kinh doanh (4+0) (Mã ngành: 7340101_WE4) Chương trình: Chương trình liên kết cấp bằng của trường ĐH West of England (UK) (4+0) Quản trị kinh doanh là một ngành tổng hợp gồm nhiều bộ môn căn bản về “quản trị” và “kinh doanh”. Nói cách khác, khi đăng ký ngành này, bạn sẽ được đào tạo đầy đủ những kiến thức căn bản trong khối ngành kinh tế như tài chính, kế toán, nhân sự cho tới các chiến lược kinh doanh, marketing. Song song với các kiến thức trên, hệ thống tư duy, kỹ năng lãnh đạo cùng nhưng mô hình quản trị sao cho tối đa hóa hiệu suất công việc cũng là những môn học không thể thiếu của chuyên ngành đặc biệt này. Ngành Công nghệ Thông tin (4+0) (Mã ngành: 7480201_WE4) Chương trình: Chương trình liên kết cấp bằng của trường ĐH West of England (UK) (4+0) Công nghệ Thông tin (với hai chuyên ngành: kỹ sư mạng máy tính và cử nhân khoa học máy tính) và cử nhân Khoa học Dữ liệu. Chương trình đào tạo tuân thủ theo các chuẩn mực quốc tế và đã đạt được chứng nhận kiểm định chất lượng bởi Tổ chức các trường Đại học Đông Nam Á (AUN) từ năm 2009 và tái kiểm định năm 2017. Các chương trình đào tạo đã đạt được chuẩn MOET năm 2017 và hiện đang tiếp tục thực hiện quy chuẩn kiểm định ABET của Mỹ. Ngành Ngôn ngữ Anh (4+0) (Mã ngành: 7220201_WE4) Chương trình: Chương trình liên kết cấp bằng của trường ĐH West of England (UK) (4+0) Chương trình Cử nhân Ngôn ngữ Anh của Bộ môn Anh tại trường Đại học Quốc tế được thiết kế nhằm giúp sinh viên đáp ứng nhu cầu sử dụng tiếng Anh trong môi trường học tập và làm việc toàn cầu. Theo dự kiến, sinh viên hoàn thành 135 tín chỉ của các khóa học trong bốn năm. Những chương trình Anh ngữ Tăng cường và Học thuật của chúng tôi góp phần thúc đẩy sự thành công của sinh viên IU trong môi trường học tập và nói tiếng Anh tại IU và các trường đại học trên toàn thế giới. Chúng tôi tập trung vào các lĩnh vực thường sử dụng tiếng Anh trong nhiều bối cảnh học thuật khác nhau, như đọc chuyên ngành, nghe bài giảng và ghi chú, kỹ thuật thuyết trình, viết học thuật, viết bài kỹ thuật và viết bài nghiên cứu, và chuẩn bị cho các bài kiểm tra tiêu chuẩn quốc tế như TOEFL iBT và IELTS. Ngành Ngôn ngữ Anh (3+1) (Mã ngành: 7220201_WE3) Chương trình: Chương trình liên kết cấp bằng của trường ĐH West of England (UK) (3+1) Chương trình Cử nhân Ngôn ngữ Anh của Bộ môn Anh tại trường Đại học Quốc tế được thiết kế nhằm giúp sinh viên đáp ứng nhu cầu sử dụng tiếng Anh trong môi trường học tập và làm việc toàn cầu. Theo dự kiến, sinh viên hoàn thành 135 tín chỉ của các khóa học trong bốn năm. Những chương trình Anh ngữ Tăng cường và Học thuật của chúng tôi góp phần thúc đẩy sự thành công của sinh viên IU trong môi trường học tập và nói tiếng Anh tại IU và các trường đại học trên toàn thế giới. Chúng tôi tập trung vào các lĩnh vực thường sử dụng tiếng Anh trong nhiều bối cảnh học thuật khác nhau, như đọc chuyên ngành, nghe bài giảng và ghi chú, kỹ thuật thuyết trình, viết học thuật, viết bài kỹ thuật và viết bài nghiên cứu, và chuẩn bị cho các bài kiểm tra tiêu chuẩn quốc tế như TOEFL iBT và IELTS. Ngành Quản trị Kinh doanh (Mã ngành: 7340101) Chương trình: Trong nước Quản trị kinh doanh là một ngành tổng hợp gồm nhiều bộ môn căn bản về “quản trị” và “kinh doanh”. Nói cách khác, khi đăng ký ngành này, bạn sẽ được đào tạo đầy đủ những kiến thức căn bản trong khối ngành kinh tế như tài chính, kế toán, nhân sự cho tới các chiến lược kinh doanh, marketing. Song song với các kiến thức trên, hệ thống tư duy, kỹ năng lãnh đạo cùng nhưng mô hình quản trị sao cho tối đa hóa hiệu suất công việc cũng là những môn học không thể thiếu của chuyên ngành đặc biệt này. Ngành Ngôn ngữ Anh (2+2) (Mã ngành: 7220201_WE2) Chương trình: Chương trình liên kết cấp bằng của trường ĐH West of England (UK) Chương trình Cử nhân Ngôn ngữ Anh của Bộ môn Anh tại trường Đại học Quốc tế được thiết kế nhằm giúp sinh viên đáp ứng nhu cầu sử dụng tiếng Anh trong môi trường học tập và làm việc toàn cầu. Theo dự kiến, sinh viên hoàn thành 135 tín chỉ của các khóa học trong bốn năm. Những chương trình Anh ngữ Tăng cường và Học thuật của chúng tôi góp phần thúc đẩy sự thành công của sinh viên IU trong môi trường học tập và nói tiếng Anh tại IU và các trường đại học trên toàn thế giới. Chúng tôi tập trung vào các lĩnh vực thường sử dụng tiếng Anh trong nhiều bối cảnh học thuật khác nhau, như đọc chuyên ngành, nghe bài giảng và ghi chú, kỹ thuật thuyết trình, viết học thuật, viết bài kỹ thuật và viết bài nghiên cứu, và chuẩn bị cho các bài kiểm tra tiêu chuẩn quốc tế như TOEFL iBT và IELTS. Ngành Khoa học Dữ liệu (Mã ngành: 7480109) Chương trình: Trong nước Khoa học dữ liệu (KHDL) là khoa học về việc quản trị và phân tích dữ liệu để tìm ra các hiểu biết, các tri thức hành động, các quyết định dẫn dắt hành động. KHDL gồm ba phần chính: Tạo ra và quản trị dữ liệu, phân tích dữ liệu, và chuyển kết quả phân tích thành giá trị của hành động. Nôm na bước thứ nhất là về số hóa và bước thứ hai là về dùng dữ liệu. Việc phân tích và dùng dữ liệu lại dựa vào ba nguồn tri thức: toán học (thống kê toán học), công nghệ thông tin (máy học) và tri thức của lĩnh vực ứng dụng cụ thể. Ngành Kỹ thuật Hệ thống Công nghiệp (Mã ngành: 7520118_SB) Chương trình: Chương trình liên kết cấp bằng của trường ĐH SUNY Binghamton (USA) Chương trình đại học của ngành Kỹ thuật Hệ thống công nghiệp (ISE) sẽ cung cấp cho sinh viên những kiến thức lý thuyết và kỹ năng thực tế trong việc thiết kế, vận hành, cải thiện và tối ưu các hệ thống sản xuất và dịch vụ. Ngành Công nghệ Sinh học (Mã ngành: 7420201) Chương trình: Trong nước Công nghệ sinh học (CNSH) là một lĩnh vực nghiên cứu và vận dụng sinh vật sống để tạo ra sản phẩm hoặc để phục vụ cho lợi ích của nhân loại. Ngành Quản lý Xây dựng (Mã ngành: 7580302) Chương trình: Trong nước Ngành Quản lý xây dựng là ngành trực tiếp thực hiện nhiệm vụ hoặc thực hành tư vấn về lập và đánh giá dự án, lập hồ sơ thiết kế tổ chức thi công, tổ chức các hoạt động trên từng giai đoạn chuẩn bị và thực hiện dự án như đấu thầu, triển khai thiết kế, thi công, bàn giao nghiệm thu và thanh quyết toán công trình. Ngành Kỹ thuật Xây dựng (Mã ngành: 7580201) Chương trình: Trong nước Kỹ thuật xây dựng là ngành chuyên về lĩnh vực tư vấn, thiết kế, tổ chức thi công, quản lí giảm sát và nghiệm thu các công trình xây dựng phục vụ đời sống con người như: nhà ở, nhà hàng – khách sạn, bệnh viện, cầu đường…. Ngành Quản trị kinh doanh (Mã ngành: 7340101_NS) Chương trình: Chương trình liên kết cấp bằng của trường ĐH New South Wales (Australia) Quản trị kinh doanh là một ngành tổng hợp gồm nhiều bộ môn căn bản về “quản trị” và “kinh doanh”. Nói cách khác, khi đăng ký ngành này, bạn sẽ được đào tạo đầy đủ những kiến thức căn bản trong khối ngành kinh tế như tài chính, kế toán, nhân sự cho tới các chiến lược kinh doanh, marketing. Song song với các kiến thức trên, hệ thống tư duy, kỹ năng lãnh đạo cùng nhưng mô hình quản trị sao cho tối đa hóa hiệu suất công việc cũng là những môn học không thể thiếu của chuyên ngành đặc biệt này. Ngành Hóa học (Hóa sinh) (Mã ngành: 7440112) Chương trình: Trong nước Ngành Hóa sinh được thiết kế dành riêng cho sinh viên chuyên nghiên cứu các tiến trình hóa học của sự sống ở cấp độ phân tử. Chương trình bao gồm giảng dạy các môn học về nguyên lý Sinh học, Hóa học, Vật lý và đặc biệt là mối liên quan của các nguyên lý này bên trong cơ thể sống. Sinh viên sẽ được nghiên cứu các tiến trình hóa học liên quan đến các đại phân tử và ý nghĩa từng cấu trúc trên các tiến trình tế bào. Chương trình còn khái quát các khía cạnh khác nhau của Hóa sinh bao gồm Hóa sinh phân tử, Enzym học, Công nghệ lên men, Hóa sinh lâm sàng và Kỹ thuật Hóa sinh. Ngành Quản trị Kinh doanh (2+2) (Mã ngành: 7340101_WE) Chương trình: Chương trình liên kết cấp bằng của trường ĐH West of England (UK) Quản trị kinh doanh là một ngành tổng hợp gồm nhiều bộ môn căn bản về “quản trị” và “kinh doanh”. Nói cách khác, khi đăng ký ngành này, bạn sẽ được đào tạo đầy đủ những kiến thức căn bản trong khối ngành kinh tế như tài chính, kế toán, nhân sự cho tới các chiến lược kinh doanh, marketing. Song song với các kiến thức trên, hệ thống tư duy, kỹ năng lãnh đạo cùng nhưng mô hình quản trị sao cho tối đa hóa hiệu suất công việc cũng là những môn học không thể thiếu của chuyên ngành đặc biệt này. Ngành Công nghệ Sinh học (Mã ngành: 7420201_UN) Chương trình: Chương trình liên kết cấp bằng của trường ĐH Nottingham (UK) Công nghệ sinh học (CNSH) là một lĩnh vực nghiên cứu và vận dụng sinh vật sống để tạo ra sản phẩm hoặc để phục vụ cho lợi ích của nhân loại. Ngành Kỹ thuật Y Sinh (Mã ngành: 7520212) Chương trình: Trong nước Kỹ thuật Y Sinh (KTYS) hiện đang là một lĩnh vực nổi bật thu hút sự quan tâm trên thế giới. Đây là một lĩnh vực đa ngành ứng dụng kỹ thuật tiên tiến vào việc tạo ra các phương pháp nghiên cứu và thiết bị phục vụ cho sức khỏe cũng như giúp hiểu biết sâu hơn về các tiến trình sinh học của con người.</td>\n",
              "      <td>12</td>\n",
              "      <td>Cho tôi hỏi về Kỹ thuật Máy tính</td>\n",
              "      <td>Thông tin chung</td>\n",
              "    </tr>\n",
              "  </tbody>\n",
              "</table>"
            ],
            "text/plain": [
              "<IPython.core.display.HTML object>"
            ]
          },
          "metadata": {}
        }
      ]
    },
    {
      "cell_type": "markdown",
      "source": [
        "# Preprocess the training data"
      ],
      "metadata": {
        "id": "bNkwBHN_ZHRI"
      }
    },
    {
      "cell_type": "code",
      "source": [
        "model_checkpoint = \"xlnet-base-cased\"\n",
        "batch_size = 8"
      ],
      "metadata": {
        "id": "yN6IsfnnZVOu"
      },
      "execution_count": 14,
      "outputs": []
    },
    {
      "cell_type": "code",
      "source": [
        "from transformers import AutoTokenizer\n",
        "tokenizer = AutoTokenizer.from_pretrained(model_checkpoint)"
      ],
      "metadata": {
        "id": "vi9_9j70Y0wy"
      },
      "execution_count": 15,
      "outputs": []
    },
    {
      "cell_type": "code",
      "source": [
        "import transformers\n",
        "assert isinstance(tokenizer, transformers.XLNetTokenizerFast)"
      ],
      "metadata": {
        "id": "AmW2Kg0cZcHi"
      },
      "execution_count": 24,
      "outputs": []
    },
    {
      "cell_type": "code",
      "source": [
        "tokenizer(\"Phòng Bảo đảm Chất lượng Giáo dục và Khảo thí:\", \" Tư vấn, tham mưu cho Ban Giám hiệu về chiến lược, các kế hoạch cải tiến hoạt động bảo đảm chất lượng\")"
      ],
      "metadata": {
        "colab": {
          "base_uri": "https://localhost:8080/"
        },
        "id": "G7ctvSosZfmr",
        "outputId": "2b52dea9-e4dd-4c5c-af3d-61608c172dc6"
      },
      "execution_count": 25,
      "outputs": [
        {
          "output_type": "execute_result",
          "data": {
            "text/plain": [
              "{'input_ids': [395, 15711, 3074, 155, 17, 0, 1199, 16969, 17, 2311, 2555, 3619, 6536, 17, 10590, 17, 1598, 8039, 155, 17, 9818, 60, 4, 2505, 3887, 19, 17, 46, 1714, 17, 5023, 660, 17, 3744, 3481, 3619, 1199, 17, 2582, 4269, 17, 189, 17, 2416, 254, 17, 2311, 3374, 19, 5460, 369, 17, 1235, 6938, 3756, 17, 16541, 3971, 180, 6938, 627, 17, 0, 2555, 17, 1642, 155, 17, 0, 1199, 6368, 17, 2311, 2555, 4, 3], 'token_type_ids': [0, 0, 0, 0, 0, 0, 0, 0, 0, 0, 0, 0, 0, 0, 0, 0, 0, 0, 0, 0, 0, 0, 0, 1, 1, 1, 1, 1, 1, 1, 1, 1, 1, 1, 1, 1, 1, 1, 1, 1, 1, 1, 1, 1, 1, 1, 1, 1, 1, 1, 1, 1, 1, 1, 1, 1, 1, 1, 1, 1, 1, 1, 1, 1, 1, 1, 1, 1, 1, 1, 1, 1, 1, 1, 1, 2], 'attention_mask': [1, 1, 1, 1, 1, 1, 1, 1, 1, 1, 1, 1, 1, 1, 1, 1, 1, 1, 1, 1, 1, 1, 1, 1, 1, 1, 1, 1, 1, 1, 1, 1, 1, 1, 1, 1, 1, 1, 1, 1, 1, 1, 1, 1, 1, 1, 1, 1, 1, 1, 1, 1, 1, 1, 1, 1, 1, 1, 1, 1, 1, 1, 1, 1, 1, 1, 1, 1, 1, 1, 1, 1, 1, 1, 1, 1]}"
            ]
          },
          "metadata": {},
          "execution_count": 25
        }
      ]
    },
    {
      "cell_type": "code",
      "source": [
        "max_length = 512 # The maximum length of a feature (question and context)\n",
        "doc_stride = 128 # The authorized overlap between two part of the context when splitting it is needed."
      ],
      "metadata": {
        "id": "bCXX2DSFZpwr"
      },
      "execution_count": 26,
      "outputs": []
    },
    {
      "cell_type": "markdown",
      "source": [
        "Let's find one long example in our dataset:"
      ],
      "metadata": {
        "id": "uR2JaE7VZ_M_"
      }
    },
    {
      "cell_type": "code",
      "source": [
        "for i, example in enumerate(dataset[\"train\"]):\n",
        "    if len(tokenizer(example[\"question\"], example[\"context\"])[\"input_ids\"]) > 512:\n",
        "        break\n",
        "example = dataset[\"train\"][i]"
      ],
      "metadata": {
        "id": "RFVMEfHHZsXN"
      },
      "execution_count": 27,
      "outputs": []
    },
    {
      "cell_type": "markdown",
      "source": [
        "Without any truncation, we get the following length for the input IDs:"
      ],
      "metadata": {
        "id": "5hcUHr5saCdf"
      }
    },
    {
      "cell_type": "code",
      "source": [
        "len(tokenizer(example[\"question\"], example[\"context\"])[\"input_ids\"])"
      ],
      "metadata": {
        "colab": {
          "base_uri": "https://localhost:8080/"
        },
        "id": "s7xjshN1Zun9",
        "outputId": "ce319145-bbd1-4714-c001-23ff10ba8a13"
      },
      "execution_count": 28,
      "outputs": [
        {
          "output_type": "execute_result",
          "data": {
            "text/plain": [
              "4185"
            ]
          },
          "metadata": {},
          "execution_count": 28
        }
      ]
    },
    {
      "cell_type": "markdown",
      "source": [
        "Now, if we just truncate, we will lose information (and possibly the answer to our question):"
      ],
      "metadata": {
        "id": "PyMJTUBiaGlw"
      }
    },
    {
      "cell_type": "code",
      "source": [
        "len(tokenizer(example[\"question\"], example[\"context\"], max_length=max_length, truncation=\"only_second\")[\"input_ids\"])"
      ],
      "metadata": {
        "colab": {
          "base_uri": "https://localhost:8080/"
        },
        "id": "tjF670G_aHWj",
        "outputId": "2d38ff89-7625-45da-e62a-4e5aad184a60"
      },
      "execution_count": 29,
      "outputs": [
        {
          "output_type": "execute_result",
          "data": {
            "text/plain": [
              "512"
            ]
          },
          "metadata": {},
          "execution_count": 29
        }
      ]
    },
    {
      "cell_type": "markdown",
      "source": [
        "Note that we never want to truncate the question, only the context, else the only_second truncation picked. Now, our tokenizer can automatically return us a list of features capped by a certain maximum length, with the overlap we talked above, we just have to tell it with return_overflowing_tokens=True and by passing the stride:"
      ],
      "metadata": {
        "id": "Ry5fRzhEaY4F"
      }
    },
    {
      "cell_type": "code",
      "source": [
        "tokenized_example = tokenizer(\n",
        "    example[\"question\"],\n",
        "    example[\"context\"],\n",
        "    max_length=max_length,\n",
        "    truncation=\"only_second\",\n",
        "    return_overflowing_tokens=True,\n",
        "    stride=doc_stride\n",
        ")"
      ],
      "metadata": {
        "id": "NH-yPYHdZ_lc"
      },
      "execution_count": 30,
      "outputs": []
    },
    {
      "cell_type": "markdown",
      "source": [
        "Now we don't have one list of input_ids, but several:"
      ],
      "metadata": {
        "id": "ci-oiY4taeAw"
      }
    },
    {
      "cell_type": "code",
      "source": [
        "for x in tokenized_example[\"input_ids\"][:2]:\n",
        "    print(tokenizer.decode(x))"
      ],
      "metadata": {
        "colab": {
          "base_uri": "https://localhost:8080/"
        },
        "id": "HK2C3FuCZ8jI",
        "outputId": "be99bf33-590c-4cbd-9d18-19f8adba8eaf"
      },
      "execution_count": 31,
      "outputs": [
        {
          "output_type": "stream",
          "name": "stdout",
          "text": [
            "Cho toi hoi ve Phong Cong tac Sinh vien<sep> Phong <unk>ao tao Sau <unk>ai hoc: Tham muu cho Hieu truong ve cac cong tac quan ly <unk>ao tao va boi duong sau <unk>ai hoc thuoc trach nhiem va tham quyen. Lien he: Room O2 – 609Telephone: (84)-28-37244270. Ext: 3120Fax: (84-28) 37244271. Phong Vat tu Thiet bi: Phong Vat tu Thiet bi Lien he: Phong O1 – 612, Truong <unk>ai hoc Quoc teKhu pho 6, Phuong Linh Trung, Quan Thu <unk>uc, TP. HCM<unk>ien thoai: (028) 37244270 – so may le: 3555, 3246 Fax: (028) 37244271. Trung tam <unk>oi moi sang tao va Chuyen giao cong nghe: Trung tam la <unk>on vi su nghiep khoa hoc truc thuoc truong <unk>ai Hoc Quoc Te – <unk>ai Hoc Quoc Gia TP. HCM, co chuc nang cung cap dich vu – nghien cuu – <unk>ao tao – tu van va chuyen giao cong nghe cho cac doanh nghiep va cac co quan chuc nang Nha nuoc. Trung tam la cau noi giua giang vien va sinh vien cua Truong voi cac nghien cuu va du an thuc tien tai cac doanh nghiep va <unk>on vi chuc nang truc thuoc nha nuoc. Lien he<sep><cls>\n",
            "Cho toi hoi ve Phong Cong tac Sinh vien<sep>o cong nghe cho cac doanh nghiep va cac co quan chuc nang Nha nuoc. Trung tam la cau noi giua giang vien va sinh vien cua Truong voi cac nghien cuu va du an thuc tien tai cac doanh nghiep va <unk>on vi chuc nang truc thuoc nha nuoc. Lien he: Phong O2– 303, Truong <unk>ai hoc Quoc teKhu pho 6, Phuong Linh Trung, Quan Thu <unk>uc, TP. HCM<unk>ien thoai: (028) 37244270 – so may le: 3949 Fax: (028) 37244271. Phong Hanh chinh Tong hop: Phong Hanh chinh Tong hop Lien he: Phong O2-711, Truong <unk>ai hoc Quoc teKhu pho 6, Phuong Linh Trung, Quan Thu <unk>uc, TP. HCM<unk>ien thoai: (028) 37244270 – so may le: 3225, 3939, 3737 Fax: (028) 37244271. Phong <unk>au tu & Phat trien: Tham muu, <unk>e xuat Hieu truong thuc hien chuc nang chu <unk>au tu xay dung quan ly va su dung cac nguon von <unk>uoc giao <unk>e to chuc quan ly thuc hien du an <unk>au tu xay dung. Phong Quan tri co so vat chat: Phong co chuc nang tham muu va giup Hieu truong trong cong tac quan ly, mua sam, sua chua, ba<sep><cls>\n"
          ]
        }
      ]
    },
    {
      "cell_type": "markdown",
      "source": [
        "Now this will give us some work to properly treat the answers: we need to find in which of those features the answer actually is, and where exactly in that feature. The models we will use require the start and end positions of these answers in the tokens, so we will also need to to map parts of the original context to some tokens. Thankfully, the tokenizer we're using can help us with that by returning an offset_mapping:"
      ],
      "metadata": {
        "id": "0ysQ4wY5alh3"
      }
    },
    {
      "cell_type": "code",
      "source": [
        "tokenized_example = tokenizer(\n",
        "    example[\"question\"],\n",
        "    example[\"context\"],\n",
        "    max_length=max_length,\n",
        "    truncation=\"only_second\",\n",
        "    return_overflowing_tokens=True,\n",
        "    return_offsets_mapping=True,\n",
        "    stride=doc_stride\n",
        ")\n",
        "print(tokenized_example[\"offset_mapping\"][0][:100])"
      ],
      "metadata": {
        "colab": {
          "base_uri": "https://localhost:8080/"
        },
        "id": "VTh0hmcSaZJf",
        "outputId": "2107152a-2a7c-4f54-b017-b62370b25042"
      },
      "execution_count": 32,
      "outputs": [
        {
          "output_type": "stream",
          "name": "stdout",
          "text": [
            "[(0, 3), (4, 6), (6, 7), (8, 10), (10, 11), (12, 13), (12, 14), (15, 16), (16, 20), (21, 24), (24, 25), (26, 27), (26, 27), (27, 29), (30, 33), (33, 34), (35, 36), (35, 37), (37, 39), (0, 0), (0, 1), (1, 5), (6, 7), (6, 7), (7, 9), (10, 11), (10, 12), (12, 13), (14, 17), (18, 19), (18, 19), (19, 21), (22, 24), (24, 25), (25, 26), (27, 28), (28, 31), (32, 33), (32, 34), (34, 35), (36, 37), (36, 39), (40, 42), (42, 44), (45, 46), (45, 48), (48, 51), (52, 53), (52, 54), (55, 57), (57, 58), (59, 62), (62, 63), (64, 65), (64, 65), (65, 67), (68, 69), (68, 71), (71, 72), (73, 74), (73, 75), (76, 77), (76, 77), (77, 79), (80, 81), (80, 82), (82, 83), (84, 85), (84, 86), (87, 88), (87, 89), (89, 90), (91, 93), (93, 96), (97, 98), (97, 98), (98, 100), (101, 102), (101, 102), (102, 104), (105, 107), (107, 108), (109, 110), (109, 110), (110, 112), (112, 114), (115, 116), (115, 116), (116, 120), (121, 122), (121, 122), (122, 124), (124, 126), (127, 128), (127, 129), (130, 131), (130, 131), (131, 134), (135, 136), (135, 137)]\n"
          ]
        }
      ]
    },
    {
      "cell_type": "markdown",
      "source": [
        "This gives, for each index of our input IDS, the corresponding start and end character in the original text that gave our token. The very first token ([CLS]) has (0, 0) because it doesn't correspond to any part of the question/answer, then the second token is the same as the characters 0 to 3 of the question:"
      ],
      "metadata": {
        "id": "rnzTDzYLaqPw"
      }
    },
    {
      "cell_type": "code",
      "source": [
        "first_token_id = tokenized_example[\"input_ids\"][0][1]\n",
        "offsets = tokenized_example[\"offset_mapping\"][0][1]\n",
        "print(tokenizer.convert_ids_to_tokens([first_token_id])[0], example[\"question\"][offsets[0]:offsets[1]])"
      ],
      "metadata": {
        "colab": {
          "base_uri": "https://localhost:8080/"
        },
        "id": "q5a9uDOVanxg",
        "outputId": "b5ce1c1d-bc0d-45b6-cb5f-c9886370872b"
      },
      "execution_count": 33,
      "outputs": [
        {
          "output_type": "stream",
          "name": "stdout",
          "text": [
            "▁to tô\n"
          ]
        }
      ]
    },
    {
      "cell_type": "markdown",
      "source": [
        "So we can use this mapping to find the position of the start and end tokens of our answer in a given feature. We just have to distinguish which parts of the offsets correspond to the question and which part correspond to the context, this is where the sequence_ids method of our tokenized_example can be useful:"
      ],
      "metadata": {
        "id": "tLT44JyWavdr"
      }
    },
    {
      "cell_type": "code",
      "source": [
        "sequence_ids = tokenized_example.sequence_ids()\n",
        "print(sequence_ids)"
      ],
      "metadata": {
        "colab": {
          "base_uri": "https://localhost:8080/"
        },
        "id": "nwOHjiW1ar4A",
        "outputId": "4fb5f87b-7294-4148-d3d6-8bbfe375ca0f"
      },
      "execution_count": 34,
      "outputs": [
        {
          "output_type": "stream",
          "name": "stdout",
          "text": [
            "[0, 0, 0, 0, 0, 0, 0, 0, 0, 0, 0, 0, 0, 0, 0, 0, 0, 0, 0, None, 1, 1, 1, 1, 1, 1, 1, 1, 1, 1, 1, 1, 1, 1, 1, 1, 1, 1, 1, 1, 1, 1, 1, 1, 1, 1, 1, 1, 1, 1, 1, 1, 1, 1, 1, 1, 1, 1, 1, 1, 1, 1, 1, 1, 1, 1, 1, 1, 1, 1, 1, 1, 1, 1, 1, 1, 1, 1, 1, 1, 1, 1, 1, 1, 1, 1, 1, 1, 1, 1, 1, 1, 1, 1, 1, 1, 1, 1, 1, 1, 1, 1, 1, 1, 1, 1, 1, 1, 1, 1, 1, 1, 1, 1, 1, 1, 1, 1, 1, 1, 1, 1, 1, 1, 1, 1, 1, 1, 1, 1, 1, 1, 1, 1, 1, 1, 1, 1, 1, 1, 1, 1, 1, 1, 1, 1, 1, 1, 1, 1, 1, 1, 1, 1, 1, 1, 1, 1, 1, 1, 1, 1, 1, 1, 1, 1, 1, 1, 1, 1, 1, 1, 1, 1, 1, 1, 1, 1, 1, 1, 1, 1, 1, 1, 1, 1, 1, 1, 1, 1, 1, 1, 1, 1, 1, 1, 1, 1, 1, 1, 1, 1, 1, 1, 1, 1, 1, 1, 1, 1, 1, 1, 1, 1, 1, 1, 1, 1, 1, 1, 1, 1, 1, 1, 1, 1, 1, 1, 1, 1, 1, 1, 1, 1, 1, 1, 1, 1, 1, 1, 1, 1, 1, 1, 1, 1, 1, 1, 1, 1, 1, 1, 1, 1, 1, 1, 1, 1, 1, 1, 1, 1, 1, 1, 1, 1, 1, 1, 1, 1, 1, 1, 1, 1, 1, 1, 1, 1, 1, 1, 1, 1, 1, 1, 1, 1, 1, 1, 1, 1, 1, 1, 1, 1, 1, 1, 1, 1, 1, 1, 1, 1, 1, 1, 1, 1, 1, 1, 1, 1, 1, 1, 1, 1, 1, 1, 1, 1, 1, 1, 1, 1, 1, 1, 1, 1, 1, 1, 1, 1, 1, 1, 1, 1, 1, 1, 1, 1, 1, 1, 1, 1, 1, 1, 1, 1, 1, 1, 1, 1, 1, 1, 1, 1, 1, 1, 1, 1, 1, 1, 1, 1, 1, 1, 1, 1, 1, 1, 1, 1, 1, 1, 1, 1, 1, 1, 1, 1, 1, 1, 1, 1, 1, 1, 1, 1, 1, 1, 1, 1, 1, 1, 1, 1, 1, 1, 1, 1, 1, 1, 1, 1, 1, 1, 1, 1, 1, 1, 1, 1, 1, 1, 1, 1, 1, 1, 1, 1, 1, 1, 1, 1, 1, 1, 1, 1, 1, 1, 1, 1, 1, 1, 1, 1, 1, 1, 1, 1, 1, 1, 1, 1, 1, 1, 1, 1, 1, 1, 1, 1, 1, 1, 1, 1, 1, 1, 1, 1, 1, 1, 1, 1, 1, 1, 1, 1, 1, 1, 1, 1, 1, 1, 1, 1, 1, 1, 1, 1, 1, 1, 1, 1, 1, 1, 1, 1, 1, 1, 1, 1, 1, 1, 1, 1, 1, 1, 1, 1, 1, 1, 1, 1, 1, 1, 1, 1, 1, 1, 1, 1, None, None]\n"
          ]
        }
      ]
    },
    {
      "cell_type": "markdown",
      "source": [
        "It returns None for the special tokens, then 0 or 1 depending on whether the corresponding token comes from the first sentence past (the question) or the second (the context). Now with all of this, we can find the first and last token of the answer in one of our input feature (or if the answer is not in this feature):"
      ],
      "metadata": {
        "id": "V9VAqrVGa3_s"
      }
    },
    {
      "cell_type": "code",
      "source": [
        "answers = example[\"answers\"]\n",
        "start_char = answers[\"answer_start\"][0]\n",
        "end_char = start_char + len(answers[\"text\"][0])\n",
        "\n",
        "# Start token index of the current span in the text.\n",
        "token_start_index = 0\n",
        "while sequence_ids[token_start_index] != 1:\n",
        "    token_start_index += 1\n",
        "\n",
        "# End token index of the current span in the text.\n",
        "token_end_index = len(tokenized_example[\"input_ids\"][0]) - 1\n",
        "while sequence_ids[token_end_index] != 1:\n",
        "    token_end_index -= 1\n",
        "\n",
        "# Detect if the answer is out of the span (in which case this feature is labeled with the CLS index).\n",
        "offsets = tokenized_example[\"offset_mapping\"][0]\n",
        "if (offsets[token_start_index][0] <= start_char and offsets[token_end_index][1] >= end_char):\n",
        "    # Move the token_start_index and token_end_index to the two ends of the answer.\n",
        "    # Note: we could go after the last offset if the answer is the last word (edge case).\n",
        "    while token_start_index < len(offsets) and offsets[token_start_index][0] <= start_char:\n",
        "        token_start_index += 1\n",
        "    start_position = token_start_index - 1\n",
        "    while offsets[token_end_index][1] >= end_char:\n",
        "        token_end_index -= 1\n",
        "    end_position = token_end_index + 1\n",
        "    print(start_position, end_position)\n",
        "else:\n",
        "    print(\"The answer is not in this feature.\")"
      ],
      "metadata": {
        "colab": {
          "base_uri": "https://localhost:8080/"
        },
        "id": "KKvakmeVa19E",
        "outputId": "98ca0aeb-e588-4bb5-b7a1-364a84981bc1"
      },
      "execution_count": 35,
      "outputs": [
        {
          "output_type": "stream",
          "name": "stdout",
          "text": [
            "The answer is not in this feature.\n"
          ]
        }
      ]
    },
    {
      "cell_type": "markdown",
      "source": [
        "And we can double check that it is indeed the theoretical answer:"
      ],
      "metadata": {
        "id": "J6FcAtsUa8P6"
      }
    },
    {
      "cell_type": "code",
      "source": [
        "# print(tokenizer.decode(tokenized_example[\"input_ids\"][0][start_position: end_position+1]))\n",
        "# print(answers[\"text\"][0])"
      ],
      "metadata": {
        "id": "4xPkxsuTa5kV"
      },
      "execution_count": 37,
      "outputs": []
    },
    {
      "cell_type": "code",
      "source": [
        "pad_on_right = tokenizer.padding_side == \"right\""
      ],
      "metadata": {
        "id": "CElVOIu1a_ut"
      },
      "execution_count": 38,
      "outputs": []
    },
    {
      "cell_type": "markdown",
      "source": [
        "Now let's put everything together in one function we will apply to our training set. In the case of impossible answers (the answer is in another feature given by an example with a long context), we set the cls index for both the start and end position. We could also simply discard those examples from the training set if the flag allow_impossible_answers is False. Since the preprocessing is already complex enough as it is, we've kept is simple for this part."
      ],
      "metadata": {
        "id": "f6FoNfF8bFJF"
      }
    },
    {
      "cell_type": "code",
      "source": [
        "def prepare_train_features(examples):\n",
        "    # Some of the questions have lots of whitespace on the left, which is not useful and will make the\n",
        "    # truncation of the context fail (the tokenized question will take a lots of space). So we remove that\n",
        "    # left whitespace\n",
        "    examples[\"question\"] = [q.lstrip() for q in examples[\"question\"]]\n",
        "\n",
        "    # Tokenize our examples with truncation and padding, but keep the overflows using a stride. This results\n",
        "    # in one example possible giving several features when a context is long, each of those features having a\n",
        "    # context that overlaps a bit the context of the previous feature.\n",
        "    tokenized_examples = tokenizer(\n",
        "        examples[\"question\" if pad_on_right else \"context\"],\n",
        "        examples[\"context\" if pad_on_right else \"question\"],\n",
        "        truncation=\"only_second\" if pad_on_right else \"only_first\",\n",
        "        max_length=max_length,\n",
        "        stride=doc_stride,\n",
        "        return_overflowing_tokens=True,\n",
        "        return_offsets_mapping=True,\n",
        "        padding=\"max_length\",\n",
        "    )\n",
        "\n",
        "    # Since one example might give us several features if it has a long context, we need a map from a feature to\n",
        "    # its corresponding example. This key gives us just that.\n",
        "    sample_mapping = tokenized_examples.pop(\"overflow_to_sample_mapping\")\n",
        "    # The offset mappings will give us a map from token to character position in the original context. This will\n",
        "    # help us compute the start_positions and end_positions.\n",
        "    offset_mapping = tokenized_examples.pop(\"offset_mapping\")\n",
        "\n",
        "    # Let's label those examples!\n",
        "    tokenized_examples[\"start_positions\"] = []\n",
        "    tokenized_examples[\"end_positions\"] = []\n",
        "\n",
        "    for i, offsets in enumerate(offset_mapping):\n",
        "        # We will label impossible answers with the index of the CLS token.\n",
        "        input_ids = tokenized_examples[\"input_ids\"][i]\n",
        "        cls_index = input_ids.index(tokenizer.cls_token_id)\n",
        "\n",
        "        # Grab the sequence corresponding to that example (to know what is the context and what is the question).\n",
        "        sequence_ids = tokenized_examples.sequence_ids(i)\n",
        "\n",
        "        # One example can give several spans, this is the index of the example containing this span of text.\n",
        "        sample_index = sample_mapping[i]\n",
        "        answers = examples[\"answers\"][sample_index]\n",
        "        # If no answers are given, set the cls_index as answer.\n",
        "        if len(answers[\"answer_start\"]) == 0:\n",
        "            tokenized_examples[\"start_positions\"].append(cls_index)\n",
        "            tokenized_examples[\"end_positions\"].append(cls_index)\n",
        "        else:\n",
        "            # Start/end character index of the answer in the text.\n",
        "            start_char = answers[\"answer_start\"][0]\n",
        "            end_char = start_char + len(answers[\"text\"][0])\n",
        "\n",
        "            # Start token index of the current span in the text.\n",
        "            token_start_index = 0\n",
        "            while sequence_ids[token_start_index] != (1 if pad_on_right else 0):\n",
        "                token_start_index += 1\n",
        "\n",
        "            # End token index of the current span in the text.\n",
        "            token_end_index = len(input_ids) - 1\n",
        "            while sequence_ids[token_end_index] != (1 if pad_on_right else 0):\n",
        "                token_end_index -= 1\n",
        "\n",
        "            # Detect if the answer is out of the span (in which case this feature is labeled with the CLS index).\n",
        "            if not (offsets[token_start_index][0] <= start_char and offsets[token_end_index][1] >= end_char):\n",
        "                tokenized_examples[\"start_positions\"].append(cls_index)\n",
        "                tokenized_examples[\"end_positions\"].append(cls_index)\n",
        "            else:\n",
        "                # Otherwise move the token_start_index and token_end_index to the two ends of the answer.\n",
        "                # Note: we could go after the last offset if the answer is the last word (edge case).\n",
        "                while token_start_index < len(offsets) and offsets[token_start_index][0] <= start_char:\n",
        "                    token_start_index += 1\n",
        "                tokenized_examples[\"start_positions\"].append(token_start_index - 1)\n",
        "                while offsets[token_end_index][1] >= end_char:\n",
        "                    token_end_index -= 1\n",
        "                tokenized_examples[\"end_positions\"].append(token_end_index + 1)\n",
        "\n",
        "    return tokenized_examples"
      ],
      "metadata": {
        "id": "KXX97ogRbFbt"
      },
      "execution_count": 39,
      "outputs": []
    },
    {
      "cell_type": "markdown",
      "metadata": {
        "id": "0lm8ozrJIrJR"
      },
      "source": [
        "This function works with one or several examples. In the case of several examples, the tokenizer will return a list of lists for each key:"
      ]
    },
    {
      "cell_type": "code",
      "source": [
        "features = prepare_train_features(dataset['train'][:5])"
      ],
      "metadata": {
        "id": "YPJjo3nSbGlb"
      },
      "execution_count": 40,
      "outputs": []
    },
    {
      "cell_type": "markdown",
      "source": [
        "To apply this function on all the sentences (or pairs of sentences) in our dataset, we just use the map method of our dataset object we created earlier. This will apply the function on all the elements of all the splits in dataset, so our training, validation and testing data will be preprocessed in one single command. Since our preprocessing changes the number of samples, we need to remove the old columns when applying it."
      ],
      "metadata": {
        "id": "d1wUvM1rbXMD"
      }
    },
    {
      "cell_type": "code",
      "source": [
        "tokenized_datasets = dataset.map(prepare_train_features, batched=True, remove_columns=dataset[\"train\"].column_names)"
      ],
      "metadata": {
        "colab": {
          "base_uri": "https://localhost:8080/",
          "height": 81,
          "referenced_widgets": [
            "677e687fa6154214ad859ea0c8a803a1",
            "d3402b9df29b4b6383d3f685e6f8366c",
            "b2ea72d60e2e45cfa8aa54c97d02724b",
            "fc722b01eee348199107d0e4e28c6312",
            "e97735d7726748e581a3a70611ff36e5",
            "6e7dc916ddbd451d97531463e7900249",
            "8fad5b43cf6e48fd8ca768579ca23c2d",
            "a7532796c6eb49ee9d3e482c7c25582e",
            "2262a9318e3a47a59a2361d1233ad123",
            "68ccbe2d13b54d038cda1d93656e5854",
            "0cd002fe5dd843a4ba26c1b5bdb61c81",
            "7cedd280dc494c0f909fcbb2bc3fb518",
            "a48b329349754d698d317ffe86ad2623",
            "97af913afdff4bffbaf70511c23a8dbb",
            "12b7150fd50441d0b25eeb79278dd6f0",
            "0a1c18aecec3415ca7facf3808e8fc44",
            "a241380b9e014ad2ab6ef383f91550c5",
            "9219f347e49645729680b17c37af6751",
            "23266f5ba3ee4d1d8709062e6a0b21cb",
            "444c6179398749239a50a6f742243a4b",
            "24eee6d60d7a41859e291fc3b490a844",
            "75617938121645c4950f28f0b6f30ec5"
          ]
        },
        "id": "chmPofNUbUgr",
        "outputId": "7c8705b7-5085-4821-91ce-d9ec5766b2b2"
      },
      "execution_count": 41,
      "outputs": [
        {
          "output_type": "display_data",
          "data": {
            "application/vnd.jupyter.widget-view+json": {
              "model_id": "677e687fa6154214ad859ea0c8a803a1",
              "version_minor": 0,
              "version_major": 2
            },
            "text/plain": [
              "  0%|          | 0/1 [00:00<?, ?ba/s]"
            ]
          },
          "metadata": {}
        },
        {
          "output_type": "display_data",
          "data": {
            "application/vnd.jupyter.widget-view+json": {
              "model_id": "7cedd280dc494c0f909fcbb2bc3fb518",
              "version_minor": 0,
              "version_major": 2
            },
            "text/plain": [
              "  0%|          | 0/1 [00:00<?, ?ba/s]"
            ]
          },
          "metadata": {}
        }
      ]
    },
    {
      "cell_type": "markdown",
      "source": [
        "# Fine-tune the model"
      ],
      "metadata": {
        "id": "J3gOAtoDbh50"
      }
    },
    {
      "cell_type": "code",
      "source": [
        "from transformers import AutoModelForQuestionAnswering, TrainingArguments, Trainer\n",
        "\n",
        "model = AutoModelForQuestionAnswering.from_pretrained(model_checkpoint)"
      ],
      "metadata": {
        "colab": {
          "base_uri": "https://localhost:8080/",
          "height": 156,
          "referenced_widgets": [
            "242ba42cef21459a815a6deddd936765",
            "5f132b0469ce4abb925c45a8f4098ac5",
            "d5c78ff209874dc5bc4e290665ca8124",
            "26a65c1853784830ba98f717d64afc2d",
            "057c607e8beb441baec7ea3d21652ad9",
            "8546dcdc11de4fca82236b7699eb5e29",
            "2995648ccdbf4effa7c0fbe88a01114d",
            "99c969be31ef43ccbf92def0b2ab26ac",
            "7f1f38c849084ec481e910b24c2eab01",
            "840ec60372f6474fb495aa7222fe107a",
            "1132afbe541a42e1b1d4891246281910"
          ]
        },
        "id": "u1K_E8ptbZLb",
        "outputId": "f6d81a9f-13a8-4410-b70f-76812792b6e5"
      },
      "execution_count": 42,
      "outputs": [
        {
          "output_type": "display_data",
          "data": {
            "application/vnd.jupyter.widget-view+json": {
              "model_id": "242ba42cef21459a815a6deddd936765",
              "version_minor": 0,
              "version_major": 2
            },
            "text/plain": [
              "Downloading:   0%|          | 0.00/445M [00:00<?, ?B/s]"
            ]
          },
          "metadata": {}
        },
        {
          "output_type": "stream",
          "name": "stderr",
          "text": [
            "Some weights of the model checkpoint at xlnet-base-cased were not used when initializing XLNetForQuestionAnsweringSimple: ['lm_loss.bias', 'lm_loss.weight']\n",
            "- This IS expected if you are initializing XLNetForQuestionAnsweringSimple from the checkpoint of a model trained on another task or with another architecture (e.g. initializing a BertForSequenceClassification model from a BertForPreTraining model).\n",
            "- This IS NOT expected if you are initializing XLNetForQuestionAnsweringSimple from the checkpoint of a model that you expect to be exactly identical (initializing a BertForSequenceClassification model from a BertForSequenceClassification model).\n",
            "Some weights of XLNetForQuestionAnsweringSimple were not initialized from the model checkpoint at xlnet-base-cased and are newly initialized: ['qa_outputs.bias', 'qa_outputs.weight']\n",
            "You should probably TRAIN this model on a down-stream task to be able to use it for predictions and inference.\n"
          ]
        }
      ]
    },
    {
      "cell_type": "code",
      "source": [
        "model_name = model_checkpoint.split(\"/\")[-1]\n",
        "args = TrainingArguments(\n",
        "    f\"{model_name}-iuChatbot-ontologyDts\",\n",
        "    evaluation_strategy = \"epoch\",\n",
        "    learning_rate=2e-5,\n",
        "    per_device_train_batch_size=batch_size,\n",
        "    per_device_eval_batch_size=batch_size,\n",
        "    num_train_epochs=3,\n",
        "    weight_decay=0.01,\n",
        "    push_to_hub=True,\n",
        "    push_to_hub_model_id=f\"{model_name}-IUChatbot-ontologyDts\",\n",
        ")"
      ],
      "metadata": {
        "colab": {
          "base_uri": "https://localhost:8080/"
        },
        "id": "D76rAHHWbl2w",
        "outputId": "072b6015-d7d7-4ddb-9936-e711a6e14acc"
      },
      "execution_count": 43,
      "outputs": [
        {
          "output_type": "stream",
          "name": "stderr",
          "text": [
            "/usr/local/lib/python3.7/dist-packages/transformers/training_args.py:926: FutureWarning: `--push_to_hub_model_id` is deprecated and will be removed in version 5 of 🤗 Transformers. Use `--hub_model_id` instead and pass the full repo name to this argument (in this case nntadotzip/xlnet-base-cased-IUChatbot-ontologyDts).\n",
            "  FutureWarning,\n"
          ]
        }
      ]
    },
    {
      "cell_type": "code",
      "source": [
        "from transformers import default_data_collator\n",
        "\n",
        "data_collator = default_data_collator"
      ],
      "metadata": {
        "id": "dsR3qBMxbrw1"
      },
      "execution_count": 44,
      "outputs": []
    },
    {
      "cell_type": "code",
      "source": [
        "# !curl -s https://packagecloud.io/install/repositories/github/git-lfs/script.deb.sh | sudo bash"
      ],
      "metadata": {
        "id": "miWPrxf_bzVY"
      },
      "execution_count": 45,
      "outputs": []
    },
    {
      "cell_type": "code",
      "source": [
        "# !sudo apt-get install git-lfs"
      ],
      "metadata": {
        "id": "37qG2SvKchgy"
      },
      "execution_count": 46,
      "outputs": []
    },
    {
      "cell_type": "code",
      "source": [
        "trainer = Trainer(\n",
        "    model,\n",
        "    args,\n",
        "    train_dataset=tokenized_datasets[\"train\"],\n",
        "    eval_dataset=tokenized_datasets[\"test\"],\n",
        "    data_collator=data_collator,\n",
        "    tokenizer=tokenizer,\n",
        ")"
      ],
      "metadata": {
        "colab": {
          "base_uri": "https://localhost:8080/"
        },
        "id": "-MbgN6-0bsT1",
        "outputId": "3e91dd12-4f6c-429d-95d8-522fcc9660fb"
      },
      "execution_count": 47,
      "outputs": [
        {
          "output_type": "stream",
          "name": "stderr",
          "text": [
            "Cloning https://huggingface.co/nntadotzip/xlnet-base-cased-IUChatbot-ontologyDts into local empty directory.\n"
          ]
        }
      ]
    },
    {
      "cell_type": "code",
      "source": [
        "trainer.train()"
      ],
      "metadata": {
        "colab": {
          "base_uri": "https://localhost:8080/",
          "height": 693
        },
        "id": "85xwCTIubuol",
        "outputId": "ae08bd77-3188-40f0-9c6e-121e969e368e"
      },
      "execution_count": 48,
      "outputs": [
        {
          "output_type": "stream",
          "name": "stderr",
          "text": [
            "***** Running training *****\n",
            "  Num examples = 2542\n",
            "  Num Epochs = 3\n",
            "  Instantaneous batch size per device = 8\n",
            "  Total train batch size (w. parallel, distributed & accumulation) = 8\n",
            "  Gradient Accumulation steps = 1\n",
            "  Total optimization steps = 954\n"
          ]
        },
        {
          "output_type": "display_data",
          "data": {
            "text/html": [
              "\n",
              "    <div>\n",
              "      \n",
              "      <progress value='954' max='954' style='width:300px; height:20px; vertical-align: middle;'></progress>\n",
              "      [954/954 29:40, Epoch 3/3]\n",
              "    </div>\n",
              "    <table border=\"1\" class=\"dataframe\">\n",
              "  <thead>\n",
              "    <tr style=\"text-align: left;\">\n",
              "      <th>Epoch</th>\n",
              "      <th>Training Loss</th>\n",
              "      <th>Validation Loss</th>\n",
              "    </tr>\n",
              "  </thead>\n",
              "  <tbody>\n",
              "    <tr>\n",
              "      <td>1</td>\n",
              "      <td>No log</td>\n",
              "      <td>0.500534</td>\n",
              "    </tr>\n",
              "    <tr>\n",
              "      <td>2</td>\n",
              "      <td>0.822200</td>\n",
              "      <td>0.448776</td>\n",
              "    </tr>\n",
              "    <tr>\n",
              "      <td>3</td>\n",
              "      <td>0.822200</td>\n",
              "      <td>0.496503</td>\n",
              "    </tr>\n",
              "  </tbody>\n",
              "</table><p>"
            ],
            "text/plain": [
              "<IPython.core.display.HTML object>"
            ]
          },
          "metadata": {}
        },
        {
          "output_type": "stream",
          "name": "stderr",
          "text": [
            "***** Running Evaluation *****\n",
            "  Num examples = 288\n",
            "  Batch size = 8\n",
            "Saving model checkpoint to xlnet-base-cased-iuChatbot-ontologyDts/checkpoint-500\n",
            "Configuration saved in xlnet-base-cased-iuChatbot-ontologyDts/checkpoint-500/config.json\n",
            "Model weights saved in xlnet-base-cased-iuChatbot-ontologyDts/checkpoint-500/pytorch_model.bin\n",
            "tokenizer config file saved in xlnet-base-cased-iuChatbot-ontologyDts/checkpoint-500/tokenizer_config.json\n",
            "Special tokens file saved in xlnet-base-cased-iuChatbot-ontologyDts/checkpoint-500/special_tokens_map.json\n",
            "tokenizer config file saved in xlnet-base-cased-iuChatbot-ontologyDts/tokenizer_config.json\n",
            "Special tokens file saved in xlnet-base-cased-iuChatbot-ontologyDts/special_tokens_map.json\n",
            "***** Running Evaluation *****\n",
            "  Num examples = 288\n",
            "  Batch size = 8\n",
            "***** Running Evaluation *****\n",
            "  Num examples = 288\n",
            "  Batch size = 8\n",
            "\n",
            "\n",
            "Training completed. Do not forget to share your model on huggingface.co/models =)\n",
            "\n",
            "\n"
          ]
        },
        {
          "output_type": "execute_result",
          "data": {
            "text/plain": [
              "TrainOutput(global_step=954, training_loss=0.647857985906381, metrics={'train_runtime': 1782.3704, 'train_samples_per_second': 4.279, 'train_steps_per_second': 0.535, 'total_flos': 2158661170556928.0, 'train_loss': 0.647857985906381, 'epoch': 3.0})"
            ]
          },
          "metadata": {},
          "execution_count": 48
        }
      ]
    },
    {
      "cell_type": "code",
      "source": [
        "trainer.save_model(\"test-squad-trained\")"
      ],
      "metadata": {
        "colab": {
          "base_uri": "https://localhost:8080/"
        },
        "id": "um1v8P5gjI2O",
        "outputId": "996b55b7-be3e-49c7-e92a-7699cff05881"
      },
      "execution_count": 49,
      "outputs": [
        {
          "output_type": "stream",
          "name": "stderr",
          "text": [
            "Saving model checkpoint to test-squad-trained\n",
            "Configuration saved in test-squad-trained/config.json\n",
            "Model weights saved in test-squad-trained/pytorch_model.bin\n",
            "tokenizer config file saved in test-squad-trained/tokenizer_config.json\n",
            "Special tokens file saved in test-squad-trained/special_tokens_map.json\n"
          ]
        }
      ]
    },
    {
      "cell_type": "markdown",
      "source": [
        "# Evaluation"
      ],
      "metadata": {
        "id": "0rHylkKUMvgc"
      }
    },
    {
      "cell_type": "code",
      "source": [
        "import torch\n",
        "\n",
        "for batch in trainer.get_eval_dataloader():\n",
        "    break\n",
        "batch = {k: v.to(trainer.args.device) for k, v in batch.items()}\n",
        "with torch.no_grad():\n",
        "    output = trainer.model(**batch)\n",
        "output.keys()"
      ],
      "metadata": {
        "colab": {
          "base_uri": "https://localhost:8080/"
        },
        "id": "EpPDJkGskzRC",
        "outputId": "42256551-a779-4992-9551-7b63f866b811"
      },
      "execution_count": 50,
      "outputs": [
        {
          "output_type": "execute_result",
          "data": {
            "text/plain": [
              "odict_keys(['loss', 'start_logits', 'end_logits', 'mems'])"
            ]
          },
          "metadata": {},
          "execution_count": 50
        }
      ]
    },
    {
      "cell_type": "code",
      "source": [
        "output.start_logits.shape, output.end_logits.shape"
      ],
      "metadata": {
        "colab": {
          "base_uri": "https://localhost:8080/"
        },
        "id": "P-BC0FACNTGg",
        "outputId": "b45efbd4-bea8-41d0-aa42-07fbc3d65d95"
      },
      "execution_count": 51,
      "outputs": [
        {
          "output_type": "execute_result",
          "data": {
            "text/plain": [
              "(torch.Size([8, 512]), torch.Size([8, 512]))"
            ]
          },
          "metadata": {},
          "execution_count": 51
        }
      ]
    },
    {
      "cell_type": "code",
      "source": [
        "output.start_logits.argmax(dim=-1), output.end_logits.argmax(dim=-1)"
      ],
      "metadata": {
        "colab": {
          "base_uri": "https://localhost:8080/"
        },
        "id": "BG-88zMuNVfX",
        "outputId": "6d982089-66b7-4f1b-b307-2570657ddd08"
      },
      "execution_count": 52,
      "outputs": [
        {
          "output_type": "execute_result",
          "data": {
            "text/plain": [
              "(tensor([511, 511, 511, 511, 511, 511, 511, 511], device='cuda:0'),\n",
              " tensor([511, 511, 511, 511, 511, 511, 511, 511], device='cuda:0'))"
            ]
          },
          "metadata": {},
          "execution_count": 52
        }
      ]
    },
    {
      "cell_type": "code",
      "source": [
        "n_best_size = 20"
      ],
      "metadata": {
        "id": "1GABMlbwNYt3"
      },
      "execution_count": 53,
      "outputs": []
    },
    {
      "cell_type": "code",
      "source": [
        "import numpy as np\n",
        "\n",
        "start_logits = output.start_logits[0].cpu().numpy()\n",
        "end_logits = output.end_logits[0].cpu().numpy()\n",
        "# Gather the indices the best start/end logits:\n",
        "start_indexes = np.argsort(start_logits)[-1 : -n_best_size - 1 : -1].tolist()\n",
        "end_indexes = np.argsort(end_logits)[-1 : -n_best_size - 1 : -1].tolist()\n",
        "valid_answers = []\n",
        "for start_index in start_indexes:\n",
        "    for end_index in end_indexes:\n",
        "        if start_index <= end_index: # We need to refine that test to check the answer is inside the context\n",
        "            valid_answers.append(\n",
        "                {\n",
        "                    \"score\": start_logits[start_index] + end_logits[end_index],\n",
        "                    \"text\": \"\" # We need to find a way to get back the original substring corresponding to the answer in the context\n",
        "                }\n",
        "            )"
      ],
      "metadata": {
        "id": "_Sb350ZyNc8x"
      },
      "execution_count": 54,
      "outputs": []
    },
    {
      "cell_type": "code",
      "source": [
        "def prepare_validation_features(examples):\n",
        "    # Some of the questions have lots of whitespace on the left, which is not useful and will make the\n",
        "    # truncation of the context fail (the tokenized question will take a lots of space). So we remove that\n",
        "    # left whitespace\n",
        "    examples[\"question\"] = [q.lstrip() for q in examples[\"question\"]]\n",
        "\n",
        "    # Tokenize our examples with truncation and maybe padding, but keep the overflows using a stride. This results\n",
        "    # in one example possible giving several features when a context is long, each of those features having a\n",
        "    # context that overlaps a bit the context of the previous feature.\n",
        "    tokenized_examples = tokenizer(\n",
        "        examples[\"question\" if pad_on_right else \"context\"],\n",
        "        examples[\"context\" if pad_on_right else \"question\"],\n",
        "        truncation=\"only_second\" if pad_on_right else \"only_first\",\n",
        "        max_length=max_length,\n",
        "        stride=doc_stride,\n",
        "        return_overflowing_tokens=True,\n",
        "        return_offsets_mapping=True,\n",
        "        padding=\"max_length\",\n",
        "    )\n",
        "\n",
        "    # Since one example might give us several features if it has a long context, we need a map from a feature to\n",
        "    # its corresponding example. This key gives us just that.\n",
        "    sample_mapping = tokenized_examples.pop(\"overflow_to_sample_mapping\")\n",
        "\n",
        "    # We keep the example_id that gave us this feature and we will store the offset mappings.\n",
        "    tokenized_examples[\"example_id\"] = []\n",
        "\n",
        "    for i in range(len(tokenized_examples[\"input_ids\"])):\n",
        "        # Grab the sequence corresponding to that example (to know what is the context and what is the question).\n",
        "        sequence_ids = tokenized_examples.sequence_ids(i)\n",
        "        context_index = 1 if pad_on_right else 0\n",
        "\n",
        "        # One example can give several spans, this is the index of the example containing this span of text.\n",
        "        sample_index = sample_mapping[i]\n",
        "        tokenized_examples[\"example_id\"].append(examples[\"id\"][sample_index])\n",
        "\n",
        "        # Set to None the offset_mapping that are not part of the context so it's easy to determine if a token\n",
        "        # position is part of the context or not.\n",
        "        tokenized_examples[\"offset_mapping\"][i] = [\n",
        "            (o if sequence_ids[k] == context_index else None)\n",
        "            for k, o in enumerate(tokenized_examples[\"offset_mapping\"][i])\n",
        "        ]\n",
        "\n",
        "    return tokenized_examples"
      ],
      "metadata": {
        "id": "T0DAKkB6NfNa"
      },
      "execution_count": 55,
      "outputs": []
    },
    {
      "cell_type": "code",
      "source": [
        "validation_features = dataset[\"test\"].map(\n",
        "    prepare_validation_features,\n",
        "    batched=True,\n",
        "    remove_columns=dataset[\"test\"].column_names\n",
        ")"
      ],
      "metadata": {
        "colab": {
          "base_uri": "https://localhost:8080/",
          "height": 49,
          "referenced_widgets": [
            "9744198078694f84ad39852fe93a7c5d",
            "fa8ef9075fb545eb8b9231b3ec7a5d71",
            "adfe2496efd24a3494c07fa3ceebd48f",
            "fa85d859fe0441698175ea89fe6ffd92",
            "b7e07f81978148488dc890e58d8498f8",
            "ec2ba907db504f188330b6c59dd52248",
            "45c22054b6fc4994ae58b2656e77e359",
            "281a8af3f9c74de38f7124ad34e368e9",
            "8227e263c1ef4da6a2702d2cd6047fef",
            "e1b5ec96aaa546e5ae910beced4f4b9f",
            "33fd6bc74b3142829f8f477d8825b039"
          ]
        },
        "id": "I6Mx4dQvNkFJ",
        "outputId": "6cffd77c-e20c-4291-e40d-2cef19598fa0"
      },
      "execution_count": 56,
      "outputs": [
        {
          "output_type": "display_data",
          "data": {
            "application/vnd.jupyter.widget-view+json": {
              "model_id": "9744198078694f84ad39852fe93a7c5d",
              "version_minor": 0,
              "version_major": 2
            },
            "text/plain": [
              "  0%|          | 0/1 [00:00<?, ?ba/s]"
            ]
          },
          "metadata": {}
        }
      ]
    },
    {
      "cell_type": "code",
      "source": [
        "raw_predictions = trainer.predict(validation_features)"
      ],
      "metadata": {
        "colab": {
          "base_uri": "https://localhost:8080/",
          "height": 126
        },
        "id": "BdupZhwsNmK2",
        "outputId": "5d25c48b-a1bd-4460-b88c-10dfe952b40f"
      },
      "execution_count": 57,
      "outputs": [
        {
          "output_type": "stream",
          "name": "stderr",
          "text": [
            "The following columns in the test set  don't have a corresponding argument in `XLNetForQuestionAnsweringSimple.forward` and have been ignored: offset_mapping, example_id.\n",
            "***** Running Prediction *****\n",
            "  Num examples = 288\n",
            "  Batch size = 8\n"
          ]
        },
        {
          "output_type": "display_data",
          "data": {
            "text/html": [
              "\n",
              "    <div>\n",
              "      \n",
              "      <progress value='36' max='36' style='width:300px; height:20px; vertical-align: middle;'></progress>\n",
              "      [36/36 00:31]\n",
              "    </div>\n",
              "    "
            ],
            "text/plain": [
              "<IPython.core.display.HTML object>"
            ]
          },
          "metadata": {}
        }
      ]
    },
    {
      "cell_type": "code",
      "source": [
        "validation_features.set_format(type=validation_features.format[\"type\"], columns=list(validation_features.features.keys()))"
      ],
      "metadata": {
        "id": "OY3sFCOlNv2a"
      },
      "execution_count": 58,
      "outputs": []
    },
    {
      "cell_type": "code",
      "source": [
        "max_answer_length = 30"
      ],
      "metadata": {
        "id": "2e_T_0wIN4AI"
      },
      "execution_count": 59,
      "outputs": []
    },
    {
      "cell_type": "code",
      "source": [
        "start_logits = output.start_logits[0].cpu().numpy()\n",
        "end_logits = output.end_logits[0].cpu().numpy()\n",
        "offset_mapping = validation_features[0][\"offset_mapping\"]\n",
        "# The first feature comes from the first example. For the more general case, we will need to be match the example_id to\n",
        "# an example index\n",
        "context = dataset[\"test\"][0][\"context\"]\n",
        "\n",
        "# Gather the indices the best start/end logits:\n",
        "start_indexes = np.argsort(start_logits)[-1 : -n_best_size - 1 : -1].tolist()\n",
        "end_indexes = np.argsort(end_logits)[-1 : -n_best_size - 1 : -1].tolist()\n",
        "valid_answers = []\n",
        "for start_index in start_indexes:\n",
        "    for end_index in end_indexes:\n",
        "        # Don't consider out-of-scope answers, either because the indices are out of bounds or correspond\n",
        "        # to part of the input_ids that are not in the context.\n",
        "        if (\n",
        "            start_index >= len(offset_mapping)\n",
        "            or end_index >= len(offset_mapping)\n",
        "            or offset_mapping[start_index] is None\n",
        "            or offset_mapping[end_index] is None\n",
        "        ):\n",
        "            continue\n",
        "        # Don't consider answers with a length that is either < 0 or > max_answer_length.\n",
        "        if end_index < start_index or end_index - start_index + 1 > max_answer_length:\n",
        "            continue\n",
        "        if start_index <= end_index: # We need to refine that test to check the answer is inside the context\n",
        "            start_char = offset_mapping[start_index][0]\n",
        "            end_char = offset_mapping[end_index][1]\n",
        "            valid_answers.append(\n",
        "                {\n",
        "                    \"score\": start_logits[start_index] + end_logits[end_index],\n",
        "                    \"text\": context[start_char: end_char]\n",
        "                }\n",
        "            )\n",
        "\n",
        "valid_answers = sorted(valid_answers, key=lambda x: x[\"score\"], reverse=True)[:n_best_size]\n",
        "valid_answers"
      ],
      "metadata": {
        "colab": {
          "base_uri": "https://localhost:8080/"
        },
        "id": "vG2tcXiLN6uk",
        "outputId": "fb11d49d-700f-4f63-f96c-4acb64ed0f6a"
      },
      "execution_count": 60,
      "outputs": [
        {
          "output_type": "execute_result",
          "data": {
            "text/plain": [
              "[{'score': -11.221291, 'text': 'Ngà'},\n",
              " {'score': -12.364794, 'text': 'Ngà'},\n",
              " {'score': -13.6168, 'text': '.'},\n",
              " {'score': -15.302478,\n",
              "  'text': 'Ngành Công nghệ Thực phẩm (Mã ngành: 7540101) Chương trình'},\n",
              " {'score': -15.348743,\n",
              "  'text': 'Ngành Công nghệ Thực phẩm (Mã ngành: 7540101) Chương trình:'},\n",
              " {'score': -15.429333, 'text': '. Ngà'},\n",
              " {'score': -17.612097,\n",
              "  'text': 'Ngành Công nghệ Thực phẩm (Mã ngành: 7540101) Chương trì'},\n",
              " {'score': -18.179108, 'text': 'Ngành'},\n",
              " {'score': -18.714462,\n",
              "  'text': 'Ngành Kỹ thuật Hệ thống Công nghiệp (Mã ngành: 7520118'},\n",
              " {'score': -21.51667, 'text': ':'},\n",
              " {'score': -21.779001,\n",
              "  'text': '. Ngành Kỹ thuật Hệ thống Công nghiệp (Mã ngành: 7520118'},\n",
              " {'score': -22.005032, 'text': 'Chương trình:'},\n",
              " {'score': -22.695087, 'text': 'Mã ngành: 7520118) Chương trình:'},\n",
              " {'score': -22.937275, 'text': '(Mã ngành: 7520118) Chương trình:'},\n",
              " {'score': -23.06007, 'text': '(Mã ngành: 7520118) Chương trình:'},\n",
              " {'score': -23.666315, 'text': 'Chương trình'},\n",
              " {'score': -23.712582, 'text': 'Chương trình:'},\n",
              " {'score': -24.374336, 'text': ':'},\n",
              " {'score': -24.5857,\n",
              "  'text': 'nh Công nghệ Thực phẩm (Mã ngành: 7540101) Chương trình'},\n",
              " {'score': -24.631966,\n",
              "  'text': 'nh Công nghệ Thực phẩm (Mã ngành: 7540101) Chương trình:'}]"
            ]
          },
          "metadata": {},
          "execution_count": 60
        }
      ]
    },
    {
      "cell_type": "code",
      "source": [
        "dataset[\"test\"][0][\"answers\"]"
      ],
      "metadata": {
        "colab": {
          "base_uri": "https://localhost:8080/"
        },
        "id": "SpI94N51N8v0",
        "outputId": "ee24a722-12a3-4dd8-bfdb-bb1275e50459"
      },
      "execution_count": 61,
      "outputs": [
        {
          "output_type": "execute_result",
          "data": {
            "text/plain": [
              "{'answer_start': [0],\n",
              " 'text': ['Ngành Công nghệ Thực phẩm (Mã ngành: 7540101) Chương trình: Trong nước Chương trình đào tạo ngành CNTP tại Trường Đai học Quốc tế được thiết kế nhằm đào tạo các kỹ sư CNTP, có những nét chính như sau:, Cung cấp kiến thức rộng, cân bằng về các khoa học thực phẩm và kỹ thuật thực phẩm Cung cấp kiến thức cơ bản về quản lý thực phẩm (bao gồm cả quản lý sản xuất, chất lượng, vệ sinh an toàn thực phẩm và vệ sinh môi trường) Chú trọng đến kỹ năng thực hành và khả năng tiếp cận với thiết bị công nghệ cao Giảng dạy hoàn toàn bằng tiếng Anh (kỹ sư sau khi tốt nghiệp sẽ đạt trình độ tiếng Anh TOEF pBT 550 hoặc tương đương (IELTS 6.0, TOEFL iBT 60)).']}"
            ]
          },
          "metadata": {},
          "execution_count": 61
        }
      ]
    },
    {
      "cell_type": "code",
      "source": [
        "import collections\n",
        "\n",
        "examples = dataset[\"test\"]\n",
        "features = validation_features\n",
        "\n",
        "example_id_to_index = {k: i for i, k in enumerate(examples[\"id\"])}\n",
        "features_per_example = collections.defaultdict(list)\n",
        "for i, feature in enumerate(features):\n",
        "    features_per_example[example_id_to_index[feature[\"example_id\"]]].append(i)"
      ],
      "metadata": {
        "id": "JhcYOvd3OGdb"
      },
      "execution_count": 62,
      "outputs": []
    },
    {
      "cell_type": "code",
      "source": [
        "from tqdm.auto import tqdm\n",
        "\n",
        "def postprocess_qa_predictions(examples, features, raw_predictions, n_best_size = 20, max_answer_length = 30):\n",
        "    all_start_logits, all_end_logits = raw_predictions\n",
        "    # Build a map example to its corresponding features.\n",
        "    example_id_to_index = {k: i for i, k in enumerate(examples[\"id\"])}\n",
        "    features_per_example = collections.defaultdict(list)\n",
        "    for i, feature in enumerate(features):\n",
        "        features_per_example[example_id_to_index[feature[\"example_id\"]]].append(i)\n",
        "\n",
        "    # The dictionaries we have to fill.\n",
        "    predictions = collections.OrderedDict()\n",
        "\n",
        "    # Logging.\n",
        "    print(f\"Post-processing {len(examples)} example predictions split into {len(features)} features.\")\n",
        "\n",
        "    # Let's loop over all the examples!\n",
        "    for example_index, example in enumerate(tqdm(examples)):\n",
        "        # Those are the indices of the features associated to the current example.\n",
        "        feature_indices = features_per_example[example_index]\n",
        "\n",
        "        min_null_score = None # Only used if squad_v2 is True.\n",
        "        valid_answers = []\n",
        "        \n",
        "        context = example[\"context\"]\n",
        "        # Looping through all the features associated to the current example.\n",
        "        for feature_index in feature_indices:\n",
        "            # We grab the predictions of the model for this feature.\n",
        "            start_logits = all_start_logits[feature_index]\n",
        "            end_logits = all_end_logits[feature_index]\n",
        "            # This is what will allow us to map some the positions in our logits to span of texts in the original\n",
        "            # context.\n",
        "            offset_mapping = features[feature_index][\"offset_mapping\"]\n",
        "\n",
        "            # Update minimum null prediction.\n",
        "            cls_index = features[feature_index][\"input_ids\"].index(tokenizer.cls_token_id)\n",
        "            feature_null_score = start_logits[cls_index] + end_logits[cls_index]\n",
        "            if min_null_score is None or min_null_score < feature_null_score:\n",
        "                min_null_score = feature_null_score\n",
        "\n",
        "            # Go through all possibilities for the `n_best_size` greater start and end logits.\n",
        "            start_indexes = np.argsort(start_logits)[-1 : -n_best_size - 1 : -1].tolist()\n",
        "            end_indexes = np.argsort(end_logits)[-1 : -n_best_size - 1 : -1].tolist()\n",
        "            for start_index in start_indexes:\n",
        "                for end_index in end_indexes:\n",
        "                    # Don't consider out-of-scope answers, either because the indices are out of bounds or correspond\n",
        "                    # to part of the input_ids that are not in the context.\n",
        "                    if (\n",
        "                        start_index >= len(offset_mapping)\n",
        "                        or end_index >= len(offset_mapping)\n",
        "                        or offset_mapping[start_index] is None\n",
        "                        or offset_mapping[end_index] is None\n",
        "                    ):\n",
        "                        continue\n",
        "                    # Don't consider answers with a length that is either < 0 or > max_answer_length.\n",
        "                    if end_index < start_index or end_index - start_index + 1 > max_answer_length:\n",
        "                        continue\n",
        "\n",
        "                    start_char = offset_mapping[start_index][0]\n",
        "                    end_char = offset_mapping[end_index][1]\n",
        "                    valid_answers.append(\n",
        "                        {\n",
        "                            \"score\": start_logits[start_index] + end_logits[end_index],\n",
        "                            \"text\": context[start_char: end_char]\n",
        "                        }\n",
        "                    )\n",
        "        \n",
        "        if len(valid_answers) > 0:\n",
        "            best_answer = sorted(valid_answers, key=lambda x: x[\"score\"], reverse=True)[0]\n",
        "        else:\n",
        "            # In the very rare edge case we have not a single non-null prediction, we create a fake prediction to avoid\n",
        "            # failure.\n",
        "            best_answer = {\"text\": \"\", \"score\": 0.0}\n",
        "        \n",
        "        # Let's pick our final answer: the best one or the null answer (only for squad_v2)\n",
        "        # if not squad_v2:\n",
        "            # predictions[example[\"id\"]] = best_answer[\"text\"]\n",
        "        # else:\n",
        "        answer = best_answer[\"text\"] if best_answer[\"score\"] > min_null_score else \"\"\n",
        "        predictions[example[\"id\"]] = answer\n",
        "\n",
        "    return predictions"
      ],
      "metadata": {
        "id": "VWjqqDaEOO44"
      },
      "execution_count": 63,
      "outputs": []
    },
    {
      "cell_type": "code",
      "source": [
        "final_predictions = postprocess_qa_predictions(dataset[\"test\"], validation_features, raw_predictions.predictions)"
      ],
      "metadata": {
        "colab": {
          "base_uri": "https://localhost:8080/",
          "height": 66,
          "referenced_widgets": [
            "02c4d1b5b7264de7abf57a517f905f21",
            "96dbcca35d2647fb81acdbfe63323d3f",
            "c01d588b499e497ba467e66e91375540",
            "91406defc2f74cc484a80bdf39b73db0",
            "e5724b6ce0f84229988dd5ee4b37fbfc",
            "a9e0ffb29cb84f18b200f51d0c154e18",
            "5d7811c18cd74398acf543aa05a6af5b",
            "d43b33a86abd429eb0baf9d23b77f708",
            "1279fbfd674c4978a936b6d67329d29f",
            "93e592e6171d4ce193a59f376a0b4918",
            "4e1cfb748f7c44e993d3fa11c8f0cff2"
          ]
        },
        "id": "N9MGa718OU2i",
        "outputId": "12fc1c74-2f80-4be2-f9d8-376331024472"
      },
      "execution_count": 64,
      "outputs": [
        {
          "output_type": "stream",
          "name": "stdout",
          "text": [
            "Post-processing 19 example predictions split into 288 features.\n"
          ]
        },
        {
          "output_type": "display_data",
          "data": {
            "application/vnd.jupyter.widget-view+json": {
              "model_id": "02c4d1b5b7264de7abf57a517f905f21",
              "version_minor": 0,
              "version_major": 2
            },
            "text/plain": [
              "  0%|          | 0/19 [00:00<?, ?it/s]"
            ]
          },
          "metadata": {}
        }
      ]
    },
    {
      "cell_type": "code",
      "source": [
        "from datasets import load_metric\n",
        "metric = load_metric(\"squad_v2\")"
      ],
      "metadata": {
        "id": "PQfOVo-dO1Kj",
        "colab": {
          "base_uri": "https://localhost:8080/",
          "height": 81,
          "referenced_widgets": [
            "9f1d6f5ebc6844d59e112b2b873982e7",
            "e4ff6be44e834548946d1b758f43d315",
            "14dbb0230b2146cf905bbd113ec9722d",
            "2591ef2c259c45e3abc409f3b7eb1886",
            "ab5bbe58503347198a43c40fbb991405",
            "7c93257b80574e569153a59794727452",
            "77e2c8a6ecda47e2a2f9bf46f0e3c40c",
            "cd5a1dbd5f2f4967a947de8a636fbf4e",
            "f407c6dd004b46edb98586ee81aeb590",
            "ff5b2048ef884bf7bd3de8d978dd5f72",
            "d2d3ac71a59a4694bdaf004a3f9611e7",
            "397b7e1ac519427d81625947bb83b280",
            "a8fd75290b7e4be29287321718e7cd64",
            "8638929988b34c2bb073cc9d872d8136",
            "0a4ff1846a2e4e6ca26c98a320e1bece",
            "c1a7d319408b4ab495b317e865fd8af0",
            "23598314d75049c8b4e9d04cabd9179e",
            "9b66ecdcf6164cd18c14f332ec1877ba",
            "dae4573fc70b412ab5a3eebf872df6dd",
            "7e7d18d6984e4e47bd9666019d532377",
            "60e0e68cc4ec4eb2b0844fbd58de7716",
            "baa933914cb641cdbbd0d46b2f98ca19"
          ]
        },
        "outputId": "3e7fbb21-001c-47a2-b660-64fada4eda04"
      },
      "execution_count": 65,
      "outputs": [
        {
          "output_type": "display_data",
          "data": {
            "application/vnd.jupyter.widget-view+json": {
              "model_id": "9f1d6f5ebc6844d59e112b2b873982e7",
              "version_minor": 0,
              "version_major": 2
            },
            "text/plain": [
              "Downloading:   0%|          | 0.00/2.26k [00:00<?, ?B/s]"
            ]
          },
          "metadata": {}
        },
        {
          "output_type": "display_data",
          "data": {
            "application/vnd.jupyter.widget-view+json": {
              "model_id": "397b7e1ac519427d81625947bb83b280",
              "version_minor": 0,
              "version_major": 2
            },
            "text/plain": [
              "Downloading:   0%|          | 0.00/3.18k [00:00<?, ?B/s]"
            ]
          },
          "metadata": {}
        }
      ]
    },
    {
      "cell_type": "code",
      "source": [
        "formatted_predictions = [{\"id\": k, \"prediction_text\": v, \"no_answer_probability\": 0.0} for k, v in final_predictions.items()]\n",
        "references = [{\"id\": ex[\"id\"], \"answers\": ex[\"answers\"]} for ex in dataset[\"test\"]]\n",
        "metric.compute(predictions=formatted_predictions, references=references)"
      ],
      "metadata": {
        "colab": {
          "base_uri": "https://localhost:8080/"
        },
        "id": "29tg35VuOXcV",
        "outputId": "81c5cbcb-c416-4de5-84c6-abaf2becb15a"
      },
      "execution_count": 66,
      "outputs": [
        {
          "output_type": "execute_result",
          "data": {
            "text/plain": [
              "{'HasAns_exact': 0.0,\n",
              " 'HasAns_f1': 3.8436755610432907,\n",
              " 'HasAns_total': 19,\n",
              " 'best_exact': 0.0,\n",
              " 'best_exact_thresh': 0.0,\n",
              " 'best_f1': 3.8436755610432907,\n",
              " 'best_f1_thresh': 0.0,\n",
              " 'exact': 0.0,\n",
              " 'f1': 3.8436755610432907,\n",
              " 'total': 19}"
            ]
          },
          "metadata": {},
          "execution_count": 66
        }
      ]
    },
    {
      "cell_type": "code",
      "source": [
        "trainer.push_to_hub()"
      ],
      "metadata": {
        "colab": {
          "base_uri": "https://localhost:8080/",
          "height": 405,
          "referenced_widgets": [
            "5fd4981110af475d9011b1b3803d7728",
            "8e9ce5168ee24dd1a9d69c17a0b7d339",
            "63f0847cdab8409895c07e278c41e4b1",
            "296f1cb9f7594577b37c2e56d69d8f7d",
            "8a729a1752eb4fe1bf9a9126d8307c85",
            "229242023bf94a4ca5d6c797f2318f28",
            "3032c343404f4ee987d99ce0f28f87f7",
            "2e0aba7b2b0f4168a71c6c86c1171ae6",
            "fe99b3744ee6487bbe202333aecfdbfb",
            "ff03a63061eb4a2eb2693e84688a0a0d",
            "e6d010d6772c482d87b0ebe7e69bca82",
            "fe368d17152c4a7483507c08fe99dd25",
            "2fade01dfb874090b1f05c604d37c9ad",
            "ec093ab5cc5e4b3fa27bb92a1692a1f1",
            "16cffe66a209411388154a61e3481662",
            "e051161467894ca6a0e9627ec956a246",
            "022f107948cb42be9884d2a25a8f2cd8",
            "83e3dfb1bc764912b9a9c155baf8a7bc",
            "9406134e2a79489ea89b5059c59466dc",
            "8923625b3aa844d3bf107dd908cbd056",
            "c3ab51365808480988fc6693f3195bf6",
            "ade0b9a5a7e2445b989034c1e5ec23cf"
          ]
        },
        "id": "aOjDZq8POu7s",
        "outputId": "e4e58155-45d0-43bc-f050-ee7c1b6a0c92"
      },
      "execution_count": 67,
      "outputs": [
        {
          "output_type": "stream",
          "name": "stderr",
          "text": [
            "Saving model checkpoint to xlnet-base-cased-iuChatbot-ontologyDts\n",
            "Configuration saved in xlnet-base-cased-iuChatbot-ontologyDts/config.json\n",
            "Model weights saved in xlnet-base-cased-iuChatbot-ontologyDts/pytorch_model.bin\n",
            "tokenizer config file saved in xlnet-base-cased-iuChatbot-ontologyDts/tokenizer_config.json\n",
            "Special tokens file saved in xlnet-base-cased-iuChatbot-ontologyDts/special_tokens_map.json\n",
            "Several commits (2) will be pushed upstream.\n",
            "The progress bars may be unreliable.\n"
          ]
        },
        {
          "output_type": "display_data",
          "data": {
            "application/vnd.jupyter.widget-view+json": {
              "model_id": "5fd4981110af475d9011b1b3803d7728",
              "version_minor": 0,
              "version_major": 2
            },
            "text/plain": [
              "Upload file pytorch_model.bin:   0%|          | 3.36k/445M [00:00<?, ?B/s]"
            ]
          },
          "metadata": {}
        },
        {
          "output_type": "display_data",
          "data": {
            "application/vnd.jupyter.widget-view+json": {
              "model_id": "fe368d17152c4a7483507c08fe99dd25",
              "version_minor": 0,
              "version_major": 2
            },
            "text/plain": [
              "Upload file runs/Jan20_16-33-07_976aff881058/events.out.tfevents.1642696418.976aff881058.552.0:  69%|######9  …"
            ]
          },
          "metadata": {}
        },
        {
          "output_type": "stream",
          "name": "stderr",
          "text": [
            "To https://huggingface.co/nntadotzip/xlnet-base-cased-IUChatbot-ontologyDts\n",
            "   37a4fab..a64a5bb  main -> main\n",
            "\n",
            "Dropping the following result as it does not have all the necessary fields:\n",
            "{'task': {'name': 'Question Answering', 'type': 'question-answering'}}\n",
            "To https://huggingface.co/nntadotzip/xlnet-base-cased-IUChatbot-ontologyDts\n",
            "   a64a5bb..cf02090  main -> main\n",
            "\n"
          ]
        },
        {
          "output_type": "execute_result",
          "data": {
            "application/vnd.google.colaboratory.intrinsic+json": {
              "type": "string"
            },
            "text/plain": [
              "'https://huggingface.co/nntadotzip/xlnet-base-cased-IUChatbot-ontologyDts/commit/a64a5bbc0e1e789afe6ee6a467f5eed7a382a27a'"
            ]
          },
          "metadata": {},
          "execution_count": 67
        }
      ]
    },
    {
      "cell_type": "code",
      "source": [
        ""
      ],
      "metadata": {
        "id": "sX1lw_fgRZ_m"
      },
      "execution_count": null,
      "outputs": []
    }
  ]
}