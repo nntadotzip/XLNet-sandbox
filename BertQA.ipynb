{
  "nbformat": 4,
  "nbformat_minor": 0,
  "metadata": {
    "colab": {
      "name": "BertQA.ipynb",
      "provenance": [],
      "authorship_tag": "ABX9TyPIl8Xwi5cGGIMOm4eXtv8z",
      "include_colab_link": true
    },
    "kernelspec": {
      "name": "python3",
      "display_name": "Python 3"
    },
    "language_info": {
      "name": "python"
    },
    "widgets": {
      "application/vnd.jupyter.widget-state+json": {
        "ebdd05f182e74ecfb5f8edd6ec5ac959": {
          "model_module": "@jupyter-widgets/controls",
          "model_name": "VBoxModel",
          "model_module_version": "1.5.0",
          "state": {
            "_view_name": "VBoxView",
            "_dom_classes": [],
            "_model_name": "VBoxModel",
            "_view_module": "@jupyter-widgets/controls",
            "_model_module_version": "1.5.0",
            "_view_count": null,
            "_view_module_version": "1.5.0",
            "box_style": "",
            "layout": "IPY_MODEL_2f4f733026bd4d2ca6251b57414f7302",
            "_model_module": "@jupyter-widgets/controls",
            "children": [
              "IPY_MODEL_40afedf422a443dca3ae9411262b27df",
              "IPY_MODEL_1886fe1f45454b2eac3ffd7c8c71fe62",
              "IPY_MODEL_efaba41194784760b7d5503e550c7489",
              "IPY_MODEL_a93a718ba4da4da2b0e488f36be747d9",
              "IPY_MODEL_cc0aa17b31a740c38af2485fc7b32664"
            ]
          }
        },
        "2f4f733026bd4d2ca6251b57414f7302": {
          "model_module": "@jupyter-widgets/base",
          "model_name": "LayoutModel",
          "model_module_version": "1.2.0",
          "state": {
            "_view_name": "LayoutView",
            "grid_template_rows": null,
            "right": null,
            "justify_content": null,
            "_view_module": "@jupyter-widgets/base",
            "overflow": null,
            "_model_module_version": "1.2.0",
            "_view_count": null,
            "flex_flow": "column",
            "width": "50%",
            "min_width": null,
            "border": null,
            "align_items": "center",
            "bottom": null,
            "_model_module": "@jupyter-widgets/base",
            "top": null,
            "grid_column": null,
            "overflow_y": null,
            "overflow_x": null,
            "grid_auto_flow": null,
            "grid_area": null,
            "grid_template_columns": null,
            "flex": null,
            "_model_name": "LayoutModel",
            "justify_items": null,
            "grid_row": null,
            "max_height": null,
            "align_content": null,
            "visibility": null,
            "align_self": null,
            "height": null,
            "min_height": null,
            "padding": null,
            "grid_auto_rows": null,
            "grid_gap": null,
            "max_width": null,
            "order": null,
            "_view_module_version": "1.2.0",
            "grid_template_areas": null,
            "object_position": null,
            "object_fit": null,
            "grid_auto_columns": null,
            "margin": null,
            "display": "flex",
            "left": null
          }
        },
        "40afedf422a443dca3ae9411262b27df": {
          "model_module": "@jupyter-widgets/controls",
          "model_name": "HTMLModel",
          "model_module_version": "1.5.0",
          "state": {
            "_view_name": "HTMLView",
            "style": "IPY_MODEL_8858abb99d9f4f65bac0b94eb7be6615",
            "_dom_classes": [],
            "description": "",
            "_model_name": "HTMLModel",
            "placeholder": "​",
            "_view_module": "@jupyter-widgets/controls",
            "_model_module_version": "1.5.0",
            "value": "<center>\n<img src=https://huggingface.co/front/assets/huggingface_logo-noborder.svg alt='Hugging Face'>\n<br>\nCopy a token from <a href=\"https://huggingface.co/settings/token\" target=\"_blank\">your Hugging Face tokens page</a> and paste it below.\n<br>\nImmediately click login after copying your token or it might be stored in plain text in this notebook file.\n</center>",
            "_view_count": null,
            "_view_module_version": "1.5.0",
            "description_tooltip": null,
            "_model_module": "@jupyter-widgets/controls",
            "layout": "IPY_MODEL_1d97d50ec73a4826bc66b38c658f80ef"
          }
        },
        "1886fe1f45454b2eac3ffd7c8c71fe62": {
          "model_module": "@jupyter-widgets/controls",
          "model_name": "PasswordModel",
          "model_module_version": "1.5.0",
          "state": {
            "_view_name": "PasswordView",
            "style": "IPY_MODEL_63f7ce78ad8f478688820fec3f380617",
            "_dom_classes": [],
            "description": "Token:",
            "_model_name": "PasswordModel",
            "placeholder": "​",
            "_view_module": "@jupyter-widgets/controls",
            "_model_module_version": "1.5.0",
            "value": "",
            "_view_count": null,
            "disabled": false,
            "_view_module_version": "1.5.0",
            "continuous_update": true,
            "description_tooltip": null,
            "_model_module": "@jupyter-widgets/controls",
            "layout": "IPY_MODEL_c45cd1d5b0b441c591ee0ed707c7e69a"
          }
        },
        "efaba41194784760b7d5503e550c7489": {
          "model_module": "@jupyter-widgets/controls",
          "model_name": "ButtonModel",
          "model_module_version": "1.5.0",
          "state": {
            "_view_name": "ButtonView",
            "style": "IPY_MODEL_7ed56b550b734353960715a81ded5c61",
            "_dom_classes": [],
            "description": "Login",
            "_model_name": "ButtonModel",
            "button_style": "",
            "_view_module": "@jupyter-widgets/controls",
            "_model_module_version": "1.5.0",
            "tooltip": "",
            "_view_count": null,
            "disabled": false,
            "_view_module_version": "1.5.0",
            "layout": "IPY_MODEL_4f9543b90b8a4e12b7243143b4bd051f",
            "_model_module": "@jupyter-widgets/controls",
            "icon": ""
          }
        },
        "a93a718ba4da4da2b0e488f36be747d9": {
          "model_module": "@jupyter-widgets/controls",
          "model_name": "HTMLModel",
          "model_module_version": "1.5.0",
          "state": {
            "_view_name": "HTMLView",
            "style": "IPY_MODEL_332ed41f7be94a8fa6b96ba1cd451b1d",
            "_dom_classes": [],
            "description": "",
            "_model_name": "HTMLModel",
            "placeholder": "​",
            "_view_module": "@jupyter-widgets/controls",
            "_model_module_version": "1.5.0",
            "value": "\n<b>Pro Tip:</b> If you don't already have one, you can create a dedicated 'notebooks' token with 'write' access, that you can then easily reuse for all notebooks.\n<br>\n<i>Logging in with your username and password is deprecated and won't be possible anymore in the near future. You can still use them for now by clicking below.</i>\n</center>",
            "_view_count": null,
            "_view_module_version": "1.5.0",
            "description_tooltip": null,
            "_model_module": "@jupyter-widgets/controls",
            "layout": "IPY_MODEL_3f76fbfcd1094805a00f19e87ee04ca7"
          }
        },
        "cc0aa17b31a740c38af2485fc7b32664": {
          "model_module": "@jupyter-widgets/controls",
          "model_name": "ButtonModel",
          "model_module_version": "1.5.0",
          "state": {
            "_view_name": "ButtonView",
            "style": "IPY_MODEL_75534e2e1c55476aad61939d5bf4c7a3",
            "_dom_classes": [],
            "description": "Use password",
            "_model_name": "ButtonModel",
            "button_style": "",
            "_view_module": "@jupyter-widgets/controls",
            "_model_module_version": "1.5.0",
            "tooltip": "",
            "_view_count": null,
            "disabled": false,
            "_view_module_version": "1.5.0",
            "layout": "IPY_MODEL_687cada2bce348e5af0aba3a987c89b3",
            "_model_module": "@jupyter-widgets/controls",
            "icon": ""
          }
        },
        "8858abb99d9f4f65bac0b94eb7be6615": {
          "model_module": "@jupyter-widgets/controls",
          "model_name": "DescriptionStyleModel",
          "model_module_version": "1.5.0",
          "state": {
            "_view_name": "StyleView",
            "_model_name": "DescriptionStyleModel",
            "description_width": "",
            "_view_module": "@jupyter-widgets/base",
            "_model_module_version": "1.5.0",
            "_view_count": null,
            "_view_module_version": "1.2.0",
            "_model_module": "@jupyter-widgets/controls"
          }
        },
        "1d97d50ec73a4826bc66b38c658f80ef": {
          "model_module": "@jupyter-widgets/base",
          "model_name": "LayoutModel",
          "model_module_version": "1.2.0",
          "state": {
            "_view_name": "LayoutView",
            "grid_template_rows": null,
            "right": null,
            "justify_content": null,
            "_view_module": "@jupyter-widgets/base",
            "overflow": null,
            "_model_module_version": "1.2.0",
            "_view_count": null,
            "flex_flow": null,
            "width": null,
            "min_width": null,
            "border": null,
            "align_items": null,
            "bottom": null,
            "_model_module": "@jupyter-widgets/base",
            "top": null,
            "grid_column": null,
            "overflow_y": null,
            "overflow_x": null,
            "grid_auto_flow": null,
            "grid_area": null,
            "grid_template_columns": null,
            "flex": null,
            "_model_name": "LayoutModel",
            "justify_items": null,
            "grid_row": null,
            "max_height": null,
            "align_content": null,
            "visibility": null,
            "align_self": null,
            "height": null,
            "min_height": null,
            "padding": null,
            "grid_auto_rows": null,
            "grid_gap": null,
            "max_width": null,
            "order": null,
            "_view_module_version": "1.2.0",
            "grid_template_areas": null,
            "object_position": null,
            "object_fit": null,
            "grid_auto_columns": null,
            "margin": null,
            "display": null,
            "left": null
          }
        },
        "63f7ce78ad8f478688820fec3f380617": {
          "model_module": "@jupyter-widgets/controls",
          "model_name": "DescriptionStyleModel",
          "model_module_version": "1.5.0",
          "state": {
            "_view_name": "StyleView",
            "_model_name": "DescriptionStyleModel",
            "description_width": "",
            "_view_module": "@jupyter-widgets/base",
            "_model_module_version": "1.5.0",
            "_view_count": null,
            "_view_module_version": "1.2.0",
            "_model_module": "@jupyter-widgets/controls"
          }
        },
        "c45cd1d5b0b441c591ee0ed707c7e69a": {
          "model_module": "@jupyter-widgets/base",
          "model_name": "LayoutModel",
          "model_module_version": "1.2.0",
          "state": {
            "_view_name": "LayoutView",
            "grid_template_rows": null,
            "right": null,
            "justify_content": null,
            "_view_module": "@jupyter-widgets/base",
            "overflow": null,
            "_model_module_version": "1.2.0",
            "_view_count": null,
            "flex_flow": null,
            "width": null,
            "min_width": null,
            "border": null,
            "align_items": null,
            "bottom": null,
            "_model_module": "@jupyter-widgets/base",
            "top": null,
            "grid_column": null,
            "overflow_y": null,
            "overflow_x": null,
            "grid_auto_flow": null,
            "grid_area": null,
            "grid_template_columns": null,
            "flex": null,
            "_model_name": "LayoutModel",
            "justify_items": null,
            "grid_row": null,
            "max_height": null,
            "align_content": null,
            "visibility": null,
            "align_self": null,
            "height": null,
            "min_height": null,
            "padding": null,
            "grid_auto_rows": null,
            "grid_gap": null,
            "max_width": null,
            "order": null,
            "_view_module_version": "1.2.0",
            "grid_template_areas": null,
            "object_position": null,
            "object_fit": null,
            "grid_auto_columns": null,
            "margin": null,
            "display": null,
            "left": null
          }
        },
        "7ed56b550b734353960715a81ded5c61": {
          "model_module": "@jupyter-widgets/controls",
          "model_name": "ButtonStyleModel",
          "model_module_version": "1.5.0",
          "state": {
            "_view_name": "StyleView",
            "_model_name": "ButtonStyleModel",
            "_view_module": "@jupyter-widgets/base",
            "_model_module_version": "1.5.0",
            "_view_count": null,
            "button_color": null,
            "font_weight": "",
            "_view_module_version": "1.2.0",
            "_model_module": "@jupyter-widgets/controls"
          }
        },
        "4f9543b90b8a4e12b7243143b4bd051f": {
          "model_module": "@jupyter-widgets/base",
          "model_name": "LayoutModel",
          "model_module_version": "1.2.0",
          "state": {
            "_view_name": "LayoutView",
            "grid_template_rows": null,
            "right": null,
            "justify_content": null,
            "_view_module": "@jupyter-widgets/base",
            "overflow": null,
            "_model_module_version": "1.2.0",
            "_view_count": null,
            "flex_flow": null,
            "width": null,
            "min_width": null,
            "border": null,
            "align_items": null,
            "bottom": null,
            "_model_module": "@jupyter-widgets/base",
            "top": null,
            "grid_column": null,
            "overflow_y": null,
            "overflow_x": null,
            "grid_auto_flow": null,
            "grid_area": null,
            "grid_template_columns": null,
            "flex": null,
            "_model_name": "LayoutModel",
            "justify_items": null,
            "grid_row": null,
            "max_height": null,
            "align_content": null,
            "visibility": null,
            "align_self": null,
            "height": null,
            "min_height": null,
            "padding": null,
            "grid_auto_rows": null,
            "grid_gap": null,
            "max_width": null,
            "order": null,
            "_view_module_version": "1.2.0",
            "grid_template_areas": null,
            "object_position": null,
            "object_fit": null,
            "grid_auto_columns": null,
            "margin": null,
            "display": null,
            "left": null
          }
        },
        "332ed41f7be94a8fa6b96ba1cd451b1d": {
          "model_module": "@jupyter-widgets/controls",
          "model_name": "DescriptionStyleModel",
          "model_module_version": "1.5.0",
          "state": {
            "_view_name": "StyleView",
            "_model_name": "DescriptionStyleModel",
            "description_width": "",
            "_view_module": "@jupyter-widgets/base",
            "_model_module_version": "1.5.0",
            "_view_count": null,
            "_view_module_version": "1.2.0",
            "_model_module": "@jupyter-widgets/controls"
          }
        },
        "3f76fbfcd1094805a00f19e87ee04ca7": {
          "model_module": "@jupyter-widgets/base",
          "model_name": "LayoutModel",
          "model_module_version": "1.2.0",
          "state": {
            "_view_name": "LayoutView",
            "grid_template_rows": null,
            "right": null,
            "justify_content": null,
            "_view_module": "@jupyter-widgets/base",
            "overflow": null,
            "_model_module_version": "1.2.0",
            "_view_count": null,
            "flex_flow": null,
            "width": null,
            "min_width": null,
            "border": null,
            "align_items": null,
            "bottom": null,
            "_model_module": "@jupyter-widgets/base",
            "top": null,
            "grid_column": null,
            "overflow_y": null,
            "overflow_x": null,
            "grid_auto_flow": null,
            "grid_area": null,
            "grid_template_columns": null,
            "flex": null,
            "_model_name": "LayoutModel",
            "justify_items": null,
            "grid_row": null,
            "max_height": null,
            "align_content": null,
            "visibility": null,
            "align_self": null,
            "height": null,
            "min_height": null,
            "padding": null,
            "grid_auto_rows": null,
            "grid_gap": null,
            "max_width": null,
            "order": null,
            "_view_module_version": "1.2.0",
            "grid_template_areas": null,
            "object_position": null,
            "object_fit": null,
            "grid_auto_columns": null,
            "margin": null,
            "display": null,
            "left": null
          }
        },
        "75534e2e1c55476aad61939d5bf4c7a3": {
          "model_module": "@jupyter-widgets/controls",
          "model_name": "ButtonStyleModel",
          "model_module_version": "1.5.0",
          "state": {
            "_view_name": "StyleView",
            "_model_name": "ButtonStyleModel",
            "_view_module": "@jupyter-widgets/base",
            "_model_module_version": "1.5.0",
            "_view_count": null,
            "button_color": null,
            "font_weight": "",
            "_view_module_version": "1.2.0",
            "_model_module": "@jupyter-widgets/controls"
          }
        },
        "687cada2bce348e5af0aba3a987c89b3": {
          "model_module": "@jupyter-widgets/base",
          "model_name": "LayoutModel",
          "model_module_version": "1.2.0",
          "state": {
            "_view_name": "LayoutView",
            "grid_template_rows": null,
            "right": null,
            "justify_content": null,
            "_view_module": "@jupyter-widgets/base",
            "overflow": null,
            "_model_module_version": "1.2.0",
            "_view_count": null,
            "flex_flow": null,
            "width": null,
            "min_width": null,
            "border": null,
            "align_items": null,
            "bottom": null,
            "_model_module": "@jupyter-widgets/base",
            "top": null,
            "grid_column": null,
            "overflow_y": null,
            "overflow_x": null,
            "grid_auto_flow": null,
            "grid_area": null,
            "grid_template_columns": null,
            "flex": null,
            "_model_name": "LayoutModel",
            "justify_items": null,
            "grid_row": null,
            "max_height": null,
            "align_content": null,
            "visibility": null,
            "align_self": null,
            "height": null,
            "min_height": null,
            "padding": null,
            "grid_auto_rows": null,
            "grid_gap": null,
            "max_width": null,
            "order": null,
            "_view_module_version": "1.2.0",
            "grid_template_areas": null,
            "object_position": null,
            "object_fit": null,
            "grid_auto_columns": null,
            "margin": null,
            "display": null,
            "left": null
          }
        },
        "f9b02fff1aef4da58a2261b64d1fe7b5": {
          "model_module": "@jupyter-widgets/controls",
          "model_name": "HBoxModel",
          "model_module_version": "1.5.0",
          "state": {
            "_view_name": "HBoxView",
            "_dom_classes": [],
            "_model_name": "HBoxModel",
            "_view_module": "@jupyter-widgets/controls",
            "_model_module_version": "1.5.0",
            "_view_count": null,
            "_view_module_version": "1.5.0",
            "box_style": "",
            "layout": "IPY_MODEL_16f515b4861b4418a1a65f6e213ca9a9",
            "_model_module": "@jupyter-widgets/controls",
            "children": [
              "IPY_MODEL_928d6f0ae2a545b79855664aa7b3768c",
              "IPY_MODEL_94421a5b1bd24d20b3bb533e3eebadf6",
              "IPY_MODEL_5303c01c297d4dd79a9c106c179dbb1a"
            ]
          }
        },
        "16f515b4861b4418a1a65f6e213ca9a9": {
          "model_module": "@jupyter-widgets/base",
          "model_name": "LayoutModel",
          "model_module_version": "1.2.0",
          "state": {
            "_view_name": "LayoutView",
            "grid_template_rows": null,
            "right": null,
            "justify_content": null,
            "_view_module": "@jupyter-widgets/base",
            "overflow": null,
            "_model_module_version": "1.2.0",
            "_view_count": null,
            "flex_flow": null,
            "width": null,
            "min_width": null,
            "border": null,
            "align_items": null,
            "bottom": null,
            "_model_module": "@jupyter-widgets/base",
            "top": null,
            "grid_column": null,
            "overflow_y": null,
            "overflow_x": null,
            "grid_auto_flow": null,
            "grid_area": null,
            "grid_template_columns": null,
            "flex": null,
            "_model_name": "LayoutModel",
            "justify_items": null,
            "grid_row": null,
            "max_height": null,
            "align_content": null,
            "visibility": null,
            "align_self": null,
            "height": null,
            "min_height": null,
            "padding": null,
            "grid_auto_rows": null,
            "grid_gap": null,
            "max_width": null,
            "order": null,
            "_view_module_version": "1.2.0",
            "grid_template_areas": null,
            "object_position": null,
            "object_fit": null,
            "grid_auto_columns": null,
            "margin": null,
            "display": null,
            "left": null
          }
        },
        "928d6f0ae2a545b79855664aa7b3768c": {
          "model_module": "@jupyter-widgets/controls",
          "model_name": "HTMLModel",
          "model_module_version": "1.5.0",
          "state": {
            "_view_name": "HTMLView",
            "style": "IPY_MODEL_b1878bed6e2f4bb08881641dd989b0c0",
            "_dom_classes": [],
            "description": "",
            "_model_name": "HTMLModel",
            "placeholder": "​",
            "_view_module": "@jupyter-widgets/controls",
            "_model_module_version": "1.5.0",
            "value": "100%",
            "_view_count": null,
            "_view_module_version": "1.5.0",
            "description_tooltip": null,
            "_model_module": "@jupyter-widgets/controls",
            "layout": "IPY_MODEL_c3318928e1134614b2b06703b94d1a3e"
          }
        },
        "94421a5b1bd24d20b3bb533e3eebadf6": {
          "model_module": "@jupyter-widgets/controls",
          "model_name": "FloatProgressModel",
          "model_module_version": "1.5.0",
          "state": {
            "_view_name": "ProgressView",
            "style": "IPY_MODEL_84c866d7d58e4670bb8bed7adbaa5fe5",
            "_dom_classes": [],
            "description": "",
            "_model_name": "FloatProgressModel",
            "bar_style": "success",
            "max": 2,
            "_view_module": "@jupyter-widgets/controls",
            "_model_module_version": "1.5.0",
            "value": 2,
            "_view_count": null,
            "_view_module_version": "1.5.0",
            "orientation": "horizontal",
            "min": 0,
            "description_tooltip": null,
            "_model_module": "@jupyter-widgets/controls",
            "layout": "IPY_MODEL_9bc8396dc4494729bfc5fa931d84d193"
          }
        },
        "5303c01c297d4dd79a9c106c179dbb1a": {
          "model_module": "@jupyter-widgets/controls",
          "model_name": "HTMLModel",
          "model_module_version": "1.5.0",
          "state": {
            "_view_name": "HTMLView",
            "style": "IPY_MODEL_575d7e225869497e9e9ef46f699541d1",
            "_dom_classes": [],
            "description": "",
            "_model_name": "HTMLModel",
            "placeholder": "​",
            "_view_module": "@jupyter-widgets/controls",
            "_model_module_version": "1.5.0",
            "value": " 2/2 [00:01&lt;00:00,  1.06it/s]",
            "_view_count": null,
            "_view_module_version": "1.5.0",
            "description_tooltip": null,
            "_model_module": "@jupyter-widgets/controls",
            "layout": "IPY_MODEL_8735eb1a8eae491b8789fb671cc985d6"
          }
        },
        "b1878bed6e2f4bb08881641dd989b0c0": {
          "model_module": "@jupyter-widgets/controls",
          "model_name": "DescriptionStyleModel",
          "model_module_version": "1.5.0",
          "state": {
            "_view_name": "StyleView",
            "_model_name": "DescriptionStyleModel",
            "description_width": "",
            "_view_module": "@jupyter-widgets/base",
            "_model_module_version": "1.5.0",
            "_view_count": null,
            "_view_module_version": "1.2.0",
            "_model_module": "@jupyter-widgets/controls"
          }
        },
        "c3318928e1134614b2b06703b94d1a3e": {
          "model_module": "@jupyter-widgets/base",
          "model_name": "LayoutModel",
          "model_module_version": "1.2.0",
          "state": {
            "_view_name": "LayoutView",
            "grid_template_rows": null,
            "right": null,
            "justify_content": null,
            "_view_module": "@jupyter-widgets/base",
            "overflow": null,
            "_model_module_version": "1.2.0",
            "_view_count": null,
            "flex_flow": null,
            "width": null,
            "min_width": null,
            "border": null,
            "align_items": null,
            "bottom": null,
            "_model_module": "@jupyter-widgets/base",
            "top": null,
            "grid_column": null,
            "overflow_y": null,
            "overflow_x": null,
            "grid_auto_flow": null,
            "grid_area": null,
            "grid_template_columns": null,
            "flex": null,
            "_model_name": "LayoutModel",
            "justify_items": null,
            "grid_row": null,
            "max_height": null,
            "align_content": null,
            "visibility": null,
            "align_self": null,
            "height": null,
            "min_height": null,
            "padding": null,
            "grid_auto_rows": null,
            "grid_gap": null,
            "max_width": null,
            "order": null,
            "_view_module_version": "1.2.0",
            "grid_template_areas": null,
            "object_position": null,
            "object_fit": null,
            "grid_auto_columns": null,
            "margin": null,
            "display": null,
            "left": null
          }
        },
        "84c866d7d58e4670bb8bed7adbaa5fe5": {
          "model_module": "@jupyter-widgets/controls",
          "model_name": "ProgressStyleModel",
          "model_module_version": "1.5.0",
          "state": {
            "_view_name": "StyleView",
            "_model_name": "ProgressStyleModel",
            "description_width": "",
            "_view_module": "@jupyter-widgets/base",
            "_model_module_version": "1.5.0",
            "_view_count": null,
            "_view_module_version": "1.2.0",
            "bar_color": null,
            "_model_module": "@jupyter-widgets/controls"
          }
        },
        "9bc8396dc4494729bfc5fa931d84d193": {
          "model_module": "@jupyter-widgets/base",
          "model_name": "LayoutModel",
          "model_module_version": "1.2.0",
          "state": {
            "_view_name": "LayoutView",
            "grid_template_rows": null,
            "right": null,
            "justify_content": null,
            "_view_module": "@jupyter-widgets/base",
            "overflow": null,
            "_model_module_version": "1.2.0",
            "_view_count": null,
            "flex_flow": null,
            "width": null,
            "min_width": null,
            "border": null,
            "align_items": null,
            "bottom": null,
            "_model_module": "@jupyter-widgets/base",
            "top": null,
            "grid_column": null,
            "overflow_y": null,
            "overflow_x": null,
            "grid_auto_flow": null,
            "grid_area": null,
            "grid_template_columns": null,
            "flex": null,
            "_model_name": "LayoutModel",
            "justify_items": null,
            "grid_row": null,
            "max_height": null,
            "align_content": null,
            "visibility": null,
            "align_self": null,
            "height": null,
            "min_height": null,
            "padding": null,
            "grid_auto_rows": null,
            "grid_gap": null,
            "max_width": null,
            "order": null,
            "_view_module_version": "1.2.0",
            "grid_template_areas": null,
            "object_position": null,
            "object_fit": null,
            "grid_auto_columns": null,
            "margin": null,
            "display": null,
            "left": null
          }
        },
        "575d7e225869497e9e9ef46f699541d1": {
          "model_module": "@jupyter-widgets/controls",
          "model_name": "DescriptionStyleModel",
          "model_module_version": "1.5.0",
          "state": {
            "_view_name": "StyleView",
            "_model_name": "DescriptionStyleModel",
            "description_width": "",
            "_view_module": "@jupyter-widgets/base",
            "_model_module_version": "1.5.0",
            "_view_count": null,
            "_view_module_version": "1.2.0",
            "_model_module": "@jupyter-widgets/controls"
          }
        },
        "8735eb1a8eae491b8789fb671cc985d6": {
          "model_module": "@jupyter-widgets/base",
          "model_name": "LayoutModel",
          "model_module_version": "1.2.0",
          "state": {
            "_view_name": "LayoutView",
            "grid_template_rows": null,
            "right": null,
            "justify_content": null,
            "_view_module": "@jupyter-widgets/base",
            "overflow": null,
            "_model_module_version": "1.2.0",
            "_view_count": null,
            "flex_flow": null,
            "width": null,
            "min_width": null,
            "border": null,
            "align_items": null,
            "bottom": null,
            "_model_module": "@jupyter-widgets/base",
            "top": null,
            "grid_column": null,
            "overflow_y": null,
            "overflow_x": null,
            "grid_auto_flow": null,
            "grid_area": null,
            "grid_template_columns": null,
            "flex": null,
            "_model_name": "LayoutModel",
            "justify_items": null,
            "grid_row": null,
            "max_height": null,
            "align_content": null,
            "visibility": null,
            "align_self": null,
            "height": null,
            "min_height": null,
            "padding": null,
            "grid_auto_rows": null,
            "grid_gap": null,
            "max_width": null,
            "order": null,
            "_view_module_version": "1.2.0",
            "grid_template_areas": null,
            "object_position": null,
            "object_fit": null,
            "grid_auto_columns": null,
            "margin": null,
            "display": null,
            "left": null
          }
        },
        "fa242abe16824acbabbed0aa3c3f1b94": {
          "model_module": "@jupyter-widgets/controls",
          "model_name": "HBoxModel",
          "model_module_version": "1.5.0",
          "state": {
            "_view_name": "HBoxView",
            "_dom_classes": [],
            "_model_name": "HBoxModel",
            "_view_module": "@jupyter-widgets/controls",
            "_model_module_version": "1.5.0",
            "_view_count": null,
            "_view_module_version": "1.5.0",
            "box_style": "",
            "layout": "IPY_MODEL_5b50de8144b340aa8bd3c4e7db86e14a",
            "_model_module": "@jupyter-widgets/controls",
            "children": [
              "IPY_MODEL_433a8aa76b2148649c7d377e424bf798",
              "IPY_MODEL_0f253cdf7f3f45dd9e2e4dd582f27920",
              "IPY_MODEL_068b369272c34bc9838412d48e177ce7"
            ]
          }
        },
        "5b50de8144b340aa8bd3c4e7db86e14a": {
          "model_module": "@jupyter-widgets/base",
          "model_name": "LayoutModel",
          "model_module_version": "1.2.0",
          "state": {
            "_view_name": "LayoutView",
            "grid_template_rows": null,
            "right": null,
            "justify_content": null,
            "_view_module": "@jupyter-widgets/base",
            "overflow": null,
            "_model_module_version": "1.2.0",
            "_view_count": null,
            "flex_flow": null,
            "width": null,
            "min_width": null,
            "border": null,
            "align_items": null,
            "bottom": null,
            "_model_module": "@jupyter-widgets/base",
            "top": null,
            "grid_column": null,
            "overflow_y": null,
            "overflow_x": null,
            "grid_auto_flow": null,
            "grid_area": null,
            "grid_template_columns": null,
            "flex": null,
            "_model_name": "LayoutModel",
            "justify_items": null,
            "grid_row": null,
            "max_height": null,
            "align_content": null,
            "visibility": null,
            "align_self": null,
            "height": null,
            "min_height": null,
            "padding": null,
            "grid_auto_rows": null,
            "grid_gap": null,
            "max_width": null,
            "order": null,
            "_view_module_version": "1.2.0",
            "grid_template_areas": null,
            "object_position": null,
            "object_fit": null,
            "grid_auto_columns": null,
            "margin": null,
            "display": null,
            "left": null
          }
        },
        "433a8aa76b2148649c7d377e424bf798": {
          "model_module": "@jupyter-widgets/controls",
          "model_name": "HTMLModel",
          "model_module_version": "1.5.0",
          "state": {
            "_view_name": "HTMLView",
            "style": "IPY_MODEL_45b9b7a9bc7d4b46a1f9cbcedc1038e1",
            "_dom_classes": [],
            "description": "",
            "_model_name": "HTMLModel",
            "placeholder": "​",
            "_view_module": "@jupyter-widgets/controls",
            "_model_module_version": "1.5.0",
            "value": "Downloading: 100%",
            "_view_count": null,
            "_view_module_version": "1.5.0",
            "description_tooltip": null,
            "_model_module": "@jupyter-widgets/controls",
            "layout": "IPY_MODEL_2b642431ecf94cf296abb13a77544190"
          }
        },
        "0f253cdf7f3f45dd9e2e4dd582f27920": {
          "model_module": "@jupyter-widgets/controls",
          "model_name": "FloatProgressModel",
          "model_module_version": "1.5.0",
          "state": {
            "_view_name": "ProgressView",
            "style": "IPY_MODEL_8ae7c13da82645b9a9ded6c9ac26b66f",
            "_dom_classes": [],
            "description": "",
            "_model_name": "FloatProgressModel",
            "bar_style": "success",
            "max": 2328030,
            "_view_module": "@jupyter-widgets/controls",
            "_model_module_version": "1.5.0",
            "value": 2328030,
            "_view_count": null,
            "_view_module_version": "1.5.0",
            "orientation": "horizontal",
            "min": 0,
            "description_tooltip": null,
            "_model_module": "@jupyter-widgets/controls",
            "layout": "IPY_MODEL_267b939c0fa44d40833490e6db417ea7"
          }
        },
        "068b369272c34bc9838412d48e177ce7": {
          "model_module": "@jupyter-widgets/controls",
          "model_name": "HTMLModel",
          "model_module_version": "1.5.0",
          "state": {
            "_view_name": "HTMLView",
            "style": "IPY_MODEL_3b1037b85670432e925327875a355a27",
            "_dom_classes": [],
            "description": "",
            "_model_name": "HTMLModel",
            "placeholder": "​",
            "_view_module": "@jupyter-widgets/controls",
            "_model_module_version": "1.5.0",
            "value": " 2.33M/2.33M [00:00&lt;00:00, 2.84MB/s]",
            "_view_count": null,
            "_view_module_version": "1.5.0",
            "description_tooltip": null,
            "_model_module": "@jupyter-widgets/controls",
            "layout": "IPY_MODEL_6669477c95cc4d59b212dae3e3436044"
          }
        },
        "45b9b7a9bc7d4b46a1f9cbcedc1038e1": {
          "model_module": "@jupyter-widgets/controls",
          "model_name": "DescriptionStyleModel",
          "model_module_version": "1.5.0",
          "state": {
            "_view_name": "StyleView",
            "_model_name": "DescriptionStyleModel",
            "description_width": "",
            "_view_module": "@jupyter-widgets/base",
            "_model_module_version": "1.5.0",
            "_view_count": null,
            "_view_module_version": "1.2.0",
            "_model_module": "@jupyter-widgets/controls"
          }
        },
        "2b642431ecf94cf296abb13a77544190": {
          "model_module": "@jupyter-widgets/base",
          "model_name": "LayoutModel",
          "model_module_version": "1.2.0",
          "state": {
            "_view_name": "LayoutView",
            "grid_template_rows": null,
            "right": null,
            "justify_content": null,
            "_view_module": "@jupyter-widgets/base",
            "overflow": null,
            "_model_module_version": "1.2.0",
            "_view_count": null,
            "flex_flow": null,
            "width": null,
            "min_width": null,
            "border": null,
            "align_items": null,
            "bottom": null,
            "_model_module": "@jupyter-widgets/base",
            "top": null,
            "grid_column": null,
            "overflow_y": null,
            "overflow_x": null,
            "grid_auto_flow": null,
            "grid_area": null,
            "grid_template_columns": null,
            "flex": null,
            "_model_name": "LayoutModel",
            "justify_items": null,
            "grid_row": null,
            "max_height": null,
            "align_content": null,
            "visibility": null,
            "align_self": null,
            "height": null,
            "min_height": null,
            "padding": null,
            "grid_auto_rows": null,
            "grid_gap": null,
            "max_width": null,
            "order": null,
            "_view_module_version": "1.2.0",
            "grid_template_areas": null,
            "object_position": null,
            "object_fit": null,
            "grid_auto_columns": null,
            "margin": null,
            "display": null,
            "left": null
          }
        },
        "8ae7c13da82645b9a9ded6c9ac26b66f": {
          "model_module": "@jupyter-widgets/controls",
          "model_name": "ProgressStyleModel",
          "model_module_version": "1.5.0",
          "state": {
            "_view_name": "StyleView",
            "_model_name": "ProgressStyleModel",
            "description_width": "",
            "_view_module": "@jupyter-widgets/base",
            "_model_module_version": "1.5.0",
            "_view_count": null,
            "_view_module_version": "1.2.0",
            "bar_color": null,
            "_model_module": "@jupyter-widgets/controls"
          }
        },
        "267b939c0fa44d40833490e6db417ea7": {
          "model_module": "@jupyter-widgets/base",
          "model_name": "LayoutModel",
          "model_module_version": "1.2.0",
          "state": {
            "_view_name": "LayoutView",
            "grid_template_rows": null,
            "right": null,
            "justify_content": null,
            "_view_module": "@jupyter-widgets/base",
            "overflow": null,
            "_model_module_version": "1.2.0",
            "_view_count": null,
            "flex_flow": null,
            "width": null,
            "min_width": null,
            "border": null,
            "align_items": null,
            "bottom": null,
            "_model_module": "@jupyter-widgets/base",
            "top": null,
            "grid_column": null,
            "overflow_y": null,
            "overflow_x": null,
            "grid_auto_flow": null,
            "grid_area": null,
            "grid_template_columns": null,
            "flex": null,
            "_model_name": "LayoutModel",
            "justify_items": null,
            "grid_row": null,
            "max_height": null,
            "align_content": null,
            "visibility": null,
            "align_self": null,
            "height": null,
            "min_height": null,
            "padding": null,
            "grid_auto_rows": null,
            "grid_gap": null,
            "max_width": null,
            "order": null,
            "_view_module_version": "1.2.0",
            "grid_template_areas": null,
            "object_position": null,
            "object_fit": null,
            "grid_auto_columns": null,
            "margin": null,
            "display": null,
            "left": null
          }
        },
        "3b1037b85670432e925327875a355a27": {
          "model_module": "@jupyter-widgets/controls",
          "model_name": "DescriptionStyleModel",
          "model_module_version": "1.5.0",
          "state": {
            "_view_name": "StyleView",
            "_model_name": "DescriptionStyleModel",
            "description_width": "",
            "_view_module": "@jupyter-widgets/base",
            "_model_module_version": "1.5.0",
            "_view_count": null,
            "_view_module_version": "1.2.0",
            "_model_module": "@jupyter-widgets/controls"
          }
        },
        "6669477c95cc4d59b212dae3e3436044": {
          "model_module": "@jupyter-widgets/base",
          "model_name": "LayoutModel",
          "model_module_version": "1.2.0",
          "state": {
            "_view_name": "LayoutView",
            "grid_template_rows": null,
            "right": null,
            "justify_content": null,
            "_view_module": "@jupyter-widgets/base",
            "overflow": null,
            "_model_module_version": "1.2.0",
            "_view_count": null,
            "flex_flow": null,
            "width": null,
            "min_width": null,
            "border": null,
            "align_items": null,
            "bottom": null,
            "_model_module": "@jupyter-widgets/base",
            "top": null,
            "grid_column": null,
            "overflow_y": null,
            "overflow_x": null,
            "grid_auto_flow": null,
            "grid_area": null,
            "grid_template_columns": null,
            "flex": null,
            "_model_name": "LayoutModel",
            "justify_items": null,
            "grid_row": null,
            "max_height": null,
            "align_content": null,
            "visibility": null,
            "align_self": null,
            "height": null,
            "min_height": null,
            "padding": null,
            "grid_auto_rows": null,
            "grid_gap": null,
            "max_width": null,
            "order": null,
            "_view_module_version": "1.2.0",
            "grid_template_areas": null,
            "object_position": null,
            "object_fit": null,
            "grid_auto_columns": null,
            "margin": null,
            "display": null,
            "left": null
          }
        },
        "a3b96aae55a448788af3346a6ab85303": {
          "model_module": "@jupyter-widgets/controls",
          "model_name": "HBoxModel",
          "model_module_version": "1.5.0",
          "state": {
            "_view_name": "HBoxView",
            "_dom_classes": [],
            "_model_name": "HBoxModel",
            "_view_module": "@jupyter-widgets/controls",
            "_model_module_version": "1.5.0",
            "_view_count": null,
            "_view_module_version": "1.5.0",
            "box_style": "",
            "layout": "IPY_MODEL_d625ec27f60b4d0a8f32e82738564061",
            "_model_module": "@jupyter-widgets/controls",
            "children": [
              "IPY_MODEL_3010b2eba2dd49db8abf98c04738e6d8",
              "IPY_MODEL_1d3dea01d5a94d94a0ce2676612324da",
              "IPY_MODEL_23dd3b8041704e2d9bd1d3b0028b66ef"
            ]
          }
        },
        "d625ec27f60b4d0a8f32e82738564061": {
          "model_module": "@jupyter-widgets/base",
          "model_name": "LayoutModel",
          "model_module_version": "1.2.0",
          "state": {
            "_view_name": "LayoutView",
            "grid_template_rows": null,
            "right": null,
            "justify_content": null,
            "_view_module": "@jupyter-widgets/base",
            "overflow": null,
            "_model_module_version": "1.2.0",
            "_view_count": null,
            "flex_flow": null,
            "width": null,
            "min_width": null,
            "border": null,
            "align_items": null,
            "bottom": null,
            "_model_module": "@jupyter-widgets/base",
            "top": null,
            "grid_column": null,
            "overflow_y": null,
            "overflow_x": null,
            "grid_auto_flow": null,
            "grid_area": null,
            "grid_template_columns": null,
            "flex": null,
            "_model_name": "LayoutModel",
            "justify_items": null,
            "grid_row": null,
            "max_height": null,
            "align_content": null,
            "visibility": null,
            "align_self": null,
            "height": null,
            "min_height": null,
            "padding": null,
            "grid_auto_rows": null,
            "grid_gap": null,
            "max_width": null,
            "order": null,
            "_view_module_version": "1.2.0",
            "grid_template_areas": null,
            "object_position": null,
            "object_fit": null,
            "grid_auto_columns": null,
            "margin": null,
            "display": null,
            "left": null
          }
        },
        "3010b2eba2dd49db8abf98c04738e6d8": {
          "model_module": "@jupyter-widgets/controls",
          "model_name": "HTMLModel",
          "model_module_version": "1.5.0",
          "state": {
            "_view_name": "HTMLView",
            "style": "IPY_MODEL_547691f1b412401689246b5c0c2b4dd2",
            "_dom_classes": [],
            "description": "",
            "_model_name": "HTMLModel",
            "placeholder": "​",
            "_view_module": "@jupyter-widgets/controls",
            "_model_module_version": "1.5.0",
            "value": "Downloading: 100%",
            "_view_count": null,
            "_view_module_version": "1.5.0",
            "description_tooltip": null,
            "_model_module": "@jupyter-widgets/controls",
            "layout": "IPY_MODEL_71834f3d0ee5480fa36ea53d9c82af78"
          }
        },
        "1d3dea01d5a94d94a0ce2676612324da": {
          "model_module": "@jupyter-widgets/controls",
          "model_name": "FloatProgressModel",
          "model_module_version": "1.5.0",
          "state": {
            "_view_name": "ProgressView",
            "style": "IPY_MODEL_23ac4a09b70d4df89ae890c885cbd2c1",
            "_dom_classes": [],
            "description": "",
            "_model_name": "FloatProgressModel",
            "bar_style": "success",
            "max": 263105,
            "_view_module": "@jupyter-widgets/controls",
            "_model_module_version": "1.5.0",
            "value": 263105,
            "_view_count": null,
            "_view_module_version": "1.5.0",
            "orientation": "horizontal",
            "min": 0,
            "description_tooltip": null,
            "_model_module": "@jupyter-widgets/controls",
            "layout": "IPY_MODEL_cdbcba04c1ac45228c56ce7ed5c808af"
          }
        },
        "23dd3b8041704e2d9bd1d3b0028b66ef": {
          "model_module": "@jupyter-widgets/controls",
          "model_name": "HTMLModel",
          "model_module_version": "1.5.0",
          "state": {
            "_view_name": "HTMLView",
            "style": "IPY_MODEL_d948fc772177411b8300d0608d59a5e7",
            "_dom_classes": [],
            "description": "",
            "_model_name": "HTMLModel",
            "placeholder": "​",
            "_view_module": "@jupyter-widgets/controls",
            "_model_module_version": "1.5.0",
            "value": " 263k/263k [00:00&lt;00:00, 800kB/s]",
            "_view_count": null,
            "_view_module_version": "1.5.0",
            "description_tooltip": null,
            "_model_module": "@jupyter-widgets/controls",
            "layout": "IPY_MODEL_8a7177660ca347ac886ac16e5b0d05ec"
          }
        },
        "547691f1b412401689246b5c0c2b4dd2": {
          "model_module": "@jupyter-widgets/controls",
          "model_name": "DescriptionStyleModel",
          "model_module_version": "1.5.0",
          "state": {
            "_view_name": "StyleView",
            "_model_name": "DescriptionStyleModel",
            "description_width": "",
            "_view_module": "@jupyter-widgets/base",
            "_model_module_version": "1.5.0",
            "_view_count": null,
            "_view_module_version": "1.2.0",
            "_model_module": "@jupyter-widgets/controls"
          }
        },
        "71834f3d0ee5480fa36ea53d9c82af78": {
          "model_module": "@jupyter-widgets/base",
          "model_name": "LayoutModel",
          "model_module_version": "1.2.0",
          "state": {
            "_view_name": "LayoutView",
            "grid_template_rows": null,
            "right": null,
            "justify_content": null,
            "_view_module": "@jupyter-widgets/base",
            "overflow": null,
            "_model_module_version": "1.2.0",
            "_view_count": null,
            "flex_flow": null,
            "width": null,
            "min_width": null,
            "border": null,
            "align_items": null,
            "bottom": null,
            "_model_module": "@jupyter-widgets/base",
            "top": null,
            "grid_column": null,
            "overflow_y": null,
            "overflow_x": null,
            "grid_auto_flow": null,
            "grid_area": null,
            "grid_template_columns": null,
            "flex": null,
            "_model_name": "LayoutModel",
            "justify_items": null,
            "grid_row": null,
            "max_height": null,
            "align_content": null,
            "visibility": null,
            "align_self": null,
            "height": null,
            "min_height": null,
            "padding": null,
            "grid_auto_rows": null,
            "grid_gap": null,
            "max_width": null,
            "order": null,
            "_view_module_version": "1.2.0",
            "grid_template_areas": null,
            "object_position": null,
            "object_fit": null,
            "grid_auto_columns": null,
            "margin": null,
            "display": null,
            "left": null
          }
        },
        "23ac4a09b70d4df89ae890c885cbd2c1": {
          "model_module": "@jupyter-widgets/controls",
          "model_name": "ProgressStyleModel",
          "model_module_version": "1.5.0",
          "state": {
            "_view_name": "StyleView",
            "_model_name": "ProgressStyleModel",
            "description_width": "",
            "_view_module": "@jupyter-widgets/base",
            "_model_module_version": "1.5.0",
            "_view_count": null,
            "_view_module_version": "1.2.0",
            "bar_color": null,
            "_model_module": "@jupyter-widgets/controls"
          }
        },
        "cdbcba04c1ac45228c56ce7ed5c808af": {
          "model_module": "@jupyter-widgets/base",
          "model_name": "LayoutModel",
          "model_module_version": "1.2.0",
          "state": {
            "_view_name": "LayoutView",
            "grid_template_rows": null,
            "right": null,
            "justify_content": null,
            "_view_module": "@jupyter-widgets/base",
            "overflow": null,
            "_model_module_version": "1.2.0",
            "_view_count": null,
            "flex_flow": null,
            "width": null,
            "min_width": null,
            "border": null,
            "align_items": null,
            "bottom": null,
            "_model_module": "@jupyter-widgets/base",
            "top": null,
            "grid_column": null,
            "overflow_y": null,
            "overflow_x": null,
            "grid_auto_flow": null,
            "grid_area": null,
            "grid_template_columns": null,
            "flex": null,
            "_model_name": "LayoutModel",
            "justify_items": null,
            "grid_row": null,
            "max_height": null,
            "align_content": null,
            "visibility": null,
            "align_self": null,
            "height": null,
            "min_height": null,
            "padding": null,
            "grid_auto_rows": null,
            "grid_gap": null,
            "max_width": null,
            "order": null,
            "_view_module_version": "1.2.0",
            "grid_template_areas": null,
            "object_position": null,
            "object_fit": null,
            "grid_auto_columns": null,
            "margin": null,
            "display": null,
            "left": null
          }
        },
        "d948fc772177411b8300d0608d59a5e7": {
          "model_module": "@jupyter-widgets/controls",
          "model_name": "DescriptionStyleModel",
          "model_module_version": "1.5.0",
          "state": {
            "_view_name": "StyleView",
            "_model_name": "DescriptionStyleModel",
            "description_width": "",
            "_view_module": "@jupyter-widgets/base",
            "_model_module_version": "1.5.0",
            "_view_count": null,
            "_view_module_version": "1.2.0",
            "_model_module": "@jupyter-widgets/controls"
          }
        },
        "8a7177660ca347ac886ac16e5b0d05ec": {
          "model_module": "@jupyter-widgets/base",
          "model_name": "LayoutModel",
          "model_module_version": "1.2.0",
          "state": {
            "_view_name": "LayoutView",
            "grid_template_rows": null,
            "right": null,
            "justify_content": null,
            "_view_module": "@jupyter-widgets/base",
            "overflow": null,
            "_model_module_version": "1.2.0",
            "_view_count": null,
            "flex_flow": null,
            "width": null,
            "min_width": null,
            "border": null,
            "align_items": null,
            "bottom": null,
            "_model_module": "@jupyter-widgets/base",
            "top": null,
            "grid_column": null,
            "overflow_y": null,
            "overflow_x": null,
            "grid_auto_flow": null,
            "grid_area": null,
            "grid_template_columns": null,
            "flex": null,
            "_model_name": "LayoutModel",
            "justify_items": null,
            "grid_row": null,
            "max_height": null,
            "align_content": null,
            "visibility": null,
            "align_self": null,
            "height": null,
            "min_height": null,
            "padding": null,
            "grid_auto_rows": null,
            "grid_gap": null,
            "max_width": null,
            "order": null,
            "_view_module_version": "1.2.0",
            "grid_template_areas": null,
            "object_position": null,
            "object_fit": null,
            "grid_auto_columns": null,
            "margin": null,
            "display": null,
            "left": null
          }
        },
        "1149f1deb65a41c4ba42ba27f0e8d34e": {
          "model_module": "@jupyter-widgets/controls",
          "model_name": "HBoxModel",
          "model_module_version": "1.5.0",
          "state": {
            "_view_name": "HBoxView",
            "_dom_classes": [],
            "_model_name": "HBoxModel",
            "_view_module": "@jupyter-widgets/controls",
            "_model_module_version": "1.5.0",
            "_view_count": null,
            "_view_module_version": "1.5.0",
            "box_style": "",
            "layout": "IPY_MODEL_22e3d1f0e75641cc81e3a6b4abc1e69c",
            "_model_module": "@jupyter-widgets/controls",
            "children": [
              "IPY_MODEL_940640b388e74910a0045138b49d59ef",
              "IPY_MODEL_6b1f9dbf89f84f1da6df2350e76d6ee9",
              "IPY_MODEL_c4ba176e2d9941119ce9ed90f7be6b7d"
            ]
          }
        },
        "22e3d1f0e75641cc81e3a6b4abc1e69c": {
          "model_module": "@jupyter-widgets/base",
          "model_name": "LayoutModel",
          "model_module_version": "1.2.0",
          "state": {
            "_view_name": "LayoutView",
            "grid_template_rows": null,
            "right": null,
            "justify_content": null,
            "_view_module": "@jupyter-widgets/base",
            "overflow": null,
            "_model_module_version": "1.2.0",
            "_view_count": null,
            "flex_flow": null,
            "width": null,
            "min_width": null,
            "border": null,
            "align_items": null,
            "bottom": null,
            "_model_module": "@jupyter-widgets/base",
            "top": null,
            "grid_column": null,
            "overflow_y": null,
            "overflow_x": null,
            "grid_auto_flow": null,
            "grid_area": null,
            "grid_template_columns": null,
            "flex": null,
            "_model_name": "LayoutModel",
            "justify_items": null,
            "grid_row": null,
            "max_height": null,
            "align_content": null,
            "visibility": null,
            "align_self": null,
            "height": null,
            "min_height": null,
            "padding": null,
            "grid_auto_rows": null,
            "grid_gap": null,
            "max_width": null,
            "order": null,
            "_view_module_version": "1.2.0",
            "grid_template_areas": null,
            "object_position": null,
            "object_fit": null,
            "grid_auto_columns": null,
            "margin": null,
            "display": null,
            "left": null
          }
        },
        "940640b388e74910a0045138b49d59ef": {
          "model_module": "@jupyter-widgets/controls",
          "model_name": "HTMLModel",
          "model_module_version": "1.5.0",
          "state": {
            "_view_name": "HTMLView",
            "style": "IPY_MODEL_678e7186f5684dd4bba12f020352e690",
            "_dom_classes": [],
            "description": "",
            "_model_name": "HTMLModel",
            "placeholder": "​",
            "_view_module": "@jupyter-widgets/controls",
            "_model_module_version": "1.5.0",
            "value": "100%",
            "_view_count": null,
            "_view_module_version": "1.5.0",
            "description_tooltip": null,
            "_model_module": "@jupyter-widgets/controls",
            "layout": "IPY_MODEL_e5309416af094e97a936cf9bb4ae9d39"
          }
        },
        "6b1f9dbf89f84f1da6df2350e76d6ee9": {
          "model_module": "@jupyter-widgets/controls",
          "model_name": "FloatProgressModel",
          "model_module_version": "1.5.0",
          "state": {
            "_view_name": "ProgressView",
            "style": "IPY_MODEL_56e740effd37407f9ed1e06986d2899a",
            "_dom_classes": [],
            "description": "",
            "_model_name": "FloatProgressModel",
            "bar_style": "success",
            "max": 2,
            "_view_module": "@jupyter-widgets/controls",
            "_model_module_version": "1.5.0",
            "value": 2,
            "_view_count": null,
            "_view_module_version": "1.5.0",
            "orientation": "horizontal",
            "min": 0,
            "description_tooltip": null,
            "_model_module": "@jupyter-widgets/controls",
            "layout": "IPY_MODEL_5f551efa93bb4e4babcc8fcd7d330894"
          }
        },
        "c4ba176e2d9941119ce9ed90f7be6b7d": {
          "model_module": "@jupyter-widgets/controls",
          "model_name": "HTMLModel",
          "model_module_version": "1.5.0",
          "state": {
            "_view_name": "HTMLView",
            "style": "IPY_MODEL_45a2cecf36064461ae6ea46da3b31f62",
            "_dom_classes": [],
            "description": "",
            "_model_name": "HTMLModel",
            "placeholder": "​",
            "_view_module": "@jupyter-widgets/controls",
            "_model_module_version": "1.5.0",
            "value": " 2/2 [00:00&lt;00:00, 60.81it/s]",
            "_view_count": null,
            "_view_module_version": "1.5.0",
            "description_tooltip": null,
            "_model_module": "@jupyter-widgets/controls",
            "layout": "IPY_MODEL_dc36eec282fa4bfb8b63530b7199a86e"
          }
        },
        "678e7186f5684dd4bba12f020352e690": {
          "model_module": "@jupyter-widgets/controls",
          "model_name": "DescriptionStyleModel",
          "model_module_version": "1.5.0",
          "state": {
            "_view_name": "StyleView",
            "_model_name": "DescriptionStyleModel",
            "description_width": "",
            "_view_module": "@jupyter-widgets/base",
            "_model_module_version": "1.5.0",
            "_view_count": null,
            "_view_module_version": "1.2.0",
            "_model_module": "@jupyter-widgets/controls"
          }
        },
        "e5309416af094e97a936cf9bb4ae9d39": {
          "model_module": "@jupyter-widgets/base",
          "model_name": "LayoutModel",
          "model_module_version": "1.2.0",
          "state": {
            "_view_name": "LayoutView",
            "grid_template_rows": null,
            "right": null,
            "justify_content": null,
            "_view_module": "@jupyter-widgets/base",
            "overflow": null,
            "_model_module_version": "1.2.0",
            "_view_count": null,
            "flex_flow": null,
            "width": null,
            "min_width": null,
            "border": null,
            "align_items": null,
            "bottom": null,
            "_model_module": "@jupyter-widgets/base",
            "top": null,
            "grid_column": null,
            "overflow_y": null,
            "overflow_x": null,
            "grid_auto_flow": null,
            "grid_area": null,
            "grid_template_columns": null,
            "flex": null,
            "_model_name": "LayoutModel",
            "justify_items": null,
            "grid_row": null,
            "max_height": null,
            "align_content": null,
            "visibility": null,
            "align_self": null,
            "height": null,
            "min_height": null,
            "padding": null,
            "grid_auto_rows": null,
            "grid_gap": null,
            "max_width": null,
            "order": null,
            "_view_module_version": "1.2.0",
            "grid_template_areas": null,
            "object_position": null,
            "object_fit": null,
            "grid_auto_columns": null,
            "margin": null,
            "display": null,
            "left": null
          }
        },
        "56e740effd37407f9ed1e06986d2899a": {
          "model_module": "@jupyter-widgets/controls",
          "model_name": "ProgressStyleModel",
          "model_module_version": "1.5.0",
          "state": {
            "_view_name": "StyleView",
            "_model_name": "ProgressStyleModel",
            "description_width": "",
            "_view_module": "@jupyter-widgets/base",
            "_model_module_version": "1.5.0",
            "_view_count": null,
            "_view_module_version": "1.2.0",
            "bar_color": null,
            "_model_module": "@jupyter-widgets/controls"
          }
        },
        "5f551efa93bb4e4babcc8fcd7d330894": {
          "model_module": "@jupyter-widgets/base",
          "model_name": "LayoutModel",
          "model_module_version": "1.2.0",
          "state": {
            "_view_name": "LayoutView",
            "grid_template_rows": null,
            "right": null,
            "justify_content": null,
            "_view_module": "@jupyter-widgets/base",
            "overflow": null,
            "_model_module_version": "1.2.0",
            "_view_count": null,
            "flex_flow": null,
            "width": null,
            "min_width": null,
            "border": null,
            "align_items": null,
            "bottom": null,
            "_model_module": "@jupyter-widgets/base",
            "top": null,
            "grid_column": null,
            "overflow_y": null,
            "overflow_x": null,
            "grid_auto_flow": null,
            "grid_area": null,
            "grid_template_columns": null,
            "flex": null,
            "_model_name": "LayoutModel",
            "justify_items": null,
            "grid_row": null,
            "max_height": null,
            "align_content": null,
            "visibility": null,
            "align_self": null,
            "height": null,
            "min_height": null,
            "padding": null,
            "grid_auto_rows": null,
            "grid_gap": null,
            "max_width": null,
            "order": null,
            "_view_module_version": "1.2.0",
            "grid_template_areas": null,
            "object_position": null,
            "object_fit": null,
            "grid_auto_columns": null,
            "margin": null,
            "display": null,
            "left": null
          }
        },
        "45a2cecf36064461ae6ea46da3b31f62": {
          "model_module": "@jupyter-widgets/controls",
          "model_name": "DescriptionStyleModel",
          "model_module_version": "1.5.0",
          "state": {
            "_view_name": "StyleView",
            "_model_name": "DescriptionStyleModel",
            "description_width": "",
            "_view_module": "@jupyter-widgets/base",
            "_model_module_version": "1.5.0",
            "_view_count": null,
            "_view_module_version": "1.2.0",
            "_model_module": "@jupyter-widgets/controls"
          }
        },
        "dc36eec282fa4bfb8b63530b7199a86e": {
          "model_module": "@jupyter-widgets/base",
          "model_name": "LayoutModel",
          "model_module_version": "1.2.0",
          "state": {
            "_view_name": "LayoutView",
            "grid_template_rows": null,
            "right": null,
            "justify_content": null,
            "_view_module": "@jupyter-widgets/base",
            "overflow": null,
            "_model_module_version": "1.2.0",
            "_view_count": null,
            "flex_flow": null,
            "width": null,
            "min_width": null,
            "border": null,
            "align_items": null,
            "bottom": null,
            "_model_module": "@jupyter-widgets/base",
            "top": null,
            "grid_column": null,
            "overflow_y": null,
            "overflow_x": null,
            "grid_auto_flow": null,
            "grid_area": null,
            "grid_template_columns": null,
            "flex": null,
            "_model_name": "LayoutModel",
            "justify_items": null,
            "grid_row": null,
            "max_height": null,
            "align_content": null,
            "visibility": null,
            "align_self": null,
            "height": null,
            "min_height": null,
            "padding": null,
            "grid_auto_rows": null,
            "grid_gap": null,
            "max_width": null,
            "order": null,
            "_view_module_version": "1.2.0",
            "grid_template_areas": null,
            "object_position": null,
            "object_fit": null,
            "grid_auto_columns": null,
            "margin": null,
            "display": null,
            "left": null
          }
        },
        "7a45f95aa5ce47faaea1270f656c2afe": {
          "model_module": "@jupyter-widgets/controls",
          "model_name": "HBoxModel",
          "model_module_version": "1.5.0",
          "state": {
            "_view_name": "HBoxView",
            "_dom_classes": [],
            "_model_name": "HBoxModel",
            "_view_module": "@jupyter-widgets/controls",
            "_model_module_version": "1.5.0",
            "_view_count": null,
            "_view_module_version": "1.5.0",
            "box_style": "",
            "layout": "IPY_MODEL_2951ff02741249fc97adbf6c0dbace2b",
            "_model_module": "@jupyter-widgets/controls",
            "children": [
              "IPY_MODEL_585e33a290ad4f93afacc7456213c7a2",
              "IPY_MODEL_a4df1b831b5a4a1ab4e9634dad4076f1",
              "IPY_MODEL_fc6b8d734d994e83a27412da6efda010"
            ]
          }
        },
        "2951ff02741249fc97adbf6c0dbace2b": {
          "model_module": "@jupyter-widgets/base",
          "model_name": "LayoutModel",
          "model_module_version": "1.2.0",
          "state": {
            "_view_name": "LayoutView",
            "grid_template_rows": null,
            "right": null,
            "justify_content": null,
            "_view_module": "@jupyter-widgets/base",
            "overflow": null,
            "_model_module_version": "1.2.0",
            "_view_count": null,
            "flex_flow": null,
            "width": null,
            "min_width": null,
            "border": null,
            "align_items": null,
            "bottom": null,
            "_model_module": "@jupyter-widgets/base",
            "top": null,
            "grid_column": null,
            "overflow_y": null,
            "overflow_x": null,
            "grid_auto_flow": null,
            "grid_area": null,
            "grid_template_columns": null,
            "flex": null,
            "_model_name": "LayoutModel",
            "justify_items": null,
            "grid_row": null,
            "max_height": null,
            "align_content": null,
            "visibility": null,
            "align_self": null,
            "height": null,
            "min_height": null,
            "padding": null,
            "grid_auto_rows": null,
            "grid_gap": null,
            "max_width": null,
            "order": null,
            "_view_module_version": "1.2.0",
            "grid_template_areas": null,
            "object_position": null,
            "object_fit": null,
            "grid_auto_columns": null,
            "margin": null,
            "display": null,
            "left": null
          }
        },
        "585e33a290ad4f93afacc7456213c7a2": {
          "model_module": "@jupyter-widgets/controls",
          "model_name": "HTMLModel",
          "model_module_version": "1.5.0",
          "state": {
            "_view_name": "HTMLView",
            "style": "IPY_MODEL_ecec12368524457c98b8ddc92c057fc4",
            "_dom_classes": [],
            "description": "",
            "_model_name": "HTMLModel",
            "placeholder": "​",
            "_view_module": "@jupyter-widgets/controls",
            "_model_module_version": "1.5.0",
            "value": "100%",
            "_view_count": null,
            "_view_module_version": "1.5.0",
            "description_tooltip": null,
            "_model_module": "@jupyter-widgets/controls",
            "layout": "IPY_MODEL_1122ee4f9ed74b1494e5cc3986cb66a1"
          }
        },
        "a4df1b831b5a4a1ab4e9634dad4076f1": {
          "model_module": "@jupyter-widgets/controls",
          "model_name": "FloatProgressModel",
          "model_module_version": "1.5.0",
          "state": {
            "_view_name": "ProgressView",
            "style": "IPY_MODEL_043c25c41a3540ae8a11d0b016c05aaa",
            "_dom_classes": [],
            "description": "",
            "_model_name": "FloatProgressModel",
            "bar_style": "success",
            "max": 2,
            "_view_module": "@jupyter-widgets/controls",
            "_model_module_version": "1.5.0",
            "value": 2,
            "_view_count": null,
            "_view_module_version": "1.5.0",
            "orientation": "horizontal",
            "min": 0,
            "description_tooltip": null,
            "_model_module": "@jupyter-widgets/controls",
            "layout": "IPY_MODEL_eefe061a376f4bb2aac8a6dd2a2a992f"
          }
        },
        "fc6b8d734d994e83a27412da6efda010": {
          "model_module": "@jupyter-widgets/controls",
          "model_name": "HTMLModel",
          "model_module_version": "1.5.0",
          "state": {
            "_view_name": "HTMLView",
            "style": "IPY_MODEL_97a18d8c1e884acd959a756b12bd0514",
            "_dom_classes": [],
            "description": "",
            "_model_name": "HTMLModel",
            "placeholder": "​",
            "_view_module": "@jupyter-widgets/controls",
            "_model_module_version": "1.5.0",
            "value": " 2/2 [00:00&lt;00:00, 55.93it/s]",
            "_view_count": null,
            "_view_module_version": "1.5.0",
            "description_tooltip": null,
            "_model_module": "@jupyter-widgets/controls",
            "layout": "IPY_MODEL_48acf16a7d5a4244bc17d619400c99ca"
          }
        },
        "ecec12368524457c98b8ddc92c057fc4": {
          "model_module": "@jupyter-widgets/controls",
          "model_name": "DescriptionStyleModel",
          "model_module_version": "1.5.0",
          "state": {
            "_view_name": "StyleView",
            "_model_name": "DescriptionStyleModel",
            "description_width": "",
            "_view_module": "@jupyter-widgets/base",
            "_model_module_version": "1.5.0",
            "_view_count": null,
            "_view_module_version": "1.2.0",
            "_model_module": "@jupyter-widgets/controls"
          }
        },
        "1122ee4f9ed74b1494e5cc3986cb66a1": {
          "model_module": "@jupyter-widgets/base",
          "model_name": "LayoutModel",
          "model_module_version": "1.2.0",
          "state": {
            "_view_name": "LayoutView",
            "grid_template_rows": null,
            "right": null,
            "justify_content": null,
            "_view_module": "@jupyter-widgets/base",
            "overflow": null,
            "_model_module_version": "1.2.0",
            "_view_count": null,
            "flex_flow": null,
            "width": null,
            "min_width": null,
            "border": null,
            "align_items": null,
            "bottom": null,
            "_model_module": "@jupyter-widgets/base",
            "top": null,
            "grid_column": null,
            "overflow_y": null,
            "overflow_x": null,
            "grid_auto_flow": null,
            "grid_area": null,
            "grid_template_columns": null,
            "flex": null,
            "_model_name": "LayoutModel",
            "justify_items": null,
            "grid_row": null,
            "max_height": null,
            "align_content": null,
            "visibility": null,
            "align_self": null,
            "height": null,
            "min_height": null,
            "padding": null,
            "grid_auto_rows": null,
            "grid_gap": null,
            "max_width": null,
            "order": null,
            "_view_module_version": "1.2.0",
            "grid_template_areas": null,
            "object_position": null,
            "object_fit": null,
            "grid_auto_columns": null,
            "margin": null,
            "display": null,
            "left": null
          }
        },
        "043c25c41a3540ae8a11d0b016c05aaa": {
          "model_module": "@jupyter-widgets/controls",
          "model_name": "ProgressStyleModel",
          "model_module_version": "1.5.0",
          "state": {
            "_view_name": "StyleView",
            "_model_name": "ProgressStyleModel",
            "description_width": "",
            "_view_module": "@jupyter-widgets/base",
            "_model_module_version": "1.5.0",
            "_view_count": null,
            "_view_module_version": "1.2.0",
            "bar_color": null,
            "_model_module": "@jupyter-widgets/controls"
          }
        },
        "eefe061a376f4bb2aac8a6dd2a2a992f": {
          "model_module": "@jupyter-widgets/base",
          "model_name": "LayoutModel",
          "model_module_version": "1.2.0",
          "state": {
            "_view_name": "LayoutView",
            "grid_template_rows": null,
            "right": null,
            "justify_content": null,
            "_view_module": "@jupyter-widgets/base",
            "overflow": null,
            "_model_module_version": "1.2.0",
            "_view_count": null,
            "flex_flow": null,
            "width": null,
            "min_width": null,
            "border": null,
            "align_items": null,
            "bottom": null,
            "_model_module": "@jupyter-widgets/base",
            "top": null,
            "grid_column": null,
            "overflow_y": null,
            "overflow_x": null,
            "grid_auto_flow": null,
            "grid_area": null,
            "grid_template_columns": null,
            "flex": null,
            "_model_name": "LayoutModel",
            "justify_items": null,
            "grid_row": null,
            "max_height": null,
            "align_content": null,
            "visibility": null,
            "align_self": null,
            "height": null,
            "min_height": null,
            "padding": null,
            "grid_auto_rows": null,
            "grid_gap": null,
            "max_width": null,
            "order": null,
            "_view_module_version": "1.2.0",
            "grid_template_areas": null,
            "object_position": null,
            "object_fit": null,
            "grid_auto_columns": null,
            "margin": null,
            "display": null,
            "left": null
          }
        },
        "97a18d8c1e884acd959a756b12bd0514": {
          "model_module": "@jupyter-widgets/controls",
          "model_name": "DescriptionStyleModel",
          "model_module_version": "1.5.0",
          "state": {
            "_view_name": "StyleView",
            "_model_name": "DescriptionStyleModel",
            "description_width": "",
            "_view_module": "@jupyter-widgets/base",
            "_model_module_version": "1.5.0",
            "_view_count": null,
            "_view_module_version": "1.2.0",
            "_model_module": "@jupyter-widgets/controls"
          }
        },
        "48acf16a7d5a4244bc17d619400c99ca": {
          "model_module": "@jupyter-widgets/base",
          "model_name": "LayoutModel",
          "model_module_version": "1.2.0",
          "state": {
            "_view_name": "LayoutView",
            "grid_template_rows": null,
            "right": null,
            "justify_content": null,
            "_view_module": "@jupyter-widgets/base",
            "overflow": null,
            "_model_module_version": "1.2.0",
            "_view_count": null,
            "flex_flow": null,
            "width": null,
            "min_width": null,
            "border": null,
            "align_items": null,
            "bottom": null,
            "_model_module": "@jupyter-widgets/base",
            "top": null,
            "grid_column": null,
            "overflow_y": null,
            "overflow_x": null,
            "grid_auto_flow": null,
            "grid_area": null,
            "grid_template_columns": null,
            "flex": null,
            "_model_name": "LayoutModel",
            "justify_items": null,
            "grid_row": null,
            "max_height": null,
            "align_content": null,
            "visibility": null,
            "align_self": null,
            "height": null,
            "min_height": null,
            "padding": null,
            "grid_auto_rows": null,
            "grid_gap": null,
            "max_width": null,
            "order": null,
            "_view_module_version": "1.2.0",
            "grid_template_areas": null,
            "object_position": null,
            "object_fit": null,
            "grid_auto_columns": null,
            "margin": null,
            "display": null,
            "left": null
          }
        },
        "904a94f2c7d34e3896752fd64dd7b02b": {
          "model_module": "@jupyter-widgets/controls",
          "model_name": "HBoxModel",
          "model_module_version": "1.5.0",
          "state": {
            "_view_name": "HBoxView",
            "_dom_classes": [],
            "_model_name": "HBoxModel",
            "_view_module": "@jupyter-widgets/controls",
            "_model_module_version": "1.5.0",
            "_view_count": null,
            "_view_module_version": "1.5.0",
            "box_style": "",
            "layout": "IPY_MODEL_e34f28b0d06e46e6ab6c359ea7bcbe97",
            "_model_module": "@jupyter-widgets/controls",
            "children": [
              "IPY_MODEL_8250ddf4d094435ba7a58b43517d561b",
              "IPY_MODEL_c20be96644644be58fef289330339547",
              "IPY_MODEL_1c45ba6698c244b4add8887a9f10e7b2"
            ]
          }
        },
        "e34f28b0d06e46e6ab6c359ea7bcbe97": {
          "model_module": "@jupyter-widgets/base",
          "model_name": "LayoutModel",
          "model_module_version": "1.2.0",
          "state": {
            "_view_name": "LayoutView",
            "grid_template_rows": null,
            "right": null,
            "justify_content": null,
            "_view_module": "@jupyter-widgets/base",
            "overflow": null,
            "_model_module_version": "1.2.0",
            "_view_count": null,
            "flex_flow": null,
            "width": null,
            "min_width": null,
            "border": null,
            "align_items": null,
            "bottom": null,
            "_model_module": "@jupyter-widgets/base",
            "top": null,
            "grid_column": null,
            "overflow_y": null,
            "overflow_x": null,
            "grid_auto_flow": null,
            "grid_area": null,
            "grid_template_columns": null,
            "flex": null,
            "_model_name": "LayoutModel",
            "justify_items": null,
            "grid_row": null,
            "max_height": null,
            "align_content": null,
            "visibility": null,
            "align_self": null,
            "height": null,
            "min_height": null,
            "padding": null,
            "grid_auto_rows": null,
            "grid_gap": null,
            "max_width": null,
            "order": null,
            "_view_module_version": "1.2.0",
            "grid_template_areas": null,
            "object_position": null,
            "object_fit": null,
            "grid_auto_columns": null,
            "margin": null,
            "display": null,
            "left": null
          }
        },
        "8250ddf4d094435ba7a58b43517d561b": {
          "model_module": "@jupyter-widgets/controls",
          "model_name": "HTMLModel",
          "model_module_version": "1.5.0",
          "state": {
            "_view_name": "HTMLView",
            "style": "IPY_MODEL_f91e9fa004854ff183d3130b165d53fb",
            "_dom_classes": [],
            "description": "",
            "_model_name": "HTMLModel",
            "placeholder": "​",
            "_view_module": "@jupyter-widgets/controls",
            "_model_module_version": "1.5.0",
            "value": "Downloading: 100%",
            "_view_count": null,
            "_view_module_version": "1.5.0",
            "description_tooltip": null,
            "_model_module": "@jupyter-widgets/controls",
            "layout": "IPY_MODEL_65d228e38c5340709e96fa3eedac6648"
          }
        },
        "c20be96644644be58fef289330339547": {
          "model_module": "@jupyter-widgets/controls",
          "model_name": "FloatProgressModel",
          "model_module_version": "1.5.0",
          "state": {
            "_view_name": "ProgressView",
            "style": "IPY_MODEL_14ed5e1b5c1a44ada71c927c49e08ba5",
            "_dom_classes": [],
            "description": "",
            "_model_name": "FloatProgressModel",
            "bar_style": "success",
            "max": 29,
            "_view_module": "@jupyter-widgets/controls",
            "_model_module_version": "1.5.0",
            "value": 29,
            "_view_count": null,
            "_view_module_version": "1.5.0",
            "orientation": "horizontal",
            "min": 0,
            "description_tooltip": null,
            "_model_module": "@jupyter-widgets/controls",
            "layout": "IPY_MODEL_d330fb082c1e4405a9de5456b2d00a92"
          }
        },
        "1c45ba6698c244b4add8887a9f10e7b2": {
          "model_module": "@jupyter-widgets/controls",
          "model_name": "HTMLModel",
          "model_module_version": "1.5.0",
          "state": {
            "_view_name": "HTMLView",
            "style": "IPY_MODEL_2a13fd4e692f4ea89a9dac2a54c2461d",
            "_dom_classes": [],
            "description": "",
            "_model_name": "HTMLModel",
            "placeholder": "​",
            "_view_module": "@jupyter-widgets/controls",
            "_model_module_version": "1.5.0",
            "value": " 29.0/29.0 [00:00&lt;00:00, 922B/s]",
            "_view_count": null,
            "_view_module_version": "1.5.0",
            "description_tooltip": null,
            "_model_module": "@jupyter-widgets/controls",
            "layout": "IPY_MODEL_51cfba49f5b64671905ac4777686b5c2"
          }
        },
        "f91e9fa004854ff183d3130b165d53fb": {
          "model_module": "@jupyter-widgets/controls",
          "model_name": "DescriptionStyleModel",
          "model_module_version": "1.5.0",
          "state": {
            "_view_name": "StyleView",
            "_model_name": "DescriptionStyleModel",
            "description_width": "",
            "_view_module": "@jupyter-widgets/base",
            "_model_module_version": "1.5.0",
            "_view_count": null,
            "_view_module_version": "1.2.0",
            "_model_module": "@jupyter-widgets/controls"
          }
        },
        "65d228e38c5340709e96fa3eedac6648": {
          "model_module": "@jupyter-widgets/base",
          "model_name": "LayoutModel",
          "model_module_version": "1.2.0",
          "state": {
            "_view_name": "LayoutView",
            "grid_template_rows": null,
            "right": null,
            "justify_content": null,
            "_view_module": "@jupyter-widgets/base",
            "overflow": null,
            "_model_module_version": "1.2.0",
            "_view_count": null,
            "flex_flow": null,
            "width": null,
            "min_width": null,
            "border": null,
            "align_items": null,
            "bottom": null,
            "_model_module": "@jupyter-widgets/base",
            "top": null,
            "grid_column": null,
            "overflow_y": null,
            "overflow_x": null,
            "grid_auto_flow": null,
            "grid_area": null,
            "grid_template_columns": null,
            "flex": null,
            "_model_name": "LayoutModel",
            "justify_items": null,
            "grid_row": null,
            "max_height": null,
            "align_content": null,
            "visibility": null,
            "align_self": null,
            "height": null,
            "min_height": null,
            "padding": null,
            "grid_auto_rows": null,
            "grid_gap": null,
            "max_width": null,
            "order": null,
            "_view_module_version": "1.2.0",
            "grid_template_areas": null,
            "object_position": null,
            "object_fit": null,
            "grid_auto_columns": null,
            "margin": null,
            "display": null,
            "left": null
          }
        },
        "14ed5e1b5c1a44ada71c927c49e08ba5": {
          "model_module": "@jupyter-widgets/controls",
          "model_name": "ProgressStyleModel",
          "model_module_version": "1.5.0",
          "state": {
            "_view_name": "StyleView",
            "_model_name": "ProgressStyleModel",
            "description_width": "",
            "_view_module": "@jupyter-widgets/base",
            "_model_module_version": "1.5.0",
            "_view_count": null,
            "_view_module_version": "1.2.0",
            "bar_color": null,
            "_model_module": "@jupyter-widgets/controls"
          }
        },
        "d330fb082c1e4405a9de5456b2d00a92": {
          "model_module": "@jupyter-widgets/base",
          "model_name": "LayoutModel",
          "model_module_version": "1.2.0",
          "state": {
            "_view_name": "LayoutView",
            "grid_template_rows": null,
            "right": null,
            "justify_content": null,
            "_view_module": "@jupyter-widgets/base",
            "overflow": null,
            "_model_module_version": "1.2.0",
            "_view_count": null,
            "flex_flow": null,
            "width": null,
            "min_width": null,
            "border": null,
            "align_items": null,
            "bottom": null,
            "_model_module": "@jupyter-widgets/base",
            "top": null,
            "grid_column": null,
            "overflow_y": null,
            "overflow_x": null,
            "grid_auto_flow": null,
            "grid_area": null,
            "grid_template_columns": null,
            "flex": null,
            "_model_name": "LayoutModel",
            "justify_items": null,
            "grid_row": null,
            "max_height": null,
            "align_content": null,
            "visibility": null,
            "align_self": null,
            "height": null,
            "min_height": null,
            "padding": null,
            "grid_auto_rows": null,
            "grid_gap": null,
            "max_width": null,
            "order": null,
            "_view_module_version": "1.2.0",
            "grid_template_areas": null,
            "object_position": null,
            "object_fit": null,
            "grid_auto_columns": null,
            "margin": null,
            "display": null,
            "left": null
          }
        },
        "2a13fd4e692f4ea89a9dac2a54c2461d": {
          "model_module": "@jupyter-widgets/controls",
          "model_name": "DescriptionStyleModel",
          "model_module_version": "1.5.0",
          "state": {
            "_view_name": "StyleView",
            "_model_name": "DescriptionStyleModel",
            "description_width": "",
            "_view_module": "@jupyter-widgets/base",
            "_model_module_version": "1.5.0",
            "_view_count": null,
            "_view_module_version": "1.2.0",
            "_model_module": "@jupyter-widgets/controls"
          }
        },
        "51cfba49f5b64671905ac4777686b5c2": {
          "model_module": "@jupyter-widgets/base",
          "model_name": "LayoutModel",
          "model_module_version": "1.2.0",
          "state": {
            "_view_name": "LayoutView",
            "grid_template_rows": null,
            "right": null,
            "justify_content": null,
            "_view_module": "@jupyter-widgets/base",
            "overflow": null,
            "_model_module_version": "1.2.0",
            "_view_count": null,
            "flex_flow": null,
            "width": null,
            "min_width": null,
            "border": null,
            "align_items": null,
            "bottom": null,
            "_model_module": "@jupyter-widgets/base",
            "top": null,
            "grid_column": null,
            "overflow_y": null,
            "overflow_x": null,
            "grid_auto_flow": null,
            "grid_area": null,
            "grid_template_columns": null,
            "flex": null,
            "_model_name": "LayoutModel",
            "justify_items": null,
            "grid_row": null,
            "max_height": null,
            "align_content": null,
            "visibility": null,
            "align_self": null,
            "height": null,
            "min_height": null,
            "padding": null,
            "grid_auto_rows": null,
            "grid_gap": null,
            "max_width": null,
            "order": null,
            "_view_module_version": "1.2.0",
            "grid_template_areas": null,
            "object_position": null,
            "object_fit": null,
            "grid_auto_columns": null,
            "margin": null,
            "display": null,
            "left": null
          }
        },
        "a33fc9f8194b48c9a47d0354a63b7797": {
          "model_module": "@jupyter-widgets/controls",
          "model_name": "HBoxModel",
          "model_module_version": "1.5.0",
          "state": {
            "_view_name": "HBoxView",
            "_dom_classes": [],
            "_model_name": "HBoxModel",
            "_view_module": "@jupyter-widgets/controls",
            "_model_module_version": "1.5.0",
            "_view_count": null,
            "_view_module_version": "1.5.0",
            "box_style": "",
            "layout": "IPY_MODEL_66855c34ff834c52951ec7458706a888",
            "_model_module": "@jupyter-widgets/controls",
            "children": [
              "IPY_MODEL_27d875c06ba940bc9d1f4133bff62eb0",
              "IPY_MODEL_6f80c0d5f838471398082a5b7da59f5a",
              "IPY_MODEL_30da09d58aab4e7f8eb3c81bf1b65447"
            ]
          }
        },
        "66855c34ff834c52951ec7458706a888": {
          "model_module": "@jupyter-widgets/base",
          "model_name": "LayoutModel",
          "model_module_version": "1.2.0",
          "state": {
            "_view_name": "LayoutView",
            "grid_template_rows": null,
            "right": null,
            "justify_content": null,
            "_view_module": "@jupyter-widgets/base",
            "overflow": null,
            "_model_module_version": "1.2.0",
            "_view_count": null,
            "flex_flow": null,
            "width": null,
            "min_width": null,
            "border": null,
            "align_items": null,
            "bottom": null,
            "_model_module": "@jupyter-widgets/base",
            "top": null,
            "grid_column": null,
            "overflow_y": null,
            "overflow_x": null,
            "grid_auto_flow": null,
            "grid_area": null,
            "grid_template_columns": null,
            "flex": null,
            "_model_name": "LayoutModel",
            "justify_items": null,
            "grid_row": null,
            "max_height": null,
            "align_content": null,
            "visibility": null,
            "align_self": null,
            "height": null,
            "min_height": null,
            "padding": null,
            "grid_auto_rows": null,
            "grid_gap": null,
            "max_width": null,
            "order": null,
            "_view_module_version": "1.2.0",
            "grid_template_areas": null,
            "object_position": null,
            "object_fit": null,
            "grid_auto_columns": null,
            "margin": null,
            "display": null,
            "left": null
          }
        },
        "27d875c06ba940bc9d1f4133bff62eb0": {
          "model_module": "@jupyter-widgets/controls",
          "model_name": "HTMLModel",
          "model_module_version": "1.5.0",
          "state": {
            "_view_name": "HTMLView",
            "style": "IPY_MODEL_9e61290f2baf4ded83af63a3793f28f0",
            "_dom_classes": [],
            "description": "",
            "_model_name": "HTMLModel",
            "placeholder": "​",
            "_view_module": "@jupyter-widgets/controls",
            "_model_module_version": "1.5.0",
            "value": "Downloading: 100%",
            "_view_count": null,
            "_view_module_version": "1.5.0",
            "description_tooltip": null,
            "_model_module": "@jupyter-widgets/controls",
            "layout": "IPY_MODEL_a6b555ca882348eab0cc5613981bfef1"
          }
        },
        "6f80c0d5f838471398082a5b7da59f5a": {
          "model_module": "@jupyter-widgets/controls",
          "model_name": "FloatProgressModel",
          "model_module_version": "1.5.0",
          "state": {
            "_view_name": "ProgressView",
            "style": "IPY_MODEL_a47521cd1b1f425aa344a53660bb6d2c",
            "_dom_classes": [],
            "description": "",
            "_model_name": "FloatProgressModel",
            "bar_style": "success",
            "max": 570,
            "_view_module": "@jupyter-widgets/controls",
            "_model_module_version": "1.5.0",
            "value": 570,
            "_view_count": null,
            "_view_module_version": "1.5.0",
            "orientation": "horizontal",
            "min": 0,
            "description_tooltip": null,
            "_model_module": "@jupyter-widgets/controls",
            "layout": "IPY_MODEL_615bdaf4b117483c80914e485da86c95"
          }
        },
        "30da09d58aab4e7f8eb3c81bf1b65447": {
          "model_module": "@jupyter-widgets/controls",
          "model_name": "HTMLModel",
          "model_module_version": "1.5.0",
          "state": {
            "_view_name": "HTMLView",
            "style": "IPY_MODEL_aaaae861289b4c9fbbe5bc6123007b8f",
            "_dom_classes": [],
            "description": "",
            "_model_name": "HTMLModel",
            "placeholder": "​",
            "_view_module": "@jupyter-widgets/controls",
            "_model_module_version": "1.5.0",
            "value": " 570/570 [00:00&lt;00:00, 17.6kB/s]",
            "_view_count": null,
            "_view_module_version": "1.5.0",
            "description_tooltip": null,
            "_model_module": "@jupyter-widgets/controls",
            "layout": "IPY_MODEL_c63a0e4d520d450e8aa94e4af49db970"
          }
        },
        "9e61290f2baf4ded83af63a3793f28f0": {
          "model_module": "@jupyter-widgets/controls",
          "model_name": "DescriptionStyleModel",
          "model_module_version": "1.5.0",
          "state": {
            "_view_name": "StyleView",
            "_model_name": "DescriptionStyleModel",
            "description_width": "",
            "_view_module": "@jupyter-widgets/base",
            "_model_module_version": "1.5.0",
            "_view_count": null,
            "_view_module_version": "1.2.0",
            "_model_module": "@jupyter-widgets/controls"
          }
        },
        "a6b555ca882348eab0cc5613981bfef1": {
          "model_module": "@jupyter-widgets/base",
          "model_name": "LayoutModel",
          "model_module_version": "1.2.0",
          "state": {
            "_view_name": "LayoutView",
            "grid_template_rows": null,
            "right": null,
            "justify_content": null,
            "_view_module": "@jupyter-widgets/base",
            "overflow": null,
            "_model_module_version": "1.2.0",
            "_view_count": null,
            "flex_flow": null,
            "width": null,
            "min_width": null,
            "border": null,
            "align_items": null,
            "bottom": null,
            "_model_module": "@jupyter-widgets/base",
            "top": null,
            "grid_column": null,
            "overflow_y": null,
            "overflow_x": null,
            "grid_auto_flow": null,
            "grid_area": null,
            "grid_template_columns": null,
            "flex": null,
            "_model_name": "LayoutModel",
            "justify_items": null,
            "grid_row": null,
            "max_height": null,
            "align_content": null,
            "visibility": null,
            "align_self": null,
            "height": null,
            "min_height": null,
            "padding": null,
            "grid_auto_rows": null,
            "grid_gap": null,
            "max_width": null,
            "order": null,
            "_view_module_version": "1.2.0",
            "grid_template_areas": null,
            "object_position": null,
            "object_fit": null,
            "grid_auto_columns": null,
            "margin": null,
            "display": null,
            "left": null
          }
        },
        "a47521cd1b1f425aa344a53660bb6d2c": {
          "model_module": "@jupyter-widgets/controls",
          "model_name": "ProgressStyleModel",
          "model_module_version": "1.5.0",
          "state": {
            "_view_name": "StyleView",
            "_model_name": "ProgressStyleModel",
            "description_width": "",
            "_view_module": "@jupyter-widgets/base",
            "_model_module_version": "1.5.0",
            "_view_count": null,
            "_view_module_version": "1.2.0",
            "bar_color": null,
            "_model_module": "@jupyter-widgets/controls"
          }
        },
        "615bdaf4b117483c80914e485da86c95": {
          "model_module": "@jupyter-widgets/base",
          "model_name": "LayoutModel",
          "model_module_version": "1.2.0",
          "state": {
            "_view_name": "LayoutView",
            "grid_template_rows": null,
            "right": null,
            "justify_content": null,
            "_view_module": "@jupyter-widgets/base",
            "overflow": null,
            "_model_module_version": "1.2.0",
            "_view_count": null,
            "flex_flow": null,
            "width": null,
            "min_width": null,
            "border": null,
            "align_items": null,
            "bottom": null,
            "_model_module": "@jupyter-widgets/base",
            "top": null,
            "grid_column": null,
            "overflow_y": null,
            "overflow_x": null,
            "grid_auto_flow": null,
            "grid_area": null,
            "grid_template_columns": null,
            "flex": null,
            "_model_name": "LayoutModel",
            "justify_items": null,
            "grid_row": null,
            "max_height": null,
            "align_content": null,
            "visibility": null,
            "align_self": null,
            "height": null,
            "min_height": null,
            "padding": null,
            "grid_auto_rows": null,
            "grid_gap": null,
            "max_width": null,
            "order": null,
            "_view_module_version": "1.2.0",
            "grid_template_areas": null,
            "object_position": null,
            "object_fit": null,
            "grid_auto_columns": null,
            "margin": null,
            "display": null,
            "left": null
          }
        },
        "aaaae861289b4c9fbbe5bc6123007b8f": {
          "model_module": "@jupyter-widgets/controls",
          "model_name": "DescriptionStyleModel",
          "model_module_version": "1.5.0",
          "state": {
            "_view_name": "StyleView",
            "_model_name": "DescriptionStyleModel",
            "description_width": "",
            "_view_module": "@jupyter-widgets/base",
            "_model_module_version": "1.5.0",
            "_view_count": null,
            "_view_module_version": "1.2.0",
            "_model_module": "@jupyter-widgets/controls"
          }
        },
        "c63a0e4d520d450e8aa94e4af49db970": {
          "model_module": "@jupyter-widgets/base",
          "model_name": "LayoutModel",
          "model_module_version": "1.2.0",
          "state": {
            "_view_name": "LayoutView",
            "grid_template_rows": null,
            "right": null,
            "justify_content": null,
            "_view_module": "@jupyter-widgets/base",
            "overflow": null,
            "_model_module_version": "1.2.0",
            "_view_count": null,
            "flex_flow": null,
            "width": null,
            "min_width": null,
            "border": null,
            "align_items": null,
            "bottom": null,
            "_model_module": "@jupyter-widgets/base",
            "top": null,
            "grid_column": null,
            "overflow_y": null,
            "overflow_x": null,
            "grid_auto_flow": null,
            "grid_area": null,
            "grid_template_columns": null,
            "flex": null,
            "_model_name": "LayoutModel",
            "justify_items": null,
            "grid_row": null,
            "max_height": null,
            "align_content": null,
            "visibility": null,
            "align_self": null,
            "height": null,
            "min_height": null,
            "padding": null,
            "grid_auto_rows": null,
            "grid_gap": null,
            "max_width": null,
            "order": null,
            "_view_module_version": "1.2.0",
            "grid_template_areas": null,
            "object_position": null,
            "object_fit": null,
            "grid_auto_columns": null,
            "margin": null,
            "display": null,
            "left": null
          }
        },
        "82b22b4e33fe4a48b868f07cd2d687cf": {
          "model_module": "@jupyter-widgets/controls",
          "model_name": "HBoxModel",
          "model_module_version": "1.5.0",
          "state": {
            "_view_name": "HBoxView",
            "_dom_classes": [],
            "_model_name": "HBoxModel",
            "_view_module": "@jupyter-widgets/controls",
            "_model_module_version": "1.5.0",
            "_view_count": null,
            "_view_module_version": "1.5.0",
            "box_style": "",
            "layout": "IPY_MODEL_857fe554d5644f16b8a775384648fb52",
            "_model_module": "@jupyter-widgets/controls",
            "children": [
              "IPY_MODEL_be6ddaf6a1db418a9f442514ae8e5fd0",
              "IPY_MODEL_2ecb3f1903974698b7475e976da8cc3a",
              "IPY_MODEL_e340f746bd8d45e3a6b91b93ee4ab7b9"
            ]
          }
        },
        "857fe554d5644f16b8a775384648fb52": {
          "model_module": "@jupyter-widgets/base",
          "model_name": "LayoutModel",
          "model_module_version": "1.2.0",
          "state": {
            "_view_name": "LayoutView",
            "grid_template_rows": null,
            "right": null,
            "justify_content": null,
            "_view_module": "@jupyter-widgets/base",
            "overflow": null,
            "_model_module_version": "1.2.0",
            "_view_count": null,
            "flex_flow": null,
            "width": null,
            "min_width": null,
            "border": null,
            "align_items": null,
            "bottom": null,
            "_model_module": "@jupyter-widgets/base",
            "top": null,
            "grid_column": null,
            "overflow_y": null,
            "overflow_x": null,
            "grid_auto_flow": null,
            "grid_area": null,
            "grid_template_columns": null,
            "flex": null,
            "_model_name": "LayoutModel",
            "justify_items": null,
            "grid_row": null,
            "max_height": null,
            "align_content": null,
            "visibility": null,
            "align_self": null,
            "height": null,
            "min_height": null,
            "padding": null,
            "grid_auto_rows": null,
            "grid_gap": null,
            "max_width": null,
            "order": null,
            "_view_module_version": "1.2.0",
            "grid_template_areas": null,
            "object_position": null,
            "object_fit": null,
            "grid_auto_columns": null,
            "margin": null,
            "display": null,
            "left": null
          }
        },
        "be6ddaf6a1db418a9f442514ae8e5fd0": {
          "model_module": "@jupyter-widgets/controls",
          "model_name": "HTMLModel",
          "model_module_version": "1.5.0",
          "state": {
            "_view_name": "HTMLView",
            "style": "IPY_MODEL_0fc30112a3404cc986fc40def2a9fe2a",
            "_dom_classes": [],
            "description": "",
            "_model_name": "HTMLModel",
            "placeholder": "​",
            "_view_module": "@jupyter-widgets/controls",
            "_model_module_version": "1.5.0",
            "value": "Downloading: 100%",
            "_view_count": null,
            "_view_module_version": "1.5.0",
            "description_tooltip": null,
            "_model_module": "@jupyter-widgets/controls",
            "layout": "IPY_MODEL_11b33f6bd35d45d6aac7d02f2adc4d26"
          }
        },
        "2ecb3f1903974698b7475e976da8cc3a": {
          "model_module": "@jupyter-widgets/controls",
          "model_name": "FloatProgressModel",
          "model_module_version": "1.5.0",
          "state": {
            "_view_name": "ProgressView",
            "style": "IPY_MODEL_ab4f17475900446ba701b25cc4f69c13",
            "_dom_classes": [],
            "description": "",
            "_model_name": "FloatProgressModel",
            "bar_style": "success",
            "max": 213450,
            "_view_module": "@jupyter-widgets/controls",
            "_model_module_version": "1.5.0",
            "value": 213450,
            "_view_count": null,
            "_view_module_version": "1.5.0",
            "orientation": "horizontal",
            "min": 0,
            "description_tooltip": null,
            "_model_module": "@jupyter-widgets/controls",
            "layout": "IPY_MODEL_9335c9ec536747c2aa868065b53d9183"
          }
        },
        "e340f746bd8d45e3a6b91b93ee4ab7b9": {
          "model_module": "@jupyter-widgets/controls",
          "model_name": "HTMLModel",
          "model_module_version": "1.5.0",
          "state": {
            "_view_name": "HTMLView",
            "style": "IPY_MODEL_1dd7035a95a74219b109a2992aece0f6",
            "_dom_classes": [],
            "description": "",
            "_model_name": "HTMLModel",
            "placeholder": "​",
            "_view_module": "@jupyter-widgets/controls",
            "_model_module_version": "1.5.0",
            "value": " 208k/208k [00:00&lt;00:00, 858kB/s]",
            "_view_count": null,
            "_view_module_version": "1.5.0",
            "description_tooltip": null,
            "_model_module": "@jupyter-widgets/controls",
            "layout": "IPY_MODEL_fcef6a9f1c584ec4990c994f6addf26c"
          }
        },
        "0fc30112a3404cc986fc40def2a9fe2a": {
          "model_module": "@jupyter-widgets/controls",
          "model_name": "DescriptionStyleModel",
          "model_module_version": "1.5.0",
          "state": {
            "_view_name": "StyleView",
            "_model_name": "DescriptionStyleModel",
            "description_width": "",
            "_view_module": "@jupyter-widgets/base",
            "_model_module_version": "1.5.0",
            "_view_count": null,
            "_view_module_version": "1.2.0",
            "_model_module": "@jupyter-widgets/controls"
          }
        },
        "11b33f6bd35d45d6aac7d02f2adc4d26": {
          "model_module": "@jupyter-widgets/base",
          "model_name": "LayoutModel",
          "model_module_version": "1.2.0",
          "state": {
            "_view_name": "LayoutView",
            "grid_template_rows": null,
            "right": null,
            "justify_content": null,
            "_view_module": "@jupyter-widgets/base",
            "overflow": null,
            "_model_module_version": "1.2.0",
            "_view_count": null,
            "flex_flow": null,
            "width": null,
            "min_width": null,
            "border": null,
            "align_items": null,
            "bottom": null,
            "_model_module": "@jupyter-widgets/base",
            "top": null,
            "grid_column": null,
            "overflow_y": null,
            "overflow_x": null,
            "grid_auto_flow": null,
            "grid_area": null,
            "grid_template_columns": null,
            "flex": null,
            "_model_name": "LayoutModel",
            "justify_items": null,
            "grid_row": null,
            "max_height": null,
            "align_content": null,
            "visibility": null,
            "align_self": null,
            "height": null,
            "min_height": null,
            "padding": null,
            "grid_auto_rows": null,
            "grid_gap": null,
            "max_width": null,
            "order": null,
            "_view_module_version": "1.2.0",
            "grid_template_areas": null,
            "object_position": null,
            "object_fit": null,
            "grid_auto_columns": null,
            "margin": null,
            "display": null,
            "left": null
          }
        },
        "ab4f17475900446ba701b25cc4f69c13": {
          "model_module": "@jupyter-widgets/controls",
          "model_name": "ProgressStyleModel",
          "model_module_version": "1.5.0",
          "state": {
            "_view_name": "StyleView",
            "_model_name": "ProgressStyleModel",
            "description_width": "",
            "_view_module": "@jupyter-widgets/base",
            "_model_module_version": "1.5.0",
            "_view_count": null,
            "_view_module_version": "1.2.0",
            "bar_color": null,
            "_model_module": "@jupyter-widgets/controls"
          }
        },
        "9335c9ec536747c2aa868065b53d9183": {
          "model_module": "@jupyter-widgets/base",
          "model_name": "LayoutModel",
          "model_module_version": "1.2.0",
          "state": {
            "_view_name": "LayoutView",
            "grid_template_rows": null,
            "right": null,
            "justify_content": null,
            "_view_module": "@jupyter-widgets/base",
            "overflow": null,
            "_model_module_version": "1.2.0",
            "_view_count": null,
            "flex_flow": null,
            "width": null,
            "min_width": null,
            "border": null,
            "align_items": null,
            "bottom": null,
            "_model_module": "@jupyter-widgets/base",
            "top": null,
            "grid_column": null,
            "overflow_y": null,
            "overflow_x": null,
            "grid_auto_flow": null,
            "grid_area": null,
            "grid_template_columns": null,
            "flex": null,
            "_model_name": "LayoutModel",
            "justify_items": null,
            "grid_row": null,
            "max_height": null,
            "align_content": null,
            "visibility": null,
            "align_self": null,
            "height": null,
            "min_height": null,
            "padding": null,
            "grid_auto_rows": null,
            "grid_gap": null,
            "max_width": null,
            "order": null,
            "_view_module_version": "1.2.0",
            "grid_template_areas": null,
            "object_position": null,
            "object_fit": null,
            "grid_auto_columns": null,
            "margin": null,
            "display": null,
            "left": null
          }
        },
        "1dd7035a95a74219b109a2992aece0f6": {
          "model_module": "@jupyter-widgets/controls",
          "model_name": "DescriptionStyleModel",
          "model_module_version": "1.5.0",
          "state": {
            "_view_name": "StyleView",
            "_model_name": "DescriptionStyleModel",
            "description_width": "",
            "_view_module": "@jupyter-widgets/base",
            "_model_module_version": "1.5.0",
            "_view_count": null,
            "_view_module_version": "1.2.0",
            "_model_module": "@jupyter-widgets/controls"
          }
        },
        "fcef6a9f1c584ec4990c994f6addf26c": {
          "model_module": "@jupyter-widgets/base",
          "model_name": "LayoutModel",
          "model_module_version": "1.2.0",
          "state": {
            "_view_name": "LayoutView",
            "grid_template_rows": null,
            "right": null,
            "justify_content": null,
            "_view_module": "@jupyter-widgets/base",
            "overflow": null,
            "_model_module_version": "1.2.0",
            "_view_count": null,
            "flex_flow": null,
            "width": null,
            "min_width": null,
            "border": null,
            "align_items": null,
            "bottom": null,
            "_model_module": "@jupyter-widgets/base",
            "top": null,
            "grid_column": null,
            "overflow_y": null,
            "overflow_x": null,
            "grid_auto_flow": null,
            "grid_area": null,
            "grid_template_columns": null,
            "flex": null,
            "_model_name": "LayoutModel",
            "justify_items": null,
            "grid_row": null,
            "max_height": null,
            "align_content": null,
            "visibility": null,
            "align_self": null,
            "height": null,
            "min_height": null,
            "padding": null,
            "grid_auto_rows": null,
            "grid_gap": null,
            "max_width": null,
            "order": null,
            "_view_module_version": "1.2.0",
            "grid_template_areas": null,
            "object_position": null,
            "object_fit": null,
            "grid_auto_columns": null,
            "margin": null,
            "display": null,
            "left": null
          }
        },
        "b3830a664f5d4f9a93dd14c2b9a1ccc9": {
          "model_module": "@jupyter-widgets/controls",
          "model_name": "HBoxModel",
          "model_module_version": "1.5.0",
          "state": {
            "_view_name": "HBoxView",
            "_dom_classes": [],
            "_model_name": "HBoxModel",
            "_view_module": "@jupyter-widgets/controls",
            "_model_module_version": "1.5.0",
            "_view_count": null,
            "_view_module_version": "1.5.0",
            "box_style": "",
            "layout": "IPY_MODEL_b7e38288ed61491ab8c587aff94e4e23",
            "_model_module": "@jupyter-widgets/controls",
            "children": [
              "IPY_MODEL_4ce6e5687ffa40498d5397a5b2401b3a",
              "IPY_MODEL_f5609f1b7389441281dbe9b8547cb254",
              "IPY_MODEL_7c096d0859184c6386b44a9c78b045f9"
            ]
          }
        },
        "b7e38288ed61491ab8c587aff94e4e23": {
          "model_module": "@jupyter-widgets/base",
          "model_name": "LayoutModel",
          "model_module_version": "1.2.0",
          "state": {
            "_view_name": "LayoutView",
            "grid_template_rows": null,
            "right": null,
            "justify_content": null,
            "_view_module": "@jupyter-widgets/base",
            "overflow": null,
            "_model_module_version": "1.2.0",
            "_view_count": null,
            "flex_flow": null,
            "width": null,
            "min_width": null,
            "border": null,
            "align_items": null,
            "bottom": null,
            "_model_module": "@jupyter-widgets/base",
            "top": null,
            "grid_column": null,
            "overflow_y": null,
            "overflow_x": null,
            "grid_auto_flow": null,
            "grid_area": null,
            "grid_template_columns": null,
            "flex": null,
            "_model_name": "LayoutModel",
            "justify_items": null,
            "grid_row": null,
            "max_height": null,
            "align_content": null,
            "visibility": null,
            "align_self": null,
            "height": null,
            "min_height": null,
            "padding": null,
            "grid_auto_rows": null,
            "grid_gap": null,
            "max_width": null,
            "order": null,
            "_view_module_version": "1.2.0",
            "grid_template_areas": null,
            "object_position": null,
            "object_fit": null,
            "grid_auto_columns": null,
            "margin": null,
            "display": null,
            "left": null
          }
        },
        "4ce6e5687ffa40498d5397a5b2401b3a": {
          "model_module": "@jupyter-widgets/controls",
          "model_name": "HTMLModel",
          "model_module_version": "1.5.0",
          "state": {
            "_view_name": "HTMLView",
            "style": "IPY_MODEL_6fca5bd81b5346e08465cb4bf696c167",
            "_dom_classes": [],
            "description": "",
            "_model_name": "HTMLModel",
            "placeholder": "​",
            "_view_module": "@jupyter-widgets/controls",
            "_model_module_version": "1.5.0",
            "value": "Downloading: 100%",
            "_view_count": null,
            "_view_module_version": "1.5.0",
            "description_tooltip": null,
            "_model_module": "@jupyter-widgets/controls",
            "layout": "IPY_MODEL_10da0498b1fe4a21903f52caea3c4817"
          }
        },
        "f5609f1b7389441281dbe9b8547cb254": {
          "model_module": "@jupyter-widgets/controls",
          "model_name": "FloatProgressModel",
          "model_module_version": "1.5.0",
          "state": {
            "_view_name": "ProgressView",
            "style": "IPY_MODEL_ea67e269e0364b6c95f0fcf7d2374f79",
            "_dom_classes": [],
            "description": "",
            "_model_name": "FloatProgressModel",
            "bar_style": "success",
            "max": 435797,
            "_view_module": "@jupyter-widgets/controls",
            "_model_module_version": "1.5.0",
            "value": 435797,
            "_view_count": null,
            "_view_module_version": "1.5.0",
            "orientation": "horizontal",
            "min": 0,
            "description_tooltip": null,
            "_model_module": "@jupyter-widgets/controls",
            "layout": "IPY_MODEL_8763ffb4c9a44e6591d902a74e4cd877"
          }
        },
        "7c096d0859184c6386b44a9c78b045f9": {
          "model_module": "@jupyter-widgets/controls",
          "model_name": "HTMLModel",
          "model_module_version": "1.5.0",
          "state": {
            "_view_name": "HTMLView",
            "style": "IPY_MODEL_cc6a5c02fd2748d888cdba76200a6934",
            "_dom_classes": [],
            "description": "",
            "_model_name": "HTMLModel",
            "placeholder": "​",
            "_view_module": "@jupyter-widgets/controls",
            "_model_module_version": "1.5.0",
            "value": " 426k/426k [00:00&lt;00:00, 866kB/s]",
            "_view_count": null,
            "_view_module_version": "1.5.0",
            "description_tooltip": null,
            "_model_module": "@jupyter-widgets/controls",
            "layout": "IPY_MODEL_a8f79a3f45cb4148a3f22de93bdbecb3"
          }
        },
        "6fca5bd81b5346e08465cb4bf696c167": {
          "model_module": "@jupyter-widgets/controls",
          "model_name": "DescriptionStyleModel",
          "model_module_version": "1.5.0",
          "state": {
            "_view_name": "StyleView",
            "_model_name": "DescriptionStyleModel",
            "description_width": "",
            "_view_module": "@jupyter-widgets/base",
            "_model_module_version": "1.5.0",
            "_view_count": null,
            "_view_module_version": "1.2.0",
            "_model_module": "@jupyter-widgets/controls"
          }
        },
        "10da0498b1fe4a21903f52caea3c4817": {
          "model_module": "@jupyter-widgets/base",
          "model_name": "LayoutModel",
          "model_module_version": "1.2.0",
          "state": {
            "_view_name": "LayoutView",
            "grid_template_rows": null,
            "right": null,
            "justify_content": null,
            "_view_module": "@jupyter-widgets/base",
            "overflow": null,
            "_model_module_version": "1.2.0",
            "_view_count": null,
            "flex_flow": null,
            "width": null,
            "min_width": null,
            "border": null,
            "align_items": null,
            "bottom": null,
            "_model_module": "@jupyter-widgets/base",
            "top": null,
            "grid_column": null,
            "overflow_y": null,
            "overflow_x": null,
            "grid_auto_flow": null,
            "grid_area": null,
            "grid_template_columns": null,
            "flex": null,
            "_model_name": "LayoutModel",
            "justify_items": null,
            "grid_row": null,
            "max_height": null,
            "align_content": null,
            "visibility": null,
            "align_self": null,
            "height": null,
            "min_height": null,
            "padding": null,
            "grid_auto_rows": null,
            "grid_gap": null,
            "max_width": null,
            "order": null,
            "_view_module_version": "1.2.0",
            "grid_template_areas": null,
            "object_position": null,
            "object_fit": null,
            "grid_auto_columns": null,
            "margin": null,
            "display": null,
            "left": null
          }
        },
        "ea67e269e0364b6c95f0fcf7d2374f79": {
          "model_module": "@jupyter-widgets/controls",
          "model_name": "ProgressStyleModel",
          "model_module_version": "1.5.0",
          "state": {
            "_view_name": "StyleView",
            "_model_name": "ProgressStyleModel",
            "description_width": "",
            "_view_module": "@jupyter-widgets/base",
            "_model_module_version": "1.5.0",
            "_view_count": null,
            "_view_module_version": "1.2.0",
            "bar_color": null,
            "_model_module": "@jupyter-widgets/controls"
          }
        },
        "8763ffb4c9a44e6591d902a74e4cd877": {
          "model_module": "@jupyter-widgets/base",
          "model_name": "LayoutModel",
          "model_module_version": "1.2.0",
          "state": {
            "_view_name": "LayoutView",
            "grid_template_rows": null,
            "right": null,
            "justify_content": null,
            "_view_module": "@jupyter-widgets/base",
            "overflow": null,
            "_model_module_version": "1.2.0",
            "_view_count": null,
            "flex_flow": null,
            "width": null,
            "min_width": null,
            "border": null,
            "align_items": null,
            "bottom": null,
            "_model_module": "@jupyter-widgets/base",
            "top": null,
            "grid_column": null,
            "overflow_y": null,
            "overflow_x": null,
            "grid_auto_flow": null,
            "grid_area": null,
            "grid_template_columns": null,
            "flex": null,
            "_model_name": "LayoutModel",
            "justify_items": null,
            "grid_row": null,
            "max_height": null,
            "align_content": null,
            "visibility": null,
            "align_self": null,
            "height": null,
            "min_height": null,
            "padding": null,
            "grid_auto_rows": null,
            "grid_gap": null,
            "max_width": null,
            "order": null,
            "_view_module_version": "1.2.0",
            "grid_template_areas": null,
            "object_position": null,
            "object_fit": null,
            "grid_auto_columns": null,
            "margin": null,
            "display": null,
            "left": null
          }
        },
        "cc6a5c02fd2748d888cdba76200a6934": {
          "model_module": "@jupyter-widgets/controls",
          "model_name": "DescriptionStyleModel",
          "model_module_version": "1.5.0",
          "state": {
            "_view_name": "StyleView",
            "_model_name": "DescriptionStyleModel",
            "description_width": "",
            "_view_module": "@jupyter-widgets/base",
            "_model_module_version": "1.5.0",
            "_view_count": null,
            "_view_module_version": "1.2.0",
            "_model_module": "@jupyter-widgets/controls"
          }
        },
        "a8f79a3f45cb4148a3f22de93bdbecb3": {
          "model_module": "@jupyter-widgets/base",
          "model_name": "LayoutModel",
          "model_module_version": "1.2.0",
          "state": {
            "_view_name": "LayoutView",
            "grid_template_rows": null,
            "right": null,
            "justify_content": null,
            "_view_module": "@jupyter-widgets/base",
            "overflow": null,
            "_model_module_version": "1.2.0",
            "_view_count": null,
            "flex_flow": null,
            "width": null,
            "min_width": null,
            "border": null,
            "align_items": null,
            "bottom": null,
            "_model_module": "@jupyter-widgets/base",
            "top": null,
            "grid_column": null,
            "overflow_y": null,
            "overflow_x": null,
            "grid_auto_flow": null,
            "grid_area": null,
            "grid_template_columns": null,
            "flex": null,
            "_model_name": "LayoutModel",
            "justify_items": null,
            "grid_row": null,
            "max_height": null,
            "align_content": null,
            "visibility": null,
            "align_self": null,
            "height": null,
            "min_height": null,
            "padding": null,
            "grid_auto_rows": null,
            "grid_gap": null,
            "max_width": null,
            "order": null,
            "_view_module_version": "1.2.0",
            "grid_template_areas": null,
            "object_position": null,
            "object_fit": null,
            "grid_auto_columns": null,
            "margin": null,
            "display": null,
            "left": null
          }
        },
        "50b4e7afb50745a29eaca27a962c28dc": {
          "model_module": "@jupyter-widgets/controls",
          "model_name": "HBoxModel",
          "model_module_version": "1.5.0",
          "state": {
            "_view_name": "HBoxView",
            "_dom_classes": [],
            "_model_name": "HBoxModel",
            "_view_module": "@jupyter-widgets/controls",
            "_model_module_version": "1.5.0",
            "_view_count": null,
            "_view_module_version": "1.5.0",
            "box_style": "",
            "layout": "IPY_MODEL_74cf8c99fa024871aa31bf4f6d19c1a5",
            "_model_module": "@jupyter-widgets/controls",
            "children": [
              "IPY_MODEL_88f77065ba5441e08f31fb77d602c10d",
              "IPY_MODEL_abed27e2654a49bc9ef372c8a1aa49b7",
              "IPY_MODEL_c01bb84d30134b08a68af291262b8090"
            ]
          }
        },
        "74cf8c99fa024871aa31bf4f6d19c1a5": {
          "model_module": "@jupyter-widgets/base",
          "model_name": "LayoutModel",
          "model_module_version": "1.2.0",
          "state": {
            "_view_name": "LayoutView",
            "grid_template_rows": null,
            "right": null,
            "justify_content": null,
            "_view_module": "@jupyter-widgets/base",
            "overflow": null,
            "_model_module_version": "1.2.0",
            "_view_count": null,
            "flex_flow": null,
            "width": null,
            "min_width": null,
            "border": null,
            "align_items": null,
            "bottom": null,
            "_model_module": "@jupyter-widgets/base",
            "top": null,
            "grid_column": null,
            "overflow_y": null,
            "overflow_x": null,
            "grid_auto_flow": null,
            "grid_area": null,
            "grid_template_columns": null,
            "flex": null,
            "_model_name": "LayoutModel",
            "justify_items": null,
            "grid_row": null,
            "max_height": null,
            "align_content": null,
            "visibility": null,
            "align_self": null,
            "height": null,
            "min_height": null,
            "padding": null,
            "grid_auto_rows": null,
            "grid_gap": null,
            "max_width": null,
            "order": null,
            "_view_module_version": "1.2.0",
            "grid_template_areas": null,
            "object_position": null,
            "object_fit": null,
            "grid_auto_columns": null,
            "margin": null,
            "display": null,
            "left": null
          }
        },
        "88f77065ba5441e08f31fb77d602c10d": {
          "model_module": "@jupyter-widgets/controls",
          "model_name": "HTMLModel",
          "model_module_version": "1.5.0",
          "state": {
            "_view_name": "HTMLView",
            "style": "IPY_MODEL_f27cfba9e65b41bab6422fb472638b42",
            "_dom_classes": [],
            "description": "",
            "_model_name": "HTMLModel",
            "placeholder": "​",
            "_view_module": "@jupyter-widgets/controls",
            "_model_module_version": "1.5.0",
            "value": "100%",
            "_view_count": null,
            "_view_module_version": "1.5.0",
            "description_tooltip": null,
            "_model_module": "@jupyter-widgets/controls",
            "layout": "IPY_MODEL_45bea73d7b8a4ac99ca9159ec315a63e"
          }
        },
        "abed27e2654a49bc9ef372c8a1aa49b7": {
          "model_module": "@jupyter-widgets/controls",
          "model_name": "FloatProgressModel",
          "model_module_version": "1.5.0",
          "state": {
            "_view_name": "ProgressView",
            "style": "IPY_MODEL_f7eeb572f39d498ea02ec7cab0ca3532",
            "_dom_classes": [],
            "description": "",
            "_model_name": "FloatProgressModel",
            "bar_style": "success",
            "max": 1,
            "_view_module": "@jupyter-widgets/controls",
            "_model_module_version": "1.5.0",
            "value": 1,
            "_view_count": null,
            "_view_module_version": "1.5.0",
            "orientation": "horizontal",
            "min": 0,
            "description_tooltip": null,
            "_model_module": "@jupyter-widgets/controls",
            "layout": "IPY_MODEL_b953ba083e104febbd36780fe93d7e0c"
          }
        },
        "c01bb84d30134b08a68af291262b8090": {
          "model_module": "@jupyter-widgets/controls",
          "model_name": "HTMLModel",
          "model_module_version": "1.5.0",
          "state": {
            "_view_name": "HTMLView",
            "style": "IPY_MODEL_cf2c2a14f2494e1cbfb8719a58d69ae9",
            "_dom_classes": [],
            "description": "",
            "_model_name": "HTMLModel",
            "placeholder": "​",
            "_view_module": "@jupyter-widgets/controls",
            "_model_module_version": "1.5.0",
            "value": " 1/1 [00:02&lt;00:00,  2.02s/ba]",
            "_view_count": null,
            "_view_module_version": "1.5.0",
            "description_tooltip": null,
            "_model_module": "@jupyter-widgets/controls",
            "layout": "IPY_MODEL_40d944ad4375468da5cdff730c6eb3ea"
          }
        },
        "f27cfba9e65b41bab6422fb472638b42": {
          "model_module": "@jupyter-widgets/controls",
          "model_name": "DescriptionStyleModel",
          "model_module_version": "1.5.0",
          "state": {
            "_view_name": "StyleView",
            "_model_name": "DescriptionStyleModel",
            "description_width": "",
            "_view_module": "@jupyter-widgets/base",
            "_model_module_version": "1.5.0",
            "_view_count": null,
            "_view_module_version": "1.2.0",
            "_model_module": "@jupyter-widgets/controls"
          }
        },
        "45bea73d7b8a4ac99ca9159ec315a63e": {
          "model_module": "@jupyter-widgets/base",
          "model_name": "LayoutModel",
          "model_module_version": "1.2.0",
          "state": {
            "_view_name": "LayoutView",
            "grid_template_rows": null,
            "right": null,
            "justify_content": null,
            "_view_module": "@jupyter-widgets/base",
            "overflow": null,
            "_model_module_version": "1.2.0",
            "_view_count": null,
            "flex_flow": null,
            "width": null,
            "min_width": null,
            "border": null,
            "align_items": null,
            "bottom": null,
            "_model_module": "@jupyter-widgets/base",
            "top": null,
            "grid_column": null,
            "overflow_y": null,
            "overflow_x": null,
            "grid_auto_flow": null,
            "grid_area": null,
            "grid_template_columns": null,
            "flex": null,
            "_model_name": "LayoutModel",
            "justify_items": null,
            "grid_row": null,
            "max_height": null,
            "align_content": null,
            "visibility": null,
            "align_self": null,
            "height": null,
            "min_height": null,
            "padding": null,
            "grid_auto_rows": null,
            "grid_gap": null,
            "max_width": null,
            "order": null,
            "_view_module_version": "1.2.0",
            "grid_template_areas": null,
            "object_position": null,
            "object_fit": null,
            "grid_auto_columns": null,
            "margin": null,
            "display": null,
            "left": null
          }
        },
        "f7eeb572f39d498ea02ec7cab0ca3532": {
          "model_module": "@jupyter-widgets/controls",
          "model_name": "ProgressStyleModel",
          "model_module_version": "1.5.0",
          "state": {
            "_view_name": "StyleView",
            "_model_name": "ProgressStyleModel",
            "description_width": "",
            "_view_module": "@jupyter-widgets/base",
            "_model_module_version": "1.5.0",
            "_view_count": null,
            "_view_module_version": "1.2.0",
            "bar_color": null,
            "_model_module": "@jupyter-widgets/controls"
          }
        },
        "b953ba083e104febbd36780fe93d7e0c": {
          "model_module": "@jupyter-widgets/base",
          "model_name": "LayoutModel",
          "model_module_version": "1.2.0",
          "state": {
            "_view_name": "LayoutView",
            "grid_template_rows": null,
            "right": null,
            "justify_content": null,
            "_view_module": "@jupyter-widgets/base",
            "overflow": null,
            "_model_module_version": "1.2.0",
            "_view_count": null,
            "flex_flow": null,
            "width": null,
            "min_width": null,
            "border": null,
            "align_items": null,
            "bottom": null,
            "_model_module": "@jupyter-widgets/base",
            "top": null,
            "grid_column": null,
            "overflow_y": null,
            "overflow_x": null,
            "grid_auto_flow": null,
            "grid_area": null,
            "grid_template_columns": null,
            "flex": null,
            "_model_name": "LayoutModel",
            "justify_items": null,
            "grid_row": null,
            "max_height": null,
            "align_content": null,
            "visibility": null,
            "align_self": null,
            "height": null,
            "min_height": null,
            "padding": null,
            "grid_auto_rows": null,
            "grid_gap": null,
            "max_width": null,
            "order": null,
            "_view_module_version": "1.2.0",
            "grid_template_areas": null,
            "object_position": null,
            "object_fit": null,
            "grid_auto_columns": null,
            "margin": null,
            "display": null,
            "left": null
          }
        },
        "cf2c2a14f2494e1cbfb8719a58d69ae9": {
          "model_module": "@jupyter-widgets/controls",
          "model_name": "DescriptionStyleModel",
          "model_module_version": "1.5.0",
          "state": {
            "_view_name": "StyleView",
            "_model_name": "DescriptionStyleModel",
            "description_width": "",
            "_view_module": "@jupyter-widgets/base",
            "_model_module_version": "1.5.0",
            "_view_count": null,
            "_view_module_version": "1.2.0",
            "_model_module": "@jupyter-widgets/controls"
          }
        },
        "40d944ad4375468da5cdff730c6eb3ea": {
          "model_module": "@jupyter-widgets/base",
          "model_name": "LayoutModel",
          "model_module_version": "1.2.0",
          "state": {
            "_view_name": "LayoutView",
            "grid_template_rows": null,
            "right": null,
            "justify_content": null,
            "_view_module": "@jupyter-widgets/base",
            "overflow": null,
            "_model_module_version": "1.2.0",
            "_view_count": null,
            "flex_flow": null,
            "width": null,
            "min_width": null,
            "border": null,
            "align_items": null,
            "bottom": null,
            "_model_module": "@jupyter-widgets/base",
            "top": null,
            "grid_column": null,
            "overflow_y": null,
            "overflow_x": null,
            "grid_auto_flow": null,
            "grid_area": null,
            "grid_template_columns": null,
            "flex": null,
            "_model_name": "LayoutModel",
            "justify_items": null,
            "grid_row": null,
            "max_height": null,
            "align_content": null,
            "visibility": null,
            "align_self": null,
            "height": null,
            "min_height": null,
            "padding": null,
            "grid_auto_rows": null,
            "grid_gap": null,
            "max_width": null,
            "order": null,
            "_view_module_version": "1.2.0",
            "grid_template_areas": null,
            "object_position": null,
            "object_fit": null,
            "grid_auto_columns": null,
            "margin": null,
            "display": null,
            "left": null
          }
        },
        "7f95eb2d3fb6484b8d63c32b061d605c": {
          "model_module": "@jupyter-widgets/controls",
          "model_name": "HBoxModel",
          "model_module_version": "1.5.0",
          "state": {
            "_view_name": "HBoxView",
            "_dom_classes": [],
            "_model_name": "HBoxModel",
            "_view_module": "@jupyter-widgets/controls",
            "_model_module_version": "1.5.0",
            "_view_count": null,
            "_view_module_version": "1.5.0",
            "box_style": "",
            "layout": "IPY_MODEL_0900a7b8830b47818031d21f9a3b9db0",
            "_model_module": "@jupyter-widgets/controls",
            "children": [
              "IPY_MODEL_639d790367e24508b6ebef2bc46a41f8",
              "IPY_MODEL_700ba7c0be9c4964a58814719007d9aa",
              "IPY_MODEL_03b61468c5094064bd91508c3f2b00a1"
            ]
          }
        },
        "0900a7b8830b47818031d21f9a3b9db0": {
          "model_module": "@jupyter-widgets/base",
          "model_name": "LayoutModel",
          "model_module_version": "1.2.0",
          "state": {
            "_view_name": "LayoutView",
            "grid_template_rows": null,
            "right": null,
            "justify_content": null,
            "_view_module": "@jupyter-widgets/base",
            "overflow": null,
            "_model_module_version": "1.2.0",
            "_view_count": null,
            "flex_flow": null,
            "width": null,
            "min_width": null,
            "border": null,
            "align_items": null,
            "bottom": null,
            "_model_module": "@jupyter-widgets/base",
            "top": null,
            "grid_column": null,
            "overflow_y": null,
            "overflow_x": null,
            "grid_auto_flow": null,
            "grid_area": null,
            "grid_template_columns": null,
            "flex": null,
            "_model_name": "LayoutModel",
            "justify_items": null,
            "grid_row": null,
            "max_height": null,
            "align_content": null,
            "visibility": null,
            "align_self": null,
            "height": null,
            "min_height": null,
            "padding": null,
            "grid_auto_rows": null,
            "grid_gap": null,
            "max_width": null,
            "order": null,
            "_view_module_version": "1.2.0",
            "grid_template_areas": null,
            "object_position": null,
            "object_fit": null,
            "grid_auto_columns": null,
            "margin": null,
            "display": null,
            "left": null
          }
        },
        "639d790367e24508b6ebef2bc46a41f8": {
          "model_module": "@jupyter-widgets/controls",
          "model_name": "HTMLModel",
          "model_module_version": "1.5.0",
          "state": {
            "_view_name": "HTMLView",
            "style": "IPY_MODEL_b4f3be02b35d4a208110070b2ecb2311",
            "_dom_classes": [],
            "description": "",
            "_model_name": "HTMLModel",
            "placeholder": "​",
            "_view_module": "@jupyter-widgets/controls",
            "_model_module_version": "1.5.0",
            "value": "100%",
            "_view_count": null,
            "_view_module_version": "1.5.0",
            "description_tooltip": null,
            "_model_module": "@jupyter-widgets/controls",
            "layout": "IPY_MODEL_81d404e2945342a497ea5d81649e7558"
          }
        },
        "700ba7c0be9c4964a58814719007d9aa": {
          "model_module": "@jupyter-widgets/controls",
          "model_name": "FloatProgressModel",
          "model_module_version": "1.5.0",
          "state": {
            "_view_name": "ProgressView",
            "style": "IPY_MODEL_ae7e03e168fd4e7bb6a9727544624310",
            "_dom_classes": [],
            "description": "",
            "_model_name": "FloatProgressModel",
            "bar_style": "success",
            "max": 1,
            "_view_module": "@jupyter-widgets/controls",
            "_model_module_version": "1.5.0",
            "value": 1,
            "_view_count": null,
            "_view_module_version": "1.5.0",
            "orientation": "horizontal",
            "min": 0,
            "description_tooltip": null,
            "_model_module": "@jupyter-widgets/controls",
            "layout": "IPY_MODEL_698e0c8d6e41432198d6c2621392014b"
          }
        },
        "03b61468c5094064bd91508c3f2b00a1": {
          "model_module": "@jupyter-widgets/controls",
          "model_name": "HTMLModel",
          "model_module_version": "1.5.0",
          "state": {
            "_view_name": "HTMLView",
            "style": "IPY_MODEL_e8d65f57db4c42929bbf35954103cfb2",
            "_dom_classes": [],
            "description": "",
            "_model_name": "HTMLModel",
            "placeholder": "​",
            "_view_module": "@jupyter-widgets/controls",
            "_model_module_version": "1.5.0",
            "value": " 1/1 [00:00&lt;00:00,  3.91ba/s]",
            "_view_count": null,
            "_view_module_version": "1.5.0",
            "description_tooltip": null,
            "_model_module": "@jupyter-widgets/controls",
            "layout": "IPY_MODEL_36667ef35e5546b4b4d4ee9ad8379750"
          }
        },
        "b4f3be02b35d4a208110070b2ecb2311": {
          "model_module": "@jupyter-widgets/controls",
          "model_name": "DescriptionStyleModel",
          "model_module_version": "1.5.0",
          "state": {
            "_view_name": "StyleView",
            "_model_name": "DescriptionStyleModel",
            "description_width": "",
            "_view_module": "@jupyter-widgets/base",
            "_model_module_version": "1.5.0",
            "_view_count": null,
            "_view_module_version": "1.2.0",
            "_model_module": "@jupyter-widgets/controls"
          }
        },
        "81d404e2945342a497ea5d81649e7558": {
          "model_module": "@jupyter-widgets/base",
          "model_name": "LayoutModel",
          "model_module_version": "1.2.0",
          "state": {
            "_view_name": "LayoutView",
            "grid_template_rows": null,
            "right": null,
            "justify_content": null,
            "_view_module": "@jupyter-widgets/base",
            "overflow": null,
            "_model_module_version": "1.2.0",
            "_view_count": null,
            "flex_flow": null,
            "width": null,
            "min_width": null,
            "border": null,
            "align_items": null,
            "bottom": null,
            "_model_module": "@jupyter-widgets/base",
            "top": null,
            "grid_column": null,
            "overflow_y": null,
            "overflow_x": null,
            "grid_auto_flow": null,
            "grid_area": null,
            "grid_template_columns": null,
            "flex": null,
            "_model_name": "LayoutModel",
            "justify_items": null,
            "grid_row": null,
            "max_height": null,
            "align_content": null,
            "visibility": null,
            "align_self": null,
            "height": null,
            "min_height": null,
            "padding": null,
            "grid_auto_rows": null,
            "grid_gap": null,
            "max_width": null,
            "order": null,
            "_view_module_version": "1.2.0",
            "grid_template_areas": null,
            "object_position": null,
            "object_fit": null,
            "grid_auto_columns": null,
            "margin": null,
            "display": null,
            "left": null
          }
        },
        "ae7e03e168fd4e7bb6a9727544624310": {
          "model_module": "@jupyter-widgets/controls",
          "model_name": "ProgressStyleModel",
          "model_module_version": "1.5.0",
          "state": {
            "_view_name": "StyleView",
            "_model_name": "ProgressStyleModel",
            "description_width": "",
            "_view_module": "@jupyter-widgets/base",
            "_model_module_version": "1.5.0",
            "_view_count": null,
            "_view_module_version": "1.2.0",
            "bar_color": null,
            "_model_module": "@jupyter-widgets/controls"
          }
        },
        "698e0c8d6e41432198d6c2621392014b": {
          "model_module": "@jupyter-widgets/base",
          "model_name": "LayoutModel",
          "model_module_version": "1.2.0",
          "state": {
            "_view_name": "LayoutView",
            "grid_template_rows": null,
            "right": null,
            "justify_content": null,
            "_view_module": "@jupyter-widgets/base",
            "overflow": null,
            "_model_module_version": "1.2.0",
            "_view_count": null,
            "flex_flow": null,
            "width": null,
            "min_width": null,
            "border": null,
            "align_items": null,
            "bottom": null,
            "_model_module": "@jupyter-widgets/base",
            "top": null,
            "grid_column": null,
            "overflow_y": null,
            "overflow_x": null,
            "grid_auto_flow": null,
            "grid_area": null,
            "grid_template_columns": null,
            "flex": null,
            "_model_name": "LayoutModel",
            "justify_items": null,
            "grid_row": null,
            "max_height": null,
            "align_content": null,
            "visibility": null,
            "align_self": null,
            "height": null,
            "min_height": null,
            "padding": null,
            "grid_auto_rows": null,
            "grid_gap": null,
            "max_width": null,
            "order": null,
            "_view_module_version": "1.2.0",
            "grid_template_areas": null,
            "object_position": null,
            "object_fit": null,
            "grid_auto_columns": null,
            "margin": null,
            "display": null,
            "left": null
          }
        },
        "e8d65f57db4c42929bbf35954103cfb2": {
          "model_module": "@jupyter-widgets/controls",
          "model_name": "DescriptionStyleModel",
          "model_module_version": "1.5.0",
          "state": {
            "_view_name": "StyleView",
            "_model_name": "DescriptionStyleModel",
            "description_width": "",
            "_view_module": "@jupyter-widgets/base",
            "_model_module_version": "1.5.0",
            "_view_count": null,
            "_view_module_version": "1.2.0",
            "_model_module": "@jupyter-widgets/controls"
          }
        },
        "36667ef35e5546b4b4d4ee9ad8379750": {
          "model_module": "@jupyter-widgets/base",
          "model_name": "LayoutModel",
          "model_module_version": "1.2.0",
          "state": {
            "_view_name": "LayoutView",
            "grid_template_rows": null,
            "right": null,
            "justify_content": null,
            "_view_module": "@jupyter-widgets/base",
            "overflow": null,
            "_model_module_version": "1.2.0",
            "_view_count": null,
            "flex_flow": null,
            "width": null,
            "min_width": null,
            "border": null,
            "align_items": null,
            "bottom": null,
            "_model_module": "@jupyter-widgets/base",
            "top": null,
            "grid_column": null,
            "overflow_y": null,
            "overflow_x": null,
            "grid_auto_flow": null,
            "grid_area": null,
            "grid_template_columns": null,
            "flex": null,
            "_model_name": "LayoutModel",
            "justify_items": null,
            "grid_row": null,
            "max_height": null,
            "align_content": null,
            "visibility": null,
            "align_self": null,
            "height": null,
            "min_height": null,
            "padding": null,
            "grid_auto_rows": null,
            "grid_gap": null,
            "max_width": null,
            "order": null,
            "_view_module_version": "1.2.0",
            "grid_template_areas": null,
            "object_position": null,
            "object_fit": null,
            "grid_auto_columns": null,
            "margin": null,
            "display": null,
            "left": null
          }
        },
        "b451691fe42547e0b89c0c1f7b61457d": {
          "model_module": "@jupyter-widgets/controls",
          "model_name": "HBoxModel",
          "model_module_version": "1.5.0",
          "state": {
            "_view_name": "HBoxView",
            "_dom_classes": [],
            "_model_name": "HBoxModel",
            "_view_module": "@jupyter-widgets/controls",
            "_model_module_version": "1.5.0",
            "_view_count": null,
            "_view_module_version": "1.5.0",
            "box_style": "",
            "layout": "IPY_MODEL_26d02a63ad6c42bb9deaddaa3d6b12a7",
            "_model_module": "@jupyter-widgets/controls",
            "children": [
              "IPY_MODEL_4d42e677a7784b0fa02977460a87f186",
              "IPY_MODEL_dbeb4b3a06804f64b34f81456a3a7811",
              "IPY_MODEL_dd5d2bb57f834bb981ffbccf34d81d66"
            ]
          }
        },
        "26d02a63ad6c42bb9deaddaa3d6b12a7": {
          "model_module": "@jupyter-widgets/base",
          "model_name": "LayoutModel",
          "model_module_version": "1.2.0",
          "state": {
            "_view_name": "LayoutView",
            "grid_template_rows": null,
            "right": null,
            "justify_content": null,
            "_view_module": "@jupyter-widgets/base",
            "overflow": null,
            "_model_module_version": "1.2.0",
            "_view_count": null,
            "flex_flow": null,
            "width": null,
            "min_width": null,
            "border": null,
            "align_items": null,
            "bottom": null,
            "_model_module": "@jupyter-widgets/base",
            "top": null,
            "grid_column": null,
            "overflow_y": null,
            "overflow_x": null,
            "grid_auto_flow": null,
            "grid_area": null,
            "grid_template_columns": null,
            "flex": null,
            "_model_name": "LayoutModel",
            "justify_items": null,
            "grid_row": null,
            "max_height": null,
            "align_content": null,
            "visibility": null,
            "align_self": null,
            "height": null,
            "min_height": null,
            "padding": null,
            "grid_auto_rows": null,
            "grid_gap": null,
            "max_width": null,
            "order": null,
            "_view_module_version": "1.2.0",
            "grid_template_areas": null,
            "object_position": null,
            "object_fit": null,
            "grid_auto_columns": null,
            "margin": null,
            "display": null,
            "left": null
          }
        },
        "4d42e677a7784b0fa02977460a87f186": {
          "model_module": "@jupyter-widgets/controls",
          "model_name": "HTMLModel",
          "model_module_version": "1.5.0",
          "state": {
            "_view_name": "HTMLView",
            "style": "IPY_MODEL_7cdb1815f48741b081029577ea17f3f1",
            "_dom_classes": [],
            "description": "",
            "_model_name": "HTMLModel",
            "placeholder": "​",
            "_view_module": "@jupyter-widgets/controls",
            "_model_module_version": "1.5.0",
            "value": "Downloading: 100%",
            "_view_count": null,
            "_view_module_version": "1.5.0",
            "description_tooltip": null,
            "_model_module": "@jupyter-widgets/controls",
            "layout": "IPY_MODEL_2c2f92cbfb524b759a4ae5fc4da3d439"
          }
        },
        "dbeb4b3a06804f64b34f81456a3a7811": {
          "model_module": "@jupyter-widgets/controls",
          "model_name": "FloatProgressModel",
          "model_module_version": "1.5.0",
          "state": {
            "_view_name": "ProgressView",
            "style": "IPY_MODEL_96362a632281469da78897f157b3234a",
            "_dom_classes": [],
            "description": "",
            "_model_name": "FloatProgressModel",
            "bar_style": "success",
            "max": 435779157,
            "_view_module": "@jupyter-widgets/controls",
            "_model_module_version": "1.5.0",
            "value": 435779157,
            "_view_count": null,
            "_view_module_version": "1.5.0",
            "orientation": "horizontal",
            "min": 0,
            "description_tooltip": null,
            "_model_module": "@jupyter-widgets/controls",
            "layout": "IPY_MODEL_61939013fd344af6881f0d53d7ae579c"
          }
        },
        "dd5d2bb57f834bb981ffbccf34d81d66": {
          "model_module": "@jupyter-widgets/controls",
          "model_name": "HTMLModel",
          "model_module_version": "1.5.0",
          "state": {
            "_view_name": "HTMLView",
            "style": "IPY_MODEL_550d96f972df4c7e9259a40e29cb84ea",
            "_dom_classes": [],
            "description": "",
            "_model_name": "HTMLModel",
            "placeholder": "​",
            "_view_module": "@jupyter-widgets/controls",
            "_model_module_version": "1.5.0",
            "value": " 416M/416M [00:07&lt;00:00, 56.2MB/s]",
            "_view_count": null,
            "_view_module_version": "1.5.0",
            "description_tooltip": null,
            "_model_module": "@jupyter-widgets/controls",
            "layout": "IPY_MODEL_3cf21cb4beef46418786572140845c88"
          }
        },
        "7cdb1815f48741b081029577ea17f3f1": {
          "model_module": "@jupyter-widgets/controls",
          "model_name": "DescriptionStyleModel",
          "model_module_version": "1.5.0",
          "state": {
            "_view_name": "StyleView",
            "_model_name": "DescriptionStyleModel",
            "description_width": "",
            "_view_module": "@jupyter-widgets/base",
            "_model_module_version": "1.5.0",
            "_view_count": null,
            "_view_module_version": "1.2.0",
            "_model_module": "@jupyter-widgets/controls"
          }
        },
        "2c2f92cbfb524b759a4ae5fc4da3d439": {
          "model_module": "@jupyter-widgets/base",
          "model_name": "LayoutModel",
          "model_module_version": "1.2.0",
          "state": {
            "_view_name": "LayoutView",
            "grid_template_rows": null,
            "right": null,
            "justify_content": null,
            "_view_module": "@jupyter-widgets/base",
            "overflow": null,
            "_model_module_version": "1.2.0",
            "_view_count": null,
            "flex_flow": null,
            "width": null,
            "min_width": null,
            "border": null,
            "align_items": null,
            "bottom": null,
            "_model_module": "@jupyter-widgets/base",
            "top": null,
            "grid_column": null,
            "overflow_y": null,
            "overflow_x": null,
            "grid_auto_flow": null,
            "grid_area": null,
            "grid_template_columns": null,
            "flex": null,
            "_model_name": "LayoutModel",
            "justify_items": null,
            "grid_row": null,
            "max_height": null,
            "align_content": null,
            "visibility": null,
            "align_self": null,
            "height": null,
            "min_height": null,
            "padding": null,
            "grid_auto_rows": null,
            "grid_gap": null,
            "max_width": null,
            "order": null,
            "_view_module_version": "1.2.0",
            "grid_template_areas": null,
            "object_position": null,
            "object_fit": null,
            "grid_auto_columns": null,
            "margin": null,
            "display": null,
            "left": null
          }
        },
        "96362a632281469da78897f157b3234a": {
          "model_module": "@jupyter-widgets/controls",
          "model_name": "ProgressStyleModel",
          "model_module_version": "1.5.0",
          "state": {
            "_view_name": "StyleView",
            "_model_name": "ProgressStyleModel",
            "description_width": "",
            "_view_module": "@jupyter-widgets/base",
            "_model_module_version": "1.5.0",
            "_view_count": null,
            "_view_module_version": "1.2.0",
            "bar_color": null,
            "_model_module": "@jupyter-widgets/controls"
          }
        },
        "61939013fd344af6881f0d53d7ae579c": {
          "model_module": "@jupyter-widgets/base",
          "model_name": "LayoutModel",
          "model_module_version": "1.2.0",
          "state": {
            "_view_name": "LayoutView",
            "grid_template_rows": null,
            "right": null,
            "justify_content": null,
            "_view_module": "@jupyter-widgets/base",
            "overflow": null,
            "_model_module_version": "1.2.0",
            "_view_count": null,
            "flex_flow": null,
            "width": null,
            "min_width": null,
            "border": null,
            "align_items": null,
            "bottom": null,
            "_model_module": "@jupyter-widgets/base",
            "top": null,
            "grid_column": null,
            "overflow_y": null,
            "overflow_x": null,
            "grid_auto_flow": null,
            "grid_area": null,
            "grid_template_columns": null,
            "flex": null,
            "_model_name": "LayoutModel",
            "justify_items": null,
            "grid_row": null,
            "max_height": null,
            "align_content": null,
            "visibility": null,
            "align_self": null,
            "height": null,
            "min_height": null,
            "padding": null,
            "grid_auto_rows": null,
            "grid_gap": null,
            "max_width": null,
            "order": null,
            "_view_module_version": "1.2.0",
            "grid_template_areas": null,
            "object_position": null,
            "object_fit": null,
            "grid_auto_columns": null,
            "margin": null,
            "display": null,
            "left": null
          }
        },
        "550d96f972df4c7e9259a40e29cb84ea": {
          "model_module": "@jupyter-widgets/controls",
          "model_name": "DescriptionStyleModel",
          "model_module_version": "1.5.0",
          "state": {
            "_view_name": "StyleView",
            "_model_name": "DescriptionStyleModel",
            "description_width": "",
            "_view_module": "@jupyter-widgets/base",
            "_model_module_version": "1.5.0",
            "_view_count": null,
            "_view_module_version": "1.2.0",
            "_model_module": "@jupyter-widgets/controls"
          }
        },
        "3cf21cb4beef46418786572140845c88": {
          "model_module": "@jupyter-widgets/base",
          "model_name": "LayoutModel",
          "model_module_version": "1.2.0",
          "state": {
            "_view_name": "LayoutView",
            "grid_template_rows": null,
            "right": null,
            "justify_content": null,
            "_view_module": "@jupyter-widgets/base",
            "overflow": null,
            "_model_module_version": "1.2.0",
            "_view_count": null,
            "flex_flow": null,
            "width": null,
            "min_width": null,
            "border": null,
            "align_items": null,
            "bottom": null,
            "_model_module": "@jupyter-widgets/base",
            "top": null,
            "grid_column": null,
            "overflow_y": null,
            "overflow_x": null,
            "grid_auto_flow": null,
            "grid_area": null,
            "grid_template_columns": null,
            "flex": null,
            "_model_name": "LayoutModel",
            "justify_items": null,
            "grid_row": null,
            "max_height": null,
            "align_content": null,
            "visibility": null,
            "align_self": null,
            "height": null,
            "min_height": null,
            "padding": null,
            "grid_auto_rows": null,
            "grid_gap": null,
            "max_width": null,
            "order": null,
            "_view_module_version": "1.2.0",
            "grid_template_areas": null,
            "object_position": null,
            "object_fit": null,
            "grid_auto_columns": null,
            "margin": null,
            "display": null,
            "left": null
          }
        },
        "6ad786eeb5c548fca1ed1ee53b95afba": {
          "model_module": "@jupyter-widgets/controls",
          "model_name": "HBoxModel",
          "model_module_version": "1.5.0",
          "state": {
            "_view_name": "HBoxView",
            "_dom_classes": [],
            "_model_name": "HBoxModel",
            "_view_module": "@jupyter-widgets/controls",
            "_model_module_version": "1.5.0",
            "_view_count": null,
            "_view_module_version": "1.5.0",
            "box_style": "",
            "layout": "IPY_MODEL_cb5c7c9440a24c0f8a4f45943156f103",
            "_model_module": "@jupyter-widgets/controls",
            "children": [
              "IPY_MODEL_2da7acf14d69496b83b5845520971e5d",
              "IPY_MODEL_1c9c597032e849d18fcb82f45e44718b",
              "IPY_MODEL_595a9031dcef4f53af66505f5d70f580"
            ]
          }
        },
        "cb5c7c9440a24c0f8a4f45943156f103": {
          "model_module": "@jupyter-widgets/base",
          "model_name": "LayoutModel",
          "model_module_version": "1.2.0",
          "state": {
            "_view_name": "LayoutView",
            "grid_template_rows": null,
            "right": null,
            "justify_content": null,
            "_view_module": "@jupyter-widgets/base",
            "overflow": null,
            "_model_module_version": "1.2.0",
            "_view_count": null,
            "flex_flow": null,
            "width": null,
            "min_width": null,
            "border": null,
            "align_items": null,
            "bottom": null,
            "_model_module": "@jupyter-widgets/base",
            "top": null,
            "grid_column": null,
            "overflow_y": null,
            "overflow_x": null,
            "grid_auto_flow": null,
            "grid_area": null,
            "grid_template_columns": null,
            "flex": null,
            "_model_name": "LayoutModel",
            "justify_items": null,
            "grid_row": null,
            "max_height": null,
            "align_content": null,
            "visibility": null,
            "align_self": null,
            "height": null,
            "min_height": null,
            "padding": null,
            "grid_auto_rows": null,
            "grid_gap": null,
            "max_width": null,
            "order": null,
            "_view_module_version": "1.2.0",
            "grid_template_areas": null,
            "object_position": null,
            "object_fit": null,
            "grid_auto_columns": null,
            "margin": null,
            "display": null,
            "left": null
          }
        },
        "2da7acf14d69496b83b5845520971e5d": {
          "model_module": "@jupyter-widgets/controls",
          "model_name": "HTMLModel",
          "model_module_version": "1.5.0",
          "state": {
            "_view_name": "HTMLView",
            "style": "IPY_MODEL_d73866f40ea04ad3a1199b780fed060a",
            "_dom_classes": [],
            "description": "",
            "_model_name": "HTMLModel",
            "placeholder": "​",
            "_view_module": "@jupyter-widgets/controls",
            "_model_module_version": "1.5.0",
            "value": "100%",
            "_view_count": null,
            "_view_module_version": "1.5.0",
            "description_tooltip": null,
            "_model_module": "@jupyter-widgets/controls",
            "layout": "IPY_MODEL_8adefa23bbd94f41beae128c1993e891"
          }
        },
        "1c9c597032e849d18fcb82f45e44718b": {
          "model_module": "@jupyter-widgets/controls",
          "model_name": "FloatProgressModel",
          "model_module_version": "1.5.0",
          "state": {
            "_view_name": "ProgressView",
            "style": "IPY_MODEL_981fb6ee46804e9b91270e89bde82383",
            "_dom_classes": [],
            "description": "",
            "_model_name": "FloatProgressModel",
            "bar_style": "success",
            "max": 1,
            "_view_module": "@jupyter-widgets/controls",
            "_model_module_version": "1.5.0",
            "value": 1,
            "_view_count": null,
            "_view_module_version": "1.5.0",
            "orientation": "horizontal",
            "min": 0,
            "description_tooltip": null,
            "_model_module": "@jupyter-widgets/controls",
            "layout": "IPY_MODEL_7128a55680d549ca9f273d536e7926e8"
          }
        },
        "595a9031dcef4f53af66505f5d70f580": {
          "model_module": "@jupyter-widgets/controls",
          "model_name": "HTMLModel",
          "model_module_version": "1.5.0",
          "state": {
            "_view_name": "HTMLView",
            "style": "IPY_MODEL_d361fea6bc65429db6d54fa87517a397",
            "_dom_classes": [],
            "description": "",
            "_model_name": "HTMLModel",
            "placeholder": "​",
            "_view_module": "@jupyter-widgets/controls",
            "_model_module_version": "1.5.0",
            "value": " 1/1 [00:02&lt;00:00,  2.10s/ba]",
            "_view_count": null,
            "_view_module_version": "1.5.0",
            "description_tooltip": null,
            "_model_module": "@jupyter-widgets/controls",
            "layout": "IPY_MODEL_a9449d444f214c3b99804fce2b8c4c50"
          }
        },
        "d73866f40ea04ad3a1199b780fed060a": {
          "model_module": "@jupyter-widgets/controls",
          "model_name": "DescriptionStyleModel",
          "model_module_version": "1.5.0",
          "state": {
            "_view_name": "StyleView",
            "_model_name": "DescriptionStyleModel",
            "description_width": "",
            "_view_module": "@jupyter-widgets/base",
            "_model_module_version": "1.5.0",
            "_view_count": null,
            "_view_module_version": "1.2.0",
            "_model_module": "@jupyter-widgets/controls"
          }
        },
        "8adefa23bbd94f41beae128c1993e891": {
          "model_module": "@jupyter-widgets/base",
          "model_name": "LayoutModel",
          "model_module_version": "1.2.0",
          "state": {
            "_view_name": "LayoutView",
            "grid_template_rows": null,
            "right": null,
            "justify_content": null,
            "_view_module": "@jupyter-widgets/base",
            "overflow": null,
            "_model_module_version": "1.2.0",
            "_view_count": null,
            "flex_flow": null,
            "width": null,
            "min_width": null,
            "border": null,
            "align_items": null,
            "bottom": null,
            "_model_module": "@jupyter-widgets/base",
            "top": null,
            "grid_column": null,
            "overflow_y": null,
            "overflow_x": null,
            "grid_auto_flow": null,
            "grid_area": null,
            "grid_template_columns": null,
            "flex": null,
            "_model_name": "LayoutModel",
            "justify_items": null,
            "grid_row": null,
            "max_height": null,
            "align_content": null,
            "visibility": null,
            "align_self": null,
            "height": null,
            "min_height": null,
            "padding": null,
            "grid_auto_rows": null,
            "grid_gap": null,
            "max_width": null,
            "order": null,
            "_view_module_version": "1.2.0",
            "grid_template_areas": null,
            "object_position": null,
            "object_fit": null,
            "grid_auto_columns": null,
            "margin": null,
            "display": null,
            "left": null
          }
        },
        "981fb6ee46804e9b91270e89bde82383": {
          "model_module": "@jupyter-widgets/controls",
          "model_name": "ProgressStyleModel",
          "model_module_version": "1.5.0",
          "state": {
            "_view_name": "StyleView",
            "_model_name": "ProgressStyleModel",
            "description_width": "",
            "_view_module": "@jupyter-widgets/base",
            "_model_module_version": "1.5.0",
            "_view_count": null,
            "_view_module_version": "1.2.0",
            "bar_color": null,
            "_model_module": "@jupyter-widgets/controls"
          }
        },
        "7128a55680d549ca9f273d536e7926e8": {
          "model_module": "@jupyter-widgets/base",
          "model_name": "LayoutModel",
          "model_module_version": "1.2.0",
          "state": {
            "_view_name": "LayoutView",
            "grid_template_rows": null,
            "right": null,
            "justify_content": null,
            "_view_module": "@jupyter-widgets/base",
            "overflow": null,
            "_model_module_version": "1.2.0",
            "_view_count": null,
            "flex_flow": null,
            "width": null,
            "min_width": null,
            "border": null,
            "align_items": null,
            "bottom": null,
            "_model_module": "@jupyter-widgets/base",
            "top": null,
            "grid_column": null,
            "overflow_y": null,
            "overflow_x": null,
            "grid_auto_flow": null,
            "grid_area": null,
            "grid_template_columns": null,
            "flex": null,
            "_model_name": "LayoutModel",
            "justify_items": null,
            "grid_row": null,
            "max_height": null,
            "align_content": null,
            "visibility": null,
            "align_self": null,
            "height": null,
            "min_height": null,
            "padding": null,
            "grid_auto_rows": null,
            "grid_gap": null,
            "max_width": null,
            "order": null,
            "_view_module_version": "1.2.0",
            "grid_template_areas": null,
            "object_position": null,
            "object_fit": null,
            "grid_auto_columns": null,
            "margin": null,
            "display": null,
            "left": null
          }
        },
        "d361fea6bc65429db6d54fa87517a397": {
          "model_module": "@jupyter-widgets/controls",
          "model_name": "DescriptionStyleModel",
          "model_module_version": "1.5.0",
          "state": {
            "_view_name": "StyleView",
            "_model_name": "DescriptionStyleModel",
            "description_width": "",
            "_view_module": "@jupyter-widgets/base",
            "_model_module_version": "1.5.0",
            "_view_count": null,
            "_view_module_version": "1.2.0",
            "_model_module": "@jupyter-widgets/controls"
          }
        },
        "a9449d444f214c3b99804fce2b8c4c50": {
          "model_module": "@jupyter-widgets/base",
          "model_name": "LayoutModel",
          "model_module_version": "1.2.0",
          "state": {
            "_view_name": "LayoutView",
            "grid_template_rows": null,
            "right": null,
            "justify_content": null,
            "_view_module": "@jupyter-widgets/base",
            "overflow": null,
            "_model_module_version": "1.2.0",
            "_view_count": null,
            "flex_flow": null,
            "width": null,
            "min_width": null,
            "border": null,
            "align_items": null,
            "bottom": null,
            "_model_module": "@jupyter-widgets/base",
            "top": null,
            "grid_column": null,
            "overflow_y": null,
            "overflow_x": null,
            "grid_auto_flow": null,
            "grid_area": null,
            "grid_template_columns": null,
            "flex": null,
            "_model_name": "LayoutModel",
            "justify_items": null,
            "grid_row": null,
            "max_height": null,
            "align_content": null,
            "visibility": null,
            "align_self": null,
            "height": null,
            "min_height": null,
            "padding": null,
            "grid_auto_rows": null,
            "grid_gap": null,
            "max_width": null,
            "order": null,
            "_view_module_version": "1.2.0",
            "grid_template_areas": null,
            "object_position": null,
            "object_fit": null,
            "grid_auto_columns": null,
            "margin": null,
            "display": null,
            "left": null
          }
        },
        "e8dc9a858cad4da4a51ebc7d5a086849": {
          "model_module": "@jupyter-widgets/controls",
          "model_name": "HBoxModel",
          "model_module_version": "1.5.0",
          "state": {
            "_view_name": "HBoxView",
            "_dom_classes": [],
            "_model_name": "HBoxModel",
            "_view_module": "@jupyter-widgets/controls",
            "_model_module_version": "1.5.0",
            "_view_count": null,
            "_view_module_version": "1.5.0",
            "box_style": "",
            "layout": "IPY_MODEL_b00fed762360453fbfc5ac8532c5fccf",
            "_model_module": "@jupyter-widgets/controls",
            "children": [
              "IPY_MODEL_d5d9b83422494e6cb3186028ac905c15",
              "IPY_MODEL_0d9520624f814b4c9398794820ab773b",
              "IPY_MODEL_5fbf5f56262b4474aa0f312c9debf4ed"
            ]
          }
        },
        "b00fed762360453fbfc5ac8532c5fccf": {
          "model_module": "@jupyter-widgets/base",
          "model_name": "LayoutModel",
          "model_module_version": "1.2.0",
          "state": {
            "_view_name": "LayoutView",
            "grid_template_rows": null,
            "right": null,
            "justify_content": null,
            "_view_module": "@jupyter-widgets/base",
            "overflow": null,
            "_model_module_version": "1.2.0",
            "_view_count": null,
            "flex_flow": null,
            "width": null,
            "min_width": null,
            "border": null,
            "align_items": null,
            "bottom": null,
            "_model_module": "@jupyter-widgets/base",
            "top": null,
            "grid_column": null,
            "overflow_y": null,
            "overflow_x": null,
            "grid_auto_flow": null,
            "grid_area": null,
            "grid_template_columns": null,
            "flex": null,
            "_model_name": "LayoutModel",
            "justify_items": null,
            "grid_row": null,
            "max_height": null,
            "align_content": null,
            "visibility": null,
            "align_self": null,
            "height": null,
            "min_height": null,
            "padding": null,
            "grid_auto_rows": null,
            "grid_gap": null,
            "max_width": null,
            "order": null,
            "_view_module_version": "1.2.0",
            "grid_template_areas": null,
            "object_position": null,
            "object_fit": null,
            "grid_auto_columns": null,
            "margin": null,
            "display": null,
            "left": null
          }
        },
        "d5d9b83422494e6cb3186028ac905c15": {
          "model_module": "@jupyter-widgets/controls",
          "model_name": "HTMLModel",
          "model_module_version": "1.5.0",
          "state": {
            "_view_name": "HTMLView",
            "style": "IPY_MODEL_47e22d5452f34011b39f3c90b4fe0222",
            "_dom_classes": [],
            "description": "",
            "_model_name": "HTMLModel",
            "placeholder": "​",
            "_view_module": "@jupyter-widgets/controls",
            "_model_module_version": "1.5.0",
            "value": "100%",
            "_view_count": null,
            "_view_module_version": "1.5.0",
            "description_tooltip": null,
            "_model_module": "@jupyter-widgets/controls",
            "layout": "IPY_MODEL_5fb019f03c184251a119d21ed6b491b8"
          }
        },
        "0d9520624f814b4c9398794820ab773b": {
          "model_module": "@jupyter-widgets/controls",
          "model_name": "FloatProgressModel",
          "model_module_version": "1.5.0",
          "state": {
            "_view_name": "ProgressView",
            "style": "IPY_MODEL_065b6386c20242f987341ee3c4b996ba",
            "_dom_classes": [],
            "description": "",
            "_model_name": "FloatProgressModel",
            "bar_style": "success",
            "max": 19,
            "_view_module": "@jupyter-widgets/controls",
            "_model_module_version": "1.5.0",
            "value": 19,
            "_view_count": null,
            "_view_module_version": "1.5.0",
            "orientation": "horizontal",
            "min": 0,
            "description_tooltip": null,
            "_model_module": "@jupyter-widgets/controls",
            "layout": "IPY_MODEL_19aa152d314945388a5f7a1b4975091a"
          }
        },
        "5fbf5f56262b4474aa0f312c9debf4ed": {
          "model_module": "@jupyter-widgets/controls",
          "model_name": "HTMLModel",
          "model_module_version": "1.5.0",
          "state": {
            "_view_name": "HTMLView",
            "style": "IPY_MODEL_bdaa076671de4ab7994ee7f027591ce1",
            "_dom_classes": [],
            "description": "",
            "_model_name": "HTMLModel",
            "placeholder": "​",
            "_view_module": "@jupyter-widgets/controls",
            "_model_module_version": "1.5.0",
            "value": " 19/19 [00:01&lt;00:00, 15.14it/s]",
            "_view_count": null,
            "_view_module_version": "1.5.0",
            "description_tooltip": null,
            "_model_module": "@jupyter-widgets/controls",
            "layout": "IPY_MODEL_e24e374da7e24c169bea917fb43e1092"
          }
        },
        "47e22d5452f34011b39f3c90b4fe0222": {
          "model_module": "@jupyter-widgets/controls",
          "model_name": "DescriptionStyleModel",
          "model_module_version": "1.5.0",
          "state": {
            "_view_name": "StyleView",
            "_model_name": "DescriptionStyleModel",
            "description_width": "",
            "_view_module": "@jupyter-widgets/base",
            "_model_module_version": "1.5.0",
            "_view_count": null,
            "_view_module_version": "1.2.0",
            "_model_module": "@jupyter-widgets/controls"
          }
        },
        "5fb019f03c184251a119d21ed6b491b8": {
          "model_module": "@jupyter-widgets/base",
          "model_name": "LayoutModel",
          "model_module_version": "1.2.0",
          "state": {
            "_view_name": "LayoutView",
            "grid_template_rows": null,
            "right": null,
            "justify_content": null,
            "_view_module": "@jupyter-widgets/base",
            "overflow": null,
            "_model_module_version": "1.2.0",
            "_view_count": null,
            "flex_flow": null,
            "width": null,
            "min_width": null,
            "border": null,
            "align_items": null,
            "bottom": null,
            "_model_module": "@jupyter-widgets/base",
            "top": null,
            "grid_column": null,
            "overflow_y": null,
            "overflow_x": null,
            "grid_auto_flow": null,
            "grid_area": null,
            "grid_template_columns": null,
            "flex": null,
            "_model_name": "LayoutModel",
            "justify_items": null,
            "grid_row": null,
            "max_height": null,
            "align_content": null,
            "visibility": null,
            "align_self": null,
            "height": null,
            "min_height": null,
            "padding": null,
            "grid_auto_rows": null,
            "grid_gap": null,
            "max_width": null,
            "order": null,
            "_view_module_version": "1.2.0",
            "grid_template_areas": null,
            "object_position": null,
            "object_fit": null,
            "grid_auto_columns": null,
            "margin": null,
            "display": null,
            "left": null
          }
        },
        "065b6386c20242f987341ee3c4b996ba": {
          "model_module": "@jupyter-widgets/controls",
          "model_name": "ProgressStyleModel",
          "model_module_version": "1.5.0",
          "state": {
            "_view_name": "StyleView",
            "_model_name": "ProgressStyleModel",
            "description_width": "",
            "_view_module": "@jupyter-widgets/base",
            "_model_module_version": "1.5.0",
            "_view_count": null,
            "_view_module_version": "1.2.0",
            "bar_color": null,
            "_model_module": "@jupyter-widgets/controls"
          }
        },
        "19aa152d314945388a5f7a1b4975091a": {
          "model_module": "@jupyter-widgets/base",
          "model_name": "LayoutModel",
          "model_module_version": "1.2.0",
          "state": {
            "_view_name": "LayoutView",
            "grid_template_rows": null,
            "right": null,
            "justify_content": null,
            "_view_module": "@jupyter-widgets/base",
            "overflow": null,
            "_model_module_version": "1.2.0",
            "_view_count": null,
            "flex_flow": null,
            "width": null,
            "min_width": null,
            "border": null,
            "align_items": null,
            "bottom": null,
            "_model_module": "@jupyter-widgets/base",
            "top": null,
            "grid_column": null,
            "overflow_y": null,
            "overflow_x": null,
            "grid_auto_flow": null,
            "grid_area": null,
            "grid_template_columns": null,
            "flex": null,
            "_model_name": "LayoutModel",
            "justify_items": null,
            "grid_row": null,
            "max_height": null,
            "align_content": null,
            "visibility": null,
            "align_self": null,
            "height": null,
            "min_height": null,
            "padding": null,
            "grid_auto_rows": null,
            "grid_gap": null,
            "max_width": null,
            "order": null,
            "_view_module_version": "1.2.0",
            "grid_template_areas": null,
            "object_position": null,
            "object_fit": null,
            "grid_auto_columns": null,
            "margin": null,
            "display": null,
            "left": null
          }
        },
        "bdaa076671de4ab7994ee7f027591ce1": {
          "model_module": "@jupyter-widgets/controls",
          "model_name": "DescriptionStyleModel",
          "model_module_version": "1.5.0",
          "state": {
            "_view_name": "StyleView",
            "_model_name": "DescriptionStyleModel",
            "description_width": "",
            "_view_module": "@jupyter-widgets/base",
            "_model_module_version": "1.5.0",
            "_view_count": null,
            "_view_module_version": "1.2.0",
            "_model_module": "@jupyter-widgets/controls"
          }
        },
        "e24e374da7e24c169bea917fb43e1092": {
          "model_module": "@jupyter-widgets/base",
          "model_name": "LayoutModel",
          "model_module_version": "1.2.0",
          "state": {
            "_view_name": "LayoutView",
            "grid_template_rows": null,
            "right": null,
            "justify_content": null,
            "_view_module": "@jupyter-widgets/base",
            "overflow": null,
            "_model_module_version": "1.2.0",
            "_view_count": null,
            "flex_flow": null,
            "width": null,
            "min_width": null,
            "border": null,
            "align_items": null,
            "bottom": null,
            "_model_module": "@jupyter-widgets/base",
            "top": null,
            "grid_column": null,
            "overflow_y": null,
            "overflow_x": null,
            "grid_auto_flow": null,
            "grid_area": null,
            "grid_template_columns": null,
            "flex": null,
            "_model_name": "LayoutModel",
            "justify_items": null,
            "grid_row": null,
            "max_height": null,
            "align_content": null,
            "visibility": null,
            "align_self": null,
            "height": null,
            "min_height": null,
            "padding": null,
            "grid_auto_rows": null,
            "grid_gap": null,
            "max_width": null,
            "order": null,
            "_view_module_version": "1.2.0",
            "grid_template_areas": null,
            "object_position": null,
            "object_fit": null,
            "grid_auto_columns": null,
            "margin": null,
            "display": null,
            "left": null
          }
        },
        "00caae47ce1a42cfbd5ce9676e376616": {
          "model_module": "@jupyter-widgets/controls",
          "model_name": "HBoxModel",
          "model_module_version": "1.5.0",
          "state": {
            "_view_name": "HBoxView",
            "_dom_classes": [],
            "_model_name": "HBoxModel",
            "_view_module": "@jupyter-widgets/controls",
            "_model_module_version": "1.5.0",
            "_view_count": null,
            "_view_module_version": "1.5.0",
            "box_style": "",
            "layout": "IPY_MODEL_c9f439e80c294efa8b6599f5f9f28761",
            "_model_module": "@jupyter-widgets/controls",
            "children": [
              "IPY_MODEL_eee2705c3040413782f20fa2b1825bee",
              "IPY_MODEL_5c08e93e8c5d418da77d8aaa81159f32",
              "IPY_MODEL_8d1ae14bf22947a190f3894654f3abd7"
            ]
          }
        },
        "c9f439e80c294efa8b6599f5f9f28761": {
          "model_module": "@jupyter-widgets/base",
          "model_name": "LayoutModel",
          "model_module_version": "1.2.0",
          "state": {
            "_view_name": "LayoutView",
            "grid_template_rows": null,
            "right": null,
            "justify_content": null,
            "_view_module": "@jupyter-widgets/base",
            "overflow": null,
            "_model_module_version": "1.2.0",
            "_view_count": null,
            "flex_flow": null,
            "width": null,
            "min_width": null,
            "border": null,
            "align_items": null,
            "bottom": null,
            "_model_module": "@jupyter-widgets/base",
            "top": null,
            "grid_column": null,
            "overflow_y": null,
            "overflow_x": null,
            "grid_auto_flow": null,
            "grid_area": null,
            "grid_template_columns": null,
            "flex": null,
            "_model_name": "LayoutModel",
            "justify_items": null,
            "grid_row": null,
            "max_height": null,
            "align_content": null,
            "visibility": null,
            "align_self": null,
            "height": null,
            "min_height": null,
            "padding": null,
            "grid_auto_rows": null,
            "grid_gap": null,
            "max_width": null,
            "order": null,
            "_view_module_version": "1.2.0",
            "grid_template_areas": null,
            "object_position": null,
            "object_fit": null,
            "grid_auto_columns": null,
            "margin": null,
            "display": null,
            "left": null
          }
        },
        "eee2705c3040413782f20fa2b1825bee": {
          "model_module": "@jupyter-widgets/controls",
          "model_name": "HTMLModel",
          "model_module_version": "1.5.0",
          "state": {
            "_view_name": "HTMLView",
            "style": "IPY_MODEL_0868a0ac5aed4836a3c8092226022812",
            "_dom_classes": [],
            "description": "",
            "_model_name": "HTMLModel",
            "placeholder": "​",
            "_view_module": "@jupyter-widgets/controls",
            "_model_module_version": "1.5.0",
            "value": "Upload file pytorch_model.bin: 100%",
            "_view_count": null,
            "_view_module_version": "1.5.0",
            "description_tooltip": null,
            "_model_module": "@jupyter-widgets/controls",
            "layout": "IPY_MODEL_b7ae3b72dab240d898311b0adc6de4ba"
          }
        },
        "5c08e93e8c5d418da77d8aaa81159f32": {
          "model_module": "@jupyter-widgets/controls",
          "model_name": "FloatProgressModel",
          "model_module_version": "1.5.0",
          "state": {
            "_view_name": "ProgressView",
            "style": "IPY_MODEL_b31c7a4eebe244f98fc9612841ca07c1",
            "_dom_classes": [],
            "description": "",
            "_model_name": "FloatProgressModel",
            "bar_style": "success",
            "max": 430968241,
            "_view_module": "@jupyter-widgets/controls",
            "_model_module_version": "1.5.0",
            "value": 430968241,
            "_view_count": null,
            "_view_module_version": "1.5.0",
            "orientation": "horizontal",
            "min": 0,
            "description_tooltip": null,
            "_model_module": "@jupyter-widgets/controls",
            "layout": "IPY_MODEL_239ecbba6d8944fda1b7b62683f216e3"
          }
        },
        "8d1ae14bf22947a190f3894654f3abd7": {
          "model_module": "@jupyter-widgets/controls",
          "model_name": "HTMLModel",
          "model_module_version": "1.5.0",
          "state": {
            "_view_name": "HTMLView",
            "style": "IPY_MODEL_9613748ac5ec42d59a73ca5f421fb3ba",
            "_dom_classes": [],
            "description": "",
            "_model_name": "HTMLModel",
            "placeholder": "​",
            "_view_module": "@jupyter-widgets/controls",
            "_model_module_version": "1.5.0",
            "value": " 411M/411M [05:17&lt;00:00, 1.04MB/s]",
            "_view_count": null,
            "_view_module_version": "1.5.0",
            "description_tooltip": null,
            "_model_module": "@jupyter-widgets/controls",
            "layout": "IPY_MODEL_ed546894dec449f5a383aa42049719c8"
          }
        },
        "0868a0ac5aed4836a3c8092226022812": {
          "model_module": "@jupyter-widgets/controls",
          "model_name": "DescriptionStyleModel",
          "model_module_version": "1.5.0",
          "state": {
            "_view_name": "StyleView",
            "_model_name": "DescriptionStyleModel",
            "description_width": "",
            "_view_module": "@jupyter-widgets/base",
            "_model_module_version": "1.5.0",
            "_view_count": null,
            "_view_module_version": "1.2.0",
            "_model_module": "@jupyter-widgets/controls"
          }
        },
        "b7ae3b72dab240d898311b0adc6de4ba": {
          "model_module": "@jupyter-widgets/base",
          "model_name": "LayoutModel",
          "model_module_version": "1.2.0",
          "state": {
            "_view_name": "LayoutView",
            "grid_template_rows": null,
            "right": null,
            "justify_content": null,
            "_view_module": "@jupyter-widgets/base",
            "overflow": null,
            "_model_module_version": "1.2.0",
            "_view_count": null,
            "flex_flow": null,
            "width": null,
            "min_width": null,
            "border": null,
            "align_items": null,
            "bottom": null,
            "_model_module": "@jupyter-widgets/base",
            "top": null,
            "grid_column": null,
            "overflow_y": null,
            "overflow_x": null,
            "grid_auto_flow": null,
            "grid_area": null,
            "grid_template_columns": null,
            "flex": null,
            "_model_name": "LayoutModel",
            "justify_items": null,
            "grid_row": null,
            "max_height": null,
            "align_content": null,
            "visibility": null,
            "align_self": null,
            "height": null,
            "min_height": null,
            "padding": null,
            "grid_auto_rows": null,
            "grid_gap": null,
            "max_width": null,
            "order": null,
            "_view_module_version": "1.2.0",
            "grid_template_areas": null,
            "object_position": null,
            "object_fit": null,
            "grid_auto_columns": null,
            "margin": null,
            "display": null,
            "left": null
          }
        },
        "b31c7a4eebe244f98fc9612841ca07c1": {
          "model_module": "@jupyter-widgets/controls",
          "model_name": "ProgressStyleModel",
          "model_module_version": "1.5.0",
          "state": {
            "_view_name": "StyleView",
            "_model_name": "ProgressStyleModel",
            "description_width": "",
            "_view_module": "@jupyter-widgets/base",
            "_model_module_version": "1.5.0",
            "_view_count": null,
            "_view_module_version": "1.2.0",
            "bar_color": null,
            "_model_module": "@jupyter-widgets/controls"
          }
        },
        "239ecbba6d8944fda1b7b62683f216e3": {
          "model_module": "@jupyter-widgets/base",
          "model_name": "LayoutModel",
          "model_module_version": "1.2.0",
          "state": {
            "_view_name": "LayoutView",
            "grid_template_rows": null,
            "right": null,
            "justify_content": null,
            "_view_module": "@jupyter-widgets/base",
            "overflow": null,
            "_model_module_version": "1.2.0",
            "_view_count": null,
            "flex_flow": null,
            "width": null,
            "min_width": null,
            "border": null,
            "align_items": null,
            "bottom": null,
            "_model_module": "@jupyter-widgets/base",
            "top": null,
            "grid_column": null,
            "overflow_y": null,
            "overflow_x": null,
            "grid_auto_flow": null,
            "grid_area": null,
            "grid_template_columns": null,
            "flex": null,
            "_model_name": "LayoutModel",
            "justify_items": null,
            "grid_row": null,
            "max_height": null,
            "align_content": null,
            "visibility": null,
            "align_self": null,
            "height": null,
            "min_height": null,
            "padding": null,
            "grid_auto_rows": null,
            "grid_gap": null,
            "max_width": null,
            "order": null,
            "_view_module_version": "1.2.0",
            "grid_template_areas": null,
            "object_position": null,
            "object_fit": null,
            "grid_auto_columns": null,
            "margin": null,
            "display": null,
            "left": null
          }
        },
        "9613748ac5ec42d59a73ca5f421fb3ba": {
          "model_module": "@jupyter-widgets/controls",
          "model_name": "DescriptionStyleModel",
          "model_module_version": "1.5.0",
          "state": {
            "_view_name": "StyleView",
            "_model_name": "DescriptionStyleModel",
            "description_width": "",
            "_view_module": "@jupyter-widgets/base",
            "_model_module_version": "1.5.0",
            "_view_count": null,
            "_view_module_version": "1.2.0",
            "_model_module": "@jupyter-widgets/controls"
          }
        },
        "ed546894dec449f5a383aa42049719c8": {
          "model_module": "@jupyter-widgets/base",
          "model_name": "LayoutModel",
          "model_module_version": "1.2.0",
          "state": {
            "_view_name": "LayoutView",
            "grid_template_rows": null,
            "right": null,
            "justify_content": null,
            "_view_module": "@jupyter-widgets/base",
            "overflow": null,
            "_model_module_version": "1.2.0",
            "_view_count": null,
            "flex_flow": null,
            "width": null,
            "min_width": null,
            "border": null,
            "align_items": null,
            "bottom": null,
            "_model_module": "@jupyter-widgets/base",
            "top": null,
            "grid_column": null,
            "overflow_y": null,
            "overflow_x": null,
            "grid_auto_flow": null,
            "grid_area": null,
            "grid_template_columns": null,
            "flex": null,
            "_model_name": "LayoutModel",
            "justify_items": null,
            "grid_row": null,
            "max_height": null,
            "align_content": null,
            "visibility": null,
            "align_self": null,
            "height": null,
            "min_height": null,
            "padding": null,
            "grid_auto_rows": null,
            "grid_gap": null,
            "max_width": null,
            "order": null,
            "_view_module_version": "1.2.0",
            "grid_template_areas": null,
            "object_position": null,
            "object_fit": null,
            "grid_auto_columns": null,
            "margin": null,
            "display": null,
            "left": null
          }
        },
        "8169af39d132431d9182b1abbc07e8c7": {
          "model_module": "@jupyter-widgets/controls",
          "model_name": "HBoxModel",
          "model_module_version": "1.5.0",
          "state": {
            "_view_name": "HBoxView",
            "_dom_classes": [],
            "_model_name": "HBoxModel",
            "_view_module": "@jupyter-widgets/controls",
            "_model_module_version": "1.5.0",
            "_view_count": null,
            "_view_module_version": "1.5.0",
            "box_style": "",
            "layout": "IPY_MODEL_2a461d61d03b4207b33135f821ba5ae0",
            "_model_module": "@jupyter-widgets/controls",
            "children": [
              "IPY_MODEL_a8b91fd13ffd4f68976a13a0428d5fef",
              "IPY_MODEL_07776404062e4767b6075f21723c0023",
              "IPY_MODEL_2a7e9d18edf4451581411e3450d73c30"
            ]
          }
        },
        "2a461d61d03b4207b33135f821ba5ae0": {
          "model_module": "@jupyter-widgets/base",
          "model_name": "LayoutModel",
          "model_module_version": "1.2.0",
          "state": {
            "_view_name": "LayoutView",
            "grid_template_rows": null,
            "right": null,
            "justify_content": null,
            "_view_module": "@jupyter-widgets/base",
            "overflow": null,
            "_model_module_version": "1.2.0",
            "_view_count": null,
            "flex_flow": null,
            "width": null,
            "min_width": null,
            "border": null,
            "align_items": null,
            "bottom": null,
            "_model_module": "@jupyter-widgets/base",
            "top": null,
            "grid_column": null,
            "overflow_y": null,
            "overflow_x": null,
            "grid_auto_flow": null,
            "grid_area": null,
            "grid_template_columns": null,
            "flex": null,
            "_model_name": "LayoutModel",
            "justify_items": null,
            "grid_row": null,
            "max_height": null,
            "align_content": null,
            "visibility": null,
            "align_self": null,
            "height": null,
            "min_height": null,
            "padding": null,
            "grid_auto_rows": null,
            "grid_gap": null,
            "max_width": null,
            "order": null,
            "_view_module_version": "1.2.0",
            "grid_template_areas": null,
            "object_position": null,
            "object_fit": null,
            "grid_auto_columns": null,
            "margin": null,
            "display": null,
            "left": null
          }
        },
        "a8b91fd13ffd4f68976a13a0428d5fef": {
          "model_module": "@jupyter-widgets/controls",
          "model_name": "HTMLModel",
          "model_module_version": "1.5.0",
          "state": {
            "_view_name": "HTMLView",
            "style": "IPY_MODEL_aed27a90e81149d68336c9fca41ed6a0",
            "_dom_classes": [],
            "description": "",
            "_model_name": "HTMLModel",
            "placeholder": "​",
            "_view_module": "@jupyter-widgets/controls",
            "_model_module_version": "1.5.0",
            "value": "Upload file runs/Jan20_15-38-31_3593d06438ae/events.out.tfevents.1642693126.3593d06438ae.76.0: 100%",
            "_view_count": null,
            "_view_module_version": "1.5.0",
            "description_tooltip": null,
            "_model_module": "@jupyter-widgets/controls",
            "layout": "IPY_MODEL_972fcaa77bb046a2964c79331351eb1d"
          }
        },
        "07776404062e4767b6075f21723c0023": {
          "model_module": "@jupyter-widgets/controls",
          "model_name": "FloatProgressModel",
          "model_module_version": "1.5.0",
          "state": {
            "_view_name": "ProgressView",
            "style": "IPY_MODEL_db4601fb91514003b02f16170063bad4",
            "_dom_classes": [],
            "description": "",
            "_model_name": "FloatProgressModel",
            "bar_style": "success",
            "max": 4889,
            "_view_module": "@jupyter-widgets/controls",
            "_model_module_version": "1.5.0",
            "value": 4889,
            "_view_count": null,
            "_view_module_version": "1.5.0",
            "orientation": "horizontal",
            "min": 0,
            "description_tooltip": null,
            "_model_module": "@jupyter-widgets/controls",
            "layout": "IPY_MODEL_f5d6277f38604089aa766291076ea834"
          }
        },
        "2a7e9d18edf4451581411e3450d73c30": {
          "model_module": "@jupyter-widgets/controls",
          "model_name": "HTMLModel",
          "model_module_version": "1.5.0",
          "state": {
            "_view_name": "HTMLView",
            "style": "IPY_MODEL_8d536334e71c43ffac1d9432b04aeeea",
            "_dom_classes": [],
            "description": "",
            "_model_name": "HTMLModel",
            "placeholder": "​",
            "_view_module": "@jupyter-widgets/controls",
            "_model_module_version": "1.5.0",
            "value": " 4.77k/4.77k [05:17&lt;00:00, 4.54B/s]",
            "_view_count": null,
            "_view_module_version": "1.5.0",
            "description_tooltip": null,
            "_model_module": "@jupyter-widgets/controls",
            "layout": "IPY_MODEL_501a3e5396cd404cb07bda33101cd6d5"
          }
        },
        "aed27a90e81149d68336c9fca41ed6a0": {
          "model_module": "@jupyter-widgets/controls",
          "model_name": "DescriptionStyleModel",
          "model_module_version": "1.5.0",
          "state": {
            "_view_name": "StyleView",
            "_model_name": "DescriptionStyleModel",
            "description_width": "",
            "_view_module": "@jupyter-widgets/base",
            "_model_module_version": "1.5.0",
            "_view_count": null,
            "_view_module_version": "1.2.0",
            "_model_module": "@jupyter-widgets/controls"
          }
        },
        "972fcaa77bb046a2964c79331351eb1d": {
          "model_module": "@jupyter-widgets/base",
          "model_name": "LayoutModel",
          "model_module_version": "1.2.0",
          "state": {
            "_view_name": "LayoutView",
            "grid_template_rows": null,
            "right": null,
            "justify_content": null,
            "_view_module": "@jupyter-widgets/base",
            "overflow": null,
            "_model_module_version": "1.2.0",
            "_view_count": null,
            "flex_flow": null,
            "width": null,
            "min_width": null,
            "border": null,
            "align_items": null,
            "bottom": null,
            "_model_module": "@jupyter-widgets/base",
            "top": null,
            "grid_column": null,
            "overflow_y": null,
            "overflow_x": null,
            "grid_auto_flow": null,
            "grid_area": null,
            "grid_template_columns": null,
            "flex": null,
            "_model_name": "LayoutModel",
            "justify_items": null,
            "grid_row": null,
            "max_height": null,
            "align_content": null,
            "visibility": null,
            "align_self": null,
            "height": null,
            "min_height": null,
            "padding": null,
            "grid_auto_rows": null,
            "grid_gap": null,
            "max_width": null,
            "order": null,
            "_view_module_version": "1.2.0",
            "grid_template_areas": null,
            "object_position": null,
            "object_fit": null,
            "grid_auto_columns": null,
            "margin": null,
            "display": null,
            "left": null
          }
        },
        "db4601fb91514003b02f16170063bad4": {
          "model_module": "@jupyter-widgets/controls",
          "model_name": "ProgressStyleModel",
          "model_module_version": "1.5.0",
          "state": {
            "_view_name": "StyleView",
            "_model_name": "ProgressStyleModel",
            "description_width": "",
            "_view_module": "@jupyter-widgets/base",
            "_model_module_version": "1.5.0",
            "_view_count": null,
            "_view_module_version": "1.2.0",
            "bar_color": null,
            "_model_module": "@jupyter-widgets/controls"
          }
        },
        "f5d6277f38604089aa766291076ea834": {
          "model_module": "@jupyter-widgets/base",
          "model_name": "LayoutModel",
          "model_module_version": "1.2.0",
          "state": {
            "_view_name": "LayoutView",
            "grid_template_rows": null,
            "right": null,
            "justify_content": null,
            "_view_module": "@jupyter-widgets/base",
            "overflow": null,
            "_model_module_version": "1.2.0",
            "_view_count": null,
            "flex_flow": null,
            "width": null,
            "min_width": null,
            "border": null,
            "align_items": null,
            "bottom": null,
            "_model_module": "@jupyter-widgets/base",
            "top": null,
            "grid_column": null,
            "overflow_y": null,
            "overflow_x": null,
            "grid_auto_flow": null,
            "grid_area": null,
            "grid_template_columns": null,
            "flex": null,
            "_model_name": "LayoutModel",
            "justify_items": null,
            "grid_row": null,
            "max_height": null,
            "align_content": null,
            "visibility": null,
            "align_self": null,
            "height": null,
            "min_height": null,
            "padding": null,
            "grid_auto_rows": null,
            "grid_gap": null,
            "max_width": null,
            "order": null,
            "_view_module_version": "1.2.0",
            "grid_template_areas": null,
            "object_position": null,
            "object_fit": null,
            "grid_auto_columns": null,
            "margin": null,
            "display": null,
            "left": null
          }
        },
        "8d536334e71c43ffac1d9432b04aeeea": {
          "model_module": "@jupyter-widgets/controls",
          "model_name": "DescriptionStyleModel",
          "model_module_version": "1.5.0",
          "state": {
            "_view_name": "StyleView",
            "_model_name": "DescriptionStyleModel",
            "description_width": "",
            "_view_module": "@jupyter-widgets/base",
            "_model_module_version": "1.5.0",
            "_view_count": null,
            "_view_module_version": "1.2.0",
            "_model_module": "@jupyter-widgets/controls"
          }
        },
        "501a3e5396cd404cb07bda33101cd6d5": {
          "model_module": "@jupyter-widgets/base",
          "model_name": "LayoutModel",
          "model_module_version": "1.2.0",
          "state": {
            "_view_name": "LayoutView",
            "grid_template_rows": null,
            "right": null,
            "justify_content": null,
            "_view_module": "@jupyter-widgets/base",
            "overflow": null,
            "_model_module_version": "1.2.0",
            "_view_count": null,
            "flex_flow": null,
            "width": null,
            "min_width": null,
            "border": null,
            "align_items": null,
            "bottom": null,
            "_model_module": "@jupyter-widgets/base",
            "top": null,
            "grid_column": null,
            "overflow_y": null,
            "overflow_x": null,
            "grid_auto_flow": null,
            "grid_area": null,
            "grid_template_columns": null,
            "flex": null,
            "_model_name": "LayoutModel",
            "justify_items": null,
            "grid_row": null,
            "max_height": null,
            "align_content": null,
            "visibility": null,
            "align_self": null,
            "height": null,
            "min_height": null,
            "padding": null,
            "grid_auto_rows": null,
            "grid_gap": null,
            "max_width": null,
            "order": null,
            "_view_module_version": "1.2.0",
            "grid_template_areas": null,
            "object_position": null,
            "object_fit": null,
            "grid_auto_columns": null,
            "margin": null,
            "display": null,
            "left": null
          }
        }
      }
    },
    "accelerator": "GPU"
  },
  "cells": [
    {
      "cell_type": "markdown",
      "metadata": {
        "id": "view-in-github",
        "colab_type": "text"
      },
      "source": [
        "<a href=\"https://colab.research.google.com/github/nntadotzip/XLNet-sandbox/blob/main/BertQA.ipynb\" target=\"_parent\"><img src=\"https://colab.research.google.com/assets/colab-badge.svg\" alt=\"Open In Colab\"/></a>"
      ]
    },
    {
      "cell_type": "markdown",
      "source": [
        "# Import and Install"
      ],
      "metadata": {
        "id": "ePhfO2A3wlWM"
      }
    },
    {
      "cell_type": "code",
      "source": [
        "import tensorflow as tf\n",
        "\n",
        "device_name = tf.test.gpu_device_name()\n",
        "if device_name != '/device:GPU:0':\n",
        "  raise SystemError('GPU device not found')\n",
        "print('Found GPU at: {}'.format(device_name))"
      ],
      "metadata": {
        "colab": {
          "base_uri": "https://localhost:8080/"
        },
        "id": "kgtA4B-Sdj4Z",
        "outputId": "6ef93c9c-5af1-4270-af8e-9bb4cc4da437"
      },
      "execution_count": 1,
      "outputs": [
        {
          "output_type": "stream",
          "name": "stdout",
          "text": [
            "Found GPU at: /device:GPU:0\n"
          ]
        }
      ]
    },
    {
      "cell_type": "code",
      "execution_count": 2,
      "metadata": {
        "id": "Rv_xR_o9wetZ",
        "colab": {
          "base_uri": "https://localhost:8080/",
          "height": 1000
        },
        "outputId": "73860c3c-69c5-4027-d12b-8f1ac0c18cf5"
      },
      "outputs": [
        {
          "output_type": "stream",
          "name": "stdout",
          "text": [
            "Collecting datasets\n",
            "  Downloading datasets-1.17.0-py3-none-any.whl (306 kB)\n",
            "\u001b[K     |████████████████████████████████| 306 kB 7.3 MB/s \n",
            "\u001b[?25hCollecting transformers\n",
            "  Downloading transformers-4.15.0-py3-none-any.whl (3.4 MB)\n",
            "\u001b[K     |████████████████████████████████| 3.4 MB 68.2 MB/s \n",
            "\u001b[?25hRequirement already satisfied: packaging in /usr/local/lib/python3.7/dist-packages (from datasets) (21.3)\n",
            "Requirement already satisfied: numpy>=1.17 in /usr/local/lib/python3.7/dist-packages (from datasets) (1.19.5)\n",
            "Requirement already satisfied: multiprocess in /usr/local/lib/python3.7/dist-packages (from datasets) (0.70.12.2)\n",
            "Collecting fsspec[http]>=2021.05.0\n",
            "  Downloading fsspec-2022.1.0-py3-none-any.whl (133 kB)\n",
            "\u001b[K     |████████████████████████████████| 133 kB 79.8 MB/s \n",
            "\u001b[?25hRequirement already satisfied: importlib-metadata in /usr/local/lib/python3.7/dist-packages (from datasets) (4.10.0)\n",
            "Requirement already satisfied: tqdm>=4.62.1 in /usr/local/lib/python3.7/dist-packages (from datasets) (4.62.3)\n",
            "Requirement already satisfied: requests>=2.19.0 in /usr/local/lib/python3.7/dist-packages (from datasets) (2.23.0)\n",
            "Requirement already satisfied: pyarrow!=4.0.0,>=3.0.0 in /usr/local/lib/python3.7/dist-packages (from datasets) (3.0.0)\n",
            "Collecting aiohttp\n",
            "  Downloading aiohttp-3.8.1-cp37-cp37m-manylinux_2_5_x86_64.manylinux1_x86_64.manylinux_2_12_x86_64.manylinux2010_x86_64.whl (1.1 MB)\n",
            "\u001b[K     |████████████████████████████████| 1.1 MB 66.0 MB/s \n",
            "\u001b[?25hCollecting huggingface-hub<1.0.0,>=0.1.0\n",
            "  Downloading huggingface_hub-0.4.0-py3-none-any.whl (67 kB)\n",
            "\u001b[K     |████████████████████████████████| 67 kB 7.1 MB/s \n",
            "\u001b[?25hRequirement already satisfied: dill in /usr/local/lib/python3.7/dist-packages (from datasets) (0.3.4)\n",
            "Requirement already satisfied: pandas in /usr/local/lib/python3.7/dist-packages (from datasets) (1.1.5)\n",
            "Collecting xxhash\n",
            "  Downloading xxhash-2.0.2-cp37-cp37m-manylinux2010_x86_64.whl (243 kB)\n",
            "\u001b[K     |████████████████████████████████| 243 kB 81.2 MB/s \n",
            "\u001b[?25hRequirement already satisfied: pyyaml in /usr/local/lib/python3.7/dist-packages (from huggingface-hub<1.0.0,>=0.1.0->datasets) (3.13)\n",
            "Requirement already satisfied: filelock in /usr/local/lib/python3.7/dist-packages (from huggingface-hub<1.0.0,>=0.1.0->datasets) (3.4.2)\n",
            "Requirement already satisfied: typing-extensions>=3.7.4.3 in /usr/local/lib/python3.7/dist-packages (from huggingface-hub<1.0.0,>=0.1.0->datasets) (3.10.0.2)\n",
            "Requirement already satisfied: pyparsing!=3.0.5,>=2.0.2 in /usr/local/lib/python3.7/dist-packages (from packaging->datasets) (3.0.6)\n",
            "Requirement already satisfied: certifi>=2017.4.17 in /usr/local/lib/python3.7/dist-packages (from requests>=2.19.0->datasets) (2021.10.8)\n",
            "Requirement already satisfied: chardet<4,>=3.0.2 in /usr/local/lib/python3.7/dist-packages (from requests>=2.19.0->datasets) (3.0.4)\n",
            "Requirement already satisfied: urllib3!=1.25.0,!=1.25.1,<1.26,>=1.21.1 in /usr/local/lib/python3.7/dist-packages (from requests>=2.19.0->datasets) (1.24.3)\n",
            "Requirement already satisfied: idna<3,>=2.5 in /usr/local/lib/python3.7/dist-packages (from requests>=2.19.0->datasets) (2.10)\n",
            "Requirement already satisfied: regex!=2019.12.17 in /usr/local/lib/python3.7/dist-packages (from transformers) (2019.12.20)\n",
            "Collecting pyyaml\n",
            "  Downloading PyYAML-6.0-cp37-cp37m-manylinux_2_5_x86_64.manylinux1_x86_64.manylinux_2_12_x86_64.manylinux2010_x86_64.whl (596 kB)\n",
            "\u001b[K     |████████████████████████████████| 596 kB 77.1 MB/s \n",
            "\u001b[?25hCollecting sacremoses\n",
            "  Downloading sacremoses-0.0.47-py2.py3-none-any.whl (895 kB)\n",
            "\u001b[K     |████████████████████████████████| 895 kB 75.2 MB/s \n",
            "\u001b[?25hCollecting tokenizers<0.11,>=0.10.1\n",
            "  Downloading tokenizers-0.10.3-cp37-cp37m-manylinux_2_5_x86_64.manylinux1_x86_64.manylinux_2_12_x86_64.manylinux2010_x86_64.whl (3.3 MB)\n",
            "\u001b[K     |████████████████████████████████| 3.3 MB 52.7 MB/s \n",
            "\u001b[?25hCollecting asynctest==0.13.0\n",
            "  Downloading asynctest-0.13.0-py3-none-any.whl (26 kB)\n",
            "Collecting frozenlist>=1.1.1\n",
            "  Downloading frozenlist-1.3.0-cp37-cp37m-manylinux_2_5_x86_64.manylinux1_x86_64.manylinux_2_17_x86_64.manylinux2014_x86_64.whl (144 kB)\n",
            "\u001b[K     |████████████████████████████████| 144 kB 76.8 MB/s \n",
            "\u001b[?25hCollecting yarl<2.0,>=1.0\n",
            "  Downloading yarl-1.7.2-cp37-cp37m-manylinux_2_5_x86_64.manylinux1_x86_64.manylinux_2_12_x86_64.manylinux2010_x86_64.whl (271 kB)\n",
            "\u001b[K     |████████████████████████████████| 271 kB 80.7 MB/s \n",
            "\u001b[?25hCollecting aiosignal>=1.1.2\n",
            "  Downloading aiosignal-1.2.0-py3-none-any.whl (8.2 kB)\n",
            "Collecting async-timeout<5.0,>=4.0.0a3\n",
            "  Downloading async_timeout-4.0.2-py3-none-any.whl (5.8 kB)\n",
            "Requirement already satisfied: attrs>=17.3.0 in /usr/local/lib/python3.7/dist-packages (from aiohttp->datasets) (21.4.0)\n",
            "Requirement already satisfied: charset-normalizer<3.0,>=2.0 in /usr/local/lib/python3.7/dist-packages (from aiohttp->datasets) (2.0.10)\n",
            "Collecting multidict<7.0,>=4.5\n",
            "  Downloading multidict-5.2.0-cp37-cp37m-manylinux_2_5_x86_64.manylinux1_x86_64.manylinux_2_12_x86_64.manylinux2010_x86_64.whl (160 kB)\n",
            "\u001b[K     |████████████████████████████████| 160 kB 76.6 MB/s \n",
            "\u001b[?25hRequirement already satisfied: zipp>=0.5 in /usr/local/lib/python3.7/dist-packages (from importlib-metadata->datasets) (3.7.0)\n",
            "Requirement already satisfied: pytz>=2017.2 in /usr/local/lib/python3.7/dist-packages (from pandas->datasets) (2018.9)\n",
            "Requirement already satisfied: python-dateutil>=2.7.3 in /usr/local/lib/python3.7/dist-packages (from pandas->datasets) (2.8.2)\n",
            "Requirement already satisfied: six>=1.5 in /usr/local/lib/python3.7/dist-packages (from python-dateutil>=2.7.3->pandas->datasets) (1.15.0)\n",
            "Requirement already satisfied: click in /usr/local/lib/python3.7/dist-packages (from sacremoses->transformers) (7.1.2)\n",
            "Requirement already satisfied: joblib in /usr/local/lib/python3.7/dist-packages (from sacremoses->transformers) (1.1.0)\n",
            "Installing collected packages: multidict, frozenlist, yarl, asynctest, async-timeout, aiosignal, pyyaml, fsspec, aiohttp, xxhash, tokenizers, sacremoses, huggingface-hub, transformers, datasets\n",
            "  Attempting uninstall: pyyaml\n",
            "    Found existing installation: PyYAML 3.13\n",
            "    Uninstalling PyYAML-3.13:\n",
            "      Successfully uninstalled PyYAML-3.13\n",
            "Successfully installed aiohttp-3.8.1 aiosignal-1.2.0 async-timeout-4.0.2 asynctest-0.13.0 datasets-1.17.0 frozenlist-1.3.0 fsspec-2022.1.0 huggingface-hub-0.4.0 multidict-5.2.0 pyyaml-6.0 sacremoses-0.0.47 tokenizers-0.10.3 transformers-4.15.0 xxhash-2.0.2 yarl-1.7.2\n",
            "Collecting pytorch-transformers\n",
            "  Downloading pytorch_transformers-1.2.0-py3-none-any.whl (176 kB)\n",
            "\u001b[K     |████████████████████████████████| 176 kB 8.5 MB/s \n",
            "\u001b[?25hRequirement already satisfied: torch>=1.0.0 in /usr/local/lib/python3.7/dist-packages (from pytorch-transformers) (1.10.0+cu111)\n",
            "Collecting boto3\n",
            "  Downloading boto3-1.20.39-py3-none-any.whl (131 kB)\n",
            "\u001b[K     |████████████████████████████████| 131 kB 69.5 MB/s \n",
            "\u001b[?25hRequirement already satisfied: sacremoses in /usr/local/lib/python3.7/dist-packages (from pytorch-transformers) (0.0.47)\n",
            "Requirement already satisfied: tqdm in /usr/local/lib/python3.7/dist-packages (from pytorch-transformers) (4.62.3)\n",
            "Requirement already satisfied: numpy in /usr/local/lib/python3.7/dist-packages (from pytorch-transformers) (1.19.5)\n",
            "Requirement already satisfied: requests in /usr/local/lib/python3.7/dist-packages (from pytorch-transformers) (2.23.0)\n",
            "Requirement already satisfied: regex in /usr/local/lib/python3.7/dist-packages (from pytorch-transformers) (2019.12.20)\n",
            "Collecting sentencepiece\n",
            "  Downloading sentencepiece-0.1.96-cp37-cp37m-manylinux_2_17_x86_64.manylinux2014_x86_64.whl (1.2 MB)\n",
            "\u001b[K     |████████████████████████████████| 1.2 MB 71.6 MB/s \n",
            "\u001b[?25hRequirement already satisfied: typing-extensions in /usr/local/lib/python3.7/dist-packages (from torch>=1.0.0->pytorch-transformers) (3.10.0.2)\n",
            "Collecting jmespath<1.0.0,>=0.7.1\n",
            "  Downloading jmespath-0.10.0-py2.py3-none-any.whl (24 kB)\n",
            "Collecting s3transfer<0.6.0,>=0.5.0\n",
            "  Downloading s3transfer-0.5.0-py3-none-any.whl (79 kB)\n",
            "\u001b[K     |████████████████████████████████| 79 kB 11.2 MB/s \n",
            "\u001b[?25hCollecting botocore<1.24.0,>=1.23.39\n",
            "  Downloading botocore-1.23.39-py3-none-any.whl (8.5 MB)\n",
            "\u001b[K     |████████████████████████████████| 8.5 MB 58.2 MB/s \n",
            "\u001b[?25hRequirement already satisfied: python-dateutil<3.0.0,>=2.1 in /usr/local/lib/python3.7/dist-packages (from botocore<1.24.0,>=1.23.39->boto3->pytorch-transformers) (2.8.2)\n",
            "Collecting urllib3<1.27,>=1.25.4\n",
            "  Downloading urllib3-1.26.8-py2.py3-none-any.whl (138 kB)\n",
            "\u001b[K     |████████████████████████████████| 138 kB 77.4 MB/s \n",
            "\u001b[?25hRequirement already satisfied: six>=1.5 in /usr/local/lib/python3.7/dist-packages (from python-dateutil<3.0.0,>=2.1->botocore<1.24.0,>=1.23.39->boto3->pytorch-transformers) (1.15.0)\n",
            "Requirement already satisfied: chardet<4,>=3.0.2 in /usr/local/lib/python3.7/dist-packages (from requests->pytorch-transformers) (3.0.4)\n",
            "  Downloading urllib3-1.25.11-py2.py3-none-any.whl (127 kB)\n",
            "\u001b[K     |████████████████████████████████| 127 kB 79.2 MB/s \n",
            "\u001b[?25hRequirement already satisfied: certifi>=2017.4.17 in /usr/local/lib/python3.7/dist-packages (from requests->pytorch-transformers) (2021.10.8)\n",
            "Requirement already satisfied: idna<3,>=2.5 in /usr/local/lib/python3.7/dist-packages (from requests->pytorch-transformers) (2.10)\n",
            "Requirement already satisfied: click in /usr/local/lib/python3.7/dist-packages (from sacremoses->pytorch-transformers) (7.1.2)\n",
            "Requirement already satisfied: joblib in /usr/local/lib/python3.7/dist-packages (from sacremoses->pytorch-transformers) (1.1.0)\n",
            "Installing collected packages: urllib3, jmespath, botocore, s3transfer, sentencepiece, boto3, pytorch-transformers\n",
            "  Attempting uninstall: urllib3\n",
            "    Found existing installation: urllib3 1.24.3\n",
            "    Uninstalling urllib3-1.24.3:\n",
            "      Successfully uninstalled urllib3-1.24.3\n",
            "\u001b[31mERROR: pip's dependency resolver does not currently take into account all the packages that are installed. This behaviour is the source of the following dependency conflicts.\n",
            "datascience 0.10.6 requires folium==0.2.1, but you have folium 0.8.3 which is incompatible.\u001b[0m\n",
            "Successfully installed boto3-1.20.39 botocore-1.23.39 jmespath-0.10.0 pytorch-transformers-1.2.0 s3transfer-0.5.0 sentencepiece-0.1.96 urllib3-1.25.11\n"
          ]
        },
        {
          "output_type": "display_data",
          "data": {
            "application/vnd.colab-display-data+json": {
              "pip_warning": {
                "packages": [
                  "urllib3"
                ]
              }
            }
          },
          "metadata": {}
        }
      ],
      "source": [
        "! pip install datasets transformers\n",
        "! pip install pytorch-transformers"
      ]
    },
    {
      "cell_type": "code",
      "source": [
        "!huggingface-cli login"
      ],
      "metadata": {
        "colab": {
          "base_uri": "https://localhost:8080/"
        },
        "id": "2HpdDzs6wkvX",
        "outputId": "615a68f1-97e0-4792-f99b-4a490fc87b2b"
      },
      "execution_count": 4,
      "outputs": [
        {
          "output_type": "stream",
          "name": "stdout",
          "text": [
            "\n",
            "        _|    _|  _|    _|    _|_|_|    _|_|_|  _|_|_|  _|      _|    _|_|_|      _|_|_|_|    _|_|      _|_|_|  _|_|_|_|\n",
            "        _|    _|  _|    _|  _|        _|          _|    _|_|    _|  _|            _|        _|    _|  _|        _|\n",
            "        _|_|_|_|  _|    _|  _|  _|_|  _|  _|_|    _|    _|  _|  _|  _|  _|_|      _|_|_|    _|_|_|_|  _|        _|_|_|\n",
            "        _|    _|  _|    _|  _|    _|  _|    _|    _|    _|    _|_|  _|    _|      _|        _|    _|  _|        _|\n",
            "        _|    _|    _|_|      _|_|_|    _|_|_|  _|_|_|  _|      _|    _|_|_|      _|        _|    _|    _|_|_|  _|_|_|_|\n",
            "\n",
            "        To login, `huggingface_hub` now requires a token generated from https://huggingface.co/settings/token.\n",
            "        (Deprecated, will be removed in v0.3.0) To login with username and password instead, interrupt with Ctrl+C.\n",
            "        \n",
            "Token: \n",
            "Login successful\n",
            "Your token has been saved to /root/.huggingface/token\n",
            "\u001b[1m\u001b[31mAuthenticated through git-credential store but this isn't the helper defined on your machine.\n",
            "You might have to re-authenticate when pushing to the Hugging Face Hub. Run the following command in your terminal in case you want to set this credential helper as the default\n",
            "\n",
            "git config --global credential.helper store\u001b[0m\n"
          ]
        }
      ]
    },
    {
      "cell_type": "code",
      "source": [
        "import torch\n",
        "import transformers\n",
        "from torch.utils.data import TensorDataset, DataLoader, RandomSampler, SequentialSampler\n",
        "from keras.preprocessing.sequence import pad_sequences\n",
        "from sklearn.model_selection import train_test_split\n",
        "\n",
        "from transformers import XLNetModel, XLNetTokenizer, XLNetForQuestionAnswering\n",
        "from transformers import AdamW\n",
        "\n",
        "from tqdm import tqdm, trange\n",
        "import pandas as pd\n",
        "import io\n",
        "import numpy as np\n",
        "import matplotlib.pyplot as plt\n",
        "% matplotlib inline"
      ],
      "metadata": {
        "id": "uldvT61mdt4X"
      },
      "execution_count": 5,
      "outputs": []
    },
    {
      "cell_type": "code",
      "source": [
        "device = torch.device(\"cuda\" if torch.cuda.is_available() else \"cpu\")\n",
        "n_gpu = torch.cuda.device_count()\n",
        "torch.cuda.get_device_name(0)"
      ],
      "metadata": {
        "colab": {
          "base_uri": "https://localhost:8080/",
          "height": 35
        },
        "id": "N3odrIFjdxUI",
        "outputId": "893623cb-bf8c-456e-c7f9-ec32b231e3ac"
      },
      "execution_count": 6,
      "outputs": [
        {
          "output_type": "execute_result",
          "data": {
            "application/vnd.google.colaboratory.intrinsic+json": {
              "type": "string"
            },
            "text/plain": [
              "'Tesla T4'"
            ]
          },
          "metadata": {},
          "execution_count": 6
        }
      ]
    },
    {
      "cell_type": "code",
      "source": [
        "!git config --global credential.helper store"
      ],
      "metadata": {
        "id": "fCMjYetfd0eU"
      },
      "execution_count": 7,
      "outputs": []
    },
    {
      "cell_type": "code",
      "source": [
        "from huggingface_hub import notebook_login\n",
        "notebook_login()"
      ],
      "metadata": {
        "colab": {
          "base_uri": "https://localhost:8080/",
          "height": 415,
          "referenced_widgets": [
            "ebdd05f182e74ecfb5f8edd6ec5ac959",
            "2f4f733026bd4d2ca6251b57414f7302",
            "40afedf422a443dca3ae9411262b27df",
            "1886fe1f45454b2eac3ffd7c8c71fe62",
            "efaba41194784760b7d5503e550c7489",
            "a93a718ba4da4da2b0e488f36be747d9",
            "cc0aa17b31a740c38af2485fc7b32664",
            "8858abb99d9f4f65bac0b94eb7be6615",
            "1d97d50ec73a4826bc66b38c658f80ef",
            "63f7ce78ad8f478688820fec3f380617",
            "c45cd1d5b0b441c591ee0ed707c7e69a",
            "7ed56b550b734353960715a81ded5c61",
            "4f9543b90b8a4e12b7243143b4bd051f",
            "332ed41f7be94a8fa6b96ba1cd451b1d",
            "3f76fbfcd1094805a00f19e87ee04ca7",
            "75534e2e1c55476aad61939d5bf4c7a3",
            "687cada2bce348e5af0aba3a987c89b3"
          ]
        },
        "id": "rYaLysZjd6Hg",
        "outputId": "014d59d3-b17a-4cce-d960-ad034c1f7d77"
      },
      "execution_count": 8,
      "outputs": [
        {
          "output_type": "stream",
          "name": "stdout",
          "text": [
            "Login successful\n",
            "Your token has been saved to /root/.huggingface/token\n"
          ]
        }
      ]
    },
    {
      "cell_type": "code",
      "source": [
        "!apt install git-lfs\n",
        "!git config --global user.email \"nntanh@hcmiu.edu.vn\"\n",
        "!git config --global user.name \"nntadotzip\""
      ],
      "metadata": {
        "colab": {
          "base_uri": "https://localhost:8080/"
        },
        "id": "eerdC8NPd9Ce",
        "outputId": "ef9d7278-b281-46d5-8354-7f425dcbd7b1"
      },
      "execution_count": 9,
      "outputs": [
        {
          "output_type": "stream",
          "name": "stdout",
          "text": [
            "Reading package lists... Done\n",
            "Building dependency tree       \n",
            "Reading state information... Done\n",
            "The following NEW packages will be installed:\n",
            "  git-lfs\n",
            "0 upgraded, 1 newly installed, 0 to remove and 37 not upgraded.\n",
            "Need to get 2,129 kB of archives.\n",
            "After this operation, 7,662 kB of additional disk space will be used.\n",
            "Get:1 http://archive.ubuntu.com/ubuntu bionic/universe amd64 git-lfs amd64 2.3.4-1 [2,129 kB]\n",
            "Fetched 2,129 kB in 1s (1,643 kB/s)\n",
            "Selecting previously unselected package git-lfs.\n",
            "(Reading database ... 155229 files and directories currently installed.)\n",
            "Preparing to unpack .../git-lfs_2.3.4-1_amd64.deb ...\n",
            "Unpacking git-lfs (2.3.4-1) ...\n",
            "Setting up git-lfs (2.3.4-1) ...\n",
            "Processing triggers for man-db (2.8.3-2ubuntu0.1) ...\n"
          ]
        }
      ]
    },
    {
      "cell_type": "code",
      "source": [
        "from datasets import load_dataset\n",
        "dataset = load_dataset(\"nntadotzip/iuQAchatbot\", use_auth_token=True, field='data')"
      ],
      "metadata": {
        "colab": {
          "base_uri": "https://localhost:8080/",
          "height": 249,
          "referenced_widgets": [
            "f9b02fff1aef4da58a2261b64d1fe7b5",
            "16f515b4861b4418a1a65f6e213ca9a9",
            "928d6f0ae2a545b79855664aa7b3768c",
            "94421a5b1bd24d20b3bb533e3eebadf6",
            "5303c01c297d4dd79a9c106c179dbb1a",
            "b1878bed6e2f4bb08881641dd989b0c0",
            "c3318928e1134614b2b06703b94d1a3e",
            "84c866d7d58e4670bb8bed7adbaa5fe5",
            "9bc8396dc4494729bfc5fa931d84d193",
            "575d7e225869497e9e9ef46f699541d1",
            "8735eb1a8eae491b8789fb671cc985d6",
            "fa242abe16824acbabbed0aa3c3f1b94",
            "5b50de8144b340aa8bd3c4e7db86e14a",
            "433a8aa76b2148649c7d377e424bf798",
            "0f253cdf7f3f45dd9e2e4dd582f27920",
            "068b369272c34bc9838412d48e177ce7",
            "45b9b7a9bc7d4b46a1f9cbcedc1038e1",
            "2b642431ecf94cf296abb13a77544190",
            "8ae7c13da82645b9a9ded6c9ac26b66f",
            "267b939c0fa44d40833490e6db417ea7",
            "3b1037b85670432e925327875a355a27",
            "6669477c95cc4d59b212dae3e3436044",
            "a3b96aae55a448788af3346a6ab85303",
            "d625ec27f60b4d0a8f32e82738564061",
            "3010b2eba2dd49db8abf98c04738e6d8",
            "1d3dea01d5a94d94a0ce2676612324da",
            "23dd3b8041704e2d9bd1d3b0028b66ef",
            "547691f1b412401689246b5c0c2b4dd2",
            "71834f3d0ee5480fa36ea53d9c82af78",
            "23ac4a09b70d4df89ae890c885cbd2c1",
            "cdbcba04c1ac45228c56ce7ed5c808af",
            "d948fc772177411b8300d0608d59a5e7",
            "8a7177660ca347ac886ac16e5b0d05ec",
            "1149f1deb65a41c4ba42ba27f0e8d34e",
            "22e3d1f0e75641cc81e3a6b4abc1e69c",
            "940640b388e74910a0045138b49d59ef",
            "6b1f9dbf89f84f1da6df2350e76d6ee9",
            "c4ba176e2d9941119ce9ed90f7be6b7d",
            "678e7186f5684dd4bba12f020352e690",
            "e5309416af094e97a936cf9bb4ae9d39",
            "56e740effd37407f9ed1e06986d2899a",
            "5f551efa93bb4e4babcc8fcd7d330894",
            "45a2cecf36064461ae6ea46da3b31f62",
            "dc36eec282fa4bfb8b63530b7199a86e",
            "7a45f95aa5ce47faaea1270f656c2afe",
            "2951ff02741249fc97adbf6c0dbace2b",
            "585e33a290ad4f93afacc7456213c7a2",
            "a4df1b831b5a4a1ab4e9634dad4076f1",
            "fc6b8d734d994e83a27412da6efda010",
            "ecec12368524457c98b8ddc92c057fc4",
            "1122ee4f9ed74b1494e5cc3986cb66a1",
            "043c25c41a3540ae8a11d0b016c05aaa",
            "eefe061a376f4bb2aac8a6dd2a2a992f",
            "97a18d8c1e884acd959a756b12bd0514",
            "48acf16a7d5a4244bc17d619400c99ca"
          ]
        },
        "id": "GRTVUxR8zw8g",
        "outputId": "5c99d150-4e98-49cc-bbbd-ac9209582847"
      },
      "execution_count": 10,
      "outputs": [
        {
          "output_type": "stream",
          "name": "stderr",
          "text": [
            "Using custom data configuration nntadotzip--iuQAchatbot-da3c79a8c8a167fc\n"
          ]
        },
        {
          "output_type": "stream",
          "name": "stdout",
          "text": [
            "Downloading and preparing dataset json/nntadotzip--iuQAchatbot to /root/.cache/huggingface/datasets/json/nntadotzip--iuQAchatbot-da3c79a8c8a167fc/0.0.0/c90812beea906fcffe0d5e3bb9eba909a80a998b5f88e9f8acbd320aa91acfde...\n"
          ]
        },
        {
          "output_type": "display_data",
          "data": {
            "application/vnd.jupyter.widget-view+json": {
              "model_id": "f9b02fff1aef4da58a2261b64d1fe7b5",
              "version_minor": 0,
              "version_major": 2
            },
            "text/plain": [
              "  0%|          | 0/2 [00:00<?, ?it/s]"
            ]
          },
          "metadata": {}
        },
        {
          "output_type": "display_data",
          "data": {
            "application/vnd.jupyter.widget-view+json": {
              "model_id": "fa242abe16824acbabbed0aa3c3f1b94",
              "version_minor": 0,
              "version_major": 2
            },
            "text/plain": [
              "Downloading:   0%|          | 0.00/2.33M [00:00<?, ?B/s]"
            ]
          },
          "metadata": {}
        },
        {
          "output_type": "display_data",
          "data": {
            "application/vnd.jupyter.widget-view+json": {
              "model_id": "a3b96aae55a448788af3346a6ab85303",
              "version_minor": 0,
              "version_major": 2
            },
            "text/plain": [
              "Downloading:   0%|          | 0.00/263k [00:00<?, ?B/s]"
            ]
          },
          "metadata": {}
        },
        {
          "output_type": "display_data",
          "data": {
            "application/vnd.jupyter.widget-view+json": {
              "model_id": "1149f1deb65a41c4ba42ba27f0e8d34e",
              "version_minor": 0,
              "version_major": 2
            },
            "text/plain": [
              "  0%|          | 0/2 [00:00<?, ?it/s]"
            ]
          },
          "metadata": {}
        },
        {
          "output_type": "stream",
          "name": "stdout",
          "text": [
            "Dataset json downloaded and prepared to /root/.cache/huggingface/datasets/json/nntadotzip--iuQAchatbot-da3c79a8c8a167fc/0.0.0/c90812beea906fcffe0d5e3bb9eba909a80a998b5f88e9f8acbd320aa91acfde. Subsequent calls will reuse this data.\n"
          ]
        },
        {
          "output_type": "display_data",
          "data": {
            "application/vnd.jupyter.widget-view+json": {
              "model_id": "7a45f95aa5ce47faaea1270f656c2afe",
              "version_minor": 0,
              "version_major": 2
            },
            "text/plain": [
              "  0%|          | 0/2 [00:00<?, ?it/s]"
            ]
          },
          "metadata": {}
        }
      ]
    },
    {
      "cell_type": "code",
      "source": [
        "dataset"
      ],
      "metadata": {
        "id": "b2spthn401wh",
        "colab": {
          "base_uri": "https://localhost:8080/"
        },
        "outputId": "59e73677-8607-4160-f3b7-ef215af1b3d2"
      },
      "execution_count": 11,
      "outputs": [
        {
          "output_type": "execute_result",
          "data": {
            "text/plain": [
              "DatasetDict({\n",
              "    train: Dataset({\n",
              "        features: ['answers', 'context', 'id', 'question', 'title'],\n",
              "        num_rows: 166\n",
              "    })\n",
              "    test: Dataset({\n",
              "        features: ['answers', 'context', 'id', 'question', 'title'],\n",
              "        num_rows: 19\n",
              "    })\n",
              "})"
            ]
          },
          "metadata": {},
          "execution_count": 11
        }
      ]
    },
    {
      "cell_type": "code",
      "source": [
        "dataset[\"train\"][0]"
      ],
      "metadata": {
        "colab": {
          "base_uri": "https://localhost:8080/"
        },
        "id": "pY8Qev97Yo1r",
        "outputId": "f7f93e0f-4d13-4307-8ff0-256b9f46fe7c"
      },
      "execution_count": 12,
      "outputs": [
        {
          "output_type": "execute_result",
          "data": {
            "text/plain": [
              "{'answers': {'answer_start': [4163],\n",
              "  'text': ['Phòng Công tác Sinh viên: Được thành lập năm vào tháng 12/2009, Phòng Công tác Sinh viên (PCTSV) là đơn vị tham mưu giúp việc cho Ban Giám hiệu trong công tác thực hiện chế độ chính sách, học bổng Doanh nghiệp, khen thưởng-kỷ luật sinh viên']},\n",
              " 'context': 'Phòng Đào tạo Sau đại học: Tham mưu cho Hiệu trưởng về các công tác quản lý đào tạo và bồi dưỡng sau đại học thuộc trách nhiệm và thẩm quyền. Liên hệ: Room O2 – 609Telephone: (84)-28-37244270. Ext: 3120Fax: (84-28) 37244271. Phòng Vật tư Thiết bị: Phòng Vật tư Thiết bị Liên hệ: Phòng O1 – 612, Trường Đại học Quốc tếKhu phố 6, Phường Linh Trung, Quận Thủ Đức, TP. HCMĐiện thoại: (028) 37244270 – số máy lẻ: 3555, 3246 Fax: (028) 37244271. Trung tâm Đổi mới sáng tạo và Chuyển giao công nghệ: Trung tâm là đơn vị sự nghiệp khoa học trực thuộc trường Đại Học Quốc Tế – Đại Học Quốc Gia TP. HCM, có chức năng cung cấp dịch vụ – nghiên cứu – đào tạo – tư vấn và chuyển giao công nghệ cho các doanh nghiệp và các cơ quan chức năng Nhà nước. Trung tâm là cầu nối giữa giảng viên và sinh viên của Trường với các nghiên cứu và dự án thực tiễn tại các doanh nghiệp và đơn vị chức năng trực thuộc nhà nước. Liên hệ: Phòng O2– 303, Trường Đại học Quốc tếKhu phố 6, Phường Linh Trung, Quận Thủ Đức, TP. HCMĐiện thoại: (028) 37244270 – số máy lẻ: 3949 Fax: (028) 37244271. Phòng Hành chính Tổng hợp: Phòng Hành chính Tổng hợp Liên hệ: Phòng O2-711, Trường Đại học Quốc tếKhu phố 6, Phường Linh Trung, Quận Thủ Đức, TP. HCMĐiện thoại: (028) 37244270 – số máy lẻ: 3225, 3939, 3737 Fax: (028) 37244271. Phòng Đầu tư & Phát triển: Tham mưu, đề xuất Hiệu trưởng thực hiện chức năng chủ đầu tư xây dựng quản lý và sử dụng các nguồn vốn được giao để tổ chức quản lý thực hiện dự án đầu tư xây dựng. Phòng Quản trị cơ sở vật chất: Phòng có chức năng tham mưu và giúp Hiệu trưởng trong công tác quản lý, mua sắm, sữa chữa, bảo quản cơ sở vật chất của trường, phục vụ cho công tác đào tạo, nghiên cứu khoa học, của cán bộ công nhân viên và sinh viên toàn trường. Liên hệ: Phòng O2 – 702, Trường Đại học Quốc tếKhu phố 6, Phường Linh Trung, Quận Thủ Đức, TP. HCMĐiện thoại: (028) 37244270 – số máy lẻ: 3223. Phòng Quan hệ Đối ngoại: Tham mưu cho Hiệu trưởng về công tác đối ngoại, quan hệ công chúng và truyền thông của trường. Phòng Quản lý Khoa học: Tham mưu cho Hiệu trưởng về công tác quản lý toàn bộ hoạt động khoa học và công nghệ của trường. Phòng Tổ chức cán bộ: Phòng Tổ chức cán bộ Liên hệ: Phòng O2.709, Trường Đại học Quốc tếKhu phố 6, Phường Linh Trung, Quận Thủ Đức, TP. HCMĐiện thoại: (028) 37244270 – số máy lẻ: 3336, 3526, 3527 Fax: (028) 37244271. Phòng Hợp tác Đào tạo nước ngoài: Phòng Hợp tác Đào tạo nước ngoài Liên hệ: Phòng O1 – 614, Trường Đại học Quốc tếKhu phố 6, Phường Linh Trung, Quận Thủ Đức, TP. HCMĐiện thoại: (028) 37244270 – số máy lẻ: 3880 Fax: (028) 37244271. Trung tâm Dịch vụ Công nghệ thông tin: Trung tâm Dịch vụ Công nghệ Thông tin chịu trách nhiệm quản lý và hỗ trợ kỹ thuật cho toàn bộ hệ thống mạng Internet, mạng điện thoại và các trang web của trường. Bên cạnh đó Trung tâm còn có chức năng chụp ảnh, viết bài đưa tin những hình ảnh hoạt động thường xuyên của nhà trường nhằm xây dựng quảng bá hình ảnh thương hiệu trường ngày càng được nhiều người biết đến. Liên hệ: Phòng O1 – 312, Trường Đại học Quốc tếKhu phố 6, Phường Linh Trung, Quận Thủ Đức, TP. HCMĐiện thoại: (028) 37244270 – số máy lẻ: 3366. Phòng Kế hoạch Tài chính: Phòng có chức năng tham mưu và giúp Hiệu trưởng trong công tác xây dựng và quản lý kế hoạch về tài chính của trường, theo dõi giám sát và kiểm tra việc thu chi, sử dụng tài chính, kế hoạch tài chính và các lĩnh vực khác có liên quan đến công tác kế hoạch tài chính trong toàn trường. Liên hệ: Phòng O2 – 701, Trường Đại học Quốc tếKhu phố 6, Phường Linh Trung, Quận Thủ Đức, TP. HCM. Phòng Đào tạo Đại học: Phòng có chức năng tham mưu, giúp Hiệu trưởng trong kế hoạch đào tạo ngắn hạn và dài hạn của nhà trường. Tổ chức chỉ đạo thực hiện, kiểm tra và giám sát toàn bộ công tác giảng dạy và học tập trong trường, các hệ đào tạo chính quy đại học và sau đại học. Nghiên cứu đề xuất về mục tiêu đào tạo, các hệ đào tạo, cơ cấu ngành nghề, quy mô và phương thức đào tạo, cũng như việc phát triển cơ sở vật chất cần thiết phục vụ cho công tác giảng dạy và học tập. Liên hệ: Phòng O2 – 708, Trường Đại học Quốc tếKhu phố 6, Phường Linh Trung, Quận Thủ Đức, TP. HCMĐiện thoại: (028) 37244270 – số máy lẻ: 3777, 3229. Phòng Công tác Sinh viên: Được thành lập năm vào tháng 12/2009, Phòng Công tác Sinh viên (PCTSV) là đơn vị tham mưu giúp việc cho Ban Giám hiệu trong công tác thực hiện chế độ chính sách, học bổng Doanh nghiệp, khen thưởng-kỷ luật sinh viên. Phòng Thanh tra Pháp chế: Công tác thanh tra: Tham mưu, giúp Hiệu trưởng thực hiện đúng công tác thanh tra, kiểm tra trong phạm vi quản lý của Hiệu trưởng nhằm đảm bảo việc thực hiện chính sách pháp luật về giáo dục và chính sách, pháp luật liên quan. Công tác pháp chế: Chủ trì, phối hợp với các bộ phận liên quan tư vấn, giúp Hiệu trưởng về những vấn đề pháp lý. Phòng Bảo đảm Chất lượng Giáo dục và Khảo thí: Tư vấn, tham mưu cho Ban Giám hiệu về chiến lược, các kế hoạch cải tiến hoạt động bảo đảm chất lượng. Trung tâm đào tạo Quản lý công: Trung tâm Đào tạo Quản lý công là nơi đào tạo nên những nhà lãnh đạo theo hướng đổi mới sáng tạo, quản trị tốt với kỹ năng, nghiệp vụ ngày càng chuyên nghiệp, hiệu quả. Liên hệ: Phòng O2 – 304 Điện thoại: (028) 37244270 – số máy lẻ: 3305. Khoa Công nghệ Thông tin: Thông qua các chương trình đào tạo kỹ sư phần cứng máy tính, mạng máy tính, phần mềm và Khoa học dữ liệu, Khoa CNTT đã đào tạo ra nhiều lứa sinh viên có trình độ chuyên môn cao và khả năng ngoại ngữ lưu loát. Liên hệ: Phòng A1.610 Điện thoại: (84-28) 37244270 – Số máy lẻ: 3232. Bộ môn Kỹ thuật Xây dựng: Bộ môn Kỹ thuật Xây dựng (KTXD) được thành lập vào tháng 1 năm 2011 nhằm xây dựng một nền tảng vững chắc cho sinh viên và giúp giảng viên phát huy tối đa khả năng của mình Liên hệ: Phòng O1 – 506 Điện thoại: (84 -28) 3724 4270 số nhánh lẻ: 342. Khoa Kỹ thuật và Quản lý Công nghiệp: Khoa Kỹ thuật và Quản lý Công nghiệp mong muốn thu hút, đào tạo sinh viên và chuẩn bị cho họ trở thành những nhà cán bộ kỹ thuật và nhà lãnh đạo trong các lãnh vực Quản lý Sản xuất, Hậu cần, Chuỗi Cung ứng, các ngành Dịch vụ tại Việt Nam Liên hệ: Phòng O2 – 602 Điện thoại: (84 – 28) 37244270 số máy lẻ: 3327, 3982. Khoa Công nghệ Sinh học: Chương trình đào tạo của Khoa CNSH được xây dựng trên nền tảng của các chương trình tiên tiến có khả năng giải quyết các nhu cầu thực tiễn trong nước, tập trung vào việc trang bị kiến thức hiện đại, kỹ năng thực hành và làm việc cần thiết cho người học Liên hệ: Phòng O1 – 708 Điện thoại: (84 – 28) 37244270 – số máy lẻ 3233. Bộ môn Toán: Bộ môn Toán chịu trách nhiệm biên soạn đề cương, chương trình và thực hiện giảng dạy các học phần Toán học cho sinh viên trường Đại học Quốc tế. Liên hệ: Phòng O2 – 610 Điện thoại: (84-28) 3724 4270 số nhánh lẻ: 3235. Khoa Điện tử Viễn thông: Mục tiêu của Khoa ĐTVT chính là chuẩn bị cho sinh viên tốt nghiệp một hành trang vững chắc để thích ứng với những thay đổi nhanh chóng của thế giới công nghệ, đặc biệt là trong các lĩnh vực Kỹ thuật Điện tử, Viễn thông, Xử lý Tín hiệu (âm thanh, hình ảnh), Kỹ thuật Điều khiển và Tự động hóa Liên hệ: Phòng A2.206 ĐT: (84-28) 37244270 – số nội bộ: 3231. Khoa Kỹ thuật Y sinh: Kỹ thuật Y Sinh (KTYS) hiện đang là một lĩnh vực nổi bật thu hút sự quan tâm trên thế giới Liên hệ: Phòng O1- 405 Điện thoại: (84-28) 3724 4270 số nhánh lẻ: 3236. Bộ môn Kỹ thuật Môi trường: Bộ môn Kỹ thuật Môi trường được thành lập vào tháng 7 năm 2017 với sứ mệnh là đào tạo ra những kỹ sư cho ngành kỹ thuật môi trường với kiến thức chuyên môn sâu, cùng với những kỹ năng cần thiết để đáp ứng nhu cầu nhân lực chất lượng cao, giải quyết các vấn đề ô nhiễm môi trường (ô nhiễm nguồn nước, ô nhiễm không khí, chất thải rắn). Liên hệ: Phòng A2-513 Điện thoại: (028) 3724 4270 Số nhánh lẻ: 3950. Khoa Quản trị kinh doanh: Một đơn vị đào tạo cử nhân ngành quản trị kinh doanh chất lượng cao trong khối trường đại học công lập Liên hệ: Phòng 01 – 306 Điện thoại: (84-28) 37244270 số máy lẻ: 3230, 3724',\n",
              " 'id': 58,\n",
              " 'question': 'Cho tôi hỏi về Phòng Công tác Sinh viên',\n",
              " 'title': 'Thông tin chung'}"
            ]
          },
          "metadata": {},
          "execution_count": 12
        }
      ]
    },
    {
      "cell_type": "markdown",
      "source": [
        "Review the Dataset"
      ],
      "metadata": {
        "id": "IztAbwIWZB_M"
      }
    },
    {
      "cell_type": "code",
      "source": [
        "from datasets import ClassLabel, Sequence\n",
        "import random\n",
        "import pandas as pd\n",
        "from IPython.display import display, HTML\n",
        "\n",
        "def show_random_elements(dataset, num_examples=10):\n",
        "    assert num_examples <= len(dataset), \"Can't pick more elements than there are in the dataset.\"\n",
        "    picks = []\n",
        "    for _ in range(num_examples):\n",
        "        pick = random.randint(0, len(dataset)-1)\n",
        "        while pick in picks:\n",
        "            pick = random.randint(0, len(dataset)-1)\n",
        "        picks.append(pick)\n",
        "    \n",
        "    df = pd.DataFrame(dataset[picks])\n",
        "    for column, typ in dataset.features.items():\n",
        "        if isinstance(typ, ClassLabel):\n",
        "            df[column] = df[column].transform(lambda i: typ.names[i])\n",
        "        elif isinstance(typ, Sequence) and isinstance(typ.feature, ClassLabel):\n",
        "            df[column] = df[column].transform(lambda x: [typ.feature.names[i] for i in x])\n",
        "    display(HTML(df.to_html()))"
      ],
      "metadata": {
        "id": "klcStvFt0-d2"
      },
      "execution_count": 13,
      "outputs": []
    },
    {
      "cell_type": "code",
      "source": [
        "show_random_elements(dataset[\"train\"])"
      ],
      "metadata": {
        "colab": {
          "base_uri": "https://localhost:8080/",
          "height": 1000
        },
        "id": "ZId-9Gp6YzJQ",
        "outputId": "021c1c05-a554-4bd4-9bb3-e751e43f62e0"
      },
      "execution_count": 14,
      "outputs": [
        {
          "output_type": "display_data",
          "data": {
            "text/html": [
              "<table border=\"1\" class=\"dataframe\">\n",
              "  <thead>\n",
              "    <tr style=\"text-align: right;\">\n",
              "      <th></th>\n",
              "      <th>answers</th>\n",
              "      <th>context</th>\n",
              "      <th>id</th>\n",
              "      <th>question</th>\n",
              "      <th>title</th>\n",
              "    </tr>\n",
              "  </thead>\n",
              "  <tbody>\n",
              "    <tr>\n",
              "      <th>0</th>\n",
              "      <td>{'answer_start': [2126], 'text': ['Phòng Tổ chức cán bộ: Phòng Tổ chức cán bộ Liên hệ: Phòng O2.709, Trường Đại học Quốc tếKhu phố 6, Phường Linh Trung, Quận Thủ Đức, TP. HCMĐiện thoại: (028) 37244270 – số máy lẻ: 3336, 3526, 3527 Fax: (028) 37244271']}</td>\n",
              "      <td>Phòng Đào tạo Sau đại học: Tham mưu cho Hiệu trưởng về các công tác quản lý đào tạo và bồi dưỡng sau đại học thuộc trách nhiệm và thẩm quyền. Liên hệ: Room O2 – 609Telephone: (84)-28-37244270. Ext: 3120Fax: (84-28) 37244271. Phòng Vật tư Thiết bị: Phòng Vật tư Thiết bị Liên hệ: Phòng O1 – 612, Trường Đại học Quốc tếKhu phố 6, Phường Linh Trung, Quận Thủ Đức, TP. HCMĐiện thoại: (028) 37244270 – số máy lẻ: 3555, 3246 Fax: (028) 37244271. Trung tâm Đổi mới sáng tạo và Chuyển giao công nghệ: Trung tâm là đơn vị sự nghiệp khoa học trực thuộc trường Đại Học Quốc Tế – Đại Học Quốc Gia TP. HCM, có chức năng cung cấp dịch vụ – nghiên cứu – đào tạo – tư vấn và chuyển giao công nghệ cho các doanh nghiệp và các cơ quan chức năng Nhà nước. Trung tâm là cầu nối giữa giảng viên và sinh viên của Trường với các nghiên cứu và dự án thực tiễn tại các doanh nghiệp và đơn vị chức năng trực thuộc nhà nước. Liên hệ: Phòng O2– 303, Trường Đại học Quốc tếKhu phố 6, Phường Linh Trung, Quận Thủ Đức, TP. HCMĐiện thoại: (028) 37244270 – số máy lẻ: 3949 Fax: (028) 37244271. Phòng Hành chính Tổng hợp: Phòng Hành chính Tổng hợp Liên hệ: Phòng O2-711, Trường Đại học Quốc tếKhu phố 6, Phường Linh Trung, Quận Thủ Đức, TP. HCMĐiện thoại: (028) 37244270 – số máy lẻ: 3225, 3939, 3737 Fax: (028) 37244271. Phòng Đầu tư &amp; Phát triển: Tham mưu, đề xuất Hiệu trưởng thực hiện chức năng chủ đầu tư xây dựng quản lý và sử dụng các nguồn vốn được giao để tổ chức quản lý thực hiện dự án đầu tư xây dựng. Phòng Quản trị cơ sở vật chất: Phòng có chức năng tham mưu và giúp Hiệu trưởng trong công tác quản lý, mua sắm, sữa chữa, bảo quản cơ sở vật chất của trường, phục vụ cho công tác đào tạo, nghiên cứu khoa học, của cán bộ công nhân viên và sinh viên toàn trường. Liên hệ: Phòng O2 – 702, Trường Đại học Quốc tếKhu phố 6, Phường Linh Trung, Quận Thủ Đức, TP. HCMĐiện thoại: (028) 37244270 – số máy lẻ: 3223. Phòng Quan hệ Đối ngoại: Tham mưu cho Hiệu trưởng về công tác đối ngoại, quan hệ công chúng và truyền thông của trường. Phòng Quản lý Khoa học: Tham mưu cho Hiệu trưởng về công tác quản lý toàn bộ hoạt động khoa học và công nghệ của trường. Phòng Tổ chức cán bộ: Phòng Tổ chức cán bộ Liên hệ: Phòng O2.709, Trường Đại học Quốc tếKhu phố 6, Phường Linh Trung, Quận Thủ Đức, TP. HCMĐiện thoại: (028) 37244270 – số máy lẻ: 3336, 3526, 3527 Fax: (028) 37244271. Phòng Hợp tác Đào tạo nước ngoài: Phòng Hợp tác Đào tạo nước ngoài Liên hệ: Phòng O1 – 614, Trường Đại học Quốc tếKhu phố 6, Phường Linh Trung, Quận Thủ Đức, TP. HCMĐiện thoại: (028) 37244270 – số máy lẻ: 3880 Fax: (028) 37244271. Trung tâm Dịch vụ Công nghệ thông tin: Trung tâm Dịch vụ Công nghệ Thông tin chịu trách nhiệm quản lý và hỗ trợ kỹ thuật cho toàn bộ hệ thống mạng Internet, mạng điện thoại và các trang web của trường. Bên cạnh đó Trung tâm còn có chức năng chụp ảnh, viết bài đưa tin những hình ảnh hoạt động thường xuyên của nhà trường nhằm xây dựng quảng bá hình ảnh thương hiệu trường ngày càng được nhiều người biết đến. Liên hệ: Phòng O1 – 312, Trường Đại học Quốc tếKhu phố 6, Phường Linh Trung, Quận Thủ Đức, TP. HCMĐiện thoại: (028) 37244270 – số máy lẻ: 3366. Phòng Kế hoạch Tài chính: Phòng có chức năng tham mưu và giúp Hiệu trưởng trong công tác xây dựng và quản lý kế hoạch về tài chính của trường, theo dõi giám sát và kiểm tra việc thu chi, sử dụng tài chính, kế hoạch tài chính và các lĩnh vực khác có liên quan đến công tác kế hoạch tài chính trong toàn trường. Liên hệ: Phòng O2 – 701, Trường Đại học Quốc tếKhu phố 6, Phường Linh Trung, Quận Thủ Đức, TP. HCM. Phòng Đào tạo Đại học: Phòng có chức năng tham mưu, giúp Hiệu trưởng trong kế hoạch đào tạo ngắn hạn và dài hạn của nhà trường. Tổ chức chỉ đạo thực hiện, kiểm tra và giám sát toàn bộ công tác giảng dạy và học tập trong trường, các hệ đào tạo chính quy đại học và sau đại học. Nghiên cứu đề xuất về mục tiêu đào tạo, các hệ đào tạo, cơ cấu ngành nghề, quy mô và phương thức đào tạo, cũng như việc phát triển cơ sở vật chất cần thiết phục vụ cho công tác giảng dạy và học tập. Liên hệ: Phòng O2 – 708, Trường Đại học Quốc tếKhu phố 6, Phường Linh Trung, Quận Thủ Đức, TP. HCMĐiện thoại: (028) 37244270 – số máy lẻ: 3777, 3229. Phòng Công tác Sinh viên: Được thành lập năm vào tháng 12/2009, Phòng Công tác Sinh viên (PCTSV) là đơn vị tham mưu giúp việc cho Ban Giám hiệu trong công tác thực hiện chế độ chính sách, học bổng Doanh nghiệp, khen thưởng-kỷ luật sinh viên. Phòng Thanh tra Pháp chế: Công tác thanh tra: Tham mưu, giúp Hiệu trưởng thực hiện đúng công tác thanh tra, kiểm tra trong phạm vi quản lý của Hiệu trưởng nhằm đảm bảo việc thực hiện chính sách pháp luật về giáo dục và chính sách, pháp luật liên quan. Công tác pháp chế: Chủ trì, phối hợp với các bộ phận liên quan tư vấn, giúp Hiệu trưởng về những vấn đề pháp lý. Phòng Bảo đảm Chất lượng Giáo dục và Khảo thí: Tư vấn, tham mưu cho Ban Giám hiệu về chiến lược, các kế hoạch cải tiến hoạt động bảo đảm chất lượng. Trung tâm đào tạo Quản lý công: Trung tâm Đào tạo Quản lý công là nơi đào tạo nên những nhà lãnh đạo theo hướng đổi mới sáng tạo, quản trị tốt với kỹ năng, nghiệp vụ ngày càng chuyên nghiệp, hiệu quả. Liên hệ: Phòng O2 – 304 Điện thoại: (028) 37244270 – số máy lẻ: 3305. Khoa Công nghệ Thông tin: Thông qua các chương trình đào tạo kỹ sư phần cứng máy tính, mạng máy tính, phần mềm và Khoa học dữ liệu, Khoa CNTT đã đào tạo ra nhiều lứa sinh viên có trình độ chuyên môn cao và khả năng ngoại ngữ lưu loát. Liên hệ: Phòng A1.610 Điện thoại: (84-28) 37244270 – Số máy lẻ: 3232. Bộ môn Kỹ thuật Xây dựng: Bộ môn Kỹ thuật Xây dựng (KTXD) được thành lập vào tháng 1 năm 2011 nhằm xây dựng một nền tảng vững chắc cho sinh viên và giúp giảng viên phát huy tối đa khả năng của mình Liên hệ: Phòng O1 – 506 Điện thoại: (84 -28) 3724 4270 số nhánh lẻ: 342. Khoa Kỹ thuật và Quản lý Công nghiệp: Khoa Kỹ thuật và Quản lý Công nghiệp mong muốn thu hút, đào tạo sinh viên và chuẩn bị cho họ trở thành những nhà cán bộ kỹ thuật và nhà lãnh đạo trong các lãnh vực Quản lý Sản xuất, Hậu cần, Chuỗi Cung ứng, các ngành Dịch vụ tại Việt Nam Liên hệ: Phòng O2 – 602 Điện thoại: (84 – 28) 37244270 số máy lẻ: 3327, 3982. Khoa Công nghệ Sinh học: Chương trình đào tạo của Khoa CNSH được xây dựng trên nền tảng của các chương trình tiên tiến có khả năng giải quyết các nhu cầu thực tiễn trong nước, tập trung vào việc trang bị kiến thức hiện đại, kỹ năng thực hành và làm việc cần thiết cho người học Liên hệ: Phòng O1 – 708 Điện thoại: (84 – 28) 37244270 – số máy lẻ 3233. Bộ môn Toán: Bộ môn Toán chịu trách nhiệm biên soạn đề cương, chương trình và thực hiện giảng dạy các học phần Toán học cho sinh viên trường Đại học Quốc tế. Liên hệ: Phòng O2 – 610 Điện thoại: (84-28) 3724 4270 số nhánh lẻ: 3235. Khoa Điện tử Viễn thông: Mục tiêu của Khoa ĐTVT chính là chuẩn bị cho sinh viên tốt nghiệp một hành trang vững chắc để thích ứng với những thay đổi nhanh chóng của thế giới công nghệ, đặc biệt là trong các lĩnh vực Kỹ thuật Điện tử, Viễn thông, Xử lý Tín hiệu (âm thanh, hình ảnh), Kỹ thuật Điều khiển và Tự động hóa Liên hệ: Phòng A2.206 ĐT: (84-28) 37244270 – số nội bộ: 3231. Khoa Kỹ thuật Y sinh: Kỹ thuật Y Sinh (KTYS) hiện đang là một lĩnh vực nổi bật thu hút sự quan tâm trên thế giới Liên hệ: Phòng O1- 405 Điện thoại: (84-28) 3724 4270 số nhánh lẻ: 3236. Bộ môn Kỹ thuật Môi trường: Bộ môn Kỹ thuật Môi trường được thành lập vào tháng 7 năm 2017 với sứ mệnh là đào tạo ra những kỹ sư cho ngành kỹ thuật môi trường với kiến thức chuyên môn sâu, cùng với những kỹ năng cần thiết để đáp ứng nhu cầu nhân lực chất lượng cao, giải quyết các vấn đề ô nhiễm môi trường (ô nhiễm nguồn nước, ô nhiễm không khí, chất thải rắn). Liên hệ: Phòng A2-513 Điện thoại: (028) 3724 4270 Số nhánh lẻ: 3950. Khoa Quản trị kinh doanh: Một đơn vị đào tạo cử nhân ngành quản trị kinh doanh chất lượng cao trong khối trường đại học công lập Liên hệ: Phòng 01 – 306 Điện thoại: (84-28) 37244270 số máy lẻ: 3230, 3724</td>\n",
              "      <td>53</td>\n",
              "      <td>Cho tôi hỏi về Phòng Tổ chức cán bộ</td>\n",
              "      <td>Thông tin chung</td>\n",
              "    </tr>\n",
              "    <tr>\n",
              "      <th>1</th>\n",
              "      <td>{'answer_start': [0], 'text': ['Phòng Đào tạo Sau đại học: Tham mưu cho Hiệu trưởng về các công tác quản lý đào tạo và bồi dưỡng sau đại học thuộc trách nhiệm và thẩm quyền. Liên hệ: Room O2 – 609Telephone: (84)-28-37244270. Ext: 3120Fax: (84-28) 37244271']}</td>\n",
              "      <td>Phòng Đào tạo Sau đại học: Tham mưu cho Hiệu trưởng về các công tác quản lý đào tạo và bồi dưỡng sau đại học thuộc trách nhiệm và thẩm quyền. Liên hệ: Room O2 – 609Telephone: (84)-28-37244270. Ext: 3120Fax: (84-28) 37244271. Phòng Vật tư Thiết bị: Phòng Vật tư Thiết bị Liên hệ: Phòng O1 – 612, Trường Đại học Quốc tếKhu phố 6, Phường Linh Trung, Quận Thủ Đức, TP. HCMĐiện thoại: (028) 37244270 – số máy lẻ: 3555, 3246 Fax: (028) 37244271. Trung tâm Đổi mới sáng tạo và Chuyển giao công nghệ: Trung tâm là đơn vị sự nghiệp khoa học trực thuộc trường Đại Học Quốc Tế – Đại Học Quốc Gia TP. HCM, có chức năng cung cấp dịch vụ – nghiên cứu – đào tạo – tư vấn và chuyển giao công nghệ cho các doanh nghiệp và các cơ quan chức năng Nhà nước. Trung tâm là cầu nối giữa giảng viên và sinh viên của Trường với các nghiên cứu và dự án thực tiễn tại các doanh nghiệp và đơn vị chức năng trực thuộc nhà nước. Liên hệ: Phòng O2– 303, Trường Đại học Quốc tếKhu phố 6, Phường Linh Trung, Quận Thủ Đức, TP. HCMĐiện thoại: (028) 37244270 – số máy lẻ: 3949 Fax: (028) 37244271. Phòng Hành chính Tổng hợp: Phòng Hành chính Tổng hợp Liên hệ: Phòng O2-711, Trường Đại học Quốc tếKhu phố 6, Phường Linh Trung, Quận Thủ Đức, TP. HCMĐiện thoại: (028) 37244270 – số máy lẻ: 3225, 3939, 3737 Fax: (028) 37244271. Phòng Đầu tư &amp; Phát triển: Tham mưu, đề xuất Hiệu trưởng thực hiện chức năng chủ đầu tư xây dựng quản lý và sử dụng các nguồn vốn được giao để tổ chức quản lý thực hiện dự án đầu tư xây dựng. Phòng Quản trị cơ sở vật chất: Phòng có chức năng tham mưu và giúp Hiệu trưởng trong công tác quản lý, mua sắm, sữa chữa, bảo quản cơ sở vật chất của trường, phục vụ cho công tác đào tạo, nghiên cứu khoa học, của cán bộ công nhân viên và sinh viên toàn trường. Liên hệ: Phòng O2 – 702, Trường Đại học Quốc tếKhu phố 6, Phường Linh Trung, Quận Thủ Đức, TP. HCMĐiện thoại: (028) 37244270 – số máy lẻ: 3223. Phòng Quan hệ Đối ngoại: Tham mưu cho Hiệu trưởng về công tác đối ngoại, quan hệ công chúng và truyền thông của trường. Phòng Quản lý Khoa học: Tham mưu cho Hiệu trưởng về công tác quản lý toàn bộ hoạt động khoa học và công nghệ của trường. Phòng Tổ chức cán bộ: Phòng Tổ chức cán bộ Liên hệ: Phòng O2.709, Trường Đại học Quốc tếKhu phố 6, Phường Linh Trung, Quận Thủ Đức, TP. HCMĐiện thoại: (028) 37244270 – số máy lẻ: 3336, 3526, 3527 Fax: (028) 37244271. Phòng Hợp tác Đào tạo nước ngoài: Phòng Hợp tác Đào tạo nước ngoài Liên hệ: Phòng O1 – 614, Trường Đại học Quốc tếKhu phố 6, Phường Linh Trung, Quận Thủ Đức, TP. HCMĐiện thoại: (028) 37244270 – số máy lẻ: 3880 Fax: (028) 37244271. Trung tâm Dịch vụ Công nghệ thông tin: Trung tâm Dịch vụ Công nghệ Thông tin chịu trách nhiệm quản lý và hỗ trợ kỹ thuật cho toàn bộ hệ thống mạng Internet, mạng điện thoại và các trang web của trường. Bên cạnh đó Trung tâm còn có chức năng chụp ảnh, viết bài đưa tin những hình ảnh hoạt động thường xuyên của nhà trường nhằm xây dựng quảng bá hình ảnh thương hiệu trường ngày càng được nhiều người biết đến. Liên hệ: Phòng O1 – 312, Trường Đại học Quốc tếKhu phố 6, Phường Linh Trung, Quận Thủ Đức, TP. HCMĐiện thoại: (028) 37244270 – số máy lẻ: 3366. Phòng Kế hoạch Tài chính: Phòng có chức năng tham mưu và giúp Hiệu trưởng trong công tác xây dựng và quản lý kế hoạch về tài chính của trường, theo dõi giám sát và kiểm tra việc thu chi, sử dụng tài chính, kế hoạch tài chính và các lĩnh vực khác có liên quan đến công tác kế hoạch tài chính trong toàn trường. Liên hệ: Phòng O2 – 701, Trường Đại học Quốc tếKhu phố 6, Phường Linh Trung, Quận Thủ Đức, TP. HCM. Phòng Đào tạo Đại học: Phòng có chức năng tham mưu, giúp Hiệu trưởng trong kế hoạch đào tạo ngắn hạn và dài hạn của nhà trường. Tổ chức chỉ đạo thực hiện, kiểm tra và giám sát toàn bộ công tác giảng dạy và học tập trong trường, các hệ đào tạo chính quy đại học và sau đại học. Nghiên cứu đề xuất về mục tiêu đào tạo, các hệ đào tạo, cơ cấu ngành nghề, quy mô và phương thức đào tạo, cũng như việc phát triển cơ sở vật chất cần thiết phục vụ cho công tác giảng dạy và học tập. Liên hệ: Phòng O2 – 708, Trường Đại học Quốc tếKhu phố 6, Phường Linh Trung, Quận Thủ Đức, TP. HCMĐiện thoại: (028) 37244270 – số máy lẻ: 3777, 3229. Phòng Công tác Sinh viên: Được thành lập năm vào tháng 12/2009, Phòng Công tác Sinh viên (PCTSV) là đơn vị tham mưu giúp việc cho Ban Giám hiệu trong công tác thực hiện chế độ chính sách, học bổng Doanh nghiệp, khen thưởng-kỷ luật sinh viên. Phòng Thanh tra Pháp chế: Công tác thanh tra: Tham mưu, giúp Hiệu trưởng thực hiện đúng công tác thanh tra, kiểm tra trong phạm vi quản lý của Hiệu trưởng nhằm đảm bảo việc thực hiện chính sách pháp luật về giáo dục và chính sách, pháp luật liên quan. Công tác pháp chế: Chủ trì, phối hợp với các bộ phận liên quan tư vấn, giúp Hiệu trưởng về những vấn đề pháp lý. Phòng Bảo đảm Chất lượng Giáo dục và Khảo thí: Tư vấn, tham mưu cho Ban Giám hiệu về chiến lược, các kế hoạch cải tiến hoạt động bảo đảm chất lượng. Trung tâm đào tạo Quản lý công: Trung tâm Đào tạo Quản lý công là nơi đào tạo nên những nhà lãnh đạo theo hướng đổi mới sáng tạo, quản trị tốt với kỹ năng, nghiệp vụ ngày càng chuyên nghiệp, hiệu quả. Liên hệ: Phòng O2 – 304 Điện thoại: (028) 37244270 – số máy lẻ: 3305. Khoa Công nghệ Thông tin: Thông qua các chương trình đào tạo kỹ sư phần cứng máy tính, mạng máy tính, phần mềm và Khoa học dữ liệu, Khoa CNTT đã đào tạo ra nhiều lứa sinh viên có trình độ chuyên môn cao và khả năng ngoại ngữ lưu loát. Liên hệ: Phòng A1.610 Điện thoại: (84-28) 37244270 – Số máy lẻ: 3232. Bộ môn Kỹ thuật Xây dựng: Bộ môn Kỹ thuật Xây dựng (KTXD) được thành lập vào tháng 1 năm 2011 nhằm xây dựng một nền tảng vững chắc cho sinh viên và giúp giảng viên phát huy tối đa khả năng của mình Liên hệ: Phòng O1 – 506 Điện thoại: (84 -28) 3724 4270 số nhánh lẻ: 342. Khoa Kỹ thuật và Quản lý Công nghiệp: Khoa Kỹ thuật và Quản lý Công nghiệp mong muốn thu hút, đào tạo sinh viên và chuẩn bị cho họ trở thành những nhà cán bộ kỹ thuật và nhà lãnh đạo trong các lãnh vực Quản lý Sản xuất, Hậu cần, Chuỗi Cung ứng, các ngành Dịch vụ tại Việt Nam Liên hệ: Phòng O2 – 602 Điện thoại: (84 – 28) 37244270 số máy lẻ: 3327, 3982. Khoa Công nghệ Sinh học: Chương trình đào tạo của Khoa CNSH được xây dựng trên nền tảng của các chương trình tiên tiến có khả năng giải quyết các nhu cầu thực tiễn trong nước, tập trung vào việc trang bị kiến thức hiện đại, kỹ năng thực hành và làm việc cần thiết cho người học Liên hệ: Phòng O1 – 708 Điện thoại: (84 – 28) 37244270 – số máy lẻ 3233. Bộ môn Toán: Bộ môn Toán chịu trách nhiệm biên soạn đề cương, chương trình và thực hiện giảng dạy các học phần Toán học cho sinh viên trường Đại học Quốc tế. Liên hệ: Phòng O2 – 610 Điện thoại: (84-28) 3724 4270 số nhánh lẻ: 3235. Khoa Điện tử Viễn thông: Mục tiêu của Khoa ĐTVT chính là chuẩn bị cho sinh viên tốt nghiệp một hành trang vững chắc để thích ứng với những thay đổi nhanh chóng của thế giới công nghệ, đặc biệt là trong các lĩnh vực Kỹ thuật Điện tử, Viễn thông, Xử lý Tín hiệu (âm thanh, hình ảnh), Kỹ thuật Điều khiển và Tự động hóa Liên hệ: Phòng A2.206 ĐT: (84-28) 37244270 – số nội bộ: 3231. Khoa Kỹ thuật Y sinh: Kỹ thuật Y Sinh (KTYS) hiện đang là một lĩnh vực nổi bật thu hút sự quan tâm trên thế giới Liên hệ: Phòng O1- 405 Điện thoại: (84-28) 3724 4270 số nhánh lẻ: 3236. Bộ môn Kỹ thuật Môi trường: Bộ môn Kỹ thuật Môi trường được thành lập vào tháng 7 năm 2017 với sứ mệnh là đào tạo ra những kỹ sư cho ngành kỹ thuật môi trường với kiến thức chuyên môn sâu, cùng với những kỹ năng cần thiết để đáp ứng nhu cầu nhân lực chất lượng cao, giải quyết các vấn đề ô nhiễm môi trường (ô nhiễm nguồn nước, ô nhiễm không khí, chất thải rắn). Liên hệ: Phòng A2-513 Điện thoại: (028) 3724 4270 Số nhánh lẻ: 3950. Khoa Quản trị kinh doanh: Một đơn vị đào tạo cử nhân ngành quản trị kinh doanh chất lượng cao trong khối trường đại học công lập Liên hệ: Phòng 01 – 306 Điện thoại: (84-28) 37244270 số máy lẻ: 3230, 3724</td>\n",
              "      <td>45</td>\n",
              "      <td>Cho tôi hỏi về Phòng Đào tạo Sau đại học</td>\n",
              "      <td>Thông tin chung</td>\n",
              "    </tr>\n",
              "    <tr>\n",
              "      <th>2</th>\n",
              "      <td>{'answer_start': [2634], 'text': ['Ngành Quản trị Kinh doanh (Mã ngành: 7340101_AU) Chương trình: Chương trình liên kết cấp bằng của trường ĐH Auckland University of Technology (New Zealand) Quản trị kinh doanh là một ngành tổng hợp gồm nhiều bộ môn căn bản về “quản trị” và “kinh doanh”. Nói cách khác, khi đăng ký ngành này, bạn sẽ được đào tạo đầy đủ những kiến thức căn bản trong khối ngành kinh tế như tài chính, kế toán, nhân sự cho tới các chiến lược kinh doanh, marketing. Song song với các kiến thức trên, hệ thống tư duy, kỹ năng lãnh đạo cùng nhưng mô hình quản trị sao cho tối đa hóa hiệu suất công việc cũng là những môn học không thể thiếu của chuyên ngành đặc biệt này.']}</td>\n",
              "      <td>Ngành Công nghệ Thực phẩm (Mã ngành: 7540101) Chương trình: Trong nước Chương trình đào tạo ngành CNTP tại Trường Đai học Quốc tế được thiết kế nhằm đào tạo các kỹ sư CNTP, có những nét chính như sau:, Cung cấp kiến thức rộng, cân bằng về các khoa học thực phẩm và kỹ thuật thực phẩm Cung cấp kiến thức cơ bản về quản lý thực phẩm (bao gồm cả quản lý sản xuất, chất lượng, vệ sinh an toàn thực phẩm và vệ sinh môi trường) Chú trọng đến kỹ năng thực hành và khả năng tiếp cận với thiết bị công nghệ cao Giảng dạy hoàn toàn bằng tiếng Anh (kỹ sư sau khi tốt nghiệp sẽ đạt trình độ tiếng Anh TOEF pBT 550 hoặc tương đương (IELTS 6.0, TOEFL iBT 60)). Ngành Kỹ thuật Hệ thống Công nghiệp (Mã ngành: 7520118) Chương trình: Trong nước Chương trình đại học của ngành Kỹ thuật Hệ thống công nghiệp (ISE) sẽ cung cấp cho sinh viên những kiến thức lý thuyết và kỹ năng thực tế trong việc thiết kế, vận hành, cải thiện và tối ưu các hệ thống sản xuất và dịch vụ Sau khi tốt nghiệp, sinh viên có thể:, Theo đuổi việc học lên cao hơn, có khả năng cạnh tranh thành công để giành được những học bổng uy tín để có thể theo học các chương trình cao học ở nước ngoài Trở thành kỹ sư Kỹ thuật Hệ thống công nghiệp giỏi, có thể tìm được việc làm trong các lĩnh vực sản xuất, quản lý vật tư tồn kho, chuỗi cung ứng và hậu cần, quản lý chất lượng, lập kế hoạch và điều độ, thiết kế và sắp xếp các mặt bằng trong các công ty/ cơquan:. Ngành Kỹ thuật Điều khiển và Tự động hóa (Mã ngành: 7520216) Chương trình: Trong nước Mục tiêu đào tạo: , Cung cấp toàn bộ các kiến thức cơ sở của nhóm ngành Điện – Điện tử, các kiến thức chuyên ngành về Đo Lường, Giám Sát và Điều Khiển. Các kỹ năng cần thiết của một kỹ sư để đáp ứng nhu cầu của công nghiệp, để tiếp tục chương trình cao học, nghiên cứu chuyên sâu ngành Điều Khiển Các kỹ năng tự đào tạo để thích ứng với sự thay đổi của công nghệ Định hướng đào tạo: , Lý thuyết điều khiển và ứng dụng vào các đối tượng điều khiển và các quá trình. Công nghệ đo lường, điều khiển và giám sát hệ thống. Robot (công nghiệp, tự hành) và trí thông minh nhân tạo. Ngành Công nghệ Thông tin (2+2) (Mã ngành: 7480201_DK2) Chương trình: Chương trình liên kết cấp bằng của trường ĐH Deakin (Úc) Công nghệ Thông tin (với hai chuyên ngành: kỹ sư mạng máy tính và cử nhân khoa học máy tính) và cử nhân Khoa học Dữ liệu. Chương trình đào tạo tuân thủ theo các chuẩn mực quốc tế và đã đạt được chứng nhận kiểm định chất lượng bởi Tổ chức các trường Đại học Đông Nam Á (AUN) từ năm 2009 và tái kiểm định năm 2017. Các chương trình đào tạo đã đạt được chuẩn MOET năm 2017 và hiện đang tiếp tục thực hiện quy chuẩn kiểm định ABET của Mỹ. Ngành Quản trị Kinh doanh (Mã ngành: 7340101_AU) Chương trình: Chương trình liên kết cấp bằng của trường ĐH Auckland University of Technology (New Zealand) Quản trị kinh doanh là một ngành tổng hợp gồm nhiều bộ môn căn bản về “quản trị” và “kinh doanh”. Nói cách khác, khi đăng ký ngành này, bạn sẽ được đào tạo đầy đủ những kiến thức căn bản trong khối ngành kinh tế như tài chính, kế toán, nhân sự cho tới các chiến lược kinh doanh, marketing. Song song với các kiến thức trên, hệ thống tư duy, kỹ năng lãnh đạo cùng nhưng mô hình quản trị sao cho tối đa hóa hiệu suất công việc cũng là những môn học không thể thiếu của chuyên ngành đặc biệt này. Ngành Công nghệ Thực phẩm (Mã ngành: 7540101_UN) Chương trình: Chương trình liên kết cấp bằng của trường ĐH Nottingham (UK) Cung cấp kiến thức rộng, cân bằng về các khoa học thực phẩm và kỹ thuật thực phẩm Cung cấp kiến thức cơ bản về quản lý thực phẩm (bao gồm cả quản lý sản xuất, chất lượng, vệ sinh an toàn thực phẩm và vệ sinh môi trường) Chú trọng đến kỹ năng thực hành và khả năng tiếp cận với thiết bị công nghệ cao. Ngành Kỹ thuật Điện tử - Viễn thông (Mã ngành: 7520207_WE) Chương trình: Chương trình liên kết cấp bằng của trường ĐH West of England (UK) Mục tiêu đào tạo:, Cung cấp kiến thức cơ sở hoàn chỉnh và các kỹ năng trong lĩnh vực Điện tử và Viễn thông Phục vụ và đáp ứng các nhu cầu công nghiệp, nghiên cứu khoa học và học sau đại học Chuẩn bị cho sinh viên tốt nghiệp có thể thích ứng với sự thay đổi nhanh trong lĩnh vực công nghệ cao như Điện tử và Viễn thông. Ngành Logistics và Quản lý chuỗi cung ứng (Mã ngành: 7510605) Chương trình: Trong nước Logistics và Quản lý chuỗi cung ứng là việc quản lý một mạng lưới kết nối của các doanh nghiệp tham gia vào việc cung cấp hàng hoá và dịch vụ đến tận tay người tiêu dùng. Nó đòi hỏi nhiều quy trình khác nhau, bao gồm lưu trữ, vận chuyển nguyên vật liệu, quá trình xử lý hàng tồn kho, sản xuất…. Ngành Công nghệ Thông tin (2.5+1.5) (Mã ngành: 7480201_DK25) Chương trình: Chương trình liên kết cấp bằng của trường ĐH Deakin (Úc) Công nghệ Thông tin (với hai chuyên ngành: kỹ sư mạng máy tính và cử nhân khoa học máy tính) và cử nhân Khoa học Dữ liệu. Chương trình đào tạo tuân thủ theo các chuẩn mực quốc tế và đã đạt được chứng nhận kiểm định chất lượng bởi Tổ chức các trường Đại học Đông Nam Á (AUN) từ năm 2009 và tái kiểm định năm 2017. Các chương trình đào tạo đã đạt được chuẩn MOET năm 2017 và hiện đang tiếp tục thực hiện quy chuẩn kiểm định ABET của Mỹ. Ngành Kỹ thuật Điện tử (Mã ngành: 7520207_SB) Chương trình: Chương trình liên kết cấp bằng của trường ĐH SUNY Binghamton (USA) Đời sống công nghệ hiện đại không thể nào thiếu được các thiết bị điện và điện tử. Các thiết bị này phổ biến ở khắp các hộ gia đình, trong các thiết bị giải trí, trong nhà máy sản xuất và có thể nói là tất cả mọi nơi có con nguời. Chính vì vậy, ngành Kỹ thuật Điện tử có nhu cầu nhân lực lớn và sẽ tiếp tục phát triển trong tương lai. Ngành Tài chính – Ngân hàng (Mã ngành: 7340201) Chương trình: Trong nước Tài chính ngân hàng là ngành nghề liên quan đến các dịch vụ giao dịch, luân chuyển tiền tệ thông qua ngân hàng và các công cụ tài chính của ngân hàng phát hành trong phạm vi nội địa và quốc tế. Tài chính ngân hàng là một phạm trù rất rộng, bao gồm các lĩnh vực nhỏ và chuyên biệt hơn như ngân hàng, tài chính doanh nghiệp, tài chính thuế, tài chính bảo hiểm, phân tích tài chính, kinh tế học tài chính,.. Ngành Kế toán (Mã ngành: 7340301) Chương trình: Trong nước Kế toán (tiếng Anh là Accountant) là công việc ghi chép, thu nhận, xử lý và cung cấp các thông tin về tình hình hoạt động tài chính của một tổ chức, một doanh nghiệp, một cơ quan nhà nước, một cơ sở kinh doanh tư nhân.. Ngành Kỹ thuật Máy tính (Mã ngành: 7480106_SB) Chương trình: Chương trình liên kết cấp bằng của trường ĐH SUNY Binghamton (USA) Ngành Kỹ thuật máy tính (KTMT) là một ngành khá đặc biệt trong nhóm ngành Công nghệ thông tin, là ngành học kết hợp kiến thức cả hai lĩnh vực Điện tử và Công nghệ thông tin, Ngành Kỹ thuật máy tính đang được nhà nước ưu tiên phát triển đặc biệt cụ thể qua các chính sách, dự án nhà máy chế tạo chip đầu tiên của Việt Nam đang được triển khai rầm rộ. Ngành Kỹ thuật Không gian (Mã ngành: 7520121) Chương trình: Trong nước Kỹ thuật Không gian là chương trình đào tạo kỹ sư 4 năm trong lĩnh vực ứng dụng công nghệ vệ tinh, bao gồm xử lý và phân tích tín hiệu, hình ảnh vệ tinh, công nghệ viễn thám, và định vị vệ tinh. Chương trình ra đời nhằm đáp ứng nhu cầu rất lớn về nguồn nhân lực trình độ cao trong ứng dụng công nghệ vệ tinh vào đời sống xã hội, quản lý tài nguyên, môi trường, lãnh thổ, biển đảo, và an ninh quốc phòng. Ngành Công nghệ Thông tin (Mã ngành: 7480201_UN) Chương trình: Chương trình liên kết cấp bằng của trường ĐH Nottingham (UK) Công nghệ Thông tin (với hai chuyên ngành: kỹ sư mạng máy tính và cử nhân khoa học máy tính) và cử nhân Khoa học Dữ liệu. Chương trình đào tạo tuân thủ theo các chuẩn mực quốc tế và đã đạt được chứng nhận kiểm định chất lượng bởi Tổ chức các trường Đại học Đông Nam Á (AUN) từ năm 2009 và tái kiểm định năm 2017. Các chương trình đào tạo đã đạt được chuẩn MOET năm 2017 và hiện đang tiếp tục thực hiện quy chuẩn kiểm định ABET của Mỹ. Ngành Kỹ thuật Điện tử - Viễn thông (Mã ngành: 7520207_UN) Chương trình: Chương trình liên kết cấp bằng của trường ĐH Nottingham (UK) Mục tiêu đào tạo:, Cung cấp kiến thức cơ sở hoàn chỉnh và các kỹ năng trong lĩnh vực Điện tử và Viễn thông Phục vụ và đáp ứng các nhu cầu công nghiệp, nghiên cứu khoa học và học sau đại học Chuẩn bị cho sinh viên tốt nghiệp có thể thích ứng với sự thay đổi nhanh trong lĩnh vực công nghệ cao như Điện tử và Viễn thông. Ngành Công nghệ Sinh học (2+2) (Mã ngành: 7420201_WE2) Chương trình: Chương trình liên kết cấp bằng của trường ĐH West of England (UK) Công nghệ sinh học (CNSH) là một lĩnh vực nghiên cứu và vận dụng sinh vật sống để tạo ra sản phẩm hoặc để phục vụ cho lợi ích của nhân loại. Ngành Kỹ thuật Môi trường (Mã ngành: 7520320) Chương trình: Trong nước Chương trình nhằm đào tạo kỹ sư Kỹ thuật Môi trường có năng lực tốt và trình độ am hiểu các vấn đề Kỹ thuật Môi trường, theo đuổi sự nghiên cứu sáng tạo, kỹ thuật hiện đại để phục vụ nhu cầu của đất nước, xã hội, công nghiệp và cộng đồng khoa học Được thiết kế theo tiêu chí của ABET Inc. (cơ quan đánh giá giáo dục kỹ thuật của Hoa Kỳ), chương trình đào tạo ngành Kỹ thuật môi trường bao gồm 4 năm (8 đến 9 học kỳ, tùy trình độ năng lực tiếng Anh đầu vào) cho 145 tín chỉ. Ngành Ngôn ngữ Anh (Mã ngành: 7220201) Chương trình: Trong nước Chương trình Cử nhân Ngôn ngữ Anh của Bộ môn Anh tại trường Đại học Quốc tế được thiết kế nhằm giúp sinh viên đáp ứng nhu cầu sử dụng tiếng Anh trong môi trường học tập và làm việc toàn cầu. Theo dự kiến, sinh viên hoàn thành 135 tín chỉ của các khóa học trong bốn năm. Những chương trình Anh ngữ Tăng cường và Học thuật của chúng tôi góp phần thúc đẩy sự thành công của sinh viên IU trong môi trường học tập và nói tiếng Anh tại IU và các trường đại học trên toàn thế giới. Chúng tôi tập trung vào các lĩnh vực thường sử dụng tiếng Anh trong nhiều bối cảnh học thuật khác nhau, như đọc chuyên ngành, nghe bài giảng và ghi chú, kỹ thuật thuyết trình, viết học thuật, viết bài kỹ thuật và viết bài nghiên cứu, và chuẩn bị cho các bài kiểm tra tiêu chuẩn quốc tế như TOEFL iBT và IELTS. Ngành Kỹ thuật Hóa học (Mã ngành: 7520301) Chương trình: Trong nước Đào tạo kỹ sư hóa học với triết lý ‘Job ready’, cụ thể như sau:, Có kiến thức cơ bản vững chắc về khoa học và kỹ thuật trong lĩnh vực hóa học và những lĩnh vực có liên quan (vd như sinh học, dược học, môi trường, v.v.) Có khả năng vận dụng sáng tạo các kiến thức cơ bản trong ngành để giải quyết các vấn đề đa dạng trong các lĩnh vực nghề nghiệp Có đạo đức nghề nghiệp, hiểu rõ các vấn đề về môi trường, xã hội, an ninh và kinh tế Có đầy đủ các kỹ năng mềm, kỹ năng quản lý, khả năng làm việc nhóm, khả năng lãnh đạo, khả năng giao tiếp và làm việc chuyên môn thành thạo bằng tiếng Anh. Ngành Công nghệ Thông tin (3+1) (Mã ngành: 7480201_DK3) Chương trình: Chương trình liên kết cấp bằng của trường ĐH Deakin (Úc) Công nghệ Thông tin (với hai chuyên ngành: kỹ sư mạng máy tính và cử nhân khoa học máy tính) và cử nhân Khoa học Dữ liệu. Chương trình đào tạo tuân thủ theo các chuẩn mực quốc tế và đã đạt được chứng nhận kiểm định chất lượng bởi Tổ chức các trường Đại học Đông Nam Á (AUN) từ năm 2009 và tái kiểm định năm 2017. Các chương trình đào tạo đã đạt được chuẩn MOET năm 2017 và hiện đang tiếp tục thực hiện quy chuẩn kiểm định ABET của Mỹ. Ngành Công nghệ Sinh học định hướng Y sinh (4+0) (Mã ngành: 7420201_WE4) Chương trình: Chương trình liên kết cấp bằng của trường ĐH West of England (UK) (4+0) Đây là ngành học ứng dụng các thành tựu của công nghệ sinh học vào lĩnh vực y học – dược học hướng tới gia tăng khả năng điều trị, chẩn đoán và bảo vệ sức khoẻ con người. Ngành Quản trị Kinh doanh (Mã ngành: 7340101_UN) Chương trình: Chương trình liên kết cấp bằng của trường ĐH Nottingham (UK) Quản trị kinh doanh là một ngành tổng hợp gồm nhiều bộ môn căn bản về “quản trị” và “kinh doanh”. Nói cách khác, khi đăng ký ngành này, bạn sẽ được đào tạo đầy đủ những kiến thức căn bản trong khối ngành kinh tế như tài chính, kế toán, nhân sự cho tới các chiến lược kinh doanh, marketing. Song song với các kiến thức trên, hệ thống tư duy, kỹ năng lãnh đạo cùng nhưng mô hình quản trị sao cho tối đa hóa hiệu suất công việc cũng là những môn học không thể thiếu của chuyên ngành đặc biệt này. Ngành Công nghệ Thông tin (Mã ngành: 7480201) Chương trình: Trong nước Công nghệ Thông tin (với hai chuyên ngành: kỹ sư mạng máy tính và cử nhân khoa học máy tính) và cử nhân Khoa học Dữ liệu. Chương trình đào tạo tuân thủ theo các chuẩn mực quốc tế và đã đạt được chứng nhận kiểm định chất lượng bởi Tổ chức các trường Đại học Đông Nam Á (AUN) từ năm 2009 và tái kiểm định năm 2017. Các chương trình đào tạo đã đạt được chuẩn MOET năm 2017 và hiện đang tiếp tục thực hiện quy chuẩn kiểm định ABET của Mỹ. Ngành Khoa học Máy tính (Mã ngành: 7480101) Chương trình: Trong nước Ngành Khoa học máy tính đóng vai trò rất quan trọng trong việc xây dựng các nền tảng nghiên cứu, phát triển các công nghệ trong tương lai, đặc biệt là những nghiên cứu ứng dụng thiết thực trong cuộc sống. Chương trình đào tạo ngành Khoa học máy tính có nhiệm vụ đào tạo ngồn nhân lực chất lượng cao cho ngành CNTT. Sinh viên tốt nghiệp chương trình Cử nhân Khoa học máy tính đáp ứng các yêu cầu sau:, Có kiến thức cơ bản và chuyên sâu về khoa học máy tính và công nghệ thông tin, có khả năng thiết kế các hệ thống xử lý tính toán phức tạp, các phần mềm có chất lượng khoa học và công nghệ cao, thử nghiệm, quản lý các hệ thống máy tính, các hệ thống tin học Có khả năng triển khai xây dựng các hệ thống ứng dụng tin học và phân tích, thiết kế xây dựng các phần mềm có giá trị thực tiễn cao, có tính sáng tạo, đặc biệt là các ứng dụng thông minh dựa trên việc xử lý tri thức, xử lý ngôn ngữ tự nhiên, xử lý và khai thác dữ liệu đa phương tiện. Ngành Kỹ thuật Điện tử - Viễn thông (Mã ngành: 7520207) Chương trình: Trong nước Chương trình Kỹ thuật Điện tử – Viễn thông đã được công nhận đạt chuẩn của các tổ chức kiểm định chất lượng quốc tế như của mạng lưới các trường Đông Nam Á (AUN) và gần đây nhất là của tổ chức Kiểm định các chương trình đào tạo kỹ thuật &amp; công nghệ của Hoa Kỳ từ cuối năm 2018 Mục tiêu đào tạo:, Cung cấp kiến thức cơ sở hoàn chỉnh và các kỹ năng trong lĩnh vực Điện tử và Viễn thông Phục vụ và đáp ứng các nhu cầu công nghiệp, nghiên cứu khoa học và học sau đại học Chuẩn bị cho sinh viên tốt nghiệp có thể thích ứng với sự thay đổi nhanh trong lĩnh vực công nghệ cao như Điện tử và Viễn thông. Ngành Quản trị Kinh doanh (Mã ngành: 7340101_UH) Chương trình: Chương trình liên kết cấp bằng của trường ĐH Houston (USA) Quản trị kinh doanh là một ngành tổng hợp gồm nhiều bộ môn căn bản về “quản trị” và “kinh doanh”. Nói cách khác, khi đăng ký ngành này, bạn sẽ được đào tạo đầy đủ những kiến thức căn bản trong khối ngành kinh tế như tài chính, kế toán, nhân sự cho tới các chiến lược kinh doanh, marketing. Song song với các kiến thức trên, hệ thống tư duy, kỹ năng lãnh đạo cùng nhưng mô hình quản trị sao cho tối đa hóa hiệu suất công việc cũng là những môn học không thể thiếu của chuyên ngành đặc biệt này. Ngành Toán ứng dụng (Kỹ thuật Tài chính và Quản trị rủi ro) (Mã ngành: 7460112) Chương trình: Trong nước Chương trình Kĩ thuật tài chính và Quản trị rủi ro được thiết kế nhằm trang bị cho sinh viên các kiến thức cơ bản và hiện đại về Toán học, Tin học, và Kỹ thuật tài chính, giúp các em có thể thực hiện các quy trình phân tích, dự báo, quản trị các vấn đề tài chính và các vấn đề liên quan, giải quyết được các tình huống thực tế trong lĩnh vực Kinh tế-Tài chính. Ngành Công nghệ Thông tin (2+2) (Mã ngành: 7480201_WE2) Chương trình: Chương trình liên kết cấp bằng của trường ĐH West of England (UK) Công nghệ Thông tin (với hai chuyên ngành: kỹ sư mạng máy tính và cử nhân khoa học máy tính) và cử nhân Khoa học Dữ liệu. Chương trình đào tạo tuân thủ theo các chuẩn mực quốc tế và đã đạt được chứng nhận kiểm định chất lượng bởi Tổ chức các trường Đại học Đông Nam Á (AUN) từ năm 2009 và tái kiểm định năm 2017. Các chương trình đào tạo đã đạt được chuẩn MOET năm 2017 và hiện đang tiếp tục thực hiện quy chuẩn kiểm định ABET của Mỹ. Ngành Quản trị kinh doanh (4+0) (Mã ngành: 7340101_WE4) Chương trình: Chương trình liên kết cấp bằng của trường ĐH West of England (UK) (4+0) Quản trị kinh doanh là một ngành tổng hợp gồm nhiều bộ môn căn bản về “quản trị” và “kinh doanh”. Nói cách khác, khi đăng ký ngành này, bạn sẽ được đào tạo đầy đủ những kiến thức căn bản trong khối ngành kinh tế như tài chính, kế toán, nhân sự cho tới các chiến lược kinh doanh, marketing. Song song với các kiến thức trên, hệ thống tư duy, kỹ năng lãnh đạo cùng nhưng mô hình quản trị sao cho tối đa hóa hiệu suất công việc cũng là những môn học không thể thiếu của chuyên ngành đặc biệt này. Ngành Công nghệ Thông tin (4+0) (Mã ngành: 7480201_WE4) Chương trình: Chương trình liên kết cấp bằng của trường ĐH West of England (UK) (4+0) Công nghệ Thông tin (với hai chuyên ngành: kỹ sư mạng máy tính và cử nhân khoa học máy tính) và cử nhân Khoa học Dữ liệu. Chương trình đào tạo tuân thủ theo các chuẩn mực quốc tế và đã đạt được chứng nhận kiểm định chất lượng bởi Tổ chức các trường Đại học Đông Nam Á (AUN) từ năm 2009 và tái kiểm định năm 2017. Các chương trình đào tạo đã đạt được chuẩn MOET năm 2017 và hiện đang tiếp tục thực hiện quy chuẩn kiểm định ABET của Mỹ. Ngành Ngôn ngữ Anh (4+0) (Mã ngành: 7220201_WE4) Chương trình: Chương trình liên kết cấp bằng của trường ĐH West of England (UK) (4+0) Chương trình Cử nhân Ngôn ngữ Anh của Bộ môn Anh tại trường Đại học Quốc tế được thiết kế nhằm giúp sinh viên đáp ứng nhu cầu sử dụng tiếng Anh trong môi trường học tập và làm việc toàn cầu. Theo dự kiến, sinh viên hoàn thành 135 tín chỉ của các khóa học trong bốn năm. Những chương trình Anh ngữ Tăng cường và Học thuật của chúng tôi góp phần thúc đẩy sự thành công của sinh viên IU trong môi trường học tập và nói tiếng Anh tại IU và các trường đại học trên toàn thế giới. Chúng tôi tập trung vào các lĩnh vực thường sử dụng tiếng Anh trong nhiều bối cảnh học thuật khác nhau, như đọc chuyên ngành, nghe bài giảng và ghi chú, kỹ thuật thuyết trình, viết học thuật, viết bài kỹ thuật và viết bài nghiên cứu, và chuẩn bị cho các bài kiểm tra tiêu chuẩn quốc tế như TOEFL iBT và IELTS. Ngành Ngôn ngữ Anh (3+1) (Mã ngành: 7220201_WE3) Chương trình: Chương trình liên kết cấp bằng của trường ĐH West of England (UK) (3+1) Chương trình Cử nhân Ngôn ngữ Anh của Bộ môn Anh tại trường Đại học Quốc tế được thiết kế nhằm giúp sinh viên đáp ứng nhu cầu sử dụng tiếng Anh trong môi trường học tập và làm việc toàn cầu. Theo dự kiến, sinh viên hoàn thành 135 tín chỉ của các khóa học trong bốn năm. Những chương trình Anh ngữ Tăng cường và Học thuật của chúng tôi góp phần thúc đẩy sự thành công của sinh viên IU trong môi trường học tập và nói tiếng Anh tại IU và các trường đại học trên toàn thế giới. Chúng tôi tập trung vào các lĩnh vực thường sử dụng tiếng Anh trong nhiều bối cảnh học thuật khác nhau, như đọc chuyên ngành, nghe bài giảng và ghi chú, kỹ thuật thuyết trình, viết học thuật, viết bài kỹ thuật và viết bài nghiên cứu, và chuẩn bị cho các bài kiểm tra tiêu chuẩn quốc tế như TOEFL iBT và IELTS. Ngành Quản trị Kinh doanh (Mã ngành: 7340101) Chương trình: Trong nước Quản trị kinh doanh là một ngành tổng hợp gồm nhiều bộ môn căn bản về “quản trị” và “kinh doanh”. Nói cách khác, khi đăng ký ngành này, bạn sẽ được đào tạo đầy đủ những kiến thức căn bản trong khối ngành kinh tế như tài chính, kế toán, nhân sự cho tới các chiến lược kinh doanh, marketing. Song song với các kiến thức trên, hệ thống tư duy, kỹ năng lãnh đạo cùng nhưng mô hình quản trị sao cho tối đa hóa hiệu suất công việc cũng là những môn học không thể thiếu của chuyên ngành đặc biệt này. Ngành Ngôn ngữ Anh (2+2) (Mã ngành: 7220201_WE2) Chương trình: Chương trình liên kết cấp bằng của trường ĐH West of England (UK) Chương trình Cử nhân Ngôn ngữ Anh của Bộ môn Anh tại trường Đại học Quốc tế được thiết kế nhằm giúp sinh viên đáp ứng nhu cầu sử dụng tiếng Anh trong môi trường học tập và làm việc toàn cầu. Theo dự kiến, sinh viên hoàn thành 135 tín chỉ của các khóa học trong bốn năm. Những chương trình Anh ngữ Tăng cường và Học thuật của chúng tôi góp phần thúc đẩy sự thành công của sinh viên IU trong môi trường học tập và nói tiếng Anh tại IU và các trường đại học trên toàn thế giới. Chúng tôi tập trung vào các lĩnh vực thường sử dụng tiếng Anh trong nhiều bối cảnh học thuật khác nhau, như đọc chuyên ngành, nghe bài giảng và ghi chú, kỹ thuật thuyết trình, viết học thuật, viết bài kỹ thuật và viết bài nghiên cứu, và chuẩn bị cho các bài kiểm tra tiêu chuẩn quốc tế như TOEFL iBT và IELTS. Ngành Khoa học Dữ liệu (Mã ngành: 7480109) Chương trình: Trong nước Khoa học dữ liệu (KHDL) là khoa học về việc quản trị và phân tích dữ liệu để tìm ra các hiểu biết, các tri thức hành động, các quyết định dẫn dắt hành động. KHDL gồm ba phần chính: Tạo ra và quản trị dữ liệu, phân tích dữ liệu, và chuyển kết quả phân tích thành giá trị của hành động. Nôm na bước thứ nhất là về số hóa và bước thứ hai là về dùng dữ liệu. Việc phân tích và dùng dữ liệu lại dựa vào ba nguồn tri thức: toán học (thống kê toán học), công nghệ thông tin (máy học) và tri thức của lĩnh vực ứng dụng cụ thể. Ngành Kỹ thuật Hệ thống Công nghiệp (Mã ngành: 7520118_SB) Chương trình: Chương trình liên kết cấp bằng của trường ĐH SUNY Binghamton (USA) Chương trình đại học của ngành Kỹ thuật Hệ thống công nghiệp (ISE) sẽ cung cấp cho sinh viên những kiến thức lý thuyết và kỹ năng thực tế trong việc thiết kế, vận hành, cải thiện và tối ưu các hệ thống sản xuất và dịch vụ. Ngành Công nghệ Sinh học (Mã ngành: 7420201) Chương trình: Trong nước Công nghệ sinh học (CNSH) là một lĩnh vực nghiên cứu và vận dụng sinh vật sống để tạo ra sản phẩm hoặc để phục vụ cho lợi ích của nhân loại. Ngành Quản lý Xây dựng (Mã ngành: 7580302) Chương trình: Trong nước Ngành Quản lý xây dựng là ngành trực tiếp thực hiện nhiệm vụ hoặc thực hành tư vấn về lập và đánh giá dự án, lập hồ sơ thiết kế tổ chức thi công, tổ chức các hoạt động trên từng giai đoạn chuẩn bị và thực hiện dự án như đấu thầu, triển khai thiết kế, thi công, bàn giao nghiệm thu và thanh quyết toán công trình. Ngành Kỹ thuật Xây dựng (Mã ngành: 7580201) Chương trình: Trong nước Kỹ thuật xây dựng là ngành chuyên về lĩnh vực tư vấn, thiết kế, tổ chức thi công, quản lí giảm sát và nghiệm thu các công trình xây dựng phục vụ đời sống con người như: nhà ở, nhà hàng – khách sạn, bệnh viện, cầu đường…. Ngành Quản trị kinh doanh (Mã ngành: 7340101_NS) Chương trình: Chương trình liên kết cấp bằng của trường ĐH New South Wales (Australia) Quản trị kinh doanh là một ngành tổng hợp gồm nhiều bộ môn căn bản về “quản trị” và “kinh doanh”. Nói cách khác, khi đăng ký ngành này, bạn sẽ được đào tạo đầy đủ những kiến thức căn bản trong khối ngành kinh tế như tài chính, kế toán, nhân sự cho tới các chiến lược kinh doanh, marketing. Song song với các kiến thức trên, hệ thống tư duy, kỹ năng lãnh đạo cùng nhưng mô hình quản trị sao cho tối đa hóa hiệu suất công việc cũng là những môn học không thể thiếu của chuyên ngành đặc biệt này. Ngành Hóa học (Hóa sinh) (Mã ngành: 7440112) Chương trình: Trong nước Ngành Hóa sinh được thiết kế dành riêng cho sinh viên chuyên nghiên cứu các tiến trình hóa học của sự sống ở cấp độ phân tử. Chương trình bao gồm giảng dạy các môn học về nguyên lý Sinh học, Hóa học, Vật lý và đặc biệt là mối liên quan của các nguyên lý này bên trong cơ thể sống. Sinh viên sẽ được nghiên cứu các tiến trình hóa học liên quan đến các đại phân tử và ý nghĩa từng cấu trúc trên các tiến trình tế bào. Chương trình còn khái quát các khía cạnh khác nhau của Hóa sinh bao gồm Hóa sinh phân tử, Enzym học, Công nghệ lên men, Hóa sinh lâm sàng và Kỹ thuật Hóa sinh. Ngành Quản trị Kinh doanh (2+2) (Mã ngành: 7340101_WE) Chương trình: Chương trình liên kết cấp bằng của trường ĐH West of England (UK) Quản trị kinh doanh là một ngành tổng hợp gồm nhiều bộ môn căn bản về “quản trị” và “kinh doanh”. Nói cách khác, khi đăng ký ngành này, bạn sẽ được đào tạo đầy đủ những kiến thức căn bản trong khối ngành kinh tế như tài chính, kế toán, nhân sự cho tới các chiến lược kinh doanh, marketing. Song song với các kiến thức trên, hệ thống tư duy, kỹ năng lãnh đạo cùng nhưng mô hình quản trị sao cho tối đa hóa hiệu suất công việc cũng là những môn học không thể thiếu của chuyên ngành đặc biệt này. Ngành Công nghệ Sinh học (Mã ngành: 7420201_UN) Chương trình: Chương trình liên kết cấp bằng của trường ĐH Nottingham (UK) Công nghệ sinh học (CNSH) là một lĩnh vực nghiên cứu và vận dụng sinh vật sống để tạo ra sản phẩm hoặc để phục vụ cho lợi ích của nhân loại. Ngành Kỹ thuật Y Sinh (Mã ngành: 7520212) Chương trình: Trong nước Kỹ thuật Y Sinh (KTYS) hiện đang là một lĩnh vực nổi bật thu hút sự quan tâm trên thế giới. Đây là một lĩnh vực đa ngành ứng dụng kỹ thuật tiên tiến vào việc tạo ra các phương pháp nghiên cứu và thiết bị phục vụ cho sức khỏe cũng như giúp hiểu biết sâu hơn về các tiến trình sinh học của con người.</td>\n",
              "      <td>4</td>\n",
              "      <td>Cho tôi hỏi về Quản trị Kinh doanh</td>\n",
              "      <td>Thông tin chung</td>\n",
              "    </tr>\n",
              "    <tr>\n",
              "      <th>3</th>\n",
              "      <td>{'answer_start': [18130], 'text': ['Ngành Ngôn ngữ Anh (3+1) (Mã ngành: 7220201_WE3) Chương trình: Chương trình liên kết cấp bằng của trường ĐH West of England (UK) (3+1) Chương trình Cử nhân Ngôn ngữ Anh của Bộ môn Anh tại trường Đại học Quốc tế được thiết kế nhằm giúp sinh viên đáp ứng nhu cầu sử dụng tiếng Anh trong môi trường học tập và làm việc toàn cầu. Theo dự kiến, sinh viên hoàn thành 135 tín chỉ của các khóa học trong bốn năm. Những chương trình Anh ngữ Tăng cường và Học thuật của chúng tôi góp phần thúc đẩy sự thành công của sinh viên IU trong môi trường học tập và nói tiếng Anh tại IU và các trường đại học trên toàn thế giới. Chúng tôi tập trung vào các lĩnh vực thường sử dụng tiếng Anh trong nhiều bối cảnh học thuật khác nhau, như đọc chuyên ngành, nghe bài giảng và ghi chú, kỹ thuật thuyết trình, viết học thuật, viết bài kỹ thuật và viết bài nghiên cứu, và chuẩn bị cho các bài kiểm tra tiêu chuẩn quốc tế như TOEFL iBT và IELTS']}</td>\n",
              "      <td>Ngành Công nghệ Thực phẩm (Mã ngành: 7540101) Chương trình: Trong nước Chương trình đào tạo ngành CNTP tại Trường Đai học Quốc tế được thiết kế nhằm đào tạo các kỹ sư CNTP, có những nét chính như sau:, Cung cấp kiến thức rộng, cân bằng về các khoa học thực phẩm và kỹ thuật thực phẩm Cung cấp kiến thức cơ bản về quản lý thực phẩm (bao gồm cả quản lý sản xuất, chất lượng, vệ sinh an toàn thực phẩm và vệ sinh môi trường) Chú trọng đến kỹ năng thực hành và khả năng tiếp cận với thiết bị công nghệ cao Giảng dạy hoàn toàn bằng tiếng Anh (kỹ sư sau khi tốt nghiệp sẽ đạt trình độ tiếng Anh TOEF pBT 550 hoặc tương đương (IELTS 6.0, TOEFL iBT 60)). Ngành Kỹ thuật Hệ thống Công nghiệp (Mã ngành: 7520118) Chương trình: Trong nước Chương trình đại học của ngành Kỹ thuật Hệ thống công nghiệp (ISE) sẽ cung cấp cho sinh viên những kiến thức lý thuyết và kỹ năng thực tế trong việc thiết kế, vận hành, cải thiện và tối ưu các hệ thống sản xuất và dịch vụ Sau khi tốt nghiệp, sinh viên có thể:, Theo đuổi việc học lên cao hơn, có khả năng cạnh tranh thành công để giành được những học bổng uy tín để có thể theo học các chương trình cao học ở nước ngoài Trở thành kỹ sư Kỹ thuật Hệ thống công nghiệp giỏi, có thể tìm được việc làm trong các lĩnh vực sản xuất, quản lý vật tư tồn kho, chuỗi cung ứng và hậu cần, quản lý chất lượng, lập kế hoạch và điều độ, thiết kế và sắp xếp các mặt bằng trong các công ty/ cơquan:. Ngành Kỹ thuật Điều khiển và Tự động hóa (Mã ngành: 7520216) Chương trình: Trong nước Mục tiêu đào tạo: , Cung cấp toàn bộ các kiến thức cơ sở của nhóm ngành Điện – Điện tử, các kiến thức chuyên ngành về Đo Lường, Giám Sát và Điều Khiển. Các kỹ năng cần thiết của một kỹ sư để đáp ứng nhu cầu của công nghiệp, để tiếp tục chương trình cao học, nghiên cứu chuyên sâu ngành Điều Khiển Các kỹ năng tự đào tạo để thích ứng với sự thay đổi của công nghệ Định hướng đào tạo: , Lý thuyết điều khiển và ứng dụng vào các đối tượng điều khiển và các quá trình. Công nghệ đo lường, điều khiển và giám sát hệ thống. Robot (công nghiệp, tự hành) và trí thông minh nhân tạo. Ngành Công nghệ Thông tin (2+2) (Mã ngành: 7480201_DK2) Chương trình: Chương trình liên kết cấp bằng của trường ĐH Deakin (Úc) Công nghệ Thông tin (với hai chuyên ngành: kỹ sư mạng máy tính và cử nhân khoa học máy tính) và cử nhân Khoa học Dữ liệu. Chương trình đào tạo tuân thủ theo các chuẩn mực quốc tế và đã đạt được chứng nhận kiểm định chất lượng bởi Tổ chức các trường Đại học Đông Nam Á (AUN) từ năm 2009 và tái kiểm định năm 2017. Các chương trình đào tạo đã đạt được chuẩn MOET năm 2017 và hiện đang tiếp tục thực hiện quy chuẩn kiểm định ABET của Mỹ. Ngành Quản trị Kinh doanh (Mã ngành: 7340101_AU) Chương trình: Chương trình liên kết cấp bằng của trường ĐH Auckland University of Technology (New Zealand) Quản trị kinh doanh là một ngành tổng hợp gồm nhiều bộ môn căn bản về “quản trị” và “kinh doanh”. Nói cách khác, khi đăng ký ngành này, bạn sẽ được đào tạo đầy đủ những kiến thức căn bản trong khối ngành kinh tế như tài chính, kế toán, nhân sự cho tới các chiến lược kinh doanh, marketing. Song song với các kiến thức trên, hệ thống tư duy, kỹ năng lãnh đạo cùng nhưng mô hình quản trị sao cho tối đa hóa hiệu suất công việc cũng là những môn học không thể thiếu của chuyên ngành đặc biệt này. Ngành Công nghệ Thực phẩm (Mã ngành: 7540101_UN) Chương trình: Chương trình liên kết cấp bằng của trường ĐH Nottingham (UK) Cung cấp kiến thức rộng, cân bằng về các khoa học thực phẩm và kỹ thuật thực phẩm Cung cấp kiến thức cơ bản về quản lý thực phẩm (bao gồm cả quản lý sản xuất, chất lượng, vệ sinh an toàn thực phẩm và vệ sinh môi trường) Chú trọng đến kỹ năng thực hành và khả năng tiếp cận với thiết bị công nghệ cao. Ngành Kỹ thuật Điện tử - Viễn thông (Mã ngành: 7520207_WE) Chương trình: Chương trình liên kết cấp bằng của trường ĐH West of England (UK) Mục tiêu đào tạo:, Cung cấp kiến thức cơ sở hoàn chỉnh và các kỹ năng trong lĩnh vực Điện tử và Viễn thông Phục vụ và đáp ứng các nhu cầu công nghiệp, nghiên cứu khoa học và học sau đại học Chuẩn bị cho sinh viên tốt nghiệp có thể thích ứng với sự thay đổi nhanh trong lĩnh vực công nghệ cao như Điện tử và Viễn thông. Ngành Logistics và Quản lý chuỗi cung ứng (Mã ngành: 7510605) Chương trình: Trong nước Logistics và Quản lý chuỗi cung ứng là việc quản lý một mạng lưới kết nối của các doanh nghiệp tham gia vào việc cung cấp hàng hoá và dịch vụ đến tận tay người tiêu dùng. Nó đòi hỏi nhiều quy trình khác nhau, bao gồm lưu trữ, vận chuyển nguyên vật liệu, quá trình xử lý hàng tồn kho, sản xuất…. Ngành Công nghệ Thông tin (2.5+1.5) (Mã ngành: 7480201_DK25) Chương trình: Chương trình liên kết cấp bằng của trường ĐH Deakin (Úc) Công nghệ Thông tin (với hai chuyên ngành: kỹ sư mạng máy tính và cử nhân khoa học máy tính) và cử nhân Khoa học Dữ liệu. Chương trình đào tạo tuân thủ theo các chuẩn mực quốc tế và đã đạt được chứng nhận kiểm định chất lượng bởi Tổ chức các trường Đại học Đông Nam Á (AUN) từ năm 2009 và tái kiểm định năm 2017. Các chương trình đào tạo đã đạt được chuẩn MOET năm 2017 và hiện đang tiếp tục thực hiện quy chuẩn kiểm định ABET của Mỹ. Ngành Kỹ thuật Điện tử (Mã ngành: 7520207_SB) Chương trình: Chương trình liên kết cấp bằng của trường ĐH SUNY Binghamton (USA) Đời sống công nghệ hiện đại không thể nào thiếu được các thiết bị điện và điện tử. Các thiết bị này phổ biến ở khắp các hộ gia đình, trong các thiết bị giải trí, trong nhà máy sản xuất và có thể nói là tất cả mọi nơi có con nguời. Chính vì vậy, ngành Kỹ thuật Điện tử có nhu cầu nhân lực lớn và sẽ tiếp tục phát triển trong tương lai. Ngành Tài chính – Ngân hàng (Mã ngành: 7340201) Chương trình: Trong nước Tài chính ngân hàng là ngành nghề liên quan đến các dịch vụ giao dịch, luân chuyển tiền tệ thông qua ngân hàng và các công cụ tài chính của ngân hàng phát hành trong phạm vi nội địa và quốc tế. Tài chính ngân hàng là một phạm trù rất rộng, bao gồm các lĩnh vực nhỏ và chuyên biệt hơn như ngân hàng, tài chính doanh nghiệp, tài chính thuế, tài chính bảo hiểm, phân tích tài chính, kinh tế học tài chính,.. Ngành Kế toán (Mã ngành: 7340301) Chương trình: Trong nước Kế toán (tiếng Anh là Accountant) là công việc ghi chép, thu nhận, xử lý và cung cấp các thông tin về tình hình hoạt động tài chính của một tổ chức, một doanh nghiệp, một cơ quan nhà nước, một cơ sở kinh doanh tư nhân.. Ngành Kỹ thuật Máy tính (Mã ngành: 7480106_SB) Chương trình: Chương trình liên kết cấp bằng của trường ĐH SUNY Binghamton (USA) Ngành Kỹ thuật máy tính (KTMT) là một ngành khá đặc biệt trong nhóm ngành Công nghệ thông tin, là ngành học kết hợp kiến thức cả hai lĩnh vực Điện tử và Công nghệ thông tin, Ngành Kỹ thuật máy tính đang được nhà nước ưu tiên phát triển đặc biệt cụ thể qua các chính sách, dự án nhà máy chế tạo chip đầu tiên của Việt Nam đang được triển khai rầm rộ. Ngành Kỹ thuật Không gian (Mã ngành: 7520121) Chương trình: Trong nước Kỹ thuật Không gian là chương trình đào tạo kỹ sư 4 năm trong lĩnh vực ứng dụng công nghệ vệ tinh, bao gồm xử lý và phân tích tín hiệu, hình ảnh vệ tinh, công nghệ viễn thám, và định vị vệ tinh. Chương trình ra đời nhằm đáp ứng nhu cầu rất lớn về nguồn nhân lực trình độ cao trong ứng dụng công nghệ vệ tinh vào đời sống xã hội, quản lý tài nguyên, môi trường, lãnh thổ, biển đảo, và an ninh quốc phòng. Ngành Công nghệ Thông tin (Mã ngành: 7480201_UN) Chương trình: Chương trình liên kết cấp bằng của trường ĐH Nottingham (UK) Công nghệ Thông tin (với hai chuyên ngành: kỹ sư mạng máy tính và cử nhân khoa học máy tính) và cử nhân Khoa học Dữ liệu. Chương trình đào tạo tuân thủ theo các chuẩn mực quốc tế và đã đạt được chứng nhận kiểm định chất lượng bởi Tổ chức các trường Đại học Đông Nam Á (AUN) từ năm 2009 và tái kiểm định năm 2017. Các chương trình đào tạo đã đạt được chuẩn MOET năm 2017 và hiện đang tiếp tục thực hiện quy chuẩn kiểm định ABET của Mỹ. Ngành Kỹ thuật Điện tử - Viễn thông (Mã ngành: 7520207_UN) Chương trình: Chương trình liên kết cấp bằng của trường ĐH Nottingham (UK) Mục tiêu đào tạo:, Cung cấp kiến thức cơ sở hoàn chỉnh và các kỹ năng trong lĩnh vực Điện tử và Viễn thông Phục vụ và đáp ứng các nhu cầu công nghiệp, nghiên cứu khoa học và học sau đại học Chuẩn bị cho sinh viên tốt nghiệp có thể thích ứng với sự thay đổi nhanh trong lĩnh vực công nghệ cao như Điện tử và Viễn thông. Ngành Công nghệ Sinh học (2+2) (Mã ngành: 7420201_WE2) Chương trình: Chương trình liên kết cấp bằng của trường ĐH West of England (UK) Công nghệ sinh học (CNSH) là một lĩnh vực nghiên cứu và vận dụng sinh vật sống để tạo ra sản phẩm hoặc để phục vụ cho lợi ích của nhân loại. Ngành Kỹ thuật Môi trường (Mã ngành: 7520320) Chương trình: Trong nước Chương trình nhằm đào tạo kỹ sư Kỹ thuật Môi trường có năng lực tốt và trình độ am hiểu các vấn đề Kỹ thuật Môi trường, theo đuổi sự nghiên cứu sáng tạo, kỹ thuật hiện đại để phục vụ nhu cầu của đất nước, xã hội, công nghiệp và cộng đồng khoa học Được thiết kế theo tiêu chí của ABET Inc. (cơ quan đánh giá giáo dục kỹ thuật của Hoa Kỳ), chương trình đào tạo ngành Kỹ thuật môi trường bao gồm 4 năm (8 đến 9 học kỳ, tùy trình độ năng lực tiếng Anh đầu vào) cho 145 tín chỉ. Ngành Ngôn ngữ Anh (Mã ngành: 7220201) Chương trình: Trong nước Chương trình Cử nhân Ngôn ngữ Anh của Bộ môn Anh tại trường Đại học Quốc tế được thiết kế nhằm giúp sinh viên đáp ứng nhu cầu sử dụng tiếng Anh trong môi trường học tập và làm việc toàn cầu. Theo dự kiến, sinh viên hoàn thành 135 tín chỉ của các khóa học trong bốn năm. Những chương trình Anh ngữ Tăng cường và Học thuật của chúng tôi góp phần thúc đẩy sự thành công của sinh viên IU trong môi trường học tập và nói tiếng Anh tại IU và các trường đại học trên toàn thế giới. Chúng tôi tập trung vào các lĩnh vực thường sử dụng tiếng Anh trong nhiều bối cảnh học thuật khác nhau, như đọc chuyên ngành, nghe bài giảng và ghi chú, kỹ thuật thuyết trình, viết học thuật, viết bài kỹ thuật và viết bài nghiên cứu, và chuẩn bị cho các bài kiểm tra tiêu chuẩn quốc tế như TOEFL iBT và IELTS. Ngành Kỹ thuật Hóa học (Mã ngành: 7520301) Chương trình: Trong nước Đào tạo kỹ sư hóa học với triết lý ‘Job ready’, cụ thể như sau:, Có kiến thức cơ bản vững chắc về khoa học và kỹ thuật trong lĩnh vực hóa học và những lĩnh vực có liên quan (vd như sinh học, dược học, môi trường, v.v.) Có khả năng vận dụng sáng tạo các kiến thức cơ bản trong ngành để giải quyết các vấn đề đa dạng trong các lĩnh vực nghề nghiệp Có đạo đức nghề nghiệp, hiểu rõ các vấn đề về môi trường, xã hội, an ninh và kinh tế Có đầy đủ các kỹ năng mềm, kỹ năng quản lý, khả năng làm việc nhóm, khả năng lãnh đạo, khả năng giao tiếp và làm việc chuyên môn thành thạo bằng tiếng Anh. Ngành Công nghệ Thông tin (3+1) (Mã ngành: 7480201_DK3) Chương trình: Chương trình liên kết cấp bằng của trường ĐH Deakin (Úc) Công nghệ Thông tin (với hai chuyên ngành: kỹ sư mạng máy tính và cử nhân khoa học máy tính) và cử nhân Khoa học Dữ liệu. Chương trình đào tạo tuân thủ theo các chuẩn mực quốc tế và đã đạt được chứng nhận kiểm định chất lượng bởi Tổ chức các trường Đại học Đông Nam Á (AUN) từ năm 2009 và tái kiểm định năm 2017. Các chương trình đào tạo đã đạt được chuẩn MOET năm 2017 và hiện đang tiếp tục thực hiện quy chuẩn kiểm định ABET của Mỹ. Ngành Công nghệ Sinh học định hướng Y sinh (4+0) (Mã ngành: 7420201_WE4) Chương trình: Chương trình liên kết cấp bằng của trường ĐH West of England (UK) (4+0) Đây là ngành học ứng dụng các thành tựu của công nghệ sinh học vào lĩnh vực y học – dược học hướng tới gia tăng khả năng điều trị, chẩn đoán và bảo vệ sức khoẻ con người. Ngành Quản trị Kinh doanh (Mã ngành: 7340101_UN) Chương trình: Chương trình liên kết cấp bằng của trường ĐH Nottingham (UK) Quản trị kinh doanh là một ngành tổng hợp gồm nhiều bộ môn căn bản về “quản trị” và “kinh doanh”. Nói cách khác, khi đăng ký ngành này, bạn sẽ được đào tạo đầy đủ những kiến thức căn bản trong khối ngành kinh tế như tài chính, kế toán, nhân sự cho tới các chiến lược kinh doanh, marketing. Song song với các kiến thức trên, hệ thống tư duy, kỹ năng lãnh đạo cùng nhưng mô hình quản trị sao cho tối đa hóa hiệu suất công việc cũng là những môn học không thể thiếu của chuyên ngành đặc biệt này. Ngành Công nghệ Thông tin (Mã ngành: 7480201) Chương trình: Trong nước Công nghệ Thông tin (với hai chuyên ngành: kỹ sư mạng máy tính và cử nhân khoa học máy tính) và cử nhân Khoa học Dữ liệu. Chương trình đào tạo tuân thủ theo các chuẩn mực quốc tế và đã đạt được chứng nhận kiểm định chất lượng bởi Tổ chức các trường Đại học Đông Nam Á (AUN) từ năm 2009 và tái kiểm định năm 2017. Các chương trình đào tạo đã đạt được chuẩn MOET năm 2017 và hiện đang tiếp tục thực hiện quy chuẩn kiểm định ABET của Mỹ. Ngành Khoa học Máy tính (Mã ngành: 7480101) Chương trình: Trong nước Ngành Khoa học máy tính đóng vai trò rất quan trọng trong việc xây dựng các nền tảng nghiên cứu, phát triển các công nghệ trong tương lai, đặc biệt là những nghiên cứu ứng dụng thiết thực trong cuộc sống. Chương trình đào tạo ngành Khoa học máy tính có nhiệm vụ đào tạo ngồn nhân lực chất lượng cao cho ngành CNTT. Sinh viên tốt nghiệp chương trình Cử nhân Khoa học máy tính đáp ứng các yêu cầu sau:, Có kiến thức cơ bản và chuyên sâu về khoa học máy tính và công nghệ thông tin, có khả năng thiết kế các hệ thống xử lý tính toán phức tạp, các phần mềm có chất lượng khoa học và công nghệ cao, thử nghiệm, quản lý các hệ thống máy tính, các hệ thống tin học Có khả năng triển khai xây dựng các hệ thống ứng dụng tin học và phân tích, thiết kế xây dựng các phần mềm có giá trị thực tiễn cao, có tính sáng tạo, đặc biệt là các ứng dụng thông minh dựa trên việc xử lý tri thức, xử lý ngôn ngữ tự nhiên, xử lý và khai thác dữ liệu đa phương tiện. Ngành Kỹ thuật Điện tử - Viễn thông (Mã ngành: 7520207) Chương trình: Trong nước Chương trình Kỹ thuật Điện tử – Viễn thông đã được công nhận đạt chuẩn của các tổ chức kiểm định chất lượng quốc tế như của mạng lưới các trường Đông Nam Á (AUN) và gần đây nhất là của tổ chức Kiểm định các chương trình đào tạo kỹ thuật &amp; công nghệ của Hoa Kỳ từ cuối năm 2018 Mục tiêu đào tạo:, Cung cấp kiến thức cơ sở hoàn chỉnh và các kỹ năng trong lĩnh vực Điện tử và Viễn thông Phục vụ và đáp ứng các nhu cầu công nghiệp, nghiên cứu khoa học và học sau đại học Chuẩn bị cho sinh viên tốt nghiệp có thể thích ứng với sự thay đổi nhanh trong lĩnh vực công nghệ cao như Điện tử và Viễn thông. Ngành Quản trị Kinh doanh (Mã ngành: 7340101_UH) Chương trình: Chương trình liên kết cấp bằng của trường ĐH Houston (USA) Quản trị kinh doanh là một ngành tổng hợp gồm nhiều bộ môn căn bản về “quản trị” và “kinh doanh”. Nói cách khác, khi đăng ký ngành này, bạn sẽ được đào tạo đầy đủ những kiến thức căn bản trong khối ngành kinh tế như tài chính, kế toán, nhân sự cho tới các chiến lược kinh doanh, marketing. Song song với các kiến thức trên, hệ thống tư duy, kỹ năng lãnh đạo cùng nhưng mô hình quản trị sao cho tối đa hóa hiệu suất công việc cũng là những môn học không thể thiếu của chuyên ngành đặc biệt này. Ngành Toán ứng dụng (Kỹ thuật Tài chính và Quản trị rủi ro) (Mã ngành: 7460112) Chương trình: Trong nước Chương trình Kĩ thuật tài chính và Quản trị rủi ro được thiết kế nhằm trang bị cho sinh viên các kiến thức cơ bản và hiện đại về Toán học, Tin học, và Kỹ thuật tài chính, giúp các em có thể thực hiện các quy trình phân tích, dự báo, quản trị các vấn đề tài chính và các vấn đề liên quan, giải quyết được các tình huống thực tế trong lĩnh vực Kinh tế-Tài chính. Ngành Công nghệ Thông tin (2+2) (Mã ngành: 7480201_WE2) Chương trình: Chương trình liên kết cấp bằng của trường ĐH West of England (UK) Công nghệ Thông tin (với hai chuyên ngành: kỹ sư mạng máy tính và cử nhân khoa học máy tính) và cử nhân Khoa học Dữ liệu. Chương trình đào tạo tuân thủ theo các chuẩn mực quốc tế và đã đạt được chứng nhận kiểm định chất lượng bởi Tổ chức các trường Đại học Đông Nam Á (AUN) từ năm 2009 và tái kiểm định năm 2017. Các chương trình đào tạo đã đạt được chuẩn MOET năm 2017 và hiện đang tiếp tục thực hiện quy chuẩn kiểm định ABET của Mỹ. Ngành Quản trị kinh doanh (4+0) (Mã ngành: 7340101_WE4) Chương trình: Chương trình liên kết cấp bằng của trường ĐH West of England (UK) (4+0) Quản trị kinh doanh là một ngành tổng hợp gồm nhiều bộ môn căn bản về “quản trị” và “kinh doanh”. Nói cách khác, khi đăng ký ngành này, bạn sẽ được đào tạo đầy đủ những kiến thức căn bản trong khối ngành kinh tế như tài chính, kế toán, nhân sự cho tới các chiến lược kinh doanh, marketing. Song song với các kiến thức trên, hệ thống tư duy, kỹ năng lãnh đạo cùng nhưng mô hình quản trị sao cho tối đa hóa hiệu suất công việc cũng là những môn học không thể thiếu của chuyên ngành đặc biệt này. Ngành Công nghệ Thông tin (4+0) (Mã ngành: 7480201_WE4) Chương trình: Chương trình liên kết cấp bằng của trường ĐH West of England (UK) (4+0) Công nghệ Thông tin (với hai chuyên ngành: kỹ sư mạng máy tính và cử nhân khoa học máy tính) và cử nhân Khoa học Dữ liệu. Chương trình đào tạo tuân thủ theo các chuẩn mực quốc tế và đã đạt được chứng nhận kiểm định chất lượng bởi Tổ chức các trường Đại học Đông Nam Á (AUN) từ năm 2009 và tái kiểm định năm 2017. Các chương trình đào tạo đã đạt được chuẩn MOET năm 2017 và hiện đang tiếp tục thực hiện quy chuẩn kiểm định ABET của Mỹ. Ngành Ngôn ngữ Anh (4+0) (Mã ngành: 7220201_WE4) Chương trình: Chương trình liên kết cấp bằng của trường ĐH West of England (UK) (4+0) Chương trình Cử nhân Ngôn ngữ Anh của Bộ môn Anh tại trường Đại học Quốc tế được thiết kế nhằm giúp sinh viên đáp ứng nhu cầu sử dụng tiếng Anh trong môi trường học tập và làm việc toàn cầu. Theo dự kiến, sinh viên hoàn thành 135 tín chỉ của các khóa học trong bốn năm. Những chương trình Anh ngữ Tăng cường và Học thuật của chúng tôi góp phần thúc đẩy sự thành công của sinh viên IU trong môi trường học tập và nói tiếng Anh tại IU và các trường đại học trên toàn thế giới. Chúng tôi tập trung vào các lĩnh vực thường sử dụng tiếng Anh trong nhiều bối cảnh học thuật khác nhau, như đọc chuyên ngành, nghe bài giảng và ghi chú, kỹ thuật thuyết trình, viết học thuật, viết bài kỹ thuật và viết bài nghiên cứu, và chuẩn bị cho các bài kiểm tra tiêu chuẩn quốc tế như TOEFL iBT và IELTS. Ngành Ngôn ngữ Anh (3+1) (Mã ngành: 7220201_WE3) Chương trình: Chương trình liên kết cấp bằng của trường ĐH West of England (UK) (3+1) Chương trình Cử nhân Ngôn ngữ Anh của Bộ môn Anh tại trường Đại học Quốc tế được thiết kế nhằm giúp sinh viên đáp ứng nhu cầu sử dụng tiếng Anh trong môi trường học tập và làm việc toàn cầu. Theo dự kiến, sinh viên hoàn thành 135 tín chỉ của các khóa học trong bốn năm. Những chương trình Anh ngữ Tăng cường và Học thuật của chúng tôi góp phần thúc đẩy sự thành công của sinh viên IU trong môi trường học tập và nói tiếng Anh tại IU và các trường đại học trên toàn thế giới. Chúng tôi tập trung vào các lĩnh vực thường sử dụng tiếng Anh trong nhiều bối cảnh học thuật khác nhau, như đọc chuyên ngành, nghe bài giảng và ghi chú, kỹ thuật thuyết trình, viết học thuật, viết bài kỹ thuật và viết bài nghiên cứu, và chuẩn bị cho các bài kiểm tra tiêu chuẩn quốc tế như TOEFL iBT và IELTS. Ngành Quản trị Kinh doanh (Mã ngành: 7340101) Chương trình: Trong nước Quản trị kinh doanh là một ngành tổng hợp gồm nhiều bộ môn căn bản về “quản trị” và “kinh doanh”. Nói cách khác, khi đăng ký ngành này, bạn sẽ được đào tạo đầy đủ những kiến thức căn bản trong khối ngành kinh tế như tài chính, kế toán, nhân sự cho tới các chiến lược kinh doanh, marketing. Song song với các kiến thức trên, hệ thống tư duy, kỹ năng lãnh đạo cùng nhưng mô hình quản trị sao cho tối đa hóa hiệu suất công việc cũng là những môn học không thể thiếu của chuyên ngành đặc biệt này. Ngành Ngôn ngữ Anh (2+2) (Mã ngành: 7220201_WE2) Chương trình: Chương trình liên kết cấp bằng của trường ĐH West of England (UK) Chương trình Cử nhân Ngôn ngữ Anh của Bộ môn Anh tại trường Đại học Quốc tế được thiết kế nhằm giúp sinh viên đáp ứng nhu cầu sử dụng tiếng Anh trong môi trường học tập và làm việc toàn cầu. Theo dự kiến, sinh viên hoàn thành 135 tín chỉ của các khóa học trong bốn năm. Những chương trình Anh ngữ Tăng cường và Học thuật của chúng tôi góp phần thúc đẩy sự thành công của sinh viên IU trong môi trường học tập và nói tiếng Anh tại IU và các trường đại học trên toàn thế giới. Chúng tôi tập trung vào các lĩnh vực thường sử dụng tiếng Anh trong nhiều bối cảnh học thuật khác nhau, như đọc chuyên ngành, nghe bài giảng và ghi chú, kỹ thuật thuyết trình, viết học thuật, viết bài kỹ thuật và viết bài nghiên cứu, và chuẩn bị cho các bài kiểm tra tiêu chuẩn quốc tế như TOEFL iBT và IELTS. Ngành Khoa học Dữ liệu (Mã ngành: 7480109) Chương trình: Trong nước Khoa học dữ liệu (KHDL) là khoa học về việc quản trị và phân tích dữ liệu để tìm ra các hiểu biết, các tri thức hành động, các quyết định dẫn dắt hành động. KHDL gồm ba phần chính: Tạo ra và quản trị dữ liệu, phân tích dữ liệu, và chuyển kết quả phân tích thành giá trị của hành động. Nôm na bước thứ nhất là về số hóa và bước thứ hai là về dùng dữ liệu. Việc phân tích và dùng dữ liệu lại dựa vào ba nguồn tri thức: toán học (thống kê toán học), công nghệ thông tin (máy học) và tri thức của lĩnh vực ứng dụng cụ thể. Ngành Kỹ thuật Hệ thống Công nghiệp (Mã ngành: 7520118_SB) Chương trình: Chương trình liên kết cấp bằng của trường ĐH SUNY Binghamton (USA) Chương trình đại học của ngành Kỹ thuật Hệ thống công nghiệp (ISE) sẽ cung cấp cho sinh viên những kiến thức lý thuyết và kỹ năng thực tế trong việc thiết kế, vận hành, cải thiện và tối ưu các hệ thống sản xuất và dịch vụ. Ngành Công nghệ Sinh học (Mã ngành: 7420201) Chương trình: Trong nước Công nghệ sinh học (CNSH) là một lĩnh vực nghiên cứu và vận dụng sinh vật sống để tạo ra sản phẩm hoặc để phục vụ cho lợi ích của nhân loại. Ngành Quản lý Xây dựng (Mã ngành: 7580302) Chương trình: Trong nước Ngành Quản lý xây dựng là ngành trực tiếp thực hiện nhiệm vụ hoặc thực hành tư vấn về lập và đánh giá dự án, lập hồ sơ thiết kế tổ chức thi công, tổ chức các hoạt động trên từng giai đoạn chuẩn bị và thực hiện dự án như đấu thầu, triển khai thiết kế, thi công, bàn giao nghiệm thu và thanh quyết toán công trình. Ngành Kỹ thuật Xây dựng (Mã ngành: 7580201) Chương trình: Trong nước Kỹ thuật xây dựng là ngành chuyên về lĩnh vực tư vấn, thiết kế, tổ chức thi công, quản lí giảm sát và nghiệm thu các công trình xây dựng phục vụ đời sống con người như: nhà ở, nhà hàng – khách sạn, bệnh viện, cầu đường…. Ngành Quản trị kinh doanh (Mã ngành: 7340101_NS) Chương trình: Chương trình liên kết cấp bằng của trường ĐH New South Wales (Australia) Quản trị kinh doanh là một ngành tổng hợp gồm nhiều bộ môn căn bản về “quản trị” và “kinh doanh”. Nói cách khác, khi đăng ký ngành này, bạn sẽ được đào tạo đầy đủ những kiến thức căn bản trong khối ngành kinh tế như tài chính, kế toán, nhân sự cho tới các chiến lược kinh doanh, marketing. Song song với các kiến thức trên, hệ thống tư duy, kỹ năng lãnh đạo cùng nhưng mô hình quản trị sao cho tối đa hóa hiệu suất công việc cũng là những môn học không thể thiếu của chuyên ngành đặc biệt này. Ngành Hóa học (Hóa sinh) (Mã ngành: 7440112) Chương trình: Trong nước Ngành Hóa sinh được thiết kế dành riêng cho sinh viên chuyên nghiên cứu các tiến trình hóa học của sự sống ở cấp độ phân tử. Chương trình bao gồm giảng dạy các môn học về nguyên lý Sinh học, Hóa học, Vật lý và đặc biệt là mối liên quan của các nguyên lý này bên trong cơ thể sống. Sinh viên sẽ được nghiên cứu các tiến trình hóa học liên quan đến các đại phân tử và ý nghĩa từng cấu trúc trên các tiến trình tế bào. Chương trình còn khái quát các khía cạnh khác nhau của Hóa sinh bao gồm Hóa sinh phân tử, Enzym học, Công nghệ lên men, Hóa sinh lâm sàng và Kỹ thuật Hóa sinh. Ngành Quản trị Kinh doanh (2+2) (Mã ngành: 7340101_WE) Chương trình: Chương trình liên kết cấp bằng của trường ĐH West of England (UK) Quản trị kinh doanh là một ngành tổng hợp gồm nhiều bộ môn căn bản về “quản trị” và “kinh doanh”. Nói cách khác, khi đăng ký ngành này, bạn sẽ được đào tạo đầy đủ những kiến thức căn bản trong khối ngành kinh tế như tài chính, kế toán, nhân sự cho tới các chiến lược kinh doanh, marketing. Song song với các kiến thức trên, hệ thống tư duy, kỹ năng lãnh đạo cùng nhưng mô hình quản trị sao cho tối đa hóa hiệu suất công việc cũng là những môn học không thể thiếu của chuyên ngành đặc biệt này. Ngành Công nghệ Sinh học (Mã ngành: 7420201_UN) Chương trình: Chương trình liên kết cấp bằng của trường ĐH Nottingham (UK) Công nghệ sinh học (CNSH) là một lĩnh vực nghiên cứu và vận dụng sinh vật sống để tạo ra sản phẩm hoặc để phục vụ cho lợi ích của nhân loại. Ngành Kỹ thuật Y Sinh (Mã ngành: 7520212) Chương trình: Trong nước Kỹ thuật Y Sinh (KTYS) hiện đang là một lĩnh vực nổi bật thu hút sự quan tâm trên thế giới. Đây là một lĩnh vực đa ngành ứng dụng kỹ thuật tiên tiến vào việc tạo ra các phương pháp nghiên cứu và thiết bị phục vụ cho sức khỏe cũng như giúp hiểu biết sâu hơn về các tiến trình sinh học của con người.</td>\n",
              "      <td>32</td>\n",
              "      <td>Cho tôi hỏi về Ngôn ngữ Anh (3+1)</td>\n",
              "      <td>Thông tin chung</td>\n",
              "    </tr>\n",
              "    <tr>\n",
              "      <th>4</th>\n",
              "      <td>{'answer_start': [3127], 'text': ['Phòng Kế hoạch Tài chính: Phòng có chức năng tham mưu và giúp Hiệu trưởng trong công tác xây dựng và quản lý kế hoạch về tài chính của trường, theo dõi giám sát và kiểm tra việc thu chi, sử dụng tài chính, kế hoạch tài chính và các lĩnh vực khác có liên quan đến công tác kế hoạch tài chính trong toàn trường. Liên hệ: Phòng O2 – 701, Trường Đại học Quốc tếKhu phố 6, Phường Linh Trung, Quận Thủ Đức, TP. HCM']}</td>\n",
              "      <td>Phòng Đào tạo Sau đại học: Tham mưu cho Hiệu trưởng về các công tác quản lý đào tạo và bồi dưỡng sau đại học thuộc trách nhiệm và thẩm quyền. Liên hệ: Room O2 – 609Telephone: (84)-28-37244270. Ext: 3120Fax: (84-28) 37244271. Phòng Vật tư Thiết bị: Phòng Vật tư Thiết bị Liên hệ: Phòng O1 – 612, Trường Đại học Quốc tếKhu phố 6, Phường Linh Trung, Quận Thủ Đức, TP. HCMĐiện thoại: (028) 37244270 – số máy lẻ: 3555, 3246 Fax: (028) 37244271. Trung tâm Đổi mới sáng tạo và Chuyển giao công nghệ: Trung tâm là đơn vị sự nghiệp khoa học trực thuộc trường Đại Học Quốc Tế – Đại Học Quốc Gia TP. HCM, có chức năng cung cấp dịch vụ – nghiên cứu – đào tạo – tư vấn và chuyển giao công nghệ cho các doanh nghiệp và các cơ quan chức năng Nhà nước. Trung tâm là cầu nối giữa giảng viên và sinh viên của Trường với các nghiên cứu và dự án thực tiễn tại các doanh nghiệp và đơn vị chức năng trực thuộc nhà nước. Liên hệ: Phòng O2– 303, Trường Đại học Quốc tếKhu phố 6, Phường Linh Trung, Quận Thủ Đức, TP. HCMĐiện thoại: (028) 37244270 – số máy lẻ: 3949 Fax: (028) 37244271. Phòng Hành chính Tổng hợp: Phòng Hành chính Tổng hợp Liên hệ: Phòng O2-711, Trường Đại học Quốc tếKhu phố 6, Phường Linh Trung, Quận Thủ Đức, TP. HCMĐiện thoại: (028) 37244270 – số máy lẻ: 3225, 3939, 3737 Fax: (028) 37244271. Phòng Đầu tư &amp; Phát triển: Tham mưu, đề xuất Hiệu trưởng thực hiện chức năng chủ đầu tư xây dựng quản lý và sử dụng các nguồn vốn được giao để tổ chức quản lý thực hiện dự án đầu tư xây dựng. Phòng Quản trị cơ sở vật chất: Phòng có chức năng tham mưu và giúp Hiệu trưởng trong công tác quản lý, mua sắm, sữa chữa, bảo quản cơ sở vật chất của trường, phục vụ cho công tác đào tạo, nghiên cứu khoa học, của cán bộ công nhân viên và sinh viên toàn trường. Liên hệ: Phòng O2 – 702, Trường Đại học Quốc tếKhu phố 6, Phường Linh Trung, Quận Thủ Đức, TP. HCMĐiện thoại: (028) 37244270 – số máy lẻ: 3223. Phòng Quan hệ Đối ngoại: Tham mưu cho Hiệu trưởng về công tác đối ngoại, quan hệ công chúng và truyền thông của trường. Phòng Quản lý Khoa học: Tham mưu cho Hiệu trưởng về công tác quản lý toàn bộ hoạt động khoa học và công nghệ của trường. Phòng Tổ chức cán bộ: Phòng Tổ chức cán bộ Liên hệ: Phòng O2.709, Trường Đại học Quốc tếKhu phố 6, Phường Linh Trung, Quận Thủ Đức, TP. HCMĐiện thoại: (028) 37244270 – số máy lẻ: 3336, 3526, 3527 Fax: (028) 37244271. Phòng Hợp tác Đào tạo nước ngoài: Phòng Hợp tác Đào tạo nước ngoài Liên hệ: Phòng O1 – 614, Trường Đại học Quốc tếKhu phố 6, Phường Linh Trung, Quận Thủ Đức, TP. HCMĐiện thoại: (028) 37244270 – số máy lẻ: 3880 Fax: (028) 37244271. Trung tâm Dịch vụ Công nghệ thông tin: Trung tâm Dịch vụ Công nghệ Thông tin chịu trách nhiệm quản lý và hỗ trợ kỹ thuật cho toàn bộ hệ thống mạng Internet, mạng điện thoại và các trang web của trường. Bên cạnh đó Trung tâm còn có chức năng chụp ảnh, viết bài đưa tin những hình ảnh hoạt động thường xuyên của nhà trường nhằm xây dựng quảng bá hình ảnh thương hiệu trường ngày càng được nhiều người biết đến. Liên hệ: Phòng O1 – 312, Trường Đại học Quốc tếKhu phố 6, Phường Linh Trung, Quận Thủ Đức, TP. HCMĐiện thoại: (028) 37244270 – số máy lẻ: 3366. Phòng Kế hoạch Tài chính: Phòng có chức năng tham mưu và giúp Hiệu trưởng trong công tác xây dựng và quản lý kế hoạch về tài chính của trường, theo dõi giám sát và kiểm tra việc thu chi, sử dụng tài chính, kế hoạch tài chính và các lĩnh vực khác có liên quan đến công tác kế hoạch tài chính trong toàn trường. Liên hệ: Phòng O2 – 701, Trường Đại học Quốc tếKhu phố 6, Phường Linh Trung, Quận Thủ Đức, TP. HCM. Phòng Đào tạo Đại học: Phòng có chức năng tham mưu, giúp Hiệu trưởng trong kế hoạch đào tạo ngắn hạn và dài hạn của nhà trường. Tổ chức chỉ đạo thực hiện, kiểm tra và giám sát toàn bộ công tác giảng dạy và học tập trong trường, các hệ đào tạo chính quy đại học và sau đại học. Nghiên cứu đề xuất về mục tiêu đào tạo, các hệ đào tạo, cơ cấu ngành nghề, quy mô và phương thức đào tạo, cũng như việc phát triển cơ sở vật chất cần thiết phục vụ cho công tác giảng dạy và học tập. Liên hệ: Phòng O2 – 708, Trường Đại học Quốc tếKhu phố 6, Phường Linh Trung, Quận Thủ Đức, TP. HCMĐiện thoại: (028) 37244270 – số máy lẻ: 3777, 3229. Phòng Công tác Sinh viên: Được thành lập năm vào tháng 12/2009, Phòng Công tác Sinh viên (PCTSV) là đơn vị tham mưu giúp việc cho Ban Giám hiệu trong công tác thực hiện chế độ chính sách, học bổng Doanh nghiệp, khen thưởng-kỷ luật sinh viên. Phòng Thanh tra Pháp chế: Công tác thanh tra: Tham mưu, giúp Hiệu trưởng thực hiện đúng công tác thanh tra, kiểm tra trong phạm vi quản lý của Hiệu trưởng nhằm đảm bảo việc thực hiện chính sách pháp luật về giáo dục và chính sách, pháp luật liên quan. Công tác pháp chế: Chủ trì, phối hợp với các bộ phận liên quan tư vấn, giúp Hiệu trưởng về những vấn đề pháp lý. Phòng Bảo đảm Chất lượng Giáo dục và Khảo thí: Tư vấn, tham mưu cho Ban Giám hiệu về chiến lược, các kế hoạch cải tiến hoạt động bảo đảm chất lượng. Trung tâm đào tạo Quản lý công: Trung tâm Đào tạo Quản lý công là nơi đào tạo nên những nhà lãnh đạo theo hướng đổi mới sáng tạo, quản trị tốt với kỹ năng, nghiệp vụ ngày càng chuyên nghiệp, hiệu quả. Liên hệ: Phòng O2 – 304 Điện thoại: (028) 37244270 – số máy lẻ: 3305. Khoa Công nghệ Thông tin: Thông qua các chương trình đào tạo kỹ sư phần cứng máy tính, mạng máy tính, phần mềm và Khoa học dữ liệu, Khoa CNTT đã đào tạo ra nhiều lứa sinh viên có trình độ chuyên môn cao và khả năng ngoại ngữ lưu loát. Liên hệ: Phòng A1.610 Điện thoại: (84-28) 37244270 – Số máy lẻ: 3232. Bộ môn Kỹ thuật Xây dựng: Bộ môn Kỹ thuật Xây dựng (KTXD) được thành lập vào tháng 1 năm 2011 nhằm xây dựng một nền tảng vững chắc cho sinh viên và giúp giảng viên phát huy tối đa khả năng của mình Liên hệ: Phòng O1 – 506 Điện thoại: (84 -28) 3724 4270 số nhánh lẻ: 342. Khoa Kỹ thuật và Quản lý Công nghiệp: Khoa Kỹ thuật và Quản lý Công nghiệp mong muốn thu hút, đào tạo sinh viên và chuẩn bị cho họ trở thành những nhà cán bộ kỹ thuật và nhà lãnh đạo trong các lãnh vực Quản lý Sản xuất, Hậu cần, Chuỗi Cung ứng, các ngành Dịch vụ tại Việt Nam Liên hệ: Phòng O2 – 602 Điện thoại: (84 – 28) 37244270 số máy lẻ: 3327, 3982. Khoa Công nghệ Sinh học: Chương trình đào tạo của Khoa CNSH được xây dựng trên nền tảng của các chương trình tiên tiến có khả năng giải quyết các nhu cầu thực tiễn trong nước, tập trung vào việc trang bị kiến thức hiện đại, kỹ năng thực hành và làm việc cần thiết cho người học Liên hệ: Phòng O1 – 708 Điện thoại: (84 – 28) 37244270 – số máy lẻ 3233. Bộ môn Toán: Bộ môn Toán chịu trách nhiệm biên soạn đề cương, chương trình và thực hiện giảng dạy các học phần Toán học cho sinh viên trường Đại học Quốc tế. Liên hệ: Phòng O2 – 610 Điện thoại: (84-28) 3724 4270 số nhánh lẻ: 3235. Khoa Điện tử Viễn thông: Mục tiêu của Khoa ĐTVT chính là chuẩn bị cho sinh viên tốt nghiệp một hành trang vững chắc để thích ứng với những thay đổi nhanh chóng của thế giới công nghệ, đặc biệt là trong các lĩnh vực Kỹ thuật Điện tử, Viễn thông, Xử lý Tín hiệu (âm thanh, hình ảnh), Kỹ thuật Điều khiển và Tự động hóa Liên hệ: Phòng A2.206 ĐT: (84-28) 37244270 – số nội bộ: 3231. Khoa Kỹ thuật Y sinh: Kỹ thuật Y Sinh (KTYS) hiện đang là một lĩnh vực nổi bật thu hút sự quan tâm trên thế giới Liên hệ: Phòng O1- 405 Điện thoại: (84-28) 3724 4270 số nhánh lẻ: 3236. Bộ môn Kỹ thuật Môi trường: Bộ môn Kỹ thuật Môi trường được thành lập vào tháng 7 năm 2017 với sứ mệnh là đào tạo ra những kỹ sư cho ngành kỹ thuật môi trường với kiến thức chuyên môn sâu, cùng với những kỹ năng cần thiết để đáp ứng nhu cầu nhân lực chất lượng cao, giải quyết các vấn đề ô nhiễm môi trường (ô nhiễm nguồn nước, ô nhiễm không khí, chất thải rắn). Liên hệ: Phòng A2-513 Điện thoại: (028) 3724 4270 Số nhánh lẻ: 3950. Khoa Quản trị kinh doanh: Một đơn vị đào tạo cử nhân ngành quản trị kinh doanh chất lượng cao trong khối trường đại học công lập Liên hệ: Phòng 01 – 306 Điện thoại: (84-28) 37244270 số máy lẻ: 3230, 3724</td>\n",
              "      <td>56</td>\n",
              "      <td>Cho tôi hỏi về Phòng Kế hoạch Tài chính</td>\n",
              "      <td>Thông tin chung</td>\n",
              "    </tr>\n",
              "    <tr>\n",
              "      <th>5</th>\n",
              "      <td>{'answer_start': [14344], 'text': ['Ngành Quản trị Kinh doanh (Mã ngành: 7340101_UH) Chương trình: Chương trình liên kết cấp bằng của trường ĐH Houston (USA) Quản trị kinh doanh là một ngành tổng hợp gồm nhiều bộ môn căn bản về “quản trị” và “kinh doanh”. Nói cách khác, khi đăng ký ngành này, bạn sẽ được đào tạo đầy đủ những kiến thức căn bản trong khối ngành kinh tế như tài chính, kế toán, nhân sự cho tới các chiến lược kinh doanh, marketing. Song song với các kiến thức trên, hệ thống tư duy, kỹ năng lãnh đạo cùng nhưng mô hình quản trị sao cho tối đa hóa hiệu suất công việc cũng là những môn học không thể thiếu của chuyên ngành đặc biệt này.']}</td>\n",
              "      <td>Ngành Công nghệ Thực phẩm (Mã ngành: 7540101) Chương trình: Trong nước Chương trình đào tạo ngành CNTP tại Trường Đai học Quốc tế được thiết kế nhằm đào tạo các kỹ sư CNTP, có những nét chính như sau:, Cung cấp kiến thức rộng, cân bằng về các khoa học thực phẩm và kỹ thuật thực phẩm Cung cấp kiến thức cơ bản về quản lý thực phẩm (bao gồm cả quản lý sản xuất, chất lượng, vệ sinh an toàn thực phẩm và vệ sinh môi trường) Chú trọng đến kỹ năng thực hành và khả năng tiếp cận với thiết bị công nghệ cao Giảng dạy hoàn toàn bằng tiếng Anh (kỹ sư sau khi tốt nghiệp sẽ đạt trình độ tiếng Anh TOEF pBT 550 hoặc tương đương (IELTS 6.0, TOEFL iBT 60)). Ngành Kỹ thuật Hệ thống Công nghiệp (Mã ngành: 7520118) Chương trình: Trong nước Chương trình đại học của ngành Kỹ thuật Hệ thống công nghiệp (ISE) sẽ cung cấp cho sinh viên những kiến thức lý thuyết và kỹ năng thực tế trong việc thiết kế, vận hành, cải thiện và tối ưu các hệ thống sản xuất và dịch vụ Sau khi tốt nghiệp, sinh viên có thể:, Theo đuổi việc học lên cao hơn, có khả năng cạnh tranh thành công để giành được những học bổng uy tín để có thể theo học các chương trình cao học ở nước ngoài Trở thành kỹ sư Kỹ thuật Hệ thống công nghiệp giỏi, có thể tìm được việc làm trong các lĩnh vực sản xuất, quản lý vật tư tồn kho, chuỗi cung ứng và hậu cần, quản lý chất lượng, lập kế hoạch và điều độ, thiết kế và sắp xếp các mặt bằng trong các công ty/ cơquan:. Ngành Kỹ thuật Điều khiển và Tự động hóa (Mã ngành: 7520216) Chương trình: Trong nước Mục tiêu đào tạo: , Cung cấp toàn bộ các kiến thức cơ sở của nhóm ngành Điện – Điện tử, các kiến thức chuyên ngành về Đo Lường, Giám Sát và Điều Khiển. Các kỹ năng cần thiết của một kỹ sư để đáp ứng nhu cầu của công nghiệp, để tiếp tục chương trình cao học, nghiên cứu chuyên sâu ngành Điều Khiển Các kỹ năng tự đào tạo để thích ứng với sự thay đổi của công nghệ Định hướng đào tạo: , Lý thuyết điều khiển và ứng dụng vào các đối tượng điều khiển và các quá trình. Công nghệ đo lường, điều khiển và giám sát hệ thống. Robot (công nghiệp, tự hành) và trí thông minh nhân tạo. Ngành Công nghệ Thông tin (2+2) (Mã ngành: 7480201_DK2) Chương trình: Chương trình liên kết cấp bằng của trường ĐH Deakin (Úc) Công nghệ Thông tin (với hai chuyên ngành: kỹ sư mạng máy tính và cử nhân khoa học máy tính) và cử nhân Khoa học Dữ liệu. Chương trình đào tạo tuân thủ theo các chuẩn mực quốc tế và đã đạt được chứng nhận kiểm định chất lượng bởi Tổ chức các trường Đại học Đông Nam Á (AUN) từ năm 2009 và tái kiểm định năm 2017. Các chương trình đào tạo đã đạt được chuẩn MOET năm 2017 và hiện đang tiếp tục thực hiện quy chuẩn kiểm định ABET của Mỹ. Ngành Quản trị Kinh doanh (Mã ngành: 7340101_AU) Chương trình: Chương trình liên kết cấp bằng của trường ĐH Auckland University of Technology (New Zealand) Quản trị kinh doanh là một ngành tổng hợp gồm nhiều bộ môn căn bản về “quản trị” và “kinh doanh”. Nói cách khác, khi đăng ký ngành này, bạn sẽ được đào tạo đầy đủ những kiến thức căn bản trong khối ngành kinh tế như tài chính, kế toán, nhân sự cho tới các chiến lược kinh doanh, marketing. Song song với các kiến thức trên, hệ thống tư duy, kỹ năng lãnh đạo cùng nhưng mô hình quản trị sao cho tối đa hóa hiệu suất công việc cũng là những môn học không thể thiếu của chuyên ngành đặc biệt này. Ngành Công nghệ Thực phẩm (Mã ngành: 7540101_UN) Chương trình: Chương trình liên kết cấp bằng của trường ĐH Nottingham (UK) Cung cấp kiến thức rộng, cân bằng về các khoa học thực phẩm và kỹ thuật thực phẩm Cung cấp kiến thức cơ bản về quản lý thực phẩm (bao gồm cả quản lý sản xuất, chất lượng, vệ sinh an toàn thực phẩm và vệ sinh môi trường) Chú trọng đến kỹ năng thực hành và khả năng tiếp cận với thiết bị công nghệ cao. Ngành Kỹ thuật Điện tử - Viễn thông (Mã ngành: 7520207_WE) Chương trình: Chương trình liên kết cấp bằng của trường ĐH West of England (UK) Mục tiêu đào tạo:, Cung cấp kiến thức cơ sở hoàn chỉnh và các kỹ năng trong lĩnh vực Điện tử và Viễn thông Phục vụ và đáp ứng các nhu cầu công nghiệp, nghiên cứu khoa học và học sau đại học Chuẩn bị cho sinh viên tốt nghiệp có thể thích ứng với sự thay đổi nhanh trong lĩnh vực công nghệ cao như Điện tử và Viễn thông. Ngành Logistics và Quản lý chuỗi cung ứng (Mã ngành: 7510605) Chương trình: Trong nước Logistics và Quản lý chuỗi cung ứng là việc quản lý một mạng lưới kết nối của các doanh nghiệp tham gia vào việc cung cấp hàng hoá và dịch vụ đến tận tay người tiêu dùng. Nó đòi hỏi nhiều quy trình khác nhau, bao gồm lưu trữ, vận chuyển nguyên vật liệu, quá trình xử lý hàng tồn kho, sản xuất…. Ngành Công nghệ Thông tin (2.5+1.5) (Mã ngành: 7480201_DK25) Chương trình: Chương trình liên kết cấp bằng của trường ĐH Deakin (Úc) Công nghệ Thông tin (với hai chuyên ngành: kỹ sư mạng máy tính và cử nhân khoa học máy tính) và cử nhân Khoa học Dữ liệu. Chương trình đào tạo tuân thủ theo các chuẩn mực quốc tế và đã đạt được chứng nhận kiểm định chất lượng bởi Tổ chức các trường Đại học Đông Nam Á (AUN) từ năm 2009 và tái kiểm định năm 2017. Các chương trình đào tạo đã đạt được chuẩn MOET năm 2017 và hiện đang tiếp tục thực hiện quy chuẩn kiểm định ABET của Mỹ. Ngành Kỹ thuật Điện tử (Mã ngành: 7520207_SB) Chương trình: Chương trình liên kết cấp bằng của trường ĐH SUNY Binghamton (USA) Đời sống công nghệ hiện đại không thể nào thiếu được các thiết bị điện và điện tử. Các thiết bị này phổ biến ở khắp các hộ gia đình, trong các thiết bị giải trí, trong nhà máy sản xuất và có thể nói là tất cả mọi nơi có con nguời. Chính vì vậy, ngành Kỹ thuật Điện tử có nhu cầu nhân lực lớn và sẽ tiếp tục phát triển trong tương lai. Ngành Tài chính – Ngân hàng (Mã ngành: 7340201) Chương trình: Trong nước Tài chính ngân hàng là ngành nghề liên quan đến các dịch vụ giao dịch, luân chuyển tiền tệ thông qua ngân hàng và các công cụ tài chính của ngân hàng phát hành trong phạm vi nội địa và quốc tế. Tài chính ngân hàng là một phạm trù rất rộng, bao gồm các lĩnh vực nhỏ và chuyên biệt hơn như ngân hàng, tài chính doanh nghiệp, tài chính thuế, tài chính bảo hiểm, phân tích tài chính, kinh tế học tài chính,.. Ngành Kế toán (Mã ngành: 7340301) Chương trình: Trong nước Kế toán (tiếng Anh là Accountant) là công việc ghi chép, thu nhận, xử lý và cung cấp các thông tin về tình hình hoạt động tài chính của một tổ chức, một doanh nghiệp, một cơ quan nhà nước, một cơ sở kinh doanh tư nhân.. Ngành Kỹ thuật Máy tính (Mã ngành: 7480106_SB) Chương trình: Chương trình liên kết cấp bằng của trường ĐH SUNY Binghamton (USA) Ngành Kỹ thuật máy tính (KTMT) là một ngành khá đặc biệt trong nhóm ngành Công nghệ thông tin, là ngành học kết hợp kiến thức cả hai lĩnh vực Điện tử và Công nghệ thông tin, Ngành Kỹ thuật máy tính đang được nhà nước ưu tiên phát triển đặc biệt cụ thể qua các chính sách, dự án nhà máy chế tạo chip đầu tiên của Việt Nam đang được triển khai rầm rộ. Ngành Kỹ thuật Không gian (Mã ngành: 7520121) Chương trình: Trong nước Kỹ thuật Không gian là chương trình đào tạo kỹ sư 4 năm trong lĩnh vực ứng dụng công nghệ vệ tinh, bao gồm xử lý và phân tích tín hiệu, hình ảnh vệ tinh, công nghệ viễn thám, và định vị vệ tinh. Chương trình ra đời nhằm đáp ứng nhu cầu rất lớn về nguồn nhân lực trình độ cao trong ứng dụng công nghệ vệ tinh vào đời sống xã hội, quản lý tài nguyên, môi trường, lãnh thổ, biển đảo, và an ninh quốc phòng. Ngành Công nghệ Thông tin (Mã ngành: 7480201_UN) Chương trình: Chương trình liên kết cấp bằng của trường ĐH Nottingham (UK) Công nghệ Thông tin (với hai chuyên ngành: kỹ sư mạng máy tính và cử nhân khoa học máy tính) và cử nhân Khoa học Dữ liệu. Chương trình đào tạo tuân thủ theo các chuẩn mực quốc tế và đã đạt được chứng nhận kiểm định chất lượng bởi Tổ chức các trường Đại học Đông Nam Á (AUN) từ năm 2009 và tái kiểm định năm 2017. Các chương trình đào tạo đã đạt được chuẩn MOET năm 2017 và hiện đang tiếp tục thực hiện quy chuẩn kiểm định ABET của Mỹ. Ngành Kỹ thuật Điện tử - Viễn thông (Mã ngành: 7520207_UN) Chương trình: Chương trình liên kết cấp bằng của trường ĐH Nottingham (UK) Mục tiêu đào tạo:, Cung cấp kiến thức cơ sở hoàn chỉnh và các kỹ năng trong lĩnh vực Điện tử và Viễn thông Phục vụ và đáp ứng các nhu cầu công nghiệp, nghiên cứu khoa học và học sau đại học Chuẩn bị cho sinh viên tốt nghiệp có thể thích ứng với sự thay đổi nhanh trong lĩnh vực công nghệ cao như Điện tử và Viễn thông. Ngành Công nghệ Sinh học (2+2) (Mã ngành: 7420201_WE2) Chương trình: Chương trình liên kết cấp bằng của trường ĐH West of England (UK) Công nghệ sinh học (CNSH) là một lĩnh vực nghiên cứu và vận dụng sinh vật sống để tạo ra sản phẩm hoặc để phục vụ cho lợi ích của nhân loại. Ngành Kỹ thuật Môi trường (Mã ngành: 7520320) Chương trình: Trong nước Chương trình nhằm đào tạo kỹ sư Kỹ thuật Môi trường có năng lực tốt và trình độ am hiểu các vấn đề Kỹ thuật Môi trường, theo đuổi sự nghiên cứu sáng tạo, kỹ thuật hiện đại để phục vụ nhu cầu của đất nước, xã hội, công nghiệp và cộng đồng khoa học Được thiết kế theo tiêu chí của ABET Inc. (cơ quan đánh giá giáo dục kỹ thuật của Hoa Kỳ), chương trình đào tạo ngành Kỹ thuật môi trường bao gồm 4 năm (8 đến 9 học kỳ, tùy trình độ năng lực tiếng Anh đầu vào) cho 145 tín chỉ. Ngành Ngôn ngữ Anh (Mã ngành: 7220201) Chương trình: Trong nước Chương trình Cử nhân Ngôn ngữ Anh của Bộ môn Anh tại trường Đại học Quốc tế được thiết kế nhằm giúp sinh viên đáp ứng nhu cầu sử dụng tiếng Anh trong môi trường học tập và làm việc toàn cầu. Theo dự kiến, sinh viên hoàn thành 135 tín chỉ của các khóa học trong bốn năm. Những chương trình Anh ngữ Tăng cường và Học thuật của chúng tôi góp phần thúc đẩy sự thành công của sinh viên IU trong môi trường học tập và nói tiếng Anh tại IU và các trường đại học trên toàn thế giới. Chúng tôi tập trung vào các lĩnh vực thường sử dụng tiếng Anh trong nhiều bối cảnh học thuật khác nhau, như đọc chuyên ngành, nghe bài giảng và ghi chú, kỹ thuật thuyết trình, viết học thuật, viết bài kỹ thuật và viết bài nghiên cứu, và chuẩn bị cho các bài kiểm tra tiêu chuẩn quốc tế như TOEFL iBT và IELTS. Ngành Kỹ thuật Hóa học (Mã ngành: 7520301) Chương trình: Trong nước Đào tạo kỹ sư hóa học với triết lý ‘Job ready’, cụ thể như sau:, Có kiến thức cơ bản vững chắc về khoa học và kỹ thuật trong lĩnh vực hóa học và những lĩnh vực có liên quan (vd như sinh học, dược học, môi trường, v.v.) Có khả năng vận dụng sáng tạo các kiến thức cơ bản trong ngành để giải quyết các vấn đề đa dạng trong các lĩnh vực nghề nghiệp Có đạo đức nghề nghiệp, hiểu rõ các vấn đề về môi trường, xã hội, an ninh và kinh tế Có đầy đủ các kỹ năng mềm, kỹ năng quản lý, khả năng làm việc nhóm, khả năng lãnh đạo, khả năng giao tiếp và làm việc chuyên môn thành thạo bằng tiếng Anh. Ngành Công nghệ Thông tin (3+1) (Mã ngành: 7480201_DK3) Chương trình: Chương trình liên kết cấp bằng của trường ĐH Deakin (Úc) Công nghệ Thông tin (với hai chuyên ngành: kỹ sư mạng máy tính và cử nhân khoa học máy tính) và cử nhân Khoa học Dữ liệu. Chương trình đào tạo tuân thủ theo các chuẩn mực quốc tế và đã đạt được chứng nhận kiểm định chất lượng bởi Tổ chức các trường Đại học Đông Nam Á (AUN) từ năm 2009 và tái kiểm định năm 2017. Các chương trình đào tạo đã đạt được chuẩn MOET năm 2017 và hiện đang tiếp tục thực hiện quy chuẩn kiểm định ABET của Mỹ. Ngành Công nghệ Sinh học định hướng Y sinh (4+0) (Mã ngành: 7420201_WE4) Chương trình: Chương trình liên kết cấp bằng của trường ĐH West of England (UK) (4+0) Đây là ngành học ứng dụng các thành tựu của công nghệ sinh học vào lĩnh vực y học – dược học hướng tới gia tăng khả năng điều trị, chẩn đoán và bảo vệ sức khoẻ con người. Ngành Quản trị Kinh doanh (Mã ngành: 7340101_UN) Chương trình: Chương trình liên kết cấp bằng của trường ĐH Nottingham (UK) Quản trị kinh doanh là một ngành tổng hợp gồm nhiều bộ môn căn bản về “quản trị” và “kinh doanh”. Nói cách khác, khi đăng ký ngành này, bạn sẽ được đào tạo đầy đủ những kiến thức căn bản trong khối ngành kinh tế như tài chính, kế toán, nhân sự cho tới các chiến lược kinh doanh, marketing. Song song với các kiến thức trên, hệ thống tư duy, kỹ năng lãnh đạo cùng nhưng mô hình quản trị sao cho tối đa hóa hiệu suất công việc cũng là những môn học không thể thiếu của chuyên ngành đặc biệt này. Ngành Công nghệ Thông tin (Mã ngành: 7480201) Chương trình: Trong nước Công nghệ Thông tin (với hai chuyên ngành: kỹ sư mạng máy tính và cử nhân khoa học máy tính) và cử nhân Khoa học Dữ liệu. Chương trình đào tạo tuân thủ theo các chuẩn mực quốc tế và đã đạt được chứng nhận kiểm định chất lượng bởi Tổ chức các trường Đại học Đông Nam Á (AUN) từ năm 2009 và tái kiểm định năm 2017. Các chương trình đào tạo đã đạt được chuẩn MOET năm 2017 và hiện đang tiếp tục thực hiện quy chuẩn kiểm định ABET của Mỹ. Ngành Khoa học Máy tính (Mã ngành: 7480101) Chương trình: Trong nước Ngành Khoa học máy tính đóng vai trò rất quan trọng trong việc xây dựng các nền tảng nghiên cứu, phát triển các công nghệ trong tương lai, đặc biệt là những nghiên cứu ứng dụng thiết thực trong cuộc sống. Chương trình đào tạo ngành Khoa học máy tính có nhiệm vụ đào tạo ngồn nhân lực chất lượng cao cho ngành CNTT. Sinh viên tốt nghiệp chương trình Cử nhân Khoa học máy tính đáp ứng các yêu cầu sau:, Có kiến thức cơ bản và chuyên sâu về khoa học máy tính và công nghệ thông tin, có khả năng thiết kế các hệ thống xử lý tính toán phức tạp, các phần mềm có chất lượng khoa học và công nghệ cao, thử nghiệm, quản lý các hệ thống máy tính, các hệ thống tin học Có khả năng triển khai xây dựng các hệ thống ứng dụng tin học và phân tích, thiết kế xây dựng các phần mềm có giá trị thực tiễn cao, có tính sáng tạo, đặc biệt là các ứng dụng thông minh dựa trên việc xử lý tri thức, xử lý ngôn ngữ tự nhiên, xử lý và khai thác dữ liệu đa phương tiện. Ngành Kỹ thuật Điện tử - Viễn thông (Mã ngành: 7520207) Chương trình: Trong nước Chương trình Kỹ thuật Điện tử – Viễn thông đã được công nhận đạt chuẩn của các tổ chức kiểm định chất lượng quốc tế như của mạng lưới các trường Đông Nam Á (AUN) và gần đây nhất là của tổ chức Kiểm định các chương trình đào tạo kỹ thuật &amp; công nghệ của Hoa Kỳ từ cuối năm 2018 Mục tiêu đào tạo:, Cung cấp kiến thức cơ sở hoàn chỉnh và các kỹ năng trong lĩnh vực Điện tử và Viễn thông Phục vụ và đáp ứng các nhu cầu công nghiệp, nghiên cứu khoa học và học sau đại học Chuẩn bị cho sinh viên tốt nghiệp có thể thích ứng với sự thay đổi nhanh trong lĩnh vực công nghệ cao như Điện tử và Viễn thông. Ngành Quản trị Kinh doanh (Mã ngành: 7340101_UH) Chương trình: Chương trình liên kết cấp bằng của trường ĐH Houston (USA) Quản trị kinh doanh là một ngành tổng hợp gồm nhiều bộ môn căn bản về “quản trị” và “kinh doanh”. Nói cách khác, khi đăng ký ngành này, bạn sẽ được đào tạo đầy đủ những kiến thức căn bản trong khối ngành kinh tế như tài chính, kế toán, nhân sự cho tới các chiến lược kinh doanh, marketing. Song song với các kiến thức trên, hệ thống tư duy, kỹ năng lãnh đạo cùng nhưng mô hình quản trị sao cho tối đa hóa hiệu suất công việc cũng là những môn học không thể thiếu của chuyên ngành đặc biệt này. Ngành Toán ứng dụng (Kỹ thuật Tài chính và Quản trị rủi ro) (Mã ngành: 7460112) Chương trình: Trong nước Chương trình Kĩ thuật tài chính và Quản trị rủi ro được thiết kế nhằm trang bị cho sinh viên các kiến thức cơ bản và hiện đại về Toán học, Tin học, và Kỹ thuật tài chính, giúp các em có thể thực hiện các quy trình phân tích, dự báo, quản trị các vấn đề tài chính và các vấn đề liên quan, giải quyết được các tình huống thực tế trong lĩnh vực Kinh tế-Tài chính. Ngành Công nghệ Thông tin (2+2) (Mã ngành: 7480201_WE2) Chương trình: Chương trình liên kết cấp bằng của trường ĐH West of England (UK) Công nghệ Thông tin (với hai chuyên ngành: kỹ sư mạng máy tính và cử nhân khoa học máy tính) và cử nhân Khoa học Dữ liệu. Chương trình đào tạo tuân thủ theo các chuẩn mực quốc tế và đã đạt được chứng nhận kiểm định chất lượng bởi Tổ chức các trường Đại học Đông Nam Á (AUN) từ năm 2009 và tái kiểm định năm 2017. Các chương trình đào tạo đã đạt được chuẩn MOET năm 2017 và hiện đang tiếp tục thực hiện quy chuẩn kiểm định ABET của Mỹ. Ngành Quản trị kinh doanh (4+0) (Mã ngành: 7340101_WE4) Chương trình: Chương trình liên kết cấp bằng của trường ĐH West of England (UK) (4+0) Quản trị kinh doanh là một ngành tổng hợp gồm nhiều bộ môn căn bản về “quản trị” và “kinh doanh”. Nói cách khác, khi đăng ký ngành này, bạn sẽ được đào tạo đầy đủ những kiến thức căn bản trong khối ngành kinh tế như tài chính, kế toán, nhân sự cho tới các chiến lược kinh doanh, marketing. Song song với các kiến thức trên, hệ thống tư duy, kỹ năng lãnh đạo cùng nhưng mô hình quản trị sao cho tối đa hóa hiệu suất công việc cũng là những môn học không thể thiếu của chuyên ngành đặc biệt này. Ngành Công nghệ Thông tin (4+0) (Mã ngành: 7480201_WE4) Chương trình: Chương trình liên kết cấp bằng của trường ĐH West of England (UK) (4+0) Công nghệ Thông tin (với hai chuyên ngành: kỹ sư mạng máy tính và cử nhân khoa học máy tính) và cử nhân Khoa học Dữ liệu. Chương trình đào tạo tuân thủ theo các chuẩn mực quốc tế và đã đạt được chứng nhận kiểm định chất lượng bởi Tổ chức các trường Đại học Đông Nam Á (AUN) từ năm 2009 và tái kiểm định năm 2017. Các chương trình đào tạo đã đạt được chuẩn MOET năm 2017 và hiện đang tiếp tục thực hiện quy chuẩn kiểm định ABET của Mỹ. Ngành Ngôn ngữ Anh (4+0) (Mã ngành: 7220201_WE4) Chương trình: Chương trình liên kết cấp bằng của trường ĐH West of England (UK) (4+0) Chương trình Cử nhân Ngôn ngữ Anh của Bộ môn Anh tại trường Đại học Quốc tế được thiết kế nhằm giúp sinh viên đáp ứng nhu cầu sử dụng tiếng Anh trong môi trường học tập và làm việc toàn cầu. Theo dự kiến, sinh viên hoàn thành 135 tín chỉ của các khóa học trong bốn năm. Những chương trình Anh ngữ Tăng cường và Học thuật của chúng tôi góp phần thúc đẩy sự thành công của sinh viên IU trong môi trường học tập và nói tiếng Anh tại IU và các trường đại học trên toàn thế giới. Chúng tôi tập trung vào các lĩnh vực thường sử dụng tiếng Anh trong nhiều bối cảnh học thuật khác nhau, như đọc chuyên ngành, nghe bài giảng và ghi chú, kỹ thuật thuyết trình, viết học thuật, viết bài kỹ thuật và viết bài nghiên cứu, và chuẩn bị cho các bài kiểm tra tiêu chuẩn quốc tế như TOEFL iBT và IELTS. Ngành Ngôn ngữ Anh (3+1) (Mã ngành: 7220201_WE3) Chương trình: Chương trình liên kết cấp bằng của trường ĐH West of England (UK) (3+1) Chương trình Cử nhân Ngôn ngữ Anh của Bộ môn Anh tại trường Đại học Quốc tế được thiết kế nhằm giúp sinh viên đáp ứng nhu cầu sử dụng tiếng Anh trong môi trường học tập và làm việc toàn cầu. Theo dự kiến, sinh viên hoàn thành 135 tín chỉ của các khóa học trong bốn năm. Những chương trình Anh ngữ Tăng cường và Học thuật của chúng tôi góp phần thúc đẩy sự thành công của sinh viên IU trong môi trường học tập và nói tiếng Anh tại IU và các trường đại học trên toàn thế giới. Chúng tôi tập trung vào các lĩnh vực thường sử dụng tiếng Anh trong nhiều bối cảnh học thuật khác nhau, như đọc chuyên ngành, nghe bài giảng và ghi chú, kỹ thuật thuyết trình, viết học thuật, viết bài kỹ thuật và viết bài nghiên cứu, và chuẩn bị cho các bài kiểm tra tiêu chuẩn quốc tế như TOEFL iBT và IELTS. Ngành Quản trị Kinh doanh (Mã ngành: 7340101) Chương trình: Trong nước Quản trị kinh doanh là một ngành tổng hợp gồm nhiều bộ môn căn bản về “quản trị” và “kinh doanh”. Nói cách khác, khi đăng ký ngành này, bạn sẽ được đào tạo đầy đủ những kiến thức căn bản trong khối ngành kinh tế như tài chính, kế toán, nhân sự cho tới các chiến lược kinh doanh, marketing. Song song với các kiến thức trên, hệ thống tư duy, kỹ năng lãnh đạo cùng nhưng mô hình quản trị sao cho tối đa hóa hiệu suất công việc cũng là những môn học không thể thiếu của chuyên ngành đặc biệt này. Ngành Ngôn ngữ Anh (2+2) (Mã ngành: 7220201_WE2) Chương trình: Chương trình liên kết cấp bằng của trường ĐH West of England (UK) Chương trình Cử nhân Ngôn ngữ Anh của Bộ môn Anh tại trường Đại học Quốc tế được thiết kế nhằm giúp sinh viên đáp ứng nhu cầu sử dụng tiếng Anh trong môi trường học tập và làm việc toàn cầu. Theo dự kiến, sinh viên hoàn thành 135 tín chỉ của các khóa học trong bốn năm. Những chương trình Anh ngữ Tăng cường và Học thuật của chúng tôi góp phần thúc đẩy sự thành công của sinh viên IU trong môi trường học tập và nói tiếng Anh tại IU và các trường đại học trên toàn thế giới. Chúng tôi tập trung vào các lĩnh vực thường sử dụng tiếng Anh trong nhiều bối cảnh học thuật khác nhau, như đọc chuyên ngành, nghe bài giảng và ghi chú, kỹ thuật thuyết trình, viết học thuật, viết bài kỹ thuật và viết bài nghiên cứu, và chuẩn bị cho các bài kiểm tra tiêu chuẩn quốc tế như TOEFL iBT và IELTS. Ngành Khoa học Dữ liệu (Mã ngành: 7480109) Chương trình: Trong nước Khoa học dữ liệu (KHDL) là khoa học về việc quản trị và phân tích dữ liệu để tìm ra các hiểu biết, các tri thức hành động, các quyết định dẫn dắt hành động. KHDL gồm ba phần chính: Tạo ra và quản trị dữ liệu, phân tích dữ liệu, và chuyển kết quả phân tích thành giá trị của hành động. Nôm na bước thứ nhất là về số hóa và bước thứ hai là về dùng dữ liệu. Việc phân tích và dùng dữ liệu lại dựa vào ba nguồn tri thức: toán học (thống kê toán học), công nghệ thông tin (máy học) và tri thức của lĩnh vực ứng dụng cụ thể. Ngành Kỹ thuật Hệ thống Công nghiệp (Mã ngành: 7520118_SB) Chương trình: Chương trình liên kết cấp bằng của trường ĐH SUNY Binghamton (USA) Chương trình đại học của ngành Kỹ thuật Hệ thống công nghiệp (ISE) sẽ cung cấp cho sinh viên những kiến thức lý thuyết và kỹ năng thực tế trong việc thiết kế, vận hành, cải thiện và tối ưu các hệ thống sản xuất và dịch vụ. Ngành Công nghệ Sinh học (Mã ngành: 7420201) Chương trình: Trong nước Công nghệ sinh học (CNSH) là một lĩnh vực nghiên cứu và vận dụng sinh vật sống để tạo ra sản phẩm hoặc để phục vụ cho lợi ích của nhân loại. Ngành Quản lý Xây dựng (Mã ngành: 7580302) Chương trình: Trong nước Ngành Quản lý xây dựng là ngành trực tiếp thực hiện nhiệm vụ hoặc thực hành tư vấn về lập và đánh giá dự án, lập hồ sơ thiết kế tổ chức thi công, tổ chức các hoạt động trên từng giai đoạn chuẩn bị và thực hiện dự án như đấu thầu, triển khai thiết kế, thi công, bàn giao nghiệm thu và thanh quyết toán công trình. Ngành Kỹ thuật Xây dựng (Mã ngành: 7580201) Chương trình: Trong nước Kỹ thuật xây dựng là ngành chuyên về lĩnh vực tư vấn, thiết kế, tổ chức thi công, quản lí giảm sát và nghiệm thu các công trình xây dựng phục vụ đời sống con người như: nhà ở, nhà hàng – khách sạn, bệnh viện, cầu đường…. Ngành Quản trị kinh doanh (Mã ngành: 7340101_NS) Chương trình: Chương trình liên kết cấp bằng của trường ĐH New South Wales (Australia) Quản trị kinh doanh là một ngành tổng hợp gồm nhiều bộ môn căn bản về “quản trị” và “kinh doanh”. Nói cách khác, khi đăng ký ngành này, bạn sẽ được đào tạo đầy đủ những kiến thức căn bản trong khối ngành kinh tế như tài chính, kế toán, nhân sự cho tới các chiến lược kinh doanh, marketing. Song song với các kiến thức trên, hệ thống tư duy, kỹ năng lãnh đạo cùng nhưng mô hình quản trị sao cho tối đa hóa hiệu suất công việc cũng là những môn học không thể thiếu của chuyên ngành đặc biệt này. Ngành Hóa học (Hóa sinh) (Mã ngành: 7440112) Chương trình: Trong nước Ngành Hóa sinh được thiết kế dành riêng cho sinh viên chuyên nghiên cứu các tiến trình hóa học của sự sống ở cấp độ phân tử. Chương trình bao gồm giảng dạy các môn học về nguyên lý Sinh học, Hóa học, Vật lý và đặc biệt là mối liên quan của các nguyên lý này bên trong cơ thể sống. Sinh viên sẽ được nghiên cứu các tiến trình hóa học liên quan đến các đại phân tử và ý nghĩa từng cấu trúc trên các tiến trình tế bào. Chương trình còn khái quát các khía cạnh khác nhau của Hóa sinh bao gồm Hóa sinh phân tử, Enzym học, Công nghệ lên men, Hóa sinh lâm sàng và Kỹ thuật Hóa sinh. Ngành Quản trị Kinh doanh (2+2) (Mã ngành: 7340101_WE) Chương trình: Chương trình liên kết cấp bằng của trường ĐH West of England (UK) Quản trị kinh doanh là một ngành tổng hợp gồm nhiều bộ môn căn bản về “quản trị” và “kinh doanh”. Nói cách khác, khi đăng ký ngành này, bạn sẽ được đào tạo đầy đủ những kiến thức căn bản trong khối ngành kinh tế như tài chính, kế toán, nhân sự cho tới các chiến lược kinh doanh, marketing. Song song với các kiến thức trên, hệ thống tư duy, kỹ năng lãnh đạo cùng nhưng mô hình quản trị sao cho tối đa hóa hiệu suất công việc cũng là những môn học không thể thiếu của chuyên ngành đặc biệt này. Ngành Công nghệ Sinh học (Mã ngành: 7420201_UN) Chương trình: Chương trình liên kết cấp bằng của trường ĐH Nottingham (UK) Công nghệ sinh học (CNSH) là một lĩnh vực nghiên cứu và vận dụng sinh vật sống để tạo ra sản phẩm hoặc để phục vụ cho lợi ích của nhân loại. Ngành Kỹ thuật Y Sinh (Mã ngành: 7520212) Chương trình: Trong nước Kỹ thuật Y Sinh (KTYS) hiện đang là một lĩnh vực nổi bật thu hút sự quan tâm trên thế giới. Đây là một lĩnh vực đa ngành ứng dụng kỹ thuật tiên tiến vào việc tạo ra các phương pháp nghiên cứu và thiết bị phục vụ cho sức khỏe cũng như giúp hiểu biết sâu hơn về các tiến trình sinh học của con người.</td>\n",
              "      <td>26</td>\n",
              "      <td>Cho tôi hỏi về Quản trị Kinh doanh</td>\n",
              "      <td>Thông tin chung</td>\n",
              "    </tr>\n",
              "    <tr>\n",
              "      <th>6</th>\n",
              "      <td>{'answer_start': [1061], 'text': ['Phòng Hành chính Tổng hợp: Phòng Hành chính Tổng hợp Liên hệ: Phòng O2-711, Trường Đại học Quốc tếKhu phố 6, Phường Linh Trung, Quận Thủ Đức, TP. HCMĐiện thoại: (028) 37244270 – số máy lẻ: 3225, 3939, 3737 Fax: (028) 37244271']}</td>\n",
              "      <td>Phòng Đào tạo Sau đại học: Tham mưu cho Hiệu trưởng về các công tác quản lý đào tạo và bồi dưỡng sau đại học thuộc trách nhiệm và thẩm quyền. Liên hệ: Room O2 – 609Telephone: (84)-28-37244270. Ext: 3120Fax: (84-28) 37244271. Phòng Vật tư Thiết bị: Phòng Vật tư Thiết bị Liên hệ: Phòng O1 – 612, Trường Đại học Quốc tếKhu phố 6, Phường Linh Trung, Quận Thủ Đức, TP. HCMĐiện thoại: (028) 37244270 – số máy lẻ: 3555, 3246 Fax: (028) 37244271. Trung tâm Đổi mới sáng tạo và Chuyển giao công nghệ: Trung tâm là đơn vị sự nghiệp khoa học trực thuộc trường Đại Học Quốc Tế – Đại Học Quốc Gia TP. HCM, có chức năng cung cấp dịch vụ – nghiên cứu – đào tạo – tư vấn và chuyển giao công nghệ cho các doanh nghiệp và các cơ quan chức năng Nhà nước. Trung tâm là cầu nối giữa giảng viên và sinh viên của Trường với các nghiên cứu và dự án thực tiễn tại các doanh nghiệp và đơn vị chức năng trực thuộc nhà nước. Liên hệ: Phòng O2– 303, Trường Đại học Quốc tếKhu phố 6, Phường Linh Trung, Quận Thủ Đức, TP. HCMĐiện thoại: (028) 37244270 – số máy lẻ: 3949 Fax: (028) 37244271. Phòng Hành chính Tổng hợp: Phòng Hành chính Tổng hợp Liên hệ: Phòng O2-711, Trường Đại học Quốc tếKhu phố 6, Phường Linh Trung, Quận Thủ Đức, TP. HCMĐiện thoại: (028) 37244270 – số máy lẻ: 3225, 3939, 3737 Fax: (028) 37244271. Phòng Đầu tư &amp; Phát triển: Tham mưu, đề xuất Hiệu trưởng thực hiện chức năng chủ đầu tư xây dựng quản lý và sử dụng các nguồn vốn được giao để tổ chức quản lý thực hiện dự án đầu tư xây dựng. Phòng Quản trị cơ sở vật chất: Phòng có chức năng tham mưu và giúp Hiệu trưởng trong công tác quản lý, mua sắm, sữa chữa, bảo quản cơ sở vật chất của trường, phục vụ cho công tác đào tạo, nghiên cứu khoa học, của cán bộ công nhân viên và sinh viên toàn trường. Liên hệ: Phòng O2 – 702, Trường Đại học Quốc tếKhu phố 6, Phường Linh Trung, Quận Thủ Đức, TP. HCMĐiện thoại: (028) 37244270 – số máy lẻ: 3223. Phòng Quan hệ Đối ngoại: Tham mưu cho Hiệu trưởng về công tác đối ngoại, quan hệ công chúng và truyền thông của trường. Phòng Quản lý Khoa học: Tham mưu cho Hiệu trưởng về công tác quản lý toàn bộ hoạt động khoa học và công nghệ của trường. Phòng Tổ chức cán bộ: Phòng Tổ chức cán bộ Liên hệ: Phòng O2.709, Trường Đại học Quốc tếKhu phố 6, Phường Linh Trung, Quận Thủ Đức, TP. HCMĐiện thoại: (028) 37244270 – số máy lẻ: 3336, 3526, 3527 Fax: (028) 37244271. Phòng Hợp tác Đào tạo nước ngoài: Phòng Hợp tác Đào tạo nước ngoài Liên hệ: Phòng O1 – 614, Trường Đại học Quốc tếKhu phố 6, Phường Linh Trung, Quận Thủ Đức, TP. HCMĐiện thoại: (028) 37244270 – số máy lẻ: 3880 Fax: (028) 37244271. Trung tâm Dịch vụ Công nghệ thông tin: Trung tâm Dịch vụ Công nghệ Thông tin chịu trách nhiệm quản lý và hỗ trợ kỹ thuật cho toàn bộ hệ thống mạng Internet, mạng điện thoại và các trang web của trường. Bên cạnh đó Trung tâm còn có chức năng chụp ảnh, viết bài đưa tin những hình ảnh hoạt động thường xuyên của nhà trường nhằm xây dựng quảng bá hình ảnh thương hiệu trường ngày càng được nhiều người biết đến. Liên hệ: Phòng O1 – 312, Trường Đại học Quốc tếKhu phố 6, Phường Linh Trung, Quận Thủ Đức, TP. HCMĐiện thoại: (028) 37244270 – số máy lẻ: 3366. Phòng Kế hoạch Tài chính: Phòng có chức năng tham mưu và giúp Hiệu trưởng trong công tác xây dựng và quản lý kế hoạch về tài chính của trường, theo dõi giám sát và kiểm tra việc thu chi, sử dụng tài chính, kế hoạch tài chính và các lĩnh vực khác có liên quan đến công tác kế hoạch tài chính trong toàn trường. Liên hệ: Phòng O2 – 701, Trường Đại học Quốc tếKhu phố 6, Phường Linh Trung, Quận Thủ Đức, TP. HCM. Phòng Đào tạo Đại học: Phòng có chức năng tham mưu, giúp Hiệu trưởng trong kế hoạch đào tạo ngắn hạn và dài hạn của nhà trường. Tổ chức chỉ đạo thực hiện, kiểm tra và giám sát toàn bộ công tác giảng dạy và học tập trong trường, các hệ đào tạo chính quy đại học và sau đại học. Nghiên cứu đề xuất về mục tiêu đào tạo, các hệ đào tạo, cơ cấu ngành nghề, quy mô và phương thức đào tạo, cũng như việc phát triển cơ sở vật chất cần thiết phục vụ cho công tác giảng dạy và học tập. Liên hệ: Phòng O2 – 708, Trường Đại học Quốc tếKhu phố 6, Phường Linh Trung, Quận Thủ Đức, TP. HCMĐiện thoại: (028) 37244270 – số máy lẻ: 3777, 3229. Phòng Công tác Sinh viên: Được thành lập năm vào tháng 12/2009, Phòng Công tác Sinh viên (PCTSV) là đơn vị tham mưu giúp việc cho Ban Giám hiệu trong công tác thực hiện chế độ chính sách, học bổng Doanh nghiệp, khen thưởng-kỷ luật sinh viên. Phòng Thanh tra Pháp chế: Công tác thanh tra: Tham mưu, giúp Hiệu trưởng thực hiện đúng công tác thanh tra, kiểm tra trong phạm vi quản lý của Hiệu trưởng nhằm đảm bảo việc thực hiện chính sách pháp luật về giáo dục và chính sách, pháp luật liên quan. Công tác pháp chế: Chủ trì, phối hợp với các bộ phận liên quan tư vấn, giúp Hiệu trưởng về những vấn đề pháp lý. Phòng Bảo đảm Chất lượng Giáo dục và Khảo thí: Tư vấn, tham mưu cho Ban Giám hiệu về chiến lược, các kế hoạch cải tiến hoạt động bảo đảm chất lượng. Trung tâm đào tạo Quản lý công: Trung tâm Đào tạo Quản lý công là nơi đào tạo nên những nhà lãnh đạo theo hướng đổi mới sáng tạo, quản trị tốt với kỹ năng, nghiệp vụ ngày càng chuyên nghiệp, hiệu quả. Liên hệ: Phòng O2 – 304 Điện thoại: (028) 37244270 – số máy lẻ: 3305. Khoa Công nghệ Thông tin: Thông qua các chương trình đào tạo kỹ sư phần cứng máy tính, mạng máy tính, phần mềm và Khoa học dữ liệu, Khoa CNTT đã đào tạo ra nhiều lứa sinh viên có trình độ chuyên môn cao và khả năng ngoại ngữ lưu loát. Liên hệ: Phòng A1.610 Điện thoại: (84-28) 37244270 – Số máy lẻ: 3232. Bộ môn Kỹ thuật Xây dựng: Bộ môn Kỹ thuật Xây dựng (KTXD) được thành lập vào tháng 1 năm 2011 nhằm xây dựng một nền tảng vững chắc cho sinh viên và giúp giảng viên phát huy tối đa khả năng của mình Liên hệ: Phòng O1 – 506 Điện thoại: (84 -28) 3724 4270 số nhánh lẻ: 342. Khoa Kỹ thuật và Quản lý Công nghiệp: Khoa Kỹ thuật và Quản lý Công nghiệp mong muốn thu hút, đào tạo sinh viên và chuẩn bị cho họ trở thành những nhà cán bộ kỹ thuật và nhà lãnh đạo trong các lãnh vực Quản lý Sản xuất, Hậu cần, Chuỗi Cung ứng, các ngành Dịch vụ tại Việt Nam Liên hệ: Phòng O2 – 602 Điện thoại: (84 – 28) 37244270 số máy lẻ: 3327, 3982. Khoa Công nghệ Sinh học: Chương trình đào tạo của Khoa CNSH được xây dựng trên nền tảng của các chương trình tiên tiến có khả năng giải quyết các nhu cầu thực tiễn trong nước, tập trung vào việc trang bị kiến thức hiện đại, kỹ năng thực hành và làm việc cần thiết cho người học Liên hệ: Phòng O1 – 708 Điện thoại: (84 – 28) 37244270 – số máy lẻ 3233. Bộ môn Toán: Bộ môn Toán chịu trách nhiệm biên soạn đề cương, chương trình và thực hiện giảng dạy các học phần Toán học cho sinh viên trường Đại học Quốc tế. Liên hệ: Phòng O2 – 610 Điện thoại: (84-28) 3724 4270 số nhánh lẻ: 3235. Khoa Điện tử Viễn thông: Mục tiêu của Khoa ĐTVT chính là chuẩn bị cho sinh viên tốt nghiệp một hành trang vững chắc để thích ứng với những thay đổi nhanh chóng của thế giới công nghệ, đặc biệt là trong các lĩnh vực Kỹ thuật Điện tử, Viễn thông, Xử lý Tín hiệu (âm thanh, hình ảnh), Kỹ thuật Điều khiển và Tự động hóa Liên hệ: Phòng A2.206 ĐT: (84-28) 37244270 – số nội bộ: 3231. Khoa Kỹ thuật Y sinh: Kỹ thuật Y Sinh (KTYS) hiện đang là một lĩnh vực nổi bật thu hút sự quan tâm trên thế giới Liên hệ: Phòng O1- 405 Điện thoại: (84-28) 3724 4270 số nhánh lẻ: 3236. Bộ môn Kỹ thuật Môi trường: Bộ môn Kỹ thuật Môi trường được thành lập vào tháng 7 năm 2017 với sứ mệnh là đào tạo ra những kỹ sư cho ngành kỹ thuật môi trường với kiến thức chuyên môn sâu, cùng với những kỹ năng cần thiết để đáp ứng nhu cầu nhân lực chất lượng cao, giải quyết các vấn đề ô nhiễm môi trường (ô nhiễm nguồn nước, ô nhiễm không khí, chất thải rắn). Liên hệ: Phòng A2-513 Điện thoại: (028) 3724 4270 Số nhánh lẻ: 3950. Khoa Quản trị kinh doanh: Một đơn vị đào tạo cử nhân ngành quản trị kinh doanh chất lượng cao trong khối trường đại học công lập Liên hệ: Phòng 01 – 306 Điện thoại: (84-28) 37244270 số máy lẻ: 3230, 3724</td>\n",
              "      <td>48</td>\n",
              "      <td>Cho tôi hỏi về Phòng Hành chính Tổng hợp</td>\n",
              "      <td>Thông tin chung</td>\n",
              "    </tr>\n",
              "    <tr>\n",
              "      <th>7</th>\n",
              "      <td>{'answer_start': [3127], 'text': ['Phòng Kế hoạch Tài chính: Phòng có chức năng tham mưu và giúp Hiệu trưởng trong công tác xây dựng và quản lý kế hoạch về tài chính của trường, theo dõi giám sát và kiểm tra việc thu chi, sử dụng tài chính, kế hoạch tài chính và các lĩnh vực khác có liên quan đến công tác kế hoạch tài chính trong toàn trường. Liên hệ: Phòng O2 – 701, Trường Đại học Quốc tếKhu phố 6, Phường Linh Trung, Quận Thủ Đức, TP. HCM']}</td>\n",
              "      <td>Phòng Đào tạo Sau đại học: Tham mưu cho Hiệu trưởng về các công tác quản lý đào tạo và bồi dưỡng sau đại học thuộc trách nhiệm và thẩm quyền. Liên hệ: Room O2 – 609Telephone: (84)-28-37244270. Ext: 3120Fax: (84-28) 37244271. Phòng Vật tư Thiết bị: Phòng Vật tư Thiết bị Liên hệ: Phòng O1 – 612, Trường Đại học Quốc tếKhu phố 6, Phường Linh Trung, Quận Thủ Đức, TP. HCMĐiện thoại: (028) 37244270 – số máy lẻ: 3555, 3246 Fax: (028) 37244271. Trung tâm Đổi mới sáng tạo và Chuyển giao công nghệ: Trung tâm là đơn vị sự nghiệp khoa học trực thuộc trường Đại Học Quốc Tế – Đại Học Quốc Gia TP. HCM, có chức năng cung cấp dịch vụ – nghiên cứu – đào tạo – tư vấn và chuyển giao công nghệ cho các doanh nghiệp và các cơ quan chức năng Nhà nước. Trung tâm là cầu nối giữa giảng viên và sinh viên của Trường với các nghiên cứu và dự án thực tiễn tại các doanh nghiệp và đơn vị chức năng trực thuộc nhà nước. Liên hệ: Phòng O2– 303, Trường Đại học Quốc tếKhu phố 6, Phường Linh Trung, Quận Thủ Đức, TP. HCMĐiện thoại: (028) 37244270 – số máy lẻ: 3949 Fax: (028) 37244271. Phòng Hành chính Tổng hợp: Phòng Hành chính Tổng hợp Liên hệ: Phòng O2-711, Trường Đại học Quốc tếKhu phố 6, Phường Linh Trung, Quận Thủ Đức, TP. HCMĐiện thoại: (028) 37244270 – số máy lẻ: 3225, 3939, 3737 Fax: (028) 37244271. Phòng Đầu tư &amp; Phát triển: Tham mưu, đề xuất Hiệu trưởng thực hiện chức năng chủ đầu tư xây dựng quản lý và sử dụng các nguồn vốn được giao để tổ chức quản lý thực hiện dự án đầu tư xây dựng. Phòng Quản trị cơ sở vật chất: Phòng có chức năng tham mưu và giúp Hiệu trưởng trong công tác quản lý, mua sắm, sữa chữa, bảo quản cơ sở vật chất của trường, phục vụ cho công tác đào tạo, nghiên cứu khoa học, của cán bộ công nhân viên và sinh viên toàn trường. Liên hệ: Phòng O2 – 702, Trường Đại học Quốc tếKhu phố 6, Phường Linh Trung, Quận Thủ Đức, TP. HCMĐiện thoại: (028) 37244270 – số máy lẻ: 3223. Phòng Quan hệ Đối ngoại: Tham mưu cho Hiệu trưởng về công tác đối ngoại, quan hệ công chúng và truyền thông của trường. Phòng Quản lý Khoa học: Tham mưu cho Hiệu trưởng về công tác quản lý toàn bộ hoạt động khoa học và công nghệ của trường. Phòng Tổ chức cán bộ: Phòng Tổ chức cán bộ Liên hệ: Phòng O2.709, Trường Đại học Quốc tếKhu phố 6, Phường Linh Trung, Quận Thủ Đức, TP. HCMĐiện thoại: (028) 37244270 – số máy lẻ: 3336, 3526, 3527 Fax: (028) 37244271. Phòng Hợp tác Đào tạo nước ngoài: Phòng Hợp tác Đào tạo nước ngoài Liên hệ: Phòng O1 – 614, Trường Đại học Quốc tếKhu phố 6, Phường Linh Trung, Quận Thủ Đức, TP. HCMĐiện thoại: (028) 37244270 – số máy lẻ: 3880 Fax: (028) 37244271. Trung tâm Dịch vụ Công nghệ thông tin: Trung tâm Dịch vụ Công nghệ Thông tin chịu trách nhiệm quản lý và hỗ trợ kỹ thuật cho toàn bộ hệ thống mạng Internet, mạng điện thoại và các trang web của trường. Bên cạnh đó Trung tâm còn có chức năng chụp ảnh, viết bài đưa tin những hình ảnh hoạt động thường xuyên của nhà trường nhằm xây dựng quảng bá hình ảnh thương hiệu trường ngày càng được nhiều người biết đến. Liên hệ: Phòng O1 – 312, Trường Đại học Quốc tếKhu phố 6, Phường Linh Trung, Quận Thủ Đức, TP. HCMĐiện thoại: (028) 37244270 – số máy lẻ: 3366. Phòng Kế hoạch Tài chính: Phòng có chức năng tham mưu và giúp Hiệu trưởng trong công tác xây dựng và quản lý kế hoạch về tài chính của trường, theo dõi giám sát và kiểm tra việc thu chi, sử dụng tài chính, kế hoạch tài chính và các lĩnh vực khác có liên quan đến công tác kế hoạch tài chính trong toàn trường. Liên hệ: Phòng O2 – 701, Trường Đại học Quốc tếKhu phố 6, Phường Linh Trung, Quận Thủ Đức, TP. HCM. Phòng Đào tạo Đại học: Phòng có chức năng tham mưu, giúp Hiệu trưởng trong kế hoạch đào tạo ngắn hạn và dài hạn của nhà trường. Tổ chức chỉ đạo thực hiện, kiểm tra và giám sát toàn bộ công tác giảng dạy và học tập trong trường, các hệ đào tạo chính quy đại học và sau đại học. Nghiên cứu đề xuất về mục tiêu đào tạo, các hệ đào tạo, cơ cấu ngành nghề, quy mô và phương thức đào tạo, cũng như việc phát triển cơ sở vật chất cần thiết phục vụ cho công tác giảng dạy và học tập. Liên hệ: Phòng O2 – 708, Trường Đại học Quốc tếKhu phố 6, Phường Linh Trung, Quận Thủ Đức, TP. HCMĐiện thoại: (028) 37244270 – số máy lẻ: 3777, 3229. Phòng Công tác Sinh viên: Được thành lập năm vào tháng 12/2009, Phòng Công tác Sinh viên (PCTSV) là đơn vị tham mưu giúp việc cho Ban Giám hiệu trong công tác thực hiện chế độ chính sách, học bổng Doanh nghiệp, khen thưởng-kỷ luật sinh viên. Phòng Thanh tra Pháp chế: Công tác thanh tra: Tham mưu, giúp Hiệu trưởng thực hiện đúng công tác thanh tra, kiểm tra trong phạm vi quản lý của Hiệu trưởng nhằm đảm bảo việc thực hiện chính sách pháp luật về giáo dục và chính sách, pháp luật liên quan. Công tác pháp chế: Chủ trì, phối hợp với các bộ phận liên quan tư vấn, giúp Hiệu trưởng về những vấn đề pháp lý. Phòng Bảo đảm Chất lượng Giáo dục và Khảo thí: Tư vấn, tham mưu cho Ban Giám hiệu về chiến lược, các kế hoạch cải tiến hoạt động bảo đảm chất lượng. Trung tâm đào tạo Quản lý công: Trung tâm Đào tạo Quản lý công là nơi đào tạo nên những nhà lãnh đạo theo hướng đổi mới sáng tạo, quản trị tốt với kỹ năng, nghiệp vụ ngày càng chuyên nghiệp, hiệu quả. Liên hệ: Phòng O2 – 304 Điện thoại: (028) 37244270 – số máy lẻ: 3305. Khoa Công nghệ Thông tin: Thông qua các chương trình đào tạo kỹ sư phần cứng máy tính, mạng máy tính, phần mềm và Khoa học dữ liệu, Khoa CNTT đã đào tạo ra nhiều lứa sinh viên có trình độ chuyên môn cao và khả năng ngoại ngữ lưu loát. Liên hệ: Phòng A1.610 Điện thoại: (84-28) 37244270 – Số máy lẻ: 3232. Bộ môn Kỹ thuật Xây dựng: Bộ môn Kỹ thuật Xây dựng (KTXD) được thành lập vào tháng 1 năm 2011 nhằm xây dựng một nền tảng vững chắc cho sinh viên và giúp giảng viên phát huy tối đa khả năng của mình Liên hệ: Phòng O1 – 506 Điện thoại: (84 -28) 3724 4270 số nhánh lẻ: 342. Khoa Kỹ thuật và Quản lý Công nghiệp: Khoa Kỹ thuật và Quản lý Công nghiệp mong muốn thu hút, đào tạo sinh viên và chuẩn bị cho họ trở thành những nhà cán bộ kỹ thuật và nhà lãnh đạo trong các lãnh vực Quản lý Sản xuất, Hậu cần, Chuỗi Cung ứng, các ngành Dịch vụ tại Việt Nam Liên hệ: Phòng O2 – 602 Điện thoại: (84 – 28) 37244270 số máy lẻ: 3327, 3982. Khoa Công nghệ Sinh học: Chương trình đào tạo của Khoa CNSH được xây dựng trên nền tảng của các chương trình tiên tiến có khả năng giải quyết các nhu cầu thực tiễn trong nước, tập trung vào việc trang bị kiến thức hiện đại, kỹ năng thực hành và làm việc cần thiết cho người học Liên hệ: Phòng O1 – 708 Điện thoại: (84 – 28) 37244270 – số máy lẻ 3233. Bộ môn Toán: Bộ môn Toán chịu trách nhiệm biên soạn đề cương, chương trình và thực hiện giảng dạy các học phần Toán học cho sinh viên trường Đại học Quốc tế. Liên hệ: Phòng O2 – 610 Điện thoại: (84-28) 3724 4270 số nhánh lẻ: 3235. Khoa Điện tử Viễn thông: Mục tiêu của Khoa ĐTVT chính là chuẩn bị cho sinh viên tốt nghiệp một hành trang vững chắc để thích ứng với những thay đổi nhanh chóng của thế giới công nghệ, đặc biệt là trong các lĩnh vực Kỹ thuật Điện tử, Viễn thông, Xử lý Tín hiệu (âm thanh, hình ảnh), Kỹ thuật Điều khiển và Tự động hóa Liên hệ: Phòng A2.206 ĐT: (84-28) 37244270 – số nội bộ: 3231. Khoa Kỹ thuật Y sinh: Kỹ thuật Y Sinh (KTYS) hiện đang là một lĩnh vực nổi bật thu hút sự quan tâm trên thế giới Liên hệ: Phòng O1- 405 Điện thoại: (84-28) 3724 4270 số nhánh lẻ: 3236. Bộ môn Kỹ thuật Môi trường: Bộ môn Kỹ thuật Môi trường được thành lập vào tháng 7 năm 2017 với sứ mệnh là đào tạo ra những kỹ sư cho ngành kỹ thuật môi trường với kiến thức chuyên môn sâu, cùng với những kỹ năng cần thiết để đáp ứng nhu cầu nhân lực chất lượng cao, giải quyết các vấn đề ô nhiễm môi trường (ô nhiễm nguồn nước, ô nhiễm không khí, chất thải rắn). Liên hệ: Phòng A2-513 Điện thoại: (028) 3724 4270 Số nhánh lẻ: 3950. Khoa Quản trị kinh doanh: Một đơn vị đào tạo cử nhân ngành quản trị kinh doanh chất lượng cao trong khối trường đại học công lập Liên hệ: Phòng 01 – 306 Điện thoại: (84-28) 37244270 số máy lẻ: 3230, 3724</td>\n",
              "      <td>82</td>\n",
              "      <td>Chức năng nhiệm vụ của Phòng Kế hoạch Tài chính là gì?</td>\n",
              "      <td>Chức năng nhiệm vụ</td>\n",
              "    </tr>\n",
              "    <tr>\n",
              "      <th>8</th>\n",
              "      <td>{'answer_start': [3757], 'text': ['Ngành Quản trị kinh doanh (4+0) (Mã ngành: 7340101_WE4) ở phương thức Ưu tiên xét tuyển học sinh giỏi các trường THPT theo quy định của ĐHQG có điểm chuẩn 18.0']}</td>\n",
              "      <td>Ngành Công nghệ Thông tin (3+1) (Mã ngành: 7480201_DK3) ở phương thức Ưu tiên xét tuyển học sinh giỏi các trường THPT theo quy định của ĐHQG có điểm chuẩn 18.0. Ngành Ngôn ngữ Anh (Mã ngành: 7220201) ở phương thức Ưu tiên xét tuyển học sinh giỏi các trường THPT theo quy định của ĐHQG có điểm chuẩn 27.5. Ngành Kỹ thuật Điện tử (Mã ngành: 7520207_SB) ở phương thức Ưu tiên xét tuyển học sinh giỏi các trường THPT theo quy định của ĐHQG có điểm chuẩn 18.0. Ngành Công nghệ Sinh học (Mã ngành: 7420201) ở phương thức Ưu tiên xét tuyển học sinh giỏi các trường THPT theo quy định của ĐHQG có điểm chuẩn 22.0. Ngành Công nghệ Thông tin (2.5+1.5) (Mã ngành: 7480201_DK25) ở phương thức Ưu tiên xét tuyển học sinh giỏi các trường THPT theo quy định của ĐHQG có điểm chuẩn 18.0. Ngành Công nghệ Thực phẩm (Mã ngành: 7540101) ở phương thức Ưu tiên xét tuyển học sinh giỏi các trường THPT theo quy định của ĐHQG có điểm chuẩn 22.0. Ngành Hóa học (Hóa sinh) (Mã ngành: 7440112) ở phương thức Ưu tiên xét tuyển học sinh giỏi các trường THPT theo quy định của ĐHQG có điểm chuẩn 22.0. Ngành Kỹ thuật Xây dựng (Mã ngành: 7580201) ở phương thức Ưu tiên xét tuyển học sinh giỏi các trường THPT theo quy định của ĐHQG có điểm chuẩn 21.0. Ngành Quản trị Kinh doanh (2+2) (Mã ngành: 7340101_WE) ở phương thức Ưu tiên xét tuyển học sinh giỏi các trường THPT theo quy định của ĐHQG có điểm chuẩn 18.0. Ngành Công nghệ Thông tin (Mã ngành: 7480201_UN) ở phương thức Ưu tiên xét tuyển học sinh giỏi các trường THPT theo quy định của ĐHQG có điểm chuẩn 18.0. Ngành Quản trị Kinh doanh (Mã ngành: 7340101_UH) ở phương thức Ưu tiên xét tuyển học sinh giỏi các trường THPT theo quy định của ĐHQG có điểm chuẩn 18.0. Ngành Công nghệ Thông tin (Mã ngành: 7480201) ở phương thức Ưu tiên xét tuyển học sinh giỏi các trường THPT theo quy định của ĐHQG có điểm chuẩn 23.0. Ngành Công nghệ Thực phẩm (Mã ngành: 7540101_UN) ở phương thức Ưu tiên xét tuyển học sinh giỏi các trường THPT theo quy định của ĐHQG có điểm chuẩn 18.0. Ngành Kỹ thuật Hệ thống Công nghiệp (Mã ngành: 7520118) ở phương thức Ưu tiên xét tuyển học sinh giỏi các trường THPT theo quy định của ĐHQG có điểm chuẩn 21.0. Ngành Kỹ thuật Điện tử - Viễn thông (Mã ngành: 7520207_WE) ở phương thức Ưu tiên xét tuyển học sinh giỏi các trường THPT theo quy định của ĐHQG có điểm chuẩn 18.0. Ngành Kỹ thuật Y Sinh (Mã ngành: 7520212) ở phương thức Ưu tiên xét tuyển học sinh giỏi các trường THPT theo quy định của ĐHQG có điểm chuẩn 24.0. Ngành Toán ứng dụng (Kỹ thuật Tài chính và Quản trị rủi ro) (Mã ngành: 7460112) ở phương thức Ưu tiên xét tuyển học sinh giỏi các trường THPT theo quy định của ĐHQG có điểm chuẩn 22.0. Ngành Quản trị kinh doanh (Mã ngành: 7340101_NS) ở phương thức Ưu tiên xét tuyển học sinh giỏi các trường THPT theo quy định của ĐHQG có điểm chuẩn 18.0. Ngành Tài chính – Ngân hàng (Mã ngành: 7340201) ở phương thức Ưu tiên xét tuyển học sinh giỏi các trường THPT theo quy định của ĐHQG có điểm chuẩn 24.0. Ngành Kỹ thuật Máy tính (Mã ngành: 7480106_SB) ở phương thức Ưu tiên xét tuyển học sinh giỏi các trường THPT theo quy định của ĐHQG có điểm chuẩn 18.0. Ngành Công nghệ Thông tin (2+2) (Mã ngành: 7480201_DK2) ở phương thức Ưu tiên xét tuyển học sinh giỏi các trường THPT theo quy định của ĐHQG có điểm chuẩn 18.0. Ngành Quản trị Kinh doanh (Mã ngành: 7340101_AU) ở phương thức Ưu tiên xét tuyển học sinh giỏi các trường THPT theo quy định của ĐHQG có điểm chuẩn 18.0. Ngành Logistics và Quản lý chuỗi cung ứng (Mã ngành: 7510605) ở phương thức Ưu tiên xét tuyển học sinh giỏi các trường THPT theo quy định của ĐHQG có điểm chuẩn 27.5. Ngành Kỹ thuật Điện tử - Viễn thông (Mã ngành: 7520207_UN) ở phương thức Ưu tiên xét tuyển học sinh giỏi các trường THPT theo quy định của ĐHQG có điểm chuẩn 18.0. Ngành Quản trị kinh doanh (4+0) (Mã ngành: 7340101_WE4) ở phương thức Ưu tiên xét tuyển học sinh giỏi các trường THPT theo quy định của ĐHQG có điểm chuẩn 18.0. Ngành Khoa học Dữ liệu (Mã ngành: 7480109) ở phương thức Ưu tiên xét tuyển học sinh giỏi các trường THPT theo quy định của ĐHQG có điểm chuẩn 23.0. Ngành Quản lý Xây dựng (Mã ngành: 7580302) ở phương thức Ưu tiên xét tuyển học sinh giỏi các trường THPT theo quy định của ĐHQG có điểm chuẩn 21.0. Ngành Công nghệ Sinh học định hướng Y sinh (4+0) (Mã ngành: 7420201_WE4) ở phương thức Ưu tiên xét tuyển học sinh giỏi các trường THPT theo quy định của ĐHQG có điểm chuẩn 18.0. Ngành Công nghệ Sinh học (2+2) (Mã ngành: 7420201_WE2) ở phương thức Ưu tiên xét tuyển học sinh giỏi các trường THPT theo quy định của ĐHQG có điểm chuẩn 18.0. Ngành Kỹ thuật Điều khiển và Tự động hóa (Mã ngành: 7520216) ở phương thức Ưu tiên xét tuyển học sinh giỏi các trường THPT theo quy định của ĐHQG có điểm chuẩn 22.0. Ngành Quản trị Kinh doanh (Mã ngành: 7340101_UN) ở phương thức Ưu tiên xét tuyển học sinh giỏi các trường THPT theo quy định của ĐHQG có điểm chuẩn 18.0. Ngành Kỹ thuật Điện tử - Viễn thông (Mã ngành: 7520207) ở phương thức Ưu tiên xét tuyển học sinh giỏi các trường THPT theo quy định của ĐHQG có điểm chuẩn 21.0. Ngành Kế toán (Mã ngành: 7340301) ở phương thức Ưu tiên xét tuyển học sinh giỏi các trường THPT theo quy định của ĐHQG có điểm chuẩn 22.0. Ngành Kỹ thuật Không gian (Mã ngành: 7520121) ở phương thức Ưu tiên xét tuyển học sinh giỏi các trường THPT theo quy định của ĐHQG có điểm chuẩn 21.0. Ngành Ngôn ngữ Anh (4+0) (Mã ngành: 7220201_WE4) ở phương thức Ưu tiên xét tuyển học sinh giỏi các trường THPT theo quy định của ĐHQG có điểm chuẩn 18.0. Ngành Công nghệ Thông tin (2+2) (Mã ngành: 7480201_WE2) ở phương thức Ưu tiên xét tuyển học sinh giỏi các trường THPT theo quy định của ĐHQG có điểm chuẩn 18.0. Ngành Kỹ thuật Hóa học (Mã ngành: 7520301) ở phương thức Ưu tiên xét tuyển học sinh giỏi các trường THPT theo quy định của ĐHQG có điểm chuẩn 23.0. Ngành Ngôn ngữ Anh (3+1) (Mã ngành: 7220201_WE3) ở phương thức Ưu tiên xét tuyển học sinh giỏi các trường THPT theo quy định của ĐHQG có điểm chuẩn 18.0. Ngành Công nghệ Sinh học (Mã ngành: 7420201_UN) ở phương thức Ưu tiên xét tuyển học sinh giỏi các trường THPT theo quy định của ĐHQG có điểm chuẩn 18.0. Ngành Khoa học Máy tính (Mã ngành: 7480101) ở phương thức Ưu tiên xét tuyển học sinh giỏi các trường THPT theo quy định của ĐHQG có điểm chuẩn 23.0. Ngành Ngôn ngữ Anh (2+2) (Mã ngành: 7220201_WE2) ở phương thức Ưu tiên xét tuyển học sinh giỏi các trường THPT theo quy định của ĐHQG có điểm chuẩn 18.0. Ngành Kỹ thuật Hệ thống Công nghiệp (Mã ngành: 7520118_SB) ở phương thức Ưu tiên xét tuyển học sinh giỏi các trường THPT theo quy định của ĐHQG có điểm chuẩn 18.0. Ngành Công nghệ Thông tin (4+0) (Mã ngành: 7480201_WE4) ở phương thức Ưu tiên xét tuyển học sinh giỏi các trường THPT theo quy định của ĐHQG có điểm chuẩn 18.0. Ngành Quản trị Kinh doanh (Mã ngành: 7340101) ở phương thức Ưu tiên xét tuyển học sinh giỏi các trường THPT theo quy định của ĐHQG có điểm chuẩn 27.5. Ngành Kỹ thuật Môi trường (Mã ngành: 7520320) ở phương thức Ưu tiên xét tuyển học sinh giỏi các trường THPT theo quy định của ĐHQG có điểm chuẩn 21.0</td>\n",
              "      <td>147</td>\n",
              "      <td>Điểm chuẩn ngành Quản trị kinh doanh (4+0) là bao nhiêu?</td>\n",
              "      <td>Điểm chuẩn</td>\n",
              "    </tr>\n",
              "    <tr>\n",
              "      <th>9</th>\n",
              "      <td>{'answer_start': [14960], 'text': ['Ngành Toán ứng dụng (Kỹ thuật Tài chính và Quản trị rủi ro) (Mã ngành: 7460112) Chương trình: Trong nước Chương trình Kĩ thuật tài chính và Quản trị rủi ro được thiết kế nhằm trang bị cho sinh viên các kiến thức cơ bản và hiện đại về Toán học, Tin học, và Kỹ thuật tài chính, giúp các em có thể thực hiện các quy trình phân tích, dự báo, quản trị các vấn đề tài chính và các vấn đề liên quan, giải quyết được các tình huống thực tế trong lĩnh vực Kinh tế-Tài chính.']}</td>\n",
              "      <td>Ngành Công nghệ Thực phẩm (Mã ngành: 7540101) Chương trình: Trong nước Chương trình đào tạo ngành CNTP tại Trường Đai học Quốc tế được thiết kế nhằm đào tạo các kỹ sư CNTP, có những nét chính như sau:, Cung cấp kiến thức rộng, cân bằng về các khoa học thực phẩm và kỹ thuật thực phẩm Cung cấp kiến thức cơ bản về quản lý thực phẩm (bao gồm cả quản lý sản xuất, chất lượng, vệ sinh an toàn thực phẩm và vệ sinh môi trường) Chú trọng đến kỹ năng thực hành và khả năng tiếp cận với thiết bị công nghệ cao Giảng dạy hoàn toàn bằng tiếng Anh (kỹ sư sau khi tốt nghiệp sẽ đạt trình độ tiếng Anh TOEF pBT 550 hoặc tương đương (IELTS 6.0, TOEFL iBT 60)). Ngành Kỹ thuật Hệ thống Công nghiệp (Mã ngành: 7520118) Chương trình: Trong nước Chương trình đại học của ngành Kỹ thuật Hệ thống công nghiệp (ISE) sẽ cung cấp cho sinh viên những kiến thức lý thuyết và kỹ năng thực tế trong việc thiết kế, vận hành, cải thiện và tối ưu các hệ thống sản xuất và dịch vụ Sau khi tốt nghiệp, sinh viên có thể:, Theo đuổi việc học lên cao hơn, có khả năng cạnh tranh thành công để giành được những học bổng uy tín để có thể theo học các chương trình cao học ở nước ngoài Trở thành kỹ sư Kỹ thuật Hệ thống công nghiệp giỏi, có thể tìm được việc làm trong các lĩnh vực sản xuất, quản lý vật tư tồn kho, chuỗi cung ứng và hậu cần, quản lý chất lượng, lập kế hoạch và điều độ, thiết kế và sắp xếp các mặt bằng trong các công ty/ cơquan:. Ngành Kỹ thuật Điều khiển và Tự động hóa (Mã ngành: 7520216) Chương trình: Trong nước Mục tiêu đào tạo: , Cung cấp toàn bộ các kiến thức cơ sở của nhóm ngành Điện – Điện tử, các kiến thức chuyên ngành về Đo Lường, Giám Sát và Điều Khiển. Các kỹ năng cần thiết của một kỹ sư để đáp ứng nhu cầu của công nghiệp, để tiếp tục chương trình cao học, nghiên cứu chuyên sâu ngành Điều Khiển Các kỹ năng tự đào tạo để thích ứng với sự thay đổi của công nghệ Định hướng đào tạo: , Lý thuyết điều khiển và ứng dụng vào các đối tượng điều khiển và các quá trình. Công nghệ đo lường, điều khiển và giám sát hệ thống. Robot (công nghiệp, tự hành) và trí thông minh nhân tạo. Ngành Công nghệ Thông tin (2+2) (Mã ngành: 7480201_DK2) Chương trình: Chương trình liên kết cấp bằng của trường ĐH Deakin (Úc) Công nghệ Thông tin (với hai chuyên ngành: kỹ sư mạng máy tính và cử nhân khoa học máy tính) và cử nhân Khoa học Dữ liệu. Chương trình đào tạo tuân thủ theo các chuẩn mực quốc tế và đã đạt được chứng nhận kiểm định chất lượng bởi Tổ chức các trường Đại học Đông Nam Á (AUN) từ năm 2009 và tái kiểm định năm 2017. Các chương trình đào tạo đã đạt được chuẩn MOET năm 2017 và hiện đang tiếp tục thực hiện quy chuẩn kiểm định ABET của Mỹ. Ngành Quản trị Kinh doanh (Mã ngành: 7340101_AU) Chương trình: Chương trình liên kết cấp bằng của trường ĐH Auckland University of Technology (New Zealand) Quản trị kinh doanh là một ngành tổng hợp gồm nhiều bộ môn căn bản về “quản trị” và “kinh doanh”. Nói cách khác, khi đăng ký ngành này, bạn sẽ được đào tạo đầy đủ những kiến thức căn bản trong khối ngành kinh tế như tài chính, kế toán, nhân sự cho tới các chiến lược kinh doanh, marketing. Song song với các kiến thức trên, hệ thống tư duy, kỹ năng lãnh đạo cùng nhưng mô hình quản trị sao cho tối đa hóa hiệu suất công việc cũng là những môn học không thể thiếu của chuyên ngành đặc biệt này. Ngành Công nghệ Thực phẩm (Mã ngành: 7540101_UN) Chương trình: Chương trình liên kết cấp bằng của trường ĐH Nottingham (UK) Cung cấp kiến thức rộng, cân bằng về các khoa học thực phẩm và kỹ thuật thực phẩm Cung cấp kiến thức cơ bản về quản lý thực phẩm (bao gồm cả quản lý sản xuất, chất lượng, vệ sinh an toàn thực phẩm và vệ sinh môi trường) Chú trọng đến kỹ năng thực hành và khả năng tiếp cận với thiết bị công nghệ cao. Ngành Kỹ thuật Điện tử - Viễn thông (Mã ngành: 7520207_WE) Chương trình: Chương trình liên kết cấp bằng của trường ĐH West of England (UK) Mục tiêu đào tạo:, Cung cấp kiến thức cơ sở hoàn chỉnh và các kỹ năng trong lĩnh vực Điện tử và Viễn thông Phục vụ và đáp ứng các nhu cầu công nghiệp, nghiên cứu khoa học và học sau đại học Chuẩn bị cho sinh viên tốt nghiệp có thể thích ứng với sự thay đổi nhanh trong lĩnh vực công nghệ cao như Điện tử và Viễn thông. Ngành Logistics và Quản lý chuỗi cung ứng (Mã ngành: 7510605) Chương trình: Trong nước Logistics và Quản lý chuỗi cung ứng là việc quản lý một mạng lưới kết nối của các doanh nghiệp tham gia vào việc cung cấp hàng hoá và dịch vụ đến tận tay người tiêu dùng. Nó đòi hỏi nhiều quy trình khác nhau, bao gồm lưu trữ, vận chuyển nguyên vật liệu, quá trình xử lý hàng tồn kho, sản xuất…. Ngành Công nghệ Thông tin (2.5+1.5) (Mã ngành: 7480201_DK25) Chương trình: Chương trình liên kết cấp bằng của trường ĐH Deakin (Úc) Công nghệ Thông tin (với hai chuyên ngành: kỹ sư mạng máy tính và cử nhân khoa học máy tính) và cử nhân Khoa học Dữ liệu. Chương trình đào tạo tuân thủ theo các chuẩn mực quốc tế và đã đạt được chứng nhận kiểm định chất lượng bởi Tổ chức các trường Đại học Đông Nam Á (AUN) từ năm 2009 và tái kiểm định năm 2017. Các chương trình đào tạo đã đạt được chuẩn MOET năm 2017 và hiện đang tiếp tục thực hiện quy chuẩn kiểm định ABET của Mỹ. Ngành Kỹ thuật Điện tử (Mã ngành: 7520207_SB) Chương trình: Chương trình liên kết cấp bằng của trường ĐH SUNY Binghamton (USA) Đời sống công nghệ hiện đại không thể nào thiếu được các thiết bị điện và điện tử. Các thiết bị này phổ biến ở khắp các hộ gia đình, trong các thiết bị giải trí, trong nhà máy sản xuất và có thể nói là tất cả mọi nơi có con nguời. Chính vì vậy, ngành Kỹ thuật Điện tử có nhu cầu nhân lực lớn và sẽ tiếp tục phát triển trong tương lai. Ngành Tài chính – Ngân hàng (Mã ngành: 7340201) Chương trình: Trong nước Tài chính ngân hàng là ngành nghề liên quan đến các dịch vụ giao dịch, luân chuyển tiền tệ thông qua ngân hàng và các công cụ tài chính của ngân hàng phát hành trong phạm vi nội địa và quốc tế. Tài chính ngân hàng là một phạm trù rất rộng, bao gồm các lĩnh vực nhỏ và chuyên biệt hơn như ngân hàng, tài chính doanh nghiệp, tài chính thuế, tài chính bảo hiểm, phân tích tài chính, kinh tế học tài chính,.. Ngành Kế toán (Mã ngành: 7340301) Chương trình: Trong nước Kế toán (tiếng Anh là Accountant) là công việc ghi chép, thu nhận, xử lý và cung cấp các thông tin về tình hình hoạt động tài chính của một tổ chức, một doanh nghiệp, một cơ quan nhà nước, một cơ sở kinh doanh tư nhân.. Ngành Kỹ thuật Máy tính (Mã ngành: 7480106_SB) Chương trình: Chương trình liên kết cấp bằng của trường ĐH SUNY Binghamton (USA) Ngành Kỹ thuật máy tính (KTMT) là một ngành khá đặc biệt trong nhóm ngành Công nghệ thông tin, là ngành học kết hợp kiến thức cả hai lĩnh vực Điện tử và Công nghệ thông tin, Ngành Kỹ thuật máy tính đang được nhà nước ưu tiên phát triển đặc biệt cụ thể qua các chính sách, dự án nhà máy chế tạo chip đầu tiên của Việt Nam đang được triển khai rầm rộ. Ngành Kỹ thuật Không gian (Mã ngành: 7520121) Chương trình: Trong nước Kỹ thuật Không gian là chương trình đào tạo kỹ sư 4 năm trong lĩnh vực ứng dụng công nghệ vệ tinh, bao gồm xử lý và phân tích tín hiệu, hình ảnh vệ tinh, công nghệ viễn thám, và định vị vệ tinh. Chương trình ra đời nhằm đáp ứng nhu cầu rất lớn về nguồn nhân lực trình độ cao trong ứng dụng công nghệ vệ tinh vào đời sống xã hội, quản lý tài nguyên, môi trường, lãnh thổ, biển đảo, và an ninh quốc phòng. Ngành Công nghệ Thông tin (Mã ngành: 7480201_UN) Chương trình: Chương trình liên kết cấp bằng của trường ĐH Nottingham (UK) Công nghệ Thông tin (với hai chuyên ngành: kỹ sư mạng máy tính và cử nhân khoa học máy tính) và cử nhân Khoa học Dữ liệu. Chương trình đào tạo tuân thủ theo các chuẩn mực quốc tế và đã đạt được chứng nhận kiểm định chất lượng bởi Tổ chức các trường Đại học Đông Nam Á (AUN) từ năm 2009 và tái kiểm định năm 2017. Các chương trình đào tạo đã đạt được chuẩn MOET năm 2017 và hiện đang tiếp tục thực hiện quy chuẩn kiểm định ABET của Mỹ. Ngành Kỹ thuật Điện tử - Viễn thông (Mã ngành: 7520207_UN) Chương trình: Chương trình liên kết cấp bằng của trường ĐH Nottingham (UK) Mục tiêu đào tạo:, Cung cấp kiến thức cơ sở hoàn chỉnh và các kỹ năng trong lĩnh vực Điện tử và Viễn thông Phục vụ và đáp ứng các nhu cầu công nghiệp, nghiên cứu khoa học và học sau đại học Chuẩn bị cho sinh viên tốt nghiệp có thể thích ứng với sự thay đổi nhanh trong lĩnh vực công nghệ cao như Điện tử và Viễn thông. Ngành Công nghệ Sinh học (2+2) (Mã ngành: 7420201_WE2) Chương trình: Chương trình liên kết cấp bằng của trường ĐH West of England (UK) Công nghệ sinh học (CNSH) là một lĩnh vực nghiên cứu và vận dụng sinh vật sống để tạo ra sản phẩm hoặc để phục vụ cho lợi ích của nhân loại. Ngành Kỹ thuật Môi trường (Mã ngành: 7520320) Chương trình: Trong nước Chương trình nhằm đào tạo kỹ sư Kỹ thuật Môi trường có năng lực tốt và trình độ am hiểu các vấn đề Kỹ thuật Môi trường, theo đuổi sự nghiên cứu sáng tạo, kỹ thuật hiện đại để phục vụ nhu cầu của đất nước, xã hội, công nghiệp và cộng đồng khoa học Được thiết kế theo tiêu chí của ABET Inc. (cơ quan đánh giá giáo dục kỹ thuật của Hoa Kỳ), chương trình đào tạo ngành Kỹ thuật môi trường bao gồm 4 năm (8 đến 9 học kỳ, tùy trình độ năng lực tiếng Anh đầu vào) cho 145 tín chỉ. Ngành Ngôn ngữ Anh (Mã ngành: 7220201) Chương trình: Trong nước Chương trình Cử nhân Ngôn ngữ Anh của Bộ môn Anh tại trường Đại học Quốc tế được thiết kế nhằm giúp sinh viên đáp ứng nhu cầu sử dụng tiếng Anh trong môi trường học tập và làm việc toàn cầu. Theo dự kiến, sinh viên hoàn thành 135 tín chỉ của các khóa học trong bốn năm. Những chương trình Anh ngữ Tăng cường và Học thuật của chúng tôi góp phần thúc đẩy sự thành công của sinh viên IU trong môi trường học tập và nói tiếng Anh tại IU và các trường đại học trên toàn thế giới. Chúng tôi tập trung vào các lĩnh vực thường sử dụng tiếng Anh trong nhiều bối cảnh học thuật khác nhau, như đọc chuyên ngành, nghe bài giảng và ghi chú, kỹ thuật thuyết trình, viết học thuật, viết bài kỹ thuật và viết bài nghiên cứu, và chuẩn bị cho các bài kiểm tra tiêu chuẩn quốc tế như TOEFL iBT và IELTS. Ngành Kỹ thuật Hóa học (Mã ngành: 7520301) Chương trình: Trong nước Đào tạo kỹ sư hóa học với triết lý ‘Job ready’, cụ thể như sau:, Có kiến thức cơ bản vững chắc về khoa học và kỹ thuật trong lĩnh vực hóa học và những lĩnh vực có liên quan (vd như sinh học, dược học, môi trường, v.v.) Có khả năng vận dụng sáng tạo các kiến thức cơ bản trong ngành để giải quyết các vấn đề đa dạng trong các lĩnh vực nghề nghiệp Có đạo đức nghề nghiệp, hiểu rõ các vấn đề về môi trường, xã hội, an ninh và kinh tế Có đầy đủ các kỹ năng mềm, kỹ năng quản lý, khả năng làm việc nhóm, khả năng lãnh đạo, khả năng giao tiếp và làm việc chuyên môn thành thạo bằng tiếng Anh. Ngành Công nghệ Thông tin (3+1) (Mã ngành: 7480201_DK3) Chương trình: Chương trình liên kết cấp bằng của trường ĐH Deakin (Úc) Công nghệ Thông tin (với hai chuyên ngành: kỹ sư mạng máy tính và cử nhân khoa học máy tính) và cử nhân Khoa học Dữ liệu. Chương trình đào tạo tuân thủ theo các chuẩn mực quốc tế và đã đạt được chứng nhận kiểm định chất lượng bởi Tổ chức các trường Đại học Đông Nam Á (AUN) từ năm 2009 và tái kiểm định năm 2017. Các chương trình đào tạo đã đạt được chuẩn MOET năm 2017 và hiện đang tiếp tục thực hiện quy chuẩn kiểm định ABET của Mỹ. Ngành Công nghệ Sinh học định hướng Y sinh (4+0) (Mã ngành: 7420201_WE4) Chương trình: Chương trình liên kết cấp bằng của trường ĐH West of England (UK) (4+0) Đây là ngành học ứng dụng các thành tựu của công nghệ sinh học vào lĩnh vực y học – dược học hướng tới gia tăng khả năng điều trị, chẩn đoán và bảo vệ sức khoẻ con người. Ngành Quản trị Kinh doanh (Mã ngành: 7340101_UN) Chương trình: Chương trình liên kết cấp bằng của trường ĐH Nottingham (UK) Quản trị kinh doanh là một ngành tổng hợp gồm nhiều bộ môn căn bản về “quản trị” và “kinh doanh”. Nói cách khác, khi đăng ký ngành này, bạn sẽ được đào tạo đầy đủ những kiến thức căn bản trong khối ngành kinh tế như tài chính, kế toán, nhân sự cho tới các chiến lược kinh doanh, marketing. Song song với các kiến thức trên, hệ thống tư duy, kỹ năng lãnh đạo cùng nhưng mô hình quản trị sao cho tối đa hóa hiệu suất công việc cũng là những môn học không thể thiếu của chuyên ngành đặc biệt này. Ngành Công nghệ Thông tin (Mã ngành: 7480201) Chương trình: Trong nước Công nghệ Thông tin (với hai chuyên ngành: kỹ sư mạng máy tính và cử nhân khoa học máy tính) và cử nhân Khoa học Dữ liệu. Chương trình đào tạo tuân thủ theo các chuẩn mực quốc tế và đã đạt được chứng nhận kiểm định chất lượng bởi Tổ chức các trường Đại học Đông Nam Á (AUN) từ năm 2009 và tái kiểm định năm 2017. Các chương trình đào tạo đã đạt được chuẩn MOET năm 2017 và hiện đang tiếp tục thực hiện quy chuẩn kiểm định ABET của Mỹ. Ngành Khoa học Máy tính (Mã ngành: 7480101) Chương trình: Trong nước Ngành Khoa học máy tính đóng vai trò rất quan trọng trong việc xây dựng các nền tảng nghiên cứu, phát triển các công nghệ trong tương lai, đặc biệt là những nghiên cứu ứng dụng thiết thực trong cuộc sống. Chương trình đào tạo ngành Khoa học máy tính có nhiệm vụ đào tạo ngồn nhân lực chất lượng cao cho ngành CNTT. Sinh viên tốt nghiệp chương trình Cử nhân Khoa học máy tính đáp ứng các yêu cầu sau:, Có kiến thức cơ bản và chuyên sâu về khoa học máy tính và công nghệ thông tin, có khả năng thiết kế các hệ thống xử lý tính toán phức tạp, các phần mềm có chất lượng khoa học và công nghệ cao, thử nghiệm, quản lý các hệ thống máy tính, các hệ thống tin học Có khả năng triển khai xây dựng các hệ thống ứng dụng tin học và phân tích, thiết kế xây dựng các phần mềm có giá trị thực tiễn cao, có tính sáng tạo, đặc biệt là các ứng dụng thông minh dựa trên việc xử lý tri thức, xử lý ngôn ngữ tự nhiên, xử lý và khai thác dữ liệu đa phương tiện. Ngành Kỹ thuật Điện tử - Viễn thông (Mã ngành: 7520207) Chương trình: Trong nước Chương trình Kỹ thuật Điện tử – Viễn thông đã được công nhận đạt chuẩn của các tổ chức kiểm định chất lượng quốc tế như của mạng lưới các trường Đông Nam Á (AUN) và gần đây nhất là của tổ chức Kiểm định các chương trình đào tạo kỹ thuật &amp; công nghệ của Hoa Kỳ từ cuối năm 2018 Mục tiêu đào tạo:, Cung cấp kiến thức cơ sở hoàn chỉnh và các kỹ năng trong lĩnh vực Điện tử và Viễn thông Phục vụ và đáp ứng các nhu cầu công nghiệp, nghiên cứu khoa học và học sau đại học Chuẩn bị cho sinh viên tốt nghiệp có thể thích ứng với sự thay đổi nhanh trong lĩnh vực công nghệ cao như Điện tử và Viễn thông. Ngành Quản trị Kinh doanh (Mã ngành: 7340101_UH) Chương trình: Chương trình liên kết cấp bằng của trường ĐH Houston (USA) Quản trị kinh doanh là một ngành tổng hợp gồm nhiều bộ môn căn bản về “quản trị” và “kinh doanh”. Nói cách khác, khi đăng ký ngành này, bạn sẽ được đào tạo đầy đủ những kiến thức căn bản trong khối ngành kinh tế như tài chính, kế toán, nhân sự cho tới các chiến lược kinh doanh, marketing. Song song với các kiến thức trên, hệ thống tư duy, kỹ năng lãnh đạo cùng nhưng mô hình quản trị sao cho tối đa hóa hiệu suất công việc cũng là những môn học không thể thiếu của chuyên ngành đặc biệt này. Ngành Toán ứng dụng (Kỹ thuật Tài chính và Quản trị rủi ro) (Mã ngành: 7460112) Chương trình: Trong nước Chương trình Kĩ thuật tài chính và Quản trị rủi ro được thiết kế nhằm trang bị cho sinh viên các kiến thức cơ bản và hiện đại về Toán học, Tin học, và Kỹ thuật tài chính, giúp các em có thể thực hiện các quy trình phân tích, dự báo, quản trị các vấn đề tài chính và các vấn đề liên quan, giải quyết được các tình huống thực tế trong lĩnh vực Kinh tế-Tài chính. Ngành Công nghệ Thông tin (2+2) (Mã ngành: 7480201_WE2) Chương trình: Chương trình liên kết cấp bằng của trường ĐH West of England (UK) Công nghệ Thông tin (với hai chuyên ngành: kỹ sư mạng máy tính và cử nhân khoa học máy tính) và cử nhân Khoa học Dữ liệu. Chương trình đào tạo tuân thủ theo các chuẩn mực quốc tế và đã đạt được chứng nhận kiểm định chất lượng bởi Tổ chức các trường Đại học Đông Nam Á (AUN) từ năm 2009 và tái kiểm định năm 2017. Các chương trình đào tạo đã đạt được chuẩn MOET năm 2017 và hiện đang tiếp tục thực hiện quy chuẩn kiểm định ABET của Mỹ. Ngành Quản trị kinh doanh (4+0) (Mã ngành: 7340101_WE4) Chương trình: Chương trình liên kết cấp bằng của trường ĐH West of England (UK) (4+0) Quản trị kinh doanh là một ngành tổng hợp gồm nhiều bộ môn căn bản về “quản trị” và “kinh doanh”. Nói cách khác, khi đăng ký ngành này, bạn sẽ được đào tạo đầy đủ những kiến thức căn bản trong khối ngành kinh tế như tài chính, kế toán, nhân sự cho tới các chiến lược kinh doanh, marketing. Song song với các kiến thức trên, hệ thống tư duy, kỹ năng lãnh đạo cùng nhưng mô hình quản trị sao cho tối đa hóa hiệu suất công việc cũng là những môn học không thể thiếu của chuyên ngành đặc biệt này. Ngành Công nghệ Thông tin (4+0) (Mã ngành: 7480201_WE4) Chương trình: Chương trình liên kết cấp bằng của trường ĐH West of England (UK) (4+0) Công nghệ Thông tin (với hai chuyên ngành: kỹ sư mạng máy tính và cử nhân khoa học máy tính) và cử nhân Khoa học Dữ liệu. Chương trình đào tạo tuân thủ theo các chuẩn mực quốc tế và đã đạt được chứng nhận kiểm định chất lượng bởi Tổ chức các trường Đại học Đông Nam Á (AUN) từ năm 2009 và tái kiểm định năm 2017. Các chương trình đào tạo đã đạt được chuẩn MOET năm 2017 và hiện đang tiếp tục thực hiện quy chuẩn kiểm định ABET của Mỹ. Ngành Ngôn ngữ Anh (4+0) (Mã ngành: 7220201_WE4) Chương trình: Chương trình liên kết cấp bằng của trường ĐH West of England (UK) (4+0) Chương trình Cử nhân Ngôn ngữ Anh của Bộ môn Anh tại trường Đại học Quốc tế được thiết kế nhằm giúp sinh viên đáp ứng nhu cầu sử dụng tiếng Anh trong môi trường học tập và làm việc toàn cầu. Theo dự kiến, sinh viên hoàn thành 135 tín chỉ của các khóa học trong bốn năm. Những chương trình Anh ngữ Tăng cường và Học thuật của chúng tôi góp phần thúc đẩy sự thành công của sinh viên IU trong môi trường học tập và nói tiếng Anh tại IU và các trường đại học trên toàn thế giới. Chúng tôi tập trung vào các lĩnh vực thường sử dụng tiếng Anh trong nhiều bối cảnh học thuật khác nhau, như đọc chuyên ngành, nghe bài giảng và ghi chú, kỹ thuật thuyết trình, viết học thuật, viết bài kỹ thuật và viết bài nghiên cứu, và chuẩn bị cho các bài kiểm tra tiêu chuẩn quốc tế như TOEFL iBT và IELTS. Ngành Ngôn ngữ Anh (3+1) (Mã ngành: 7220201_WE3) Chương trình: Chương trình liên kết cấp bằng của trường ĐH West of England (UK) (3+1) Chương trình Cử nhân Ngôn ngữ Anh của Bộ môn Anh tại trường Đại học Quốc tế được thiết kế nhằm giúp sinh viên đáp ứng nhu cầu sử dụng tiếng Anh trong môi trường học tập và làm việc toàn cầu. Theo dự kiến, sinh viên hoàn thành 135 tín chỉ của các khóa học trong bốn năm. Những chương trình Anh ngữ Tăng cường và Học thuật của chúng tôi góp phần thúc đẩy sự thành công của sinh viên IU trong môi trường học tập và nói tiếng Anh tại IU và các trường đại học trên toàn thế giới. Chúng tôi tập trung vào các lĩnh vực thường sử dụng tiếng Anh trong nhiều bối cảnh học thuật khác nhau, như đọc chuyên ngành, nghe bài giảng và ghi chú, kỹ thuật thuyết trình, viết học thuật, viết bài kỹ thuật và viết bài nghiên cứu, và chuẩn bị cho các bài kiểm tra tiêu chuẩn quốc tế như TOEFL iBT và IELTS. Ngành Quản trị Kinh doanh (Mã ngành: 7340101) Chương trình: Trong nước Quản trị kinh doanh là một ngành tổng hợp gồm nhiều bộ môn căn bản về “quản trị” và “kinh doanh”. Nói cách khác, khi đăng ký ngành này, bạn sẽ được đào tạo đầy đủ những kiến thức căn bản trong khối ngành kinh tế như tài chính, kế toán, nhân sự cho tới các chiến lược kinh doanh, marketing. Song song với các kiến thức trên, hệ thống tư duy, kỹ năng lãnh đạo cùng nhưng mô hình quản trị sao cho tối đa hóa hiệu suất công việc cũng là những môn học không thể thiếu của chuyên ngành đặc biệt này. Ngành Ngôn ngữ Anh (2+2) (Mã ngành: 7220201_WE2) Chương trình: Chương trình liên kết cấp bằng của trường ĐH West of England (UK) Chương trình Cử nhân Ngôn ngữ Anh của Bộ môn Anh tại trường Đại học Quốc tế được thiết kế nhằm giúp sinh viên đáp ứng nhu cầu sử dụng tiếng Anh trong môi trường học tập và làm việc toàn cầu. Theo dự kiến, sinh viên hoàn thành 135 tín chỉ của các khóa học trong bốn năm. Những chương trình Anh ngữ Tăng cường và Học thuật của chúng tôi góp phần thúc đẩy sự thành công của sinh viên IU trong môi trường học tập và nói tiếng Anh tại IU và các trường đại học trên toàn thế giới. Chúng tôi tập trung vào các lĩnh vực thường sử dụng tiếng Anh trong nhiều bối cảnh học thuật khác nhau, như đọc chuyên ngành, nghe bài giảng và ghi chú, kỹ thuật thuyết trình, viết học thuật, viết bài kỹ thuật và viết bài nghiên cứu, và chuẩn bị cho các bài kiểm tra tiêu chuẩn quốc tế như TOEFL iBT và IELTS. Ngành Khoa học Dữ liệu (Mã ngành: 7480109) Chương trình: Trong nước Khoa học dữ liệu (KHDL) là khoa học về việc quản trị và phân tích dữ liệu để tìm ra các hiểu biết, các tri thức hành động, các quyết định dẫn dắt hành động. KHDL gồm ba phần chính: Tạo ra và quản trị dữ liệu, phân tích dữ liệu, và chuyển kết quả phân tích thành giá trị của hành động. Nôm na bước thứ nhất là về số hóa và bước thứ hai là về dùng dữ liệu. Việc phân tích và dùng dữ liệu lại dựa vào ba nguồn tri thức: toán học (thống kê toán học), công nghệ thông tin (máy học) và tri thức của lĩnh vực ứng dụng cụ thể. Ngành Kỹ thuật Hệ thống Công nghiệp (Mã ngành: 7520118_SB) Chương trình: Chương trình liên kết cấp bằng của trường ĐH SUNY Binghamton (USA) Chương trình đại học của ngành Kỹ thuật Hệ thống công nghiệp (ISE) sẽ cung cấp cho sinh viên những kiến thức lý thuyết và kỹ năng thực tế trong việc thiết kế, vận hành, cải thiện và tối ưu các hệ thống sản xuất và dịch vụ. Ngành Công nghệ Sinh học (Mã ngành: 7420201) Chương trình: Trong nước Công nghệ sinh học (CNSH) là một lĩnh vực nghiên cứu và vận dụng sinh vật sống để tạo ra sản phẩm hoặc để phục vụ cho lợi ích của nhân loại. Ngành Quản lý Xây dựng (Mã ngành: 7580302) Chương trình: Trong nước Ngành Quản lý xây dựng là ngành trực tiếp thực hiện nhiệm vụ hoặc thực hành tư vấn về lập và đánh giá dự án, lập hồ sơ thiết kế tổ chức thi công, tổ chức các hoạt động trên từng giai đoạn chuẩn bị và thực hiện dự án như đấu thầu, triển khai thiết kế, thi công, bàn giao nghiệm thu và thanh quyết toán công trình. Ngành Kỹ thuật Xây dựng (Mã ngành: 7580201) Chương trình: Trong nước Kỹ thuật xây dựng là ngành chuyên về lĩnh vực tư vấn, thiết kế, tổ chức thi công, quản lí giảm sát và nghiệm thu các công trình xây dựng phục vụ đời sống con người như: nhà ở, nhà hàng – khách sạn, bệnh viện, cầu đường…. Ngành Quản trị kinh doanh (Mã ngành: 7340101_NS) Chương trình: Chương trình liên kết cấp bằng của trường ĐH New South Wales (Australia) Quản trị kinh doanh là một ngành tổng hợp gồm nhiều bộ môn căn bản về “quản trị” và “kinh doanh”. Nói cách khác, khi đăng ký ngành này, bạn sẽ được đào tạo đầy đủ những kiến thức căn bản trong khối ngành kinh tế như tài chính, kế toán, nhân sự cho tới các chiến lược kinh doanh, marketing. Song song với các kiến thức trên, hệ thống tư duy, kỹ năng lãnh đạo cùng nhưng mô hình quản trị sao cho tối đa hóa hiệu suất công việc cũng là những môn học không thể thiếu của chuyên ngành đặc biệt này. Ngành Hóa học (Hóa sinh) (Mã ngành: 7440112) Chương trình: Trong nước Ngành Hóa sinh được thiết kế dành riêng cho sinh viên chuyên nghiên cứu các tiến trình hóa học của sự sống ở cấp độ phân tử. Chương trình bao gồm giảng dạy các môn học về nguyên lý Sinh học, Hóa học, Vật lý và đặc biệt là mối liên quan của các nguyên lý này bên trong cơ thể sống. Sinh viên sẽ được nghiên cứu các tiến trình hóa học liên quan đến các đại phân tử và ý nghĩa từng cấu trúc trên các tiến trình tế bào. Chương trình còn khái quát các khía cạnh khác nhau của Hóa sinh bao gồm Hóa sinh phân tử, Enzym học, Công nghệ lên men, Hóa sinh lâm sàng và Kỹ thuật Hóa sinh. Ngành Quản trị Kinh doanh (2+2) (Mã ngành: 7340101_WE) Chương trình: Chương trình liên kết cấp bằng của trường ĐH West of England (UK) Quản trị kinh doanh là một ngành tổng hợp gồm nhiều bộ môn căn bản về “quản trị” và “kinh doanh”. Nói cách khác, khi đăng ký ngành này, bạn sẽ được đào tạo đầy đủ những kiến thức căn bản trong khối ngành kinh tế như tài chính, kế toán, nhân sự cho tới các chiến lược kinh doanh, marketing. Song song với các kiến thức trên, hệ thống tư duy, kỹ năng lãnh đạo cùng nhưng mô hình quản trị sao cho tối đa hóa hiệu suất công việc cũng là những môn học không thể thiếu của chuyên ngành đặc biệt này. Ngành Công nghệ Sinh học (Mã ngành: 7420201_UN) Chương trình: Chương trình liên kết cấp bằng của trường ĐH Nottingham (UK) Công nghệ sinh học (CNSH) là một lĩnh vực nghiên cứu và vận dụng sinh vật sống để tạo ra sản phẩm hoặc để phục vụ cho lợi ích của nhân loại. Ngành Kỹ thuật Y Sinh (Mã ngành: 7520212) Chương trình: Trong nước Kỹ thuật Y Sinh (KTYS) hiện đang là một lĩnh vực nổi bật thu hút sự quan tâm trên thế giới. Đây là một lĩnh vực đa ngành ứng dụng kỹ thuật tiên tiến vào việc tạo ra các phương pháp nghiên cứu và thiết bị phục vụ cho sức khỏe cũng như giúp hiểu biết sâu hơn về các tiến trình sinh học của con người.</td>\n",
              "      <td>27</td>\n",
              "      <td>Cho tôi hỏi về Toán ứng dụng (Kỹ thuật Tài chính và Quản trị rủi ro)</td>\n",
              "      <td>Thông tin chung</td>\n",
              "    </tr>\n",
              "  </tbody>\n",
              "</table>"
            ],
            "text/plain": [
              "<IPython.core.display.HTML object>"
            ]
          },
          "metadata": {}
        }
      ]
    },
    {
      "cell_type": "markdown",
      "source": [
        "# Preprocess the training data"
      ],
      "metadata": {
        "id": "bNkwBHN_ZHRI"
      }
    },
    {
      "cell_type": "code",
      "source": [
        "model_checkpoint = \"bert-base-cased\"\n",
        "batch_size = 8"
      ],
      "metadata": {
        "id": "yN6IsfnnZVOu"
      },
      "execution_count": 15,
      "outputs": []
    },
    {
      "cell_type": "code",
      "source": [
        "from transformers import AutoTokenizer\n",
        "tokenizer = AutoTokenizer.from_pretrained(model_checkpoint)"
      ],
      "metadata": {
        "colab": {
          "base_uri": "https://localhost:8080/",
          "height": 145,
          "referenced_widgets": [
            "904a94f2c7d34e3896752fd64dd7b02b",
            "e34f28b0d06e46e6ab6c359ea7bcbe97",
            "8250ddf4d094435ba7a58b43517d561b",
            "c20be96644644be58fef289330339547",
            "1c45ba6698c244b4add8887a9f10e7b2",
            "f91e9fa004854ff183d3130b165d53fb",
            "65d228e38c5340709e96fa3eedac6648",
            "14ed5e1b5c1a44ada71c927c49e08ba5",
            "d330fb082c1e4405a9de5456b2d00a92",
            "2a13fd4e692f4ea89a9dac2a54c2461d",
            "51cfba49f5b64671905ac4777686b5c2",
            "a33fc9f8194b48c9a47d0354a63b7797",
            "66855c34ff834c52951ec7458706a888",
            "27d875c06ba940bc9d1f4133bff62eb0",
            "6f80c0d5f838471398082a5b7da59f5a",
            "30da09d58aab4e7f8eb3c81bf1b65447",
            "9e61290f2baf4ded83af63a3793f28f0",
            "a6b555ca882348eab0cc5613981bfef1",
            "a47521cd1b1f425aa344a53660bb6d2c",
            "615bdaf4b117483c80914e485da86c95",
            "aaaae861289b4c9fbbe5bc6123007b8f",
            "c63a0e4d520d450e8aa94e4af49db970",
            "82b22b4e33fe4a48b868f07cd2d687cf",
            "857fe554d5644f16b8a775384648fb52",
            "be6ddaf6a1db418a9f442514ae8e5fd0",
            "2ecb3f1903974698b7475e976da8cc3a",
            "e340f746bd8d45e3a6b91b93ee4ab7b9",
            "0fc30112a3404cc986fc40def2a9fe2a",
            "11b33f6bd35d45d6aac7d02f2adc4d26",
            "ab4f17475900446ba701b25cc4f69c13",
            "9335c9ec536747c2aa868065b53d9183",
            "1dd7035a95a74219b109a2992aece0f6",
            "fcef6a9f1c584ec4990c994f6addf26c",
            "b3830a664f5d4f9a93dd14c2b9a1ccc9",
            "b7e38288ed61491ab8c587aff94e4e23",
            "4ce6e5687ffa40498d5397a5b2401b3a",
            "f5609f1b7389441281dbe9b8547cb254",
            "7c096d0859184c6386b44a9c78b045f9",
            "6fca5bd81b5346e08465cb4bf696c167",
            "10da0498b1fe4a21903f52caea3c4817",
            "ea67e269e0364b6c95f0fcf7d2374f79",
            "8763ffb4c9a44e6591d902a74e4cd877",
            "cc6a5c02fd2748d888cdba76200a6934",
            "a8f79a3f45cb4148a3f22de93bdbecb3"
          ]
        },
        "id": "vi9_9j70Y0wy",
        "outputId": "12fb7738-7993-45f3-ee21-83f2bd7c98bb"
      },
      "execution_count": 16,
      "outputs": [
        {
          "output_type": "display_data",
          "data": {
            "application/vnd.jupyter.widget-view+json": {
              "model_id": "904a94f2c7d34e3896752fd64dd7b02b",
              "version_minor": 0,
              "version_major": 2
            },
            "text/plain": [
              "Downloading:   0%|          | 0.00/29.0 [00:00<?, ?B/s]"
            ]
          },
          "metadata": {}
        },
        {
          "output_type": "display_data",
          "data": {
            "application/vnd.jupyter.widget-view+json": {
              "model_id": "a33fc9f8194b48c9a47d0354a63b7797",
              "version_minor": 0,
              "version_major": 2
            },
            "text/plain": [
              "Downloading:   0%|          | 0.00/570 [00:00<?, ?B/s]"
            ]
          },
          "metadata": {}
        },
        {
          "output_type": "display_data",
          "data": {
            "application/vnd.jupyter.widget-view+json": {
              "model_id": "82b22b4e33fe4a48b868f07cd2d687cf",
              "version_minor": 0,
              "version_major": 2
            },
            "text/plain": [
              "Downloading:   0%|          | 0.00/208k [00:00<?, ?B/s]"
            ]
          },
          "metadata": {}
        },
        {
          "output_type": "display_data",
          "data": {
            "application/vnd.jupyter.widget-view+json": {
              "model_id": "b3830a664f5d4f9a93dd14c2b9a1ccc9",
              "version_minor": 0,
              "version_major": 2
            },
            "text/plain": [
              "Downloading:   0%|          | 0.00/426k [00:00<?, ?B/s]"
            ]
          },
          "metadata": {}
        }
      ]
    },
    {
      "cell_type": "code",
      "source": [
        "import transformers\n",
        "assert isinstance(tokenizer, transformers.PreTrainedTokenizerFast)"
      ],
      "metadata": {
        "id": "AmW2Kg0cZcHi"
      },
      "execution_count": 17,
      "outputs": []
    },
    {
      "cell_type": "code",
      "source": [
        "tokenizer(\"Phòng Bảo đảm Chất lượng Giáo dục và Khảo thí:\", \" Tư vấn, tham mưu cho Ban Giám hiệu về chiến lược, các kế hoạch cải tiến hoạt động bảo đảm chất lượng\")"
      ],
      "metadata": {
        "colab": {
          "base_uri": "https://localhost:8080/"
        },
        "id": "G7ctvSosZfmr",
        "outputId": "d95c31fc-e0ed-4f07-d0a8-124cf5a4e573"
      },
      "execution_count": 18,
      "outputs": [
        {
          "output_type": "execute_result",
          "data": {
            "text/plain": [
              "{'input_ids': [101, 7642, 20142, 2118, 139, 28641, 1186, 288, 28641, 1306, 20394, 28642, 1204, 181, 28265, 28660, 2118, 144, 1182, 5589, 1186, 173, 28661, 1665, 191, 9183, 148, 1324, 28641, 1186, 24438, 6212, 131, 102, 157, 28265, 191, 28642, 1179, 117, 24438, 2312, 182, 28265, 1358, 22572, 1186, 18393, 144, 1182, 5589, 1306, 20844, 28651, 1358, 191, 28648, 22572, 1182, 28647, 1179, 181, 28265, 28660, 1665, 117, 172, 5589, 1665, 180, 28647, 16358, 28640, 1732, 172, 28641, 1182, 189, 1182, 28647, 1179, 16358, 28640, 1204, 288, 28657, 2118, 171, 28641, 1186, 288, 28641, 1306, 22572, 28642, 1204, 181, 28265, 28660, 2118, 102], 'token_type_ids': [0, 0, 0, 0, 0, 0, 0, 0, 0, 0, 0, 0, 0, 0, 0, 0, 0, 0, 0, 0, 0, 0, 0, 0, 0, 0, 0, 0, 0, 0, 0, 0, 0, 0, 1, 1, 1, 1, 1, 1, 1, 1, 1, 1, 1, 1, 1, 1, 1, 1, 1, 1, 1, 1, 1, 1, 1, 1, 1, 1, 1, 1, 1, 1, 1, 1, 1, 1, 1, 1, 1, 1, 1, 1, 1, 1, 1, 1, 1, 1, 1, 1, 1, 1, 1, 1, 1, 1, 1, 1, 1, 1, 1, 1, 1, 1, 1, 1, 1, 1, 1], 'attention_mask': [1, 1, 1, 1, 1, 1, 1, 1, 1, 1, 1, 1, 1, 1, 1, 1, 1, 1, 1, 1, 1, 1, 1, 1, 1, 1, 1, 1, 1, 1, 1, 1, 1, 1, 1, 1, 1, 1, 1, 1, 1, 1, 1, 1, 1, 1, 1, 1, 1, 1, 1, 1, 1, 1, 1, 1, 1, 1, 1, 1, 1, 1, 1, 1, 1, 1, 1, 1, 1, 1, 1, 1, 1, 1, 1, 1, 1, 1, 1, 1, 1, 1, 1, 1, 1, 1, 1, 1, 1, 1, 1, 1, 1, 1, 1, 1, 1, 1, 1, 1, 1]}"
            ]
          },
          "metadata": {},
          "execution_count": 18
        }
      ]
    },
    {
      "cell_type": "code",
      "source": [
        "max_length = 512 # The maximum length of a feature (question and context)\n",
        "doc_stride = 128 # The authorized overlap between two part of the context when splitting it is needed."
      ],
      "metadata": {
        "id": "bCXX2DSFZpwr"
      },
      "execution_count": 19,
      "outputs": []
    },
    {
      "cell_type": "markdown",
      "source": [
        "Let's find one long example in our dataset:"
      ],
      "metadata": {
        "id": "uR2JaE7VZ_M_"
      }
    },
    {
      "cell_type": "code",
      "source": [
        "for i, example in enumerate(dataset[\"train\"]):\n",
        "    if len(tokenizer(example[\"question\"], example[\"context\"])[\"input_ids\"]) > 512:\n",
        "        break\n",
        "example = dataset[\"train\"][i]"
      ],
      "metadata": {
        "colab": {
          "base_uri": "https://localhost:8080/"
        },
        "id": "RFVMEfHHZsXN",
        "outputId": "88ed8988-5746-4b96-cd7e-44504ed25f3d"
      },
      "execution_count": 20,
      "outputs": [
        {
          "output_type": "stream",
          "name": "stderr",
          "text": [
            "Token indices sequence length is longer than the specified maximum sequence length for this model (5018 > 512). Running this sequence through the model will result in indexing errors\n"
          ]
        }
      ]
    },
    {
      "cell_type": "markdown",
      "source": [
        "Without any truncation, we get the following length for the input IDs:"
      ],
      "metadata": {
        "id": "5hcUHr5saCdf"
      }
    },
    {
      "cell_type": "code",
      "source": [
        "len(tokenizer(example[\"question\"], example[\"context\"])[\"input_ids\"])"
      ],
      "metadata": {
        "colab": {
          "base_uri": "https://localhost:8080/"
        },
        "id": "s7xjshN1Zun9",
        "outputId": "e8890eaa-fb92-48a2-90e0-27d3de507f2b"
      },
      "execution_count": 21,
      "outputs": [
        {
          "output_type": "execute_result",
          "data": {
            "text/plain": [
              "5018"
            ]
          },
          "metadata": {},
          "execution_count": 21
        }
      ]
    },
    {
      "cell_type": "markdown",
      "source": [
        "Now, if we just truncate, we will lose information (and possibly the answer to our question):"
      ],
      "metadata": {
        "id": "PyMJTUBiaGlw"
      }
    },
    {
      "cell_type": "code",
      "source": [
        "len(tokenizer(example[\"question\"], example[\"context\"], max_length=max_length, truncation=\"only_second\")[\"input_ids\"])"
      ],
      "metadata": {
        "colab": {
          "base_uri": "https://localhost:8080/"
        },
        "id": "tjF670G_aHWj",
        "outputId": "277aa8ec-d04b-463e-9264-9fa2800093e3"
      },
      "execution_count": 22,
      "outputs": [
        {
          "output_type": "execute_result",
          "data": {
            "text/plain": [
              "512"
            ]
          },
          "metadata": {},
          "execution_count": 22
        }
      ]
    },
    {
      "cell_type": "markdown",
      "source": [
        "Note that we never want to truncate the question, only the context, else the only_second truncation picked. Now, our tokenizer can automatically return us a list of features capped by a certain maximum length, with the overlap we talked above, we just have to tell it with return_overflowing_tokens=True and by passing the stride:"
      ],
      "metadata": {
        "id": "Ry5fRzhEaY4F"
      }
    },
    {
      "cell_type": "code",
      "source": [
        "tokenized_example = tokenizer(\n",
        "    example[\"question\"],\n",
        "    example[\"context\"],\n",
        "    max_length=max_length,\n",
        "    truncation=\"only_second\",\n",
        "    return_overflowing_tokens=True,\n",
        "    stride=doc_stride\n",
        ")"
      ],
      "metadata": {
        "id": "NH-yPYHdZ_lc"
      },
      "execution_count": 23,
      "outputs": []
    },
    {
      "cell_type": "markdown",
      "source": [
        "Now we don't have one list of input_ids, but several:"
      ],
      "metadata": {
        "id": "ci-oiY4taeAw"
      }
    },
    {
      "cell_type": "code",
      "source": [
        "for x in tokenized_example[\"input_ids\"][:2]:\n",
        "    print(tokenizer.decode(x))"
      ],
      "metadata": {
        "colab": {
          "base_uri": "https://localhost:8080/"
        },
        "id": "HK2C3FuCZ8jI",
        "outputId": "e9b448a1-a479-4d15-ed11-cbeee40b9316"
      },
      "execution_count": 24,
      "outputs": [
        {
          "output_type": "stream",
          "name": "stdout",
          "text": [
            "[CLS] Cho tôi [UNK] về Phòng Công tác Sinh viên [SEP] Phòng Đào tạo Sau đại học : Tham mưu cho Hiệu [UNK] về các công tác quản lý đào tạo và bồi [UNK] sau đại học thuộc trách nhiệm và thẩm quyền. Liên hệ : Room O2 – 609Telephone : ( 84 ) - 28 - 37244270. Ext : 3120Fax : ( 84 - 28 ) 37244271. Phòng Vật tư Thiết bị : Phòng Vật tư Thiết bị Liên hệ : Phòng O1 – 612, Trường Đại học Quốc tếKhu phố 6, Phường Linh Trung, Quận Thủ Đức, TP. HCMĐiện thoại : ( 028 ) 37244270 – số máy [UNK] : 3555, 3246 Fax : ( 028 ) 37244271. Trung tâm Đổi mới sáng tạo và Chuyển giao công nghệ : Trung tâm là đơn vị sự nghiệp khoa học trực thuộc trường Đại Học Quốc Tế – Đại Học Quốc Gia TP. HCM, có chức năng cung cấp dịch vụ – nghiên cứu – đào tạo – tư vấn và chuyển giao công nghệ cho các doanh nghiệp và các cơ quan chức năng Nhà nước. Trung tâm là cầu nối giữa giảng viên và [SEP]\n",
            "[CLS] Cho tôi [UNK] về Phòng Công tác Sinh viên [SEP] Quốc Gia TP. HCM, có chức năng cung cấp dịch vụ – nghiên cứu – đào tạo – tư vấn và chuyển giao công nghệ cho các doanh nghiệp và các cơ quan chức năng Nhà nước. Trung tâm là cầu nối giữa giảng viên và sinh viên của Trường với các nghiên cứu và dự án thực tiễn tại các doanh nghiệp và đơn vị chức năng trực thuộc nhà nước. Liên hệ : Phòng O2 – 303, Trường Đại học Quốc tếKhu phố 6, Phường Linh Trung, Quận Thủ Đức, TP. HCMĐiện thoại : ( 028 ) 37244270 – số máy [UNK] : 3949 Fax : ( 028 ) 37244271. Phòng Hành chính Tổng hợp : Phòng Hành chính Tổng hợp Liên hệ : Phòng O2 - 711, Trường Đại học Quốc tếKhu phố 6, Phường Linh Trung, Quận Thủ Đức, TP. HCMĐiện thoại : ( 028 ) 37244270 – số máy [UNK] : 3225, 3939, 3737 Fax : ( 028 ) 37244271. Phòng Đầu tư & Phát triển : Tham mưu, đề xuất Hiệu [SEP]\n"
          ]
        }
      ]
    },
    {
      "cell_type": "markdown",
      "source": [
        "Now this will give us some work to properly treat the answers: we need to find in which of those features the answer actually is, and where exactly in that feature. The models we will use require the start and end positions of these answers in the tokens, so we will also need to to map parts of the original context to some tokens. Thankfully, the tokenizer we're using can help us with that by returning an offset_mapping:"
      ],
      "metadata": {
        "id": "0ysQ4wY5alh3"
      }
    },
    {
      "cell_type": "code",
      "source": [
        "tokenized_example = tokenizer(\n",
        "    example[\"question\"],\n",
        "    example[\"context\"],\n",
        "    max_length=max_length,\n",
        "    truncation=\"only_second\",\n",
        "    return_overflowing_tokens=True,\n",
        "    return_offsets_mapping=True,\n",
        "    stride=doc_stride\n",
        ")\n",
        "print(tokenized_example[\"offset_mapping\"][0][:100])"
      ],
      "metadata": {
        "colab": {
          "base_uri": "https://localhost:8080/"
        },
        "id": "VTh0hmcSaZJf",
        "outputId": "1a9f53e6-cdb5-41e2-87cd-b34917d60f3d"
      },
      "execution_count": 25,
      "outputs": [
        {
          "output_type": "stream",
          "name": "stdout",
          "text": [
            "[(0, 0), (0, 3), (4, 5), (5, 6), (6, 7), (8, 11), (12, 13), (13, 14), (15, 17), (17, 18), (18, 20), (21, 22), (22, 23), (23, 25), (26, 27), (27, 28), (28, 29), (30, 33), (33, 34), (35, 36), (36, 37), (37, 38), (38, 39), (0, 0), (0, 2), (2, 3), (3, 5), (6, 7), (7, 8), (8, 9), (10, 11), (11, 12), (12, 13), (14, 16), (16, 17), (18, 19), (19, 20), (20, 21), (22, 23), (23, 24), (24, 25), (25, 26), (27, 28), (28, 31), (32, 33), (33, 34), (34, 35), (36, 38), (38, 39), (40, 42), (42, 43), (43, 44), (45, 51), (52, 53), (53, 54), (55, 56), (56, 57), (57, 58), (59, 60), (60, 61), (61, 63), (64, 65), (65, 66), (66, 67), (68, 69), (69, 70), (70, 71), (71, 72), (73, 74), (74, 75), (76, 77), (77, 78), (78, 79), (80, 81), (81, 82), (82, 83), (84, 85), (85, 86), (87, 88), (88, 89), (89, 90), (91, 96), (97, 99), (99, 100), (101, 102), (102, 103), (103, 104), (105, 106), (106, 107), (107, 108), (109, 111), (111, 112), (112, 113), (113, 114), (115, 116), (116, 117), (117, 118), (118, 120), (121, 122), (122, 124)]\n"
          ]
        }
      ]
    },
    {
      "cell_type": "markdown",
      "source": [
        "This gives, for each index of our input IDS, the corresponding start and end character in the original text that gave our token. The very first token ([CLS]) has (0, 0) because it doesn't correspond to any part of the question/answer, then the second token is the same as the characters 0 to 3 of the question:"
      ],
      "metadata": {
        "id": "rnzTDzYLaqPw"
      }
    },
    {
      "cell_type": "code",
      "source": [
        "first_token_id = tokenized_example[\"input_ids\"][0][1]\n",
        "offsets = tokenized_example[\"offset_mapping\"][0][1]\n",
        "print(tokenizer.convert_ids_to_tokens([first_token_id])[0], example[\"question\"][offsets[0]:offsets[1]])"
      ],
      "metadata": {
        "colab": {
          "base_uri": "https://localhost:8080/"
        },
        "id": "q5a9uDOVanxg",
        "outputId": "accdbe29-2381-4120-d7c0-d6c6ae7e49d5"
      },
      "execution_count": 26,
      "outputs": [
        {
          "output_type": "stream",
          "name": "stdout",
          "text": [
            "Cho Cho\n"
          ]
        }
      ]
    },
    {
      "cell_type": "markdown",
      "source": [
        "So we can use this mapping to find the position of the start and end tokens of our answer in a given feature. We just have to distinguish which parts of the offsets correspond to the question and which part correspond to the context, this is where the sequence_ids method of our tokenized_example can be useful:"
      ],
      "metadata": {
        "id": "tLT44JyWavdr"
      }
    },
    {
      "cell_type": "code",
      "source": [
        "sequence_ids = tokenized_example.sequence_ids()\n",
        "print(sequence_ids)"
      ],
      "metadata": {
        "colab": {
          "base_uri": "https://localhost:8080/"
        },
        "id": "nwOHjiW1ar4A",
        "outputId": "0179e7cc-18d3-4271-af58-bc3d05d71fc4"
      },
      "execution_count": 27,
      "outputs": [
        {
          "output_type": "stream",
          "name": "stdout",
          "text": [
            "[None, 0, 0, 0, 0, 0, 0, 0, 0, 0, 0, 0, 0, 0, 0, 0, 0, 0, 0, 0, 0, 0, 0, None, 1, 1, 1, 1, 1, 1, 1, 1, 1, 1, 1, 1, 1, 1, 1, 1, 1, 1, 1, 1, 1, 1, 1, 1, 1, 1, 1, 1, 1, 1, 1, 1, 1, 1, 1, 1, 1, 1, 1, 1, 1, 1, 1, 1, 1, 1, 1, 1, 1, 1, 1, 1, 1, 1, 1, 1, 1, 1, 1, 1, 1, 1, 1, 1, 1, 1, 1, 1, 1, 1, 1, 1, 1, 1, 1, 1, 1, 1, 1, 1, 1, 1, 1, 1, 1, 1, 1, 1, 1, 1, 1, 1, 1, 1, 1, 1, 1, 1, 1, 1, 1, 1, 1, 1, 1, 1, 1, 1, 1, 1, 1, 1, 1, 1, 1, 1, 1, 1, 1, 1, 1, 1, 1, 1, 1, 1, 1, 1, 1, 1, 1, 1, 1, 1, 1, 1, 1, 1, 1, 1, 1, 1, 1, 1, 1, 1, 1, 1, 1, 1, 1, 1, 1, 1, 1, 1, 1, 1, 1, 1, 1, 1, 1, 1, 1, 1, 1, 1, 1, 1, 1, 1, 1, 1, 1, 1, 1, 1, 1, 1, 1, 1, 1, 1, 1, 1, 1, 1, 1, 1, 1, 1, 1, 1, 1, 1, 1, 1, 1, 1, 1, 1, 1, 1, 1, 1, 1, 1, 1, 1, 1, 1, 1, 1, 1, 1, 1, 1, 1, 1, 1, 1, 1, 1, 1, 1, 1, 1, 1, 1, 1, 1, 1, 1, 1, 1, 1, 1, 1, 1, 1, 1, 1, 1, 1, 1, 1, 1, 1, 1, 1, 1, 1, 1, 1, 1, 1, 1, 1, 1, 1, 1, 1, 1, 1, 1, 1, 1, 1, 1, 1, 1, 1, 1, 1, 1, 1, 1, 1, 1, 1, 1, 1, 1, 1, 1, 1, 1, 1, 1, 1, 1, 1, 1, 1, 1, 1, 1, 1, 1, 1, 1, 1, 1, 1, 1, 1, 1, 1, 1, 1, 1, 1, 1, 1, 1, 1, 1, 1, 1, 1, 1, 1, 1, 1, 1, 1, 1, 1, 1, 1, 1, 1, 1, 1, 1, 1, 1, 1, 1, 1, 1, 1, 1, 1, 1, 1, 1, 1, 1, 1, 1, 1, 1, 1, 1, 1, 1, 1, 1, 1, 1, 1, 1, 1, 1, 1, 1, 1, 1, 1, 1, 1, 1, 1, 1, 1, 1, 1, 1, 1, 1, 1, 1, 1, 1, 1, 1, 1, 1, 1, 1, 1, 1, 1, 1, 1, 1, 1, 1, 1, 1, 1, 1, 1, 1, 1, 1, 1, 1, 1, 1, 1, 1, 1, 1, 1, 1, 1, 1, 1, 1, 1, 1, 1, 1, 1, 1, 1, 1, 1, 1, 1, 1, 1, 1, 1, 1, 1, 1, 1, 1, 1, 1, 1, 1, 1, 1, 1, 1, 1, 1, 1, 1, 1, 1, 1, 1, 1, 1, 1, 1, 1, 1, 1, 1, 1, 1, 1, 1, 1, 1, 1, 1, 1, 1, 1, 1, 1, 1, 1, 1, 1, 1, 1, 1, 1, None]\n"
          ]
        }
      ]
    },
    {
      "cell_type": "markdown",
      "source": [
        "It returns None for the special tokens, then 0 or 1 depending on whether the corresponding token comes from the first sentence past (the question) or the second (the context). Now with all of this, we can find the first and last token of the answer in one of our input feature (or if the answer is not in this feature):"
      ],
      "metadata": {
        "id": "V9VAqrVGa3_s"
      }
    },
    {
      "cell_type": "code",
      "source": [
        "answers = example[\"answers\"]\n",
        "start_char = answers[\"answer_start\"][0]\n",
        "end_char = start_char + len(answers[\"text\"][0])\n",
        "\n",
        "# Start token index of the current span in the text.\n",
        "token_start_index = 0\n",
        "while sequence_ids[token_start_index] != 1:\n",
        "    token_start_index += 1\n",
        "\n",
        "# End token index of the current span in the text.\n",
        "token_end_index = len(tokenized_example[\"input_ids\"][0]) - 1\n",
        "while sequence_ids[token_end_index] != 1:\n",
        "    token_end_index -= 1\n",
        "\n",
        "# Detect if the answer is out of the span (in which case this feature is labeled with the CLS index).\n",
        "offsets = tokenized_example[\"offset_mapping\"][0]\n",
        "if (offsets[token_start_index][0] <= start_char and offsets[token_end_index][1] >= end_char):\n",
        "    # Move the token_start_index and token_end_index to the two ends of the answer.\n",
        "    # Note: we could go after the last offset if the answer is the last word (edge case).\n",
        "    while token_start_index < len(offsets) and offsets[token_start_index][0] <= start_char:\n",
        "        token_start_index += 1\n",
        "    start_position = token_start_index - 1\n",
        "    while offsets[token_end_index][1] >= end_char:\n",
        "        token_end_index -= 1\n",
        "    end_position = token_end_index + 1\n",
        "    print(start_position, end_position)\n",
        "else:\n",
        "    print(\"The answer is not in this feature.\")"
      ],
      "metadata": {
        "colab": {
          "base_uri": "https://localhost:8080/"
        },
        "id": "KKvakmeVa19E",
        "outputId": "a5fe1b21-bfb6-4681-92ed-ec95fb127206"
      },
      "execution_count": 32,
      "outputs": [
        {
          "output_type": "stream",
          "name": "stdout",
          "text": [
            "The answer is not in this feature.\n"
          ]
        }
      ]
    },
    {
      "cell_type": "markdown",
      "source": [
        "And we can double check that it is indeed the theoretical answer:"
      ],
      "metadata": {
        "id": "J6FcAtsUa8P6"
      }
    },
    {
      "cell_type": "code",
      "source": [
        "# print(tokenizer.decode(tokenized_example[\"input_ids\"][0][start_position: end_position+1]))\n",
        "# print(answers[\"text\"][0])"
      ],
      "metadata": {
        "id": "4xPkxsuTa5kV"
      },
      "execution_count": 34,
      "outputs": []
    },
    {
      "cell_type": "code",
      "source": [
        "pad_on_right = tokenizer.padding_side == \"right\""
      ],
      "metadata": {
        "id": "CElVOIu1a_ut"
      },
      "execution_count": 35,
      "outputs": []
    },
    {
      "cell_type": "markdown",
      "source": [
        "Now let's put everything together in one function we will apply to our training set. In the case of impossible answers (the answer is in another feature given by an example with a long context), we set the cls index for both the start and end position. We could also simply discard those examples from the training set if the flag allow_impossible_answers is False. Since the preprocessing is already complex enough as it is, we've kept is simple for this part."
      ],
      "metadata": {
        "id": "f6FoNfF8bFJF"
      }
    },
    {
      "cell_type": "code",
      "source": [
        "def prepare_train_features(examples):\n",
        "    # Some of the questions have lots of whitespace on the left, which is not useful and will make the\n",
        "    # truncation of the context fail (the tokenized question will take a lots of space). So we remove that\n",
        "    # left whitespace\n",
        "    examples[\"question\"] = [q.lstrip() for q in examples[\"question\"]]\n",
        "\n",
        "    # Tokenize our examples with truncation and padding, but keep the overflows using a stride. This results\n",
        "    # in one example possible giving several features when a context is long, each of those features having a\n",
        "    # context that overlaps a bit the context of the previous feature.\n",
        "    tokenized_examples = tokenizer(\n",
        "        examples[\"question\" if pad_on_right else \"context\"],\n",
        "        examples[\"context\" if pad_on_right else \"question\"],\n",
        "        truncation=\"only_second\" if pad_on_right else \"only_first\",\n",
        "        max_length=max_length,\n",
        "        stride=doc_stride,\n",
        "        return_overflowing_tokens=True,\n",
        "        return_offsets_mapping=True,\n",
        "        padding=\"max_length\",\n",
        "    )\n",
        "\n",
        "    # Since one example might give us several features if it has a long context, we need a map from a feature to\n",
        "    # its corresponding example. This key gives us just that.\n",
        "    sample_mapping = tokenized_examples.pop(\"overflow_to_sample_mapping\")\n",
        "    # The offset mappings will give us a map from token to character position in the original context. This will\n",
        "    # help us compute the start_positions and end_positions.\n",
        "    offset_mapping = tokenized_examples.pop(\"offset_mapping\")\n",
        "\n",
        "    # Let's label those examples!\n",
        "    tokenized_examples[\"start_positions\"] = []\n",
        "    tokenized_examples[\"end_positions\"] = []\n",
        "\n",
        "    for i, offsets in enumerate(offset_mapping):\n",
        "        # We will label impossible answers with the index of the CLS token.\n",
        "        input_ids = tokenized_examples[\"input_ids\"][i]\n",
        "        cls_index = input_ids.index(tokenizer.cls_token_id)\n",
        "\n",
        "        # Grab the sequence corresponding to that example (to know what is the context and what is the question).\n",
        "        sequence_ids = tokenized_examples.sequence_ids(i)\n",
        "\n",
        "        # One example can give several spans, this is the index of the example containing this span of text.\n",
        "        sample_index = sample_mapping[i]\n",
        "        answers = examples[\"answers\"][sample_index]\n",
        "        # If no answers are given, set the cls_index as answer.\n",
        "        if len(answers[\"answer_start\"]) == 0:\n",
        "            tokenized_examples[\"start_positions\"].append(cls_index)\n",
        "            tokenized_examples[\"end_positions\"].append(cls_index)\n",
        "        else:\n",
        "            # Start/end character index of the answer in the text.\n",
        "            start_char = answers[\"answer_start\"][0]\n",
        "            end_char = start_char + len(answers[\"text\"][0])\n",
        "\n",
        "            # Start token index of the current span in the text.\n",
        "            token_start_index = 0\n",
        "            while sequence_ids[token_start_index] != (1 if pad_on_right else 0):\n",
        "                token_start_index += 1\n",
        "\n",
        "            # End token index of the current span in the text.\n",
        "            token_end_index = len(input_ids) - 1\n",
        "            while sequence_ids[token_end_index] != (1 if pad_on_right else 0):\n",
        "                token_end_index -= 1\n",
        "\n",
        "            # Detect if the answer is out of the span (in which case this feature is labeled with the CLS index).\n",
        "            if not (offsets[token_start_index][0] <= start_char and offsets[token_end_index][1] >= end_char):\n",
        "                tokenized_examples[\"start_positions\"].append(cls_index)\n",
        "                tokenized_examples[\"end_positions\"].append(cls_index)\n",
        "            else:\n",
        "                # Otherwise move the token_start_index and token_end_index to the two ends of the answer.\n",
        "                # Note: we could go after the last offset if the answer is the last word (edge case).\n",
        "                while token_start_index < len(offsets) and offsets[token_start_index][0] <= start_char:\n",
        "                    token_start_index += 1\n",
        "                tokenized_examples[\"start_positions\"].append(token_start_index - 1)\n",
        "                while offsets[token_end_index][1] >= end_char:\n",
        "                    token_end_index -= 1\n",
        "                tokenized_examples[\"end_positions\"].append(token_end_index + 1)\n",
        "\n",
        "    return tokenized_examples"
      ],
      "metadata": {
        "id": "KXX97ogRbFbt"
      },
      "execution_count": 36,
      "outputs": []
    },
    {
      "cell_type": "markdown",
      "metadata": {
        "id": "0lm8ozrJIrJR"
      },
      "source": [
        "This function works with one or several examples. In the case of several examples, the tokenizer will return a list of lists for each key:"
      ]
    },
    {
      "cell_type": "code",
      "source": [
        "features = prepare_train_features(dataset['train'][:5])"
      ],
      "metadata": {
        "id": "YPJjo3nSbGlb"
      },
      "execution_count": 37,
      "outputs": []
    },
    {
      "cell_type": "markdown",
      "source": [
        "To apply this function on all the sentences (or pairs of sentences) in our dataset, we just use the map method of our dataset object we created earlier. This will apply the function on all the elements of all the splits in dataset, so our training, validation and testing data will be preprocessed in one single command. Since our preprocessing changes the number of samples, we need to remove the old columns when applying it."
      ],
      "metadata": {
        "id": "d1wUvM1rbXMD"
      }
    },
    {
      "cell_type": "code",
      "source": [
        "tokenized_datasets = dataset.map(prepare_train_features, batched=True, remove_columns=dataset[\"train\"].column_names)"
      ],
      "metadata": {
        "colab": {
          "base_uri": "https://localhost:8080/",
          "height": 81,
          "referenced_widgets": [
            "50b4e7afb50745a29eaca27a962c28dc",
            "74cf8c99fa024871aa31bf4f6d19c1a5",
            "88f77065ba5441e08f31fb77d602c10d",
            "abed27e2654a49bc9ef372c8a1aa49b7",
            "c01bb84d30134b08a68af291262b8090",
            "f27cfba9e65b41bab6422fb472638b42",
            "45bea73d7b8a4ac99ca9159ec315a63e",
            "f7eeb572f39d498ea02ec7cab0ca3532",
            "b953ba083e104febbd36780fe93d7e0c",
            "cf2c2a14f2494e1cbfb8719a58d69ae9",
            "40d944ad4375468da5cdff730c6eb3ea",
            "7f95eb2d3fb6484b8d63c32b061d605c",
            "0900a7b8830b47818031d21f9a3b9db0",
            "639d790367e24508b6ebef2bc46a41f8",
            "700ba7c0be9c4964a58814719007d9aa",
            "03b61468c5094064bd91508c3f2b00a1",
            "b4f3be02b35d4a208110070b2ecb2311",
            "81d404e2945342a497ea5d81649e7558",
            "ae7e03e168fd4e7bb6a9727544624310",
            "698e0c8d6e41432198d6c2621392014b",
            "e8d65f57db4c42929bbf35954103cfb2",
            "36667ef35e5546b4b4d4ee9ad8379750"
          ]
        },
        "id": "chmPofNUbUgr",
        "outputId": "34fff6b5-1967-4c19-998e-de9aaceb11d8"
      },
      "execution_count": 38,
      "outputs": [
        {
          "output_type": "display_data",
          "data": {
            "application/vnd.jupyter.widget-view+json": {
              "model_id": "50b4e7afb50745a29eaca27a962c28dc",
              "version_minor": 0,
              "version_major": 2
            },
            "text/plain": [
              "  0%|          | 0/1 [00:00<?, ?ba/s]"
            ]
          },
          "metadata": {}
        },
        {
          "output_type": "display_data",
          "data": {
            "application/vnd.jupyter.widget-view+json": {
              "model_id": "7f95eb2d3fb6484b8d63c32b061d605c",
              "version_minor": 0,
              "version_major": 2
            },
            "text/plain": [
              "  0%|          | 0/1 [00:00<?, ?ba/s]"
            ]
          },
          "metadata": {}
        }
      ]
    },
    {
      "cell_type": "markdown",
      "source": [
        "# Fine-tune the model"
      ],
      "metadata": {
        "id": "J3gOAtoDbh50"
      }
    },
    {
      "cell_type": "code",
      "source": [
        "from transformers import AutoModelForQuestionAnswering, TrainingArguments, Trainer\n",
        "\n",
        "model = AutoModelForQuestionAnswering.from_pretrained(model_checkpoint)"
      ],
      "metadata": {
        "colab": {
          "base_uri": "https://localhost:8080/",
          "height": 156,
          "referenced_widgets": [
            "b451691fe42547e0b89c0c1f7b61457d",
            "26d02a63ad6c42bb9deaddaa3d6b12a7",
            "4d42e677a7784b0fa02977460a87f186",
            "dbeb4b3a06804f64b34f81456a3a7811",
            "dd5d2bb57f834bb981ffbccf34d81d66",
            "7cdb1815f48741b081029577ea17f3f1",
            "2c2f92cbfb524b759a4ae5fc4da3d439",
            "96362a632281469da78897f157b3234a",
            "61939013fd344af6881f0d53d7ae579c",
            "550d96f972df4c7e9259a40e29cb84ea",
            "3cf21cb4beef46418786572140845c88"
          ]
        },
        "id": "u1K_E8ptbZLb",
        "outputId": "98f13259-9660-4892-f1b7-ab690edd4e92"
      },
      "execution_count": 39,
      "outputs": [
        {
          "output_type": "display_data",
          "data": {
            "application/vnd.jupyter.widget-view+json": {
              "model_id": "b451691fe42547e0b89c0c1f7b61457d",
              "version_minor": 0,
              "version_major": 2
            },
            "text/plain": [
              "Downloading:   0%|          | 0.00/416M [00:00<?, ?B/s]"
            ]
          },
          "metadata": {}
        },
        {
          "output_type": "stream",
          "name": "stderr",
          "text": [
            "Some weights of the model checkpoint at bert-base-cased were not used when initializing BertForQuestionAnswering: ['cls.predictions.transform.dense.weight', 'cls.predictions.transform.dense.bias', 'cls.predictions.transform.LayerNorm.weight', 'cls.seq_relationship.weight', 'cls.predictions.decoder.weight', 'cls.predictions.transform.LayerNorm.bias', 'cls.seq_relationship.bias', 'cls.predictions.bias']\n",
            "- This IS expected if you are initializing BertForQuestionAnswering from the checkpoint of a model trained on another task or with another architecture (e.g. initializing a BertForSequenceClassification model from a BertForPreTraining model).\n",
            "- This IS NOT expected if you are initializing BertForQuestionAnswering from the checkpoint of a model that you expect to be exactly identical (initializing a BertForSequenceClassification model from a BertForSequenceClassification model).\n",
            "Some weights of BertForQuestionAnswering were not initialized from the model checkpoint at bert-base-cased and are newly initialized: ['qa_outputs.weight', 'qa_outputs.bias']\n",
            "You should probably TRAIN this model on a down-stream task to be able to use it for predictions and inference.\n"
          ]
        }
      ]
    },
    {
      "cell_type": "code",
      "source": [
        "model_name = model_checkpoint.split(\"/\")[-1]\n",
        "args = TrainingArguments(\n",
        "    f\"{model_name}-iuChatbot-ontologyDts\",\n",
        "    evaluation_strategy = \"epoch\",\n",
        "    learning_rate=2e-5,\n",
        "    per_device_train_batch_size=batch_size,\n",
        "    per_device_eval_batch_size=batch_size,\n",
        "    num_train_epochs=3,\n",
        "    weight_decay=0.01,\n",
        "    push_to_hub=True,\n",
        "    push_to_hub_model_id=f\"{model_name}-IUChatbot-ontologyDts\",\n",
        ")"
      ],
      "metadata": {
        "colab": {
          "base_uri": "https://localhost:8080/"
        },
        "id": "D76rAHHWbl2w",
        "outputId": "6eb53dcd-618b-40aa-a42a-0b35f162db91"
      },
      "execution_count": 40,
      "outputs": [
        {
          "output_type": "stream",
          "name": "stderr",
          "text": [
            "/usr/local/lib/python3.7/dist-packages/transformers/training_args.py:926: FutureWarning: `--push_to_hub_model_id` is deprecated and will be removed in version 5 of 🤗 Transformers. Use `--hub_model_id` instead and pass the full repo name to this argument (in this case nntadotzip/bert-base-cased-IUChatbot-ontologyDts).\n",
            "  FutureWarning,\n"
          ]
        }
      ]
    },
    {
      "cell_type": "code",
      "source": [
        "from transformers import default_data_collator\n",
        "\n",
        "data_collator = default_data_collator"
      ],
      "metadata": {
        "id": "dsR3qBMxbrw1"
      },
      "execution_count": 41,
      "outputs": []
    },
    {
      "cell_type": "code",
      "source": [
        "# !curl -s https://packagecloud.io/install/repositories/github/git-lfs/script.deb.sh | sudo bash"
      ],
      "metadata": {
        "id": "miWPrxf_bzVY"
      },
      "execution_count": 42,
      "outputs": []
    },
    {
      "cell_type": "code",
      "source": [
        "# !sudo apt-get install git-lfs"
      ],
      "metadata": {
        "id": "37qG2SvKchgy"
      },
      "execution_count": 43,
      "outputs": []
    },
    {
      "cell_type": "code",
      "source": [
        "trainer = Trainer(\n",
        "    model,\n",
        "    args,\n",
        "    train_dataset=tokenized_datasets[\"train\"],\n",
        "    eval_dataset=tokenized_datasets[\"test\"],\n",
        "    data_collator=data_collator,\n",
        "    tokenizer=tokenizer,\n",
        ")"
      ],
      "metadata": {
        "colab": {
          "base_uri": "https://localhost:8080/"
        },
        "id": "-MbgN6-0bsT1",
        "outputId": "4c8e13e7-c94b-4176-f8bb-694f329319c9"
      },
      "execution_count": 44,
      "outputs": [
        {
          "output_type": "stream",
          "name": "stderr",
          "text": [
            "Cloning https://huggingface.co/nntadotzip/bert-base-cased-IUChatbot-ontologyDts into local empty directory.\n"
          ]
        }
      ]
    },
    {
      "cell_type": "code",
      "source": [
        "trainer.train()"
      ],
      "metadata": {
        "colab": {
          "base_uri": "https://localhost:8080/",
          "height": 780
        },
        "id": "85xwCTIubuol",
        "outputId": "961a61e3-d7ea-4a6b-c7d5-f204d4be0260"
      },
      "execution_count": 45,
      "outputs": [
        {
          "output_type": "stream",
          "name": "stderr",
          "text": [
            "***** Running training *****\n",
            "  Num examples = 3053\n",
            "  Num Epochs = 3\n",
            "  Instantaneous batch size per device = 8\n",
            "  Total train batch size (w. parallel, distributed & accumulation) = 8\n",
            "  Gradient Accumulation steps = 1\n",
            "  Total optimization steps = 1146\n"
          ]
        },
        {
          "output_type": "display_data",
          "data": {
            "text/html": [
              "\n",
              "    <div>\n",
              "      \n",
              "      <progress value='1146' max='1146' style='width:300px; height:20px; vertical-align: middle;'></progress>\n",
              "      [1146/1146 18:21, Epoch 3/3]\n",
              "    </div>\n",
              "    <table border=\"1\" class=\"dataframe\">\n",
              "  <thead>\n",
              "    <tr style=\"text-align: left;\">\n",
              "      <th>Epoch</th>\n",
              "      <th>Training Loss</th>\n",
              "      <th>Validation Loss</th>\n",
              "    </tr>\n",
              "  </thead>\n",
              "  <tbody>\n",
              "    <tr>\n",
              "      <td>1</td>\n",
              "      <td>No log</td>\n",
              "      <td>0.268627</td>\n",
              "    </tr>\n",
              "    <tr>\n",
              "      <td>2</td>\n",
              "      <td>0.394600</td>\n",
              "      <td>0.253490</td>\n",
              "    </tr>\n",
              "    <tr>\n",
              "      <td>3</td>\n",
              "      <td>0.257700</td>\n",
              "      <td>0.244631</td>\n",
              "    </tr>\n",
              "  </tbody>\n",
              "</table><p>"
            ],
            "text/plain": [
              "<IPython.core.display.HTML object>"
            ]
          },
          "metadata": {}
        },
        {
          "output_type": "stream",
          "name": "stderr",
          "text": [
            "***** Running Evaluation *****\n",
            "  Num examples = 347\n",
            "  Batch size = 8\n",
            "Saving model checkpoint to bert-base-cased-iuChatbot-ontologyDts/checkpoint-500\n",
            "Configuration saved in bert-base-cased-iuChatbot-ontologyDts/checkpoint-500/config.json\n",
            "Model weights saved in bert-base-cased-iuChatbot-ontologyDts/checkpoint-500/pytorch_model.bin\n",
            "tokenizer config file saved in bert-base-cased-iuChatbot-ontologyDts/checkpoint-500/tokenizer_config.json\n",
            "Special tokens file saved in bert-base-cased-iuChatbot-ontologyDts/checkpoint-500/special_tokens_map.json\n",
            "tokenizer config file saved in bert-base-cased-iuChatbot-ontologyDts/tokenizer_config.json\n",
            "Special tokens file saved in bert-base-cased-iuChatbot-ontologyDts/special_tokens_map.json\n",
            "***** Running Evaluation *****\n",
            "  Num examples = 347\n",
            "  Batch size = 8\n",
            "Saving model checkpoint to bert-base-cased-iuChatbot-ontologyDts/checkpoint-1000\n",
            "Configuration saved in bert-base-cased-iuChatbot-ontologyDts/checkpoint-1000/config.json\n",
            "Model weights saved in bert-base-cased-iuChatbot-ontologyDts/checkpoint-1000/pytorch_model.bin\n",
            "tokenizer config file saved in bert-base-cased-iuChatbot-ontologyDts/checkpoint-1000/tokenizer_config.json\n",
            "Special tokens file saved in bert-base-cased-iuChatbot-ontologyDts/checkpoint-1000/special_tokens_map.json\n",
            "***** Running Evaluation *****\n",
            "  Num examples = 347\n",
            "  Batch size = 8\n",
            "\n",
            "\n",
            "Training completed. Do not forget to share your model on huggingface.co/models =)\n",
            "\n",
            "\n"
          ]
        },
        {
          "output_type": "execute_result",
          "data": {
            "text/plain": [
              "TrainOutput(global_step=1146, training_loss=0.31471051387553856, metrics={'train_runtime': 1102.6747, 'train_samples_per_second': 8.306, 'train_steps_per_second': 1.039, 'total_flos': 2393216994945024.0, 'train_loss': 0.31471051387553856, 'epoch': 3.0})"
            ]
          },
          "metadata": {},
          "execution_count": 45
        }
      ]
    },
    {
      "cell_type": "code",
      "source": [
        "trainer.save_model(\"test-squad-trained\")"
      ],
      "metadata": {
        "colab": {
          "base_uri": "https://localhost:8080/"
        },
        "id": "um1v8P5gjI2O",
        "outputId": "9a23caea-3952-43af-aa40-43c93ec9db0c"
      },
      "execution_count": 46,
      "outputs": [
        {
          "output_type": "stream",
          "name": "stderr",
          "text": [
            "Saving model checkpoint to test-squad-trained\n",
            "Configuration saved in test-squad-trained/config.json\n",
            "Model weights saved in test-squad-trained/pytorch_model.bin\n",
            "tokenizer config file saved in test-squad-trained/tokenizer_config.json\n",
            "Special tokens file saved in test-squad-trained/special_tokens_map.json\n"
          ]
        }
      ]
    },
    {
      "cell_type": "markdown",
      "source": [
        "# Evaluation"
      ],
      "metadata": {
        "id": "0rHylkKUMvgc"
      }
    },
    {
      "cell_type": "code",
      "source": [
        "import torch\n",
        "\n",
        "for batch in trainer.get_eval_dataloader():\n",
        "    break\n",
        "batch = {k: v.to(trainer.args.device) for k, v in batch.items()}\n",
        "with torch.no_grad():\n",
        "    output = trainer.model(**batch)\n",
        "output.keys()"
      ],
      "metadata": {
        "colab": {
          "base_uri": "https://localhost:8080/"
        },
        "id": "EpPDJkGskzRC",
        "outputId": "c7510e59-b8df-4bbb-d96a-768ec3761a47"
      },
      "execution_count": 47,
      "outputs": [
        {
          "output_type": "execute_result",
          "data": {
            "text/plain": [
              "odict_keys(['loss', 'start_logits', 'end_logits'])"
            ]
          },
          "metadata": {},
          "execution_count": 47
        }
      ]
    },
    {
      "cell_type": "code",
      "source": [
        "output.start_logits.shape, output.end_logits.shape"
      ],
      "metadata": {
        "colab": {
          "base_uri": "https://localhost:8080/"
        },
        "id": "P-BC0FACNTGg",
        "outputId": "59929ecb-a1f0-4e32-b6c2-2d8ae94bfb9c"
      },
      "execution_count": 48,
      "outputs": [
        {
          "output_type": "execute_result",
          "data": {
            "text/plain": [
              "(torch.Size([8, 512]), torch.Size([8, 512]))"
            ]
          },
          "metadata": {},
          "execution_count": 48
        }
      ]
    },
    {
      "cell_type": "code",
      "source": [
        "output.start_logits.argmax(dim=-1), output.end_logits.argmax(dim=-1)"
      ],
      "metadata": {
        "colab": {
          "base_uri": "https://localhost:8080/"
        },
        "id": "BG-88zMuNVfX",
        "outputId": "dc36449a-f880-4564-e6ad-800f34780e50"
      },
      "execution_count": 49,
      "outputs": [
        {
          "output_type": "execute_result",
          "data": {
            "text/plain": [
              "(tensor([0, 0, 0, 0, 0, 0, 0, 0], device='cuda:0'),\n",
              " tensor([0, 0, 0, 0, 0, 0, 0, 0], device='cuda:0'))"
            ]
          },
          "metadata": {},
          "execution_count": 49
        }
      ]
    },
    {
      "cell_type": "code",
      "source": [
        "n_best_size = 20"
      ],
      "metadata": {
        "id": "1GABMlbwNYt3"
      },
      "execution_count": 50,
      "outputs": []
    },
    {
      "cell_type": "code",
      "source": [
        "import numpy as np\n",
        "\n",
        "start_logits = output.start_logits[0].cpu().numpy()\n",
        "end_logits = output.end_logits[0].cpu().numpy()\n",
        "# Gather the indices the best start/end logits:\n",
        "start_indexes = np.argsort(start_logits)[-1 : -n_best_size - 1 : -1].tolist()\n",
        "end_indexes = np.argsort(end_logits)[-1 : -n_best_size - 1 : -1].tolist()\n",
        "valid_answers = []\n",
        "for start_index in start_indexes:\n",
        "    for end_index in end_indexes:\n",
        "        if start_index <= end_index: # We need to refine that test to check the answer is inside the context\n",
        "            valid_answers.append(\n",
        "                {\n",
        "                    \"score\": start_logits[start_index] + end_logits[end_index],\n",
        "                    \"text\": \"\" # We need to find a way to get back the original substring corresponding to the answer in the context\n",
        "                }\n",
        "            )"
      ],
      "metadata": {
        "id": "_Sb350ZyNc8x"
      },
      "execution_count": 51,
      "outputs": []
    },
    {
      "cell_type": "code",
      "source": [
        "def prepare_validation_features(examples):\n",
        "    # Some of the questions have lots of whitespace on the left, which is not useful and will make the\n",
        "    # truncation of the context fail (the tokenized question will take a lots of space). So we remove that\n",
        "    # left whitespace\n",
        "    examples[\"question\"] = [q.lstrip() for q in examples[\"question\"]]\n",
        "\n",
        "    # Tokenize our examples with truncation and maybe padding, but keep the overflows using a stride. This results\n",
        "    # in one example possible giving several features when a context is long, each of those features having a\n",
        "    # context that overlaps a bit the context of the previous feature.\n",
        "    tokenized_examples = tokenizer(\n",
        "        examples[\"question\" if pad_on_right else \"context\"],\n",
        "        examples[\"context\" if pad_on_right else \"question\"],\n",
        "        truncation=\"only_second\" if pad_on_right else \"only_first\",\n",
        "        max_length=max_length,\n",
        "        stride=doc_stride,\n",
        "        return_overflowing_tokens=True,\n",
        "        return_offsets_mapping=True,\n",
        "        padding=\"max_length\",\n",
        "    )\n",
        "\n",
        "    # Since one example might give us several features if it has a long context, we need a map from a feature to\n",
        "    # its corresponding example. This key gives us just that.\n",
        "    sample_mapping = tokenized_examples.pop(\"overflow_to_sample_mapping\")\n",
        "\n",
        "    # We keep the example_id that gave us this feature and we will store the offset mappings.\n",
        "    tokenized_examples[\"example_id\"] = []\n",
        "\n",
        "    for i in range(len(tokenized_examples[\"input_ids\"])):\n",
        "        # Grab the sequence corresponding to that example (to know what is the context and what is the question).\n",
        "        sequence_ids = tokenized_examples.sequence_ids(i)\n",
        "        context_index = 1 if pad_on_right else 0\n",
        "\n",
        "        # One example can give several spans, this is the index of the example containing this span of text.\n",
        "        sample_index = sample_mapping[i]\n",
        "        tokenized_examples[\"example_id\"].append(examples[\"id\"][sample_index])\n",
        "\n",
        "        # Set to None the offset_mapping that are not part of the context so it's easy to determine if a token\n",
        "        # position is part of the context or not.\n",
        "        tokenized_examples[\"offset_mapping\"][i] = [\n",
        "            (o if sequence_ids[k] == context_index else None)\n",
        "            for k, o in enumerate(tokenized_examples[\"offset_mapping\"][i])\n",
        "        ]\n",
        "\n",
        "    return tokenized_examples"
      ],
      "metadata": {
        "id": "T0DAKkB6NfNa"
      },
      "execution_count": 52,
      "outputs": []
    },
    {
      "cell_type": "code",
      "source": [
        "validation_features = dataset[\"test\"].map(\n",
        "    prepare_validation_features,\n",
        "    batched=True,\n",
        "    remove_columns=dataset[\"test\"].column_names\n",
        ")"
      ],
      "metadata": {
        "colab": {
          "base_uri": "https://localhost:8080/",
          "height": 49,
          "referenced_widgets": [
            "6ad786eeb5c548fca1ed1ee53b95afba",
            "cb5c7c9440a24c0f8a4f45943156f103",
            "2da7acf14d69496b83b5845520971e5d",
            "1c9c597032e849d18fcb82f45e44718b",
            "595a9031dcef4f53af66505f5d70f580",
            "d73866f40ea04ad3a1199b780fed060a",
            "8adefa23bbd94f41beae128c1993e891",
            "981fb6ee46804e9b91270e89bde82383",
            "7128a55680d549ca9f273d536e7926e8",
            "d361fea6bc65429db6d54fa87517a397",
            "a9449d444f214c3b99804fce2b8c4c50"
          ]
        },
        "id": "I6Mx4dQvNkFJ",
        "outputId": "304b7162-92bc-4b3f-99f2-3bd04133cb24"
      },
      "execution_count": 55,
      "outputs": [
        {
          "output_type": "display_data",
          "data": {
            "application/vnd.jupyter.widget-view+json": {
              "model_id": "6ad786eeb5c548fca1ed1ee53b95afba",
              "version_minor": 0,
              "version_major": 2
            },
            "text/plain": [
              "  0%|          | 0/1 [00:00<?, ?ba/s]"
            ]
          },
          "metadata": {}
        }
      ]
    },
    {
      "cell_type": "code",
      "source": [
        "raw_predictions = trainer.predict(validation_features)"
      ],
      "metadata": {
        "colab": {
          "base_uri": "https://localhost:8080/",
          "height": 126
        },
        "id": "BdupZhwsNmK2",
        "outputId": "1b654663-6e3b-44e4-97c0-a1fbc68632c6"
      },
      "execution_count": 56,
      "outputs": [
        {
          "output_type": "stream",
          "name": "stderr",
          "text": [
            "The following columns in the test set  don't have a corresponding argument in `BertForQuestionAnswering.forward` and have been ignored: offset_mapping, example_id.\n",
            "***** Running Prediction *****\n",
            "  Num examples = 347\n",
            "  Batch size = 8\n"
          ]
        },
        {
          "output_type": "display_data",
          "data": {
            "text/html": [
              "\n",
              "    <div>\n",
              "      \n",
              "      <progress value='44' max='44' style='width:300px; height:20px; vertical-align: middle;'></progress>\n",
              "      [44/44 00:12]\n",
              "    </div>\n",
              "    "
            ],
            "text/plain": [
              "<IPython.core.display.HTML object>"
            ]
          },
          "metadata": {}
        }
      ]
    },
    {
      "cell_type": "code",
      "source": [
        "validation_features.set_format(type=validation_features.format[\"type\"], columns=list(validation_features.features.keys()))"
      ],
      "metadata": {
        "id": "OY3sFCOlNv2a"
      },
      "execution_count": 57,
      "outputs": []
    },
    {
      "cell_type": "code",
      "source": [
        "max_answer_length = 30"
      ],
      "metadata": {
        "id": "2e_T_0wIN4AI"
      },
      "execution_count": 58,
      "outputs": []
    },
    {
      "cell_type": "code",
      "source": [
        "start_logits = output.start_logits[0].cpu().numpy()\n",
        "end_logits = output.end_logits[0].cpu().numpy()\n",
        "offset_mapping = validation_features[0][\"offset_mapping\"]\n",
        "# The first feature comes from the first example. For the more general case, we will need to be match the example_id to\n",
        "# an example index\n",
        "context = dataset[\"test\"][0][\"context\"]\n",
        "\n",
        "# Gather the indices the best start/end logits:\n",
        "start_indexes = np.argsort(start_logits)[-1 : -n_best_size - 1 : -1].tolist()\n",
        "end_indexes = np.argsort(end_logits)[-1 : -n_best_size - 1 : -1].tolist()\n",
        "valid_answers = []\n",
        "for start_index in start_indexes:\n",
        "    for end_index in end_indexes:\n",
        "        # Don't consider out-of-scope answers, either because the indices are out of bounds or correspond\n",
        "        # to part of the input_ids that are not in the context.\n",
        "        if (\n",
        "            start_index >= len(offset_mapping)\n",
        "            or end_index >= len(offset_mapping)\n",
        "            or offset_mapping[start_index] is None\n",
        "            or offset_mapping[end_index] is None\n",
        "        ):\n",
        "            continue\n",
        "        # Don't consider answers with a length that is either < 0 or > max_answer_length.\n",
        "        if end_index < start_index or end_index - start_index + 1 > max_answer_length:\n",
        "            continue\n",
        "        if start_index <= end_index: # We need to refine that test to check the answer is inside the context\n",
        "            start_char = offset_mapping[start_index][0]\n",
        "            end_char = offset_mapping[end_index][1]\n",
        "            valid_answers.append(\n",
        "                {\n",
        "                    \"score\": start_logits[start_index] + end_logits[end_index],\n",
        "                    \"text\": context[start_char: end_char]\n",
        "                }\n",
        "            )\n",
        "\n",
        "valid_answers = sorted(valid_answers, key=lambda x: x[\"score\"], reverse=True)[:n_best_size]\n",
        "valid_answers"
      ],
      "metadata": {
        "colab": {
          "base_uri": "https://localhost:8080/"
        },
        "id": "vG2tcXiLN6uk",
        "outputId": "58401fb8-f300-4644-c5a6-b73cf4274849"
      },
      "execution_count": 60,
      "outputs": [
        {
          "output_type": "execute_result",
          "data": {
            "text/plain": [
              "[{'score': -0.9838636, 'text': 'Ng'},\n",
              " {'score': -3.721793, 'text': '0'},\n",
              " {'score': -7.2184315, 'text': '0, TOEFL iBT 60'},\n",
              " {'score': -7.5242615, 'text': 'Ngành Kỹ thuật Hệ thống Công'},\n",
              " {'score': -7.6598473, 'text': '0, TOEFL iBT 60)).'},\n",
              " {'score': -7.690901,\n",
              "  'text': 'Ngành Kỹ thuật Hệ thống Công nghiệp (Mã ngành: 75'},\n",
              " {'score': -7.833898, 'text': 'Ngành Kỹ thuật Hệ thống'},\n",
              " {'score': -9.825802,\n",
              "  'text': '0, TOEFL iBT 60)). Ngành Kỹ thuật Hệ thống Công'},\n",
              " {'score': -10.135438, 'text': '0, TOEFL iBT 60)). Ngành Kỹ thuật Hệ thống'},\n",
              " {'score': -12.447738, 'text': 'ngành: 7520118'},\n",
              " {'score': -12.572287,\n",
              "  'text': 'ngành: 7520118) Chương trình: Trong nước Chương'},\n",
              " {'score': -12.604315, 'text': 'ngành: 752011'},\n",
              " {'score': -12.636009, 'text': 'ngành: 7520118) Chương'},\n",
              " {'score': -12.660608, 'text': 'ngành: 75'}]"
            ]
          },
          "metadata": {},
          "execution_count": 60
        }
      ]
    },
    {
      "cell_type": "code",
      "source": [
        "dataset[\"test\"][0][\"answers\"]"
      ],
      "metadata": {
        "colab": {
          "base_uri": "https://localhost:8080/"
        },
        "id": "SpI94N51N8v0",
        "outputId": "8095313a-e78e-4af7-f975-c0b3d1a8531f"
      },
      "execution_count": 61,
      "outputs": [
        {
          "output_type": "execute_result",
          "data": {
            "text/plain": [
              "{'answer_start': [0],\n",
              " 'text': ['Ngành Công nghệ Thực phẩm (Mã ngành: 7540101) Chương trình: Trong nước Chương trình đào tạo ngành CNTP tại Trường Đai học Quốc tế được thiết kế nhằm đào tạo các kỹ sư CNTP, có những nét chính như sau:, Cung cấp kiến thức rộng, cân bằng về các khoa học thực phẩm và kỹ thuật thực phẩm Cung cấp kiến thức cơ bản về quản lý thực phẩm (bao gồm cả quản lý sản xuất, chất lượng, vệ sinh an toàn thực phẩm và vệ sinh môi trường) Chú trọng đến kỹ năng thực hành và khả năng tiếp cận với thiết bị công nghệ cao Giảng dạy hoàn toàn bằng tiếng Anh (kỹ sư sau khi tốt nghiệp sẽ đạt trình độ tiếng Anh TOEF pBT 550 hoặc tương đương (IELTS 6.0, TOEFL iBT 60)).']}"
            ]
          },
          "metadata": {},
          "execution_count": 61
        }
      ]
    },
    {
      "cell_type": "code",
      "source": [
        "import collections\n",
        "\n",
        "examples = dataset[\"test\"]\n",
        "features = validation_features\n",
        "\n",
        "example_id_to_index = {k: i for i, k in enumerate(examples[\"id\"])}\n",
        "features_per_example = collections.defaultdict(list)\n",
        "for i, feature in enumerate(features):\n",
        "    features_per_example[example_id_to_index[feature[\"example_id\"]]].append(i)"
      ],
      "metadata": {
        "id": "JhcYOvd3OGdb"
      },
      "execution_count": 63,
      "outputs": []
    },
    {
      "cell_type": "code",
      "source": [
        "from tqdm.auto import tqdm\n",
        "\n",
        "def postprocess_qa_predictions(examples, features, raw_predictions, n_best_size = 20, max_answer_length = 30):\n",
        "    all_start_logits, all_end_logits = raw_predictions\n",
        "    # Build a map example to its corresponding features.\n",
        "    example_id_to_index = {k: i for i, k in enumerate(examples[\"id\"])}\n",
        "    features_per_example = collections.defaultdict(list)\n",
        "    for i, feature in enumerate(features):\n",
        "        features_per_example[example_id_to_index[feature[\"example_id\"]]].append(i)\n",
        "\n",
        "    # The dictionaries we have to fill.\n",
        "    predictions = collections.OrderedDict()\n",
        "\n",
        "    # Logging.\n",
        "    print(f\"Post-processing {len(examples)} example predictions split into {len(features)} features.\")\n",
        "\n",
        "    # Let's loop over all the examples!\n",
        "    for example_index, example in enumerate(tqdm(examples)):\n",
        "        # Those are the indices of the features associated to the current example.\n",
        "        feature_indices = features_per_example[example_index]\n",
        "\n",
        "        min_null_score = None # Only used if squad_v2 is True.\n",
        "        valid_answers = []\n",
        "        \n",
        "        context = example[\"context\"]\n",
        "        # Looping through all the features associated to the current example.\n",
        "        for feature_index in feature_indices:\n",
        "            # We grab the predictions of the model for this feature.\n",
        "            start_logits = all_start_logits[feature_index]\n",
        "            end_logits = all_end_logits[feature_index]\n",
        "            # This is what will allow us to map some the positions in our logits to span of texts in the original\n",
        "            # context.\n",
        "            offset_mapping = features[feature_index][\"offset_mapping\"]\n",
        "\n",
        "            # Update minimum null prediction.\n",
        "            cls_index = features[feature_index][\"input_ids\"].index(tokenizer.cls_token_id)\n",
        "            feature_null_score = start_logits[cls_index] + end_logits[cls_index]\n",
        "            if min_null_score is None or min_null_score < feature_null_score:\n",
        "                min_null_score = feature_null_score\n",
        "\n",
        "            # Go through all possibilities for the `n_best_size` greater start and end logits.\n",
        "            start_indexes = np.argsort(start_logits)[-1 : -n_best_size - 1 : -1].tolist()\n",
        "            end_indexes = np.argsort(end_logits)[-1 : -n_best_size - 1 : -1].tolist()\n",
        "            for start_index in start_indexes:\n",
        "                for end_index in end_indexes:\n",
        "                    # Don't consider out-of-scope answers, either because the indices are out of bounds or correspond\n",
        "                    # to part of the input_ids that are not in the context.\n",
        "                    if (\n",
        "                        start_index >= len(offset_mapping)\n",
        "                        or end_index >= len(offset_mapping)\n",
        "                        or offset_mapping[start_index] is None\n",
        "                        or offset_mapping[end_index] is None\n",
        "                    ):\n",
        "                        continue\n",
        "                    # Don't consider answers with a length that is either < 0 or > max_answer_length.\n",
        "                    if end_index < start_index or end_index - start_index + 1 > max_answer_length:\n",
        "                        continue\n",
        "\n",
        "                    start_char = offset_mapping[start_index][0]\n",
        "                    end_char = offset_mapping[end_index][1]\n",
        "                    valid_answers.append(\n",
        "                        {\n",
        "                            \"score\": start_logits[start_index] + end_logits[end_index],\n",
        "                            \"text\": context[start_char: end_char]\n",
        "                        }\n",
        "                    )\n",
        "        \n",
        "        if len(valid_answers) > 0:\n",
        "            best_answer = sorted(valid_answers, key=lambda x: x[\"score\"], reverse=True)[0]\n",
        "        else:\n",
        "            # In the very rare edge case we have not a single non-null prediction, we create a fake prediction to avoid\n",
        "            # failure.\n",
        "            best_answer = {\"text\": \"\", \"score\": 0.0}\n",
        "        \n",
        "        # Let's pick our final answer: the best one or the null answer (only for squad_v2)\n",
        "        # if not squad_v2:\n",
        "            # predictions[example[\"id\"]] = best_answer[\"text\"]\n",
        "        # else:\n",
        "        answer = best_answer[\"text\"] if best_answer[\"score\"] > min_null_score else \"\"\n",
        "        predictions[example[\"id\"]] = answer\n",
        "\n",
        "    return predictions"
      ],
      "metadata": {
        "id": "VWjqqDaEOO44"
      },
      "execution_count": 79,
      "outputs": []
    },
    {
      "cell_type": "code",
      "source": [
        "final_predictions = postprocess_qa_predictions(dataset[\"test\"], validation_features, raw_predictions.predictions)"
      ],
      "metadata": {
        "colab": {
          "base_uri": "https://localhost:8080/",
          "height": 66,
          "referenced_widgets": [
            "e8dc9a858cad4da4a51ebc7d5a086849",
            "b00fed762360453fbfc5ac8532c5fccf",
            "d5d9b83422494e6cb3186028ac905c15",
            "0d9520624f814b4c9398794820ab773b",
            "5fbf5f56262b4474aa0f312c9debf4ed",
            "47e22d5452f34011b39f3c90b4fe0222",
            "5fb019f03c184251a119d21ed6b491b8",
            "065b6386c20242f987341ee3c4b996ba",
            "19aa152d314945388a5f7a1b4975091a",
            "bdaa076671de4ab7994ee7f027591ce1",
            "e24e374da7e24c169bea917fb43e1092"
          ]
        },
        "id": "N9MGa718OU2i",
        "outputId": "c329f6ea-79f9-409d-bef3-da05205225e3"
      },
      "execution_count": 80,
      "outputs": [
        {
          "output_type": "stream",
          "name": "stdout",
          "text": [
            "Post-processing 19 example predictions split into 347 features.\n"
          ]
        },
        {
          "output_type": "display_data",
          "data": {
            "application/vnd.jupyter.widget-view+json": {
              "model_id": "e8dc9a858cad4da4a51ebc7d5a086849",
              "version_minor": 0,
              "version_major": 2
            },
            "text/plain": [
              "  0%|          | 0/19 [00:00<?, ?it/s]"
            ]
          },
          "metadata": {}
        }
      ]
    },
    {
      "cell_type": "code",
      "source": [
        "from datasets import load_metric\n",
        "metric = load_metric(\"squad_v2\")"
      ],
      "metadata": {
        "id": "PQfOVo-dO1Kj"
      },
      "execution_count": 81,
      "outputs": []
    },
    {
      "cell_type": "code",
      "source": [
        "formatted_predictions = [{\"id\": k, \"prediction_text\": v, \"no_answer_probability\": 0.0} for k, v in final_predictions.items()]\n",
        "references = [{\"id\": ex[\"id\"], \"answers\": ex[\"answers\"]} for ex in dataset[\"test\"]]\n",
        "metric.compute(predictions=formatted_predictions, references=references)"
      ],
      "metadata": {
        "colab": {
          "base_uri": "https://localhost:8080/"
        },
        "id": "29tg35VuOXcV",
        "outputId": "2f2e582d-a787-445b-ad25-43fac7537c2a"
      },
      "execution_count": 82,
      "outputs": [
        {
          "output_type": "execute_result",
          "data": {
            "text/plain": [
              "{'HasAns_exact': 0.0,\n",
              " 'HasAns_f1': 0.0,\n",
              " 'HasAns_total': 19,\n",
              " 'best_exact': 0.0,\n",
              " 'best_exact_thresh': 0.0,\n",
              " 'best_f1': 0.0,\n",
              " 'best_f1_thresh': 0.0,\n",
              " 'exact': 0.0,\n",
              " 'f1': 0.0,\n",
              " 'total': 19}"
            ]
          },
          "metadata": {},
          "execution_count": 82
        }
      ]
    },
    {
      "cell_type": "code",
      "source": [
        "trainer.push_to_hub()"
      ],
      "metadata": {
        "colab": {
          "base_uri": "https://localhost:8080/",
          "height": 405,
          "referenced_widgets": [
            "00caae47ce1a42cfbd5ce9676e376616",
            "c9f439e80c294efa8b6599f5f9f28761",
            "eee2705c3040413782f20fa2b1825bee",
            "5c08e93e8c5d418da77d8aaa81159f32",
            "8d1ae14bf22947a190f3894654f3abd7",
            "0868a0ac5aed4836a3c8092226022812",
            "b7ae3b72dab240d898311b0adc6de4ba",
            "b31c7a4eebe244f98fc9612841ca07c1",
            "239ecbba6d8944fda1b7b62683f216e3",
            "9613748ac5ec42d59a73ca5f421fb3ba",
            "ed546894dec449f5a383aa42049719c8",
            "8169af39d132431d9182b1abbc07e8c7",
            "2a461d61d03b4207b33135f821ba5ae0",
            "a8b91fd13ffd4f68976a13a0428d5fef",
            "07776404062e4767b6075f21723c0023",
            "2a7e9d18edf4451581411e3450d73c30",
            "aed27a90e81149d68336c9fca41ed6a0",
            "972fcaa77bb046a2964c79331351eb1d",
            "db4601fb91514003b02f16170063bad4",
            "f5d6277f38604089aa766291076ea834",
            "8d536334e71c43ffac1d9432b04aeeea",
            "501a3e5396cd404cb07bda33101cd6d5"
          ]
        },
        "id": "aOjDZq8POu7s",
        "outputId": "0c4f7d52-b531-49a4-f97a-919f274b35b7"
      },
      "execution_count": 83,
      "outputs": [
        {
          "output_type": "stream",
          "name": "stderr",
          "text": [
            "Saving model checkpoint to bert-base-cased-iuChatbot-ontologyDts\n",
            "Configuration saved in bert-base-cased-iuChatbot-ontologyDts/config.json\n",
            "Model weights saved in bert-base-cased-iuChatbot-ontologyDts/pytorch_model.bin\n",
            "tokenizer config file saved in bert-base-cased-iuChatbot-ontologyDts/tokenizer_config.json\n",
            "Special tokens file saved in bert-base-cased-iuChatbot-ontologyDts/special_tokens_map.json\n",
            "Several commits (2) will be pushed upstream.\n",
            "The progress bars may be unreliable.\n"
          ]
        },
        {
          "output_type": "display_data",
          "data": {
            "application/vnd.jupyter.widget-view+json": {
              "model_id": "00caae47ce1a42cfbd5ce9676e376616",
              "version_minor": 0,
              "version_major": 2
            },
            "text/plain": [
              "Upload file pytorch_model.bin:   0%|          | 3.36k/411M [00:00<?, ?B/s]"
            ]
          },
          "metadata": {}
        },
        {
          "output_type": "display_data",
          "data": {
            "application/vnd.jupyter.widget-view+json": {
              "model_id": "8169af39d132431d9182b1abbc07e8c7",
              "version_minor": 0,
              "version_major": 2
            },
            "text/plain": [
              "Upload file runs/Jan20_15-38-31_3593d06438ae/events.out.tfevents.1642693126.3593d06438ae.76.0:  71%|#######   …"
            ]
          },
          "metadata": {}
        },
        {
          "output_type": "stream",
          "name": "stderr",
          "text": [
            "To https://huggingface.co/nntadotzip/bert-base-cased-IUChatbot-ontologyDts\n",
            "   959b16c..907e049  main -> main\n",
            "\n",
            "Dropping the following result as it does not have all the necessary fields:\n",
            "{'task': {'name': 'Question Answering', 'type': 'question-answering'}}\n",
            "To https://huggingface.co/nntadotzip/bert-base-cased-IUChatbot-ontologyDts\n",
            "   907e049..0bcf7ce  main -> main\n",
            "\n"
          ]
        },
        {
          "output_type": "execute_result",
          "data": {
            "application/vnd.google.colaboratory.intrinsic+json": {
              "type": "string"
            },
            "text/plain": [
              "'https://huggingface.co/nntadotzip/bert-base-cased-IUChatbot-ontologyDts/commit/907e0495f96c7fca8580caf734aafa357edc4cd0'"
            ]
          },
          "metadata": {},
          "execution_count": 83
        }
      ]
    },
    {
      "cell_type": "code",
      "source": [
        ""
      ],
      "metadata": {
        "id": "sX1lw_fgRZ_m"
      },
      "execution_count": null,
      "outputs": []
    }
  ]
}