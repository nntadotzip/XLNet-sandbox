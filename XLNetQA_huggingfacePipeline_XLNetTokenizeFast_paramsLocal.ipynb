{
  "nbformat": 4,
  "nbformat_minor": 0,
  "metadata": {
    "colab": {
      "name": "XLNetQA_huggingfacePipeline_XLNetTokenizeFast_paramsLocal.ipynb",
      "provenance": [],
      "authorship_tag": "ABX9TyNnxvgEehnmBFLRvkUIkBDf",
      "include_colab_link": true
    },
    "kernelspec": {
      "name": "python3",
      "display_name": "Python 3"
    },
    "language_info": {
      "name": "python"
    },
    "widgets": {
      "application/vnd.jupyter.widget-state+json": {
        "fc68546189294c10a8d33cc001657b53": {
          "model_module": "@jupyter-widgets/controls",
          "model_name": "VBoxModel",
          "model_module_version": "1.5.0",
          "state": {
            "_view_name": "VBoxView",
            "_dom_classes": [],
            "_model_name": "VBoxModel",
            "_view_module": "@jupyter-widgets/controls",
            "_model_module_version": "1.5.0",
            "_view_count": null,
            "_view_module_version": "1.5.0",
            "box_style": "",
            "layout": "IPY_MODEL_3c903cd73b2c468d8b6628eae4671751",
            "_model_module": "@jupyter-widgets/controls",
            "children": [
              "IPY_MODEL_376ee5379b964326924a84e74e7d4be6",
              "IPY_MODEL_a8fb7387e0894543809abbe04ce08e18",
              "IPY_MODEL_026dc85ab8964addbad244f79fe8cd56",
              "IPY_MODEL_b4e72a3f49014c9c958348679aea3ccb",
              "IPY_MODEL_d8010c3529624d9789f16d331f1ea104"
            ]
          }
        },
        "3c903cd73b2c468d8b6628eae4671751": {
          "model_module": "@jupyter-widgets/base",
          "model_name": "LayoutModel",
          "model_module_version": "1.2.0",
          "state": {
            "_view_name": "LayoutView",
            "grid_template_rows": null,
            "right": null,
            "justify_content": null,
            "_view_module": "@jupyter-widgets/base",
            "overflow": null,
            "_model_module_version": "1.2.0",
            "_view_count": null,
            "flex_flow": "column",
            "width": "50%",
            "min_width": null,
            "border": null,
            "align_items": "center",
            "bottom": null,
            "_model_module": "@jupyter-widgets/base",
            "top": null,
            "grid_column": null,
            "overflow_y": null,
            "overflow_x": null,
            "grid_auto_flow": null,
            "grid_area": null,
            "grid_template_columns": null,
            "flex": null,
            "_model_name": "LayoutModel",
            "justify_items": null,
            "grid_row": null,
            "max_height": null,
            "align_content": null,
            "visibility": null,
            "align_self": null,
            "height": null,
            "min_height": null,
            "padding": null,
            "grid_auto_rows": null,
            "grid_gap": null,
            "max_width": null,
            "order": null,
            "_view_module_version": "1.2.0",
            "grid_template_areas": null,
            "object_position": null,
            "object_fit": null,
            "grid_auto_columns": null,
            "margin": null,
            "display": "flex",
            "left": null
          }
        },
        "376ee5379b964326924a84e74e7d4be6": {
          "model_module": "@jupyter-widgets/controls",
          "model_name": "HTMLModel",
          "model_module_version": "1.5.0",
          "state": {
            "_view_name": "HTMLView",
            "style": "IPY_MODEL_81508ca5dfb24617be7002fdf50e7c65",
            "_dom_classes": [],
            "description": "",
            "_model_name": "HTMLModel",
            "placeholder": "​",
            "_view_module": "@jupyter-widgets/controls",
            "_model_module_version": "1.5.0",
            "value": "<center>\n<img src=https://huggingface.co/front/assets/huggingface_logo-noborder.svg alt='Hugging Face'>\n<br>\nCopy a token from <a href=\"https://huggingface.co/settings/token\" target=\"_blank\">your Hugging Face tokens page</a> and paste it below.\n<br>\nImmediately click login after copying your token or it might be stored in plain text in this notebook file.\n</center>",
            "_view_count": null,
            "_view_module_version": "1.5.0",
            "description_tooltip": null,
            "_model_module": "@jupyter-widgets/controls",
            "layout": "IPY_MODEL_b9c0ad53a5c347b8ae46cceb844f0f0c"
          }
        },
        "a8fb7387e0894543809abbe04ce08e18": {
          "model_module": "@jupyter-widgets/controls",
          "model_name": "PasswordModel",
          "model_module_version": "1.5.0",
          "state": {
            "_view_name": "PasswordView",
            "style": "IPY_MODEL_897c327fbd7745ccac5308574f8e52f5",
            "_dom_classes": [],
            "description": "Token:",
            "_model_name": "PasswordModel",
            "placeholder": "​",
            "_view_module": "@jupyter-widgets/controls",
            "_model_module_version": "1.5.0",
            "value": "",
            "_view_count": null,
            "disabled": false,
            "_view_module_version": "1.5.0",
            "continuous_update": true,
            "description_tooltip": null,
            "_model_module": "@jupyter-widgets/controls",
            "layout": "IPY_MODEL_5dcf31a10a4d4478a954449ee3ea58b3"
          }
        },
        "026dc85ab8964addbad244f79fe8cd56": {
          "model_module": "@jupyter-widgets/controls",
          "model_name": "ButtonModel",
          "model_module_version": "1.5.0",
          "state": {
            "_view_name": "ButtonView",
            "style": "IPY_MODEL_f67778a71a1245a3a28cd633c57cb7dd",
            "_dom_classes": [],
            "description": "Login",
            "_model_name": "ButtonModel",
            "button_style": "",
            "_view_module": "@jupyter-widgets/controls",
            "_model_module_version": "1.5.0",
            "tooltip": "",
            "_view_count": null,
            "disabled": false,
            "_view_module_version": "1.5.0",
            "layout": "IPY_MODEL_35e87721645e42df94e168f5f11d662c",
            "_model_module": "@jupyter-widgets/controls",
            "icon": ""
          }
        },
        "b4e72a3f49014c9c958348679aea3ccb": {
          "model_module": "@jupyter-widgets/controls",
          "model_name": "HTMLModel",
          "model_module_version": "1.5.0",
          "state": {
            "_view_name": "HTMLView",
            "style": "IPY_MODEL_b02552fc75734313b3c15a6c6f576f3d",
            "_dom_classes": [],
            "description": "",
            "_model_name": "HTMLModel",
            "placeholder": "​",
            "_view_module": "@jupyter-widgets/controls",
            "_model_module_version": "1.5.0",
            "value": "\n<b>Pro Tip:</b> If you don't already have one, you can create a dedicated 'notebooks' token with 'write' access, that you can then easily reuse for all notebooks.\n<br>\n<i>Logging in with your username and password is deprecated and won't be possible anymore in the near future. You can still use them for now by clicking below.</i>\n</center>",
            "_view_count": null,
            "_view_module_version": "1.5.0",
            "description_tooltip": null,
            "_model_module": "@jupyter-widgets/controls",
            "layout": "IPY_MODEL_574e609b1ffd4ad990f41b081c271094"
          }
        },
        "d8010c3529624d9789f16d331f1ea104": {
          "model_module": "@jupyter-widgets/controls",
          "model_name": "ButtonModel",
          "model_module_version": "1.5.0",
          "state": {
            "_view_name": "ButtonView",
            "style": "IPY_MODEL_440f071b266149cbbfaa0118f7eb4a72",
            "_dom_classes": [],
            "description": "Use password",
            "_model_name": "ButtonModel",
            "button_style": "",
            "_view_module": "@jupyter-widgets/controls",
            "_model_module_version": "1.5.0",
            "tooltip": "",
            "_view_count": null,
            "disabled": false,
            "_view_module_version": "1.5.0",
            "layout": "IPY_MODEL_4695e06c2bad42a5ae197fadb40c0aaf",
            "_model_module": "@jupyter-widgets/controls",
            "icon": ""
          }
        },
        "81508ca5dfb24617be7002fdf50e7c65": {
          "model_module": "@jupyter-widgets/controls",
          "model_name": "DescriptionStyleModel",
          "model_module_version": "1.5.0",
          "state": {
            "_view_name": "StyleView",
            "_model_name": "DescriptionStyleModel",
            "description_width": "",
            "_view_module": "@jupyter-widgets/base",
            "_model_module_version": "1.5.0",
            "_view_count": null,
            "_view_module_version": "1.2.0",
            "_model_module": "@jupyter-widgets/controls"
          }
        },
        "b9c0ad53a5c347b8ae46cceb844f0f0c": {
          "model_module": "@jupyter-widgets/base",
          "model_name": "LayoutModel",
          "model_module_version": "1.2.0",
          "state": {
            "_view_name": "LayoutView",
            "grid_template_rows": null,
            "right": null,
            "justify_content": null,
            "_view_module": "@jupyter-widgets/base",
            "overflow": null,
            "_model_module_version": "1.2.0",
            "_view_count": null,
            "flex_flow": null,
            "width": null,
            "min_width": null,
            "border": null,
            "align_items": null,
            "bottom": null,
            "_model_module": "@jupyter-widgets/base",
            "top": null,
            "grid_column": null,
            "overflow_y": null,
            "overflow_x": null,
            "grid_auto_flow": null,
            "grid_area": null,
            "grid_template_columns": null,
            "flex": null,
            "_model_name": "LayoutModel",
            "justify_items": null,
            "grid_row": null,
            "max_height": null,
            "align_content": null,
            "visibility": null,
            "align_self": null,
            "height": null,
            "min_height": null,
            "padding": null,
            "grid_auto_rows": null,
            "grid_gap": null,
            "max_width": null,
            "order": null,
            "_view_module_version": "1.2.0",
            "grid_template_areas": null,
            "object_position": null,
            "object_fit": null,
            "grid_auto_columns": null,
            "margin": null,
            "display": null,
            "left": null
          }
        },
        "897c327fbd7745ccac5308574f8e52f5": {
          "model_module": "@jupyter-widgets/controls",
          "model_name": "DescriptionStyleModel",
          "model_module_version": "1.5.0",
          "state": {
            "_view_name": "StyleView",
            "_model_name": "DescriptionStyleModel",
            "description_width": "",
            "_view_module": "@jupyter-widgets/base",
            "_model_module_version": "1.5.0",
            "_view_count": null,
            "_view_module_version": "1.2.0",
            "_model_module": "@jupyter-widgets/controls"
          }
        },
        "5dcf31a10a4d4478a954449ee3ea58b3": {
          "model_module": "@jupyter-widgets/base",
          "model_name": "LayoutModel",
          "model_module_version": "1.2.0",
          "state": {
            "_view_name": "LayoutView",
            "grid_template_rows": null,
            "right": null,
            "justify_content": null,
            "_view_module": "@jupyter-widgets/base",
            "overflow": null,
            "_model_module_version": "1.2.0",
            "_view_count": null,
            "flex_flow": null,
            "width": null,
            "min_width": null,
            "border": null,
            "align_items": null,
            "bottom": null,
            "_model_module": "@jupyter-widgets/base",
            "top": null,
            "grid_column": null,
            "overflow_y": null,
            "overflow_x": null,
            "grid_auto_flow": null,
            "grid_area": null,
            "grid_template_columns": null,
            "flex": null,
            "_model_name": "LayoutModel",
            "justify_items": null,
            "grid_row": null,
            "max_height": null,
            "align_content": null,
            "visibility": null,
            "align_self": null,
            "height": null,
            "min_height": null,
            "padding": null,
            "grid_auto_rows": null,
            "grid_gap": null,
            "max_width": null,
            "order": null,
            "_view_module_version": "1.2.0",
            "grid_template_areas": null,
            "object_position": null,
            "object_fit": null,
            "grid_auto_columns": null,
            "margin": null,
            "display": null,
            "left": null
          }
        },
        "f67778a71a1245a3a28cd633c57cb7dd": {
          "model_module": "@jupyter-widgets/controls",
          "model_name": "ButtonStyleModel",
          "model_module_version": "1.5.0",
          "state": {
            "_view_name": "StyleView",
            "_model_name": "ButtonStyleModel",
            "_view_module": "@jupyter-widgets/base",
            "_model_module_version": "1.5.0",
            "_view_count": null,
            "button_color": null,
            "font_weight": "",
            "_view_module_version": "1.2.0",
            "_model_module": "@jupyter-widgets/controls"
          }
        },
        "35e87721645e42df94e168f5f11d662c": {
          "model_module": "@jupyter-widgets/base",
          "model_name": "LayoutModel",
          "model_module_version": "1.2.0",
          "state": {
            "_view_name": "LayoutView",
            "grid_template_rows": null,
            "right": null,
            "justify_content": null,
            "_view_module": "@jupyter-widgets/base",
            "overflow": null,
            "_model_module_version": "1.2.0",
            "_view_count": null,
            "flex_flow": null,
            "width": null,
            "min_width": null,
            "border": null,
            "align_items": null,
            "bottom": null,
            "_model_module": "@jupyter-widgets/base",
            "top": null,
            "grid_column": null,
            "overflow_y": null,
            "overflow_x": null,
            "grid_auto_flow": null,
            "grid_area": null,
            "grid_template_columns": null,
            "flex": null,
            "_model_name": "LayoutModel",
            "justify_items": null,
            "grid_row": null,
            "max_height": null,
            "align_content": null,
            "visibility": null,
            "align_self": null,
            "height": null,
            "min_height": null,
            "padding": null,
            "grid_auto_rows": null,
            "grid_gap": null,
            "max_width": null,
            "order": null,
            "_view_module_version": "1.2.0",
            "grid_template_areas": null,
            "object_position": null,
            "object_fit": null,
            "grid_auto_columns": null,
            "margin": null,
            "display": null,
            "left": null
          }
        },
        "b02552fc75734313b3c15a6c6f576f3d": {
          "model_module": "@jupyter-widgets/controls",
          "model_name": "DescriptionStyleModel",
          "model_module_version": "1.5.0",
          "state": {
            "_view_name": "StyleView",
            "_model_name": "DescriptionStyleModel",
            "description_width": "",
            "_view_module": "@jupyter-widgets/base",
            "_model_module_version": "1.5.0",
            "_view_count": null,
            "_view_module_version": "1.2.0",
            "_model_module": "@jupyter-widgets/controls"
          }
        },
        "574e609b1ffd4ad990f41b081c271094": {
          "model_module": "@jupyter-widgets/base",
          "model_name": "LayoutModel",
          "model_module_version": "1.2.0",
          "state": {
            "_view_name": "LayoutView",
            "grid_template_rows": null,
            "right": null,
            "justify_content": null,
            "_view_module": "@jupyter-widgets/base",
            "overflow": null,
            "_model_module_version": "1.2.0",
            "_view_count": null,
            "flex_flow": null,
            "width": null,
            "min_width": null,
            "border": null,
            "align_items": null,
            "bottom": null,
            "_model_module": "@jupyter-widgets/base",
            "top": null,
            "grid_column": null,
            "overflow_y": null,
            "overflow_x": null,
            "grid_auto_flow": null,
            "grid_area": null,
            "grid_template_columns": null,
            "flex": null,
            "_model_name": "LayoutModel",
            "justify_items": null,
            "grid_row": null,
            "max_height": null,
            "align_content": null,
            "visibility": null,
            "align_self": null,
            "height": null,
            "min_height": null,
            "padding": null,
            "grid_auto_rows": null,
            "grid_gap": null,
            "max_width": null,
            "order": null,
            "_view_module_version": "1.2.0",
            "grid_template_areas": null,
            "object_position": null,
            "object_fit": null,
            "grid_auto_columns": null,
            "margin": null,
            "display": null,
            "left": null
          }
        },
        "440f071b266149cbbfaa0118f7eb4a72": {
          "model_module": "@jupyter-widgets/controls",
          "model_name": "ButtonStyleModel",
          "model_module_version": "1.5.0",
          "state": {
            "_view_name": "StyleView",
            "_model_name": "ButtonStyleModel",
            "_view_module": "@jupyter-widgets/base",
            "_model_module_version": "1.5.0",
            "_view_count": null,
            "button_color": null,
            "font_weight": "",
            "_view_module_version": "1.2.0",
            "_model_module": "@jupyter-widgets/controls"
          }
        },
        "4695e06c2bad42a5ae197fadb40c0aaf": {
          "model_module": "@jupyter-widgets/base",
          "model_name": "LayoutModel",
          "model_module_version": "1.2.0",
          "state": {
            "_view_name": "LayoutView",
            "grid_template_rows": null,
            "right": null,
            "justify_content": null,
            "_view_module": "@jupyter-widgets/base",
            "overflow": null,
            "_model_module_version": "1.2.0",
            "_view_count": null,
            "flex_flow": null,
            "width": null,
            "min_width": null,
            "border": null,
            "align_items": null,
            "bottom": null,
            "_model_module": "@jupyter-widgets/base",
            "top": null,
            "grid_column": null,
            "overflow_y": null,
            "overflow_x": null,
            "grid_auto_flow": null,
            "grid_area": null,
            "grid_template_columns": null,
            "flex": null,
            "_model_name": "LayoutModel",
            "justify_items": null,
            "grid_row": null,
            "max_height": null,
            "align_content": null,
            "visibility": null,
            "align_self": null,
            "height": null,
            "min_height": null,
            "padding": null,
            "grid_auto_rows": null,
            "grid_gap": null,
            "max_width": null,
            "order": null,
            "_view_module_version": "1.2.0",
            "grid_template_areas": null,
            "object_position": null,
            "object_fit": null,
            "grid_auto_columns": null,
            "margin": null,
            "display": null,
            "left": null
          }
        },
        "691e352b22d64edbb3519e6815fbe26a": {
          "model_module": "@jupyter-widgets/controls",
          "model_name": "HBoxModel",
          "model_module_version": "1.5.0",
          "state": {
            "_view_name": "HBoxView",
            "_dom_classes": [],
            "_model_name": "HBoxModel",
            "_view_module": "@jupyter-widgets/controls",
            "_model_module_version": "1.5.0",
            "_view_count": null,
            "_view_module_version": "1.5.0",
            "box_style": "",
            "layout": "IPY_MODEL_eca7f77d128f41d6b421c0c9851606b5",
            "_model_module": "@jupyter-widgets/controls",
            "children": [
              "IPY_MODEL_a9c65e24384b4f92bc19ea8d1ece7ca9",
              "IPY_MODEL_9277f2a6c3fb4b719853f6efef49c361",
              "IPY_MODEL_198aee938ba4422ebc7e267d128613d2"
            ]
          }
        },
        "eca7f77d128f41d6b421c0c9851606b5": {
          "model_module": "@jupyter-widgets/base",
          "model_name": "LayoutModel",
          "model_module_version": "1.2.0",
          "state": {
            "_view_name": "LayoutView",
            "grid_template_rows": null,
            "right": null,
            "justify_content": null,
            "_view_module": "@jupyter-widgets/base",
            "overflow": null,
            "_model_module_version": "1.2.0",
            "_view_count": null,
            "flex_flow": null,
            "width": null,
            "min_width": null,
            "border": null,
            "align_items": null,
            "bottom": null,
            "_model_module": "@jupyter-widgets/base",
            "top": null,
            "grid_column": null,
            "overflow_y": null,
            "overflow_x": null,
            "grid_auto_flow": null,
            "grid_area": null,
            "grid_template_columns": null,
            "flex": null,
            "_model_name": "LayoutModel",
            "justify_items": null,
            "grid_row": null,
            "max_height": null,
            "align_content": null,
            "visibility": null,
            "align_self": null,
            "height": null,
            "min_height": null,
            "padding": null,
            "grid_auto_rows": null,
            "grid_gap": null,
            "max_width": null,
            "order": null,
            "_view_module_version": "1.2.0",
            "grid_template_areas": null,
            "object_position": null,
            "object_fit": null,
            "grid_auto_columns": null,
            "margin": null,
            "display": null,
            "left": null
          }
        },
        "a9c65e24384b4f92bc19ea8d1ece7ca9": {
          "model_module": "@jupyter-widgets/controls",
          "model_name": "HTMLModel",
          "model_module_version": "1.5.0",
          "state": {
            "_view_name": "HTMLView",
            "style": "IPY_MODEL_deb4fd2f9b55412c8155b8880569dc25",
            "_dom_classes": [],
            "description": "",
            "_model_name": "HTMLModel",
            "placeholder": "​",
            "_view_module": "@jupyter-widgets/controls",
            "_model_module_version": "1.5.0",
            "value": "100%",
            "_view_count": null,
            "_view_module_version": "1.5.0",
            "description_tooltip": null,
            "_model_module": "@jupyter-widgets/controls",
            "layout": "IPY_MODEL_ee426def90c84b86b210e6f62f85bef5"
          }
        },
        "9277f2a6c3fb4b719853f6efef49c361": {
          "model_module": "@jupyter-widgets/controls",
          "model_name": "FloatProgressModel",
          "model_module_version": "1.5.0",
          "state": {
            "_view_name": "ProgressView",
            "style": "IPY_MODEL_c1382cc38fa0414db0306a7576d9d3d5",
            "_dom_classes": [],
            "description": "",
            "_model_name": "FloatProgressModel",
            "bar_style": "success",
            "max": 2,
            "_view_module": "@jupyter-widgets/controls",
            "_model_module_version": "1.5.0",
            "value": 2,
            "_view_count": null,
            "_view_module_version": "1.5.0",
            "orientation": "horizontal",
            "min": 0,
            "description_tooltip": null,
            "_model_module": "@jupyter-widgets/controls",
            "layout": "IPY_MODEL_e2fe8f19cffe4d5a8f79db2d41e27fd4"
          }
        },
        "198aee938ba4422ebc7e267d128613d2": {
          "model_module": "@jupyter-widgets/controls",
          "model_name": "HTMLModel",
          "model_module_version": "1.5.0",
          "state": {
            "_view_name": "HTMLView",
            "style": "IPY_MODEL_1c4194f305eb46a5ac47ad7d658b7eed",
            "_dom_classes": [],
            "description": "",
            "_model_name": "HTMLModel",
            "placeholder": "​",
            "_view_module": "@jupyter-widgets/controls",
            "_model_module_version": "1.5.0",
            "value": " 2/2 [00:00&lt;00:00, 59.16it/s]",
            "_view_count": null,
            "_view_module_version": "1.5.0",
            "description_tooltip": null,
            "_model_module": "@jupyter-widgets/controls",
            "layout": "IPY_MODEL_2dcb9eaa96564914ba3210c60ecfe6a2"
          }
        },
        "deb4fd2f9b55412c8155b8880569dc25": {
          "model_module": "@jupyter-widgets/controls",
          "model_name": "DescriptionStyleModel",
          "model_module_version": "1.5.0",
          "state": {
            "_view_name": "StyleView",
            "_model_name": "DescriptionStyleModel",
            "description_width": "",
            "_view_module": "@jupyter-widgets/base",
            "_model_module_version": "1.5.0",
            "_view_count": null,
            "_view_module_version": "1.2.0",
            "_model_module": "@jupyter-widgets/controls"
          }
        },
        "ee426def90c84b86b210e6f62f85bef5": {
          "model_module": "@jupyter-widgets/base",
          "model_name": "LayoutModel",
          "model_module_version": "1.2.0",
          "state": {
            "_view_name": "LayoutView",
            "grid_template_rows": null,
            "right": null,
            "justify_content": null,
            "_view_module": "@jupyter-widgets/base",
            "overflow": null,
            "_model_module_version": "1.2.0",
            "_view_count": null,
            "flex_flow": null,
            "width": null,
            "min_width": null,
            "border": null,
            "align_items": null,
            "bottom": null,
            "_model_module": "@jupyter-widgets/base",
            "top": null,
            "grid_column": null,
            "overflow_y": null,
            "overflow_x": null,
            "grid_auto_flow": null,
            "grid_area": null,
            "grid_template_columns": null,
            "flex": null,
            "_model_name": "LayoutModel",
            "justify_items": null,
            "grid_row": null,
            "max_height": null,
            "align_content": null,
            "visibility": null,
            "align_self": null,
            "height": null,
            "min_height": null,
            "padding": null,
            "grid_auto_rows": null,
            "grid_gap": null,
            "max_width": null,
            "order": null,
            "_view_module_version": "1.2.0",
            "grid_template_areas": null,
            "object_position": null,
            "object_fit": null,
            "grid_auto_columns": null,
            "margin": null,
            "display": null,
            "left": null
          }
        },
        "c1382cc38fa0414db0306a7576d9d3d5": {
          "model_module": "@jupyter-widgets/controls",
          "model_name": "ProgressStyleModel",
          "model_module_version": "1.5.0",
          "state": {
            "_view_name": "StyleView",
            "_model_name": "ProgressStyleModel",
            "description_width": "",
            "_view_module": "@jupyter-widgets/base",
            "_model_module_version": "1.5.0",
            "_view_count": null,
            "_view_module_version": "1.2.0",
            "bar_color": null,
            "_model_module": "@jupyter-widgets/controls"
          }
        },
        "e2fe8f19cffe4d5a8f79db2d41e27fd4": {
          "model_module": "@jupyter-widgets/base",
          "model_name": "LayoutModel",
          "model_module_version": "1.2.0",
          "state": {
            "_view_name": "LayoutView",
            "grid_template_rows": null,
            "right": null,
            "justify_content": null,
            "_view_module": "@jupyter-widgets/base",
            "overflow": null,
            "_model_module_version": "1.2.0",
            "_view_count": null,
            "flex_flow": null,
            "width": null,
            "min_width": null,
            "border": null,
            "align_items": null,
            "bottom": null,
            "_model_module": "@jupyter-widgets/base",
            "top": null,
            "grid_column": null,
            "overflow_y": null,
            "overflow_x": null,
            "grid_auto_flow": null,
            "grid_area": null,
            "grid_template_columns": null,
            "flex": null,
            "_model_name": "LayoutModel",
            "justify_items": null,
            "grid_row": null,
            "max_height": null,
            "align_content": null,
            "visibility": null,
            "align_self": null,
            "height": null,
            "min_height": null,
            "padding": null,
            "grid_auto_rows": null,
            "grid_gap": null,
            "max_width": null,
            "order": null,
            "_view_module_version": "1.2.0",
            "grid_template_areas": null,
            "object_position": null,
            "object_fit": null,
            "grid_auto_columns": null,
            "margin": null,
            "display": null,
            "left": null
          }
        },
        "1c4194f305eb46a5ac47ad7d658b7eed": {
          "model_module": "@jupyter-widgets/controls",
          "model_name": "DescriptionStyleModel",
          "model_module_version": "1.5.0",
          "state": {
            "_view_name": "StyleView",
            "_model_name": "DescriptionStyleModel",
            "description_width": "",
            "_view_module": "@jupyter-widgets/base",
            "_model_module_version": "1.5.0",
            "_view_count": null,
            "_view_module_version": "1.2.0",
            "_model_module": "@jupyter-widgets/controls"
          }
        },
        "2dcb9eaa96564914ba3210c60ecfe6a2": {
          "model_module": "@jupyter-widgets/base",
          "model_name": "LayoutModel",
          "model_module_version": "1.2.0",
          "state": {
            "_view_name": "LayoutView",
            "grid_template_rows": null,
            "right": null,
            "justify_content": null,
            "_view_module": "@jupyter-widgets/base",
            "overflow": null,
            "_model_module_version": "1.2.0",
            "_view_count": null,
            "flex_flow": null,
            "width": null,
            "min_width": null,
            "border": null,
            "align_items": null,
            "bottom": null,
            "_model_module": "@jupyter-widgets/base",
            "top": null,
            "grid_column": null,
            "overflow_y": null,
            "overflow_x": null,
            "grid_auto_flow": null,
            "grid_area": null,
            "grid_template_columns": null,
            "flex": null,
            "_model_name": "LayoutModel",
            "justify_items": null,
            "grid_row": null,
            "max_height": null,
            "align_content": null,
            "visibility": null,
            "align_self": null,
            "height": null,
            "min_height": null,
            "padding": null,
            "grid_auto_rows": null,
            "grid_gap": null,
            "max_width": null,
            "order": null,
            "_view_module_version": "1.2.0",
            "grid_template_areas": null,
            "object_position": null,
            "object_fit": null,
            "grid_auto_columns": null,
            "margin": null,
            "display": null,
            "left": null
          }
        },
        "4284a7af36a9459ca3af3bd7f34f36c6": {
          "model_module": "@jupyter-widgets/controls",
          "model_name": "HBoxModel",
          "model_module_version": "1.5.0",
          "state": {
            "_view_name": "HBoxView",
            "_dom_classes": [],
            "_model_name": "HBoxModel",
            "_view_module": "@jupyter-widgets/controls",
            "_model_module_version": "1.5.0",
            "_view_count": null,
            "_view_module_version": "1.5.0",
            "box_style": "",
            "layout": "IPY_MODEL_f1f546d85c3f4dd5803b0b8aa61d39bd",
            "_model_module": "@jupyter-widgets/controls",
            "children": [
              "IPY_MODEL_0f1a8ec1cf33409582f2f12dbce2cd5f",
              "IPY_MODEL_4d934391b6e642dfae300d40d36a40c9",
              "IPY_MODEL_57e8b982e5044ebd98b1a89c670faf11"
            ]
          }
        },
        "f1f546d85c3f4dd5803b0b8aa61d39bd": {
          "model_module": "@jupyter-widgets/base",
          "model_name": "LayoutModel",
          "model_module_version": "1.2.0",
          "state": {
            "_view_name": "LayoutView",
            "grid_template_rows": null,
            "right": null,
            "justify_content": null,
            "_view_module": "@jupyter-widgets/base",
            "overflow": null,
            "_model_module_version": "1.2.0",
            "_view_count": null,
            "flex_flow": null,
            "width": null,
            "min_width": null,
            "border": null,
            "align_items": null,
            "bottom": null,
            "_model_module": "@jupyter-widgets/base",
            "top": null,
            "grid_column": null,
            "overflow_y": null,
            "overflow_x": null,
            "grid_auto_flow": null,
            "grid_area": null,
            "grid_template_columns": null,
            "flex": null,
            "_model_name": "LayoutModel",
            "justify_items": null,
            "grid_row": null,
            "max_height": null,
            "align_content": null,
            "visibility": null,
            "align_self": null,
            "height": null,
            "min_height": null,
            "padding": null,
            "grid_auto_rows": null,
            "grid_gap": null,
            "max_width": null,
            "order": null,
            "_view_module_version": "1.2.0",
            "grid_template_areas": null,
            "object_position": null,
            "object_fit": null,
            "grid_auto_columns": null,
            "margin": null,
            "display": null,
            "left": null
          }
        },
        "0f1a8ec1cf33409582f2f12dbce2cd5f": {
          "model_module": "@jupyter-widgets/controls",
          "model_name": "HTMLModel",
          "model_module_version": "1.5.0",
          "state": {
            "_view_name": "HTMLView",
            "style": "IPY_MODEL_9f12770b9e554903b112d92ebae939cb",
            "_dom_classes": [],
            "description": "",
            "_model_name": "HTMLModel",
            "placeholder": "​",
            "_view_module": "@jupyter-widgets/controls",
            "_model_module_version": "1.5.0",
            "value": "100%",
            "_view_count": null,
            "_view_module_version": "1.5.0",
            "description_tooltip": null,
            "_model_module": "@jupyter-widgets/controls",
            "layout": "IPY_MODEL_679ab0c33f9f495ea7b6bb68d4ed9961"
          }
        },
        "4d934391b6e642dfae300d40d36a40c9": {
          "model_module": "@jupyter-widgets/controls",
          "model_name": "FloatProgressModel",
          "model_module_version": "1.5.0",
          "state": {
            "_view_name": "ProgressView",
            "style": "IPY_MODEL_42cfd7961fc24938996af01ca49d7672",
            "_dom_classes": [],
            "description": "",
            "_model_name": "FloatProgressModel",
            "bar_style": "success",
            "max": 1,
            "_view_module": "@jupyter-widgets/controls",
            "_model_module_version": "1.5.0",
            "value": 1,
            "_view_count": null,
            "_view_module_version": "1.5.0",
            "orientation": "horizontal",
            "min": 0,
            "description_tooltip": null,
            "_model_module": "@jupyter-widgets/controls",
            "layout": "IPY_MODEL_7cba5e803ce74b9da26ed3fc56b92221"
          }
        },
        "57e8b982e5044ebd98b1a89c670faf11": {
          "model_module": "@jupyter-widgets/controls",
          "model_name": "HTMLModel",
          "model_module_version": "1.5.0",
          "state": {
            "_view_name": "HTMLView",
            "style": "IPY_MODEL_99b02bace8ed4890a7e54e362f860c8b",
            "_dom_classes": [],
            "description": "",
            "_model_name": "HTMLModel",
            "placeholder": "​",
            "_view_module": "@jupyter-widgets/controls",
            "_model_module_version": "1.5.0",
            "value": " 1/1 [00:02&lt;00:00,  2.16s/ba]",
            "_view_count": null,
            "_view_module_version": "1.5.0",
            "description_tooltip": null,
            "_model_module": "@jupyter-widgets/controls",
            "layout": "IPY_MODEL_2c9623b719c54581ae4f7f2d68809124"
          }
        },
        "9f12770b9e554903b112d92ebae939cb": {
          "model_module": "@jupyter-widgets/controls",
          "model_name": "DescriptionStyleModel",
          "model_module_version": "1.5.0",
          "state": {
            "_view_name": "StyleView",
            "_model_name": "DescriptionStyleModel",
            "description_width": "",
            "_view_module": "@jupyter-widgets/base",
            "_model_module_version": "1.5.0",
            "_view_count": null,
            "_view_module_version": "1.2.0",
            "_model_module": "@jupyter-widgets/controls"
          }
        },
        "679ab0c33f9f495ea7b6bb68d4ed9961": {
          "model_module": "@jupyter-widgets/base",
          "model_name": "LayoutModel",
          "model_module_version": "1.2.0",
          "state": {
            "_view_name": "LayoutView",
            "grid_template_rows": null,
            "right": null,
            "justify_content": null,
            "_view_module": "@jupyter-widgets/base",
            "overflow": null,
            "_model_module_version": "1.2.0",
            "_view_count": null,
            "flex_flow": null,
            "width": null,
            "min_width": null,
            "border": null,
            "align_items": null,
            "bottom": null,
            "_model_module": "@jupyter-widgets/base",
            "top": null,
            "grid_column": null,
            "overflow_y": null,
            "overflow_x": null,
            "grid_auto_flow": null,
            "grid_area": null,
            "grid_template_columns": null,
            "flex": null,
            "_model_name": "LayoutModel",
            "justify_items": null,
            "grid_row": null,
            "max_height": null,
            "align_content": null,
            "visibility": null,
            "align_self": null,
            "height": null,
            "min_height": null,
            "padding": null,
            "grid_auto_rows": null,
            "grid_gap": null,
            "max_width": null,
            "order": null,
            "_view_module_version": "1.2.0",
            "grid_template_areas": null,
            "object_position": null,
            "object_fit": null,
            "grid_auto_columns": null,
            "margin": null,
            "display": null,
            "left": null
          }
        },
        "42cfd7961fc24938996af01ca49d7672": {
          "model_module": "@jupyter-widgets/controls",
          "model_name": "ProgressStyleModel",
          "model_module_version": "1.5.0",
          "state": {
            "_view_name": "StyleView",
            "_model_name": "ProgressStyleModel",
            "description_width": "",
            "_view_module": "@jupyter-widgets/base",
            "_model_module_version": "1.5.0",
            "_view_count": null,
            "_view_module_version": "1.2.0",
            "bar_color": null,
            "_model_module": "@jupyter-widgets/controls"
          }
        },
        "7cba5e803ce74b9da26ed3fc56b92221": {
          "model_module": "@jupyter-widgets/base",
          "model_name": "LayoutModel",
          "model_module_version": "1.2.0",
          "state": {
            "_view_name": "LayoutView",
            "grid_template_rows": null,
            "right": null,
            "justify_content": null,
            "_view_module": "@jupyter-widgets/base",
            "overflow": null,
            "_model_module_version": "1.2.0",
            "_view_count": null,
            "flex_flow": null,
            "width": null,
            "min_width": null,
            "border": null,
            "align_items": null,
            "bottom": null,
            "_model_module": "@jupyter-widgets/base",
            "top": null,
            "grid_column": null,
            "overflow_y": null,
            "overflow_x": null,
            "grid_auto_flow": null,
            "grid_area": null,
            "grid_template_columns": null,
            "flex": null,
            "_model_name": "LayoutModel",
            "justify_items": null,
            "grid_row": null,
            "max_height": null,
            "align_content": null,
            "visibility": null,
            "align_self": null,
            "height": null,
            "min_height": null,
            "padding": null,
            "grid_auto_rows": null,
            "grid_gap": null,
            "max_width": null,
            "order": null,
            "_view_module_version": "1.2.0",
            "grid_template_areas": null,
            "object_position": null,
            "object_fit": null,
            "grid_auto_columns": null,
            "margin": null,
            "display": null,
            "left": null
          }
        },
        "99b02bace8ed4890a7e54e362f860c8b": {
          "model_module": "@jupyter-widgets/controls",
          "model_name": "DescriptionStyleModel",
          "model_module_version": "1.5.0",
          "state": {
            "_view_name": "StyleView",
            "_model_name": "DescriptionStyleModel",
            "description_width": "",
            "_view_module": "@jupyter-widgets/base",
            "_model_module_version": "1.5.0",
            "_view_count": null,
            "_view_module_version": "1.2.0",
            "_model_module": "@jupyter-widgets/controls"
          }
        },
        "2c9623b719c54581ae4f7f2d68809124": {
          "model_module": "@jupyter-widgets/base",
          "model_name": "LayoutModel",
          "model_module_version": "1.2.0",
          "state": {
            "_view_name": "LayoutView",
            "grid_template_rows": null,
            "right": null,
            "justify_content": null,
            "_view_module": "@jupyter-widgets/base",
            "overflow": null,
            "_model_module_version": "1.2.0",
            "_view_count": null,
            "flex_flow": null,
            "width": null,
            "min_width": null,
            "border": null,
            "align_items": null,
            "bottom": null,
            "_model_module": "@jupyter-widgets/base",
            "top": null,
            "grid_column": null,
            "overflow_y": null,
            "overflow_x": null,
            "grid_auto_flow": null,
            "grid_area": null,
            "grid_template_columns": null,
            "flex": null,
            "_model_name": "LayoutModel",
            "justify_items": null,
            "grid_row": null,
            "max_height": null,
            "align_content": null,
            "visibility": null,
            "align_self": null,
            "height": null,
            "min_height": null,
            "padding": null,
            "grid_auto_rows": null,
            "grid_gap": null,
            "max_width": null,
            "order": null,
            "_view_module_version": "1.2.0",
            "grid_template_areas": null,
            "object_position": null,
            "object_fit": null,
            "grid_auto_columns": null,
            "margin": null,
            "display": null,
            "left": null
          }
        },
        "4ddf17e2374f492f8e035948f2e595cc": {
          "model_module": "@jupyter-widgets/controls",
          "model_name": "HBoxModel",
          "model_module_version": "1.5.0",
          "state": {
            "_view_name": "HBoxView",
            "_dom_classes": [],
            "_model_name": "HBoxModel",
            "_view_module": "@jupyter-widgets/controls",
            "_model_module_version": "1.5.0",
            "_view_count": null,
            "_view_module_version": "1.5.0",
            "box_style": "",
            "layout": "IPY_MODEL_bfb3e4760fd74c2a83ea084821a478a1",
            "_model_module": "@jupyter-widgets/controls",
            "children": [
              "IPY_MODEL_617a76c8a17245e3a1f71152c3e4e967",
              "IPY_MODEL_9a88e2a2c1fa427bafb8b91ed6fee49c",
              "IPY_MODEL_0e6a57954e024cc49e6996a4f2cf1823"
            ]
          }
        },
        "bfb3e4760fd74c2a83ea084821a478a1": {
          "model_module": "@jupyter-widgets/base",
          "model_name": "LayoutModel",
          "model_module_version": "1.2.0",
          "state": {
            "_view_name": "LayoutView",
            "grid_template_rows": null,
            "right": null,
            "justify_content": null,
            "_view_module": "@jupyter-widgets/base",
            "overflow": null,
            "_model_module_version": "1.2.0",
            "_view_count": null,
            "flex_flow": null,
            "width": null,
            "min_width": null,
            "border": null,
            "align_items": null,
            "bottom": null,
            "_model_module": "@jupyter-widgets/base",
            "top": null,
            "grid_column": null,
            "overflow_y": null,
            "overflow_x": null,
            "grid_auto_flow": null,
            "grid_area": null,
            "grid_template_columns": null,
            "flex": null,
            "_model_name": "LayoutModel",
            "justify_items": null,
            "grid_row": null,
            "max_height": null,
            "align_content": null,
            "visibility": null,
            "align_self": null,
            "height": null,
            "min_height": null,
            "padding": null,
            "grid_auto_rows": null,
            "grid_gap": null,
            "max_width": null,
            "order": null,
            "_view_module_version": "1.2.0",
            "grid_template_areas": null,
            "object_position": null,
            "object_fit": null,
            "grid_auto_columns": null,
            "margin": null,
            "display": null,
            "left": null
          }
        },
        "617a76c8a17245e3a1f71152c3e4e967": {
          "model_module": "@jupyter-widgets/controls",
          "model_name": "HTMLModel",
          "model_module_version": "1.5.0",
          "state": {
            "_view_name": "HTMLView",
            "style": "IPY_MODEL_8f97ee1577b14334a6443bc4181cb148",
            "_dom_classes": [],
            "description": "",
            "_model_name": "HTMLModel",
            "placeholder": "​",
            "_view_module": "@jupyter-widgets/controls",
            "_model_module_version": "1.5.0",
            "value": "100%",
            "_view_count": null,
            "_view_module_version": "1.5.0",
            "description_tooltip": null,
            "_model_module": "@jupyter-widgets/controls",
            "layout": "IPY_MODEL_1f47fbde4614431e991620b2eaee3584"
          }
        },
        "9a88e2a2c1fa427bafb8b91ed6fee49c": {
          "model_module": "@jupyter-widgets/controls",
          "model_name": "FloatProgressModel",
          "model_module_version": "1.5.0",
          "state": {
            "_view_name": "ProgressView",
            "style": "IPY_MODEL_d375eea921564949b75529de188b535e",
            "_dom_classes": [],
            "description": "",
            "_model_name": "FloatProgressModel",
            "bar_style": "success",
            "max": 1,
            "_view_module": "@jupyter-widgets/controls",
            "_model_module_version": "1.5.0",
            "value": 1,
            "_view_count": null,
            "_view_module_version": "1.5.0",
            "orientation": "horizontal",
            "min": 0,
            "description_tooltip": null,
            "_model_module": "@jupyter-widgets/controls",
            "layout": "IPY_MODEL_bacf915256f643dbac484456eb889183"
          }
        },
        "0e6a57954e024cc49e6996a4f2cf1823": {
          "model_module": "@jupyter-widgets/controls",
          "model_name": "HTMLModel",
          "model_module_version": "1.5.0",
          "state": {
            "_view_name": "HTMLView",
            "style": "IPY_MODEL_baf66e87ae494eadb083b48861301270",
            "_dom_classes": [],
            "description": "",
            "_model_name": "HTMLModel",
            "placeholder": "​",
            "_view_module": "@jupyter-widgets/controls",
            "_model_module_version": "1.5.0",
            "value": " 1/1 [00:00&lt;00:00,  3.77ba/s]",
            "_view_count": null,
            "_view_module_version": "1.5.0",
            "description_tooltip": null,
            "_model_module": "@jupyter-widgets/controls",
            "layout": "IPY_MODEL_bf72c9e6c0f8436e82a93d41886870b5"
          }
        },
        "8f97ee1577b14334a6443bc4181cb148": {
          "model_module": "@jupyter-widgets/controls",
          "model_name": "DescriptionStyleModel",
          "model_module_version": "1.5.0",
          "state": {
            "_view_name": "StyleView",
            "_model_name": "DescriptionStyleModel",
            "description_width": "",
            "_view_module": "@jupyter-widgets/base",
            "_model_module_version": "1.5.0",
            "_view_count": null,
            "_view_module_version": "1.2.0",
            "_model_module": "@jupyter-widgets/controls"
          }
        },
        "1f47fbde4614431e991620b2eaee3584": {
          "model_module": "@jupyter-widgets/base",
          "model_name": "LayoutModel",
          "model_module_version": "1.2.0",
          "state": {
            "_view_name": "LayoutView",
            "grid_template_rows": null,
            "right": null,
            "justify_content": null,
            "_view_module": "@jupyter-widgets/base",
            "overflow": null,
            "_model_module_version": "1.2.0",
            "_view_count": null,
            "flex_flow": null,
            "width": null,
            "min_width": null,
            "border": null,
            "align_items": null,
            "bottom": null,
            "_model_module": "@jupyter-widgets/base",
            "top": null,
            "grid_column": null,
            "overflow_y": null,
            "overflow_x": null,
            "grid_auto_flow": null,
            "grid_area": null,
            "grid_template_columns": null,
            "flex": null,
            "_model_name": "LayoutModel",
            "justify_items": null,
            "grid_row": null,
            "max_height": null,
            "align_content": null,
            "visibility": null,
            "align_self": null,
            "height": null,
            "min_height": null,
            "padding": null,
            "grid_auto_rows": null,
            "grid_gap": null,
            "max_width": null,
            "order": null,
            "_view_module_version": "1.2.0",
            "grid_template_areas": null,
            "object_position": null,
            "object_fit": null,
            "grid_auto_columns": null,
            "margin": null,
            "display": null,
            "left": null
          }
        },
        "d375eea921564949b75529de188b535e": {
          "model_module": "@jupyter-widgets/controls",
          "model_name": "ProgressStyleModel",
          "model_module_version": "1.5.0",
          "state": {
            "_view_name": "StyleView",
            "_model_name": "ProgressStyleModel",
            "description_width": "",
            "_view_module": "@jupyter-widgets/base",
            "_model_module_version": "1.5.0",
            "_view_count": null,
            "_view_module_version": "1.2.0",
            "bar_color": null,
            "_model_module": "@jupyter-widgets/controls"
          }
        },
        "bacf915256f643dbac484456eb889183": {
          "model_module": "@jupyter-widgets/base",
          "model_name": "LayoutModel",
          "model_module_version": "1.2.0",
          "state": {
            "_view_name": "LayoutView",
            "grid_template_rows": null,
            "right": null,
            "justify_content": null,
            "_view_module": "@jupyter-widgets/base",
            "overflow": null,
            "_model_module_version": "1.2.0",
            "_view_count": null,
            "flex_flow": null,
            "width": null,
            "min_width": null,
            "border": null,
            "align_items": null,
            "bottom": null,
            "_model_module": "@jupyter-widgets/base",
            "top": null,
            "grid_column": null,
            "overflow_y": null,
            "overflow_x": null,
            "grid_auto_flow": null,
            "grid_area": null,
            "grid_template_columns": null,
            "flex": null,
            "_model_name": "LayoutModel",
            "justify_items": null,
            "grid_row": null,
            "max_height": null,
            "align_content": null,
            "visibility": null,
            "align_self": null,
            "height": null,
            "min_height": null,
            "padding": null,
            "grid_auto_rows": null,
            "grid_gap": null,
            "max_width": null,
            "order": null,
            "_view_module_version": "1.2.0",
            "grid_template_areas": null,
            "object_position": null,
            "object_fit": null,
            "grid_auto_columns": null,
            "margin": null,
            "display": null,
            "left": null
          }
        },
        "baf66e87ae494eadb083b48861301270": {
          "model_module": "@jupyter-widgets/controls",
          "model_name": "DescriptionStyleModel",
          "model_module_version": "1.5.0",
          "state": {
            "_view_name": "StyleView",
            "_model_name": "DescriptionStyleModel",
            "description_width": "",
            "_view_module": "@jupyter-widgets/base",
            "_model_module_version": "1.5.0",
            "_view_count": null,
            "_view_module_version": "1.2.0",
            "_model_module": "@jupyter-widgets/controls"
          }
        },
        "bf72c9e6c0f8436e82a93d41886870b5": {
          "model_module": "@jupyter-widgets/base",
          "model_name": "LayoutModel",
          "model_module_version": "1.2.0",
          "state": {
            "_view_name": "LayoutView",
            "grid_template_rows": null,
            "right": null,
            "justify_content": null,
            "_view_module": "@jupyter-widgets/base",
            "overflow": null,
            "_model_module_version": "1.2.0",
            "_view_count": null,
            "flex_flow": null,
            "width": null,
            "min_width": null,
            "border": null,
            "align_items": null,
            "bottom": null,
            "_model_module": "@jupyter-widgets/base",
            "top": null,
            "grid_column": null,
            "overflow_y": null,
            "overflow_x": null,
            "grid_auto_flow": null,
            "grid_area": null,
            "grid_template_columns": null,
            "flex": null,
            "_model_name": "LayoutModel",
            "justify_items": null,
            "grid_row": null,
            "max_height": null,
            "align_content": null,
            "visibility": null,
            "align_self": null,
            "height": null,
            "min_height": null,
            "padding": null,
            "grid_auto_rows": null,
            "grid_gap": null,
            "max_width": null,
            "order": null,
            "_view_module_version": "1.2.0",
            "grid_template_areas": null,
            "object_position": null,
            "object_fit": null,
            "grid_auto_columns": null,
            "margin": null,
            "display": null,
            "left": null
          }
        },
        "ef076a09348b470a88bc768f13b5408f": {
          "model_module": "@jupyter-widgets/controls",
          "model_name": "HBoxModel",
          "model_module_version": "1.5.0",
          "state": {
            "_view_name": "HBoxView",
            "_dom_classes": [],
            "_model_name": "HBoxModel",
            "_view_module": "@jupyter-widgets/controls",
            "_model_module_version": "1.5.0",
            "_view_count": null,
            "_view_module_version": "1.5.0",
            "box_style": "",
            "layout": "IPY_MODEL_c67774779c174dfcb9ad4e6dfd6c6e7b",
            "_model_module": "@jupyter-widgets/controls",
            "children": [
              "IPY_MODEL_6cc33df2515b4ff4a41a4be6c58ce536",
              "IPY_MODEL_2e93d4241d7a4ae5bd6144979cee3688",
              "IPY_MODEL_a252b5b13c354ff8927668d3f0216b22"
            ]
          }
        },
        "c67774779c174dfcb9ad4e6dfd6c6e7b": {
          "model_module": "@jupyter-widgets/base",
          "model_name": "LayoutModel",
          "model_module_version": "1.2.0",
          "state": {
            "_view_name": "LayoutView",
            "grid_template_rows": null,
            "right": null,
            "justify_content": null,
            "_view_module": "@jupyter-widgets/base",
            "overflow": null,
            "_model_module_version": "1.2.0",
            "_view_count": null,
            "flex_flow": null,
            "width": null,
            "min_width": null,
            "border": null,
            "align_items": null,
            "bottom": null,
            "_model_module": "@jupyter-widgets/base",
            "top": null,
            "grid_column": null,
            "overflow_y": null,
            "overflow_x": null,
            "grid_auto_flow": null,
            "grid_area": null,
            "grid_template_columns": null,
            "flex": null,
            "_model_name": "LayoutModel",
            "justify_items": null,
            "grid_row": null,
            "max_height": null,
            "align_content": null,
            "visibility": null,
            "align_self": null,
            "height": null,
            "min_height": null,
            "padding": null,
            "grid_auto_rows": null,
            "grid_gap": null,
            "max_width": null,
            "order": null,
            "_view_module_version": "1.2.0",
            "grid_template_areas": null,
            "object_position": null,
            "object_fit": null,
            "grid_auto_columns": null,
            "margin": null,
            "display": null,
            "left": null
          }
        },
        "6cc33df2515b4ff4a41a4be6c58ce536": {
          "model_module": "@jupyter-widgets/controls",
          "model_name": "HTMLModel",
          "model_module_version": "1.5.0",
          "state": {
            "_view_name": "HTMLView",
            "style": "IPY_MODEL_1a3651e2615e451d8561b5ddd2a30a18",
            "_dom_classes": [],
            "description": "",
            "_model_name": "HTMLModel",
            "placeholder": "​",
            "_view_module": "@jupyter-widgets/controls",
            "_model_module_version": "1.5.0",
            "value": "Downloading: 100%",
            "_view_count": null,
            "_view_module_version": "1.5.0",
            "description_tooltip": null,
            "_model_module": "@jupyter-widgets/controls",
            "layout": "IPY_MODEL_68b6cc6f730142e9bbf51c0284194539"
          }
        },
        "2e93d4241d7a4ae5bd6144979cee3688": {
          "model_module": "@jupyter-widgets/controls",
          "model_name": "FloatProgressModel",
          "model_module_version": "1.5.0",
          "state": {
            "_view_name": "ProgressView",
            "style": "IPY_MODEL_a1a33a25f5244d1994befd51fd7cad8d",
            "_dom_classes": [],
            "description": "",
            "_model_name": "FloatProgressModel",
            "bar_style": "success",
            "max": 467042463,
            "_view_module": "@jupyter-widgets/controls",
            "_model_module_version": "1.5.0",
            "value": 467042463,
            "_view_count": null,
            "_view_module_version": "1.5.0",
            "orientation": "horizontal",
            "min": 0,
            "description_tooltip": null,
            "_model_module": "@jupyter-widgets/controls",
            "layout": "IPY_MODEL_c0e0e6df8a1945b0826f068d67f591c9"
          }
        },
        "a252b5b13c354ff8927668d3f0216b22": {
          "model_module": "@jupyter-widgets/controls",
          "model_name": "HTMLModel",
          "model_module_version": "1.5.0",
          "state": {
            "_view_name": "HTMLView",
            "style": "IPY_MODEL_4357ff65af2443f684a54dba9615970d",
            "_dom_classes": [],
            "description": "",
            "_model_name": "HTMLModel",
            "placeholder": "​",
            "_view_module": "@jupyter-widgets/controls",
            "_model_module_version": "1.5.0",
            "value": " 445M/445M [00:08&lt;00:00, 48.2MB/s]",
            "_view_count": null,
            "_view_module_version": "1.5.0",
            "description_tooltip": null,
            "_model_module": "@jupyter-widgets/controls",
            "layout": "IPY_MODEL_756efc2601e946a0b22bd3f338b61a9a"
          }
        },
        "1a3651e2615e451d8561b5ddd2a30a18": {
          "model_module": "@jupyter-widgets/controls",
          "model_name": "DescriptionStyleModel",
          "model_module_version": "1.5.0",
          "state": {
            "_view_name": "StyleView",
            "_model_name": "DescriptionStyleModel",
            "description_width": "",
            "_view_module": "@jupyter-widgets/base",
            "_model_module_version": "1.5.0",
            "_view_count": null,
            "_view_module_version": "1.2.0",
            "_model_module": "@jupyter-widgets/controls"
          }
        },
        "68b6cc6f730142e9bbf51c0284194539": {
          "model_module": "@jupyter-widgets/base",
          "model_name": "LayoutModel",
          "model_module_version": "1.2.0",
          "state": {
            "_view_name": "LayoutView",
            "grid_template_rows": null,
            "right": null,
            "justify_content": null,
            "_view_module": "@jupyter-widgets/base",
            "overflow": null,
            "_model_module_version": "1.2.0",
            "_view_count": null,
            "flex_flow": null,
            "width": null,
            "min_width": null,
            "border": null,
            "align_items": null,
            "bottom": null,
            "_model_module": "@jupyter-widgets/base",
            "top": null,
            "grid_column": null,
            "overflow_y": null,
            "overflow_x": null,
            "grid_auto_flow": null,
            "grid_area": null,
            "grid_template_columns": null,
            "flex": null,
            "_model_name": "LayoutModel",
            "justify_items": null,
            "grid_row": null,
            "max_height": null,
            "align_content": null,
            "visibility": null,
            "align_self": null,
            "height": null,
            "min_height": null,
            "padding": null,
            "grid_auto_rows": null,
            "grid_gap": null,
            "max_width": null,
            "order": null,
            "_view_module_version": "1.2.0",
            "grid_template_areas": null,
            "object_position": null,
            "object_fit": null,
            "grid_auto_columns": null,
            "margin": null,
            "display": null,
            "left": null
          }
        },
        "a1a33a25f5244d1994befd51fd7cad8d": {
          "model_module": "@jupyter-widgets/controls",
          "model_name": "ProgressStyleModel",
          "model_module_version": "1.5.0",
          "state": {
            "_view_name": "StyleView",
            "_model_name": "ProgressStyleModel",
            "description_width": "",
            "_view_module": "@jupyter-widgets/base",
            "_model_module_version": "1.5.0",
            "_view_count": null,
            "_view_module_version": "1.2.0",
            "bar_color": null,
            "_model_module": "@jupyter-widgets/controls"
          }
        },
        "c0e0e6df8a1945b0826f068d67f591c9": {
          "model_module": "@jupyter-widgets/base",
          "model_name": "LayoutModel",
          "model_module_version": "1.2.0",
          "state": {
            "_view_name": "LayoutView",
            "grid_template_rows": null,
            "right": null,
            "justify_content": null,
            "_view_module": "@jupyter-widgets/base",
            "overflow": null,
            "_model_module_version": "1.2.0",
            "_view_count": null,
            "flex_flow": null,
            "width": null,
            "min_width": null,
            "border": null,
            "align_items": null,
            "bottom": null,
            "_model_module": "@jupyter-widgets/base",
            "top": null,
            "grid_column": null,
            "overflow_y": null,
            "overflow_x": null,
            "grid_auto_flow": null,
            "grid_area": null,
            "grid_template_columns": null,
            "flex": null,
            "_model_name": "LayoutModel",
            "justify_items": null,
            "grid_row": null,
            "max_height": null,
            "align_content": null,
            "visibility": null,
            "align_self": null,
            "height": null,
            "min_height": null,
            "padding": null,
            "grid_auto_rows": null,
            "grid_gap": null,
            "max_width": null,
            "order": null,
            "_view_module_version": "1.2.0",
            "grid_template_areas": null,
            "object_position": null,
            "object_fit": null,
            "grid_auto_columns": null,
            "margin": null,
            "display": null,
            "left": null
          }
        },
        "4357ff65af2443f684a54dba9615970d": {
          "model_module": "@jupyter-widgets/controls",
          "model_name": "DescriptionStyleModel",
          "model_module_version": "1.5.0",
          "state": {
            "_view_name": "StyleView",
            "_model_name": "DescriptionStyleModel",
            "description_width": "",
            "_view_module": "@jupyter-widgets/base",
            "_model_module_version": "1.5.0",
            "_view_count": null,
            "_view_module_version": "1.2.0",
            "_model_module": "@jupyter-widgets/controls"
          }
        },
        "756efc2601e946a0b22bd3f338b61a9a": {
          "model_module": "@jupyter-widgets/base",
          "model_name": "LayoutModel",
          "model_module_version": "1.2.0",
          "state": {
            "_view_name": "LayoutView",
            "grid_template_rows": null,
            "right": null,
            "justify_content": null,
            "_view_module": "@jupyter-widgets/base",
            "overflow": null,
            "_model_module_version": "1.2.0",
            "_view_count": null,
            "flex_flow": null,
            "width": null,
            "min_width": null,
            "border": null,
            "align_items": null,
            "bottom": null,
            "_model_module": "@jupyter-widgets/base",
            "top": null,
            "grid_column": null,
            "overflow_y": null,
            "overflow_x": null,
            "grid_auto_flow": null,
            "grid_area": null,
            "grid_template_columns": null,
            "flex": null,
            "_model_name": "LayoutModel",
            "justify_items": null,
            "grid_row": null,
            "max_height": null,
            "align_content": null,
            "visibility": null,
            "align_self": null,
            "height": null,
            "min_height": null,
            "padding": null,
            "grid_auto_rows": null,
            "grid_gap": null,
            "max_width": null,
            "order": null,
            "_view_module_version": "1.2.0",
            "grid_template_areas": null,
            "object_position": null,
            "object_fit": null,
            "grid_auto_columns": null,
            "margin": null,
            "display": null,
            "left": null
          }
        },
        "0de8a7bd47434f1b8e6da4d3a7c978ff": {
          "model_module": "@jupyter-widgets/controls",
          "model_name": "HBoxModel",
          "model_module_version": "1.5.0",
          "state": {
            "_view_name": "HBoxView",
            "_dom_classes": [],
            "_model_name": "HBoxModel",
            "_view_module": "@jupyter-widgets/controls",
            "_model_module_version": "1.5.0",
            "_view_count": null,
            "_view_module_version": "1.5.0",
            "box_style": "",
            "layout": "IPY_MODEL_9b95d2a4c8394d9e8c2b91bc6dad0661",
            "_model_module": "@jupyter-widgets/controls",
            "children": [
              "IPY_MODEL_66638ad15cf645fea56b8f053b48f6b1",
              "IPY_MODEL_1af183da162b4f899047e649de3c555d",
              "IPY_MODEL_84226925916b4cd091a28459ad3d8dd2"
            ]
          }
        },
        "9b95d2a4c8394d9e8c2b91bc6dad0661": {
          "model_module": "@jupyter-widgets/base",
          "model_name": "LayoutModel",
          "model_module_version": "1.2.0",
          "state": {
            "_view_name": "LayoutView",
            "grid_template_rows": null,
            "right": null,
            "justify_content": null,
            "_view_module": "@jupyter-widgets/base",
            "overflow": null,
            "_model_module_version": "1.2.0",
            "_view_count": null,
            "flex_flow": null,
            "width": null,
            "min_width": null,
            "border": null,
            "align_items": null,
            "bottom": null,
            "_model_module": "@jupyter-widgets/base",
            "top": null,
            "grid_column": null,
            "overflow_y": null,
            "overflow_x": null,
            "grid_auto_flow": null,
            "grid_area": null,
            "grid_template_columns": null,
            "flex": null,
            "_model_name": "LayoutModel",
            "justify_items": null,
            "grid_row": null,
            "max_height": null,
            "align_content": null,
            "visibility": null,
            "align_self": null,
            "height": null,
            "min_height": null,
            "padding": null,
            "grid_auto_rows": null,
            "grid_gap": null,
            "max_width": null,
            "order": null,
            "_view_module_version": "1.2.0",
            "grid_template_areas": null,
            "object_position": null,
            "object_fit": null,
            "grid_auto_columns": null,
            "margin": null,
            "display": null,
            "left": null
          }
        },
        "66638ad15cf645fea56b8f053b48f6b1": {
          "model_module": "@jupyter-widgets/controls",
          "model_name": "HTMLModel",
          "model_module_version": "1.5.0",
          "state": {
            "_view_name": "HTMLView",
            "style": "IPY_MODEL_5f961e89804143e3ac6442505a4bde0d",
            "_dom_classes": [],
            "description": "",
            "_model_name": "HTMLModel",
            "placeholder": "​",
            "_view_module": "@jupyter-widgets/controls",
            "_model_module_version": "1.5.0",
            "value": "100%",
            "_view_count": null,
            "_view_module_version": "1.5.0",
            "description_tooltip": null,
            "_model_module": "@jupyter-widgets/controls",
            "layout": "IPY_MODEL_73d46839f9cc4fc8b9dd4bccf39dfa48"
          }
        },
        "1af183da162b4f899047e649de3c555d": {
          "model_module": "@jupyter-widgets/controls",
          "model_name": "FloatProgressModel",
          "model_module_version": "1.5.0",
          "state": {
            "_view_name": "ProgressView",
            "style": "IPY_MODEL_63609a780f7244d68e319e07c134ccb6",
            "_dom_classes": [],
            "description": "",
            "_model_name": "FloatProgressModel",
            "bar_style": "success",
            "max": 1,
            "_view_module": "@jupyter-widgets/controls",
            "_model_module_version": "1.5.0",
            "value": 1,
            "_view_count": null,
            "_view_module_version": "1.5.0",
            "orientation": "horizontal",
            "min": 0,
            "description_tooltip": null,
            "_model_module": "@jupyter-widgets/controls",
            "layout": "IPY_MODEL_4251679f5784445e8feadd0202b205d8"
          }
        },
        "84226925916b4cd091a28459ad3d8dd2": {
          "model_module": "@jupyter-widgets/controls",
          "model_name": "HTMLModel",
          "model_module_version": "1.5.0",
          "state": {
            "_view_name": "HTMLView",
            "style": "IPY_MODEL_c348c06ffb414002882770c7ffb6d77a",
            "_dom_classes": [],
            "description": "",
            "_model_name": "HTMLModel",
            "placeholder": "​",
            "_view_module": "@jupyter-widgets/controls",
            "_model_module_version": "1.5.0",
            "value": " 1/1 [00:02&lt;00:00,  2.96s/ba]",
            "_view_count": null,
            "_view_module_version": "1.5.0",
            "description_tooltip": null,
            "_model_module": "@jupyter-widgets/controls",
            "layout": "IPY_MODEL_7f4e6ee9c36a4a16bed008f2577cb90d"
          }
        },
        "5f961e89804143e3ac6442505a4bde0d": {
          "model_module": "@jupyter-widgets/controls",
          "model_name": "DescriptionStyleModel",
          "model_module_version": "1.5.0",
          "state": {
            "_view_name": "StyleView",
            "_model_name": "DescriptionStyleModel",
            "description_width": "",
            "_view_module": "@jupyter-widgets/base",
            "_model_module_version": "1.5.0",
            "_view_count": null,
            "_view_module_version": "1.2.0",
            "_model_module": "@jupyter-widgets/controls"
          }
        },
        "73d46839f9cc4fc8b9dd4bccf39dfa48": {
          "model_module": "@jupyter-widgets/base",
          "model_name": "LayoutModel",
          "model_module_version": "1.2.0",
          "state": {
            "_view_name": "LayoutView",
            "grid_template_rows": null,
            "right": null,
            "justify_content": null,
            "_view_module": "@jupyter-widgets/base",
            "overflow": null,
            "_model_module_version": "1.2.0",
            "_view_count": null,
            "flex_flow": null,
            "width": null,
            "min_width": null,
            "border": null,
            "align_items": null,
            "bottom": null,
            "_model_module": "@jupyter-widgets/base",
            "top": null,
            "grid_column": null,
            "overflow_y": null,
            "overflow_x": null,
            "grid_auto_flow": null,
            "grid_area": null,
            "grid_template_columns": null,
            "flex": null,
            "_model_name": "LayoutModel",
            "justify_items": null,
            "grid_row": null,
            "max_height": null,
            "align_content": null,
            "visibility": null,
            "align_self": null,
            "height": null,
            "min_height": null,
            "padding": null,
            "grid_auto_rows": null,
            "grid_gap": null,
            "max_width": null,
            "order": null,
            "_view_module_version": "1.2.0",
            "grid_template_areas": null,
            "object_position": null,
            "object_fit": null,
            "grid_auto_columns": null,
            "margin": null,
            "display": null,
            "left": null
          }
        },
        "63609a780f7244d68e319e07c134ccb6": {
          "model_module": "@jupyter-widgets/controls",
          "model_name": "ProgressStyleModel",
          "model_module_version": "1.5.0",
          "state": {
            "_view_name": "StyleView",
            "_model_name": "ProgressStyleModel",
            "description_width": "",
            "_view_module": "@jupyter-widgets/base",
            "_model_module_version": "1.5.0",
            "_view_count": null,
            "_view_module_version": "1.2.0",
            "bar_color": null,
            "_model_module": "@jupyter-widgets/controls"
          }
        },
        "4251679f5784445e8feadd0202b205d8": {
          "model_module": "@jupyter-widgets/base",
          "model_name": "LayoutModel",
          "model_module_version": "1.2.0",
          "state": {
            "_view_name": "LayoutView",
            "grid_template_rows": null,
            "right": null,
            "justify_content": null,
            "_view_module": "@jupyter-widgets/base",
            "overflow": null,
            "_model_module_version": "1.2.0",
            "_view_count": null,
            "flex_flow": null,
            "width": null,
            "min_width": null,
            "border": null,
            "align_items": null,
            "bottom": null,
            "_model_module": "@jupyter-widgets/base",
            "top": null,
            "grid_column": null,
            "overflow_y": null,
            "overflow_x": null,
            "grid_auto_flow": null,
            "grid_area": null,
            "grid_template_columns": null,
            "flex": null,
            "_model_name": "LayoutModel",
            "justify_items": null,
            "grid_row": null,
            "max_height": null,
            "align_content": null,
            "visibility": null,
            "align_self": null,
            "height": null,
            "min_height": null,
            "padding": null,
            "grid_auto_rows": null,
            "grid_gap": null,
            "max_width": null,
            "order": null,
            "_view_module_version": "1.2.0",
            "grid_template_areas": null,
            "object_position": null,
            "object_fit": null,
            "grid_auto_columns": null,
            "margin": null,
            "display": null,
            "left": null
          }
        },
        "c348c06ffb414002882770c7ffb6d77a": {
          "model_module": "@jupyter-widgets/controls",
          "model_name": "DescriptionStyleModel",
          "model_module_version": "1.5.0",
          "state": {
            "_view_name": "StyleView",
            "_model_name": "DescriptionStyleModel",
            "description_width": "",
            "_view_module": "@jupyter-widgets/base",
            "_model_module_version": "1.5.0",
            "_view_count": null,
            "_view_module_version": "1.2.0",
            "_model_module": "@jupyter-widgets/controls"
          }
        },
        "7f4e6ee9c36a4a16bed008f2577cb90d": {
          "model_module": "@jupyter-widgets/base",
          "model_name": "LayoutModel",
          "model_module_version": "1.2.0",
          "state": {
            "_view_name": "LayoutView",
            "grid_template_rows": null,
            "right": null,
            "justify_content": null,
            "_view_module": "@jupyter-widgets/base",
            "overflow": null,
            "_model_module_version": "1.2.0",
            "_view_count": null,
            "flex_flow": null,
            "width": null,
            "min_width": null,
            "border": null,
            "align_items": null,
            "bottom": null,
            "_model_module": "@jupyter-widgets/base",
            "top": null,
            "grid_column": null,
            "overflow_y": null,
            "overflow_x": null,
            "grid_auto_flow": null,
            "grid_area": null,
            "grid_template_columns": null,
            "flex": null,
            "_model_name": "LayoutModel",
            "justify_items": null,
            "grid_row": null,
            "max_height": null,
            "align_content": null,
            "visibility": null,
            "align_self": null,
            "height": null,
            "min_height": null,
            "padding": null,
            "grid_auto_rows": null,
            "grid_gap": null,
            "max_width": null,
            "order": null,
            "_view_module_version": "1.2.0",
            "grid_template_areas": null,
            "object_position": null,
            "object_fit": null,
            "grid_auto_columns": null,
            "margin": null,
            "display": null,
            "left": null
          }
        },
        "db3fe785b27d4933a0721ac7232dccd2": {
          "model_module": "@jupyter-widgets/controls",
          "model_name": "HBoxModel",
          "model_module_version": "1.5.0",
          "state": {
            "_view_name": "HBoxView",
            "_dom_classes": [],
            "_model_name": "HBoxModel",
            "_view_module": "@jupyter-widgets/controls",
            "_model_module_version": "1.5.0",
            "_view_count": null,
            "_view_module_version": "1.5.0",
            "box_style": "",
            "layout": "IPY_MODEL_927e7cdb1712449d8cbb0e212f6856c4",
            "_model_module": "@jupyter-widgets/controls",
            "children": [
              "IPY_MODEL_a533005dfd9f43b0b0378d01ed91b4b0",
              "IPY_MODEL_e5b97dd9700048418a037c8252eb74ee",
              "IPY_MODEL_b11be09e18244de8979944d1644faa9d"
            ]
          }
        },
        "927e7cdb1712449d8cbb0e212f6856c4": {
          "model_module": "@jupyter-widgets/base",
          "model_name": "LayoutModel",
          "model_module_version": "1.2.0",
          "state": {
            "_view_name": "LayoutView",
            "grid_template_rows": null,
            "right": null,
            "justify_content": null,
            "_view_module": "@jupyter-widgets/base",
            "overflow": null,
            "_model_module_version": "1.2.0",
            "_view_count": null,
            "flex_flow": null,
            "width": null,
            "min_width": null,
            "border": null,
            "align_items": null,
            "bottom": null,
            "_model_module": "@jupyter-widgets/base",
            "top": null,
            "grid_column": null,
            "overflow_y": null,
            "overflow_x": null,
            "grid_auto_flow": null,
            "grid_area": null,
            "grid_template_columns": null,
            "flex": null,
            "_model_name": "LayoutModel",
            "justify_items": null,
            "grid_row": null,
            "max_height": null,
            "align_content": null,
            "visibility": null,
            "align_self": null,
            "height": null,
            "min_height": null,
            "padding": null,
            "grid_auto_rows": null,
            "grid_gap": null,
            "max_width": null,
            "order": null,
            "_view_module_version": "1.2.0",
            "grid_template_areas": null,
            "object_position": null,
            "object_fit": null,
            "grid_auto_columns": null,
            "margin": null,
            "display": null,
            "left": null
          }
        },
        "a533005dfd9f43b0b0378d01ed91b4b0": {
          "model_module": "@jupyter-widgets/controls",
          "model_name": "HTMLModel",
          "model_module_version": "1.5.0",
          "state": {
            "_view_name": "HTMLView",
            "style": "IPY_MODEL_554cf9d09343400ea65a2645eb187f02",
            "_dom_classes": [],
            "description": "",
            "_model_name": "HTMLModel",
            "placeholder": "​",
            "_view_module": "@jupyter-widgets/controls",
            "_model_module_version": "1.5.0",
            "value": "100%",
            "_view_count": null,
            "_view_module_version": "1.5.0",
            "description_tooltip": null,
            "_model_module": "@jupyter-widgets/controls",
            "layout": "IPY_MODEL_ae4ae11bd5be4407bfe41970991b8da3"
          }
        },
        "e5b97dd9700048418a037c8252eb74ee": {
          "model_module": "@jupyter-widgets/controls",
          "model_name": "FloatProgressModel",
          "model_module_version": "1.5.0",
          "state": {
            "_view_name": "ProgressView",
            "style": "IPY_MODEL_13af401502604ac0972d097d76a4a755",
            "_dom_classes": [],
            "description": "",
            "_model_name": "FloatProgressModel",
            "bar_style": "success",
            "max": 19,
            "_view_module": "@jupyter-widgets/controls",
            "_model_module_version": "1.5.0",
            "value": 19,
            "_view_count": null,
            "_view_module_version": "1.5.0",
            "orientation": "horizontal",
            "min": 0,
            "description_tooltip": null,
            "_model_module": "@jupyter-widgets/controls",
            "layout": "IPY_MODEL_ad9e6c4ae7ec4cb0b8db66da06a81888"
          }
        },
        "b11be09e18244de8979944d1644faa9d": {
          "model_module": "@jupyter-widgets/controls",
          "model_name": "HTMLModel",
          "model_module_version": "1.5.0",
          "state": {
            "_view_name": "HTMLView",
            "style": "IPY_MODEL_4dadb4845cb0437b98267af3b06f4fc7",
            "_dom_classes": [],
            "description": "",
            "_model_name": "HTMLModel",
            "placeholder": "​",
            "_view_module": "@jupyter-widgets/controls",
            "_model_module_version": "1.5.0",
            "value": " 19/19 [00:01&lt;00:00, 15.87it/s]",
            "_view_count": null,
            "_view_module_version": "1.5.0",
            "description_tooltip": null,
            "_model_module": "@jupyter-widgets/controls",
            "layout": "IPY_MODEL_c3b13e28db7341f5bafd08f4b20bed95"
          }
        },
        "554cf9d09343400ea65a2645eb187f02": {
          "model_module": "@jupyter-widgets/controls",
          "model_name": "DescriptionStyleModel",
          "model_module_version": "1.5.0",
          "state": {
            "_view_name": "StyleView",
            "_model_name": "DescriptionStyleModel",
            "description_width": "",
            "_view_module": "@jupyter-widgets/base",
            "_model_module_version": "1.5.0",
            "_view_count": null,
            "_view_module_version": "1.2.0",
            "_model_module": "@jupyter-widgets/controls"
          }
        },
        "ae4ae11bd5be4407bfe41970991b8da3": {
          "model_module": "@jupyter-widgets/base",
          "model_name": "LayoutModel",
          "model_module_version": "1.2.0",
          "state": {
            "_view_name": "LayoutView",
            "grid_template_rows": null,
            "right": null,
            "justify_content": null,
            "_view_module": "@jupyter-widgets/base",
            "overflow": null,
            "_model_module_version": "1.2.0",
            "_view_count": null,
            "flex_flow": null,
            "width": null,
            "min_width": null,
            "border": null,
            "align_items": null,
            "bottom": null,
            "_model_module": "@jupyter-widgets/base",
            "top": null,
            "grid_column": null,
            "overflow_y": null,
            "overflow_x": null,
            "grid_auto_flow": null,
            "grid_area": null,
            "grid_template_columns": null,
            "flex": null,
            "_model_name": "LayoutModel",
            "justify_items": null,
            "grid_row": null,
            "max_height": null,
            "align_content": null,
            "visibility": null,
            "align_self": null,
            "height": null,
            "min_height": null,
            "padding": null,
            "grid_auto_rows": null,
            "grid_gap": null,
            "max_width": null,
            "order": null,
            "_view_module_version": "1.2.0",
            "grid_template_areas": null,
            "object_position": null,
            "object_fit": null,
            "grid_auto_columns": null,
            "margin": null,
            "display": null,
            "left": null
          }
        },
        "13af401502604ac0972d097d76a4a755": {
          "model_module": "@jupyter-widgets/controls",
          "model_name": "ProgressStyleModel",
          "model_module_version": "1.5.0",
          "state": {
            "_view_name": "StyleView",
            "_model_name": "ProgressStyleModel",
            "description_width": "",
            "_view_module": "@jupyter-widgets/base",
            "_model_module_version": "1.5.0",
            "_view_count": null,
            "_view_module_version": "1.2.0",
            "bar_color": null,
            "_model_module": "@jupyter-widgets/controls"
          }
        },
        "ad9e6c4ae7ec4cb0b8db66da06a81888": {
          "model_module": "@jupyter-widgets/base",
          "model_name": "LayoutModel",
          "model_module_version": "1.2.0",
          "state": {
            "_view_name": "LayoutView",
            "grid_template_rows": null,
            "right": null,
            "justify_content": null,
            "_view_module": "@jupyter-widgets/base",
            "overflow": null,
            "_model_module_version": "1.2.0",
            "_view_count": null,
            "flex_flow": null,
            "width": null,
            "min_width": null,
            "border": null,
            "align_items": null,
            "bottom": null,
            "_model_module": "@jupyter-widgets/base",
            "top": null,
            "grid_column": null,
            "overflow_y": null,
            "overflow_x": null,
            "grid_auto_flow": null,
            "grid_area": null,
            "grid_template_columns": null,
            "flex": null,
            "_model_name": "LayoutModel",
            "justify_items": null,
            "grid_row": null,
            "max_height": null,
            "align_content": null,
            "visibility": null,
            "align_self": null,
            "height": null,
            "min_height": null,
            "padding": null,
            "grid_auto_rows": null,
            "grid_gap": null,
            "max_width": null,
            "order": null,
            "_view_module_version": "1.2.0",
            "grid_template_areas": null,
            "object_position": null,
            "object_fit": null,
            "grid_auto_columns": null,
            "margin": null,
            "display": null,
            "left": null
          }
        },
        "4dadb4845cb0437b98267af3b06f4fc7": {
          "model_module": "@jupyter-widgets/controls",
          "model_name": "DescriptionStyleModel",
          "model_module_version": "1.5.0",
          "state": {
            "_view_name": "StyleView",
            "_model_name": "DescriptionStyleModel",
            "description_width": "",
            "_view_module": "@jupyter-widgets/base",
            "_model_module_version": "1.5.0",
            "_view_count": null,
            "_view_module_version": "1.2.0",
            "_model_module": "@jupyter-widgets/controls"
          }
        },
        "c3b13e28db7341f5bafd08f4b20bed95": {
          "model_module": "@jupyter-widgets/base",
          "model_name": "LayoutModel",
          "model_module_version": "1.2.0",
          "state": {
            "_view_name": "LayoutView",
            "grid_template_rows": null,
            "right": null,
            "justify_content": null,
            "_view_module": "@jupyter-widgets/base",
            "overflow": null,
            "_model_module_version": "1.2.0",
            "_view_count": null,
            "flex_flow": null,
            "width": null,
            "min_width": null,
            "border": null,
            "align_items": null,
            "bottom": null,
            "_model_module": "@jupyter-widgets/base",
            "top": null,
            "grid_column": null,
            "overflow_y": null,
            "overflow_x": null,
            "grid_auto_flow": null,
            "grid_area": null,
            "grid_template_columns": null,
            "flex": null,
            "_model_name": "LayoutModel",
            "justify_items": null,
            "grid_row": null,
            "max_height": null,
            "align_content": null,
            "visibility": null,
            "align_self": null,
            "height": null,
            "min_height": null,
            "padding": null,
            "grid_auto_rows": null,
            "grid_gap": null,
            "max_width": null,
            "order": null,
            "_view_module_version": "1.2.0",
            "grid_template_areas": null,
            "object_position": null,
            "object_fit": null,
            "grid_auto_columns": null,
            "margin": null,
            "display": null,
            "left": null
          }
        },
        "d44fdd747b67401aad6a5963862b14d4": {
          "model_module": "@jupyter-widgets/controls",
          "model_name": "HBoxModel",
          "model_module_version": "1.5.0",
          "state": {
            "_view_name": "HBoxView",
            "_dom_classes": [],
            "_model_name": "HBoxModel",
            "_view_module": "@jupyter-widgets/controls",
            "_model_module_version": "1.5.0",
            "_view_count": null,
            "_view_module_version": "1.5.0",
            "box_style": "",
            "layout": "IPY_MODEL_b981b99b79294e52aa7c6039e2ccceba",
            "_model_module": "@jupyter-widgets/controls",
            "children": [
              "IPY_MODEL_cf5967b566c647bf903669c9aca88b73",
              "IPY_MODEL_491c54e3609d44429328374aeb678ca4",
              "IPY_MODEL_008b13495d644ca09cbe813d653520ef"
            ]
          }
        },
        "b981b99b79294e52aa7c6039e2ccceba": {
          "model_module": "@jupyter-widgets/base",
          "model_name": "LayoutModel",
          "model_module_version": "1.2.0",
          "state": {
            "_view_name": "LayoutView",
            "grid_template_rows": null,
            "right": null,
            "justify_content": null,
            "_view_module": "@jupyter-widgets/base",
            "overflow": null,
            "_model_module_version": "1.2.0",
            "_view_count": null,
            "flex_flow": null,
            "width": null,
            "min_width": null,
            "border": null,
            "align_items": null,
            "bottom": null,
            "_model_module": "@jupyter-widgets/base",
            "top": null,
            "grid_column": null,
            "overflow_y": null,
            "overflow_x": null,
            "grid_auto_flow": null,
            "grid_area": null,
            "grid_template_columns": null,
            "flex": null,
            "_model_name": "LayoutModel",
            "justify_items": null,
            "grid_row": null,
            "max_height": null,
            "align_content": null,
            "visibility": null,
            "align_self": null,
            "height": null,
            "min_height": null,
            "padding": null,
            "grid_auto_rows": null,
            "grid_gap": null,
            "max_width": null,
            "order": null,
            "_view_module_version": "1.2.0",
            "grid_template_areas": null,
            "object_position": null,
            "object_fit": null,
            "grid_auto_columns": null,
            "margin": null,
            "display": null,
            "left": null
          }
        },
        "cf5967b566c647bf903669c9aca88b73": {
          "model_module": "@jupyter-widgets/controls",
          "model_name": "HTMLModel",
          "model_module_version": "1.5.0",
          "state": {
            "_view_name": "HTMLView",
            "style": "IPY_MODEL_474c24adcfb9421ea07dffe6bf674e71",
            "_dom_classes": [],
            "description": "",
            "_model_name": "HTMLModel",
            "placeholder": "​",
            "_view_module": "@jupyter-widgets/controls",
            "_model_module_version": "1.5.0",
            "value": "Downloading: ",
            "_view_count": null,
            "_view_module_version": "1.5.0",
            "description_tooltip": null,
            "_model_module": "@jupyter-widgets/controls",
            "layout": "IPY_MODEL_116b9a60e8c4485d96e26b553e6914fe"
          }
        },
        "491c54e3609d44429328374aeb678ca4": {
          "model_module": "@jupyter-widgets/controls",
          "model_name": "FloatProgressModel",
          "model_module_version": "1.5.0",
          "state": {
            "_view_name": "ProgressView",
            "style": "IPY_MODEL_2bf43048141143d4b290e46af4355cb9",
            "_dom_classes": [],
            "description": "",
            "_model_name": "FloatProgressModel",
            "bar_style": "success",
            "max": 2264,
            "_view_module": "@jupyter-widgets/controls",
            "_model_module_version": "1.5.0",
            "value": 2264,
            "_view_count": null,
            "_view_module_version": "1.5.0",
            "orientation": "horizontal",
            "min": 0,
            "description_tooltip": null,
            "_model_module": "@jupyter-widgets/controls",
            "layout": "IPY_MODEL_100d46a63949495187dd1afee6beab93"
          }
        },
        "008b13495d644ca09cbe813d653520ef": {
          "model_module": "@jupyter-widgets/controls",
          "model_name": "HTMLModel",
          "model_module_version": "1.5.0",
          "state": {
            "_view_name": "HTMLView",
            "style": "IPY_MODEL_41c822d1a2254a80b2f702b2826b539b",
            "_dom_classes": [],
            "description": "",
            "_model_name": "HTMLModel",
            "placeholder": "​",
            "_view_module": "@jupyter-widgets/controls",
            "_model_module_version": "1.5.0",
            "value": " 6.49k/? [00:00&lt;00:00, 183kB/s]",
            "_view_count": null,
            "_view_module_version": "1.5.0",
            "description_tooltip": null,
            "_model_module": "@jupyter-widgets/controls",
            "layout": "IPY_MODEL_cbd56ae18fa84ec0b58872111e1b3b9e"
          }
        },
        "474c24adcfb9421ea07dffe6bf674e71": {
          "model_module": "@jupyter-widgets/controls",
          "model_name": "DescriptionStyleModel",
          "model_module_version": "1.5.0",
          "state": {
            "_view_name": "StyleView",
            "_model_name": "DescriptionStyleModel",
            "description_width": "",
            "_view_module": "@jupyter-widgets/base",
            "_model_module_version": "1.5.0",
            "_view_count": null,
            "_view_module_version": "1.2.0",
            "_model_module": "@jupyter-widgets/controls"
          }
        },
        "116b9a60e8c4485d96e26b553e6914fe": {
          "model_module": "@jupyter-widgets/base",
          "model_name": "LayoutModel",
          "model_module_version": "1.2.0",
          "state": {
            "_view_name": "LayoutView",
            "grid_template_rows": null,
            "right": null,
            "justify_content": null,
            "_view_module": "@jupyter-widgets/base",
            "overflow": null,
            "_model_module_version": "1.2.0",
            "_view_count": null,
            "flex_flow": null,
            "width": null,
            "min_width": null,
            "border": null,
            "align_items": null,
            "bottom": null,
            "_model_module": "@jupyter-widgets/base",
            "top": null,
            "grid_column": null,
            "overflow_y": null,
            "overflow_x": null,
            "grid_auto_flow": null,
            "grid_area": null,
            "grid_template_columns": null,
            "flex": null,
            "_model_name": "LayoutModel",
            "justify_items": null,
            "grid_row": null,
            "max_height": null,
            "align_content": null,
            "visibility": null,
            "align_self": null,
            "height": null,
            "min_height": null,
            "padding": null,
            "grid_auto_rows": null,
            "grid_gap": null,
            "max_width": null,
            "order": null,
            "_view_module_version": "1.2.0",
            "grid_template_areas": null,
            "object_position": null,
            "object_fit": null,
            "grid_auto_columns": null,
            "margin": null,
            "display": null,
            "left": null
          }
        },
        "2bf43048141143d4b290e46af4355cb9": {
          "model_module": "@jupyter-widgets/controls",
          "model_name": "ProgressStyleModel",
          "model_module_version": "1.5.0",
          "state": {
            "_view_name": "StyleView",
            "_model_name": "ProgressStyleModel",
            "description_width": "",
            "_view_module": "@jupyter-widgets/base",
            "_model_module_version": "1.5.0",
            "_view_count": null,
            "_view_module_version": "1.2.0",
            "bar_color": null,
            "_model_module": "@jupyter-widgets/controls"
          }
        },
        "100d46a63949495187dd1afee6beab93": {
          "model_module": "@jupyter-widgets/base",
          "model_name": "LayoutModel",
          "model_module_version": "1.2.0",
          "state": {
            "_view_name": "LayoutView",
            "grid_template_rows": null,
            "right": null,
            "justify_content": null,
            "_view_module": "@jupyter-widgets/base",
            "overflow": null,
            "_model_module_version": "1.2.0",
            "_view_count": null,
            "flex_flow": null,
            "width": null,
            "min_width": null,
            "border": null,
            "align_items": null,
            "bottom": null,
            "_model_module": "@jupyter-widgets/base",
            "top": null,
            "grid_column": null,
            "overflow_y": null,
            "overflow_x": null,
            "grid_auto_flow": null,
            "grid_area": null,
            "grid_template_columns": null,
            "flex": null,
            "_model_name": "LayoutModel",
            "justify_items": null,
            "grid_row": null,
            "max_height": null,
            "align_content": null,
            "visibility": null,
            "align_self": null,
            "height": null,
            "min_height": null,
            "padding": null,
            "grid_auto_rows": null,
            "grid_gap": null,
            "max_width": null,
            "order": null,
            "_view_module_version": "1.2.0",
            "grid_template_areas": null,
            "object_position": null,
            "object_fit": null,
            "grid_auto_columns": null,
            "margin": null,
            "display": null,
            "left": null
          }
        },
        "41c822d1a2254a80b2f702b2826b539b": {
          "model_module": "@jupyter-widgets/controls",
          "model_name": "DescriptionStyleModel",
          "model_module_version": "1.5.0",
          "state": {
            "_view_name": "StyleView",
            "_model_name": "DescriptionStyleModel",
            "description_width": "",
            "_view_module": "@jupyter-widgets/base",
            "_model_module_version": "1.5.0",
            "_view_count": null,
            "_view_module_version": "1.2.0",
            "_model_module": "@jupyter-widgets/controls"
          }
        },
        "cbd56ae18fa84ec0b58872111e1b3b9e": {
          "model_module": "@jupyter-widgets/base",
          "model_name": "LayoutModel",
          "model_module_version": "1.2.0",
          "state": {
            "_view_name": "LayoutView",
            "grid_template_rows": null,
            "right": null,
            "justify_content": null,
            "_view_module": "@jupyter-widgets/base",
            "overflow": null,
            "_model_module_version": "1.2.0",
            "_view_count": null,
            "flex_flow": null,
            "width": null,
            "min_width": null,
            "border": null,
            "align_items": null,
            "bottom": null,
            "_model_module": "@jupyter-widgets/base",
            "top": null,
            "grid_column": null,
            "overflow_y": null,
            "overflow_x": null,
            "grid_auto_flow": null,
            "grid_area": null,
            "grid_template_columns": null,
            "flex": null,
            "_model_name": "LayoutModel",
            "justify_items": null,
            "grid_row": null,
            "max_height": null,
            "align_content": null,
            "visibility": null,
            "align_self": null,
            "height": null,
            "min_height": null,
            "padding": null,
            "grid_auto_rows": null,
            "grid_gap": null,
            "max_width": null,
            "order": null,
            "_view_module_version": "1.2.0",
            "grid_template_areas": null,
            "object_position": null,
            "object_fit": null,
            "grid_auto_columns": null,
            "margin": null,
            "display": null,
            "left": null
          }
        },
        "b48f97ea2bcc464fad061c8885bfba77": {
          "model_module": "@jupyter-widgets/controls",
          "model_name": "HBoxModel",
          "model_module_version": "1.5.0",
          "state": {
            "_view_name": "HBoxView",
            "_dom_classes": [],
            "_model_name": "HBoxModel",
            "_view_module": "@jupyter-widgets/controls",
            "_model_module_version": "1.5.0",
            "_view_count": null,
            "_view_module_version": "1.5.0",
            "box_style": "",
            "layout": "IPY_MODEL_a1c3a4680ba943f99fd0e7dd17db425e",
            "_model_module": "@jupyter-widgets/controls",
            "children": [
              "IPY_MODEL_120ebf52697a4a4988e1af484ba4732a",
              "IPY_MODEL_f556ed1ee3534493a57fa0099604abc1",
              "IPY_MODEL_a600e439c02b4557970fe19994cf103d"
            ]
          }
        },
        "a1c3a4680ba943f99fd0e7dd17db425e": {
          "model_module": "@jupyter-widgets/base",
          "model_name": "LayoutModel",
          "model_module_version": "1.2.0",
          "state": {
            "_view_name": "LayoutView",
            "grid_template_rows": null,
            "right": null,
            "justify_content": null,
            "_view_module": "@jupyter-widgets/base",
            "overflow": null,
            "_model_module_version": "1.2.0",
            "_view_count": null,
            "flex_flow": null,
            "width": null,
            "min_width": null,
            "border": null,
            "align_items": null,
            "bottom": null,
            "_model_module": "@jupyter-widgets/base",
            "top": null,
            "grid_column": null,
            "overflow_y": null,
            "overflow_x": null,
            "grid_auto_flow": null,
            "grid_area": null,
            "grid_template_columns": null,
            "flex": null,
            "_model_name": "LayoutModel",
            "justify_items": null,
            "grid_row": null,
            "max_height": null,
            "align_content": null,
            "visibility": null,
            "align_self": null,
            "height": null,
            "min_height": null,
            "padding": null,
            "grid_auto_rows": null,
            "grid_gap": null,
            "max_width": null,
            "order": null,
            "_view_module_version": "1.2.0",
            "grid_template_areas": null,
            "object_position": null,
            "object_fit": null,
            "grid_auto_columns": null,
            "margin": null,
            "display": null,
            "left": null
          }
        },
        "120ebf52697a4a4988e1af484ba4732a": {
          "model_module": "@jupyter-widgets/controls",
          "model_name": "HTMLModel",
          "model_module_version": "1.5.0",
          "state": {
            "_view_name": "HTMLView",
            "style": "IPY_MODEL_607bc724bea44a109e3e282350ee4e87",
            "_dom_classes": [],
            "description": "",
            "_model_name": "HTMLModel",
            "placeholder": "​",
            "_view_module": "@jupyter-widgets/controls",
            "_model_module_version": "1.5.0",
            "value": "Downloading: ",
            "_view_count": null,
            "_view_module_version": "1.5.0",
            "description_tooltip": null,
            "_model_module": "@jupyter-widgets/controls",
            "layout": "IPY_MODEL_c04eabb1b18c41bebe1b50a859f494ff"
          }
        },
        "f556ed1ee3534493a57fa0099604abc1": {
          "model_module": "@jupyter-widgets/controls",
          "model_name": "FloatProgressModel",
          "model_module_version": "1.5.0",
          "state": {
            "_view_name": "ProgressView",
            "style": "IPY_MODEL_1d072ff8112b484684c54c65d66aad3f",
            "_dom_classes": [],
            "description": "",
            "_model_name": "FloatProgressModel",
            "bar_style": "success",
            "max": 3181,
            "_view_module": "@jupyter-widgets/controls",
            "_model_module_version": "1.5.0",
            "value": 3181,
            "_view_count": null,
            "_view_module_version": "1.5.0",
            "orientation": "horizontal",
            "min": 0,
            "description_tooltip": null,
            "_model_module": "@jupyter-widgets/controls",
            "layout": "IPY_MODEL_79b4a167bf3f45b8943834993bdaaf0d"
          }
        },
        "a600e439c02b4557970fe19994cf103d": {
          "model_module": "@jupyter-widgets/controls",
          "model_name": "HTMLModel",
          "model_module_version": "1.5.0",
          "state": {
            "_view_name": "HTMLView",
            "style": "IPY_MODEL_7c2fee6abdaf425ba1637d2b31e19821",
            "_dom_classes": [],
            "description": "",
            "_model_name": "HTMLModel",
            "placeholder": "​",
            "_view_module": "@jupyter-widgets/controls",
            "_model_module_version": "1.5.0",
            "value": " 11.3k/? [00:00&lt;00:00, 329kB/s]",
            "_view_count": null,
            "_view_module_version": "1.5.0",
            "description_tooltip": null,
            "_model_module": "@jupyter-widgets/controls",
            "layout": "IPY_MODEL_7b9ce5c6f37d4fe3a20bda45ac059096"
          }
        },
        "607bc724bea44a109e3e282350ee4e87": {
          "model_module": "@jupyter-widgets/controls",
          "model_name": "DescriptionStyleModel",
          "model_module_version": "1.5.0",
          "state": {
            "_view_name": "StyleView",
            "_model_name": "DescriptionStyleModel",
            "description_width": "",
            "_view_module": "@jupyter-widgets/base",
            "_model_module_version": "1.5.0",
            "_view_count": null,
            "_view_module_version": "1.2.0",
            "_model_module": "@jupyter-widgets/controls"
          }
        },
        "c04eabb1b18c41bebe1b50a859f494ff": {
          "model_module": "@jupyter-widgets/base",
          "model_name": "LayoutModel",
          "model_module_version": "1.2.0",
          "state": {
            "_view_name": "LayoutView",
            "grid_template_rows": null,
            "right": null,
            "justify_content": null,
            "_view_module": "@jupyter-widgets/base",
            "overflow": null,
            "_model_module_version": "1.2.0",
            "_view_count": null,
            "flex_flow": null,
            "width": null,
            "min_width": null,
            "border": null,
            "align_items": null,
            "bottom": null,
            "_model_module": "@jupyter-widgets/base",
            "top": null,
            "grid_column": null,
            "overflow_y": null,
            "overflow_x": null,
            "grid_auto_flow": null,
            "grid_area": null,
            "grid_template_columns": null,
            "flex": null,
            "_model_name": "LayoutModel",
            "justify_items": null,
            "grid_row": null,
            "max_height": null,
            "align_content": null,
            "visibility": null,
            "align_self": null,
            "height": null,
            "min_height": null,
            "padding": null,
            "grid_auto_rows": null,
            "grid_gap": null,
            "max_width": null,
            "order": null,
            "_view_module_version": "1.2.0",
            "grid_template_areas": null,
            "object_position": null,
            "object_fit": null,
            "grid_auto_columns": null,
            "margin": null,
            "display": null,
            "left": null
          }
        },
        "1d072ff8112b484684c54c65d66aad3f": {
          "model_module": "@jupyter-widgets/controls",
          "model_name": "ProgressStyleModel",
          "model_module_version": "1.5.0",
          "state": {
            "_view_name": "StyleView",
            "_model_name": "ProgressStyleModel",
            "description_width": "",
            "_view_module": "@jupyter-widgets/base",
            "_model_module_version": "1.5.0",
            "_view_count": null,
            "_view_module_version": "1.2.0",
            "bar_color": null,
            "_model_module": "@jupyter-widgets/controls"
          }
        },
        "79b4a167bf3f45b8943834993bdaaf0d": {
          "model_module": "@jupyter-widgets/base",
          "model_name": "LayoutModel",
          "model_module_version": "1.2.0",
          "state": {
            "_view_name": "LayoutView",
            "grid_template_rows": null,
            "right": null,
            "justify_content": null,
            "_view_module": "@jupyter-widgets/base",
            "overflow": null,
            "_model_module_version": "1.2.0",
            "_view_count": null,
            "flex_flow": null,
            "width": null,
            "min_width": null,
            "border": null,
            "align_items": null,
            "bottom": null,
            "_model_module": "@jupyter-widgets/base",
            "top": null,
            "grid_column": null,
            "overflow_y": null,
            "overflow_x": null,
            "grid_auto_flow": null,
            "grid_area": null,
            "grid_template_columns": null,
            "flex": null,
            "_model_name": "LayoutModel",
            "justify_items": null,
            "grid_row": null,
            "max_height": null,
            "align_content": null,
            "visibility": null,
            "align_self": null,
            "height": null,
            "min_height": null,
            "padding": null,
            "grid_auto_rows": null,
            "grid_gap": null,
            "max_width": null,
            "order": null,
            "_view_module_version": "1.2.0",
            "grid_template_areas": null,
            "object_position": null,
            "object_fit": null,
            "grid_auto_columns": null,
            "margin": null,
            "display": null,
            "left": null
          }
        },
        "7c2fee6abdaf425ba1637d2b31e19821": {
          "model_module": "@jupyter-widgets/controls",
          "model_name": "DescriptionStyleModel",
          "model_module_version": "1.5.0",
          "state": {
            "_view_name": "StyleView",
            "_model_name": "DescriptionStyleModel",
            "description_width": "",
            "_view_module": "@jupyter-widgets/base",
            "_model_module_version": "1.5.0",
            "_view_count": null,
            "_view_module_version": "1.2.0",
            "_model_module": "@jupyter-widgets/controls"
          }
        },
        "7b9ce5c6f37d4fe3a20bda45ac059096": {
          "model_module": "@jupyter-widgets/base",
          "model_name": "LayoutModel",
          "model_module_version": "1.2.0",
          "state": {
            "_view_name": "LayoutView",
            "grid_template_rows": null,
            "right": null,
            "justify_content": null,
            "_view_module": "@jupyter-widgets/base",
            "overflow": null,
            "_model_module_version": "1.2.0",
            "_view_count": null,
            "flex_flow": null,
            "width": null,
            "min_width": null,
            "border": null,
            "align_items": null,
            "bottom": null,
            "_model_module": "@jupyter-widgets/base",
            "top": null,
            "grid_column": null,
            "overflow_y": null,
            "overflow_x": null,
            "grid_auto_flow": null,
            "grid_area": null,
            "grid_template_columns": null,
            "flex": null,
            "_model_name": "LayoutModel",
            "justify_items": null,
            "grid_row": null,
            "max_height": null,
            "align_content": null,
            "visibility": null,
            "align_self": null,
            "height": null,
            "min_height": null,
            "padding": null,
            "grid_auto_rows": null,
            "grid_gap": null,
            "max_width": null,
            "order": null,
            "_view_module_version": "1.2.0",
            "grid_template_areas": null,
            "object_position": null,
            "object_fit": null,
            "grid_auto_columns": null,
            "margin": null,
            "display": null,
            "left": null
          }
        },
        "3f11760358e74dab853f0c8358c915d2": {
          "model_module": "@jupyter-widgets/controls",
          "model_name": "HBoxModel",
          "model_module_version": "1.5.0",
          "state": {
            "_view_name": "HBoxView",
            "_dom_classes": [],
            "_model_name": "HBoxModel",
            "_view_module": "@jupyter-widgets/controls",
            "_model_module_version": "1.5.0",
            "_view_count": null,
            "_view_module_version": "1.5.0",
            "box_style": "",
            "layout": "IPY_MODEL_4e316279423443348d556e9a6577aecd",
            "_model_module": "@jupyter-widgets/controls",
            "children": [
              "IPY_MODEL_2da16d0382504bb9a9f4bce3d4e8b2a8",
              "IPY_MODEL_7d6d10175cef431987975e061f40e94e",
              "IPY_MODEL_07a1a3f456bb47779b47aff561bcdf34"
            ]
          }
        },
        "4e316279423443348d556e9a6577aecd": {
          "model_module": "@jupyter-widgets/base",
          "model_name": "LayoutModel",
          "model_module_version": "1.2.0",
          "state": {
            "_view_name": "LayoutView",
            "grid_template_rows": null,
            "right": null,
            "justify_content": null,
            "_view_module": "@jupyter-widgets/base",
            "overflow": null,
            "_model_module_version": "1.2.0",
            "_view_count": null,
            "flex_flow": null,
            "width": null,
            "min_width": null,
            "border": null,
            "align_items": null,
            "bottom": null,
            "_model_module": "@jupyter-widgets/base",
            "top": null,
            "grid_column": null,
            "overflow_y": null,
            "overflow_x": null,
            "grid_auto_flow": null,
            "grid_area": null,
            "grid_template_columns": null,
            "flex": null,
            "_model_name": "LayoutModel",
            "justify_items": null,
            "grid_row": null,
            "max_height": null,
            "align_content": null,
            "visibility": null,
            "align_self": null,
            "height": null,
            "min_height": null,
            "padding": null,
            "grid_auto_rows": null,
            "grid_gap": null,
            "max_width": null,
            "order": null,
            "_view_module_version": "1.2.0",
            "grid_template_areas": null,
            "object_position": null,
            "object_fit": null,
            "grid_auto_columns": null,
            "margin": null,
            "display": null,
            "left": null
          }
        },
        "2da16d0382504bb9a9f4bce3d4e8b2a8": {
          "model_module": "@jupyter-widgets/controls",
          "model_name": "HTMLModel",
          "model_module_version": "1.5.0",
          "state": {
            "_view_name": "HTMLView",
            "style": "IPY_MODEL_bcdf365df0e244978194c478b6b08bc6",
            "_dom_classes": [],
            "description": "",
            "_model_name": "HTMLModel",
            "placeholder": "​",
            "_view_module": "@jupyter-widgets/controls",
            "_model_module_version": "1.5.0",
            "value": "Upload file pytorch_model.bin: 100%",
            "_view_count": null,
            "_view_module_version": "1.5.0",
            "description_tooltip": null,
            "_model_module": "@jupyter-widgets/controls",
            "layout": "IPY_MODEL_56642a0a95294b5e9da3e4bb3a174ac8"
          }
        },
        "7d6d10175cef431987975e061f40e94e": {
          "model_module": "@jupyter-widgets/controls",
          "model_name": "FloatProgressModel",
          "model_module_version": "1.5.0",
          "state": {
            "_view_name": "ProgressView",
            "style": "IPY_MODEL_3b3dd1ca3ee5448e92cc9e94890018c2",
            "_dom_classes": [],
            "description": "",
            "_model_name": "FloatProgressModel",
            "bar_style": "success",
            "max": 466953569,
            "_view_module": "@jupyter-widgets/controls",
            "_model_module_version": "1.5.0",
            "value": 466953569,
            "_view_count": null,
            "_view_module_version": "1.5.0",
            "orientation": "horizontal",
            "min": 0,
            "description_tooltip": null,
            "_model_module": "@jupyter-widgets/controls",
            "layout": "IPY_MODEL_8c12228de1ec4050bd4c33d02724b84f"
          }
        },
        "07a1a3f456bb47779b47aff561bcdf34": {
          "model_module": "@jupyter-widgets/controls",
          "model_name": "HTMLModel",
          "model_module_version": "1.5.0",
          "state": {
            "_view_name": "HTMLView",
            "style": "IPY_MODEL_ee80b4dfaf0c410798329bb63838d681",
            "_dom_classes": [],
            "description": "",
            "_model_name": "HTMLModel",
            "placeholder": "​",
            "_view_module": "@jupyter-widgets/controls",
            "_model_module_version": "1.5.0",
            "value": " 445M/445M [06:15&lt;00:00, 1.19MB/s]",
            "_view_count": null,
            "_view_module_version": "1.5.0",
            "description_tooltip": null,
            "_model_module": "@jupyter-widgets/controls",
            "layout": "IPY_MODEL_49c19402cbb44eeebbc7f4068d884d3f"
          }
        },
        "bcdf365df0e244978194c478b6b08bc6": {
          "model_module": "@jupyter-widgets/controls",
          "model_name": "DescriptionStyleModel",
          "model_module_version": "1.5.0",
          "state": {
            "_view_name": "StyleView",
            "_model_name": "DescriptionStyleModel",
            "description_width": "",
            "_view_module": "@jupyter-widgets/base",
            "_model_module_version": "1.5.0",
            "_view_count": null,
            "_view_module_version": "1.2.0",
            "_model_module": "@jupyter-widgets/controls"
          }
        },
        "56642a0a95294b5e9da3e4bb3a174ac8": {
          "model_module": "@jupyter-widgets/base",
          "model_name": "LayoutModel",
          "model_module_version": "1.2.0",
          "state": {
            "_view_name": "LayoutView",
            "grid_template_rows": null,
            "right": null,
            "justify_content": null,
            "_view_module": "@jupyter-widgets/base",
            "overflow": null,
            "_model_module_version": "1.2.0",
            "_view_count": null,
            "flex_flow": null,
            "width": null,
            "min_width": null,
            "border": null,
            "align_items": null,
            "bottom": null,
            "_model_module": "@jupyter-widgets/base",
            "top": null,
            "grid_column": null,
            "overflow_y": null,
            "overflow_x": null,
            "grid_auto_flow": null,
            "grid_area": null,
            "grid_template_columns": null,
            "flex": null,
            "_model_name": "LayoutModel",
            "justify_items": null,
            "grid_row": null,
            "max_height": null,
            "align_content": null,
            "visibility": null,
            "align_self": null,
            "height": null,
            "min_height": null,
            "padding": null,
            "grid_auto_rows": null,
            "grid_gap": null,
            "max_width": null,
            "order": null,
            "_view_module_version": "1.2.0",
            "grid_template_areas": null,
            "object_position": null,
            "object_fit": null,
            "grid_auto_columns": null,
            "margin": null,
            "display": null,
            "left": null
          }
        },
        "3b3dd1ca3ee5448e92cc9e94890018c2": {
          "model_module": "@jupyter-widgets/controls",
          "model_name": "ProgressStyleModel",
          "model_module_version": "1.5.0",
          "state": {
            "_view_name": "StyleView",
            "_model_name": "ProgressStyleModel",
            "description_width": "",
            "_view_module": "@jupyter-widgets/base",
            "_model_module_version": "1.5.0",
            "_view_count": null,
            "_view_module_version": "1.2.0",
            "bar_color": null,
            "_model_module": "@jupyter-widgets/controls"
          }
        },
        "8c12228de1ec4050bd4c33d02724b84f": {
          "model_module": "@jupyter-widgets/base",
          "model_name": "LayoutModel",
          "model_module_version": "1.2.0",
          "state": {
            "_view_name": "LayoutView",
            "grid_template_rows": null,
            "right": null,
            "justify_content": null,
            "_view_module": "@jupyter-widgets/base",
            "overflow": null,
            "_model_module_version": "1.2.0",
            "_view_count": null,
            "flex_flow": null,
            "width": null,
            "min_width": null,
            "border": null,
            "align_items": null,
            "bottom": null,
            "_model_module": "@jupyter-widgets/base",
            "top": null,
            "grid_column": null,
            "overflow_y": null,
            "overflow_x": null,
            "grid_auto_flow": null,
            "grid_area": null,
            "grid_template_columns": null,
            "flex": null,
            "_model_name": "LayoutModel",
            "justify_items": null,
            "grid_row": null,
            "max_height": null,
            "align_content": null,
            "visibility": null,
            "align_self": null,
            "height": null,
            "min_height": null,
            "padding": null,
            "grid_auto_rows": null,
            "grid_gap": null,
            "max_width": null,
            "order": null,
            "_view_module_version": "1.2.0",
            "grid_template_areas": null,
            "object_position": null,
            "object_fit": null,
            "grid_auto_columns": null,
            "margin": null,
            "display": null,
            "left": null
          }
        },
        "ee80b4dfaf0c410798329bb63838d681": {
          "model_module": "@jupyter-widgets/controls",
          "model_name": "DescriptionStyleModel",
          "model_module_version": "1.5.0",
          "state": {
            "_view_name": "StyleView",
            "_model_name": "DescriptionStyleModel",
            "description_width": "",
            "_view_module": "@jupyter-widgets/base",
            "_model_module_version": "1.5.0",
            "_view_count": null,
            "_view_module_version": "1.2.0",
            "_model_module": "@jupyter-widgets/controls"
          }
        },
        "49c19402cbb44eeebbc7f4068d884d3f": {
          "model_module": "@jupyter-widgets/base",
          "model_name": "LayoutModel",
          "model_module_version": "1.2.0",
          "state": {
            "_view_name": "LayoutView",
            "grid_template_rows": null,
            "right": null,
            "justify_content": null,
            "_view_module": "@jupyter-widgets/base",
            "overflow": null,
            "_model_module_version": "1.2.0",
            "_view_count": null,
            "flex_flow": null,
            "width": null,
            "min_width": null,
            "border": null,
            "align_items": null,
            "bottom": null,
            "_model_module": "@jupyter-widgets/base",
            "top": null,
            "grid_column": null,
            "overflow_y": null,
            "overflow_x": null,
            "grid_auto_flow": null,
            "grid_area": null,
            "grid_template_columns": null,
            "flex": null,
            "_model_name": "LayoutModel",
            "justify_items": null,
            "grid_row": null,
            "max_height": null,
            "align_content": null,
            "visibility": null,
            "align_self": null,
            "height": null,
            "min_height": null,
            "padding": null,
            "grid_auto_rows": null,
            "grid_gap": null,
            "max_width": null,
            "order": null,
            "_view_module_version": "1.2.0",
            "grid_template_areas": null,
            "object_position": null,
            "object_fit": null,
            "grid_auto_columns": null,
            "margin": null,
            "display": null,
            "left": null
          }
        },
        "5a2a5d1d655c40f8a01657da936d2450": {
          "model_module": "@jupyter-widgets/controls",
          "model_name": "HBoxModel",
          "model_module_version": "1.5.0",
          "state": {
            "_view_name": "HBoxView",
            "_dom_classes": [],
            "_model_name": "HBoxModel",
            "_view_module": "@jupyter-widgets/controls",
            "_model_module_version": "1.5.0",
            "_view_count": null,
            "_view_module_version": "1.5.0",
            "box_style": "",
            "layout": "IPY_MODEL_00b4ab77fc964053b8689d0264526c69",
            "_model_module": "@jupyter-widgets/controls",
            "children": [
              "IPY_MODEL_12ead455b5144336ad1cb64373f7609e",
              "IPY_MODEL_4fe2ce8b8f5d48b7aa4f5f822268f48e",
              "IPY_MODEL_436458a8d14d43279c993832727db9ec"
            ]
          }
        },
        "00b4ab77fc964053b8689d0264526c69": {
          "model_module": "@jupyter-widgets/base",
          "model_name": "LayoutModel",
          "model_module_version": "1.2.0",
          "state": {
            "_view_name": "LayoutView",
            "grid_template_rows": null,
            "right": null,
            "justify_content": null,
            "_view_module": "@jupyter-widgets/base",
            "overflow": null,
            "_model_module_version": "1.2.0",
            "_view_count": null,
            "flex_flow": null,
            "width": null,
            "min_width": null,
            "border": null,
            "align_items": null,
            "bottom": null,
            "_model_module": "@jupyter-widgets/base",
            "top": null,
            "grid_column": null,
            "overflow_y": null,
            "overflow_x": null,
            "grid_auto_flow": null,
            "grid_area": null,
            "grid_template_columns": null,
            "flex": null,
            "_model_name": "LayoutModel",
            "justify_items": null,
            "grid_row": null,
            "max_height": null,
            "align_content": null,
            "visibility": null,
            "align_self": null,
            "height": null,
            "min_height": null,
            "padding": null,
            "grid_auto_rows": null,
            "grid_gap": null,
            "max_width": null,
            "order": null,
            "_view_module_version": "1.2.0",
            "grid_template_areas": null,
            "object_position": null,
            "object_fit": null,
            "grid_auto_columns": null,
            "margin": null,
            "display": null,
            "left": null
          }
        },
        "12ead455b5144336ad1cb64373f7609e": {
          "model_module": "@jupyter-widgets/controls",
          "model_name": "HTMLModel",
          "model_module_version": "1.5.0",
          "state": {
            "_view_name": "HTMLView",
            "style": "IPY_MODEL_6ee543833e8e4e9b98a52a6b967a64c3",
            "_dom_classes": [],
            "description": "",
            "_model_name": "HTMLModel",
            "placeholder": "​",
            "_view_module": "@jupyter-widgets/controls",
            "_model_module_version": "1.5.0",
            "value": "Upload file runs/Jan24_08-02-08_21fa1a4e240b/events.out.tfevents.1643011345.21fa1a4e240b.834.0: 100%",
            "_view_count": null,
            "_view_module_version": "1.5.0",
            "description_tooltip": null,
            "_model_module": "@jupyter-widgets/controls",
            "layout": "IPY_MODEL_be0aeb4c26c04858844829d44c2cf2c6"
          }
        },
        "4fe2ce8b8f5d48b7aa4f5f822268f48e": {
          "model_module": "@jupyter-widgets/controls",
          "model_name": "FloatProgressModel",
          "model_module_version": "1.5.0",
          "state": {
            "_view_name": "ProgressView",
            "style": "IPY_MODEL_bbc9b9e50d7c46eaa9b579e7517946bf",
            "_dom_classes": [],
            "description": "",
            "_model_name": "FloatProgressModel",
            "bar_style": "success",
            "max": 5837,
            "_view_module": "@jupyter-widgets/controls",
            "_model_module_version": "1.5.0",
            "value": 5837,
            "_view_count": null,
            "_view_module_version": "1.5.0",
            "orientation": "horizontal",
            "min": 0,
            "description_tooltip": null,
            "_model_module": "@jupyter-widgets/controls",
            "layout": "IPY_MODEL_b5e650a2a6f34936922a57ad97f64fdc"
          }
        },
        "436458a8d14d43279c993832727db9ec": {
          "model_module": "@jupyter-widgets/controls",
          "model_name": "HTMLModel",
          "model_module_version": "1.5.0",
          "state": {
            "_view_name": "HTMLView",
            "style": "IPY_MODEL_49893b42b0654a1bad282c8951df5620",
            "_dom_classes": [],
            "description": "",
            "_model_name": "HTMLModel",
            "placeholder": "​",
            "_view_module": "@jupyter-widgets/controls",
            "_model_module_version": "1.5.0",
            "value": " 5.70k/5.70k [06:14&lt;00:00, 6.41B/s]",
            "_view_count": null,
            "_view_module_version": "1.5.0",
            "description_tooltip": null,
            "_model_module": "@jupyter-widgets/controls",
            "layout": "IPY_MODEL_775bc3ffc6624190836c22cb80afa793"
          }
        },
        "6ee543833e8e4e9b98a52a6b967a64c3": {
          "model_module": "@jupyter-widgets/controls",
          "model_name": "DescriptionStyleModel",
          "model_module_version": "1.5.0",
          "state": {
            "_view_name": "StyleView",
            "_model_name": "DescriptionStyleModel",
            "description_width": "",
            "_view_module": "@jupyter-widgets/base",
            "_model_module_version": "1.5.0",
            "_view_count": null,
            "_view_module_version": "1.2.0",
            "_model_module": "@jupyter-widgets/controls"
          }
        },
        "be0aeb4c26c04858844829d44c2cf2c6": {
          "model_module": "@jupyter-widgets/base",
          "model_name": "LayoutModel",
          "model_module_version": "1.2.0",
          "state": {
            "_view_name": "LayoutView",
            "grid_template_rows": null,
            "right": null,
            "justify_content": null,
            "_view_module": "@jupyter-widgets/base",
            "overflow": null,
            "_model_module_version": "1.2.0",
            "_view_count": null,
            "flex_flow": null,
            "width": null,
            "min_width": null,
            "border": null,
            "align_items": null,
            "bottom": null,
            "_model_module": "@jupyter-widgets/base",
            "top": null,
            "grid_column": null,
            "overflow_y": null,
            "overflow_x": null,
            "grid_auto_flow": null,
            "grid_area": null,
            "grid_template_columns": null,
            "flex": null,
            "_model_name": "LayoutModel",
            "justify_items": null,
            "grid_row": null,
            "max_height": null,
            "align_content": null,
            "visibility": null,
            "align_self": null,
            "height": null,
            "min_height": null,
            "padding": null,
            "grid_auto_rows": null,
            "grid_gap": null,
            "max_width": null,
            "order": null,
            "_view_module_version": "1.2.0",
            "grid_template_areas": null,
            "object_position": null,
            "object_fit": null,
            "grid_auto_columns": null,
            "margin": null,
            "display": null,
            "left": null
          }
        },
        "bbc9b9e50d7c46eaa9b579e7517946bf": {
          "model_module": "@jupyter-widgets/controls",
          "model_name": "ProgressStyleModel",
          "model_module_version": "1.5.0",
          "state": {
            "_view_name": "StyleView",
            "_model_name": "ProgressStyleModel",
            "description_width": "",
            "_view_module": "@jupyter-widgets/base",
            "_model_module_version": "1.5.0",
            "_view_count": null,
            "_view_module_version": "1.2.0",
            "bar_color": null,
            "_model_module": "@jupyter-widgets/controls"
          }
        },
        "b5e650a2a6f34936922a57ad97f64fdc": {
          "model_module": "@jupyter-widgets/base",
          "model_name": "LayoutModel",
          "model_module_version": "1.2.0",
          "state": {
            "_view_name": "LayoutView",
            "grid_template_rows": null,
            "right": null,
            "justify_content": null,
            "_view_module": "@jupyter-widgets/base",
            "overflow": null,
            "_model_module_version": "1.2.0",
            "_view_count": null,
            "flex_flow": null,
            "width": null,
            "min_width": null,
            "border": null,
            "align_items": null,
            "bottom": null,
            "_model_module": "@jupyter-widgets/base",
            "top": null,
            "grid_column": null,
            "overflow_y": null,
            "overflow_x": null,
            "grid_auto_flow": null,
            "grid_area": null,
            "grid_template_columns": null,
            "flex": null,
            "_model_name": "LayoutModel",
            "justify_items": null,
            "grid_row": null,
            "max_height": null,
            "align_content": null,
            "visibility": null,
            "align_self": null,
            "height": null,
            "min_height": null,
            "padding": null,
            "grid_auto_rows": null,
            "grid_gap": null,
            "max_width": null,
            "order": null,
            "_view_module_version": "1.2.0",
            "grid_template_areas": null,
            "object_position": null,
            "object_fit": null,
            "grid_auto_columns": null,
            "margin": null,
            "display": null,
            "left": null
          }
        },
        "49893b42b0654a1bad282c8951df5620": {
          "model_module": "@jupyter-widgets/controls",
          "model_name": "DescriptionStyleModel",
          "model_module_version": "1.5.0",
          "state": {
            "_view_name": "StyleView",
            "_model_name": "DescriptionStyleModel",
            "description_width": "",
            "_view_module": "@jupyter-widgets/base",
            "_model_module_version": "1.5.0",
            "_view_count": null,
            "_view_module_version": "1.2.0",
            "_model_module": "@jupyter-widgets/controls"
          }
        },
        "775bc3ffc6624190836c22cb80afa793": {
          "model_module": "@jupyter-widgets/base",
          "model_name": "LayoutModel",
          "model_module_version": "1.2.0",
          "state": {
            "_view_name": "LayoutView",
            "grid_template_rows": null,
            "right": null,
            "justify_content": null,
            "_view_module": "@jupyter-widgets/base",
            "overflow": null,
            "_model_module_version": "1.2.0",
            "_view_count": null,
            "flex_flow": null,
            "width": null,
            "min_width": null,
            "border": null,
            "align_items": null,
            "bottom": null,
            "_model_module": "@jupyter-widgets/base",
            "top": null,
            "grid_column": null,
            "overflow_y": null,
            "overflow_x": null,
            "grid_auto_flow": null,
            "grid_area": null,
            "grid_template_columns": null,
            "flex": null,
            "_model_name": "LayoutModel",
            "justify_items": null,
            "grid_row": null,
            "max_height": null,
            "align_content": null,
            "visibility": null,
            "align_self": null,
            "height": null,
            "min_height": null,
            "padding": null,
            "grid_auto_rows": null,
            "grid_gap": null,
            "max_width": null,
            "order": null,
            "_view_module_version": "1.2.0",
            "grid_template_areas": null,
            "object_position": null,
            "object_fit": null,
            "grid_auto_columns": null,
            "margin": null,
            "display": null,
            "left": null
          }
        }
      }
    },
    "accelerator": "GPU"
  },
  "cells": [
    {
      "cell_type": "markdown",
      "metadata": {
        "id": "view-in-github",
        "colab_type": "text"
      },
      "source": [
        "<a href=\"https://colab.research.google.com/github/nntadotzip/XLNet-sandbox/blob/main/XLNetQA_huggingfacePipeline_XLNetTokenizeFast_paramsLocal.ipynb\" target=\"_parent\"><img src=\"https://colab.research.google.com/assets/colab-badge.svg\" alt=\"Open In Colab\"/></a>"
      ]
    },
    {
      "cell_type": "markdown",
      "source": [
        "# Import and Install"
      ],
      "metadata": {
        "id": "ePhfO2A3wlWM"
      }
    },
    {
      "cell_type": "code",
      "source": [
        "import tensorflow as tf\n",
        "\n",
        "device_name = tf.test.gpu_device_name()\n",
        "if device_name != '/device:GPU:0':\n",
        "  raise SystemError('GPU device not found')\n",
        "print('Found GPU at: {}'.format(device_name))"
      ],
      "metadata": {
        "colab": {
          "base_uri": "https://localhost:8080/"
        },
        "id": "kgtA4B-Sdj4Z",
        "outputId": "99f36137-fa73-4188-dc23-9ab7acea0b39"
      },
      "execution_count": 1,
      "outputs": [
        {
          "output_type": "stream",
          "name": "stdout",
          "text": [
            "Found GPU at: /device:GPU:0\n"
          ]
        }
      ]
    },
    {
      "cell_type": "code",
      "execution_count": 2,
      "metadata": {
        "id": "Rv_xR_o9wetZ",
        "colab": {
          "base_uri": "https://localhost:8080/"
        },
        "outputId": "a0718576-5bbf-4b53-958c-f23a5c2e8517"
      },
      "outputs": [
        {
          "output_type": "stream",
          "name": "stdout",
          "text": [
            "Requirement already satisfied: datasets in /usr/local/lib/python3.7/dist-packages (1.18.0)\n",
            "Requirement already satisfied: transformers in /usr/local/lib/python3.7/dist-packages (4.15.0)\n",
            "Requirement already satisfied: huggingface-hub<1.0.0,>=0.1.0 in /usr/local/lib/python3.7/dist-packages (from datasets) (0.4.0)\n",
            "Requirement already satisfied: pyarrow!=4.0.0,>=3.0.0 in /usr/local/lib/python3.7/dist-packages (from datasets) (3.0.0)\n",
            "Requirement already satisfied: fsspec[http]>=2021.05.0 in /usr/local/lib/python3.7/dist-packages (from datasets) (2022.1.0)\n",
            "Requirement already satisfied: requests>=2.19.0 in /usr/local/lib/python3.7/dist-packages (from datasets) (2.23.0)\n",
            "Requirement already satisfied: numpy>=1.17 in /usr/local/lib/python3.7/dist-packages (from datasets) (1.19.5)\n",
            "Requirement already satisfied: packaging in /usr/local/lib/python3.7/dist-packages (from datasets) (21.3)\n",
            "Requirement already satisfied: xxhash in /usr/local/lib/python3.7/dist-packages (from datasets) (2.0.2)\n",
            "Requirement already satisfied: aiohttp in /usr/local/lib/python3.7/dist-packages (from datasets) (3.8.1)\n",
            "Requirement already satisfied: importlib-metadata in /usr/local/lib/python3.7/dist-packages (from datasets) (4.10.0)\n",
            "Requirement already satisfied: pandas in /usr/local/lib/python3.7/dist-packages (from datasets) (1.1.5)\n",
            "Requirement already satisfied: tqdm>=4.62.1 in /usr/local/lib/python3.7/dist-packages (from datasets) (4.62.3)\n",
            "Requirement already satisfied: dill in /usr/local/lib/python3.7/dist-packages (from datasets) (0.3.4)\n",
            "Requirement already satisfied: multiprocess in /usr/local/lib/python3.7/dist-packages (from datasets) (0.70.12.2)\n",
            "Requirement already satisfied: pyyaml in /usr/local/lib/python3.7/dist-packages (from huggingface-hub<1.0.0,>=0.1.0->datasets) (6.0)\n",
            "Requirement already satisfied: typing-extensions>=3.7.4.3 in /usr/local/lib/python3.7/dist-packages (from huggingface-hub<1.0.0,>=0.1.0->datasets) (3.10.0.2)\n",
            "Requirement already satisfied: filelock in /usr/local/lib/python3.7/dist-packages (from huggingface-hub<1.0.0,>=0.1.0->datasets) (3.4.2)\n",
            "Requirement already satisfied: pyparsing!=3.0.5,>=2.0.2 in /usr/local/lib/python3.7/dist-packages (from packaging->datasets) (3.0.6)\n",
            "Requirement already satisfied: idna<3,>=2.5 in /usr/local/lib/python3.7/dist-packages (from requests>=2.19.0->datasets) (2.10)\n",
            "Requirement already satisfied: urllib3!=1.25.0,!=1.25.1,<1.26,>=1.21.1 in /usr/local/lib/python3.7/dist-packages (from requests>=2.19.0->datasets) (1.25.11)\n",
            "Requirement already satisfied: certifi>=2017.4.17 in /usr/local/lib/python3.7/dist-packages (from requests>=2.19.0->datasets) (2021.10.8)\n",
            "Requirement already satisfied: chardet<4,>=3.0.2 in /usr/local/lib/python3.7/dist-packages (from requests>=2.19.0->datasets) (3.0.4)\n",
            "Requirement already satisfied: sacremoses in /usr/local/lib/python3.7/dist-packages (from transformers) (0.0.47)\n",
            "Requirement already satisfied: regex!=2019.12.17 in /usr/local/lib/python3.7/dist-packages (from transformers) (2019.12.20)\n",
            "Requirement already satisfied: tokenizers<0.11,>=0.10.1 in /usr/local/lib/python3.7/dist-packages (from transformers) (0.10.3)\n",
            "Requirement already satisfied: attrs>=17.3.0 in /usr/local/lib/python3.7/dist-packages (from aiohttp->datasets) (21.4.0)\n",
            "Requirement already satisfied: yarl<2.0,>=1.0 in /usr/local/lib/python3.7/dist-packages (from aiohttp->datasets) (1.7.2)\n",
            "Requirement already satisfied: charset-normalizer<3.0,>=2.0 in /usr/local/lib/python3.7/dist-packages (from aiohttp->datasets) (2.0.10)\n",
            "Requirement already satisfied: multidict<7.0,>=4.5 in /usr/local/lib/python3.7/dist-packages (from aiohttp->datasets) (6.0.1)\n",
            "Requirement already satisfied: asynctest==0.13.0 in /usr/local/lib/python3.7/dist-packages (from aiohttp->datasets) (0.13.0)\n",
            "Requirement already satisfied: aiosignal>=1.1.2 in /usr/local/lib/python3.7/dist-packages (from aiohttp->datasets) (1.2.0)\n",
            "Requirement already satisfied: frozenlist>=1.1.1 in /usr/local/lib/python3.7/dist-packages (from aiohttp->datasets) (1.3.0)\n",
            "Requirement already satisfied: async-timeout<5.0,>=4.0.0a3 in /usr/local/lib/python3.7/dist-packages (from aiohttp->datasets) (4.0.2)\n",
            "Requirement already satisfied: zipp>=0.5 in /usr/local/lib/python3.7/dist-packages (from importlib-metadata->datasets) (3.7.0)\n",
            "Requirement already satisfied: python-dateutil>=2.7.3 in /usr/local/lib/python3.7/dist-packages (from pandas->datasets) (2.8.2)\n",
            "Requirement already satisfied: pytz>=2017.2 in /usr/local/lib/python3.7/dist-packages (from pandas->datasets) (2018.9)\n",
            "Requirement already satisfied: six>=1.5 in /usr/local/lib/python3.7/dist-packages (from python-dateutil>=2.7.3->pandas->datasets) (1.15.0)\n",
            "Requirement already satisfied: joblib in /usr/local/lib/python3.7/dist-packages (from sacremoses->transformers) (1.1.0)\n",
            "Requirement already satisfied: click in /usr/local/lib/python3.7/dist-packages (from sacremoses->transformers) (7.1.2)\n",
            "Requirement already satisfied: pytorch-transformers in /usr/local/lib/python3.7/dist-packages (1.2.0)\n",
            "Requirement already satisfied: numpy in /usr/local/lib/python3.7/dist-packages (from pytorch-transformers) (1.19.5)\n",
            "Requirement already satisfied: sacremoses in /usr/local/lib/python3.7/dist-packages (from pytorch-transformers) (0.0.47)\n",
            "Requirement already satisfied: sentencepiece in /usr/local/lib/python3.7/dist-packages (from pytorch-transformers) (0.1.96)\n",
            "Requirement already satisfied: torch>=1.0.0 in /usr/local/lib/python3.7/dist-packages (from pytorch-transformers) (1.10.0+cu111)\n",
            "Requirement already satisfied: tqdm in /usr/local/lib/python3.7/dist-packages (from pytorch-transformers) (4.62.3)\n",
            "Requirement already satisfied: requests in /usr/local/lib/python3.7/dist-packages (from pytorch-transformers) (2.23.0)\n",
            "Requirement already satisfied: regex in /usr/local/lib/python3.7/dist-packages (from pytorch-transformers) (2019.12.20)\n",
            "Requirement already satisfied: boto3 in /usr/local/lib/python3.7/dist-packages (from pytorch-transformers) (1.20.41)\n",
            "Requirement already satisfied: typing-extensions in /usr/local/lib/python3.7/dist-packages (from torch>=1.0.0->pytorch-transformers) (3.10.0.2)\n",
            "Requirement already satisfied: s3transfer<0.6.0,>=0.5.0 in /usr/local/lib/python3.7/dist-packages (from boto3->pytorch-transformers) (0.5.0)\n",
            "Requirement already satisfied: botocore<1.24.0,>=1.23.41 in /usr/local/lib/python3.7/dist-packages (from boto3->pytorch-transformers) (1.23.41)\n",
            "Requirement already satisfied: jmespath<1.0.0,>=0.7.1 in /usr/local/lib/python3.7/dist-packages (from boto3->pytorch-transformers) (0.10.0)\n",
            "Requirement already satisfied: urllib3<1.27,>=1.25.4 in /usr/local/lib/python3.7/dist-packages (from botocore<1.24.0,>=1.23.41->boto3->pytorch-transformers) (1.25.11)\n",
            "Requirement already satisfied: python-dateutil<3.0.0,>=2.1 in /usr/local/lib/python3.7/dist-packages (from botocore<1.24.0,>=1.23.41->boto3->pytorch-transformers) (2.8.2)\n",
            "Requirement already satisfied: six>=1.5 in /usr/local/lib/python3.7/dist-packages (from python-dateutil<3.0.0,>=2.1->botocore<1.24.0,>=1.23.41->boto3->pytorch-transformers) (1.15.0)\n",
            "Requirement already satisfied: certifi>=2017.4.17 in /usr/local/lib/python3.7/dist-packages (from requests->pytorch-transformers) (2021.10.8)\n",
            "Requirement already satisfied: idna<3,>=2.5 in /usr/local/lib/python3.7/dist-packages (from requests->pytorch-transformers) (2.10)\n",
            "Requirement already satisfied: chardet<4,>=3.0.2 in /usr/local/lib/python3.7/dist-packages (from requests->pytorch-transformers) (3.0.4)\n",
            "Requirement already satisfied: click in /usr/local/lib/python3.7/dist-packages (from sacremoses->pytorch-transformers) (7.1.2)\n",
            "Requirement already satisfied: joblib in /usr/local/lib/python3.7/dist-packages (from sacremoses->pytorch-transformers) (1.1.0)\n"
          ]
        }
      ],
      "source": [
        "! pip install datasets transformers\n",
        "! pip install pytorch-transformers"
      ]
    },
    {
      "cell_type": "code",
      "source": [
        "!huggingface-cli login"
      ],
      "metadata": {
        "colab": {
          "base_uri": "https://localhost:8080/"
        },
        "id": "2HpdDzs6wkvX",
        "outputId": "72503360-1109-4adc-aa51-344ba2a0b0dd"
      },
      "execution_count": 3,
      "outputs": [
        {
          "output_type": "stream",
          "name": "stdout",
          "text": [
            "\n",
            "        _|    _|  _|    _|    _|_|_|    _|_|_|  _|_|_|  _|      _|    _|_|_|      _|_|_|_|    _|_|      _|_|_|  _|_|_|_|\n",
            "        _|    _|  _|    _|  _|        _|          _|    _|_|    _|  _|            _|        _|    _|  _|        _|\n",
            "        _|_|_|_|  _|    _|  _|  _|_|  _|  _|_|    _|    _|  _|  _|  _|  _|_|      _|_|_|    _|_|_|_|  _|        _|_|_|\n",
            "        _|    _|  _|    _|  _|    _|  _|    _|    _|    _|    _|_|  _|    _|      _|        _|    _|  _|        _|\n",
            "        _|    _|    _|_|      _|_|_|    _|_|_|  _|_|_|  _|      _|    _|_|_|      _|        _|    _|    _|_|_|  _|_|_|_|\n",
            "\n",
            "        To login, `huggingface_hub` now requires a token generated from https://huggingface.co/settings/token.\n",
            "        (Deprecated, will be removed in v0.3.0) To login with username and password instead, interrupt with Ctrl+C.\n",
            "        \n",
            "Token: \n",
            "Login successful\n",
            "Your token has been saved to /root/.huggingface/token\n"
          ]
        }
      ]
    },
    {
      "cell_type": "code",
      "source": [
        "import torch\n",
        "import transformers\n",
        "from torch.utils.data import TensorDataset, DataLoader, RandomSampler, SequentialSampler\n",
        "from keras.preprocessing.sequence import pad_sequences\n",
        "from sklearn.model_selection import train_test_split\n",
        "\n",
        "from transformers import XLNetModel, XLNetTokenizer, XLNetForQuestionAnswering\n",
        "from transformers import AdamW\n",
        "\n",
        "from tqdm import tqdm, trange\n",
        "import pandas as pd\n",
        "import io\n",
        "import numpy as np\n",
        "import matplotlib.pyplot as plt\n",
        "% matplotlib inline"
      ],
      "metadata": {
        "id": "uldvT61mdt4X"
      },
      "execution_count": 4,
      "outputs": []
    },
    {
      "cell_type": "code",
      "source": [
        "device = torch.device(\"cuda\" if torch.cuda.is_available() else \"cpu\")\n",
        "n_gpu = torch.cuda.device_count()\n",
        "torch.cuda.get_device_name(0)"
      ],
      "metadata": {
        "colab": {
          "base_uri": "https://localhost:8080/",
          "height": 35
        },
        "id": "N3odrIFjdxUI",
        "outputId": "34417f37-b3ba-4883-ecc1-817fcae03589"
      },
      "execution_count": 5,
      "outputs": [
        {
          "output_type": "execute_result",
          "data": {
            "application/vnd.google.colaboratory.intrinsic+json": {
              "type": "string"
            },
            "text/plain": [
              "'Tesla T4'"
            ]
          },
          "metadata": {},
          "execution_count": 5
        }
      ]
    },
    {
      "cell_type": "code",
      "source": [
        "!git config --global credential.helper store"
      ],
      "metadata": {
        "id": "fCMjYetfd0eU"
      },
      "execution_count": 6,
      "outputs": []
    },
    {
      "cell_type": "code",
      "source": [
        "from huggingface_hub import notebook_login\n",
        "notebook_login()"
      ],
      "metadata": {
        "colab": {
          "base_uri": "https://localhost:8080/",
          "height": 415,
          "referenced_widgets": [
            "fc68546189294c10a8d33cc001657b53",
            "3c903cd73b2c468d8b6628eae4671751",
            "376ee5379b964326924a84e74e7d4be6",
            "a8fb7387e0894543809abbe04ce08e18",
            "026dc85ab8964addbad244f79fe8cd56",
            "b4e72a3f49014c9c958348679aea3ccb",
            "d8010c3529624d9789f16d331f1ea104",
            "81508ca5dfb24617be7002fdf50e7c65",
            "b9c0ad53a5c347b8ae46cceb844f0f0c",
            "897c327fbd7745ccac5308574f8e52f5",
            "5dcf31a10a4d4478a954449ee3ea58b3",
            "f67778a71a1245a3a28cd633c57cb7dd",
            "35e87721645e42df94e168f5f11d662c",
            "b02552fc75734313b3c15a6c6f576f3d",
            "574e609b1ffd4ad990f41b081c271094",
            "440f071b266149cbbfaa0118f7eb4a72",
            "4695e06c2bad42a5ae197fadb40c0aaf"
          ]
        },
        "id": "rYaLysZjd6Hg",
        "outputId": "857c6811-1203-4eca-e6b8-9926e3cab46c"
      },
      "execution_count": 7,
      "outputs": [
        {
          "output_type": "stream",
          "name": "stdout",
          "text": [
            "Login successful\n",
            "Your token has been saved to /root/.huggingface/token\n"
          ]
        }
      ]
    },
    {
      "cell_type": "code",
      "source": [
        "!apt install git-lfs\n",
        "!git config --global user.email \"nntanh@hcmiu.edu.vn\"\n",
        "!git config --global user.name \"nntadotzip\""
      ],
      "metadata": {
        "colab": {
          "base_uri": "https://localhost:8080/"
        },
        "id": "eerdC8NPd9Ce",
        "outputId": "570bc830-1c0d-4f0e-dbe7-14433bc4262e"
      },
      "execution_count": 8,
      "outputs": [
        {
          "output_type": "stream",
          "name": "stdout",
          "text": [
            "Reading package lists... Done\n",
            "Building dependency tree       \n",
            "Reading state information... Done\n",
            "git-lfs is already the newest version (2.3.4-1).\n",
            "0 upgraded, 0 newly installed, 0 to remove and 37 not upgraded.\n"
          ]
        }
      ]
    },
    {
      "cell_type": "code",
      "source": [
        "from datasets import load_dataset\n",
        "dataset = load_dataset(\"nntadotzip/iuQAchatbot\", use_auth_token=True, field='data')"
      ],
      "metadata": {
        "colab": {
          "base_uri": "https://localhost:8080/",
          "height": 104,
          "referenced_widgets": [
            "691e352b22d64edbb3519e6815fbe26a",
            "eca7f77d128f41d6b421c0c9851606b5",
            "a9c65e24384b4f92bc19ea8d1ece7ca9",
            "9277f2a6c3fb4b719853f6efef49c361",
            "198aee938ba4422ebc7e267d128613d2",
            "deb4fd2f9b55412c8155b8880569dc25",
            "ee426def90c84b86b210e6f62f85bef5",
            "c1382cc38fa0414db0306a7576d9d3d5",
            "e2fe8f19cffe4d5a8f79db2d41e27fd4",
            "1c4194f305eb46a5ac47ad7d658b7eed",
            "2dcb9eaa96564914ba3210c60ecfe6a2"
          ]
        },
        "id": "GRTVUxR8zw8g",
        "outputId": "b0c736ff-9243-4816-fe52-ea6a1e7df42a"
      },
      "execution_count": 9,
      "outputs": [
        {
          "output_type": "stream",
          "name": "stderr",
          "text": [
            "Using custom data configuration nntadotzip--iuQAchatbot-da3c79a8c8a167fc\n",
            "Reusing dataset json (/root/.cache/huggingface/datasets/json/nntadotzip--iuQAchatbot-da3c79a8c8a167fc/0.0.0/ac0ca5f5289a6cf108e706efcf040422dbbfa8e658dee6a819f20d76bb84d26b)\n"
          ]
        },
        {
          "output_type": "display_data",
          "data": {
            "application/vnd.jupyter.widget-view+json": {
              "model_id": "691e352b22d64edbb3519e6815fbe26a",
              "version_minor": 0,
              "version_major": 2
            },
            "text/plain": [
              "  0%|          | 0/2 [00:00<?, ?it/s]"
            ]
          },
          "metadata": {}
        }
      ]
    },
    {
      "cell_type": "code",
      "source": [
        "dataset"
      ],
      "metadata": {
        "id": "b2spthn401wh",
        "colab": {
          "base_uri": "https://localhost:8080/"
        },
        "outputId": "2b7ff2dd-086f-4d77-f4e0-fbaa731e3c77"
      },
      "execution_count": 10,
      "outputs": [
        {
          "output_type": "execute_result",
          "data": {
            "text/plain": [
              "DatasetDict({\n",
              "    train: Dataset({\n",
              "        features: ['answers', 'context', 'id', 'question', 'title'],\n",
              "        num_rows: 166\n",
              "    })\n",
              "    test: Dataset({\n",
              "        features: ['answers', 'context', 'id', 'question', 'title'],\n",
              "        num_rows: 19\n",
              "    })\n",
              "})"
            ]
          },
          "metadata": {},
          "execution_count": 10
        }
      ]
    },
    {
      "cell_type": "code",
      "source": [
        "dataset[\"train\"][0]"
      ],
      "metadata": {
        "colab": {
          "base_uri": "https://localhost:8080/"
        },
        "id": "pY8Qev97Yo1r",
        "outputId": "0659c8c0-27c4-4e7f-dc30-de93123b554d"
      },
      "execution_count": 11,
      "outputs": [
        {
          "output_type": "execute_result",
          "data": {
            "text/plain": [
              "{'answers': {'answer_start': [4163],\n",
              "  'text': ['Phòng Công tác Sinh viên: Được thành lập năm vào tháng 12/2009, Phòng Công tác Sinh viên (PCTSV) là đơn vị tham mưu giúp việc cho Ban Giám hiệu trong công tác thực hiện chế độ chính sách, học bổng Doanh nghiệp, khen thưởng-kỷ luật sinh viên']},\n",
              " 'context': 'Phòng Đào tạo Sau đại học: Tham mưu cho Hiệu trưởng về các công tác quản lý đào tạo và bồi dưỡng sau đại học thuộc trách nhiệm và thẩm quyền. Liên hệ: Room O2 – 609Telephone: (84)-28-37244270. Ext: 3120Fax: (84-28) 37244271. Phòng Vật tư Thiết bị: Phòng Vật tư Thiết bị Liên hệ: Phòng O1 – 612, Trường Đại học Quốc tếKhu phố 6, Phường Linh Trung, Quận Thủ Đức, TP. HCMĐiện thoại: (028) 37244270 – số máy lẻ: 3555, 3246 Fax: (028) 37244271. Trung tâm Đổi mới sáng tạo và Chuyển giao công nghệ: Trung tâm là đơn vị sự nghiệp khoa học trực thuộc trường Đại Học Quốc Tế – Đại Học Quốc Gia TP. HCM, có chức năng cung cấp dịch vụ – nghiên cứu – đào tạo – tư vấn và chuyển giao công nghệ cho các doanh nghiệp và các cơ quan chức năng Nhà nước. Trung tâm là cầu nối giữa giảng viên và sinh viên của Trường với các nghiên cứu và dự án thực tiễn tại các doanh nghiệp và đơn vị chức năng trực thuộc nhà nước. Liên hệ: Phòng O2– 303, Trường Đại học Quốc tếKhu phố 6, Phường Linh Trung, Quận Thủ Đức, TP. HCMĐiện thoại: (028) 37244270 – số máy lẻ: 3949 Fax: (028) 37244271. Phòng Hành chính Tổng hợp: Phòng Hành chính Tổng hợp Liên hệ: Phòng O2-711, Trường Đại học Quốc tếKhu phố 6, Phường Linh Trung, Quận Thủ Đức, TP. HCMĐiện thoại: (028) 37244270 – số máy lẻ: 3225, 3939, 3737 Fax: (028) 37244271. Phòng Đầu tư & Phát triển: Tham mưu, đề xuất Hiệu trưởng thực hiện chức năng chủ đầu tư xây dựng quản lý và sử dụng các nguồn vốn được giao để tổ chức quản lý thực hiện dự án đầu tư xây dựng. Phòng Quản trị cơ sở vật chất: Phòng có chức năng tham mưu và giúp Hiệu trưởng trong công tác quản lý, mua sắm, sữa chữa, bảo quản cơ sở vật chất của trường, phục vụ cho công tác đào tạo, nghiên cứu khoa học, của cán bộ công nhân viên và sinh viên toàn trường. Liên hệ: Phòng O2 – 702, Trường Đại học Quốc tếKhu phố 6, Phường Linh Trung, Quận Thủ Đức, TP. HCMĐiện thoại: (028) 37244270 – số máy lẻ: 3223. Phòng Quan hệ Đối ngoại: Tham mưu cho Hiệu trưởng về công tác đối ngoại, quan hệ công chúng và truyền thông của trường. Phòng Quản lý Khoa học: Tham mưu cho Hiệu trưởng về công tác quản lý toàn bộ hoạt động khoa học và công nghệ của trường. Phòng Tổ chức cán bộ: Phòng Tổ chức cán bộ Liên hệ: Phòng O2.709, Trường Đại học Quốc tếKhu phố 6, Phường Linh Trung, Quận Thủ Đức, TP. HCMĐiện thoại: (028) 37244270 – số máy lẻ: 3336, 3526, 3527 Fax: (028) 37244271. Phòng Hợp tác Đào tạo nước ngoài: Phòng Hợp tác Đào tạo nước ngoài Liên hệ: Phòng O1 – 614, Trường Đại học Quốc tếKhu phố 6, Phường Linh Trung, Quận Thủ Đức, TP. HCMĐiện thoại: (028) 37244270 – số máy lẻ: 3880 Fax: (028) 37244271. Trung tâm Dịch vụ Công nghệ thông tin: Trung tâm Dịch vụ Công nghệ Thông tin chịu trách nhiệm quản lý và hỗ trợ kỹ thuật cho toàn bộ hệ thống mạng Internet, mạng điện thoại và các trang web của trường. Bên cạnh đó Trung tâm còn có chức năng chụp ảnh, viết bài đưa tin những hình ảnh hoạt động thường xuyên của nhà trường nhằm xây dựng quảng bá hình ảnh thương hiệu trường ngày càng được nhiều người biết đến. Liên hệ: Phòng O1 – 312, Trường Đại học Quốc tếKhu phố 6, Phường Linh Trung, Quận Thủ Đức, TP. HCMĐiện thoại: (028) 37244270 – số máy lẻ: 3366. Phòng Kế hoạch Tài chính: Phòng có chức năng tham mưu và giúp Hiệu trưởng trong công tác xây dựng và quản lý kế hoạch về tài chính của trường, theo dõi giám sát và kiểm tra việc thu chi, sử dụng tài chính, kế hoạch tài chính và các lĩnh vực khác có liên quan đến công tác kế hoạch tài chính trong toàn trường. Liên hệ: Phòng O2 – 701, Trường Đại học Quốc tếKhu phố 6, Phường Linh Trung, Quận Thủ Đức, TP. HCM. Phòng Đào tạo Đại học: Phòng có chức năng tham mưu, giúp Hiệu trưởng trong kế hoạch đào tạo ngắn hạn và dài hạn của nhà trường. Tổ chức chỉ đạo thực hiện, kiểm tra và giám sát toàn bộ công tác giảng dạy và học tập trong trường, các hệ đào tạo chính quy đại học và sau đại học. Nghiên cứu đề xuất về mục tiêu đào tạo, các hệ đào tạo, cơ cấu ngành nghề, quy mô và phương thức đào tạo, cũng như việc phát triển cơ sở vật chất cần thiết phục vụ cho công tác giảng dạy và học tập. Liên hệ: Phòng O2 – 708, Trường Đại học Quốc tếKhu phố 6, Phường Linh Trung, Quận Thủ Đức, TP. HCMĐiện thoại: (028) 37244270 – số máy lẻ: 3777, 3229. Phòng Công tác Sinh viên: Được thành lập năm vào tháng 12/2009, Phòng Công tác Sinh viên (PCTSV) là đơn vị tham mưu giúp việc cho Ban Giám hiệu trong công tác thực hiện chế độ chính sách, học bổng Doanh nghiệp, khen thưởng-kỷ luật sinh viên. Phòng Thanh tra Pháp chế: Công tác thanh tra: Tham mưu, giúp Hiệu trưởng thực hiện đúng công tác thanh tra, kiểm tra trong phạm vi quản lý của Hiệu trưởng nhằm đảm bảo việc thực hiện chính sách pháp luật về giáo dục và chính sách, pháp luật liên quan. Công tác pháp chế: Chủ trì, phối hợp với các bộ phận liên quan tư vấn, giúp Hiệu trưởng về những vấn đề pháp lý. Phòng Bảo đảm Chất lượng Giáo dục và Khảo thí: Tư vấn, tham mưu cho Ban Giám hiệu về chiến lược, các kế hoạch cải tiến hoạt động bảo đảm chất lượng. Trung tâm đào tạo Quản lý công: Trung tâm Đào tạo Quản lý công là nơi đào tạo nên những nhà lãnh đạo theo hướng đổi mới sáng tạo, quản trị tốt với kỹ năng, nghiệp vụ ngày càng chuyên nghiệp, hiệu quả. Liên hệ: Phòng O2 – 304 Điện thoại: (028) 37244270 – số máy lẻ: 3305. Khoa Công nghệ Thông tin: Thông qua các chương trình đào tạo kỹ sư phần cứng máy tính, mạng máy tính, phần mềm và Khoa học dữ liệu, Khoa CNTT đã đào tạo ra nhiều lứa sinh viên có trình độ chuyên môn cao và khả năng ngoại ngữ lưu loát. Liên hệ: Phòng A1.610 Điện thoại: (84-28) 37244270 – Số máy lẻ: 3232. Bộ môn Kỹ thuật Xây dựng: Bộ môn Kỹ thuật Xây dựng (KTXD) được thành lập vào tháng 1 năm 2011 nhằm xây dựng một nền tảng vững chắc cho sinh viên và giúp giảng viên phát huy tối đa khả năng của mình Liên hệ: Phòng O1 – 506 Điện thoại: (84 -28) 3724 4270 số nhánh lẻ: 342. Khoa Kỹ thuật và Quản lý Công nghiệp: Khoa Kỹ thuật và Quản lý Công nghiệp mong muốn thu hút, đào tạo sinh viên và chuẩn bị cho họ trở thành những nhà cán bộ kỹ thuật và nhà lãnh đạo trong các lãnh vực Quản lý Sản xuất, Hậu cần, Chuỗi Cung ứng, các ngành Dịch vụ tại Việt Nam Liên hệ: Phòng O2 – 602 Điện thoại: (84 – 28) 37244270 số máy lẻ: 3327, 3982. Khoa Công nghệ Sinh học: Chương trình đào tạo của Khoa CNSH được xây dựng trên nền tảng của các chương trình tiên tiến có khả năng giải quyết các nhu cầu thực tiễn trong nước, tập trung vào việc trang bị kiến thức hiện đại, kỹ năng thực hành và làm việc cần thiết cho người học Liên hệ: Phòng O1 – 708 Điện thoại: (84 – 28) 37244270 – số máy lẻ 3233. Bộ môn Toán: Bộ môn Toán chịu trách nhiệm biên soạn đề cương, chương trình và thực hiện giảng dạy các học phần Toán học cho sinh viên trường Đại học Quốc tế. Liên hệ: Phòng O2 – 610 Điện thoại: (84-28) 3724 4270 số nhánh lẻ: 3235. Khoa Điện tử Viễn thông: Mục tiêu của Khoa ĐTVT chính là chuẩn bị cho sinh viên tốt nghiệp một hành trang vững chắc để thích ứng với những thay đổi nhanh chóng của thế giới công nghệ, đặc biệt là trong các lĩnh vực Kỹ thuật Điện tử, Viễn thông, Xử lý Tín hiệu (âm thanh, hình ảnh), Kỹ thuật Điều khiển và Tự động hóa Liên hệ: Phòng A2.206 ĐT: (84-28) 37244270 – số nội bộ: 3231. Khoa Kỹ thuật Y sinh: Kỹ thuật Y Sinh (KTYS) hiện đang là một lĩnh vực nổi bật thu hút sự quan tâm trên thế giới Liên hệ: Phòng O1- 405 Điện thoại: (84-28) 3724 4270 số nhánh lẻ: 3236. Bộ môn Kỹ thuật Môi trường: Bộ môn Kỹ thuật Môi trường được thành lập vào tháng 7 năm 2017 với sứ mệnh là đào tạo ra những kỹ sư cho ngành kỹ thuật môi trường với kiến thức chuyên môn sâu, cùng với những kỹ năng cần thiết để đáp ứng nhu cầu nhân lực chất lượng cao, giải quyết các vấn đề ô nhiễm môi trường (ô nhiễm nguồn nước, ô nhiễm không khí, chất thải rắn). Liên hệ: Phòng A2-513 Điện thoại: (028) 3724 4270 Số nhánh lẻ: 3950. Khoa Quản trị kinh doanh: Một đơn vị đào tạo cử nhân ngành quản trị kinh doanh chất lượng cao trong khối trường đại học công lập Liên hệ: Phòng 01 – 306 Điện thoại: (84-28) 37244270 số máy lẻ: 3230, 3724',\n",
              " 'id': 58,\n",
              " 'question': 'Cho tôi hỏi về Phòng Công tác Sinh viên',\n",
              " 'title': 'Thông tin chung'}"
            ]
          },
          "metadata": {},
          "execution_count": 11
        }
      ]
    },
    {
      "cell_type": "markdown",
      "source": [
        "Review the Dataset"
      ],
      "metadata": {
        "id": "IztAbwIWZB_M"
      }
    },
    {
      "cell_type": "code",
      "source": [
        "from datasets import ClassLabel, Sequence\n",
        "import random\n",
        "import pandas as pd\n",
        "from IPython.display import display, HTML\n",
        "\n",
        "def show_random_elements(dataset, num_examples=10):\n",
        "    assert num_examples <= len(dataset), \"Can't pick more elements than there are in the dataset.\"\n",
        "    picks = []\n",
        "    for _ in range(num_examples):\n",
        "        pick = random.randint(0, len(dataset)-1)\n",
        "        while pick in picks:\n",
        "            pick = random.randint(0, len(dataset)-1)\n",
        "        picks.append(pick)\n",
        "    \n",
        "    df = pd.DataFrame(dataset[picks])\n",
        "    for column, typ in dataset.features.items():\n",
        "        if isinstance(typ, ClassLabel):\n",
        "            df[column] = df[column].transform(lambda i: typ.names[i])\n",
        "        elif isinstance(typ, Sequence) and isinstance(typ.feature, ClassLabel):\n",
        "            df[column] = df[column].transform(lambda x: [typ.feature.names[i] for i in x])\n",
        "    display(HTML(df.to_html()))"
      ],
      "metadata": {
        "id": "klcStvFt0-d2"
      },
      "execution_count": 12,
      "outputs": []
    },
    {
      "cell_type": "code",
      "source": [
        "show_random_elements(dataset[\"train\"])"
      ],
      "metadata": {
        "colab": {
          "base_uri": "https://localhost:8080/",
          "height": 1000
        },
        "id": "ZId-9Gp6YzJQ",
        "outputId": "11573b67-535f-4301-f3e5-628afba69df3"
      },
      "execution_count": 13,
      "outputs": [
        {
          "output_type": "display_data",
          "data": {
            "text/html": [
              "<table border=\"1\" class=\"dataframe\">\n",
              "  <thead>\n",
              "    <tr style=\"text-align: right;\">\n",
              "      <th></th>\n",
              "      <th>answers</th>\n",
              "      <th>context</th>\n",
              "      <th>id</th>\n",
              "      <th>question</th>\n",
              "      <th>title</th>\n",
              "    </tr>\n",
              "  </thead>\n",
              "  <tbody>\n",
              "    <tr>\n",
              "      <th>0</th>\n",
              "      <td>{'answer_start': [3111], 'text': ['Ngành Công nghệ Thông tin (2+2) (Mã ngành: 7480201_DK2) ở phương thức Ưu tiên xét tuyển học sinh giỏi các trường THPT theo quy định của ĐHQG có điểm chuẩn 18.0']}</td>\n",
              "      <td>Ngành Công nghệ Thông tin (3+1) (Mã ngành: 7480201_DK3) ở phương thức Ưu tiên xét tuyển học sinh giỏi các trường THPT theo quy định của ĐHQG có điểm chuẩn 18.0. Ngành Ngôn ngữ Anh (Mã ngành: 7220201) ở phương thức Ưu tiên xét tuyển học sinh giỏi các trường THPT theo quy định của ĐHQG có điểm chuẩn 27.5. Ngành Kỹ thuật Điện tử (Mã ngành: 7520207_SB) ở phương thức Ưu tiên xét tuyển học sinh giỏi các trường THPT theo quy định của ĐHQG có điểm chuẩn 18.0. Ngành Công nghệ Sinh học (Mã ngành: 7420201) ở phương thức Ưu tiên xét tuyển học sinh giỏi các trường THPT theo quy định của ĐHQG có điểm chuẩn 22.0. Ngành Công nghệ Thông tin (2.5+1.5) (Mã ngành: 7480201_DK25) ở phương thức Ưu tiên xét tuyển học sinh giỏi các trường THPT theo quy định của ĐHQG có điểm chuẩn 18.0. Ngành Công nghệ Thực phẩm (Mã ngành: 7540101) ở phương thức Ưu tiên xét tuyển học sinh giỏi các trường THPT theo quy định của ĐHQG có điểm chuẩn 22.0. Ngành Hóa học (Hóa sinh) (Mã ngành: 7440112) ở phương thức Ưu tiên xét tuyển học sinh giỏi các trường THPT theo quy định của ĐHQG có điểm chuẩn 22.0. Ngành Kỹ thuật Xây dựng (Mã ngành: 7580201) ở phương thức Ưu tiên xét tuyển học sinh giỏi các trường THPT theo quy định của ĐHQG có điểm chuẩn 21.0. Ngành Quản trị Kinh doanh (2+2) (Mã ngành: 7340101_WE) ở phương thức Ưu tiên xét tuyển học sinh giỏi các trường THPT theo quy định của ĐHQG có điểm chuẩn 18.0. Ngành Công nghệ Thông tin (Mã ngành: 7480201_UN) ở phương thức Ưu tiên xét tuyển học sinh giỏi các trường THPT theo quy định của ĐHQG có điểm chuẩn 18.0. Ngành Quản trị Kinh doanh (Mã ngành: 7340101_UH) ở phương thức Ưu tiên xét tuyển học sinh giỏi các trường THPT theo quy định của ĐHQG có điểm chuẩn 18.0. Ngành Công nghệ Thông tin (Mã ngành: 7480201) ở phương thức Ưu tiên xét tuyển học sinh giỏi các trường THPT theo quy định của ĐHQG có điểm chuẩn 23.0. Ngành Công nghệ Thực phẩm (Mã ngành: 7540101_UN) ở phương thức Ưu tiên xét tuyển học sinh giỏi các trường THPT theo quy định của ĐHQG có điểm chuẩn 18.0. Ngành Kỹ thuật Hệ thống Công nghiệp (Mã ngành: 7520118) ở phương thức Ưu tiên xét tuyển học sinh giỏi các trường THPT theo quy định của ĐHQG có điểm chuẩn 21.0. Ngành Kỹ thuật Điện tử - Viễn thông (Mã ngành: 7520207_WE) ở phương thức Ưu tiên xét tuyển học sinh giỏi các trường THPT theo quy định của ĐHQG có điểm chuẩn 18.0. Ngành Kỹ thuật Y Sinh (Mã ngành: 7520212) ở phương thức Ưu tiên xét tuyển học sinh giỏi các trường THPT theo quy định của ĐHQG có điểm chuẩn 24.0. Ngành Toán ứng dụng (Kỹ thuật Tài chính và Quản trị rủi ro) (Mã ngành: 7460112) ở phương thức Ưu tiên xét tuyển học sinh giỏi các trường THPT theo quy định của ĐHQG có điểm chuẩn 22.0. Ngành Quản trị kinh doanh (Mã ngành: 7340101_NS) ở phương thức Ưu tiên xét tuyển học sinh giỏi các trường THPT theo quy định của ĐHQG có điểm chuẩn 18.0. Ngành Tài chính – Ngân hàng (Mã ngành: 7340201) ở phương thức Ưu tiên xét tuyển học sinh giỏi các trường THPT theo quy định của ĐHQG có điểm chuẩn 24.0. Ngành Kỹ thuật Máy tính (Mã ngành: 7480106_SB) ở phương thức Ưu tiên xét tuyển học sinh giỏi các trường THPT theo quy định của ĐHQG có điểm chuẩn 18.0. Ngành Công nghệ Thông tin (2+2) (Mã ngành: 7480201_DK2) ở phương thức Ưu tiên xét tuyển học sinh giỏi các trường THPT theo quy định của ĐHQG có điểm chuẩn 18.0. Ngành Quản trị Kinh doanh (Mã ngành: 7340101_AU) ở phương thức Ưu tiên xét tuyển học sinh giỏi các trường THPT theo quy định của ĐHQG có điểm chuẩn 18.0. Ngành Logistics và Quản lý chuỗi cung ứng (Mã ngành: 7510605) ở phương thức Ưu tiên xét tuyển học sinh giỏi các trường THPT theo quy định của ĐHQG có điểm chuẩn 27.5. Ngành Kỹ thuật Điện tử - Viễn thông (Mã ngành: 7520207_UN) ở phương thức Ưu tiên xét tuyển học sinh giỏi các trường THPT theo quy định của ĐHQG có điểm chuẩn 18.0. Ngành Quản trị kinh doanh (4+0) (Mã ngành: 7340101_WE4) ở phương thức Ưu tiên xét tuyển học sinh giỏi các trường THPT theo quy định của ĐHQG có điểm chuẩn 18.0. Ngành Khoa học Dữ liệu (Mã ngành: 7480109) ở phương thức Ưu tiên xét tuyển học sinh giỏi các trường THPT theo quy định của ĐHQG có điểm chuẩn 23.0. Ngành Quản lý Xây dựng (Mã ngành: 7580302) ở phương thức Ưu tiên xét tuyển học sinh giỏi các trường THPT theo quy định của ĐHQG có điểm chuẩn 21.0. Ngành Công nghệ Sinh học định hướng Y sinh (4+0) (Mã ngành: 7420201_WE4) ở phương thức Ưu tiên xét tuyển học sinh giỏi các trường THPT theo quy định của ĐHQG có điểm chuẩn 18.0. Ngành Công nghệ Sinh học (2+2) (Mã ngành: 7420201_WE2) ở phương thức Ưu tiên xét tuyển học sinh giỏi các trường THPT theo quy định của ĐHQG có điểm chuẩn 18.0. Ngành Kỹ thuật Điều khiển và Tự động hóa (Mã ngành: 7520216) ở phương thức Ưu tiên xét tuyển học sinh giỏi các trường THPT theo quy định của ĐHQG có điểm chuẩn 22.0. Ngành Quản trị Kinh doanh (Mã ngành: 7340101_UN) ở phương thức Ưu tiên xét tuyển học sinh giỏi các trường THPT theo quy định của ĐHQG có điểm chuẩn 18.0. Ngành Kỹ thuật Điện tử - Viễn thông (Mã ngành: 7520207) ở phương thức Ưu tiên xét tuyển học sinh giỏi các trường THPT theo quy định của ĐHQG có điểm chuẩn 21.0. Ngành Kế toán (Mã ngành: 7340301) ở phương thức Ưu tiên xét tuyển học sinh giỏi các trường THPT theo quy định của ĐHQG có điểm chuẩn 22.0. Ngành Kỹ thuật Không gian (Mã ngành: 7520121) ở phương thức Ưu tiên xét tuyển học sinh giỏi các trường THPT theo quy định của ĐHQG có điểm chuẩn 21.0. Ngành Ngôn ngữ Anh (4+0) (Mã ngành: 7220201_WE4) ở phương thức Ưu tiên xét tuyển học sinh giỏi các trường THPT theo quy định của ĐHQG có điểm chuẩn 18.0. Ngành Công nghệ Thông tin (2+2) (Mã ngành: 7480201_WE2) ở phương thức Ưu tiên xét tuyển học sinh giỏi các trường THPT theo quy định của ĐHQG có điểm chuẩn 18.0. Ngành Kỹ thuật Hóa học (Mã ngành: 7520301) ở phương thức Ưu tiên xét tuyển học sinh giỏi các trường THPT theo quy định của ĐHQG có điểm chuẩn 23.0. Ngành Ngôn ngữ Anh (3+1) (Mã ngành: 7220201_WE3) ở phương thức Ưu tiên xét tuyển học sinh giỏi các trường THPT theo quy định của ĐHQG có điểm chuẩn 18.0. Ngành Công nghệ Sinh học (Mã ngành: 7420201_UN) ở phương thức Ưu tiên xét tuyển học sinh giỏi các trường THPT theo quy định của ĐHQG có điểm chuẩn 18.0. Ngành Khoa học Máy tính (Mã ngành: 7480101) ở phương thức Ưu tiên xét tuyển học sinh giỏi các trường THPT theo quy định của ĐHQG có điểm chuẩn 23.0. Ngành Ngôn ngữ Anh (2+2) (Mã ngành: 7220201_WE2) ở phương thức Ưu tiên xét tuyển học sinh giỏi các trường THPT theo quy định của ĐHQG có điểm chuẩn 18.0. Ngành Kỹ thuật Hệ thống Công nghiệp (Mã ngành: 7520118_SB) ở phương thức Ưu tiên xét tuyển học sinh giỏi các trường THPT theo quy định của ĐHQG có điểm chuẩn 18.0. Ngành Công nghệ Thông tin (4+0) (Mã ngành: 7480201_WE4) ở phương thức Ưu tiên xét tuyển học sinh giỏi các trường THPT theo quy định của ĐHQG có điểm chuẩn 18.0. Ngành Quản trị Kinh doanh (Mã ngành: 7340101) ở phương thức Ưu tiên xét tuyển học sinh giỏi các trường THPT theo quy định của ĐHQG có điểm chuẩn 27.5. Ngành Kỹ thuật Môi trường (Mã ngành: 7520320) ở phương thức Ưu tiên xét tuyển học sinh giỏi các trường THPT theo quy định của ĐHQG có điểm chuẩn 21.0</td>\n",
              "      <td>143</td>\n",
              "      <td>Điểm chuẩn ngành Công nghệ Thông tin (2+2) là bao nhiêu?</td>\n",
              "      <td>Điểm chuẩn</td>\n",
              "    </tr>\n",
              "    <tr>\n",
              "      <th>1</th>\n",
              "      <td>{'answer_start': [5033], 'text': ['Ngành Kế toán (Mã ngành: 7340301) ở phương thức Ưu tiên xét tuyển học sinh giỏi các trường THPT theo quy định của ĐHQG có điểm chuẩn 22.0']}</td>\n",
              "      <td>Ngành Công nghệ Thông tin (3+1) (Mã ngành: 7480201_DK3) ở phương thức Ưu tiên xét tuyển học sinh giỏi các trường THPT theo quy định của ĐHQG có điểm chuẩn 18.0. Ngành Ngôn ngữ Anh (Mã ngành: 7220201) ở phương thức Ưu tiên xét tuyển học sinh giỏi các trường THPT theo quy định của ĐHQG có điểm chuẩn 27.5. Ngành Kỹ thuật Điện tử (Mã ngành: 7520207_SB) ở phương thức Ưu tiên xét tuyển học sinh giỏi các trường THPT theo quy định của ĐHQG có điểm chuẩn 18.0. Ngành Công nghệ Sinh học (Mã ngành: 7420201) ở phương thức Ưu tiên xét tuyển học sinh giỏi các trường THPT theo quy định của ĐHQG có điểm chuẩn 22.0. Ngành Công nghệ Thông tin (2.5+1.5) (Mã ngành: 7480201_DK25) ở phương thức Ưu tiên xét tuyển học sinh giỏi các trường THPT theo quy định của ĐHQG có điểm chuẩn 18.0. Ngành Công nghệ Thực phẩm (Mã ngành: 7540101) ở phương thức Ưu tiên xét tuyển học sinh giỏi các trường THPT theo quy định của ĐHQG có điểm chuẩn 22.0. Ngành Hóa học (Hóa sinh) (Mã ngành: 7440112) ở phương thức Ưu tiên xét tuyển học sinh giỏi các trường THPT theo quy định của ĐHQG có điểm chuẩn 22.0. Ngành Kỹ thuật Xây dựng (Mã ngành: 7580201) ở phương thức Ưu tiên xét tuyển học sinh giỏi các trường THPT theo quy định của ĐHQG có điểm chuẩn 21.0. Ngành Quản trị Kinh doanh (2+2) (Mã ngành: 7340101_WE) ở phương thức Ưu tiên xét tuyển học sinh giỏi các trường THPT theo quy định của ĐHQG có điểm chuẩn 18.0. Ngành Công nghệ Thông tin (Mã ngành: 7480201_UN) ở phương thức Ưu tiên xét tuyển học sinh giỏi các trường THPT theo quy định của ĐHQG có điểm chuẩn 18.0. Ngành Quản trị Kinh doanh (Mã ngành: 7340101_UH) ở phương thức Ưu tiên xét tuyển học sinh giỏi các trường THPT theo quy định của ĐHQG có điểm chuẩn 18.0. Ngành Công nghệ Thông tin (Mã ngành: 7480201) ở phương thức Ưu tiên xét tuyển học sinh giỏi các trường THPT theo quy định của ĐHQG có điểm chuẩn 23.0. Ngành Công nghệ Thực phẩm (Mã ngành: 7540101_UN) ở phương thức Ưu tiên xét tuyển học sinh giỏi các trường THPT theo quy định của ĐHQG có điểm chuẩn 18.0. Ngành Kỹ thuật Hệ thống Công nghiệp (Mã ngành: 7520118) ở phương thức Ưu tiên xét tuyển học sinh giỏi các trường THPT theo quy định của ĐHQG có điểm chuẩn 21.0. Ngành Kỹ thuật Điện tử - Viễn thông (Mã ngành: 7520207_WE) ở phương thức Ưu tiên xét tuyển học sinh giỏi các trường THPT theo quy định của ĐHQG có điểm chuẩn 18.0. Ngành Kỹ thuật Y Sinh (Mã ngành: 7520212) ở phương thức Ưu tiên xét tuyển học sinh giỏi các trường THPT theo quy định của ĐHQG có điểm chuẩn 24.0. Ngành Toán ứng dụng (Kỹ thuật Tài chính và Quản trị rủi ro) (Mã ngành: 7460112) ở phương thức Ưu tiên xét tuyển học sinh giỏi các trường THPT theo quy định của ĐHQG có điểm chuẩn 22.0. Ngành Quản trị kinh doanh (Mã ngành: 7340101_NS) ở phương thức Ưu tiên xét tuyển học sinh giỏi các trường THPT theo quy định của ĐHQG có điểm chuẩn 18.0. Ngành Tài chính – Ngân hàng (Mã ngành: 7340201) ở phương thức Ưu tiên xét tuyển học sinh giỏi các trường THPT theo quy định của ĐHQG có điểm chuẩn 24.0. Ngành Kỹ thuật Máy tính (Mã ngành: 7480106_SB) ở phương thức Ưu tiên xét tuyển học sinh giỏi các trường THPT theo quy định của ĐHQG có điểm chuẩn 18.0. Ngành Công nghệ Thông tin (2+2) (Mã ngành: 7480201_DK2) ở phương thức Ưu tiên xét tuyển học sinh giỏi các trường THPT theo quy định của ĐHQG có điểm chuẩn 18.0. Ngành Quản trị Kinh doanh (Mã ngành: 7340101_AU) ở phương thức Ưu tiên xét tuyển học sinh giỏi các trường THPT theo quy định của ĐHQG có điểm chuẩn 18.0. Ngành Logistics và Quản lý chuỗi cung ứng (Mã ngành: 7510605) ở phương thức Ưu tiên xét tuyển học sinh giỏi các trường THPT theo quy định của ĐHQG có điểm chuẩn 27.5. Ngành Kỹ thuật Điện tử - Viễn thông (Mã ngành: 7520207_UN) ở phương thức Ưu tiên xét tuyển học sinh giỏi các trường THPT theo quy định của ĐHQG có điểm chuẩn 18.0. Ngành Quản trị kinh doanh (4+0) (Mã ngành: 7340101_WE4) ở phương thức Ưu tiên xét tuyển học sinh giỏi các trường THPT theo quy định của ĐHQG có điểm chuẩn 18.0. Ngành Khoa học Dữ liệu (Mã ngành: 7480109) ở phương thức Ưu tiên xét tuyển học sinh giỏi các trường THPT theo quy định của ĐHQG có điểm chuẩn 23.0. Ngành Quản lý Xây dựng (Mã ngành: 7580302) ở phương thức Ưu tiên xét tuyển học sinh giỏi các trường THPT theo quy định của ĐHQG có điểm chuẩn 21.0. Ngành Công nghệ Sinh học định hướng Y sinh (4+0) (Mã ngành: 7420201_WE4) ở phương thức Ưu tiên xét tuyển học sinh giỏi các trường THPT theo quy định của ĐHQG có điểm chuẩn 18.0. Ngành Công nghệ Sinh học (2+2) (Mã ngành: 7420201_WE2) ở phương thức Ưu tiên xét tuyển học sinh giỏi các trường THPT theo quy định của ĐHQG có điểm chuẩn 18.0. Ngành Kỹ thuật Điều khiển và Tự động hóa (Mã ngành: 7520216) ở phương thức Ưu tiên xét tuyển học sinh giỏi các trường THPT theo quy định của ĐHQG có điểm chuẩn 22.0. Ngành Quản trị Kinh doanh (Mã ngành: 7340101_UN) ở phương thức Ưu tiên xét tuyển học sinh giỏi các trường THPT theo quy định của ĐHQG có điểm chuẩn 18.0. Ngành Kỹ thuật Điện tử - Viễn thông (Mã ngành: 7520207) ở phương thức Ưu tiên xét tuyển học sinh giỏi các trường THPT theo quy định của ĐHQG có điểm chuẩn 21.0. Ngành Kế toán (Mã ngành: 7340301) ở phương thức Ưu tiên xét tuyển học sinh giỏi các trường THPT theo quy định của ĐHQG có điểm chuẩn 22.0. Ngành Kỹ thuật Không gian (Mã ngành: 7520121) ở phương thức Ưu tiên xét tuyển học sinh giỏi các trường THPT theo quy định của ĐHQG có điểm chuẩn 21.0. Ngành Ngôn ngữ Anh (4+0) (Mã ngành: 7220201_WE4) ở phương thức Ưu tiên xét tuyển học sinh giỏi các trường THPT theo quy định của ĐHQG có điểm chuẩn 18.0. Ngành Công nghệ Thông tin (2+2) (Mã ngành: 7480201_WE2) ở phương thức Ưu tiên xét tuyển học sinh giỏi các trường THPT theo quy định của ĐHQG có điểm chuẩn 18.0. Ngành Kỹ thuật Hóa học (Mã ngành: 7520301) ở phương thức Ưu tiên xét tuyển học sinh giỏi các trường THPT theo quy định của ĐHQG có điểm chuẩn 23.0. Ngành Ngôn ngữ Anh (3+1) (Mã ngành: 7220201_WE3) ở phương thức Ưu tiên xét tuyển học sinh giỏi các trường THPT theo quy định của ĐHQG có điểm chuẩn 18.0. Ngành Công nghệ Sinh học (Mã ngành: 7420201_UN) ở phương thức Ưu tiên xét tuyển học sinh giỏi các trường THPT theo quy định của ĐHQG có điểm chuẩn 18.0. Ngành Khoa học Máy tính (Mã ngành: 7480101) ở phương thức Ưu tiên xét tuyển học sinh giỏi các trường THPT theo quy định của ĐHQG có điểm chuẩn 23.0. Ngành Ngôn ngữ Anh (2+2) (Mã ngành: 7220201_WE2) ở phương thức Ưu tiên xét tuyển học sinh giỏi các trường THPT theo quy định của ĐHQG có điểm chuẩn 18.0. Ngành Kỹ thuật Hệ thống Công nghiệp (Mã ngành: 7520118_SB) ở phương thức Ưu tiên xét tuyển học sinh giỏi các trường THPT theo quy định của ĐHQG có điểm chuẩn 18.0. Ngành Công nghệ Thông tin (4+0) (Mã ngành: 7480201_WE4) ở phương thức Ưu tiên xét tuyển học sinh giỏi các trường THPT theo quy định của ĐHQG có điểm chuẩn 18.0. Ngành Quản trị Kinh doanh (Mã ngành: 7340101) ở phương thức Ưu tiên xét tuyển học sinh giỏi các trường THPT theo quy định của ĐHQG có điểm chuẩn 27.5. Ngành Kỹ thuật Môi trường (Mã ngành: 7520320) ở phương thức Ưu tiên xét tuyển học sinh giỏi các trường THPT theo quy định của ĐHQG có điểm chuẩn 21.0</td>\n",
              "      <td>155</td>\n",
              "      <td>Điểm chuẩn ngành Kế toán là bao nhiêu?</td>\n",
              "      <td>Điểm chuẩn</td>\n",
              "    </tr>\n",
              "    <tr>\n",
              "      <th>2</th>\n",
              "      <td>{'answer_start': [218], 'text': ['Ngôn ngữ Anh (4+0), Ngôn ngữ Anh (3+1), Ngôn ngữ Anh (2+2), Ngôn ngữ Anh,']}</td>\n",
              "      <td>Công nghệ Thông tin (2.5+1.5), Công nghệ Thông tin, Công nghệ Thông tin (2+2), Khoa học Máy tính, Công nghệ Thông tin (2+2), Công nghệ Thông tin (4+0), Công nghệ Thông tin, Khoa học Dữ liệu, Công nghệ Thông tin (3+1), Ngôn ngữ Anh (4+0), Ngôn ngữ Anh (3+1), Ngôn ngữ Anh (2+2), Ngôn ngữ Anh, Quản lý Xây dựng, Kỹ thuật Xây dựng, Logistics và Quản lý chuỗi cung ứng, Kỹ thuật Hệ thống Công nghiệp, Kỹ thuật Điều khiển và Tự động hóa, Toán ứng dụng (Kỹ thuật Tài chính và Quản trị rủi ro), Kỹ thuật Hệ thống Công nghiệp, Công nghệ Thực phẩm, Công nghệ Sinh học, Hóa học (Hóa sinh), Công nghệ Thực phẩm, Công nghệ Sinh học (2+2), Công nghệ Sinh học, Kỹ thuật Hóa học, Công nghệ Sinh học định hướng Y sinh (4+0), Bộ môn Toán chịu trách nhiệm biên soạn đề cương, chương trình và thực hiện giảng dạy các học phần Toán học cho sinh viên trường Đại học Quốc tế. Kỹ thuật Điện tử, Kỹ thuật Điện tử - Viễn thông, Kỹ thuật Máy tính, Kỹ thuật Điện tử - Viễn thông, Kỹ thuật Điện tử - Viễn thông, Kỹ thuật Y Sinh, Kỹ thuật Không gian, Kỹ thuật Môi trường, Quản trị Kinh doanh, Quản trị Kinh doanh, Tài chính – Ngân hàng, Kế toán, Quản trị kinh doanh, Quản trị kinh doanh (4+0), Quản trị Kinh doanh, Quản trị Kinh doanh (2+2), Quản trị Kinh doanh,</td>\n",
              "      <td>169</td>\n",
              "      <td>Bộ môn Anh Ngữ gồm những ngành nào?</td>\n",
              "      <td>Ngành</td>\n",
              "    </tr>\n",
              "    <tr>\n",
              "      <th>3</th>\n",
              "      <td>{'answer_start': [24266], 'text': ['Ngành Công nghệ Sinh học (Mã ngành: 7420201_UN) Chương trình: Chương trình liên kết cấp bằng của trường ĐH Nottingham (UK) Công nghệ sinh học (CNSH) là một lĩnh vực nghiên cứu và vận dụng sinh vật sống để tạo ra sản phẩm hoặc để phục vụ cho lợi ích của nhân loại.']}</td>\n",
              "      <td>Ngành Công nghệ Thực phẩm (Mã ngành: 7540101) Chương trình: Trong nước Chương trình đào tạo ngành CNTP tại Trường Đai học Quốc tế được thiết kế nhằm đào tạo các kỹ sư CNTP, có những nét chính như sau:, Cung cấp kiến thức rộng, cân bằng về các khoa học thực phẩm và kỹ thuật thực phẩm Cung cấp kiến thức cơ bản về quản lý thực phẩm (bao gồm cả quản lý sản xuất, chất lượng, vệ sinh an toàn thực phẩm và vệ sinh môi trường) Chú trọng đến kỹ năng thực hành và khả năng tiếp cận với thiết bị công nghệ cao Giảng dạy hoàn toàn bằng tiếng Anh (kỹ sư sau khi tốt nghiệp sẽ đạt trình độ tiếng Anh TOEF pBT 550 hoặc tương đương (IELTS 6.0, TOEFL iBT 60)). Ngành Kỹ thuật Hệ thống Công nghiệp (Mã ngành: 7520118) Chương trình: Trong nước Chương trình đại học của ngành Kỹ thuật Hệ thống công nghiệp (ISE) sẽ cung cấp cho sinh viên những kiến thức lý thuyết và kỹ năng thực tế trong việc thiết kế, vận hành, cải thiện và tối ưu các hệ thống sản xuất và dịch vụ Sau khi tốt nghiệp, sinh viên có thể:, Theo đuổi việc học lên cao hơn, có khả năng cạnh tranh thành công để giành được những học bổng uy tín để có thể theo học các chương trình cao học ở nước ngoài Trở thành kỹ sư Kỹ thuật Hệ thống công nghiệp giỏi, có thể tìm được việc làm trong các lĩnh vực sản xuất, quản lý vật tư tồn kho, chuỗi cung ứng và hậu cần, quản lý chất lượng, lập kế hoạch và điều độ, thiết kế và sắp xếp các mặt bằng trong các công ty/ cơquan:. Ngành Kỹ thuật Điều khiển và Tự động hóa (Mã ngành: 7520216) Chương trình: Trong nước Mục tiêu đào tạo: , Cung cấp toàn bộ các kiến thức cơ sở của nhóm ngành Điện – Điện tử, các kiến thức chuyên ngành về Đo Lường, Giám Sát và Điều Khiển. Các kỹ năng cần thiết của một kỹ sư để đáp ứng nhu cầu của công nghiệp, để tiếp tục chương trình cao học, nghiên cứu chuyên sâu ngành Điều Khiển Các kỹ năng tự đào tạo để thích ứng với sự thay đổi của công nghệ Định hướng đào tạo: , Lý thuyết điều khiển và ứng dụng vào các đối tượng điều khiển và các quá trình. Công nghệ đo lường, điều khiển và giám sát hệ thống. Robot (công nghiệp, tự hành) và trí thông minh nhân tạo. Ngành Công nghệ Thông tin (2+2) (Mã ngành: 7480201_DK2) Chương trình: Chương trình liên kết cấp bằng của trường ĐH Deakin (Úc) Công nghệ Thông tin (với hai chuyên ngành: kỹ sư mạng máy tính và cử nhân khoa học máy tính) và cử nhân Khoa học Dữ liệu. Chương trình đào tạo tuân thủ theo các chuẩn mực quốc tế và đã đạt được chứng nhận kiểm định chất lượng bởi Tổ chức các trường Đại học Đông Nam Á (AUN) từ năm 2009 và tái kiểm định năm 2017. Các chương trình đào tạo đã đạt được chuẩn MOET năm 2017 và hiện đang tiếp tục thực hiện quy chuẩn kiểm định ABET của Mỹ. Ngành Quản trị Kinh doanh (Mã ngành: 7340101_AU) Chương trình: Chương trình liên kết cấp bằng của trường ĐH Auckland University of Technology (New Zealand) Quản trị kinh doanh là một ngành tổng hợp gồm nhiều bộ môn căn bản về “quản trị” và “kinh doanh”. Nói cách khác, khi đăng ký ngành này, bạn sẽ được đào tạo đầy đủ những kiến thức căn bản trong khối ngành kinh tế như tài chính, kế toán, nhân sự cho tới các chiến lược kinh doanh, marketing. Song song với các kiến thức trên, hệ thống tư duy, kỹ năng lãnh đạo cùng nhưng mô hình quản trị sao cho tối đa hóa hiệu suất công việc cũng là những môn học không thể thiếu của chuyên ngành đặc biệt này. Ngành Công nghệ Thực phẩm (Mã ngành: 7540101_UN) Chương trình: Chương trình liên kết cấp bằng của trường ĐH Nottingham (UK) Cung cấp kiến thức rộng, cân bằng về các khoa học thực phẩm và kỹ thuật thực phẩm Cung cấp kiến thức cơ bản về quản lý thực phẩm (bao gồm cả quản lý sản xuất, chất lượng, vệ sinh an toàn thực phẩm và vệ sinh môi trường) Chú trọng đến kỹ năng thực hành và khả năng tiếp cận với thiết bị công nghệ cao. Ngành Kỹ thuật Điện tử - Viễn thông (Mã ngành: 7520207_WE) Chương trình: Chương trình liên kết cấp bằng của trường ĐH West of England (UK) Mục tiêu đào tạo:, Cung cấp kiến thức cơ sở hoàn chỉnh và các kỹ năng trong lĩnh vực Điện tử và Viễn thông Phục vụ và đáp ứng các nhu cầu công nghiệp, nghiên cứu khoa học và học sau đại học Chuẩn bị cho sinh viên tốt nghiệp có thể thích ứng với sự thay đổi nhanh trong lĩnh vực công nghệ cao như Điện tử và Viễn thông. Ngành Logistics và Quản lý chuỗi cung ứng (Mã ngành: 7510605) Chương trình: Trong nước Logistics và Quản lý chuỗi cung ứng là việc quản lý một mạng lưới kết nối của các doanh nghiệp tham gia vào việc cung cấp hàng hoá và dịch vụ đến tận tay người tiêu dùng. Nó đòi hỏi nhiều quy trình khác nhau, bao gồm lưu trữ, vận chuyển nguyên vật liệu, quá trình xử lý hàng tồn kho, sản xuất…. Ngành Công nghệ Thông tin (2.5+1.5) (Mã ngành: 7480201_DK25) Chương trình: Chương trình liên kết cấp bằng của trường ĐH Deakin (Úc) Công nghệ Thông tin (với hai chuyên ngành: kỹ sư mạng máy tính và cử nhân khoa học máy tính) và cử nhân Khoa học Dữ liệu. Chương trình đào tạo tuân thủ theo các chuẩn mực quốc tế và đã đạt được chứng nhận kiểm định chất lượng bởi Tổ chức các trường Đại học Đông Nam Á (AUN) từ năm 2009 và tái kiểm định năm 2017. Các chương trình đào tạo đã đạt được chuẩn MOET năm 2017 và hiện đang tiếp tục thực hiện quy chuẩn kiểm định ABET của Mỹ. Ngành Kỹ thuật Điện tử (Mã ngành: 7520207_SB) Chương trình: Chương trình liên kết cấp bằng của trường ĐH SUNY Binghamton (USA) Đời sống công nghệ hiện đại không thể nào thiếu được các thiết bị điện và điện tử. Các thiết bị này phổ biến ở khắp các hộ gia đình, trong các thiết bị giải trí, trong nhà máy sản xuất và có thể nói là tất cả mọi nơi có con nguời. Chính vì vậy, ngành Kỹ thuật Điện tử có nhu cầu nhân lực lớn và sẽ tiếp tục phát triển trong tương lai. Ngành Tài chính – Ngân hàng (Mã ngành: 7340201) Chương trình: Trong nước Tài chính ngân hàng là ngành nghề liên quan đến các dịch vụ giao dịch, luân chuyển tiền tệ thông qua ngân hàng và các công cụ tài chính của ngân hàng phát hành trong phạm vi nội địa và quốc tế. Tài chính ngân hàng là một phạm trù rất rộng, bao gồm các lĩnh vực nhỏ và chuyên biệt hơn như ngân hàng, tài chính doanh nghiệp, tài chính thuế, tài chính bảo hiểm, phân tích tài chính, kinh tế học tài chính,.. Ngành Kế toán (Mã ngành: 7340301) Chương trình: Trong nước Kế toán (tiếng Anh là Accountant) là công việc ghi chép, thu nhận, xử lý và cung cấp các thông tin về tình hình hoạt động tài chính của một tổ chức, một doanh nghiệp, một cơ quan nhà nước, một cơ sở kinh doanh tư nhân.. Ngành Kỹ thuật Máy tính (Mã ngành: 7480106_SB) Chương trình: Chương trình liên kết cấp bằng của trường ĐH SUNY Binghamton (USA) Ngành Kỹ thuật máy tính (KTMT) là một ngành khá đặc biệt trong nhóm ngành Công nghệ thông tin, là ngành học kết hợp kiến thức cả hai lĩnh vực Điện tử và Công nghệ thông tin, Ngành Kỹ thuật máy tính đang được nhà nước ưu tiên phát triển đặc biệt cụ thể qua các chính sách, dự án nhà máy chế tạo chip đầu tiên của Việt Nam đang được triển khai rầm rộ. Ngành Kỹ thuật Không gian (Mã ngành: 7520121) Chương trình: Trong nước Kỹ thuật Không gian là chương trình đào tạo kỹ sư 4 năm trong lĩnh vực ứng dụng công nghệ vệ tinh, bao gồm xử lý và phân tích tín hiệu, hình ảnh vệ tinh, công nghệ viễn thám, và định vị vệ tinh. Chương trình ra đời nhằm đáp ứng nhu cầu rất lớn về nguồn nhân lực trình độ cao trong ứng dụng công nghệ vệ tinh vào đời sống xã hội, quản lý tài nguyên, môi trường, lãnh thổ, biển đảo, và an ninh quốc phòng. Ngành Công nghệ Thông tin (Mã ngành: 7480201_UN) Chương trình: Chương trình liên kết cấp bằng của trường ĐH Nottingham (UK) Công nghệ Thông tin (với hai chuyên ngành: kỹ sư mạng máy tính và cử nhân khoa học máy tính) và cử nhân Khoa học Dữ liệu. Chương trình đào tạo tuân thủ theo các chuẩn mực quốc tế và đã đạt được chứng nhận kiểm định chất lượng bởi Tổ chức các trường Đại học Đông Nam Á (AUN) từ năm 2009 và tái kiểm định năm 2017. Các chương trình đào tạo đã đạt được chuẩn MOET năm 2017 và hiện đang tiếp tục thực hiện quy chuẩn kiểm định ABET của Mỹ. Ngành Kỹ thuật Điện tử - Viễn thông (Mã ngành: 7520207_UN) Chương trình: Chương trình liên kết cấp bằng của trường ĐH Nottingham (UK) Mục tiêu đào tạo:, Cung cấp kiến thức cơ sở hoàn chỉnh và các kỹ năng trong lĩnh vực Điện tử và Viễn thông Phục vụ và đáp ứng các nhu cầu công nghiệp, nghiên cứu khoa học và học sau đại học Chuẩn bị cho sinh viên tốt nghiệp có thể thích ứng với sự thay đổi nhanh trong lĩnh vực công nghệ cao như Điện tử và Viễn thông. Ngành Công nghệ Sinh học (2+2) (Mã ngành: 7420201_WE2) Chương trình: Chương trình liên kết cấp bằng của trường ĐH West of England (UK) Công nghệ sinh học (CNSH) là một lĩnh vực nghiên cứu và vận dụng sinh vật sống để tạo ra sản phẩm hoặc để phục vụ cho lợi ích của nhân loại. Ngành Kỹ thuật Môi trường (Mã ngành: 7520320) Chương trình: Trong nước Chương trình nhằm đào tạo kỹ sư Kỹ thuật Môi trường có năng lực tốt và trình độ am hiểu các vấn đề Kỹ thuật Môi trường, theo đuổi sự nghiên cứu sáng tạo, kỹ thuật hiện đại để phục vụ nhu cầu của đất nước, xã hội, công nghiệp và cộng đồng khoa học Được thiết kế theo tiêu chí của ABET Inc. (cơ quan đánh giá giáo dục kỹ thuật của Hoa Kỳ), chương trình đào tạo ngành Kỹ thuật môi trường bao gồm 4 năm (8 đến 9 học kỳ, tùy trình độ năng lực tiếng Anh đầu vào) cho 145 tín chỉ. Ngành Ngôn ngữ Anh (Mã ngành: 7220201) Chương trình: Trong nước Chương trình Cử nhân Ngôn ngữ Anh của Bộ môn Anh tại trường Đại học Quốc tế được thiết kế nhằm giúp sinh viên đáp ứng nhu cầu sử dụng tiếng Anh trong môi trường học tập và làm việc toàn cầu. Theo dự kiến, sinh viên hoàn thành 135 tín chỉ của các khóa học trong bốn năm. Những chương trình Anh ngữ Tăng cường và Học thuật của chúng tôi góp phần thúc đẩy sự thành công của sinh viên IU trong môi trường học tập và nói tiếng Anh tại IU và các trường đại học trên toàn thế giới. Chúng tôi tập trung vào các lĩnh vực thường sử dụng tiếng Anh trong nhiều bối cảnh học thuật khác nhau, như đọc chuyên ngành, nghe bài giảng và ghi chú, kỹ thuật thuyết trình, viết học thuật, viết bài kỹ thuật và viết bài nghiên cứu, và chuẩn bị cho các bài kiểm tra tiêu chuẩn quốc tế như TOEFL iBT và IELTS. Ngành Kỹ thuật Hóa học (Mã ngành: 7520301) Chương trình: Trong nước Đào tạo kỹ sư hóa học với triết lý ‘Job ready’, cụ thể như sau:, Có kiến thức cơ bản vững chắc về khoa học và kỹ thuật trong lĩnh vực hóa học và những lĩnh vực có liên quan (vd như sinh học, dược học, môi trường, v.v.) Có khả năng vận dụng sáng tạo các kiến thức cơ bản trong ngành để giải quyết các vấn đề đa dạng trong các lĩnh vực nghề nghiệp Có đạo đức nghề nghiệp, hiểu rõ các vấn đề về môi trường, xã hội, an ninh và kinh tế Có đầy đủ các kỹ năng mềm, kỹ năng quản lý, khả năng làm việc nhóm, khả năng lãnh đạo, khả năng giao tiếp và làm việc chuyên môn thành thạo bằng tiếng Anh. Ngành Công nghệ Thông tin (3+1) (Mã ngành: 7480201_DK3) Chương trình: Chương trình liên kết cấp bằng của trường ĐH Deakin (Úc) Công nghệ Thông tin (với hai chuyên ngành: kỹ sư mạng máy tính và cử nhân khoa học máy tính) và cử nhân Khoa học Dữ liệu. Chương trình đào tạo tuân thủ theo các chuẩn mực quốc tế và đã đạt được chứng nhận kiểm định chất lượng bởi Tổ chức các trường Đại học Đông Nam Á (AUN) từ năm 2009 và tái kiểm định năm 2017. Các chương trình đào tạo đã đạt được chuẩn MOET năm 2017 và hiện đang tiếp tục thực hiện quy chuẩn kiểm định ABET của Mỹ. Ngành Công nghệ Sinh học định hướng Y sinh (4+0) (Mã ngành: 7420201_WE4) Chương trình: Chương trình liên kết cấp bằng của trường ĐH West of England (UK) (4+0) Đây là ngành học ứng dụng các thành tựu của công nghệ sinh học vào lĩnh vực y học – dược học hướng tới gia tăng khả năng điều trị, chẩn đoán và bảo vệ sức khoẻ con người. Ngành Quản trị Kinh doanh (Mã ngành: 7340101_UN) Chương trình: Chương trình liên kết cấp bằng của trường ĐH Nottingham (UK) Quản trị kinh doanh là một ngành tổng hợp gồm nhiều bộ môn căn bản về “quản trị” và “kinh doanh”. Nói cách khác, khi đăng ký ngành này, bạn sẽ được đào tạo đầy đủ những kiến thức căn bản trong khối ngành kinh tế như tài chính, kế toán, nhân sự cho tới các chiến lược kinh doanh, marketing. Song song với các kiến thức trên, hệ thống tư duy, kỹ năng lãnh đạo cùng nhưng mô hình quản trị sao cho tối đa hóa hiệu suất công việc cũng là những môn học không thể thiếu của chuyên ngành đặc biệt này. Ngành Công nghệ Thông tin (Mã ngành: 7480201) Chương trình: Trong nước Công nghệ Thông tin (với hai chuyên ngành: kỹ sư mạng máy tính và cử nhân khoa học máy tính) và cử nhân Khoa học Dữ liệu. Chương trình đào tạo tuân thủ theo các chuẩn mực quốc tế và đã đạt được chứng nhận kiểm định chất lượng bởi Tổ chức các trường Đại học Đông Nam Á (AUN) từ năm 2009 và tái kiểm định năm 2017. Các chương trình đào tạo đã đạt được chuẩn MOET năm 2017 và hiện đang tiếp tục thực hiện quy chuẩn kiểm định ABET của Mỹ. Ngành Khoa học Máy tính (Mã ngành: 7480101) Chương trình: Trong nước Ngành Khoa học máy tính đóng vai trò rất quan trọng trong việc xây dựng các nền tảng nghiên cứu, phát triển các công nghệ trong tương lai, đặc biệt là những nghiên cứu ứng dụng thiết thực trong cuộc sống. Chương trình đào tạo ngành Khoa học máy tính có nhiệm vụ đào tạo ngồn nhân lực chất lượng cao cho ngành CNTT. Sinh viên tốt nghiệp chương trình Cử nhân Khoa học máy tính đáp ứng các yêu cầu sau:, Có kiến thức cơ bản và chuyên sâu về khoa học máy tính và công nghệ thông tin, có khả năng thiết kế các hệ thống xử lý tính toán phức tạp, các phần mềm có chất lượng khoa học và công nghệ cao, thử nghiệm, quản lý các hệ thống máy tính, các hệ thống tin học Có khả năng triển khai xây dựng các hệ thống ứng dụng tin học và phân tích, thiết kế xây dựng các phần mềm có giá trị thực tiễn cao, có tính sáng tạo, đặc biệt là các ứng dụng thông minh dựa trên việc xử lý tri thức, xử lý ngôn ngữ tự nhiên, xử lý và khai thác dữ liệu đa phương tiện. Ngành Kỹ thuật Điện tử - Viễn thông (Mã ngành: 7520207) Chương trình: Trong nước Chương trình Kỹ thuật Điện tử – Viễn thông đã được công nhận đạt chuẩn của các tổ chức kiểm định chất lượng quốc tế như của mạng lưới các trường Đông Nam Á (AUN) và gần đây nhất là của tổ chức Kiểm định các chương trình đào tạo kỹ thuật &amp; công nghệ của Hoa Kỳ từ cuối năm 2018 Mục tiêu đào tạo:, Cung cấp kiến thức cơ sở hoàn chỉnh và các kỹ năng trong lĩnh vực Điện tử và Viễn thông Phục vụ và đáp ứng các nhu cầu công nghiệp, nghiên cứu khoa học và học sau đại học Chuẩn bị cho sinh viên tốt nghiệp có thể thích ứng với sự thay đổi nhanh trong lĩnh vực công nghệ cao như Điện tử và Viễn thông. Ngành Quản trị Kinh doanh (Mã ngành: 7340101_UH) Chương trình: Chương trình liên kết cấp bằng của trường ĐH Houston (USA) Quản trị kinh doanh là một ngành tổng hợp gồm nhiều bộ môn căn bản về “quản trị” và “kinh doanh”. Nói cách khác, khi đăng ký ngành này, bạn sẽ được đào tạo đầy đủ những kiến thức căn bản trong khối ngành kinh tế như tài chính, kế toán, nhân sự cho tới các chiến lược kinh doanh, marketing. Song song với các kiến thức trên, hệ thống tư duy, kỹ năng lãnh đạo cùng nhưng mô hình quản trị sao cho tối đa hóa hiệu suất công việc cũng là những môn học không thể thiếu của chuyên ngành đặc biệt này. Ngành Toán ứng dụng (Kỹ thuật Tài chính và Quản trị rủi ro) (Mã ngành: 7460112) Chương trình: Trong nước Chương trình Kĩ thuật tài chính và Quản trị rủi ro được thiết kế nhằm trang bị cho sinh viên các kiến thức cơ bản và hiện đại về Toán học, Tin học, và Kỹ thuật tài chính, giúp các em có thể thực hiện các quy trình phân tích, dự báo, quản trị các vấn đề tài chính và các vấn đề liên quan, giải quyết được các tình huống thực tế trong lĩnh vực Kinh tế-Tài chính. Ngành Công nghệ Thông tin (2+2) (Mã ngành: 7480201_WE2) Chương trình: Chương trình liên kết cấp bằng của trường ĐH West of England (UK) Công nghệ Thông tin (với hai chuyên ngành: kỹ sư mạng máy tính và cử nhân khoa học máy tính) và cử nhân Khoa học Dữ liệu. Chương trình đào tạo tuân thủ theo các chuẩn mực quốc tế và đã đạt được chứng nhận kiểm định chất lượng bởi Tổ chức các trường Đại học Đông Nam Á (AUN) từ năm 2009 và tái kiểm định năm 2017. Các chương trình đào tạo đã đạt được chuẩn MOET năm 2017 và hiện đang tiếp tục thực hiện quy chuẩn kiểm định ABET của Mỹ. Ngành Quản trị kinh doanh (4+0) (Mã ngành: 7340101_WE4) Chương trình: Chương trình liên kết cấp bằng của trường ĐH West of England (UK) (4+0) Quản trị kinh doanh là một ngành tổng hợp gồm nhiều bộ môn căn bản về “quản trị” và “kinh doanh”. Nói cách khác, khi đăng ký ngành này, bạn sẽ được đào tạo đầy đủ những kiến thức căn bản trong khối ngành kinh tế như tài chính, kế toán, nhân sự cho tới các chiến lược kinh doanh, marketing. Song song với các kiến thức trên, hệ thống tư duy, kỹ năng lãnh đạo cùng nhưng mô hình quản trị sao cho tối đa hóa hiệu suất công việc cũng là những môn học không thể thiếu của chuyên ngành đặc biệt này. Ngành Công nghệ Thông tin (4+0) (Mã ngành: 7480201_WE4) Chương trình: Chương trình liên kết cấp bằng của trường ĐH West of England (UK) (4+0) Công nghệ Thông tin (với hai chuyên ngành: kỹ sư mạng máy tính và cử nhân khoa học máy tính) và cử nhân Khoa học Dữ liệu. Chương trình đào tạo tuân thủ theo các chuẩn mực quốc tế và đã đạt được chứng nhận kiểm định chất lượng bởi Tổ chức các trường Đại học Đông Nam Á (AUN) từ năm 2009 và tái kiểm định năm 2017. Các chương trình đào tạo đã đạt được chuẩn MOET năm 2017 và hiện đang tiếp tục thực hiện quy chuẩn kiểm định ABET của Mỹ. Ngành Ngôn ngữ Anh (4+0) (Mã ngành: 7220201_WE4) Chương trình: Chương trình liên kết cấp bằng của trường ĐH West of England (UK) (4+0) Chương trình Cử nhân Ngôn ngữ Anh của Bộ môn Anh tại trường Đại học Quốc tế được thiết kế nhằm giúp sinh viên đáp ứng nhu cầu sử dụng tiếng Anh trong môi trường học tập và làm việc toàn cầu. Theo dự kiến, sinh viên hoàn thành 135 tín chỉ của các khóa học trong bốn năm. Những chương trình Anh ngữ Tăng cường và Học thuật của chúng tôi góp phần thúc đẩy sự thành công của sinh viên IU trong môi trường học tập và nói tiếng Anh tại IU và các trường đại học trên toàn thế giới. Chúng tôi tập trung vào các lĩnh vực thường sử dụng tiếng Anh trong nhiều bối cảnh học thuật khác nhau, như đọc chuyên ngành, nghe bài giảng và ghi chú, kỹ thuật thuyết trình, viết học thuật, viết bài kỹ thuật và viết bài nghiên cứu, và chuẩn bị cho các bài kiểm tra tiêu chuẩn quốc tế như TOEFL iBT và IELTS. Ngành Ngôn ngữ Anh (3+1) (Mã ngành: 7220201_WE3) Chương trình: Chương trình liên kết cấp bằng của trường ĐH West of England (UK) (3+1) Chương trình Cử nhân Ngôn ngữ Anh của Bộ môn Anh tại trường Đại học Quốc tế được thiết kế nhằm giúp sinh viên đáp ứng nhu cầu sử dụng tiếng Anh trong môi trường học tập và làm việc toàn cầu. Theo dự kiến, sinh viên hoàn thành 135 tín chỉ của các khóa học trong bốn năm. Những chương trình Anh ngữ Tăng cường và Học thuật của chúng tôi góp phần thúc đẩy sự thành công của sinh viên IU trong môi trường học tập và nói tiếng Anh tại IU và các trường đại học trên toàn thế giới. Chúng tôi tập trung vào các lĩnh vực thường sử dụng tiếng Anh trong nhiều bối cảnh học thuật khác nhau, như đọc chuyên ngành, nghe bài giảng và ghi chú, kỹ thuật thuyết trình, viết học thuật, viết bài kỹ thuật và viết bài nghiên cứu, và chuẩn bị cho các bài kiểm tra tiêu chuẩn quốc tế như TOEFL iBT và IELTS. Ngành Quản trị Kinh doanh (Mã ngành: 7340101) Chương trình: Trong nước Quản trị kinh doanh là một ngành tổng hợp gồm nhiều bộ môn căn bản về “quản trị” và “kinh doanh”. Nói cách khác, khi đăng ký ngành này, bạn sẽ được đào tạo đầy đủ những kiến thức căn bản trong khối ngành kinh tế như tài chính, kế toán, nhân sự cho tới các chiến lược kinh doanh, marketing. Song song với các kiến thức trên, hệ thống tư duy, kỹ năng lãnh đạo cùng nhưng mô hình quản trị sao cho tối đa hóa hiệu suất công việc cũng là những môn học không thể thiếu của chuyên ngành đặc biệt này. Ngành Ngôn ngữ Anh (2+2) (Mã ngành: 7220201_WE2) Chương trình: Chương trình liên kết cấp bằng của trường ĐH West of England (UK) Chương trình Cử nhân Ngôn ngữ Anh của Bộ môn Anh tại trường Đại học Quốc tế được thiết kế nhằm giúp sinh viên đáp ứng nhu cầu sử dụng tiếng Anh trong môi trường học tập và làm việc toàn cầu. Theo dự kiến, sinh viên hoàn thành 135 tín chỉ của các khóa học trong bốn năm. Những chương trình Anh ngữ Tăng cường và Học thuật của chúng tôi góp phần thúc đẩy sự thành công của sinh viên IU trong môi trường học tập và nói tiếng Anh tại IU và các trường đại học trên toàn thế giới. Chúng tôi tập trung vào các lĩnh vực thường sử dụng tiếng Anh trong nhiều bối cảnh học thuật khác nhau, như đọc chuyên ngành, nghe bài giảng và ghi chú, kỹ thuật thuyết trình, viết học thuật, viết bài kỹ thuật và viết bài nghiên cứu, và chuẩn bị cho các bài kiểm tra tiêu chuẩn quốc tế như TOEFL iBT và IELTS. Ngành Khoa học Dữ liệu (Mã ngành: 7480109) Chương trình: Trong nước Khoa học dữ liệu (KHDL) là khoa học về việc quản trị và phân tích dữ liệu để tìm ra các hiểu biết, các tri thức hành động, các quyết định dẫn dắt hành động. KHDL gồm ba phần chính: Tạo ra và quản trị dữ liệu, phân tích dữ liệu, và chuyển kết quả phân tích thành giá trị của hành động. Nôm na bước thứ nhất là về số hóa và bước thứ hai là về dùng dữ liệu. Việc phân tích và dùng dữ liệu lại dựa vào ba nguồn tri thức: toán học (thống kê toán học), công nghệ thông tin (máy học) và tri thức của lĩnh vực ứng dụng cụ thể. Ngành Kỹ thuật Hệ thống Công nghiệp (Mã ngành: 7520118_SB) Chương trình: Chương trình liên kết cấp bằng của trường ĐH SUNY Binghamton (USA) Chương trình đại học của ngành Kỹ thuật Hệ thống công nghiệp (ISE) sẽ cung cấp cho sinh viên những kiến thức lý thuyết và kỹ năng thực tế trong việc thiết kế, vận hành, cải thiện và tối ưu các hệ thống sản xuất và dịch vụ. Ngành Công nghệ Sinh học (Mã ngành: 7420201) Chương trình: Trong nước Công nghệ sinh học (CNSH) là một lĩnh vực nghiên cứu và vận dụng sinh vật sống để tạo ra sản phẩm hoặc để phục vụ cho lợi ích của nhân loại. Ngành Quản lý Xây dựng (Mã ngành: 7580302) Chương trình: Trong nước Ngành Quản lý xây dựng là ngành trực tiếp thực hiện nhiệm vụ hoặc thực hành tư vấn về lập và đánh giá dự án, lập hồ sơ thiết kế tổ chức thi công, tổ chức các hoạt động trên từng giai đoạn chuẩn bị và thực hiện dự án như đấu thầu, triển khai thiết kế, thi công, bàn giao nghiệm thu và thanh quyết toán công trình. Ngành Kỹ thuật Xây dựng (Mã ngành: 7580201) Chương trình: Trong nước Kỹ thuật xây dựng là ngành chuyên về lĩnh vực tư vấn, thiết kế, tổ chức thi công, quản lí giảm sát và nghiệm thu các công trình xây dựng phục vụ đời sống con người như: nhà ở, nhà hàng – khách sạn, bệnh viện, cầu đường…. Ngành Quản trị kinh doanh (Mã ngành: 7340101_NS) Chương trình: Chương trình liên kết cấp bằng của trường ĐH New South Wales (Australia) Quản trị kinh doanh là một ngành tổng hợp gồm nhiều bộ môn căn bản về “quản trị” và “kinh doanh”. Nói cách khác, khi đăng ký ngành này, bạn sẽ được đào tạo đầy đủ những kiến thức căn bản trong khối ngành kinh tế như tài chính, kế toán, nhân sự cho tới các chiến lược kinh doanh, marketing. Song song với các kiến thức trên, hệ thống tư duy, kỹ năng lãnh đạo cùng nhưng mô hình quản trị sao cho tối đa hóa hiệu suất công việc cũng là những môn học không thể thiếu của chuyên ngành đặc biệt này. Ngành Hóa học (Hóa sinh) (Mã ngành: 7440112) Chương trình: Trong nước Ngành Hóa sinh được thiết kế dành riêng cho sinh viên chuyên nghiên cứu các tiến trình hóa học của sự sống ở cấp độ phân tử. Chương trình bao gồm giảng dạy các môn học về nguyên lý Sinh học, Hóa học, Vật lý và đặc biệt là mối liên quan của các nguyên lý này bên trong cơ thể sống. Sinh viên sẽ được nghiên cứu các tiến trình hóa học liên quan đến các đại phân tử và ý nghĩa từng cấu trúc trên các tiến trình tế bào. Chương trình còn khái quát các khía cạnh khác nhau của Hóa sinh bao gồm Hóa sinh phân tử, Enzym học, Công nghệ lên men, Hóa sinh lâm sàng và Kỹ thuật Hóa sinh. Ngành Quản trị Kinh doanh (2+2) (Mã ngành: 7340101_WE) Chương trình: Chương trình liên kết cấp bằng của trường ĐH West of England (UK) Quản trị kinh doanh là một ngành tổng hợp gồm nhiều bộ môn căn bản về “quản trị” và “kinh doanh”. Nói cách khác, khi đăng ký ngành này, bạn sẽ được đào tạo đầy đủ những kiến thức căn bản trong khối ngành kinh tế như tài chính, kế toán, nhân sự cho tới các chiến lược kinh doanh, marketing. Song song với các kiến thức trên, hệ thống tư duy, kỹ năng lãnh đạo cùng nhưng mô hình quản trị sao cho tối đa hóa hiệu suất công việc cũng là những môn học không thể thiếu của chuyên ngành đặc biệt này. Ngành Công nghệ Sinh học (Mã ngành: 7420201_UN) Chương trình: Chương trình liên kết cấp bằng của trường ĐH Nottingham (UK) Công nghệ sinh học (CNSH) là một lĩnh vực nghiên cứu và vận dụng sinh vật sống để tạo ra sản phẩm hoặc để phục vụ cho lợi ích của nhân loại. Ngành Kỹ thuật Y Sinh (Mã ngành: 7520212) Chương trình: Trong nước Kỹ thuật Y Sinh (KTYS) hiện đang là một lĩnh vực nổi bật thu hút sự quan tâm trên thế giới. Đây là một lĩnh vực đa ngành ứng dụng kỹ thuật tiên tiến vào việc tạo ra các phương pháp nghiên cứu và thiết bị phục vụ cho sức khỏe cũng như giúp hiểu biết sâu hơn về các tiến trình sinh học của con người.</td>\n",
              "      <td>43</td>\n",
              "      <td>Cho tôi hỏi về Công nghệ Sinh học</td>\n",
              "      <td>Thông tin chung</td>\n",
              "    </tr>\n",
              "    <tr>\n",
              "      <th>4</th>\n",
              "      <td>{'answer_start': [102], 'text': ['Ngành Kỹ thuật Máy tính(7480106_SB) có chỉ tiêu 20']}</td>\n",
              "      <td>Ngành Kỹ thuật Hóa học(7520301) có chỉ tiêu 40. Ngành Công nghệ Thông tin(7480201_UN) có chỉ tiêu 20. Ngành Kỹ thuật Máy tính(7480106_SB) có chỉ tiêu 20. Ngành Công nghệ Thông tin(7480201) có chỉ tiêu 50. Ngành Logistics và Quản lý chuỗi cung ứng(7510605) có chỉ tiêu 160. Ngành Công nghệ Sinh học định hướng Y sinh (4+0)(7420201_WE4) có chỉ tiêu 50. Ngành Công nghệ Thông tin (4+0)(7480201_WE4) có chỉ tiêu 50. Ngành Kỹ thuật Y Sinh(7520212) có chỉ tiêu 105. Ngành Kỹ thuật Môi trường(7520320) có chỉ tiêu 30. Ngành Khoa học Máy tính(7480101) ở phương thức Xét tuyển dựa trên kết quả kỳ thi THPT QG năm 2021 có chỉ tiêu 120. Ngành Toán ứng dụng (Kỹ thuật Tài chính và Quản trị rủi ro)(7460112) có chỉ tiêu 50. Ngành Quản trị kinh doanh (4+0)(7340101_WE4) có chỉ tiêu 300. Ngành Kỹ thuật Hệ thống Công nghiệp(7520118) có chỉ tiêu 105. Ngành Kỹ thuật Hệ thống Công nghiệp(7520118_SB) có chỉ tiêu 15. Ngành Kỹ thuật Điện tử - Viễn thông(7520207_WE) có chỉ tiêu 10. Ngành Kỹ thuật Điện tử(7520207_SB) có chỉ tiêu 10. Ngành Quản trị Kinh doanh(7340101) ở phương thức Xét tuyển dựa trên kết quả kỳ thi THPT QG năm 2021 có chỉ tiêu 250. Ngành Công nghệ Thực phẩm(7540101) có chỉ tiêu 105. Ngành Tài chính – Ngân hàng(7340201) có chỉ tiêu 160. Ngành Quản lý Xây dựng(7580302) có chỉ tiêu 50. Ngành Công nghệ Sinh học (2+2)(7420201_WE2) có chỉ tiêu 25. Ngành Công nghệ Sinh học(7420201) ở phương thức Xét tuyển dựa trên kết quả kỳ thi THPT QG năm 2021 có chỉ tiêu 155. Ngành Khoa học Máy tính(7480101) có chỉ tiêu 100. Ngành Công nghệ Thông tin (2+2)(7480201_DK2) có chỉ tiêu 20. Ngành Kỹ thuật Không gian(7520121) có chỉ tiêu 30. Ngành Ngôn ngữ Anh(7220201) có chỉ tiêu 70</td>\n",
              "      <td>99</td>\n",
              "      <td>Chỉ tiêu tuyển sinh ngành Kỹ thuật Máy tính là bao nhiêu?</td>\n",
              "      <td>Chỉ tiêu tuyển sinh</td>\n",
              "    </tr>\n",
              "    <tr>\n",
              "      <th>5</th>\n",
              "      <td>{'answer_start': [6471], 'text': ['Bộ môn Toán: Bộ môn Toán chịu trách nhiệm biên soạn đề cương, chương trình và thực hiện giảng dạy các học phần Toán học cho sinh viên trường Đại học Quốc tế. Liên hệ: Phòng O2 – 610 Điện thoại: (84-28) 3724 4270 số nhánh lẻ: 3235']}</td>\n",
              "      <td>Phòng Đào tạo Sau đại học: Tham mưu cho Hiệu trưởng về các công tác quản lý đào tạo và bồi dưỡng sau đại học thuộc trách nhiệm và thẩm quyền. Liên hệ: Room O2 – 609Telephone: (84)-28-37244270. Ext: 3120Fax: (84-28) 37244271. Phòng Vật tư Thiết bị: Phòng Vật tư Thiết bị Liên hệ: Phòng O1 – 612, Trường Đại học Quốc tếKhu phố 6, Phường Linh Trung, Quận Thủ Đức, TP. HCMĐiện thoại: (028) 37244270 – số máy lẻ: 3555, 3246 Fax: (028) 37244271. Trung tâm Đổi mới sáng tạo và Chuyển giao công nghệ: Trung tâm là đơn vị sự nghiệp khoa học trực thuộc trường Đại Học Quốc Tế – Đại Học Quốc Gia TP. HCM, có chức năng cung cấp dịch vụ – nghiên cứu – đào tạo – tư vấn và chuyển giao công nghệ cho các doanh nghiệp và các cơ quan chức năng Nhà nước. Trung tâm là cầu nối giữa giảng viên và sinh viên của Trường với các nghiên cứu và dự án thực tiễn tại các doanh nghiệp và đơn vị chức năng trực thuộc nhà nước. Liên hệ: Phòng O2– 303, Trường Đại học Quốc tếKhu phố 6, Phường Linh Trung, Quận Thủ Đức, TP. HCMĐiện thoại: (028) 37244270 – số máy lẻ: 3949 Fax: (028) 37244271. Phòng Hành chính Tổng hợp: Phòng Hành chính Tổng hợp Liên hệ: Phòng O2-711, Trường Đại học Quốc tếKhu phố 6, Phường Linh Trung, Quận Thủ Đức, TP. HCMĐiện thoại: (028) 37244270 – số máy lẻ: 3225, 3939, 3737 Fax: (028) 37244271. Phòng Đầu tư &amp; Phát triển: Tham mưu, đề xuất Hiệu trưởng thực hiện chức năng chủ đầu tư xây dựng quản lý và sử dụng các nguồn vốn được giao để tổ chức quản lý thực hiện dự án đầu tư xây dựng. Phòng Quản trị cơ sở vật chất: Phòng có chức năng tham mưu và giúp Hiệu trưởng trong công tác quản lý, mua sắm, sữa chữa, bảo quản cơ sở vật chất của trường, phục vụ cho công tác đào tạo, nghiên cứu khoa học, của cán bộ công nhân viên và sinh viên toàn trường. Liên hệ: Phòng O2 – 702, Trường Đại học Quốc tếKhu phố 6, Phường Linh Trung, Quận Thủ Đức, TP. HCMĐiện thoại: (028) 37244270 – số máy lẻ: 3223. Phòng Quan hệ Đối ngoại: Tham mưu cho Hiệu trưởng về công tác đối ngoại, quan hệ công chúng và truyền thông của trường. Phòng Quản lý Khoa học: Tham mưu cho Hiệu trưởng về công tác quản lý toàn bộ hoạt động khoa học và công nghệ của trường. Phòng Tổ chức cán bộ: Phòng Tổ chức cán bộ Liên hệ: Phòng O2.709, Trường Đại học Quốc tếKhu phố 6, Phường Linh Trung, Quận Thủ Đức, TP. HCMĐiện thoại: (028) 37244270 – số máy lẻ: 3336, 3526, 3527 Fax: (028) 37244271. Phòng Hợp tác Đào tạo nước ngoài: Phòng Hợp tác Đào tạo nước ngoài Liên hệ: Phòng O1 – 614, Trường Đại học Quốc tếKhu phố 6, Phường Linh Trung, Quận Thủ Đức, TP. HCMĐiện thoại: (028) 37244270 – số máy lẻ: 3880 Fax: (028) 37244271. Trung tâm Dịch vụ Công nghệ thông tin: Trung tâm Dịch vụ Công nghệ Thông tin chịu trách nhiệm quản lý và hỗ trợ kỹ thuật cho toàn bộ hệ thống mạng Internet, mạng điện thoại và các trang web của trường. Bên cạnh đó Trung tâm còn có chức năng chụp ảnh, viết bài đưa tin những hình ảnh hoạt động thường xuyên của nhà trường nhằm xây dựng quảng bá hình ảnh thương hiệu trường ngày càng được nhiều người biết đến. Liên hệ: Phòng O1 – 312, Trường Đại học Quốc tếKhu phố 6, Phường Linh Trung, Quận Thủ Đức, TP. HCMĐiện thoại: (028) 37244270 – số máy lẻ: 3366. Phòng Kế hoạch Tài chính: Phòng có chức năng tham mưu và giúp Hiệu trưởng trong công tác xây dựng và quản lý kế hoạch về tài chính của trường, theo dõi giám sát và kiểm tra việc thu chi, sử dụng tài chính, kế hoạch tài chính và các lĩnh vực khác có liên quan đến công tác kế hoạch tài chính trong toàn trường. Liên hệ: Phòng O2 – 701, Trường Đại học Quốc tếKhu phố 6, Phường Linh Trung, Quận Thủ Đức, TP. HCM. Phòng Đào tạo Đại học: Phòng có chức năng tham mưu, giúp Hiệu trưởng trong kế hoạch đào tạo ngắn hạn và dài hạn của nhà trường. Tổ chức chỉ đạo thực hiện, kiểm tra và giám sát toàn bộ công tác giảng dạy và học tập trong trường, các hệ đào tạo chính quy đại học và sau đại học. Nghiên cứu đề xuất về mục tiêu đào tạo, các hệ đào tạo, cơ cấu ngành nghề, quy mô và phương thức đào tạo, cũng như việc phát triển cơ sở vật chất cần thiết phục vụ cho công tác giảng dạy và học tập. Liên hệ: Phòng O2 – 708, Trường Đại học Quốc tếKhu phố 6, Phường Linh Trung, Quận Thủ Đức, TP. HCMĐiện thoại: (028) 37244270 – số máy lẻ: 3777, 3229. Phòng Công tác Sinh viên: Được thành lập năm vào tháng 12/2009, Phòng Công tác Sinh viên (PCTSV) là đơn vị tham mưu giúp việc cho Ban Giám hiệu trong công tác thực hiện chế độ chính sách, học bổng Doanh nghiệp, khen thưởng-kỷ luật sinh viên. Phòng Thanh tra Pháp chế: Công tác thanh tra: Tham mưu, giúp Hiệu trưởng thực hiện đúng công tác thanh tra, kiểm tra trong phạm vi quản lý của Hiệu trưởng nhằm đảm bảo việc thực hiện chính sách pháp luật về giáo dục và chính sách, pháp luật liên quan. Công tác pháp chế: Chủ trì, phối hợp với các bộ phận liên quan tư vấn, giúp Hiệu trưởng về những vấn đề pháp lý. Phòng Bảo đảm Chất lượng Giáo dục và Khảo thí: Tư vấn, tham mưu cho Ban Giám hiệu về chiến lược, các kế hoạch cải tiến hoạt động bảo đảm chất lượng. Trung tâm đào tạo Quản lý công: Trung tâm Đào tạo Quản lý công là nơi đào tạo nên những nhà lãnh đạo theo hướng đổi mới sáng tạo, quản trị tốt với kỹ năng, nghiệp vụ ngày càng chuyên nghiệp, hiệu quả. Liên hệ: Phòng O2 – 304 Điện thoại: (028) 37244270 – số máy lẻ: 3305. Khoa Công nghệ Thông tin: Thông qua các chương trình đào tạo kỹ sư phần cứng máy tính, mạng máy tính, phần mềm và Khoa học dữ liệu, Khoa CNTT đã đào tạo ra nhiều lứa sinh viên có trình độ chuyên môn cao và khả năng ngoại ngữ lưu loát. Liên hệ: Phòng A1.610 Điện thoại: (84-28) 37244270 – Số máy lẻ: 3232. Bộ môn Kỹ thuật Xây dựng: Bộ môn Kỹ thuật Xây dựng (KTXD) được thành lập vào tháng 1 năm 2011 nhằm xây dựng một nền tảng vững chắc cho sinh viên và giúp giảng viên phát huy tối đa khả năng của mình Liên hệ: Phòng O1 – 506 Điện thoại: (84 -28) 3724 4270 số nhánh lẻ: 342. Khoa Kỹ thuật và Quản lý Công nghiệp: Khoa Kỹ thuật và Quản lý Công nghiệp mong muốn thu hút, đào tạo sinh viên và chuẩn bị cho họ trở thành những nhà cán bộ kỹ thuật và nhà lãnh đạo trong các lãnh vực Quản lý Sản xuất, Hậu cần, Chuỗi Cung ứng, các ngành Dịch vụ tại Việt Nam Liên hệ: Phòng O2 – 602 Điện thoại: (84 – 28) 37244270 số máy lẻ: 3327, 3982. Khoa Công nghệ Sinh học: Chương trình đào tạo của Khoa CNSH được xây dựng trên nền tảng của các chương trình tiên tiến có khả năng giải quyết các nhu cầu thực tiễn trong nước, tập trung vào việc trang bị kiến thức hiện đại, kỹ năng thực hành và làm việc cần thiết cho người học Liên hệ: Phòng O1 – 708 Điện thoại: (84 – 28) 37244270 – số máy lẻ 3233. Bộ môn Toán: Bộ môn Toán chịu trách nhiệm biên soạn đề cương, chương trình và thực hiện giảng dạy các học phần Toán học cho sinh viên trường Đại học Quốc tế. Liên hệ: Phòng O2 – 610 Điện thoại: (84-28) 3724 4270 số nhánh lẻ: 3235. Khoa Điện tử Viễn thông: Mục tiêu của Khoa ĐTVT chính là chuẩn bị cho sinh viên tốt nghiệp một hành trang vững chắc để thích ứng với những thay đổi nhanh chóng của thế giới công nghệ, đặc biệt là trong các lĩnh vực Kỹ thuật Điện tử, Viễn thông, Xử lý Tín hiệu (âm thanh, hình ảnh), Kỹ thuật Điều khiển và Tự động hóa Liên hệ: Phòng A2.206 ĐT: (84-28) 37244270 – số nội bộ: 3231. Khoa Kỹ thuật Y sinh: Kỹ thuật Y Sinh (KTYS) hiện đang là một lĩnh vực nổi bật thu hút sự quan tâm trên thế giới Liên hệ: Phòng O1- 405 Điện thoại: (84-28) 3724 4270 số nhánh lẻ: 3236. Bộ môn Kỹ thuật Môi trường: Bộ môn Kỹ thuật Môi trường được thành lập vào tháng 7 năm 2017 với sứ mệnh là đào tạo ra những kỹ sư cho ngành kỹ thuật môi trường với kiến thức chuyên môn sâu, cùng với những kỹ năng cần thiết để đáp ứng nhu cầu nhân lực chất lượng cao, giải quyết các vấn đề ô nhiễm môi trường (ô nhiễm nguồn nước, ô nhiễm không khí, chất thải rắn). Liên hệ: Phòng A2-513 Điện thoại: (028) 3724 4270 Số nhánh lẻ: 3950. Khoa Quản trị kinh doanh: Một đơn vị đào tạo cử nhân ngành quản trị kinh doanh chất lượng cao trong khối trường đại học công lập Liên hệ: Phòng 01 – 306 Điện thoại: (84-28) 37244270 số máy lẻ: 3230, 3724</td>\n",
              "      <td>66</td>\n",
              "      <td>Cho tôi hỏi về Bộ môn Toán</td>\n",
              "      <td>Thông tin chung</td>\n",
              "    </tr>\n",
              "    <tr>\n",
              "      <th>6</th>\n",
              "      <td>{'answer_start': [626], 'text': ['Ngành Toán ứng dụng (Kỹ thuật Tài chính và Quản trị rủi ro)(7460112) có chỉ tiêu 50']}</td>\n",
              "      <td>Ngành Kỹ thuật Hóa học(7520301) có chỉ tiêu 40. Ngành Công nghệ Thông tin(7480201_UN) có chỉ tiêu 20. Ngành Kỹ thuật Máy tính(7480106_SB) có chỉ tiêu 20. Ngành Công nghệ Thông tin(7480201) có chỉ tiêu 50. Ngành Logistics và Quản lý chuỗi cung ứng(7510605) có chỉ tiêu 160. Ngành Công nghệ Sinh học định hướng Y sinh (4+0)(7420201_WE4) có chỉ tiêu 50. Ngành Công nghệ Thông tin (4+0)(7480201_WE4) có chỉ tiêu 50. Ngành Kỹ thuật Y Sinh(7520212) có chỉ tiêu 105. Ngành Kỹ thuật Môi trường(7520320) có chỉ tiêu 30. Ngành Khoa học Máy tính(7480101) ở phương thức Xét tuyển dựa trên kết quả kỳ thi THPT QG năm 2021 có chỉ tiêu 120. Ngành Toán ứng dụng (Kỹ thuật Tài chính và Quản trị rủi ro)(7460112) có chỉ tiêu 50. Ngành Quản trị kinh doanh (4+0)(7340101_WE4) có chỉ tiêu 300. Ngành Kỹ thuật Hệ thống Công nghiệp(7520118) có chỉ tiêu 105. Ngành Kỹ thuật Hệ thống Công nghiệp(7520118_SB) có chỉ tiêu 15. Ngành Kỹ thuật Điện tử - Viễn thông(7520207_WE) có chỉ tiêu 10. Ngành Kỹ thuật Điện tử(7520207_SB) có chỉ tiêu 10. Ngành Quản trị Kinh doanh(7340101) ở phương thức Xét tuyển dựa trên kết quả kỳ thi THPT QG năm 2021 có chỉ tiêu 250. Ngành Công nghệ Thực phẩm(7540101) có chỉ tiêu 105. Ngành Tài chính – Ngân hàng(7340201) có chỉ tiêu 160. Ngành Quản lý Xây dựng(7580302) có chỉ tiêu 50. Ngành Công nghệ Sinh học (2+2)(7420201_WE2) có chỉ tiêu 25. Ngành Công nghệ Sinh học(7420201) ở phương thức Xét tuyển dựa trên kết quả kỳ thi THPT QG năm 2021 có chỉ tiêu 155. Ngành Khoa học Máy tính(7480101) có chỉ tiêu 100. Ngành Công nghệ Thông tin (2+2)(7480201_DK2) có chỉ tiêu 20. Ngành Kỹ thuật Không gian(7520121) có chỉ tiêu 30. Ngành Ngôn ngữ Anh(7220201) có chỉ tiêu 70</td>\n",
              "      <td>107</td>\n",
              "      <td>Chỉ tiêu tuyển sinh ngành Toán ứng dụng (Kỹ thuật Tài chính và Quản trị rủi ro) là bao nhiêu?</td>\n",
              "      <td>Chỉ tiêu tuyển sinh</td>\n",
              "    </tr>\n",
              "    <tr>\n",
              "      <th>7</th>\n",
              "      <td>{'answer_start': [3537], 'text': ['Phòng Đào tạo Đại học: Phòng có chức năng tham mưu, giúp Hiệu trưởng trong kế hoạch đào tạo ngắn hạn và dài hạn của nhà trường. Tổ chức chỉ đạo thực hiện, kiểm tra và giám sát toàn bộ công tác giảng dạy và học tập trong trường, các hệ đào tạo chính quy đại học và sau đại học. Nghiên cứu đề xuất về mục tiêu đào tạo, các hệ đào tạo, cơ cấu ngành nghề, quy mô và phương thức đào tạo, cũng như việc phát triển cơ sở vật chất cần thiết phục vụ cho công tác giảng dạy và học tập. Liên hệ: Phòng O2 – 708, Trường Đại học Quốc tếKhu phố 6, Phường Linh Trung, Quận Thủ Đức, TP. HCMĐiện thoại: (028) 37244270 – số máy lẻ: 3777, 3229']}</td>\n",
              "      <td>Phòng Đào tạo Sau đại học: Tham mưu cho Hiệu trưởng về các công tác quản lý đào tạo và bồi dưỡng sau đại học thuộc trách nhiệm và thẩm quyền. Liên hệ: Room O2 – 609Telephone: (84)-28-37244270. Ext: 3120Fax: (84-28) 37244271. Phòng Vật tư Thiết bị: Phòng Vật tư Thiết bị Liên hệ: Phòng O1 – 612, Trường Đại học Quốc tếKhu phố 6, Phường Linh Trung, Quận Thủ Đức, TP. HCMĐiện thoại: (028) 37244270 – số máy lẻ: 3555, 3246 Fax: (028) 37244271. Trung tâm Đổi mới sáng tạo và Chuyển giao công nghệ: Trung tâm là đơn vị sự nghiệp khoa học trực thuộc trường Đại Học Quốc Tế – Đại Học Quốc Gia TP. HCM, có chức năng cung cấp dịch vụ – nghiên cứu – đào tạo – tư vấn và chuyển giao công nghệ cho các doanh nghiệp và các cơ quan chức năng Nhà nước. Trung tâm là cầu nối giữa giảng viên và sinh viên của Trường với các nghiên cứu và dự án thực tiễn tại các doanh nghiệp và đơn vị chức năng trực thuộc nhà nước. Liên hệ: Phòng O2– 303, Trường Đại học Quốc tếKhu phố 6, Phường Linh Trung, Quận Thủ Đức, TP. HCMĐiện thoại: (028) 37244270 – số máy lẻ: 3949 Fax: (028) 37244271. Phòng Hành chính Tổng hợp: Phòng Hành chính Tổng hợp Liên hệ: Phòng O2-711, Trường Đại học Quốc tếKhu phố 6, Phường Linh Trung, Quận Thủ Đức, TP. HCMĐiện thoại: (028) 37244270 – số máy lẻ: 3225, 3939, 3737 Fax: (028) 37244271. Phòng Đầu tư &amp; Phát triển: Tham mưu, đề xuất Hiệu trưởng thực hiện chức năng chủ đầu tư xây dựng quản lý và sử dụng các nguồn vốn được giao để tổ chức quản lý thực hiện dự án đầu tư xây dựng. Phòng Quản trị cơ sở vật chất: Phòng có chức năng tham mưu và giúp Hiệu trưởng trong công tác quản lý, mua sắm, sữa chữa, bảo quản cơ sở vật chất của trường, phục vụ cho công tác đào tạo, nghiên cứu khoa học, của cán bộ công nhân viên và sinh viên toàn trường. Liên hệ: Phòng O2 – 702, Trường Đại học Quốc tếKhu phố 6, Phường Linh Trung, Quận Thủ Đức, TP. HCMĐiện thoại: (028) 37244270 – số máy lẻ: 3223. Phòng Quan hệ Đối ngoại: Tham mưu cho Hiệu trưởng về công tác đối ngoại, quan hệ công chúng và truyền thông của trường. Phòng Quản lý Khoa học: Tham mưu cho Hiệu trưởng về công tác quản lý toàn bộ hoạt động khoa học và công nghệ của trường. Phòng Tổ chức cán bộ: Phòng Tổ chức cán bộ Liên hệ: Phòng O2.709, Trường Đại học Quốc tếKhu phố 6, Phường Linh Trung, Quận Thủ Đức, TP. HCMĐiện thoại: (028) 37244270 – số máy lẻ: 3336, 3526, 3527 Fax: (028) 37244271. Phòng Hợp tác Đào tạo nước ngoài: Phòng Hợp tác Đào tạo nước ngoài Liên hệ: Phòng O1 – 614, Trường Đại học Quốc tếKhu phố 6, Phường Linh Trung, Quận Thủ Đức, TP. HCMĐiện thoại: (028) 37244270 – số máy lẻ: 3880 Fax: (028) 37244271. Trung tâm Dịch vụ Công nghệ thông tin: Trung tâm Dịch vụ Công nghệ Thông tin chịu trách nhiệm quản lý và hỗ trợ kỹ thuật cho toàn bộ hệ thống mạng Internet, mạng điện thoại và các trang web của trường. Bên cạnh đó Trung tâm còn có chức năng chụp ảnh, viết bài đưa tin những hình ảnh hoạt động thường xuyên của nhà trường nhằm xây dựng quảng bá hình ảnh thương hiệu trường ngày càng được nhiều người biết đến. Liên hệ: Phòng O1 – 312, Trường Đại học Quốc tếKhu phố 6, Phường Linh Trung, Quận Thủ Đức, TP. HCMĐiện thoại: (028) 37244270 – số máy lẻ: 3366. Phòng Kế hoạch Tài chính: Phòng có chức năng tham mưu và giúp Hiệu trưởng trong công tác xây dựng và quản lý kế hoạch về tài chính của trường, theo dõi giám sát và kiểm tra việc thu chi, sử dụng tài chính, kế hoạch tài chính và các lĩnh vực khác có liên quan đến công tác kế hoạch tài chính trong toàn trường. Liên hệ: Phòng O2 – 701, Trường Đại học Quốc tếKhu phố 6, Phường Linh Trung, Quận Thủ Đức, TP. HCM. Phòng Đào tạo Đại học: Phòng có chức năng tham mưu, giúp Hiệu trưởng trong kế hoạch đào tạo ngắn hạn và dài hạn của nhà trường. Tổ chức chỉ đạo thực hiện, kiểm tra và giám sát toàn bộ công tác giảng dạy và học tập trong trường, các hệ đào tạo chính quy đại học và sau đại học. Nghiên cứu đề xuất về mục tiêu đào tạo, các hệ đào tạo, cơ cấu ngành nghề, quy mô và phương thức đào tạo, cũng như việc phát triển cơ sở vật chất cần thiết phục vụ cho công tác giảng dạy và học tập. Liên hệ: Phòng O2 – 708, Trường Đại học Quốc tếKhu phố 6, Phường Linh Trung, Quận Thủ Đức, TP. HCMĐiện thoại: (028) 37244270 – số máy lẻ: 3777, 3229. Phòng Công tác Sinh viên: Được thành lập năm vào tháng 12/2009, Phòng Công tác Sinh viên (PCTSV) là đơn vị tham mưu giúp việc cho Ban Giám hiệu trong công tác thực hiện chế độ chính sách, học bổng Doanh nghiệp, khen thưởng-kỷ luật sinh viên. Phòng Thanh tra Pháp chế: Công tác thanh tra: Tham mưu, giúp Hiệu trưởng thực hiện đúng công tác thanh tra, kiểm tra trong phạm vi quản lý của Hiệu trưởng nhằm đảm bảo việc thực hiện chính sách pháp luật về giáo dục và chính sách, pháp luật liên quan. Công tác pháp chế: Chủ trì, phối hợp với các bộ phận liên quan tư vấn, giúp Hiệu trưởng về những vấn đề pháp lý. Phòng Bảo đảm Chất lượng Giáo dục và Khảo thí: Tư vấn, tham mưu cho Ban Giám hiệu về chiến lược, các kế hoạch cải tiến hoạt động bảo đảm chất lượng. Trung tâm đào tạo Quản lý công: Trung tâm Đào tạo Quản lý công là nơi đào tạo nên những nhà lãnh đạo theo hướng đổi mới sáng tạo, quản trị tốt với kỹ năng, nghiệp vụ ngày càng chuyên nghiệp, hiệu quả. Liên hệ: Phòng O2 – 304 Điện thoại: (028) 37244270 – số máy lẻ: 3305. Khoa Công nghệ Thông tin: Thông qua các chương trình đào tạo kỹ sư phần cứng máy tính, mạng máy tính, phần mềm và Khoa học dữ liệu, Khoa CNTT đã đào tạo ra nhiều lứa sinh viên có trình độ chuyên môn cao và khả năng ngoại ngữ lưu loát. Liên hệ: Phòng A1.610 Điện thoại: (84-28) 37244270 – Số máy lẻ: 3232. Bộ môn Kỹ thuật Xây dựng: Bộ môn Kỹ thuật Xây dựng (KTXD) được thành lập vào tháng 1 năm 2011 nhằm xây dựng một nền tảng vững chắc cho sinh viên và giúp giảng viên phát huy tối đa khả năng của mình Liên hệ: Phòng O1 – 506 Điện thoại: (84 -28) 3724 4270 số nhánh lẻ: 342. Khoa Kỹ thuật và Quản lý Công nghiệp: Khoa Kỹ thuật và Quản lý Công nghiệp mong muốn thu hút, đào tạo sinh viên và chuẩn bị cho họ trở thành những nhà cán bộ kỹ thuật và nhà lãnh đạo trong các lãnh vực Quản lý Sản xuất, Hậu cần, Chuỗi Cung ứng, các ngành Dịch vụ tại Việt Nam Liên hệ: Phòng O2 – 602 Điện thoại: (84 – 28) 37244270 số máy lẻ: 3327, 3982. Khoa Công nghệ Sinh học: Chương trình đào tạo của Khoa CNSH được xây dựng trên nền tảng của các chương trình tiên tiến có khả năng giải quyết các nhu cầu thực tiễn trong nước, tập trung vào việc trang bị kiến thức hiện đại, kỹ năng thực hành và làm việc cần thiết cho người học Liên hệ: Phòng O1 – 708 Điện thoại: (84 – 28) 37244270 – số máy lẻ 3233. Bộ môn Toán: Bộ môn Toán chịu trách nhiệm biên soạn đề cương, chương trình và thực hiện giảng dạy các học phần Toán học cho sinh viên trường Đại học Quốc tế. Liên hệ: Phòng O2 – 610 Điện thoại: (84-28) 3724 4270 số nhánh lẻ: 3235. Khoa Điện tử Viễn thông: Mục tiêu của Khoa ĐTVT chính là chuẩn bị cho sinh viên tốt nghiệp một hành trang vững chắc để thích ứng với những thay đổi nhanh chóng của thế giới công nghệ, đặc biệt là trong các lĩnh vực Kỹ thuật Điện tử, Viễn thông, Xử lý Tín hiệu (âm thanh, hình ảnh), Kỹ thuật Điều khiển và Tự động hóa Liên hệ: Phòng A2.206 ĐT: (84-28) 37244270 – số nội bộ: 3231. Khoa Kỹ thuật Y sinh: Kỹ thuật Y Sinh (KTYS) hiện đang là một lĩnh vực nổi bật thu hút sự quan tâm trên thế giới Liên hệ: Phòng O1- 405 Điện thoại: (84-28) 3724 4270 số nhánh lẻ: 3236. Bộ môn Kỹ thuật Môi trường: Bộ môn Kỹ thuật Môi trường được thành lập vào tháng 7 năm 2017 với sứ mệnh là đào tạo ra những kỹ sư cho ngành kỹ thuật môi trường với kiến thức chuyên môn sâu, cùng với những kỹ năng cần thiết để đáp ứng nhu cầu nhân lực chất lượng cao, giải quyết các vấn đề ô nhiễm môi trường (ô nhiễm nguồn nước, ô nhiễm không khí, chất thải rắn). Liên hệ: Phòng A2-513 Điện thoại: (028) 3724 4270 Số nhánh lẻ: 3950. Khoa Quản trị kinh doanh: Một đơn vị đào tạo cử nhân ngành quản trị kinh doanh chất lượng cao trong khối trường đại học công lập Liên hệ: Phòng 01 – 306 Điện thoại: (84-28) 37244270 số máy lẻ: 3230, 3724</td>\n",
              "      <td>83</td>\n",
              "      <td>Chức năng nhiệm vụ của Phòng Đào tạo Đại học là gì?</td>\n",
              "      <td>Chức năng nhiệm vụ</td>\n",
              "    </tr>\n",
              "    <tr>\n",
              "      <th>8</th>\n",
              "      <td>{'answer_start': [7081], 'text': ['Khoa Kỹ thuật Y sinh: Kỹ thuật Y Sinh (KTYS) hiện đang là một lĩnh vực nổi bật thu hút sự quan tâm trên thế giới Liên hệ: Phòng O1- 405 Điện thoại: (84-28) 3724 4270 số nhánh lẻ: 3236']}</td>\n",
              "      <td>Phòng Đào tạo Sau đại học: Tham mưu cho Hiệu trưởng về các công tác quản lý đào tạo và bồi dưỡng sau đại học thuộc trách nhiệm và thẩm quyền. Liên hệ: Room O2 – 609Telephone: (84)-28-37244270. Ext: 3120Fax: (84-28) 37244271. Phòng Vật tư Thiết bị: Phòng Vật tư Thiết bị Liên hệ: Phòng O1 – 612, Trường Đại học Quốc tếKhu phố 6, Phường Linh Trung, Quận Thủ Đức, TP. HCMĐiện thoại: (028) 37244270 – số máy lẻ: 3555, 3246 Fax: (028) 37244271. Trung tâm Đổi mới sáng tạo và Chuyển giao công nghệ: Trung tâm là đơn vị sự nghiệp khoa học trực thuộc trường Đại Học Quốc Tế – Đại Học Quốc Gia TP. HCM, có chức năng cung cấp dịch vụ – nghiên cứu – đào tạo – tư vấn và chuyển giao công nghệ cho các doanh nghiệp và các cơ quan chức năng Nhà nước. Trung tâm là cầu nối giữa giảng viên và sinh viên của Trường với các nghiên cứu và dự án thực tiễn tại các doanh nghiệp và đơn vị chức năng trực thuộc nhà nước. Liên hệ: Phòng O2– 303, Trường Đại học Quốc tếKhu phố 6, Phường Linh Trung, Quận Thủ Đức, TP. HCMĐiện thoại: (028) 37244270 – số máy lẻ: 3949 Fax: (028) 37244271. Phòng Hành chính Tổng hợp: Phòng Hành chính Tổng hợp Liên hệ: Phòng O2-711, Trường Đại học Quốc tếKhu phố 6, Phường Linh Trung, Quận Thủ Đức, TP. HCMĐiện thoại: (028) 37244270 – số máy lẻ: 3225, 3939, 3737 Fax: (028) 37244271. Phòng Đầu tư &amp; Phát triển: Tham mưu, đề xuất Hiệu trưởng thực hiện chức năng chủ đầu tư xây dựng quản lý và sử dụng các nguồn vốn được giao để tổ chức quản lý thực hiện dự án đầu tư xây dựng. Phòng Quản trị cơ sở vật chất: Phòng có chức năng tham mưu và giúp Hiệu trưởng trong công tác quản lý, mua sắm, sữa chữa, bảo quản cơ sở vật chất của trường, phục vụ cho công tác đào tạo, nghiên cứu khoa học, của cán bộ công nhân viên và sinh viên toàn trường. Liên hệ: Phòng O2 – 702, Trường Đại học Quốc tếKhu phố 6, Phường Linh Trung, Quận Thủ Đức, TP. HCMĐiện thoại: (028) 37244270 – số máy lẻ: 3223. Phòng Quan hệ Đối ngoại: Tham mưu cho Hiệu trưởng về công tác đối ngoại, quan hệ công chúng và truyền thông của trường. Phòng Quản lý Khoa học: Tham mưu cho Hiệu trưởng về công tác quản lý toàn bộ hoạt động khoa học và công nghệ của trường. Phòng Tổ chức cán bộ: Phòng Tổ chức cán bộ Liên hệ: Phòng O2.709, Trường Đại học Quốc tếKhu phố 6, Phường Linh Trung, Quận Thủ Đức, TP. HCMĐiện thoại: (028) 37244270 – số máy lẻ: 3336, 3526, 3527 Fax: (028) 37244271. Phòng Hợp tác Đào tạo nước ngoài: Phòng Hợp tác Đào tạo nước ngoài Liên hệ: Phòng O1 – 614, Trường Đại học Quốc tếKhu phố 6, Phường Linh Trung, Quận Thủ Đức, TP. HCMĐiện thoại: (028) 37244270 – số máy lẻ: 3880 Fax: (028) 37244271. Trung tâm Dịch vụ Công nghệ thông tin: Trung tâm Dịch vụ Công nghệ Thông tin chịu trách nhiệm quản lý và hỗ trợ kỹ thuật cho toàn bộ hệ thống mạng Internet, mạng điện thoại và các trang web của trường. Bên cạnh đó Trung tâm còn có chức năng chụp ảnh, viết bài đưa tin những hình ảnh hoạt động thường xuyên của nhà trường nhằm xây dựng quảng bá hình ảnh thương hiệu trường ngày càng được nhiều người biết đến. Liên hệ: Phòng O1 – 312, Trường Đại học Quốc tếKhu phố 6, Phường Linh Trung, Quận Thủ Đức, TP. HCMĐiện thoại: (028) 37244270 – số máy lẻ: 3366. Phòng Kế hoạch Tài chính: Phòng có chức năng tham mưu và giúp Hiệu trưởng trong công tác xây dựng và quản lý kế hoạch về tài chính của trường, theo dõi giám sát và kiểm tra việc thu chi, sử dụng tài chính, kế hoạch tài chính và các lĩnh vực khác có liên quan đến công tác kế hoạch tài chính trong toàn trường. Liên hệ: Phòng O2 – 701, Trường Đại học Quốc tếKhu phố 6, Phường Linh Trung, Quận Thủ Đức, TP. HCM. Phòng Đào tạo Đại học: Phòng có chức năng tham mưu, giúp Hiệu trưởng trong kế hoạch đào tạo ngắn hạn và dài hạn của nhà trường. Tổ chức chỉ đạo thực hiện, kiểm tra và giám sát toàn bộ công tác giảng dạy và học tập trong trường, các hệ đào tạo chính quy đại học và sau đại học. Nghiên cứu đề xuất về mục tiêu đào tạo, các hệ đào tạo, cơ cấu ngành nghề, quy mô và phương thức đào tạo, cũng như việc phát triển cơ sở vật chất cần thiết phục vụ cho công tác giảng dạy và học tập. Liên hệ: Phòng O2 – 708, Trường Đại học Quốc tếKhu phố 6, Phường Linh Trung, Quận Thủ Đức, TP. HCMĐiện thoại: (028) 37244270 – số máy lẻ: 3777, 3229. Phòng Công tác Sinh viên: Được thành lập năm vào tháng 12/2009, Phòng Công tác Sinh viên (PCTSV) là đơn vị tham mưu giúp việc cho Ban Giám hiệu trong công tác thực hiện chế độ chính sách, học bổng Doanh nghiệp, khen thưởng-kỷ luật sinh viên. Phòng Thanh tra Pháp chế: Công tác thanh tra: Tham mưu, giúp Hiệu trưởng thực hiện đúng công tác thanh tra, kiểm tra trong phạm vi quản lý của Hiệu trưởng nhằm đảm bảo việc thực hiện chính sách pháp luật về giáo dục và chính sách, pháp luật liên quan. Công tác pháp chế: Chủ trì, phối hợp với các bộ phận liên quan tư vấn, giúp Hiệu trưởng về những vấn đề pháp lý. Phòng Bảo đảm Chất lượng Giáo dục và Khảo thí: Tư vấn, tham mưu cho Ban Giám hiệu về chiến lược, các kế hoạch cải tiến hoạt động bảo đảm chất lượng. Trung tâm đào tạo Quản lý công: Trung tâm Đào tạo Quản lý công là nơi đào tạo nên những nhà lãnh đạo theo hướng đổi mới sáng tạo, quản trị tốt với kỹ năng, nghiệp vụ ngày càng chuyên nghiệp, hiệu quả. Liên hệ: Phòng O2 – 304 Điện thoại: (028) 37244270 – số máy lẻ: 3305. Khoa Công nghệ Thông tin: Thông qua các chương trình đào tạo kỹ sư phần cứng máy tính, mạng máy tính, phần mềm và Khoa học dữ liệu, Khoa CNTT đã đào tạo ra nhiều lứa sinh viên có trình độ chuyên môn cao và khả năng ngoại ngữ lưu loát. Liên hệ: Phòng A1.610 Điện thoại: (84-28) 37244270 – Số máy lẻ: 3232. Bộ môn Kỹ thuật Xây dựng: Bộ môn Kỹ thuật Xây dựng (KTXD) được thành lập vào tháng 1 năm 2011 nhằm xây dựng một nền tảng vững chắc cho sinh viên và giúp giảng viên phát huy tối đa khả năng của mình Liên hệ: Phòng O1 – 506 Điện thoại: (84 -28) 3724 4270 số nhánh lẻ: 342. Khoa Kỹ thuật và Quản lý Công nghiệp: Khoa Kỹ thuật và Quản lý Công nghiệp mong muốn thu hút, đào tạo sinh viên và chuẩn bị cho họ trở thành những nhà cán bộ kỹ thuật và nhà lãnh đạo trong các lãnh vực Quản lý Sản xuất, Hậu cần, Chuỗi Cung ứng, các ngành Dịch vụ tại Việt Nam Liên hệ: Phòng O2 – 602 Điện thoại: (84 – 28) 37244270 số máy lẻ: 3327, 3982. Khoa Công nghệ Sinh học: Chương trình đào tạo của Khoa CNSH được xây dựng trên nền tảng của các chương trình tiên tiến có khả năng giải quyết các nhu cầu thực tiễn trong nước, tập trung vào việc trang bị kiến thức hiện đại, kỹ năng thực hành và làm việc cần thiết cho người học Liên hệ: Phòng O1 – 708 Điện thoại: (84 – 28) 37244270 – số máy lẻ 3233. Bộ môn Toán: Bộ môn Toán chịu trách nhiệm biên soạn đề cương, chương trình và thực hiện giảng dạy các học phần Toán học cho sinh viên trường Đại học Quốc tế. Liên hệ: Phòng O2 – 610 Điện thoại: (84-28) 3724 4270 số nhánh lẻ: 3235. Khoa Điện tử Viễn thông: Mục tiêu của Khoa ĐTVT chính là chuẩn bị cho sinh viên tốt nghiệp một hành trang vững chắc để thích ứng với những thay đổi nhanh chóng của thế giới công nghệ, đặc biệt là trong các lĩnh vực Kỹ thuật Điện tử, Viễn thông, Xử lý Tín hiệu (âm thanh, hình ảnh), Kỹ thuật Điều khiển và Tự động hóa Liên hệ: Phòng A2.206 ĐT: (84-28) 37244270 – số nội bộ: 3231. Khoa Kỹ thuật Y sinh: Kỹ thuật Y Sinh (KTYS) hiện đang là một lĩnh vực nổi bật thu hút sự quan tâm trên thế giới Liên hệ: Phòng O1- 405 Điện thoại: (84-28) 3724 4270 số nhánh lẻ: 3236. Bộ môn Kỹ thuật Môi trường: Bộ môn Kỹ thuật Môi trường được thành lập vào tháng 7 năm 2017 với sứ mệnh là đào tạo ra những kỹ sư cho ngành kỹ thuật môi trường với kiến thức chuyên môn sâu, cùng với những kỹ năng cần thiết để đáp ứng nhu cầu nhân lực chất lượng cao, giải quyết các vấn đề ô nhiễm môi trường (ô nhiễm nguồn nước, ô nhiễm không khí, chất thải rắn). Liên hệ: Phòng A2-513 Điện thoại: (028) 3724 4270 Số nhánh lẻ: 3950. Khoa Quản trị kinh doanh: Một đơn vị đào tạo cử nhân ngành quản trị kinh doanh chất lượng cao trong khối trường đại học công lập Liên hệ: Phòng 01 – 306 Điện thoại: (84-28) 37244270 số máy lẻ: 3230, 3724</td>\n",
              "      <td>94</td>\n",
              "      <td>Chức năng nhiệm vụ của Khoa Kỹ thuật Y sinh là gì?</td>\n",
              "      <td>Chức năng nhiệm vụ</td>\n",
              "    </tr>\n",
              "    <tr>\n",
              "      <th>9</th>\n",
              "      <td>{'answer_start': [519], 'text': ['Công nghệ Thực phẩm, Công nghệ Sinh học, Hóa học (Hóa sinh), Công nghệ Thực phẩm, Công nghệ Sinh học (2+2), Công nghệ Sinh học, Kỹ thuật Hóa học, Công nghệ Sinh học định hướng Y sinh (4+0),']}</td>\n",
              "      <td>Công nghệ Thông tin (2.5+1.5), Công nghệ Thông tin, Công nghệ Thông tin (2+2), Khoa học Máy tính, Công nghệ Thông tin (2+2), Công nghệ Thông tin (4+0), Công nghệ Thông tin, Khoa học Dữ liệu, Công nghệ Thông tin (3+1), Ngôn ngữ Anh (4+0), Ngôn ngữ Anh (3+1), Ngôn ngữ Anh (2+2), Ngôn ngữ Anh, Quản lý Xây dựng, Kỹ thuật Xây dựng, Logistics và Quản lý chuỗi cung ứng, Kỹ thuật Hệ thống Công nghiệp, Kỹ thuật Điều khiển và Tự động hóa, Toán ứng dụng (Kỹ thuật Tài chính và Quản trị rủi ro), Kỹ thuật Hệ thống Công nghiệp, Công nghệ Thực phẩm, Công nghệ Sinh học, Hóa học (Hóa sinh), Công nghệ Thực phẩm, Công nghệ Sinh học (2+2), Công nghệ Sinh học, Kỹ thuật Hóa học, Công nghệ Sinh học định hướng Y sinh (4+0), Bộ môn Toán chịu trách nhiệm biên soạn đề cương, chương trình và thực hiện giảng dạy các học phần Toán học cho sinh viên trường Đại học Quốc tế. Kỹ thuật Điện tử, Kỹ thuật Điện tử - Viễn thông, Kỹ thuật Máy tính, Kỹ thuật Điện tử - Viễn thông, Kỹ thuật Điện tử - Viễn thông, Kỹ thuật Y Sinh, Kỹ thuật Không gian, Kỹ thuật Môi trường, Quản trị Kinh doanh, Quản trị Kinh doanh, Tài chính – Ngân hàng, Kế toán, Quản trị kinh doanh, Quản trị kinh doanh (4+0), Quản trị Kinh doanh, Quản trị Kinh doanh (2+2), Quản trị Kinh doanh,</td>\n",
              "      <td>172</td>\n",
              "      <td>Khoa Công nghệ Sinh học gồm những ngành nào?</td>\n",
              "      <td>Ngành</td>\n",
              "    </tr>\n",
              "  </tbody>\n",
              "</table>"
            ],
            "text/plain": [
              "<IPython.core.display.HTML object>"
            ]
          },
          "metadata": {}
        }
      ]
    },
    {
      "cell_type": "markdown",
      "source": [
        "# Preprocess the training data"
      ],
      "metadata": {
        "id": "bNkwBHN_ZHRI"
      }
    },
    {
      "cell_type": "code",
      "source": [
        "model_checkpoint = \"xlnet-base-cased\"\n",
        "batch_size = 8"
      ],
      "metadata": {
        "id": "yN6IsfnnZVOu"
      },
      "execution_count": 14,
      "outputs": []
    },
    {
      "cell_type": "code",
      "source": [
        "from transformers import AutoTokenizer\n",
        "tokenizer = AutoTokenizer.from_pretrained(model_checkpoint)"
      ],
      "metadata": {
        "id": "vi9_9j70Y0wy"
      },
      "execution_count": 15,
      "outputs": []
    },
    {
      "cell_type": "code",
      "source": [
        "import transformers\n",
        "assert isinstance(tokenizer, transformers.XLNetTokenizerFast)"
      ],
      "metadata": {
        "id": "AmW2Kg0cZcHi"
      },
      "execution_count": 16,
      "outputs": []
    },
    {
      "cell_type": "code",
      "source": [
        "tokenizer(\"Phòng Bảo đảm Chất lượng Giáo dục và Khảo thí:\", \" Tư vấn, tham mưu cho Ban Giám hiệu về chiến lược, các kế hoạch cải tiến hoạt động bảo đảm chất lượng\")"
      ],
      "metadata": {
        "colab": {
          "base_uri": "https://localhost:8080/"
        },
        "id": "G7ctvSosZfmr",
        "outputId": "4e4851fa-c825-4c41-866d-5c8e0e809a7a"
      },
      "execution_count": 17,
      "outputs": [
        {
          "output_type": "execute_result",
          "data": {
            "text/plain": [
              "{'input_ids': [395, 15711, 3074, 155, 17, 0, 1199, 16969, 17, 2311, 2555, 3619, 6536, 17, 10590, 17, 1598, 8039, 155, 17, 9818, 60, 4, 2505, 3887, 19, 17, 46, 1714, 17, 5023, 660, 17, 3744, 3481, 3619, 1199, 17, 2582, 4269, 17, 189, 17, 2416, 254, 17, 2311, 3374, 19, 5460, 369, 17, 1235, 6938, 3756, 17, 16541, 3971, 180, 6938, 627, 17, 0, 2555, 17, 1642, 155, 17, 0, 1199, 6368, 17, 2311, 2555, 4, 3], 'token_type_ids': [0, 0, 0, 0, 0, 0, 0, 0, 0, 0, 0, 0, 0, 0, 0, 0, 0, 0, 0, 0, 0, 0, 0, 1, 1, 1, 1, 1, 1, 1, 1, 1, 1, 1, 1, 1, 1, 1, 1, 1, 1, 1, 1, 1, 1, 1, 1, 1, 1, 1, 1, 1, 1, 1, 1, 1, 1, 1, 1, 1, 1, 1, 1, 1, 1, 1, 1, 1, 1, 1, 1, 1, 1, 1, 1, 2], 'attention_mask': [1, 1, 1, 1, 1, 1, 1, 1, 1, 1, 1, 1, 1, 1, 1, 1, 1, 1, 1, 1, 1, 1, 1, 1, 1, 1, 1, 1, 1, 1, 1, 1, 1, 1, 1, 1, 1, 1, 1, 1, 1, 1, 1, 1, 1, 1, 1, 1, 1, 1, 1, 1, 1, 1, 1, 1, 1, 1, 1, 1, 1, 1, 1, 1, 1, 1, 1, 1, 1, 1, 1, 1, 1, 1, 1, 1]}"
            ]
          },
          "metadata": {},
          "execution_count": 17
        }
      ]
    },
    {
      "cell_type": "code",
      "source": [
        "max_length = 128 # The maximum length of a feature (question and context)\n",
        "doc_stride = 0 # The authorized overlap between two part of the context when splitting it is needed."
      ],
      "metadata": {
        "id": "bCXX2DSFZpwr"
      },
      "execution_count": 18,
      "outputs": []
    },
    {
      "cell_type": "markdown",
      "source": [
        "Let's find one long example in our dataset:"
      ],
      "metadata": {
        "id": "uR2JaE7VZ_M_"
      }
    },
    {
      "cell_type": "code",
      "source": [
        "for i, example in enumerate(dataset[\"train\"]):\n",
        "    if len(tokenizer(example[\"question\"], example[\"context\"])[\"input_ids\"]) > 128:\n",
        "        break\n",
        "example = dataset[\"train\"][i]"
      ],
      "metadata": {
        "id": "RFVMEfHHZsXN"
      },
      "execution_count": 19,
      "outputs": []
    },
    {
      "cell_type": "markdown",
      "source": [
        "Without any truncation, we get the following length for the input IDs:"
      ],
      "metadata": {
        "id": "5hcUHr5saCdf"
      }
    },
    {
      "cell_type": "code",
      "source": [
        "len(tokenizer(example[\"question\"], example[\"context\"])[\"input_ids\"])"
      ],
      "metadata": {
        "colab": {
          "base_uri": "https://localhost:8080/"
        },
        "id": "s7xjshN1Zun9",
        "outputId": "5dd95b62-1fa3-48ef-df3c-cb34ca3fd496"
      },
      "execution_count": 20,
      "outputs": [
        {
          "output_type": "execute_result",
          "data": {
            "text/plain": [
              "4185"
            ]
          },
          "metadata": {},
          "execution_count": 20
        }
      ]
    },
    {
      "cell_type": "markdown",
      "source": [
        "Now, if we just truncate, we will lose information (and possibly the answer to our question):"
      ],
      "metadata": {
        "id": "PyMJTUBiaGlw"
      }
    },
    {
      "cell_type": "code",
      "source": [
        "len(tokenizer(example[\"question\"], example[\"context\"], max_length=max_length, truncation=\"only_second\")[\"input_ids\"])"
      ],
      "metadata": {
        "colab": {
          "base_uri": "https://localhost:8080/"
        },
        "id": "tjF670G_aHWj",
        "outputId": "be7e1a5f-97e8-411e-b09a-3768be8c037b"
      },
      "execution_count": 21,
      "outputs": [
        {
          "output_type": "execute_result",
          "data": {
            "text/plain": [
              "128"
            ]
          },
          "metadata": {},
          "execution_count": 21
        }
      ]
    },
    {
      "cell_type": "markdown",
      "source": [
        "Note that we never want to truncate the question, only the context, else the only_second truncation picked. Now, our tokenizer can automatically return us a list of features capped by a certain maximum length, with the overlap we talked above, we just have to tell it with return_overflowing_tokens=True and by passing the stride:"
      ],
      "metadata": {
        "id": "Ry5fRzhEaY4F"
      }
    },
    {
      "cell_type": "code",
      "source": [
        "tokenized_example = tokenizer(\n",
        "    example[\"question\"],\n",
        "    example[\"context\"],\n",
        "    max_length=max_length,\n",
        "    truncation=\"only_second\",\n",
        "    return_overflowing_tokens=True,\n",
        "    stride=doc_stride\n",
        ")"
      ],
      "metadata": {
        "id": "NH-yPYHdZ_lc"
      },
      "execution_count": 22,
      "outputs": []
    },
    {
      "cell_type": "markdown",
      "source": [
        "Now we don't have one list of input_ids, but several:"
      ],
      "metadata": {
        "id": "ci-oiY4taeAw"
      }
    },
    {
      "cell_type": "code",
      "source": [
        "for x in tokenized_example[\"input_ids\"][:2]:\n",
        "    print(tokenizer.decode(x))"
      ],
      "metadata": {
        "colab": {
          "base_uri": "https://localhost:8080/"
        },
        "id": "HK2C3FuCZ8jI",
        "outputId": "61820c1c-7cba-4e60-ff3b-6a2e730d21ed"
      },
      "execution_count": 23,
      "outputs": [
        {
          "output_type": "stream",
          "name": "stdout",
          "text": [
            "Cho toi hoi ve Phong Cong tac Sinh vien<sep> Phong <unk>ao tao Sau <unk>ai hoc: Tham muu cho Hieu truong ve cac cong tac quan ly <unk>ao tao va boi duong sau <unk>ai hoc thuoc trach nhiem va tham quyen. Lien he: Room O2 – 609Telephone: (84)-28-3724<sep><cls>\n",
            "Cho toi hoi ve Phong Cong tac Sinh vien<sep>4270. Ext: 3120Fax: (84-28) 37244271. Phong Vat tu Thiet bi: Phong Vat tu Thiet bi Lien he: Phong O1 – 612, Truong <unk>ai hoc Quoc teKhu pho 6, Phuong Linh Trung, Quan Thu <unk>uc, TP. HCM<unk>ien thoai: (028) 37244270 –<sep><cls>\n"
          ]
        }
      ]
    },
    {
      "cell_type": "markdown",
      "source": [
        "Now this will give us some work to properly treat the answers: we need to find in which of those features the answer actually is, and where exactly in that feature. The models we will use require the start and end positions of these answers in the tokens, so we will also need to to map parts of the original context to some tokens. Thankfully, the tokenizer we're using can help us with that by returning an offset_mapping:"
      ],
      "metadata": {
        "id": "0ysQ4wY5alh3"
      }
    },
    {
      "cell_type": "code",
      "source": [
        "tokenized_example = tokenizer(\n",
        "    example[\"question\"],\n",
        "    example[\"context\"],\n",
        "    max_length=max_length,\n",
        "    truncation=\"only_second\",\n",
        "    return_overflowing_tokens=True,\n",
        "    return_offsets_mapping=True,\n",
        "    stride=doc_stride\n",
        ")\n",
        "print(tokenized_example[\"offset_mapping\"][0][:100])"
      ],
      "metadata": {
        "colab": {
          "base_uri": "https://localhost:8080/"
        },
        "id": "VTh0hmcSaZJf",
        "outputId": "8b08a7e2-f8b7-4243-b336-38909c891cb9"
      },
      "execution_count": 24,
      "outputs": [
        {
          "output_type": "stream",
          "name": "stdout",
          "text": [
            "[(0, 3), (4, 6), (6, 7), (8, 10), (10, 11), (12, 13), (12, 14), (15, 16), (16, 20), (21, 24), (24, 25), (26, 27), (26, 27), (27, 29), (30, 33), (33, 34), (35, 36), (35, 37), (37, 39), (0, 0), (0, 1), (1, 5), (6, 7), (6, 7), (7, 9), (10, 11), (10, 12), (12, 13), (14, 17), (18, 19), (18, 19), (19, 21), (22, 24), (24, 25), (25, 26), (27, 28), (28, 31), (32, 33), (32, 34), (34, 35), (36, 37), (36, 39), (40, 42), (42, 44), (45, 46), (45, 48), (48, 51), (52, 53), (52, 54), (55, 57), (57, 58), (59, 62), (62, 63), (64, 65), (64, 65), (65, 67), (68, 69), (68, 71), (71, 72), (73, 74), (73, 75), (76, 77), (76, 77), (77, 79), (80, 81), (80, 82), (82, 83), (84, 85), (84, 86), (87, 88), (87, 89), (89, 90), (91, 93), (93, 96), (97, 98), (97, 98), (98, 100), (101, 102), (101, 102), (102, 104), (105, 107), (107, 108), (109, 110), (109, 110), (110, 112), (112, 114), (115, 116), (115, 116), (116, 120), (121, 122), (121, 122), (122, 124), (124, 126), (127, 128), (127, 129), (130, 131), (130, 131), (131, 134), (135, 136), (135, 137)]\n"
          ]
        }
      ]
    },
    {
      "cell_type": "markdown",
      "source": [
        "This gives, for each index of our input IDS, the corresponding start and end character in the original text that gave our token. The very first token ([CLS]) has (0, 0) because it doesn't correspond to any part of the question/answer, then the second token is the same as the characters 0 to 3 of the question:"
      ],
      "metadata": {
        "id": "rnzTDzYLaqPw"
      }
    },
    {
      "cell_type": "code",
      "source": [
        "first_token_id = tokenized_example[\"input_ids\"][0][1]\n",
        "offsets = tokenized_example[\"offset_mapping\"][0][1]\n",
        "print(tokenizer.convert_ids_to_tokens([first_token_id])[0], example[\"question\"][offsets[0]:offsets[1]])"
      ],
      "metadata": {
        "colab": {
          "base_uri": "https://localhost:8080/"
        },
        "id": "q5a9uDOVanxg",
        "outputId": "aeb3db8d-653d-424c-b663-0435a0dcbabb"
      },
      "execution_count": 25,
      "outputs": [
        {
          "output_type": "stream",
          "name": "stdout",
          "text": [
            "▁to tô\n"
          ]
        }
      ]
    },
    {
      "cell_type": "markdown",
      "source": [
        "So we can use this mapping to find the position of the start and end tokens of our answer in a given feature. We just have to distinguish which parts of the offsets correspond to the question and which part correspond to the context, this is where the sequence_ids method of our tokenized_example can be useful:"
      ],
      "metadata": {
        "id": "tLT44JyWavdr"
      }
    },
    {
      "cell_type": "code",
      "source": [
        "sequence_ids = tokenized_example.sequence_ids()\n",
        "print(sequence_ids)"
      ],
      "metadata": {
        "colab": {
          "base_uri": "https://localhost:8080/"
        },
        "id": "nwOHjiW1ar4A",
        "outputId": "515785cb-7f14-44bb-f148-c0b9c4fb89d3"
      },
      "execution_count": 26,
      "outputs": [
        {
          "output_type": "stream",
          "name": "stdout",
          "text": [
            "[0, 0, 0, 0, 0, 0, 0, 0, 0, 0, 0, 0, 0, 0, 0, 0, 0, 0, 0, None, 1, 1, 1, 1, 1, 1, 1, 1, 1, 1, 1, 1, 1, 1, 1, 1, 1, 1, 1, 1, 1, 1, 1, 1, 1, 1, 1, 1, 1, 1, 1, 1, 1, 1, 1, 1, 1, 1, 1, 1, 1, 1, 1, 1, 1, 1, 1, 1, 1, 1, 1, 1, 1, 1, 1, 1, 1, 1, 1, 1, 1, 1, 1, 1, 1, 1, 1, 1, 1, 1, 1, 1, 1, 1, 1, 1, 1, 1, 1, 1, 1, 1, 1, 1, 1, 1, 1, 1, 1, 1, 1, 1, 1, 1, 1, 1, 1, 1, 1, 1, 1, 1, 1, 1, 1, 1, None, None]\n"
          ]
        }
      ]
    },
    {
      "cell_type": "markdown",
      "source": [
        "It returns None for the special tokens, then 0 or 1 depending on whether the corresponding token comes from the first sentence past (the question) or the second (the context). Now with all of this, we can find the first and last token of the answer in one of our input feature (or if the answer is not in this feature):"
      ],
      "metadata": {
        "id": "V9VAqrVGa3_s"
      }
    },
    {
      "cell_type": "code",
      "source": [
        "answers = example[\"answers\"]\n",
        "start_char = answers[\"answer_start\"][0]\n",
        "end_char = start_char + len(answers[\"text\"][0])\n",
        "\n",
        "# Start token index of the current span in the text.\n",
        "token_start_index = 0\n",
        "while sequence_ids[token_start_index] != 1:\n",
        "    token_start_index += 1\n",
        "\n",
        "# End token index of the current span in the text.\n",
        "token_end_index = len(tokenized_example[\"input_ids\"][0]) - 1\n",
        "while sequence_ids[token_end_index] != 1:\n",
        "    token_end_index -= 1\n",
        "\n",
        "# Detect if the answer is out of the span (in which case this feature is labeled with the CLS index).\n",
        "offsets = tokenized_example[\"offset_mapping\"][0]\n",
        "if (offsets[token_start_index][0] <= start_char and offsets[token_end_index][1] >= end_char):\n",
        "    # Move the token_start_index and token_end_index to the two ends of the answer.\n",
        "    # Note: we could go after the last offset if the answer is the last word (edge case).\n",
        "    while token_start_index < len(offsets) and offsets[token_start_index][0] <= start_char:\n",
        "        token_start_index += 1\n",
        "    start_position = token_start_index - 1\n",
        "    while offsets[token_end_index][1] >= end_char:\n",
        "        token_end_index -= 1\n",
        "    end_position = token_end_index + 1\n",
        "    print(start_position, end_position)\n",
        "else:\n",
        "    print(\"The answer is not in this feature.\")"
      ],
      "metadata": {
        "colab": {
          "base_uri": "https://localhost:8080/"
        },
        "id": "KKvakmeVa19E",
        "outputId": "716ac351-4a6a-494f-d4d5-76c24a862baf"
      },
      "execution_count": 27,
      "outputs": [
        {
          "output_type": "stream",
          "name": "stdout",
          "text": [
            "The answer is not in this feature.\n"
          ]
        }
      ]
    },
    {
      "cell_type": "markdown",
      "source": [
        "And we can double check that it is indeed the theoretical answer:"
      ],
      "metadata": {
        "id": "J6FcAtsUa8P6"
      }
    },
    {
      "cell_type": "code",
      "source": [
        "# print(tokenizer.decode(tokenized_example[\"input_ids\"][0][start_position: end_position+1]))\n",
        "# print(answers[\"text\"][0])"
      ],
      "metadata": {
        "id": "4xPkxsuTa5kV"
      },
      "execution_count": 28,
      "outputs": []
    },
    {
      "cell_type": "code",
      "source": [
        "pad_on_right = tokenizer.padding_side == \"right\""
      ],
      "metadata": {
        "id": "CElVOIu1a_ut"
      },
      "execution_count": 29,
      "outputs": []
    },
    {
      "cell_type": "markdown",
      "source": [
        "Now let's put everything together in one function we will apply to our training set. In the case of impossible answers (the answer is in another feature given by an example with a long context), we set the cls index for both the start and end position. We could also simply discard those examples from the training set if the flag allow_impossible_answers is False. Since the preprocessing is already complex enough as it is, we've kept is simple for this part."
      ],
      "metadata": {
        "id": "f6FoNfF8bFJF"
      }
    },
    {
      "cell_type": "code",
      "source": [
        "def prepare_train_features(examples):\n",
        "    # Some of the questions have lots of whitespace on the left, which is not useful and will make the\n",
        "    # truncation of the context fail (the tokenized question will take a lots of space). So we remove that\n",
        "    # left whitespace\n",
        "    examples[\"question\"] = [q.lstrip() for q in examples[\"question\"]]\n",
        "\n",
        "    # Tokenize our examples with truncation and padding, but keep the overflows using a stride. This results\n",
        "    # in one example possible giving several features when a context is long, each of those features having a\n",
        "    # context that overlaps a bit the context of the previous feature.\n",
        "    tokenized_examples = tokenizer(\n",
        "        examples[\"question\" if pad_on_right else \"context\"],\n",
        "        examples[\"context\" if pad_on_right else \"question\"],\n",
        "        truncation=\"only_second\" if pad_on_right else \"only_first\",\n",
        "        max_length=max_length,\n",
        "        stride=doc_stride,\n",
        "        return_overflowing_tokens=True,\n",
        "        return_offsets_mapping=True,\n",
        "        padding=\"max_length\",\n",
        "    )\n",
        "\n",
        "    # Since one example might give us several features if it has a long context, we need a map from a feature to\n",
        "    # its corresponding example. This key gives us just that.\n",
        "    sample_mapping = tokenized_examples.pop(\"overflow_to_sample_mapping\")\n",
        "    # The offset mappings will give us a map from token to character position in the original context. This will\n",
        "    # help us compute the start_positions and end_positions.\n",
        "    offset_mapping = tokenized_examples.pop(\"offset_mapping\")\n",
        "\n",
        "    # Let's label those examples!\n",
        "    tokenized_examples[\"start_positions\"] = []\n",
        "    tokenized_examples[\"end_positions\"] = []\n",
        "\n",
        "    for i, offsets in enumerate(offset_mapping):\n",
        "        # We will label impossible answers with the index of the CLS token.\n",
        "        input_ids = tokenized_examples[\"input_ids\"][i]\n",
        "        cls_index = input_ids.index(tokenizer.cls_token_id)\n",
        "\n",
        "        # Grab the sequence corresponding to that example (to know what is the context and what is the question).\n",
        "        sequence_ids = tokenized_examples.sequence_ids(i)\n",
        "\n",
        "        # One example can give several spans, this is the index of the example containing this span of text.\n",
        "        sample_index = sample_mapping[i]\n",
        "        answers = examples[\"answers\"][sample_index]\n",
        "        # If no answers are given, set the cls_index as answer.\n",
        "        if len(answers[\"answer_start\"]) == 0:\n",
        "            tokenized_examples[\"start_positions\"].append(cls_index)\n",
        "            tokenized_examples[\"end_positions\"].append(cls_index)\n",
        "        else:\n",
        "            # Start/end character index of the answer in the text.\n",
        "            start_char = answers[\"answer_start\"][0]\n",
        "            end_char = start_char + len(answers[\"text\"][0])\n",
        "\n",
        "            # Start token index of the current span in the text.\n",
        "            token_start_index = 0\n",
        "            while sequence_ids[token_start_index] != (1 if pad_on_right else 0):\n",
        "                token_start_index += 1\n",
        "\n",
        "            # End token index of the current span in the text.\n",
        "            token_end_index = len(input_ids) - 1\n",
        "            while sequence_ids[token_end_index] != (1 if pad_on_right else 0):\n",
        "                token_end_index -= 1\n",
        "\n",
        "            # Detect if the answer is out of the span (in which case this feature is labeled with the CLS index).\n",
        "            if not (offsets[token_start_index][0] <= start_char and offsets[token_end_index][1] >= end_char):\n",
        "                tokenized_examples[\"start_positions\"].append(cls_index)\n",
        "                tokenized_examples[\"end_positions\"].append(cls_index)\n",
        "            else:\n",
        "                # Otherwise move the token_start_index and token_end_index to the two ends of the answer.\n",
        "                # Note: we could go after the last offset if the answer is the last word (edge case).\n",
        "                while token_start_index < len(offsets) and offsets[token_start_index][0] <= start_char:\n",
        "                    token_start_index += 1\n",
        "                tokenized_examples[\"start_positions\"].append(token_start_index - 1)\n",
        "                while offsets[token_end_index][1] >= end_char:\n",
        "                    token_end_index -= 1\n",
        "                tokenized_examples[\"end_positions\"].append(token_end_index + 1)\n",
        "\n",
        "    return tokenized_examples"
      ],
      "metadata": {
        "id": "KXX97ogRbFbt"
      },
      "execution_count": 30,
      "outputs": []
    },
    {
      "cell_type": "markdown",
      "metadata": {
        "id": "0lm8ozrJIrJR"
      },
      "source": [
        "This function works with one or several examples. In the case of several examples, the tokenizer will return a list of lists for each key:"
      ]
    },
    {
      "cell_type": "code",
      "source": [
        "features = prepare_train_features(dataset['train'][:5])"
      ],
      "metadata": {
        "id": "YPJjo3nSbGlb"
      },
      "execution_count": 31,
      "outputs": []
    },
    {
      "cell_type": "markdown",
      "source": [
        "To apply this function on all the sentences (or pairs of sentences) in our dataset, we just use the map method of our dataset object we created earlier. This will apply the function on all the elements of all the splits in dataset, so our training, validation and testing data will be preprocessed in one single command. Since our preprocessing changes the number of samples, we need to remove the old columns when applying it."
      ],
      "metadata": {
        "id": "d1wUvM1rbXMD"
      }
    },
    {
      "cell_type": "code",
      "source": [
        "tokenized_datasets = dataset.map(prepare_train_features, batched=True, remove_columns=dataset[\"train\"].column_names)"
      ],
      "metadata": {
        "colab": {
          "base_uri": "https://localhost:8080/",
          "height": 81,
          "referenced_widgets": [
            "4284a7af36a9459ca3af3bd7f34f36c6",
            "f1f546d85c3f4dd5803b0b8aa61d39bd",
            "0f1a8ec1cf33409582f2f12dbce2cd5f",
            "4d934391b6e642dfae300d40d36a40c9",
            "57e8b982e5044ebd98b1a89c670faf11",
            "9f12770b9e554903b112d92ebae939cb",
            "679ab0c33f9f495ea7b6bb68d4ed9961",
            "42cfd7961fc24938996af01ca49d7672",
            "7cba5e803ce74b9da26ed3fc56b92221",
            "99b02bace8ed4890a7e54e362f860c8b",
            "2c9623b719c54581ae4f7f2d68809124",
            "4ddf17e2374f492f8e035948f2e595cc",
            "bfb3e4760fd74c2a83ea084821a478a1",
            "617a76c8a17245e3a1f71152c3e4e967",
            "9a88e2a2c1fa427bafb8b91ed6fee49c",
            "0e6a57954e024cc49e6996a4f2cf1823",
            "8f97ee1577b14334a6443bc4181cb148",
            "1f47fbde4614431e991620b2eaee3584",
            "d375eea921564949b75529de188b535e",
            "bacf915256f643dbac484456eb889183",
            "baf66e87ae494eadb083b48861301270",
            "bf72c9e6c0f8436e82a93d41886870b5"
          ]
        },
        "id": "chmPofNUbUgr",
        "outputId": "c50356b8-bc30-4198-b75b-444e0c747dea"
      },
      "execution_count": 32,
      "outputs": [
        {
          "output_type": "display_data",
          "data": {
            "application/vnd.jupyter.widget-view+json": {
              "model_id": "4284a7af36a9459ca3af3bd7f34f36c6",
              "version_minor": 0,
              "version_major": 2
            },
            "text/plain": [
              "  0%|          | 0/1 [00:00<?, ?ba/s]"
            ]
          },
          "metadata": {}
        },
        {
          "output_type": "display_data",
          "data": {
            "application/vnd.jupyter.widget-view+json": {
              "model_id": "4ddf17e2374f492f8e035948f2e595cc",
              "version_minor": 0,
              "version_major": 2
            },
            "text/plain": [
              "  0%|          | 0/1 [00:00<?, ?ba/s]"
            ]
          },
          "metadata": {}
        }
      ]
    },
    {
      "cell_type": "markdown",
      "source": [
        "# Fine-tune the model"
      ],
      "metadata": {
        "id": "J3gOAtoDbh50"
      }
    },
    {
      "cell_type": "code",
      "source": [
        "from transformers import AutoModelForQuestionAnswering, TrainingArguments, Trainer\n",
        "\n",
        "model = AutoModelForQuestionAnswering.from_pretrained(model_checkpoint)"
      ],
      "metadata": {
        "colab": {
          "base_uri": "https://localhost:8080/",
          "height": 156,
          "referenced_widgets": [
            "ef076a09348b470a88bc768f13b5408f",
            "c67774779c174dfcb9ad4e6dfd6c6e7b",
            "6cc33df2515b4ff4a41a4be6c58ce536",
            "2e93d4241d7a4ae5bd6144979cee3688",
            "a252b5b13c354ff8927668d3f0216b22",
            "1a3651e2615e451d8561b5ddd2a30a18",
            "68b6cc6f730142e9bbf51c0284194539",
            "a1a33a25f5244d1994befd51fd7cad8d",
            "c0e0e6df8a1945b0826f068d67f591c9",
            "4357ff65af2443f684a54dba9615970d",
            "756efc2601e946a0b22bd3f338b61a9a"
          ]
        },
        "id": "u1K_E8ptbZLb",
        "outputId": "9dfcd46f-fe81-4e78-c70e-e1f4fdf97d8d"
      },
      "execution_count": 33,
      "outputs": [
        {
          "output_type": "display_data",
          "data": {
            "application/vnd.jupyter.widget-view+json": {
              "model_id": "ef076a09348b470a88bc768f13b5408f",
              "version_minor": 0,
              "version_major": 2
            },
            "text/plain": [
              "Downloading:   0%|          | 0.00/445M [00:00<?, ?B/s]"
            ]
          },
          "metadata": {}
        },
        {
          "output_type": "stream",
          "name": "stderr",
          "text": [
            "Some weights of the model checkpoint at xlnet-base-cased were not used when initializing XLNetForQuestionAnsweringSimple: ['lm_loss.weight', 'lm_loss.bias']\n",
            "- This IS expected if you are initializing XLNetForQuestionAnsweringSimple from the checkpoint of a model trained on another task or with another architecture (e.g. initializing a BertForSequenceClassification model from a BertForPreTraining model).\n",
            "- This IS NOT expected if you are initializing XLNetForQuestionAnsweringSimple from the checkpoint of a model that you expect to be exactly identical (initializing a BertForSequenceClassification model from a BertForSequenceClassification model).\n",
            "Some weights of XLNetForQuestionAnsweringSimple were not initialized from the model checkpoint at xlnet-base-cased and are newly initialized: ['qa_outputs.weight', 'qa_outputs.bias']\n",
            "You should probably TRAIN this model on a down-stream task to be able to use it for predictions and inference.\n"
          ]
        }
      ]
    },
    {
      "cell_type": "code",
      "source": [
        "model_name = model_checkpoint.split(\"/\")[-1]\n",
        "args = TrainingArguments(\n",
        "    f\"{model_name}-iuChatbot-ontologyDts-localParams\",\n",
        "    evaluation_strategy = \"epoch\",\n",
        "    learning_rate=2e-5,\n",
        "    per_device_train_batch_size=batch_size,\n",
        "    per_device_eval_batch_size=32,\n",
        "    num_train_epochs=3,\n",
        "    weight_decay=0.01,\n",
        "    push_to_hub=True,\n",
        "    push_to_hub_model_id=f\"{model_name}-IUChatbot-ontologyDts-localParams\",\n",
        ")"
      ],
      "metadata": {
        "colab": {
          "base_uri": "https://localhost:8080/"
        },
        "id": "D76rAHHWbl2w",
        "outputId": "1cff0829-ee30-45e6-a0b9-7134058961d4"
      },
      "execution_count": 34,
      "outputs": [
        {
          "output_type": "stream",
          "name": "stderr",
          "text": [
            "/usr/local/lib/python3.7/dist-packages/transformers/training_args.py:926: FutureWarning: `--push_to_hub_model_id` is deprecated and will be removed in version 5 of 🤗 Transformers. Use `--hub_model_id` instead and pass the full repo name to this argument (in this case nntadotzip/xlnet-base-cased-IUChatbot-ontologyDts-localParams).\n",
            "  FutureWarning,\n"
          ]
        }
      ]
    },
    {
      "cell_type": "code",
      "source": [
        "from transformers import default_data_collator\n",
        "\n",
        "data_collator = default_data_collator"
      ],
      "metadata": {
        "id": "dsR3qBMxbrw1"
      },
      "execution_count": 35,
      "outputs": []
    },
    {
      "cell_type": "code",
      "source": [
        "# !curl -s https://packagecloud.io/install/repositories/github/git-lfs/script.deb.sh | sudo bash"
      ],
      "metadata": {
        "id": "miWPrxf_bzVY"
      },
      "execution_count": 36,
      "outputs": []
    },
    {
      "cell_type": "code",
      "source": [
        "# !sudo apt-get install git-lfs"
      ],
      "metadata": {
        "id": "37qG2SvKchgy"
      },
      "execution_count": 37,
      "outputs": []
    },
    {
      "cell_type": "code",
      "source": [
        "trainer = Trainer(\n",
        "    model,\n",
        "    args,\n",
        "    train_dataset=tokenized_datasets[\"train\"],\n",
        "    eval_dataset=tokenized_datasets[\"test\"],\n",
        "    data_collator=data_collator,\n",
        "    tokenizer=tokenizer,\n",
        ")"
      ],
      "metadata": {
        "colab": {
          "base_uri": "https://localhost:8080/"
        },
        "id": "-MbgN6-0bsT1",
        "outputId": "d1192092-1891-4e0a-dab8-006a663636d6"
      },
      "execution_count": 38,
      "outputs": [
        {
          "output_type": "stream",
          "name": "stderr",
          "text": [
            "Cloning https://huggingface.co/nntadotzip/xlnet-base-cased-IUChatbot-ontologyDts-localParams into local empty directory.\n"
          ]
        }
      ]
    },
    {
      "cell_type": "code",
      "source": [
        "trainer.train()"
      ],
      "metadata": {
        "colab": {
          "base_uri": "https://localhost:8080/",
          "height": 1000
        },
        "id": "85xwCTIubuol",
        "outputId": "bd6c5887-21ae-4ff1-a231-b71466fa0ddb"
      },
      "execution_count": 39,
      "outputs": [
        {
          "output_type": "stream",
          "name": "stderr",
          "text": [
            "***** Running training *****\n",
            "  Num examples = 8949\n",
            "  Num Epochs = 3\n",
            "  Instantaneous batch size per device = 8\n",
            "  Total train batch size (w. parallel, distributed & accumulation) = 8\n",
            "  Gradient Accumulation steps = 1\n",
            "  Total optimization steps = 3357\n"
          ]
        },
        {
          "output_type": "display_data",
          "data": {
            "text/html": [
              "\n",
              "    <div>\n",
              "      \n",
              "      <progress value='3357' max='3357' style='width:300px; height:20px; vertical-align: middle;'></progress>\n",
              "      [3357/3357 16:34, Epoch 3/3]\n",
              "    </div>\n",
              "    <table border=\"1\" class=\"dataframe\">\n",
              "  <thead>\n",
              "    <tr style=\"text-align: left;\">\n",
              "      <th>Epoch</th>\n",
              "      <th>Training Loss</th>\n",
              "      <th>Validation Loss</th>\n",
              "    </tr>\n",
              "  </thead>\n",
              "  <tbody>\n",
              "    <tr>\n",
              "      <td>1</td>\n",
              "      <td>0.117200</td>\n",
              "      <td>0.065746</td>\n",
              "    </tr>\n",
              "    <tr>\n",
              "      <td>2</td>\n",
              "      <td>0.056400</td>\n",
              "      <td>0.023676</td>\n",
              "    </tr>\n",
              "    <tr>\n",
              "      <td>3</td>\n",
              "      <td>0.033000</td>\n",
              "      <td>0.023849</td>\n",
              "    </tr>\n",
              "  </tbody>\n",
              "</table><p>"
            ],
            "text/plain": [
              "<IPython.core.display.HTML object>"
            ]
          },
          "metadata": {}
        },
        {
          "output_type": "stream",
          "name": "stderr",
          "text": [
            "Saving model checkpoint to xlnet-base-cased-iuChatbot-ontologyDts-localParams/checkpoint-500\n",
            "Configuration saved in xlnet-base-cased-iuChatbot-ontologyDts-localParams/checkpoint-500/config.json\n",
            "Model weights saved in xlnet-base-cased-iuChatbot-ontologyDts-localParams/checkpoint-500/pytorch_model.bin\n",
            "tokenizer config file saved in xlnet-base-cased-iuChatbot-ontologyDts-localParams/checkpoint-500/tokenizer_config.json\n",
            "Special tokens file saved in xlnet-base-cased-iuChatbot-ontologyDts-localParams/checkpoint-500/special_tokens_map.json\n",
            "tokenizer config file saved in xlnet-base-cased-iuChatbot-ontologyDts-localParams/tokenizer_config.json\n",
            "Special tokens file saved in xlnet-base-cased-iuChatbot-ontologyDts-localParams/special_tokens_map.json\n",
            "Saving model checkpoint to xlnet-base-cased-iuChatbot-ontologyDts-localParams/checkpoint-1000\n",
            "Configuration saved in xlnet-base-cased-iuChatbot-ontologyDts-localParams/checkpoint-1000/config.json\n",
            "Model weights saved in xlnet-base-cased-iuChatbot-ontologyDts-localParams/checkpoint-1000/pytorch_model.bin\n",
            "tokenizer config file saved in xlnet-base-cased-iuChatbot-ontologyDts-localParams/checkpoint-1000/tokenizer_config.json\n",
            "Special tokens file saved in xlnet-base-cased-iuChatbot-ontologyDts-localParams/checkpoint-1000/special_tokens_map.json\n",
            "***** Running Evaluation *****\n",
            "  Num examples = 1036\n",
            "  Batch size = 32\n",
            "Saving model checkpoint to xlnet-base-cased-iuChatbot-ontologyDts-localParams/checkpoint-1500\n",
            "Configuration saved in xlnet-base-cased-iuChatbot-ontologyDts-localParams/checkpoint-1500/config.json\n",
            "Model weights saved in xlnet-base-cased-iuChatbot-ontologyDts-localParams/checkpoint-1500/pytorch_model.bin\n",
            "tokenizer config file saved in xlnet-base-cased-iuChatbot-ontologyDts-localParams/checkpoint-1500/tokenizer_config.json\n",
            "Special tokens file saved in xlnet-base-cased-iuChatbot-ontologyDts-localParams/checkpoint-1500/special_tokens_map.json\n",
            "Saving model checkpoint to xlnet-base-cased-iuChatbot-ontologyDts-localParams/checkpoint-2000\n",
            "Configuration saved in xlnet-base-cased-iuChatbot-ontologyDts-localParams/checkpoint-2000/config.json\n",
            "Model weights saved in xlnet-base-cased-iuChatbot-ontologyDts-localParams/checkpoint-2000/pytorch_model.bin\n",
            "tokenizer config file saved in xlnet-base-cased-iuChatbot-ontologyDts-localParams/checkpoint-2000/tokenizer_config.json\n",
            "Special tokens file saved in xlnet-base-cased-iuChatbot-ontologyDts-localParams/checkpoint-2000/special_tokens_map.json\n",
            "***** Running Evaluation *****\n",
            "  Num examples = 1036\n",
            "  Batch size = 32\n",
            "Saving model checkpoint to xlnet-base-cased-iuChatbot-ontologyDts-localParams/checkpoint-2500\n",
            "Configuration saved in xlnet-base-cased-iuChatbot-ontologyDts-localParams/checkpoint-2500/config.json\n",
            "Model weights saved in xlnet-base-cased-iuChatbot-ontologyDts-localParams/checkpoint-2500/pytorch_model.bin\n",
            "tokenizer config file saved in xlnet-base-cased-iuChatbot-ontologyDts-localParams/checkpoint-2500/tokenizer_config.json\n",
            "Special tokens file saved in xlnet-base-cased-iuChatbot-ontologyDts-localParams/checkpoint-2500/special_tokens_map.json\n",
            "Saving model checkpoint to xlnet-base-cased-iuChatbot-ontologyDts-localParams/checkpoint-3000\n",
            "Configuration saved in xlnet-base-cased-iuChatbot-ontologyDts-localParams/checkpoint-3000/config.json\n",
            "Model weights saved in xlnet-base-cased-iuChatbot-ontologyDts-localParams/checkpoint-3000/pytorch_model.bin\n",
            "tokenizer config file saved in xlnet-base-cased-iuChatbot-ontologyDts-localParams/checkpoint-3000/tokenizer_config.json\n",
            "Special tokens file saved in xlnet-base-cased-iuChatbot-ontologyDts-localParams/checkpoint-3000/special_tokens_map.json\n",
            "***** Running Evaluation *****\n",
            "  Num examples = 1036\n",
            "  Batch size = 32\n",
            "\n",
            "\n",
            "Training completed. Do not forget to share your model on huggingface.co/models =)\n",
            "\n",
            "\n"
          ]
        },
        {
          "output_type": "execute_result",
          "data": {
            "text/plain": [
              "TrainOutput(global_step=3357, training_loss=0.07649433623476684, metrics={'train_runtime': 994.9656, 'train_samples_per_second': 26.983, 'train_steps_per_second': 3.374, 'total_flos': 1899868097493504.0, 'train_loss': 0.07649433623476684, 'epoch': 3.0})"
            ]
          },
          "metadata": {},
          "execution_count": 39
        }
      ]
    },
    {
      "cell_type": "code",
      "source": [
        "trainer.save_model(\"xlnet-msl128-trained\")"
      ],
      "metadata": {
        "colab": {
          "base_uri": "https://localhost:8080/"
        },
        "id": "um1v8P5gjI2O",
        "outputId": "54e23898-7b0c-4a54-f8d8-cc55af3ef8c3"
      },
      "execution_count": 40,
      "outputs": [
        {
          "output_type": "stream",
          "name": "stderr",
          "text": [
            "Saving model checkpoint to xlnet-msl128-trained\n",
            "Configuration saved in xlnet-msl128-trained/config.json\n",
            "Model weights saved in xlnet-msl128-trained/pytorch_model.bin\n",
            "tokenizer config file saved in xlnet-msl128-trained/tokenizer_config.json\n",
            "Special tokens file saved in xlnet-msl128-trained/special_tokens_map.json\n"
          ]
        }
      ]
    },
    {
      "cell_type": "markdown",
      "source": [
        "# Evaluation"
      ],
      "metadata": {
        "id": "0rHylkKUMvgc"
      }
    },
    {
      "cell_type": "code",
      "source": [
        "import torch\n",
        "\n",
        "for batch in trainer.get_eval_dataloader():\n",
        "    break\n",
        "batch = {k: v.to(trainer.args.device) for k, v in batch.items()}\n",
        "with torch.no_grad():\n",
        "    output = trainer.model(**batch)\n",
        "output.keys()"
      ],
      "metadata": {
        "colab": {
          "base_uri": "https://localhost:8080/"
        },
        "id": "EpPDJkGskzRC",
        "outputId": "c161d574-3214-4c6a-9390-09374672fe0e"
      },
      "execution_count": 41,
      "outputs": [
        {
          "output_type": "execute_result",
          "data": {
            "text/plain": [
              "odict_keys(['loss', 'start_logits', 'end_logits', 'mems'])"
            ]
          },
          "metadata": {},
          "execution_count": 41
        }
      ]
    },
    {
      "cell_type": "code",
      "source": [
        "output.start_logits.shape, output.end_logits.shape"
      ],
      "metadata": {
        "colab": {
          "base_uri": "https://localhost:8080/"
        },
        "id": "P-BC0FACNTGg",
        "outputId": "862af3f3-d68f-45ec-d82a-ee7f565e57ad"
      },
      "execution_count": 42,
      "outputs": [
        {
          "output_type": "execute_result",
          "data": {
            "text/plain": [
              "(torch.Size([32, 128]), torch.Size([32, 128]))"
            ]
          },
          "metadata": {},
          "execution_count": 42
        }
      ]
    },
    {
      "cell_type": "code",
      "source": [
        "output.start_logits.argmax(dim=-1), output.end_logits.argmax(dim=-1)"
      ],
      "metadata": {
        "colab": {
          "base_uri": "https://localhost:8080/"
        },
        "id": "BG-88zMuNVfX",
        "outputId": "b734d304-f154-42ab-df6d-93c3caf7a07b"
      },
      "execution_count": 43,
      "outputs": [
        {
          "output_type": "execute_result",
          "data": {
            "text/plain": [
              "(tensor([127, 127, 127, 127, 127, 127, 127, 127, 127, 127, 127, 127, 127, 127,\n",
              "         127, 127, 127, 127, 127, 127, 127, 127, 127, 127, 127, 127, 127, 127,\n",
              "         127, 127, 127, 127], device='cuda:0'),\n",
              " tensor([127, 127, 127, 127, 127, 127, 127, 127, 127, 127, 127, 127, 127, 127,\n",
              "         127, 127, 127, 127, 127, 127, 127, 127, 127, 127, 127, 127, 127, 127,\n",
              "         127, 127, 127, 127], device='cuda:0'))"
            ]
          },
          "metadata": {},
          "execution_count": 43
        }
      ]
    },
    {
      "cell_type": "code",
      "source": [
        "n_best_size = 32"
      ],
      "metadata": {
        "id": "1GABMlbwNYt3"
      },
      "execution_count": 44,
      "outputs": []
    },
    {
      "cell_type": "code",
      "source": [
        "import numpy as np\n",
        "\n",
        "start_logits = output.start_logits[0].cpu().numpy()\n",
        "end_logits = output.end_logits[0].cpu().numpy()\n",
        "# Gather the indices the best start/end logits:\n",
        "start_indexes = np.argsort(start_logits)[-1 : -n_best_size - 1 : -1].tolist()\n",
        "end_indexes = np.argsort(end_logits)[-1 : -n_best_size - 1 : -1].tolist()\n",
        "valid_answers = []\n",
        "for start_index in start_indexes:\n",
        "    for end_index in end_indexes:\n",
        "        if start_index <= end_index: # We need to refine that test to check the answer is inside the context\n",
        "            valid_answers.append(\n",
        "                {\n",
        "                    \"score\": start_logits[start_index] + end_logits[end_index],\n",
        "                    \"text\": \"\" # We need to find a way to get back the original substring corresponding to the answer in the context\n",
        "                }\n",
        "            )"
      ],
      "metadata": {
        "id": "_Sb350ZyNc8x"
      },
      "execution_count": 45,
      "outputs": []
    },
    {
      "cell_type": "code",
      "source": [
        "def prepare_validation_features(examples):\n",
        "    # Some of the questions have lots of whitespace on the left, which is not useful and will make the\n",
        "    # truncation of the context fail (the tokenized question will take a lots of space). So we remove that\n",
        "    # left whitespace\n",
        "    examples[\"question\"] = [q.lstrip() for q in examples[\"question\"]]\n",
        "\n",
        "    # Tokenize our examples with truncation and maybe padding, but keep the overflows using a stride. This results\n",
        "    # in one example possible giving several features when a context is long, each of those features having a\n",
        "    # context that overlaps a bit the context of the previous feature.\n",
        "    tokenized_examples = tokenizer(\n",
        "        examples[\"question\" if pad_on_right else \"context\"],\n",
        "        examples[\"context\" if pad_on_right else \"question\"],\n",
        "        truncation=\"only_second\" if pad_on_right else \"only_first\",\n",
        "        max_length=max_length,\n",
        "        stride=doc_stride,\n",
        "        return_overflowing_tokens=True,\n",
        "        return_offsets_mapping=True,\n",
        "        padding=\"max_length\",\n",
        "    )\n",
        "\n",
        "    # Since one example might give us several features if it has a long context, we need a map from a feature to\n",
        "    # its corresponding example. This key gives us just that.\n",
        "    sample_mapping = tokenized_examples.pop(\"overflow_to_sample_mapping\")\n",
        "\n",
        "    # We keep the example_id that gave us this feature and we will store the offset mappings.\n",
        "    tokenized_examples[\"example_id\"] = []\n",
        "\n",
        "    for i in range(len(tokenized_examples[\"input_ids\"])):\n",
        "        # Grab the sequence corresponding to that example (to know what is the context and what is the question).\n",
        "        sequence_ids = tokenized_examples.sequence_ids(i)\n",
        "        context_index = 1 if pad_on_right else 0\n",
        "\n",
        "        # One example can give several spans, this is the index of the example containing this span of text.\n",
        "        sample_index = sample_mapping[i]\n",
        "        tokenized_examples[\"example_id\"].append(examples[\"id\"][sample_index])\n",
        "\n",
        "        # Set to None the offset_mapping that are not part of the context so it's easy to determine if a token\n",
        "        # position is part of the context or not.\n",
        "        tokenized_examples[\"offset_mapping\"][i] = [\n",
        "            (o if sequence_ids[k] == context_index else None)\n",
        "            for k, o in enumerate(tokenized_examples[\"offset_mapping\"][i])\n",
        "        ]\n",
        "\n",
        "    return tokenized_examples"
      ],
      "metadata": {
        "id": "T0DAKkB6NfNa"
      },
      "execution_count": 46,
      "outputs": []
    },
    {
      "cell_type": "code",
      "source": [
        "validation_features = dataset[\"test\"].map(\n",
        "    prepare_validation_features,\n",
        "    batched=True,\n",
        "    remove_columns=dataset[\"test\"].column_names\n",
        ")"
      ],
      "metadata": {
        "colab": {
          "base_uri": "https://localhost:8080/",
          "height": 49,
          "referenced_widgets": [
            "0de8a7bd47434f1b8e6da4d3a7c978ff",
            "9b95d2a4c8394d9e8c2b91bc6dad0661",
            "66638ad15cf645fea56b8f053b48f6b1",
            "1af183da162b4f899047e649de3c555d",
            "84226925916b4cd091a28459ad3d8dd2",
            "5f961e89804143e3ac6442505a4bde0d",
            "73d46839f9cc4fc8b9dd4bccf39dfa48",
            "63609a780f7244d68e319e07c134ccb6",
            "4251679f5784445e8feadd0202b205d8",
            "c348c06ffb414002882770c7ffb6d77a",
            "7f4e6ee9c36a4a16bed008f2577cb90d"
          ]
        },
        "id": "I6Mx4dQvNkFJ",
        "outputId": "65082845-d29c-4a03-db51-d9687719ff1a"
      },
      "execution_count": 47,
      "outputs": [
        {
          "output_type": "display_data",
          "data": {
            "application/vnd.jupyter.widget-view+json": {
              "model_id": "0de8a7bd47434f1b8e6da4d3a7c978ff",
              "version_minor": 0,
              "version_major": 2
            },
            "text/plain": [
              "  0%|          | 0/1 [00:00<?, ?ba/s]"
            ]
          },
          "metadata": {}
        }
      ]
    },
    {
      "cell_type": "code",
      "source": [
        "raw_predictions = trainer.predict(validation_features)"
      ],
      "metadata": {
        "colab": {
          "base_uri": "https://localhost:8080/",
          "height": 126
        },
        "id": "BdupZhwsNmK2",
        "outputId": "46d7279e-71cb-49c1-b2c6-3e6e4899db25"
      },
      "execution_count": 48,
      "outputs": [
        {
          "output_type": "stream",
          "name": "stderr",
          "text": [
            "The following columns in the test set  don't have a corresponding argument in `XLNetForQuestionAnsweringSimple.forward` and have been ignored: offset_mapping, example_id.\n",
            "***** Running Prediction *****\n",
            "  Num examples = 1036\n",
            "  Batch size = 32\n"
          ]
        },
        {
          "output_type": "display_data",
          "data": {
            "text/html": [
              "\n",
              "    <div>\n",
              "      \n",
              "      <progress value='33' max='33' style='width:300px; height:20px; vertical-align: middle;'></progress>\n",
              "      [33/33 00:10]\n",
              "    </div>\n",
              "    "
            ],
            "text/plain": [
              "<IPython.core.display.HTML object>"
            ]
          },
          "metadata": {}
        }
      ]
    },
    {
      "cell_type": "code",
      "source": [
        "validation_features.set_format(type=validation_features.format[\"type\"], columns=list(validation_features.features.keys()))"
      ],
      "metadata": {
        "id": "OY3sFCOlNv2a"
      },
      "execution_count": 49,
      "outputs": []
    },
    {
      "cell_type": "code",
      "source": [
        "max_answer_length = 128"
      ],
      "metadata": {
        "id": "2e_T_0wIN4AI"
      },
      "execution_count": 50,
      "outputs": []
    },
    {
      "cell_type": "code",
      "source": [
        "start_logits = output.start_logits[0].cpu().numpy()\n",
        "end_logits = output.end_logits[0].cpu().numpy()\n",
        "offset_mapping = validation_features[0][\"offset_mapping\"]\n",
        "# The first feature comes from the first example. For the more general case, we will need to be match the example_id to\n",
        "# an example index\n",
        "context = dataset[\"test\"][0][\"context\"]\n",
        "\n",
        "# Gather the indices the best start/end logits:\n",
        "start_indexes = np.argsort(start_logits)[-1 : -n_best_size - 1 : -1].tolist()\n",
        "end_indexes = np.argsort(end_logits)[-1 : -n_best_size - 1 : -1].tolist()\n",
        "valid_answers = []\n",
        "for start_index in start_indexes:\n",
        "    for end_index in end_indexes:\n",
        "        # Don't consider out-of-scope answers, either because the indices are out of bounds or correspond\n",
        "        # to part of the input_ids that are not in the context.\n",
        "        if (\n",
        "            start_index >= len(offset_mapping)\n",
        "            or end_index >= len(offset_mapping)\n",
        "            or offset_mapping[start_index] is None\n",
        "            or offset_mapping[end_index] is None\n",
        "        ):\n",
        "            continue\n",
        "        # Don't consider answers with a length that is either < 0 or > max_answer_length.\n",
        "        if end_index < start_index or end_index - start_index + 1 > max_answer_length:\n",
        "            continue\n",
        "        if start_index <= end_index: # We need to refine that test to check the answer is inside the context\n",
        "            start_char = offset_mapping[start_index][0]\n",
        "            end_char = offset_mapping[end_index][1]\n",
        "            valid_answers.append(\n",
        "                {\n",
        "                    \"score\": start_logits[start_index] + end_logits[end_index],\n",
        "                    \"text\": context[start_char: end_char]\n",
        "                }\n",
        "            )\n",
        "\n",
        "valid_answers = sorted(valid_answers, key=lambda x: x[\"score\"], reverse=True)[:n_best_size]\n",
        "valid_answers"
      ],
      "metadata": {
        "colab": {
          "base_uri": "https://localhost:8080/"
        },
        "id": "vG2tcXiLN6uk",
        "outputId": "d0cf90b2-5580-4ddb-e805-f634d86eee70"
      },
      "execution_count": 51,
      "outputs": [
        {
          "output_type": "execute_result",
          "data": {
            "text/plain": [
              "[{'score': -27.023167, 'text': 'Ngành Công nghệ Thực phẩm (Mã ngành: 7540101'},\n",
              " {'score': -27.424238,\n",
              "  'text': 'Ngành Công nghệ Thực phẩm (Mã ngành: 7540101) Chương trình: Trong nước Chương trình đào tạo ngành CNTP tại Trường Đai học Quốc tế được thiết kế nhằm đào tạo các kỹ sư CNTP, có những nét chính như sau:'},\n",
              " {'score': -27.62361,\n",
              "  'text': 'Ngành Công nghệ Thực phẩm (Mã ngành: 7540101) Chương trình: Trong nước Chương trình đào tạo ngành CNTP tại Trường Đai học Quốc tế được thiết kế nhằm đào tạo các kỹ sư CNTP, có những nét chính như sau:,'},\n",
              " {'score': -27.69638, 'text': 'Ngà'},\n",
              " {'score': -27.757885,\n",
              "  'text': 'Chương trình: Trong nước Chương trình đào tạo ngành CNTP tại Trường Đai học Quốc tế được thiết kế nhằm đào tạo các kỹ sư CNTP, có những nét chính như sau:'},\n",
              " {'score': -27.768145,\n",
              "  'text': 'Ngành Công nghệ Thực phẩm (Mã ngành: 7540101)'},\n",
              " {'score': -27.827211,\n",
              "  'text': 'Ngành Công nghệ Thực phẩm (Mã ngành: 7540101) Chương trình:'},\n",
              " {'score': -27.92969,\n",
              "  'text': 'Ngành Công nghệ Thực phẩm (Mã ngành: 7540101) Chư'},\n",
              " {'score': -27.957256,\n",
              "  'text': 'Chương trình: Trong nước Chương trình đào tạo ngành CNTP tại Trường Đai học Quốc tế được thiết kế nhằm đào tạo các kỹ sư CNTP, có những nét chính như sau:,'},\n",
              " {'score': -28.08155,\n",
              "  'text': 'Ngành Công nghệ Thực phẩm (Mã ngành: 7540101) Chương trình'},\n",
              " {'score': -28.117313, 'text': 'Ngành Công nghệ Thực phẩm ('},\n",
              " {'score': -28.160858, 'text': 'Chương trình:'},\n",
              " {'score': -28.188232,\n",
              "  'text': 'Ngành Công nghệ Thực phẩm (Mã ngành: 7540101) Chương trình: Trong nước Chương trình đào tạo ngành CNTP tại Trường Đai học Quốc tế được thiết kế nhằm đào tạo các kỹ sư CNTP'},\n",
              " {'score': -28.240362,\n",
              "  'text': 'Ngành Công nghệ Thực phẩm (Mã ngành: 7540101) Chương trình: Trong nước Chương trình đào tạo ngành CNTP tại Trường Đai học Quốc tế được thiết kế nhằm đào tạo các kỹ sư CNTP, có những nét chính như sau'},\n",
              " {'score': -28.254087,\n",
              "  'text': 'Ngành Công nghệ Thực phẩm (Mã ngành: 7540101) Chương trình: Trong'},\n",
              " {'score': -28.262579,\n",
              "  'text': 'Trong nước Chương trình đào tạo ngành CNTP tại Trường Đai học Quốc tế được thiết kế nhằm đào tạo các kỹ sư CNTP, có những nét chính như sau:'},\n",
              " {'score': -28.263336, 'text': 'Chư'},\n",
              " {'score': -28.329103,\n",
              "  'text': 'Ngành Công nghệ Thực phẩm (Mã ngành: 7540101) Chương trình: Trong nước Chương trình đào tạo ngành CNTP'},\n",
              " {'score': -28.335783, 'text': 'Ngành Công nghệ Thực phẩm'},\n",
              " {'score': -28.335913,\n",
              "  'text': 'Ngành Công nghệ Thực phẩm (Mã ngành: 7540101) Chương trì'},\n",
              " {'score': -28.363033,\n",
              "  'text': 'Ngành Công nghệ Thực phẩm (Mã ngành: 7540101) Chương trình: Trong nước Chư'},\n",
              " {'score': -28.366064,\n",
              "  'text': 'Ngành Công nghệ Thực phẩm (Mã ngành: 7540101) Chương trình: Trong nước Chương trình đào tạo ngành CNTP tại Trư'},\n",
              " {'score': -28.390177,\n",
              "  'text': 'Ngành Công nghệ Thực phẩm (Mã ngành: 7540101) Chương trình: Trong nước Chương trình đào tạo ngành CNTP tại Trường Đai học Quốc tế được thiết kế nhằm đào tạo các kỹ sư CNTP, có những nét chính'},\n",
              " {'score': -28.4152, 'text': 'Chương trình'},\n",
              " {'score': -28.415756,\n",
              "  'text': 'Ngành Công nghệ Thực phẩm (Mã ngành: 7540101) Chương trình: Trong nước'},\n",
              " {'score': -28.435587,\n",
              "  'text': 'Ngành Công nghệ Thực phẩm (Mã ngành: 7540101) Chương trình: T'},\n",
              " {'score': -28.436306, 'text': 'Ngành Công nghệ Thực phẩm (Mã ngành:'},\n",
              " {'score': -28.459618,\n",
              "  'text': 'Ngành Công nghệ Thực phẩm (Mã ngành: 7540101) Chương'},\n",
              " {'score': -28.46195,\n",
              "  'text': 'Trong nước Chương trình đào tạo ngành CNTP tại Trường Đai học Quốc tế được thiết kế nhằm đào tạo các kỹ sư CNTP, có những nét chính như sau:,'},\n",
              " {'score': -28.49825,\n",
              "  'text': 'Ngành Công nghệ Thực phẩm (Mã ngành: 7540101) Chương trình: Trong nước Chương trình'},\n",
              " {'score': -28.499506,\n",
              "  'text': 'Ngành Công nghệ Thực phẩm (Mã ngành: 7540101) Chương trình: Trong nước Chương trình đào tạo ngành'},\n",
              " {'score': -28.509974,\n",
              "  'text': 'Ngành Công nghệ Thực phẩm (Mã ngành: 7540101) Chương trình: Trong nước Chương trình đào tạo ngành CNTP tại Trường'}]"
            ]
          },
          "metadata": {},
          "execution_count": 51
        }
      ]
    },
    {
      "cell_type": "code",
      "source": [
        "dataset[\"test\"][0][\"answers\"]"
      ],
      "metadata": {
        "colab": {
          "base_uri": "https://localhost:8080/"
        },
        "id": "SpI94N51N8v0",
        "outputId": "3e120ab6-63f2-44d2-8121-f84dde7d1a11"
      },
      "execution_count": 52,
      "outputs": [
        {
          "output_type": "execute_result",
          "data": {
            "text/plain": [
              "{'answer_start': [0],\n",
              " 'text': ['Ngành Công nghệ Thực phẩm (Mã ngành: 7540101) Chương trình: Trong nước Chương trình đào tạo ngành CNTP tại Trường Đai học Quốc tế được thiết kế nhằm đào tạo các kỹ sư CNTP, có những nét chính như sau:, Cung cấp kiến thức rộng, cân bằng về các khoa học thực phẩm và kỹ thuật thực phẩm Cung cấp kiến thức cơ bản về quản lý thực phẩm (bao gồm cả quản lý sản xuất, chất lượng, vệ sinh an toàn thực phẩm và vệ sinh môi trường) Chú trọng đến kỹ năng thực hành và khả năng tiếp cận với thiết bị công nghệ cao Giảng dạy hoàn toàn bằng tiếng Anh (kỹ sư sau khi tốt nghiệp sẽ đạt trình độ tiếng Anh TOEF pBT 550 hoặc tương đương (IELTS 6.0, TOEFL iBT 60)).']}"
            ]
          },
          "metadata": {},
          "execution_count": 52
        }
      ]
    },
    {
      "cell_type": "code",
      "source": [
        "import collections\n",
        "\n",
        "examples = dataset[\"test\"]\n",
        "features = validation_features\n",
        "\n",
        "example_id_to_index = {k: i for i, k in enumerate(examples[\"id\"])}\n",
        "features_per_example = collections.defaultdict(list)\n",
        "for i, feature in enumerate(features):\n",
        "    features_per_example[example_id_to_index[feature[\"example_id\"]]].append(i)"
      ],
      "metadata": {
        "id": "JhcYOvd3OGdb"
      },
      "execution_count": 53,
      "outputs": []
    },
    {
      "cell_type": "code",
      "source": [
        "from tqdm.auto import tqdm\n",
        "\n",
        "def postprocess_qa_predictions(examples, features, raw_predictions, n_best_size = 20, max_answer_length = 30):\n",
        "    all_start_logits, all_end_logits = raw_predictions\n",
        "    # Build a map example to its corresponding features.\n",
        "    example_id_to_index = {k: i for i, k in enumerate(examples[\"id\"])}\n",
        "    features_per_example = collections.defaultdict(list)\n",
        "    for i, feature in enumerate(features):\n",
        "        features_per_example[example_id_to_index[feature[\"example_id\"]]].append(i)\n",
        "\n",
        "    # The dictionaries we have to fill.\n",
        "    predictions = collections.OrderedDict()\n",
        "\n",
        "    # Logging.\n",
        "    print(f\"Post-processing {len(examples)} example predictions split into {len(features)} features.\")\n",
        "\n",
        "    # Let's loop over all the examples!\n",
        "    for example_index, example in enumerate(tqdm(examples)):\n",
        "        # Those are the indices of the features associated to the current example.\n",
        "        feature_indices = features_per_example[example_index]\n",
        "\n",
        "        min_null_score = None # Only used if squad_v2 is True.\n",
        "        valid_answers = []\n",
        "        \n",
        "        context = example[\"context\"]\n",
        "        # Looping through all the features associated to the current example.\n",
        "        for feature_index in feature_indices:\n",
        "            # We grab the predictions of the model for this feature.\n",
        "            start_logits = all_start_logits[feature_index]\n",
        "            end_logits = all_end_logits[feature_index]\n",
        "            # This is what will allow us to map some the positions in our logits to span of texts in the original\n",
        "            # context.\n",
        "            offset_mapping = features[feature_index][\"offset_mapping\"]\n",
        "\n",
        "            # Update minimum null prediction.\n",
        "            cls_index = features[feature_index][\"input_ids\"].index(tokenizer.cls_token_id)\n",
        "            feature_null_score = start_logits[cls_index] + end_logits[cls_index]\n",
        "            if min_null_score is None or min_null_score < feature_null_score:\n",
        "                min_null_score = feature_null_score\n",
        "\n",
        "            # Go through all possibilities for the `n_best_size` greater start and end logits.\n",
        "            start_indexes = np.argsort(start_logits)[-1 : -n_best_size - 1 : -1].tolist()\n",
        "            end_indexes = np.argsort(end_logits)[-1 : -n_best_size - 1 : -1].tolist()\n",
        "            for start_index in start_indexes:\n",
        "                for end_index in end_indexes:\n",
        "                    # Don't consider out-of-scope answers, either because the indices are out of bounds or correspond\n",
        "                    # to part of the input_ids that are not in the context.\n",
        "                    if (\n",
        "                        start_index >= len(offset_mapping)\n",
        "                        or end_index >= len(offset_mapping)\n",
        "                        or offset_mapping[start_index] is None\n",
        "                        or offset_mapping[end_index] is None\n",
        "                    ):\n",
        "                        continue\n",
        "                    # Don't consider answers with a length that is either < 0 or > max_answer_length.\n",
        "                    if end_index < start_index or end_index - start_index + 1 > max_answer_length:\n",
        "                        continue\n",
        "\n",
        "                    start_char = offset_mapping[start_index][0]\n",
        "                    end_char = offset_mapping[end_index][1]\n",
        "                    valid_answers.append(\n",
        "                        {\n",
        "                            \"score\": start_logits[start_index] + end_logits[end_index],\n",
        "                            \"text\": context[start_char: end_char]\n",
        "                        }\n",
        "                    )\n",
        "        \n",
        "        if len(valid_answers) > 0:\n",
        "            best_answer = sorted(valid_answers, key=lambda x: x[\"score\"], reverse=True)[0]\n",
        "        else:\n",
        "            # In the very rare edge case we have not a single non-null prediction, we create a fake prediction to avoid\n",
        "            # failure.\n",
        "            best_answer = {\"text\": \"\", \"score\": 0.0}\n",
        "        \n",
        "        # Let's pick our final answer: the best one or the null answer (only for squad_v2)\n",
        "        # if not squad_v2:\n",
        "            # predictions[example[\"id\"]] = best_answer[\"text\"]\n",
        "        # else:\n",
        "        answer = best_answer[\"text\"] if best_answer[\"score\"] > min_null_score else \"\"\n",
        "        predictions[example[\"id\"]] = answer\n",
        "\n",
        "    return predictions"
      ],
      "metadata": {
        "id": "VWjqqDaEOO44"
      },
      "execution_count": 54,
      "outputs": []
    },
    {
      "cell_type": "code",
      "source": [
        "final_predictions = postprocess_qa_predictions(dataset[\"test\"], validation_features, raw_predictions.predictions)"
      ],
      "metadata": {
        "colab": {
          "base_uri": "https://localhost:8080/",
          "height": 66,
          "referenced_widgets": [
            "db3fe785b27d4933a0721ac7232dccd2",
            "927e7cdb1712449d8cbb0e212f6856c4",
            "a533005dfd9f43b0b0378d01ed91b4b0",
            "e5b97dd9700048418a037c8252eb74ee",
            "b11be09e18244de8979944d1644faa9d",
            "554cf9d09343400ea65a2645eb187f02",
            "ae4ae11bd5be4407bfe41970991b8da3",
            "13af401502604ac0972d097d76a4a755",
            "ad9e6c4ae7ec4cb0b8db66da06a81888",
            "4dadb4845cb0437b98267af3b06f4fc7",
            "c3b13e28db7341f5bafd08f4b20bed95"
          ]
        },
        "id": "N9MGa718OU2i",
        "outputId": "936eb08b-d8f9-4be2-c5b6-5dbc7cc1aa8c"
      },
      "execution_count": 55,
      "outputs": [
        {
          "output_type": "stream",
          "name": "stdout",
          "text": [
            "Post-processing 19 example predictions split into 1036 features.\n"
          ]
        },
        {
          "output_type": "display_data",
          "data": {
            "application/vnd.jupyter.widget-view+json": {
              "model_id": "db3fe785b27d4933a0721ac7232dccd2",
              "version_minor": 0,
              "version_major": 2
            },
            "text/plain": [
              "  0%|          | 0/19 [00:00<?, ?it/s]"
            ]
          },
          "metadata": {}
        }
      ]
    },
    {
      "cell_type": "code",
      "source": [
        "from datasets import load_metric\n",
        "metric = load_metric(\"squad_v2\")"
      ],
      "metadata": {
        "id": "PQfOVo-dO1Kj",
        "colab": {
          "base_uri": "https://localhost:8080/",
          "height": 81,
          "referenced_widgets": [
            "d44fdd747b67401aad6a5963862b14d4",
            "b981b99b79294e52aa7c6039e2ccceba",
            "cf5967b566c647bf903669c9aca88b73",
            "491c54e3609d44429328374aeb678ca4",
            "008b13495d644ca09cbe813d653520ef",
            "474c24adcfb9421ea07dffe6bf674e71",
            "116b9a60e8c4485d96e26b553e6914fe",
            "2bf43048141143d4b290e46af4355cb9",
            "100d46a63949495187dd1afee6beab93",
            "41c822d1a2254a80b2f702b2826b539b",
            "cbd56ae18fa84ec0b58872111e1b3b9e",
            "b48f97ea2bcc464fad061c8885bfba77",
            "a1c3a4680ba943f99fd0e7dd17db425e",
            "120ebf52697a4a4988e1af484ba4732a",
            "f556ed1ee3534493a57fa0099604abc1",
            "a600e439c02b4557970fe19994cf103d",
            "607bc724bea44a109e3e282350ee4e87",
            "c04eabb1b18c41bebe1b50a859f494ff",
            "1d072ff8112b484684c54c65d66aad3f",
            "79b4a167bf3f45b8943834993bdaaf0d",
            "7c2fee6abdaf425ba1637d2b31e19821",
            "7b9ce5c6f37d4fe3a20bda45ac059096"
          ]
        },
        "outputId": "c16d7fde-7d5b-45f4-9f97-9fbe4ae36d05"
      },
      "execution_count": 56,
      "outputs": [
        {
          "output_type": "display_data",
          "data": {
            "application/vnd.jupyter.widget-view+json": {
              "model_id": "d44fdd747b67401aad6a5963862b14d4",
              "version_minor": 0,
              "version_major": 2
            },
            "text/plain": [
              "Downloading:   0%|          | 0.00/2.26k [00:00<?, ?B/s]"
            ]
          },
          "metadata": {}
        },
        {
          "output_type": "display_data",
          "data": {
            "application/vnd.jupyter.widget-view+json": {
              "model_id": "b48f97ea2bcc464fad061c8885bfba77",
              "version_minor": 0,
              "version_major": 2
            },
            "text/plain": [
              "Downloading:   0%|          | 0.00/3.18k [00:00<?, ?B/s]"
            ]
          },
          "metadata": {}
        }
      ]
    },
    {
      "cell_type": "code",
      "source": [
        "formatted_predictions = [{\"id\": k, \"prediction_text\": v, \"no_answer_probability\": 0.0} for k, v in final_predictions.items()]\n",
        "references = [{\"id\": ex[\"id\"], \"answers\": ex[\"answers\"]} for ex in dataset[\"test\"]]\n",
        "metric.compute(predictions=formatted_predictions, references=references)"
      ],
      "metadata": {
        "colab": {
          "base_uri": "https://localhost:8080/"
        },
        "id": "29tg35VuOXcV",
        "outputId": "d8c10ba4-7184-446c-a32d-f018e1bc4a0c"
      },
      "execution_count": 57,
      "outputs": [
        {
          "output_type": "execute_result",
          "data": {
            "text/plain": [
              "{'HasAns_exact': 0.0,\n",
              " 'HasAns_f1': 2.1234942889721524,\n",
              " 'HasAns_total': 19,\n",
              " 'best_exact': 0.0,\n",
              " 'best_exact_thresh': 0.0,\n",
              " 'best_f1': 2.1234942889721524,\n",
              " 'best_f1_thresh': 0.0,\n",
              " 'exact': 0.0,\n",
              " 'f1': 2.1234942889721524,\n",
              " 'total': 19}"
            ]
          },
          "metadata": {},
          "execution_count": 57
        }
      ]
    },
    {
      "cell_type": "code",
      "source": [
        "trainer.push_to_hub()"
      ],
      "metadata": {
        "colab": {
          "base_uri": "https://localhost:8080/",
          "height": 405,
          "referenced_widgets": [
            "3f11760358e74dab853f0c8358c915d2",
            "4e316279423443348d556e9a6577aecd",
            "2da16d0382504bb9a9f4bce3d4e8b2a8",
            "7d6d10175cef431987975e061f40e94e",
            "07a1a3f456bb47779b47aff561bcdf34",
            "bcdf365df0e244978194c478b6b08bc6",
            "56642a0a95294b5e9da3e4bb3a174ac8",
            "3b3dd1ca3ee5448e92cc9e94890018c2",
            "8c12228de1ec4050bd4c33d02724b84f",
            "ee80b4dfaf0c410798329bb63838d681",
            "49c19402cbb44eeebbc7f4068d884d3f",
            "5a2a5d1d655c40f8a01657da936d2450",
            "00b4ab77fc964053b8689d0264526c69",
            "12ead455b5144336ad1cb64373f7609e",
            "4fe2ce8b8f5d48b7aa4f5f822268f48e",
            "436458a8d14d43279c993832727db9ec",
            "6ee543833e8e4e9b98a52a6b967a64c3",
            "be0aeb4c26c04858844829d44c2cf2c6",
            "bbc9b9e50d7c46eaa9b579e7517946bf",
            "b5e650a2a6f34936922a57ad97f64fdc",
            "49893b42b0654a1bad282c8951df5620",
            "775bc3ffc6624190836c22cb80afa793"
          ]
        },
        "id": "aOjDZq8POu7s",
        "outputId": "5be530fd-1b6b-4c21-8161-5dc201c17477"
      },
      "execution_count": 58,
      "outputs": [
        {
          "output_type": "stream",
          "name": "stderr",
          "text": [
            "Saving model checkpoint to xlnet-base-cased-iuChatbot-ontologyDts-localParams\n",
            "Configuration saved in xlnet-base-cased-iuChatbot-ontologyDts-localParams/config.json\n",
            "Model weights saved in xlnet-base-cased-iuChatbot-ontologyDts-localParams/pytorch_model.bin\n",
            "tokenizer config file saved in xlnet-base-cased-iuChatbot-ontologyDts-localParams/tokenizer_config.json\n",
            "Special tokens file saved in xlnet-base-cased-iuChatbot-ontologyDts-localParams/special_tokens_map.json\n",
            "Several commits (2) will be pushed upstream.\n",
            "The progress bars may be unreliable.\n"
          ]
        },
        {
          "output_type": "display_data",
          "data": {
            "application/vnd.jupyter.widget-view+json": {
              "model_id": "3f11760358e74dab853f0c8358c915d2",
              "version_minor": 0,
              "version_major": 2
            },
            "text/plain": [
              "Upload file pytorch_model.bin:   0%|          | 3.35k/445M [00:00<?, ?B/s]"
            ]
          },
          "metadata": {}
        },
        {
          "output_type": "display_data",
          "data": {
            "application/vnd.jupyter.widget-view+json": {
              "model_id": "5a2a5d1d655c40f8a01657da936d2450",
              "version_minor": 0,
              "version_major": 2
            },
            "text/plain": [
              "Upload file runs/Jan24_08-02-08_21fa1a4e240b/events.out.tfevents.1643011345.21fa1a4e240b.834.0:  59%|#####8   …"
            ]
          },
          "metadata": {}
        },
        {
          "output_type": "stream",
          "name": "stderr",
          "text": [
            "To https://huggingface.co/nntadotzip/xlnet-base-cased-IUChatbot-ontologyDts-localParams\n",
            "   5588470..9186d5a  main -> main\n",
            "\n",
            "Dropping the following result as it does not have all the necessary fields:\n",
            "{'task': {'name': 'Question Answering', 'type': 'question-answering'}}\n",
            "To https://huggingface.co/nntadotzip/xlnet-base-cased-IUChatbot-ontologyDts-localParams\n",
            "   9186d5a..c8e7b75  main -> main\n",
            "\n"
          ]
        },
        {
          "output_type": "execute_result",
          "data": {
            "application/vnd.google.colaboratory.intrinsic+json": {
              "type": "string"
            },
            "text/plain": [
              "'https://huggingface.co/nntadotzip/xlnet-base-cased-IUChatbot-ontologyDts-localParams/commit/9186d5ae80c619932c76bed50271e3c6dbdab0af'"
            ]
          },
          "metadata": {},
          "execution_count": 58
        }
      ]
    },
    {
      "cell_type": "code",
      "source": [
        ""
      ],
      "metadata": {
        "id": "sX1lw_fgRZ_m"
      },
      "execution_count": null,
      "outputs": []
    }
  ]
}