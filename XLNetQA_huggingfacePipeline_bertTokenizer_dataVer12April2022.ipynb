{
  "nbformat": 4,
  "nbformat_minor": 0,
  "metadata": {
    "colab": {
      "name": "XLNetQA_huggingfacePipeline_bertTokenizer_dataVer12April2022.ipynb",
      "provenance": [],
      "authorship_tag": "ABX9TyNI3CArU6rC26RPHDxkF8lC",
      "include_colab_link": true
    },
    "kernelspec": {
      "name": "python3",
      "display_name": "Python 3"
    },
    "language_info": {
      "name": "python"
    },
    "widgets": {
      "application/vnd.jupyter.widget-state+json": {
        "54439dcc0b994b7ab23e18eafef09843": {
          "model_module": "@jupyter-widgets/controls",
          "model_name": "VBoxModel",
          "model_module_version": "1.5.0",
          "state": {
            "_dom_classes": [],
            "_model_module": "@jupyter-widgets/controls",
            "_model_module_version": "1.5.0",
            "_model_name": "VBoxModel",
            "_view_count": null,
            "_view_module": "@jupyter-widgets/controls",
            "_view_module_version": "1.5.0",
            "_view_name": "VBoxView",
            "box_style": "",
            "children": [
              "IPY_MODEL_50570383ac8846cf8ffd749e8d7cfc6f",
              "IPY_MODEL_74cfd574330247d98967321bf86c863f",
              "IPY_MODEL_de70b9bcee3e43f7a914e21f422aa26d",
              "IPY_MODEL_e5df86c1112845dba39a5882acedd453",
              "IPY_MODEL_f4b113ae2ed541cf994580ed3679bda3"
            ],
            "layout": "IPY_MODEL_2a80aa792c314446a03ad4d0401581f7"
          }
        },
        "50570383ac8846cf8ffd749e8d7cfc6f": {
          "model_module": "@jupyter-widgets/controls",
          "model_name": "HTMLModel",
          "model_module_version": "1.5.0",
          "state": {
            "_dom_classes": [],
            "_model_module": "@jupyter-widgets/controls",
            "_model_module_version": "1.5.0",
            "_model_name": "HTMLModel",
            "_view_count": null,
            "_view_module": "@jupyter-widgets/controls",
            "_view_module_version": "1.5.0",
            "_view_name": "HTMLView",
            "description": "",
            "description_tooltip": null,
            "layout": "IPY_MODEL_789f64151979445fafed17c5a949aa20",
            "placeholder": "​",
            "style": "IPY_MODEL_6385d6aff9ea4d56a18cb6752f9d0a9d",
            "value": "<center> <img\nsrc=https://huggingface.co/front/assets/huggingface_logo-noborder.svg\nalt='Hugging Face'> <br> Copy a token from <a\nhref=\"https://huggingface.co/settings/tokens\" target=\"_blank\">your Hugging Face\ntokens page</a> and paste it below. <br> Immediately click login after copying\nyour token or it might be stored in plain text in this notebook file. </center>"
          }
        },
        "74cfd574330247d98967321bf86c863f": {
          "model_module": "@jupyter-widgets/controls",
          "model_name": "PasswordModel",
          "model_module_version": "1.5.0",
          "state": {
            "_dom_classes": [],
            "_model_module": "@jupyter-widgets/controls",
            "_model_module_version": "1.5.0",
            "_model_name": "PasswordModel",
            "_view_count": null,
            "_view_module": "@jupyter-widgets/controls",
            "_view_module_version": "1.5.0",
            "_view_name": "PasswordView",
            "continuous_update": true,
            "description": "Token:",
            "description_tooltip": null,
            "disabled": false,
            "layout": "IPY_MODEL_d90d0589ef504cd18d4e10d971c68db0",
            "placeholder": "​",
            "style": "IPY_MODEL_e6781e815b194695a60eed4ee79e033c",
            "value": ""
          }
        },
        "de70b9bcee3e43f7a914e21f422aa26d": {
          "model_module": "@jupyter-widgets/controls",
          "model_name": "ButtonModel",
          "model_module_version": "1.5.0",
          "state": {
            "_dom_classes": [],
            "_model_module": "@jupyter-widgets/controls",
            "_model_module_version": "1.5.0",
            "_model_name": "ButtonModel",
            "_view_count": null,
            "_view_module": "@jupyter-widgets/controls",
            "_view_module_version": "1.5.0",
            "_view_name": "ButtonView",
            "button_style": "",
            "description": "Login",
            "disabled": false,
            "icon": "",
            "layout": "IPY_MODEL_1adaa40570e84bafbb43c629128ff324",
            "style": "IPY_MODEL_8dfeb6a6f9d14fcfbc23d86708062a64",
            "tooltip": ""
          }
        },
        "e5df86c1112845dba39a5882acedd453": {
          "model_module": "@jupyter-widgets/controls",
          "model_name": "HTMLModel",
          "model_module_version": "1.5.0",
          "state": {
            "_dom_classes": [],
            "_model_module": "@jupyter-widgets/controls",
            "_model_module_version": "1.5.0",
            "_model_name": "HTMLModel",
            "_view_count": null,
            "_view_module": "@jupyter-widgets/controls",
            "_view_module_version": "1.5.0",
            "_view_name": "HTMLView",
            "description": "",
            "description_tooltip": null,
            "layout": "IPY_MODEL_69af8579c5f943a3a228fc169e987deb",
            "placeholder": "​",
            "style": "IPY_MODEL_5462d672097148b7b163042f71b870a2",
            "value": "\n<b>Pro Tip:</b> If you don't already have one, you can create a dedicated\n'notebooks' token with 'write' access, that you can then easily reuse for all\nnotebooks. <br> <i>Logging in with your username and password is deprecated and\nwon't be possible anymore in the near future. You can still use them for now by\nclicking below.</i> </center>"
          }
        },
        "f4b113ae2ed541cf994580ed3679bda3": {
          "model_module": "@jupyter-widgets/controls",
          "model_name": "ButtonModel",
          "model_module_version": "1.5.0",
          "state": {
            "_dom_classes": [],
            "_model_module": "@jupyter-widgets/controls",
            "_model_module_version": "1.5.0",
            "_model_name": "ButtonModel",
            "_view_count": null,
            "_view_module": "@jupyter-widgets/controls",
            "_view_module_version": "1.5.0",
            "_view_name": "ButtonView",
            "button_style": "",
            "description": "Use password",
            "disabled": false,
            "icon": "",
            "layout": "IPY_MODEL_cfa6f52ab6c54e3790d6b9e5266efb21",
            "style": "IPY_MODEL_a9d851734c0f4a8eb37c464505adc10f",
            "tooltip": ""
          }
        },
        "2a80aa792c314446a03ad4d0401581f7": {
          "model_module": "@jupyter-widgets/base",
          "model_name": "LayoutModel",
          "model_module_version": "1.2.0",
          "state": {
            "_model_module": "@jupyter-widgets/base",
            "_model_module_version": "1.2.0",
            "_model_name": "LayoutModel",
            "_view_count": null,
            "_view_module": "@jupyter-widgets/base",
            "_view_module_version": "1.2.0",
            "_view_name": "LayoutView",
            "align_content": null,
            "align_items": "center",
            "align_self": null,
            "border": null,
            "bottom": null,
            "display": "flex",
            "flex": null,
            "flex_flow": "column",
            "grid_area": null,
            "grid_auto_columns": null,
            "grid_auto_flow": null,
            "grid_auto_rows": null,
            "grid_column": null,
            "grid_gap": null,
            "grid_row": null,
            "grid_template_areas": null,
            "grid_template_columns": null,
            "grid_template_rows": null,
            "height": null,
            "justify_content": null,
            "justify_items": null,
            "left": null,
            "margin": null,
            "max_height": null,
            "max_width": null,
            "min_height": null,
            "min_width": null,
            "object_fit": null,
            "object_position": null,
            "order": null,
            "overflow": null,
            "overflow_x": null,
            "overflow_y": null,
            "padding": null,
            "right": null,
            "top": null,
            "visibility": null,
            "width": "50%"
          }
        },
        "789f64151979445fafed17c5a949aa20": {
          "model_module": "@jupyter-widgets/base",
          "model_name": "LayoutModel",
          "model_module_version": "1.2.0",
          "state": {
            "_model_module": "@jupyter-widgets/base",
            "_model_module_version": "1.2.0",
            "_model_name": "LayoutModel",
            "_view_count": null,
            "_view_module": "@jupyter-widgets/base",
            "_view_module_version": "1.2.0",
            "_view_name": "LayoutView",
            "align_content": null,
            "align_items": null,
            "align_self": null,
            "border": null,
            "bottom": null,
            "display": null,
            "flex": null,
            "flex_flow": null,
            "grid_area": null,
            "grid_auto_columns": null,
            "grid_auto_flow": null,
            "grid_auto_rows": null,
            "grid_column": null,
            "grid_gap": null,
            "grid_row": null,
            "grid_template_areas": null,
            "grid_template_columns": null,
            "grid_template_rows": null,
            "height": null,
            "justify_content": null,
            "justify_items": null,
            "left": null,
            "margin": null,
            "max_height": null,
            "max_width": null,
            "min_height": null,
            "min_width": null,
            "object_fit": null,
            "object_position": null,
            "order": null,
            "overflow": null,
            "overflow_x": null,
            "overflow_y": null,
            "padding": null,
            "right": null,
            "top": null,
            "visibility": null,
            "width": null
          }
        },
        "6385d6aff9ea4d56a18cb6752f9d0a9d": {
          "model_module": "@jupyter-widgets/controls",
          "model_name": "DescriptionStyleModel",
          "model_module_version": "1.5.0",
          "state": {
            "_model_module": "@jupyter-widgets/controls",
            "_model_module_version": "1.5.0",
            "_model_name": "DescriptionStyleModel",
            "_view_count": null,
            "_view_module": "@jupyter-widgets/base",
            "_view_module_version": "1.2.0",
            "_view_name": "StyleView",
            "description_width": ""
          }
        },
        "d90d0589ef504cd18d4e10d971c68db0": {
          "model_module": "@jupyter-widgets/base",
          "model_name": "LayoutModel",
          "model_module_version": "1.2.0",
          "state": {
            "_model_module": "@jupyter-widgets/base",
            "_model_module_version": "1.2.0",
            "_model_name": "LayoutModel",
            "_view_count": null,
            "_view_module": "@jupyter-widgets/base",
            "_view_module_version": "1.2.0",
            "_view_name": "LayoutView",
            "align_content": null,
            "align_items": null,
            "align_self": null,
            "border": null,
            "bottom": null,
            "display": null,
            "flex": null,
            "flex_flow": null,
            "grid_area": null,
            "grid_auto_columns": null,
            "grid_auto_flow": null,
            "grid_auto_rows": null,
            "grid_column": null,
            "grid_gap": null,
            "grid_row": null,
            "grid_template_areas": null,
            "grid_template_columns": null,
            "grid_template_rows": null,
            "height": null,
            "justify_content": null,
            "justify_items": null,
            "left": null,
            "margin": null,
            "max_height": null,
            "max_width": null,
            "min_height": null,
            "min_width": null,
            "object_fit": null,
            "object_position": null,
            "order": null,
            "overflow": null,
            "overflow_x": null,
            "overflow_y": null,
            "padding": null,
            "right": null,
            "top": null,
            "visibility": null,
            "width": null
          }
        },
        "e6781e815b194695a60eed4ee79e033c": {
          "model_module": "@jupyter-widgets/controls",
          "model_name": "DescriptionStyleModel",
          "model_module_version": "1.5.0",
          "state": {
            "_model_module": "@jupyter-widgets/controls",
            "_model_module_version": "1.5.0",
            "_model_name": "DescriptionStyleModel",
            "_view_count": null,
            "_view_module": "@jupyter-widgets/base",
            "_view_module_version": "1.2.0",
            "_view_name": "StyleView",
            "description_width": ""
          }
        },
        "1adaa40570e84bafbb43c629128ff324": {
          "model_module": "@jupyter-widgets/base",
          "model_name": "LayoutModel",
          "model_module_version": "1.2.0",
          "state": {
            "_model_module": "@jupyter-widgets/base",
            "_model_module_version": "1.2.0",
            "_model_name": "LayoutModel",
            "_view_count": null,
            "_view_module": "@jupyter-widgets/base",
            "_view_module_version": "1.2.0",
            "_view_name": "LayoutView",
            "align_content": null,
            "align_items": null,
            "align_self": null,
            "border": null,
            "bottom": null,
            "display": null,
            "flex": null,
            "flex_flow": null,
            "grid_area": null,
            "grid_auto_columns": null,
            "grid_auto_flow": null,
            "grid_auto_rows": null,
            "grid_column": null,
            "grid_gap": null,
            "grid_row": null,
            "grid_template_areas": null,
            "grid_template_columns": null,
            "grid_template_rows": null,
            "height": null,
            "justify_content": null,
            "justify_items": null,
            "left": null,
            "margin": null,
            "max_height": null,
            "max_width": null,
            "min_height": null,
            "min_width": null,
            "object_fit": null,
            "object_position": null,
            "order": null,
            "overflow": null,
            "overflow_x": null,
            "overflow_y": null,
            "padding": null,
            "right": null,
            "top": null,
            "visibility": null,
            "width": null
          }
        },
        "8dfeb6a6f9d14fcfbc23d86708062a64": {
          "model_module": "@jupyter-widgets/controls",
          "model_name": "ButtonStyleModel",
          "model_module_version": "1.5.0",
          "state": {
            "_model_module": "@jupyter-widgets/controls",
            "_model_module_version": "1.5.0",
            "_model_name": "ButtonStyleModel",
            "_view_count": null,
            "_view_module": "@jupyter-widgets/base",
            "_view_module_version": "1.2.0",
            "_view_name": "StyleView",
            "button_color": null,
            "font_weight": ""
          }
        },
        "69af8579c5f943a3a228fc169e987deb": {
          "model_module": "@jupyter-widgets/base",
          "model_name": "LayoutModel",
          "model_module_version": "1.2.0",
          "state": {
            "_model_module": "@jupyter-widgets/base",
            "_model_module_version": "1.2.0",
            "_model_name": "LayoutModel",
            "_view_count": null,
            "_view_module": "@jupyter-widgets/base",
            "_view_module_version": "1.2.0",
            "_view_name": "LayoutView",
            "align_content": null,
            "align_items": null,
            "align_self": null,
            "border": null,
            "bottom": null,
            "display": null,
            "flex": null,
            "flex_flow": null,
            "grid_area": null,
            "grid_auto_columns": null,
            "grid_auto_flow": null,
            "grid_auto_rows": null,
            "grid_column": null,
            "grid_gap": null,
            "grid_row": null,
            "grid_template_areas": null,
            "grid_template_columns": null,
            "grid_template_rows": null,
            "height": null,
            "justify_content": null,
            "justify_items": null,
            "left": null,
            "margin": null,
            "max_height": null,
            "max_width": null,
            "min_height": null,
            "min_width": null,
            "object_fit": null,
            "object_position": null,
            "order": null,
            "overflow": null,
            "overflow_x": null,
            "overflow_y": null,
            "padding": null,
            "right": null,
            "top": null,
            "visibility": null,
            "width": null
          }
        },
        "5462d672097148b7b163042f71b870a2": {
          "model_module": "@jupyter-widgets/controls",
          "model_name": "DescriptionStyleModel",
          "model_module_version": "1.5.0",
          "state": {
            "_model_module": "@jupyter-widgets/controls",
            "_model_module_version": "1.5.0",
            "_model_name": "DescriptionStyleModel",
            "_view_count": null,
            "_view_module": "@jupyter-widgets/base",
            "_view_module_version": "1.2.0",
            "_view_name": "StyleView",
            "description_width": ""
          }
        },
        "cfa6f52ab6c54e3790d6b9e5266efb21": {
          "model_module": "@jupyter-widgets/base",
          "model_name": "LayoutModel",
          "model_module_version": "1.2.0",
          "state": {
            "_model_module": "@jupyter-widgets/base",
            "_model_module_version": "1.2.0",
            "_model_name": "LayoutModel",
            "_view_count": null,
            "_view_module": "@jupyter-widgets/base",
            "_view_module_version": "1.2.0",
            "_view_name": "LayoutView",
            "align_content": null,
            "align_items": null,
            "align_self": null,
            "border": null,
            "bottom": null,
            "display": null,
            "flex": null,
            "flex_flow": null,
            "grid_area": null,
            "grid_auto_columns": null,
            "grid_auto_flow": null,
            "grid_auto_rows": null,
            "grid_column": null,
            "grid_gap": null,
            "grid_row": null,
            "grid_template_areas": null,
            "grid_template_columns": null,
            "grid_template_rows": null,
            "height": null,
            "justify_content": null,
            "justify_items": null,
            "left": null,
            "margin": null,
            "max_height": null,
            "max_width": null,
            "min_height": null,
            "min_width": null,
            "object_fit": null,
            "object_position": null,
            "order": null,
            "overflow": null,
            "overflow_x": null,
            "overflow_y": null,
            "padding": null,
            "right": null,
            "top": null,
            "visibility": null,
            "width": null
          }
        },
        "a9d851734c0f4a8eb37c464505adc10f": {
          "model_module": "@jupyter-widgets/controls",
          "model_name": "ButtonStyleModel",
          "model_module_version": "1.5.0",
          "state": {
            "_model_module": "@jupyter-widgets/controls",
            "_model_module_version": "1.5.0",
            "_model_name": "ButtonStyleModel",
            "_view_count": null,
            "_view_module": "@jupyter-widgets/base",
            "_view_module_version": "1.2.0",
            "_view_name": "StyleView",
            "button_color": null,
            "font_weight": ""
          }
        },
        "b16d1caae85447daaaf09c9bce7c82e5": {
          "model_module": "@jupyter-widgets/controls",
          "model_name": "HBoxModel",
          "model_module_version": "1.5.0",
          "state": {
            "_dom_classes": [],
            "_model_module": "@jupyter-widgets/controls",
            "_model_module_version": "1.5.0",
            "_model_name": "HBoxModel",
            "_view_count": null,
            "_view_module": "@jupyter-widgets/controls",
            "_view_module_version": "1.5.0",
            "_view_name": "HBoxView",
            "box_style": "",
            "children": [
              "IPY_MODEL_1e4173c151c64287b7278762e2bb330b",
              "IPY_MODEL_9490dd86a5c844ed829b25fd3543a266",
              "IPY_MODEL_9f4c21957a7c4d699520a42370f5595a"
            ],
            "layout": "IPY_MODEL_671bf040a86545c7a98597e7a7a2eab6"
          }
        },
        "1e4173c151c64287b7278762e2bb330b": {
          "model_module": "@jupyter-widgets/controls",
          "model_name": "HTMLModel",
          "model_module_version": "1.5.0",
          "state": {
            "_dom_classes": [],
            "_model_module": "@jupyter-widgets/controls",
            "_model_module_version": "1.5.0",
            "_model_name": "HTMLModel",
            "_view_count": null,
            "_view_module": "@jupyter-widgets/controls",
            "_view_module_version": "1.5.0",
            "_view_name": "HTMLView",
            "description": "",
            "description_tooltip": null,
            "layout": "IPY_MODEL_92de4f1f756b4edbb435b2194737197d",
            "placeholder": "​",
            "style": "IPY_MODEL_304c8a0a3e7945c688e1f079b43a78f8",
            "value": "Downloading data files: 100%"
          }
        },
        "9490dd86a5c844ed829b25fd3543a266": {
          "model_module": "@jupyter-widgets/controls",
          "model_name": "FloatProgressModel",
          "model_module_version": "1.5.0",
          "state": {
            "_dom_classes": [],
            "_model_module": "@jupyter-widgets/controls",
            "_model_module_version": "1.5.0",
            "_model_name": "FloatProgressModel",
            "_view_count": null,
            "_view_module": "@jupyter-widgets/controls",
            "_view_module_version": "1.5.0",
            "_view_name": "ProgressView",
            "bar_style": "success",
            "description": "",
            "description_tooltip": null,
            "layout": "IPY_MODEL_a7665a95f92b444683b64f2addf49a5c",
            "max": 2,
            "min": 0,
            "orientation": "horizontal",
            "style": "IPY_MODEL_6f2f84b15ea54a2283b40b856282c45f",
            "value": 2
          }
        },
        "9f4c21957a7c4d699520a42370f5595a": {
          "model_module": "@jupyter-widgets/controls",
          "model_name": "HTMLModel",
          "model_module_version": "1.5.0",
          "state": {
            "_dom_classes": [],
            "_model_module": "@jupyter-widgets/controls",
            "_model_module_version": "1.5.0",
            "_model_name": "HTMLModel",
            "_view_count": null,
            "_view_module": "@jupyter-widgets/controls",
            "_view_module_version": "1.5.0",
            "_view_name": "HTMLView",
            "description": "",
            "description_tooltip": null,
            "layout": "IPY_MODEL_9bf457113a594760bf7fa50cd094a815",
            "placeholder": "​",
            "style": "IPY_MODEL_ce288afa9ddc4c8eb720d0251662aa04",
            "value": " 2/2 [00:02&lt;00:00,  1.20s/it]"
          }
        },
        "671bf040a86545c7a98597e7a7a2eab6": {
          "model_module": "@jupyter-widgets/base",
          "model_name": "LayoutModel",
          "model_module_version": "1.2.0",
          "state": {
            "_model_module": "@jupyter-widgets/base",
            "_model_module_version": "1.2.0",
            "_model_name": "LayoutModel",
            "_view_count": null,
            "_view_module": "@jupyter-widgets/base",
            "_view_module_version": "1.2.0",
            "_view_name": "LayoutView",
            "align_content": null,
            "align_items": null,
            "align_self": null,
            "border": null,
            "bottom": null,
            "display": null,
            "flex": null,
            "flex_flow": null,
            "grid_area": null,
            "grid_auto_columns": null,
            "grid_auto_flow": null,
            "grid_auto_rows": null,
            "grid_column": null,
            "grid_gap": null,
            "grid_row": null,
            "grid_template_areas": null,
            "grid_template_columns": null,
            "grid_template_rows": null,
            "height": null,
            "justify_content": null,
            "justify_items": null,
            "left": null,
            "margin": null,
            "max_height": null,
            "max_width": null,
            "min_height": null,
            "min_width": null,
            "object_fit": null,
            "object_position": null,
            "order": null,
            "overflow": null,
            "overflow_x": null,
            "overflow_y": null,
            "padding": null,
            "right": null,
            "top": null,
            "visibility": null,
            "width": null
          }
        },
        "92de4f1f756b4edbb435b2194737197d": {
          "model_module": "@jupyter-widgets/base",
          "model_name": "LayoutModel",
          "model_module_version": "1.2.0",
          "state": {
            "_model_module": "@jupyter-widgets/base",
            "_model_module_version": "1.2.0",
            "_model_name": "LayoutModel",
            "_view_count": null,
            "_view_module": "@jupyter-widgets/base",
            "_view_module_version": "1.2.0",
            "_view_name": "LayoutView",
            "align_content": null,
            "align_items": null,
            "align_self": null,
            "border": null,
            "bottom": null,
            "display": null,
            "flex": null,
            "flex_flow": null,
            "grid_area": null,
            "grid_auto_columns": null,
            "grid_auto_flow": null,
            "grid_auto_rows": null,
            "grid_column": null,
            "grid_gap": null,
            "grid_row": null,
            "grid_template_areas": null,
            "grid_template_columns": null,
            "grid_template_rows": null,
            "height": null,
            "justify_content": null,
            "justify_items": null,
            "left": null,
            "margin": null,
            "max_height": null,
            "max_width": null,
            "min_height": null,
            "min_width": null,
            "object_fit": null,
            "object_position": null,
            "order": null,
            "overflow": null,
            "overflow_x": null,
            "overflow_y": null,
            "padding": null,
            "right": null,
            "top": null,
            "visibility": null,
            "width": null
          }
        },
        "304c8a0a3e7945c688e1f079b43a78f8": {
          "model_module": "@jupyter-widgets/controls",
          "model_name": "DescriptionStyleModel",
          "model_module_version": "1.5.0",
          "state": {
            "_model_module": "@jupyter-widgets/controls",
            "_model_module_version": "1.5.0",
            "_model_name": "DescriptionStyleModel",
            "_view_count": null,
            "_view_module": "@jupyter-widgets/base",
            "_view_module_version": "1.2.0",
            "_view_name": "StyleView",
            "description_width": ""
          }
        },
        "a7665a95f92b444683b64f2addf49a5c": {
          "model_module": "@jupyter-widgets/base",
          "model_name": "LayoutModel",
          "model_module_version": "1.2.0",
          "state": {
            "_model_module": "@jupyter-widgets/base",
            "_model_module_version": "1.2.0",
            "_model_name": "LayoutModel",
            "_view_count": null,
            "_view_module": "@jupyter-widgets/base",
            "_view_module_version": "1.2.0",
            "_view_name": "LayoutView",
            "align_content": null,
            "align_items": null,
            "align_self": null,
            "border": null,
            "bottom": null,
            "display": null,
            "flex": null,
            "flex_flow": null,
            "grid_area": null,
            "grid_auto_columns": null,
            "grid_auto_flow": null,
            "grid_auto_rows": null,
            "grid_column": null,
            "grid_gap": null,
            "grid_row": null,
            "grid_template_areas": null,
            "grid_template_columns": null,
            "grid_template_rows": null,
            "height": null,
            "justify_content": null,
            "justify_items": null,
            "left": null,
            "margin": null,
            "max_height": null,
            "max_width": null,
            "min_height": null,
            "min_width": null,
            "object_fit": null,
            "object_position": null,
            "order": null,
            "overflow": null,
            "overflow_x": null,
            "overflow_y": null,
            "padding": null,
            "right": null,
            "top": null,
            "visibility": null,
            "width": null
          }
        },
        "6f2f84b15ea54a2283b40b856282c45f": {
          "model_module": "@jupyter-widgets/controls",
          "model_name": "ProgressStyleModel",
          "model_module_version": "1.5.0",
          "state": {
            "_model_module": "@jupyter-widgets/controls",
            "_model_module_version": "1.5.0",
            "_model_name": "ProgressStyleModel",
            "_view_count": null,
            "_view_module": "@jupyter-widgets/base",
            "_view_module_version": "1.2.0",
            "_view_name": "StyleView",
            "bar_color": null,
            "description_width": ""
          }
        },
        "9bf457113a594760bf7fa50cd094a815": {
          "model_module": "@jupyter-widgets/base",
          "model_name": "LayoutModel",
          "model_module_version": "1.2.0",
          "state": {
            "_model_module": "@jupyter-widgets/base",
            "_model_module_version": "1.2.0",
            "_model_name": "LayoutModel",
            "_view_count": null,
            "_view_module": "@jupyter-widgets/base",
            "_view_module_version": "1.2.0",
            "_view_name": "LayoutView",
            "align_content": null,
            "align_items": null,
            "align_self": null,
            "border": null,
            "bottom": null,
            "display": null,
            "flex": null,
            "flex_flow": null,
            "grid_area": null,
            "grid_auto_columns": null,
            "grid_auto_flow": null,
            "grid_auto_rows": null,
            "grid_column": null,
            "grid_gap": null,
            "grid_row": null,
            "grid_template_areas": null,
            "grid_template_columns": null,
            "grid_template_rows": null,
            "height": null,
            "justify_content": null,
            "justify_items": null,
            "left": null,
            "margin": null,
            "max_height": null,
            "max_width": null,
            "min_height": null,
            "min_width": null,
            "object_fit": null,
            "object_position": null,
            "order": null,
            "overflow": null,
            "overflow_x": null,
            "overflow_y": null,
            "padding": null,
            "right": null,
            "top": null,
            "visibility": null,
            "width": null
          }
        },
        "ce288afa9ddc4c8eb720d0251662aa04": {
          "model_module": "@jupyter-widgets/controls",
          "model_name": "DescriptionStyleModel",
          "model_module_version": "1.5.0",
          "state": {
            "_model_module": "@jupyter-widgets/controls",
            "_model_module_version": "1.5.0",
            "_model_name": "DescriptionStyleModel",
            "_view_count": null,
            "_view_module": "@jupyter-widgets/base",
            "_view_module_version": "1.2.0",
            "_view_name": "StyleView",
            "description_width": ""
          }
        },
        "e1aa961f6a59425c9eed8390222dbb0b": {
          "model_module": "@jupyter-widgets/controls",
          "model_name": "HBoxModel",
          "model_module_version": "1.5.0",
          "state": {
            "_dom_classes": [],
            "_model_module": "@jupyter-widgets/controls",
            "_model_module_version": "1.5.0",
            "_model_name": "HBoxModel",
            "_view_count": null,
            "_view_module": "@jupyter-widgets/controls",
            "_view_module_version": "1.5.0",
            "_view_name": "HBoxView",
            "box_style": "",
            "children": [
              "IPY_MODEL_bfc1f72f2e1644459a826eb770ba5abd",
              "IPY_MODEL_4da6bb3475984e8f892b0faeb9b1dda0",
              "IPY_MODEL_49e25ab284cd4f1c944a90073c0a0964"
            ],
            "layout": "IPY_MODEL_c3a329f04a81473199d979c999a277f7"
          }
        },
        "bfc1f72f2e1644459a826eb770ba5abd": {
          "model_module": "@jupyter-widgets/controls",
          "model_name": "HTMLModel",
          "model_module_version": "1.5.0",
          "state": {
            "_dom_classes": [],
            "_model_module": "@jupyter-widgets/controls",
            "_model_module_version": "1.5.0",
            "_model_name": "HTMLModel",
            "_view_count": null,
            "_view_module": "@jupyter-widgets/controls",
            "_view_module_version": "1.5.0",
            "_view_name": "HTMLView",
            "description": "",
            "description_tooltip": null,
            "layout": "IPY_MODEL_d36885fea6804ec49d446d9ed7ad500d",
            "placeholder": "​",
            "style": "IPY_MODEL_5018b508dc6f4375bb7b39a414ffe75e",
            "value": "Downloading data: 100%"
          }
        },
        "4da6bb3475984e8f892b0faeb9b1dda0": {
          "model_module": "@jupyter-widgets/controls",
          "model_name": "FloatProgressModel",
          "model_module_version": "1.5.0",
          "state": {
            "_dom_classes": [],
            "_model_module": "@jupyter-widgets/controls",
            "_model_module_version": "1.5.0",
            "_model_name": "FloatProgressModel",
            "_view_count": null,
            "_view_module": "@jupyter-widgets/controls",
            "_view_module_version": "1.5.0",
            "_view_name": "ProgressView",
            "bar_style": "success",
            "description": "",
            "description_tooltip": null,
            "layout": "IPY_MODEL_4f32305df16c4bc69d8974e5f707ee9a",
            "max": 2598555,
            "min": 0,
            "orientation": "horizontal",
            "style": "IPY_MODEL_dfba1a611fe840fc9af96728bb3051ea",
            "value": 2598555
          }
        },
        "49e25ab284cd4f1c944a90073c0a0964": {
          "model_module": "@jupyter-widgets/controls",
          "model_name": "HTMLModel",
          "model_module_version": "1.5.0",
          "state": {
            "_dom_classes": [],
            "_model_module": "@jupyter-widgets/controls",
            "_model_module_version": "1.5.0",
            "_model_name": "HTMLModel",
            "_view_count": null,
            "_view_module": "@jupyter-widgets/controls",
            "_view_module_version": "1.5.0",
            "_view_name": "HTMLView",
            "description": "",
            "description_tooltip": null,
            "layout": "IPY_MODEL_2a30baf47fb14f05b5cf158126f55f88",
            "placeholder": "​",
            "style": "IPY_MODEL_de9ce8dc2b944260938d455434271d03",
            "value": " 2.60M/2.60M [00:00&lt;00:00, 5.50MB/s]"
          }
        },
        "c3a329f04a81473199d979c999a277f7": {
          "model_module": "@jupyter-widgets/base",
          "model_name": "LayoutModel",
          "model_module_version": "1.2.0",
          "state": {
            "_model_module": "@jupyter-widgets/base",
            "_model_module_version": "1.2.0",
            "_model_name": "LayoutModel",
            "_view_count": null,
            "_view_module": "@jupyter-widgets/base",
            "_view_module_version": "1.2.0",
            "_view_name": "LayoutView",
            "align_content": null,
            "align_items": null,
            "align_self": null,
            "border": null,
            "bottom": null,
            "display": null,
            "flex": null,
            "flex_flow": null,
            "grid_area": null,
            "grid_auto_columns": null,
            "grid_auto_flow": null,
            "grid_auto_rows": null,
            "grid_column": null,
            "grid_gap": null,
            "grid_row": null,
            "grid_template_areas": null,
            "grid_template_columns": null,
            "grid_template_rows": null,
            "height": null,
            "justify_content": null,
            "justify_items": null,
            "left": null,
            "margin": null,
            "max_height": null,
            "max_width": null,
            "min_height": null,
            "min_width": null,
            "object_fit": null,
            "object_position": null,
            "order": null,
            "overflow": null,
            "overflow_x": null,
            "overflow_y": null,
            "padding": null,
            "right": null,
            "top": null,
            "visibility": null,
            "width": null
          }
        },
        "d36885fea6804ec49d446d9ed7ad500d": {
          "model_module": "@jupyter-widgets/base",
          "model_name": "LayoutModel",
          "model_module_version": "1.2.0",
          "state": {
            "_model_module": "@jupyter-widgets/base",
            "_model_module_version": "1.2.0",
            "_model_name": "LayoutModel",
            "_view_count": null,
            "_view_module": "@jupyter-widgets/base",
            "_view_module_version": "1.2.0",
            "_view_name": "LayoutView",
            "align_content": null,
            "align_items": null,
            "align_self": null,
            "border": null,
            "bottom": null,
            "display": null,
            "flex": null,
            "flex_flow": null,
            "grid_area": null,
            "grid_auto_columns": null,
            "grid_auto_flow": null,
            "grid_auto_rows": null,
            "grid_column": null,
            "grid_gap": null,
            "grid_row": null,
            "grid_template_areas": null,
            "grid_template_columns": null,
            "grid_template_rows": null,
            "height": null,
            "justify_content": null,
            "justify_items": null,
            "left": null,
            "margin": null,
            "max_height": null,
            "max_width": null,
            "min_height": null,
            "min_width": null,
            "object_fit": null,
            "object_position": null,
            "order": null,
            "overflow": null,
            "overflow_x": null,
            "overflow_y": null,
            "padding": null,
            "right": null,
            "top": null,
            "visibility": null,
            "width": null
          }
        },
        "5018b508dc6f4375bb7b39a414ffe75e": {
          "model_module": "@jupyter-widgets/controls",
          "model_name": "DescriptionStyleModel",
          "model_module_version": "1.5.0",
          "state": {
            "_model_module": "@jupyter-widgets/controls",
            "_model_module_version": "1.5.0",
            "_model_name": "DescriptionStyleModel",
            "_view_count": null,
            "_view_module": "@jupyter-widgets/base",
            "_view_module_version": "1.2.0",
            "_view_name": "StyleView",
            "description_width": ""
          }
        },
        "4f32305df16c4bc69d8974e5f707ee9a": {
          "model_module": "@jupyter-widgets/base",
          "model_name": "LayoutModel",
          "model_module_version": "1.2.0",
          "state": {
            "_model_module": "@jupyter-widgets/base",
            "_model_module_version": "1.2.0",
            "_model_name": "LayoutModel",
            "_view_count": null,
            "_view_module": "@jupyter-widgets/base",
            "_view_module_version": "1.2.0",
            "_view_name": "LayoutView",
            "align_content": null,
            "align_items": null,
            "align_self": null,
            "border": null,
            "bottom": null,
            "display": null,
            "flex": null,
            "flex_flow": null,
            "grid_area": null,
            "grid_auto_columns": null,
            "grid_auto_flow": null,
            "grid_auto_rows": null,
            "grid_column": null,
            "grid_gap": null,
            "grid_row": null,
            "grid_template_areas": null,
            "grid_template_columns": null,
            "grid_template_rows": null,
            "height": null,
            "justify_content": null,
            "justify_items": null,
            "left": null,
            "margin": null,
            "max_height": null,
            "max_width": null,
            "min_height": null,
            "min_width": null,
            "object_fit": null,
            "object_position": null,
            "order": null,
            "overflow": null,
            "overflow_x": null,
            "overflow_y": null,
            "padding": null,
            "right": null,
            "top": null,
            "visibility": null,
            "width": null
          }
        },
        "dfba1a611fe840fc9af96728bb3051ea": {
          "model_module": "@jupyter-widgets/controls",
          "model_name": "ProgressStyleModel",
          "model_module_version": "1.5.0",
          "state": {
            "_model_module": "@jupyter-widgets/controls",
            "_model_module_version": "1.5.0",
            "_model_name": "ProgressStyleModel",
            "_view_count": null,
            "_view_module": "@jupyter-widgets/base",
            "_view_module_version": "1.2.0",
            "_view_name": "StyleView",
            "bar_color": null,
            "description_width": ""
          }
        },
        "2a30baf47fb14f05b5cf158126f55f88": {
          "model_module": "@jupyter-widgets/base",
          "model_name": "LayoutModel",
          "model_module_version": "1.2.0",
          "state": {
            "_model_module": "@jupyter-widgets/base",
            "_model_module_version": "1.2.0",
            "_model_name": "LayoutModel",
            "_view_count": null,
            "_view_module": "@jupyter-widgets/base",
            "_view_module_version": "1.2.0",
            "_view_name": "LayoutView",
            "align_content": null,
            "align_items": null,
            "align_self": null,
            "border": null,
            "bottom": null,
            "display": null,
            "flex": null,
            "flex_flow": null,
            "grid_area": null,
            "grid_auto_columns": null,
            "grid_auto_flow": null,
            "grid_auto_rows": null,
            "grid_column": null,
            "grid_gap": null,
            "grid_row": null,
            "grid_template_areas": null,
            "grid_template_columns": null,
            "grid_template_rows": null,
            "height": null,
            "justify_content": null,
            "justify_items": null,
            "left": null,
            "margin": null,
            "max_height": null,
            "max_width": null,
            "min_height": null,
            "min_width": null,
            "object_fit": null,
            "object_position": null,
            "order": null,
            "overflow": null,
            "overflow_x": null,
            "overflow_y": null,
            "padding": null,
            "right": null,
            "top": null,
            "visibility": null,
            "width": null
          }
        },
        "de9ce8dc2b944260938d455434271d03": {
          "model_module": "@jupyter-widgets/controls",
          "model_name": "DescriptionStyleModel",
          "model_module_version": "1.5.0",
          "state": {
            "_model_module": "@jupyter-widgets/controls",
            "_model_module_version": "1.5.0",
            "_model_name": "DescriptionStyleModel",
            "_view_count": null,
            "_view_module": "@jupyter-widgets/base",
            "_view_module_version": "1.2.0",
            "_view_name": "StyleView",
            "description_width": ""
          }
        },
        "8f13fd6f79004dca8cf1548bb1ef94e9": {
          "model_module": "@jupyter-widgets/controls",
          "model_name": "HBoxModel",
          "model_module_version": "1.5.0",
          "state": {
            "_dom_classes": [],
            "_model_module": "@jupyter-widgets/controls",
            "_model_module_version": "1.5.0",
            "_model_name": "HBoxModel",
            "_view_count": null,
            "_view_module": "@jupyter-widgets/controls",
            "_view_module_version": "1.5.0",
            "_view_name": "HBoxView",
            "box_style": "",
            "children": [
              "IPY_MODEL_ebabe7a83eb04379b28b7ab44ca1e329",
              "IPY_MODEL_d859314641ef4d1e8fe4a25ea9769f68",
              "IPY_MODEL_db63da58c63045338aefbd4278bbe6dd"
            ],
            "layout": "IPY_MODEL_0e12b6a1492e46b0a93888eb9c30e2c5"
          }
        },
        "ebabe7a83eb04379b28b7ab44ca1e329": {
          "model_module": "@jupyter-widgets/controls",
          "model_name": "HTMLModel",
          "model_module_version": "1.5.0",
          "state": {
            "_dom_classes": [],
            "_model_module": "@jupyter-widgets/controls",
            "_model_module_version": "1.5.0",
            "_model_name": "HTMLModel",
            "_view_count": null,
            "_view_module": "@jupyter-widgets/controls",
            "_view_module_version": "1.5.0",
            "_view_name": "HTMLView",
            "description": "",
            "description_tooltip": null,
            "layout": "IPY_MODEL_719c145cacb04d9e911c52793bfbf6e8",
            "placeholder": "​",
            "style": "IPY_MODEL_f0741eeb99e34044aec868ac0b29e5be",
            "value": "Downloading data: 100%"
          }
        },
        "d859314641ef4d1e8fe4a25ea9769f68": {
          "model_module": "@jupyter-widgets/controls",
          "model_name": "FloatProgressModel",
          "model_module_version": "1.5.0",
          "state": {
            "_dom_classes": [],
            "_model_module": "@jupyter-widgets/controls",
            "_model_module_version": "1.5.0",
            "_model_name": "FloatProgressModel",
            "_view_count": null,
            "_view_module": "@jupyter-widgets/controls",
            "_view_module_version": "1.5.0",
            "_view_name": "ProgressView",
            "bar_style": "success",
            "description": "",
            "description_tooltip": null,
            "layout": "IPY_MODEL_5ed8e23bec3f4f03b6acf41a254708b0",
            "max": 278579,
            "min": 0,
            "orientation": "horizontal",
            "style": "IPY_MODEL_63b59681bb9a490f95ee0850798e554c",
            "value": 278579
          }
        },
        "db63da58c63045338aefbd4278bbe6dd": {
          "model_module": "@jupyter-widgets/controls",
          "model_name": "HTMLModel",
          "model_module_version": "1.5.0",
          "state": {
            "_dom_classes": [],
            "_model_module": "@jupyter-widgets/controls",
            "_model_module_version": "1.5.0",
            "_model_name": "HTMLModel",
            "_view_count": null,
            "_view_module": "@jupyter-widgets/controls",
            "_view_module_version": "1.5.0",
            "_view_name": "HTMLView",
            "description": "",
            "description_tooltip": null,
            "layout": "IPY_MODEL_c178ccbd44004ec7b809848deec02483",
            "placeholder": "​",
            "style": "IPY_MODEL_70333b5c05c049e6834e6d55e9acc1ba",
            "value": " 279k/279k [00:00&lt;00:00, 672kB/s]"
          }
        },
        "0e12b6a1492e46b0a93888eb9c30e2c5": {
          "model_module": "@jupyter-widgets/base",
          "model_name": "LayoutModel",
          "model_module_version": "1.2.0",
          "state": {
            "_model_module": "@jupyter-widgets/base",
            "_model_module_version": "1.2.0",
            "_model_name": "LayoutModel",
            "_view_count": null,
            "_view_module": "@jupyter-widgets/base",
            "_view_module_version": "1.2.0",
            "_view_name": "LayoutView",
            "align_content": null,
            "align_items": null,
            "align_self": null,
            "border": null,
            "bottom": null,
            "display": null,
            "flex": null,
            "flex_flow": null,
            "grid_area": null,
            "grid_auto_columns": null,
            "grid_auto_flow": null,
            "grid_auto_rows": null,
            "grid_column": null,
            "grid_gap": null,
            "grid_row": null,
            "grid_template_areas": null,
            "grid_template_columns": null,
            "grid_template_rows": null,
            "height": null,
            "justify_content": null,
            "justify_items": null,
            "left": null,
            "margin": null,
            "max_height": null,
            "max_width": null,
            "min_height": null,
            "min_width": null,
            "object_fit": null,
            "object_position": null,
            "order": null,
            "overflow": null,
            "overflow_x": null,
            "overflow_y": null,
            "padding": null,
            "right": null,
            "top": null,
            "visibility": null,
            "width": null
          }
        },
        "719c145cacb04d9e911c52793bfbf6e8": {
          "model_module": "@jupyter-widgets/base",
          "model_name": "LayoutModel",
          "model_module_version": "1.2.0",
          "state": {
            "_model_module": "@jupyter-widgets/base",
            "_model_module_version": "1.2.0",
            "_model_name": "LayoutModel",
            "_view_count": null,
            "_view_module": "@jupyter-widgets/base",
            "_view_module_version": "1.2.0",
            "_view_name": "LayoutView",
            "align_content": null,
            "align_items": null,
            "align_self": null,
            "border": null,
            "bottom": null,
            "display": null,
            "flex": null,
            "flex_flow": null,
            "grid_area": null,
            "grid_auto_columns": null,
            "grid_auto_flow": null,
            "grid_auto_rows": null,
            "grid_column": null,
            "grid_gap": null,
            "grid_row": null,
            "grid_template_areas": null,
            "grid_template_columns": null,
            "grid_template_rows": null,
            "height": null,
            "justify_content": null,
            "justify_items": null,
            "left": null,
            "margin": null,
            "max_height": null,
            "max_width": null,
            "min_height": null,
            "min_width": null,
            "object_fit": null,
            "object_position": null,
            "order": null,
            "overflow": null,
            "overflow_x": null,
            "overflow_y": null,
            "padding": null,
            "right": null,
            "top": null,
            "visibility": null,
            "width": null
          }
        },
        "f0741eeb99e34044aec868ac0b29e5be": {
          "model_module": "@jupyter-widgets/controls",
          "model_name": "DescriptionStyleModel",
          "model_module_version": "1.5.0",
          "state": {
            "_model_module": "@jupyter-widgets/controls",
            "_model_module_version": "1.5.0",
            "_model_name": "DescriptionStyleModel",
            "_view_count": null,
            "_view_module": "@jupyter-widgets/base",
            "_view_module_version": "1.2.0",
            "_view_name": "StyleView",
            "description_width": ""
          }
        },
        "5ed8e23bec3f4f03b6acf41a254708b0": {
          "model_module": "@jupyter-widgets/base",
          "model_name": "LayoutModel",
          "model_module_version": "1.2.0",
          "state": {
            "_model_module": "@jupyter-widgets/base",
            "_model_module_version": "1.2.0",
            "_model_name": "LayoutModel",
            "_view_count": null,
            "_view_module": "@jupyter-widgets/base",
            "_view_module_version": "1.2.0",
            "_view_name": "LayoutView",
            "align_content": null,
            "align_items": null,
            "align_self": null,
            "border": null,
            "bottom": null,
            "display": null,
            "flex": null,
            "flex_flow": null,
            "grid_area": null,
            "grid_auto_columns": null,
            "grid_auto_flow": null,
            "grid_auto_rows": null,
            "grid_column": null,
            "grid_gap": null,
            "grid_row": null,
            "grid_template_areas": null,
            "grid_template_columns": null,
            "grid_template_rows": null,
            "height": null,
            "justify_content": null,
            "justify_items": null,
            "left": null,
            "margin": null,
            "max_height": null,
            "max_width": null,
            "min_height": null,
            "min_width": null,
            "object_fit": null,
            "object_position": null,
            "order": null,
            "overflow": null,
            "overflow_x": null,
            "overflow_y": null,
            "padding": null,
            "right": null,
            "top": null,
            "visibility": null,
            "width": null
          }
        },
        "63b59681bb9a490f95ee0850798e554c": {
          "model_module": "@jupyter-widgets/controls",
          "model_name": "ProgressStyleModel",
          "model_module_version": "1.5.0",
          "state": {
            "_model_module": "@jupyter-widgets/controls",
            "_model_module_version": "1.5.0",
            "_model_name": "ProgressStyleModel",
            "_view_count": null,
            "_view_module": "@jupyter-widgets/base",
            "_view_module_version": "1.2.0",
            "_view_name": "StyleView",
            "bar_color": null,
            "description_width": ""
          }
        },
        "c178ccbd44004ec7b809848deec02483": {
          "model_module": "@jupyter-widgets/base",
          "model_name": "LayoutModel",
          "model_module_version": "1.2.0",
          "state": {
            "_model_module": "@jupyter-widgets/base",
            "_model_module_version": "1.2.0",
            "_model_name": "LayoutModel",
            "_view_count": null,
            "_view_module": "@jupyter-widgets/base",
            "_view_module_version": "1.2.0",
            "_view_name": "LayoutView",
            "align_content": null,
            "align_items": null,
            "align_self": null,
            "border": null,
            "bottom": null,
            "display": null,
            "flex": null,
            "flex_flow": null,
            "grid_area": null,
            "grid_auto_columns": null,
            "grid_auto_flow": null,
            "grid_auto_rows": null,
            "grid_column": null,
            "grid_gap": null,
            "grid_row": null,
            "grid_template_areas": null,
            "grid_template_columns": null,
            "grid_template_rows": null,
            "height": null,
            "justify_content": null,
            "justify_items": null,
            "left": null,
            "margin": null,
            "max_height": null,
            "max_width": null,
            "min_height": null,
            "min_width": null,
            "object_fit": null,
            "object_position": null,
            "order": null,
            "overflow": null,
            "overflow_x": null,
            "overflow_y": null,
            "padding": null,
            "right": null,
            "top": null,
            "visibility": null,
            "width": null
          }
        },
        "70333b5c05c049e6834e6d55e9acc1ba": {
          "model_module": "@jupyter-widgets/controls",
          "model_name": "DescriptionStyleModel",
          "model_module_version": "1.5.0",
          "state": {
            "_model_module": "@jupyter-widgets/controls",
            "_model_module_version": "1.5.0",
            "_model_name": "DescriptionStyleModel",
            "_view_count": null,
            "_view_module": "@jupyter-widgets/base",
            "_view_module_version": "1.2.0",
            "_view_name": "StyleView",
            "description_width": ""
          }
        },
        "78937178df4545a4b629286f575fac38": {
          "model_module": "@jupyter-widgets/controls",
          "model_name": "HBoxModel",
          "model_module_version": "1.5.0",
          "state": {
            "_dom_classes": [],
            "_model_module": "@jupyter-widgets/controls",
            "_model_module_version": "1.5.0",
            "_model_name": "HBoxModel",
            "_view_count": null,
            "_view_module": "@jupyter-widgets/controls",
            "_view_module_version": "1.5.0",
            "_view_name": "HBoxView",
            "box_style": "",
            "children": [
              "IPY_MODEL_e3dbeae657594a5a9878310c6c394724",
              "IPY_MODEL_7f551df5472745f09f6846c2b898bff9",
              "IPY_MODEL_f6fe45ea403d4a32bb671344db47d252"
            ],
            "layout": "IPY_MODEL_61f8b82f098d4f0ea79538b3b9f56f45"
          }
        },
        "e3dbeae657594a5a9878310c6c394724": {
          "model_module": "@jupyter-widgets/controls",
          "model_name": "HTMLModel",
          "model_module_version": "1.5.0",
          "state": {
            "_dom_classes": [],
            "_model_module": "@jupyter-widgets/controls",
            "_model_module_version": "1.5.0",
            "_model_name": "HTMLModel",
            "_view_count": null,
            "_view_module": "@jupyter-widgets/controls",
            "_view_module_version": "1.5.0",
            "_view_name": "HTMLView",
            "description": "",
            "description_tooltip": null,
            "layout": "IPY_MODEL_481f7d8cb6a74858aba8c1d6552f5aab",
            "placeholder": "​",
            "style": "IPY_MODEL_158c8c216a2247c486708070343fac1a",
            "value": "Extracting data files: 100%"
          }
        },
        "7f551df5472745f09f6846c2b898bff9": {
          "model_module": "@jupyter-widgets/controls",
          "model_name": "FloatProgressModel",
          "model_module_version": "1.5.0",
          "state": {
            "_dom_classes": [],
            "_model_module": "@jupyter-widgets/controls",
            "_model_module_version": "1.5.0",
            "_model_name": "FloatProgressModel",
            "_view_count": null,
            "_view_module": "@jupyter-widgets/controls",
            "_view_module_version": "1.5.0",
            "_view_name": "ProgressView",
            "bar_style": "success",
            "description": "",
            "description_tooltip": null,
            "layout": "IPY_MODEL_0eaa21fdc6a74749a366c82d515855c7",
            "max": 2,
            "min": 0,
            "orientation": "horizontal",
            "style": "IPY_MODEL_7512e18fb8694cce99301171fc3932f8",
            "value": 2
          }
        },
        "f6fe45ea403d4a32bb671344db47d252": {
          "model_module": "@jupyter-widgets/controls",
          "model_name": "HTMLModel",
          "model_module_version": "1.5.0",
          "state": {
            "_dom_classes": [],
            "_model_module": "@jupyter-widgets/controls",
            "_model_module_version": "1.5.0",
            "_model_name": "HTMLModel",
            "_view_count": null,
            "_view_module": "@jupyter-widgets/controls",
            "_view_module_version": "1.5.0",
            "_view_name": "HTMLView",
            "description": "",
            "description_tooltip": null,
            "layout": "IPY_MODEL_a672a4778b1f427e8443c3a42b53f00c",
            "placeholder": "​",
            "style": "IPY_MODEL_b95155e4a6c04f27b439cc8808c030f2",
            "value": " 2/2 [00:00&lt;00:00, 32.04it/s]"
          }
        },
        "61f8b82f098d4f0ea79538b3b9f56f45": {
          "model_module": "@jupyter-widgets/base",
          "model_name": "LayoutModel",
          "model_module_version": "1.2.0",
          "state": {
            "_model_module": "@jupyter-widgets/base",
            "_model_module_version": "1.2.0",
            "_model_name": "LayoutModel",
            "_view_count": null,
            "_view_module": "@jupyter-widgets/base",
            "_view_module_version": "1.2.0",
            "_view_name": "LayoutView",
            "align_content": null,
            "align_items": null,
            "align_self": null,
            "border": null,
            "bottom": null,
            "display": null,
            "flex": null,
            "flex_flow": null,
            "grid_area": null,
            "grid_auto_columns": null,
            "grid_auto_flow": null,
            "grid_auto_rows": null,
            "grid_column": null,
            "grid_gap": null,
            "grid_row": null,
            "grid_template_areas": null,
            "grid_template_columns": null,
            "grid_template_rows": null,
            "height": null,
            "justify_content": null,
            "justify_items": null,
            "left": null,
            "margin": null,
            "max_height": null,
            "max_width": null,
            "min_height": null,
            "min_width": null,
            "object_fit": null,
            "object_position": null,
            "order": null,
            "overflow": null,
            "overflow_x": null,
            "overflow_y": null,
            "padding": null,
            "right": null,
            "top": null,
            "visibility": null,
            "width": null
          }
        },
        "481f7d8cb6a74858aba8c1d6552f5aab": {
          "model_module": "@jupyter-widgets/base",
          "model_name": "LayoutModel",
          "model_module_version": "1.2.0",
          "state": {
            "_model_module": "@jupyter-widgets/base",
            "_model_module_version": "1.2.0",
            "_model_name": "LayoutModel",
            "_view_count": null,
            "_view_module": "@jupyter-widgets/base",
            "_view_module_version": "1.2.0",
            "_view_name": "LayoutView",
            "align_content": null,
            "align_items": null,
            "align_self": null,
            "border": null,
            "bottom": null,
            "display": null,
            "flex": null,
            "flex_flow": null,
            "grid_area": null,
            "grid_auto_columns": null,
            "grid_auto_flow": null,
            "grid_auto_rows": null,
            "grid_column": null,
            "grid_gap": null,
            "grid_row": null,
            "grid_template_areas": null,
            "grid_template_columns": null,
            "grid_template_rows": null,
            "height": null,
            "justify_content": null,
            "justify_items": null,
            "left": null,
            "margin": null,
            "max_height": null,
            "max_width": null,
            "min_height": null,
            "min_width": null,
            "object_fit": null,
            "object_position": null,
            "order": null,
            "overflow": null,
            "overflow_x": null,
            "overflow_y": null,
            "padding": null,
            "right": null,
            "top": null,
            "visibility": null,
            "width": null
          }
        },
        "158c8c216a2247c486708070343fac1a": {
          "model_module": "@jupyter-widgets/controls",
          "model_name": "DescriptionStyleModel",
          "model_module_version": "1.5.0",
          "state": {
            "_model_module": "@jupyter-widgets/controls",
            "_model_module_version": "1.5.0",
            "_model_name": "DescriptionStyleModel",
            "_view_count": null,
            "_view_module": "@jupyter-widgets/base",
            "_view_module_version": "1.2.0",
            "_view_name": "StyleView",
            "description_width": ""
          }
        },
        "0eaa21fdc6a74749a366c82d515855c7": {
          "model_module": "@jupyter-widgets/base",
          "model_name": "LayoutModel",
          "model_module_version": "1.2.0",
          "state": {
            "_model_module": "@jupyter-widgets/base",
            "_model_module_version": "1.2.0",
            "_model_name": "LayoutModel",
            "_view_count": null,
            "_view_module": "@jupyter-widgets/base",
            "_view_module_version": "1.2.0",
            "_view_name": "LayoutView",
            "align_content": null,
            "align_items": null,
            "align_self": null,
            "border": null,
            "bottom": null,
            "display": null,
            "flex": null,
            "flex_flow": null,
            "grid_area": null,
            "grid_auto_columns": null,
            "grid_auto_flow": null,
            "grid_auto_rows": null,
            "grid_column": null,
            "grid_gap": null,
            "grid_row": null,
            "grid_template_areas": null,
            "grid_template_columns": null,
            "grid_template_rows": null,
            "height": null,
            "justify_content": null,
            "justify_items": null,
            "left": null,
            "margin": null,
            "max_height": null,
            "max_width": null,
            "min_height": null,
            "min_width": null,
            "object_fit": null,
            "object_position": null,
            "order": null,
            "overflow": null,
            "overflow_x": null,
            "overflow_y": null,
            "padding": null,
            "right": null,
            "top": null,
            "visibility": null,
            "width": null
          }
        },
        "7512e18fb8694cce99301171fc3932f8": {
          "model_module": "@jupyter-widgets/controls",
          "model_name": "ProgressStyleModel",
          "model_module_version": "1.5.0",
          "state": {
            "_model_module": "@jupyter-widgets/controls",
            "_model_module_version": "1.5.0",
            "_model_name": "ProgressStyleModel",
            "_view_count": null,
            "_view_module": "@jupyter-widgets/base",
            "_view_module_version": "1.2.0",
            "_view_name": "StyleView",
            "bar_color": null,
            "description_width": ""
          }
        },
        "a672a4778b1f427e8443c3a42b53f00c": {
          "model_module": "@jupyter-widgets/base",
          "model_name": "LayoutModel",
          "model_module_version": "1.2.0",
          "state": {
            "_model_module": "@jupyter-widgets/base",
            "_model_module_version": "1.2.0",
            "_model_name": "LayoutModel",
            "_view_count": null,
            "_view_module": "@jupyter-widgets/base",
            "_view_module_version": "1.2.0",
            "_view_name": "LayoutView",
            "align_content": null,
            "align_items": null,
            "align_self": null,
            "border": null,
            "bottom": null,
            "display": null,
            "flex": null,
            "flex_flow": null,
            "grid_area": null,
            "grid_auto_columns": null,
            "grid_auto_flow": null,
            "grid_auto_rows": null,
            "grid_column": null,
            "grid_gap": null,
            "grid_row": null,
            "grid_template_areas": null,
            "grid_template_columns": null,
            "grid_template_rows": null,
            "height": null,
            "justify_content": null,
            "justify_items": null,
            "left": null,
            "margin": null,
            "max_height": null,
            "max_width": null,
            "min_height": null,
            "min_width": null,
            "object_fit": null,
            "object_position": null,
            "order": null,
            "overflow": null,
            "overflow_x": null,
            "overflow_y": null,
            "padding": null,
            "right": null,
            "top": null,
            "visibility": null,
            "width": null
          }
        },
        "b95155e4a6c04f27b439cc8808c030f2": {
          "model_module": "@jupyter-widgets/controls",
          "model_name": "DescriptionStyleModel",
          "model_module_version": "1.5.0",
          "state": {
            "_model_module": "@jupyter-widgets/controls",
            "_model_module_version": "1.5.0",
            "_model_name": "DescriptionStyleModel",
            "_view_count": null,
            "_view_module": "@jupyter-widgets/base",
            "_view_module_version": "1.2.0",
            "_view_name": "StyleView",
            "description_width": ""
          }
        },
        "b8e59717ae1b4db08634ec4cd3adaa32": {
          "model_module": "@jupyter-widgets/controls",
          "model_name": "HBoxModel",
          "model_module_version": "1.5.0",
          "state": {
            "_dom_classes": [],
            "_model_module": "@jupyter-widgets/controls",
            "_model_module_version": "1.5.0",
            "_model_name": "HBoxModel",
            "_view_count": null,
            "_view_module": "@jupyter-widgets/controls",
            "_view_module_version": "1.5.0",
            "_view_name": "HBoxView",
            "box_style": "",
            "children": [
              "IPY_MODEL_5be7b228ff204260b5b6ad10982ba66d",
              "IPY_MODEL_e2ac4203debf418c863f5b41891ba40a",
              "IPY_MODEL_f81ef2a394b04417a078a8ce939bde9b"
            ],
            "layout": "IPY_MODEL_54f75df5b841440c8d460b49e78d2146"
          }
        },
        "5be7b228ff204260b5b6ad10982ba66d": {
          "model_module": "@jupyter-widgets/controls",
          "model_name": "HTMLModel",
          "model_module_version": "1.5.0",
          "state": {
            "_dom_classes": [],
            "_model_module": "@jupyter-widgets/controls",
            "_model_module_version": "1.5.0",
            "_model_name": "HTMLModel",
            "_view_count": null,
            "_view_module": "@jupyter-widgets/controls",
            "_view_module_version": "1.5.0",
            "_view_name": "HTMLView",
            "description": "",
            "description_tooltip": null,
            "layout": "IPY_MODEL_409632fe957a4a53af46baaccaa97f96",
            "placeholder": "​",
            "style": "IPY_MODEL_b6d92f999f864ee6b6da743e34b3939d",
            "value": "100%"
          }
        },
        "e2ac4203debf418c863f5b41891ba40a": {
          "model_module": "@jupyter-widgets/controls",
          "model_name": "FloatProgressModel",
          "model_module_version": "1.5.0",
          "state": {
            "_dom_classes": [],
            "_model_module": "@jupyter-widgets/controls",
            "_model_module_version": "1.5.0",
            "_model_name": "FloatProgressModel",
            "_view_count": null,
            "_view_module": "@jupyter-widgets/controls",
            "_view_module_version": "1.5.0",
            "_view_name": "ProgressView",
            "bar_style": "success",
            "description": "",
            "description_tooltip": null,
            "layout": "IPY_MODEL_8bddc9e589184ff79e56659e148f13dc",
            "max": 2,
            "min": 0,
            "orientation": "horizontal",
            "style": "IPY_MODEL_43eccfa279cd4771b2a1e05b814d8438",
            "value": 2
          }
        },
        "f81ef2a394b04417a078a8ce939bde9b": {
          "model_module": "@jupyter-widgets/controls",
          "model_name": "HTMLModel",
          "model_module_version": "1.5.0",
          "state": {
            "_dom_classes": [],
            "_model_module": "@jupyter-widgets/controls",
            "_model_module_version": "1.5.0",
            "_model_name": "HTMLModel",
            "_view_count": null,
            "_view_module": "@jupyter-widgets/controls",
            "_view_module_version": "1.5.0",
            "_view_name": "HTMLView",
            "description": "",
            "description_tooltip": null,
            "layout": "IPY_MODEL_809c2db45cf34c5e94815623964d679f",
            "placeholder": "​",
            "style": "IPY_MODEL_d05a2aa86d864573a4308c6aee445333",
            "value": " 2/2 [00:00&lt;00:00, 36.17it/s]"
          }
        },
        "54f75df5b841440c8d460b49e78d2146": {
          "model_module": "@jupyter-widgets/base",
          "model_name": "LayoutModel",
          "model_module_version": "1.2.0",
          "state": {
            "_model_module": "@jupyter-widgets/base",
            "_model_module_version": "1.2.0",
            "_model_name": "LayoutModel",
            "_view_count": null,
            "_view_module": "@jupyter-widgets/base",
            "_view_module_version": "1.2.0",
            "_view_name": "LayoutView",
            "align_content": null,
            "align_items": null,
            "align_self": null,
            "border": null,
            "bottom": null,
            "display": null,
            "flex": null,
            "flex_flow": null,
            "grid_area": null,
            "grid_auto_columns": null,
            "grid_auto_flow": null,
            "grid_auto_rows": null,
            "grid_column": null,
            "grid_gap": null,
            "grid_row": null,
            "grid_template_areas": null,
            "grid_template_columns": null,
            "grid_template_rows": null,
            "height": null,
            "justify_content": null,
            "justify_items": null,
            "left": null,
            "margin": null,
            "max_height": null,
            "max_width": null,
            "min_height": null,
            "min_width": null,
            "object_fit": null,
            "object_position": null,
            "order": null,
            "overflow": null,
            "overflow_x": null,
            "overflow_y": null,
            "padding": null,
            "right": null,
            "top": null,
            "visibility": null,
            "width": null
          }
        },
        "409632fe957a4a53af46baaccaa97f96": {
          "model_module": "@jupyter-widgets/base",
          "model_name": "LayoutModel",
          "model_module_version": "1.2.0",
          "state": {
            "_model_module": "@jupyter-widgets/base",
            "_model_module_version": "1.2.0",
            "_model_name": "LayoutModel",
            "_view_count": null,
            "_view_module": "@jupyter-widgets/base",
            "_view_module_version": "1.2.0",
            "_view_name": "LayoutView",
            "align_content": null,
            "align_items": null,
            "align_self": null,
            "border": null,
            "bottom": null,
            "display": null,
            "flex": null,
            "flex_flow": null,
            "grid_area": null,
            "grid_auto_columns": null,
            "grid_auto_flow": null,
            "grid_auto_rows": null,
            "grid_column": null,
            "grid_gap": null,
            "grid_row": null,
            "grid_template_areas": null,
            "grid_template_columns": null,
            "grid_template_rows": null,
            "height": null,
            "justify_content": null,
            "justify_items": null,
            "left": null,
            "margin": null,
            "max_height": null,
            "max_width": null,
            "min_height": null,
            "min_width": null,
            "object_fit": null,
            "object_position": null,
            "order": null,
            "overflow": null,
            "overflow_x": null,
            "overflow_y": null,
            "padding": null,
            "right": null,
            "top": null,
            "visibility": null,
            "width": null
          }
        },
        "b6d92f999f864ee6b6da743e34b3939d": {
          "model_module": "@jupyter-widgets/controls",
          "model_name": "DescriptionStyleModel",
          "model_module_version": "1.5.0",
          "state": {
            "_model_module": "@jupyter-widgets/controls",
            "_model_module_version": "1.5.0",
            "_model_name": "DescriptionStyleModel",
            "_view_count": null,
            "_view_module": "@jupyter-widgets/base",
            "_view_module_version": "1.2.0",
            "_view_name": "StyleView",
            "description_width": ""
          }
        },
        "8bddc9e589184ff79e56659e148f13dc": {
          "model_module": "@jupyter-widgets/base",
          "model_name": "LayoutModel",
          "model_module_version": "1.2.0",
          "state": {
            "_model_module": "@jupyter-widgets/base",
            "_model_module_version": "1.2.0",
            "_model_name": "LayoutModel",
            "_view_count": null,
            "_view_module": "@jupyter-widgets/base",
            "_view_module_version": "1.2.0",
            "_view_name": "LayoutView",
            "align_content": null,
            "align_items": null,
            "align_self": null,
            "border": null,
            "bottom": null,
            "display": null,
            "flex": null,
            "flex_flow": null,
            "grid_area": null,
            "grid_auto_columns": null,
            "grid_auto_flow": null,
            "grid_auto_rows": null,
            "grid_column": null,
            "grid_gap": null,
            "grid_row": null,
            "grid_template_areas": null,
            "grid_template_columns": null,
            "grid_template_rows": null,
            "height": null,
            "justify_content": null,
            "justify_items": null,
            "left": null,
            "margin": null,
            "max_height": null,
            "max_width": null,
            "min_height": null,
            "min_width": null,
            "object_fit": null,
            "object_position": null,
            "order": null,
            "overflow": null,
            "overflow_x": null,
            "overflow_y": null,
            "padding": null,
            "right": null,
            "top": null,
            "visibility": null,
            "width": null
          }
        },
        "43eccfa279cd4771b2a1e05b814d8438": {
          "model_module": "@jupyter-widgets/controls",
          "model_name": "ProgressStyleModel",
          "model_module_version": "1.5.0",
          "state": {
            "_model_module": "@jupyter-widgets/controls",
            "_model_module_version": "1.5.0",
            "_model_name": "ProgressStyleModel",
            "_view_count": null,
            "_view_module": "@jupyter-widgets/base",
            "_view_module_version": "1.2.0",
            "_view_name": "StyleView",
            "bar_color": null,
            "description_width": ""
          }
        },
        "809c2db45cf34c5e94815623964d679f": {
          "model_module": "@jupyter-widgets/base",
          "model_name": "LayoutModel",
          "model_module_version": "1.2.0",
          "state": {
            "_model_module": "@jupyter-widgets/base",
            "_model_module_version": "1.2.0",
            "_model_name": "LayoutModel",
            "_view_count": null,
            "_view_module": "@jupyter-widgets/base",
            "_view_module_version": "1.2.0",
            "_view_name": "LayoutView",
            "align_content": null,
            "align_items": null,
            "align_self": null,
            "border": null,
            "bottom": null,
            "display": null,
            "flex": null,
            "flex_flow": null,
            "grid_area": null,
            "grid_auto_columns": null,
            "grid_auto_flow": null,
            "grid_auto_rows": null,
            "grid_column": null,
            "grid_gap": null,
            "grid_row": null,
            "grid_template_areas": null,
            "grid_template_columns": null,
            "grid_template_rows": null,
            "height": null,
            "justify_content": null,
            "justify_items": null,
            "left": null,
            "margin": null,
            "max_height": null,
            "max_width": null,
            "min_height": null,
            "min_width": null,
            "object_fit": null,
            "object_position": null,
            "order": null,
            "overflow": null,
            "overflow_x": null,
            "overflow_y": null,
            "padding": null,
            "right": null,
            "top": null,
            "visibility": null,
            "width": null
          }
        },
        "d05a2aa86d864573a4308c6aee445333": {
          "model_module": "@jupyter-widgets/controls",
          "model_name": "DescriptionStyleModel",
          "model_module_version": "1.5.0",
          "state": {
            "_model_module": "@jupyter-widgets/controls",
            "_model_module_version": "1.5.0",
            "_model_name": "DescriptionStyleModel",
            "_view_count": null,
            "_view_module": "@jupyter-widgets/base",
            "_view_module_version": "1.2.0",
            "_view_name": "StyleView",
            "description_width": ""
          }
        },
        "e1c9447ee68a40dfb2cdbd70bed8f1bb": {
          "model_module": "@jupyter-widgets/controls",
          "model_name": "HBoxModel",
          "model_module_version": "1.5.0",
          "state": {
            "_dom_classes": [],
            "_model_module": "@jupyter-widgets/controls",
            "_model_module_version": "1.5.0",
            "_model_name": "HBoxModel",
            "_view_count": null,
            "_view_module": "@jupyter-widgets/controls",
            "_view_module_version": "1.5.0",
            "_view_name": "HBoxView",
            "box_style": "",
            "children": [
              "IPY_MODEL_048233ab8e494be8b0f6555db5846564",
              "IPY_MODEL_30041cbc40614ba6981f6cbbc0415e33",
              "IPY_MODEL_76206d9d1bfc4aaa88857858755d369f"
            ],
            "layout": "IPY_MODEL_dd178df861c44d9c8b900b5ccbaf705e"
          }
        },
        "048233ab8e494be8b0f6555db5846564": {
          "model_module": "@jupyter-widgets/controls",
          "model_name": "HTMLModel",
          "model_module_version": "1.5.0",
          "state": {
            "_dom_classes": [],
            "_model_module": "@jupyter-widgets/controls",
            "_model_module_version": "1.5.0",
            "_model_name": "HTMLModel",
            "_view_count": null,
            "_view_module": "@jupyter-widgets/controls",
            "_view_module_version": "1.5.0",
            "_view_name": "HTMLView",
            "description": "",
            "description_tooltip": null,
            "layout": "IPY_MODEL_868dcbc4581944579da4215fddda3200",
            "placeholder": "​",
            "style": "IPY_MODEL_6040bde2c0b944a29bdf09ae8ea454a2",
            "value": "Downloading: 100%"
          }
        },
        "30041cbc40614ba6981f6cbbc0415e33": {
          "model_module": "@jupyter-widgets/controls",
          "model_name": "FloatProgressModel",
          "model_module_version": "1.5.0",
          "state": {
            "_dom_classes": [],
            "_model_module": "@jupyter-widgets/controls",
            "_model_module_version": "1.5.0",
            "_model_name": "FloatProgressModel",
            "_view_count": null,
            "_view_module": "@jupyter-widgets/controls",
            "_view_module_version": "1.5.0",
            "_view_name": "ProgressView",
            "bar_style": "success",
            "description": "",
            "description_tooltip": null,
            "layout": "IPY_MODEL_7e6ffbaa15e649a4ab539d7c98a43664",
            "max": 29,
            "min": 0,
            "orientation": "horizontal",
            "style": "IPY_MODEL_1bdcf751febf4842b78a14235b5ddffb",
            "value": 29
          }
        },
        "76206d9d1bfc4aaa88857858755d369f": {
          "model_module": "@jupyter-widgets/controls",
          "model_name": "HTMLModel",
          "model_module_version": "1.5.0",
          "state": {
            "_dom_classes": [],
            "_model_module": "@jupyter-widgets/controls",
            "_model_module_version": "1.5.0",
            "_model_name": "HTMLModel",
            "_view_count": null,
            "_view_module": "@jupyter-widgets/controls",
            "_view_module_version": "1.5.0",
            "_view_name": "HTMLView",
            "description": "",
            "description_tooltip": null,
            "layout": "IPY_MODEL_eac9c96480604292899757648997f89d",
            "placeholder": "​",
            "style": "IPY_MODEL_19e168fc844748b6a3c7b230a5afd832",
            "value": " 29.0/29.0 [00:00&lt;00:00, 164B/s]"
          }
        },
        "dd178df861c44d9c8b900b5ccbaf705e": {
          "model_module": "@jupyter-widgets/base",
          "model_name": "LayoutModel",
          "model_module_version": "1.2.0",
          "state": {
            "_model_module": "@jupyter-widgets/base",
            "_model_module_version": "1.2.0",
            "_model_name": "LayoutModel",
            "_view_count": null,
            "_view_module": "@jupyter-widgets/base",
            "_view_module_version": "1.2.0",
            "_view_name": "LayoutView",
            "align_content": null,
            "align_items": null,
            "align_self": null,
            "border": null,
            "bottom": null,
            "display": null,
            "flex": null,
            "flex_flow": null,
            "grid_area": null,
            "grid_auto_columns": null,
            "grid_auto_flow": null,
            "grid_auto_rows": null,
            "grid_column": null,
            "grid_gap": null,
            "grid_row": null,
            "grid_template_areas": null,
            "grid_template_columns": null,
            "grid_template_rows": null,
            "height": null,
            "justify_content": null,
            "justify_items": null,
            "left": null,
            "margin": null,
            "max_height": null,
            "max_width": null,
            "min_height": null,
            "min_width": null,
            "object_fit": null,
            "object_position": null,
            "order": null,
            "overflow": null,
            "overflow_x": null,
            "overflow_y": null,
            "padding": null,
            "right": null,
            "top": null,
            "visibility": null,
            "width": null
          }
        },
        "868dcbc4581944579da4215fddda3200": {
          "model_module": "@jupyter-widgets/base",
          "model_name": "LayoutModel",
          "model_module_version": "1.2.0",
          "state": {
            "_model_module": "@jupyter-widgets/base",
            "_model_module_version": "1.2.0",
            "_model_name": "LayoutModel",
            "_view_count": null,
            "_view_module": "@jupyter-widgets/base",
            "_view_module_version": "1.2.0",
            "_view_name": "LayoutView",
            "align_content": null,
            "align_items": null,
            "align_self": null,
            "border": null,
            "bottom": null,
            "display": null,
            "flex": null,
            "flex_flow": null,
            "grid_area": null,
            "grid_auto_columns": null,
            "grid_auto_flow": null,
            "grid_auto_rows": null,
            "grid_column": null,
            "grid_gap": null,
            "grid_row": null,
            "grid_template_areas": null,
            "grid_template_columns": null,
            "grid_template_rows": null,
            "height": null,
            "justify_content": null,
            "justify_items": null,
            "left": null,
            "margin": null,
            "max_height": null,
            "max_width": null,
            "min_height": null,
            "min_width": null,
            "object_fit": null,
            "object_position": null,
            "order": null,
            "overflow": null,
            "overflow_x": null,
            "overflow_y": null,
            "padding": null,
            "right": null,
            "top": null,
            "visibility": null,
            "width": null
          }
        },
        "6040bde2c0b944a29bdf09ae8ea454a2": {
          "model_module": "@jupyter-widgets/controls",
          "model_name": "DescriptionStyleModel",
          "model_module_version": "1.5.0",
          "state": {
            "_model_module": "@jupyter-widgets/controls",
            "_model_module_version": "1.5.0",
            "_model_name": "DescriptionStyleModel",
            "_view_count": null,
            "_view_module": "@jupyter-widgets/base",
            "_view_module_version": "1.2.0",
            "_view_name": "StyleView",
            "description_width": ""
          }
        },
        "7e6ffbaa15e649a4ab539d7c98a43664": {
          "model_module": "@jupyter-widgets/base",
          "model_name": "LayoutModel",
          "model_module_version": "1.2.0",
          "state": {
            "_model_module": "@jupyter-widgets/base",
            "_model_module_version": "1.2.0",
            "_model_name": "LayoutModel",
            "_view_count": null,
            "_view_module": "@jupyter-widgets/base",
            "_view_module_version": "1.2.0",
            "_view_name": "LayoutView",
            "align_content": null,
            "align_items": null,
            "align_self": null,
            "border": null,
            "bottom": null,
            "display": null,
            "flex": null,
            "flex_flow": null,
            "grid_area": null,
            "grid_auto_columns": null,
            "grid_auto_flow": null,
            "grid_auto_rows": null,
            "grid_column": null,
            "grid_gap": null,
            "grid_row": null,
            "grid_template_areas": null,
            "grid_template_columns": null,
            "grid_template_rows": null,
            "height": null,
            "justify_content": null,
            "justify_items": null,
            "left": null,
            "margin": null,
            "max_height": null,
            "max_width": null,
            "min_height": null,
            "min_width": null,
            "object_fit": null,
            "object_position": null,
            "order": null,
            "overflow": null,
            "overflow_x": null,
            "overflow_y": null,
            "padding": null,
            "right": null,
            "top": null,
            "visibility": null,
            "width": null
          }
        },
        "1bdcf751febf4842b78a14235b5ddffb": {
          "model_module": "@jupyter-widgets/controls",
          "model_name": "ProgressStyleModel",
          "model_module_version": "1.5.0",
          "state": {
            "_model_module": "@jupyter-widgets/controls",
            "_model_module_version": "1.5.0",
            "_model_name": "ProgressStyleModel",
            "_view_count": null,
            "_view_module": "@jupyter-widgets/base",
            "_view_module_version": "1.2.0",
            "_view_name": "StyleView",
            "bar_color": null,
            "description_width": ""
          }
        },
        "eac9c96480604292899757648997f89d": {
          "model_module": "@jupyter-widgets/base",
          "model_name": "LayoutModel",
          "model_module_version": "1.2.0",
          "state": {
            "_model_module": "@jupyter-widgets/base",
            "_model_module_version": "1.2.0",
            "_model_name": "LayoutModel",
            "_view_count": null,
            "_view_module": "@jupyter-widgets/base",
            "_view_module_version": "1.2.0",
            "_view_name": "LayoutView",
            "align_content": null,
            "align_items": null,
            "align_self": null,
            "border": null,
            "bottom": null,
            "display": null,
            "flex": null,
            "flex_flow": null,
            "grid_area": null,
            "grid_auto_columns": null,
            "grid_auto_flow": null,
            "grid_auto_rows": null,
            "grid_column": null,
            "grid_gap": null,
            "grid_row": null,
            "grid_template_areas": null,
            "grid_template_columns": null,
            "grid_template_rows": null,
            "height": null,
            "justify_content": null,
            "justify_items": null,
            "left": null,
            "margin": null,
            "max_height": null,
            "max_width": null,
            "min_height": null,
            "min_width": null,
            "object_fit": null,
            "object_position": null,
            "order": null,
            "overflow": null,
            "overflow_x": null,
            "overflow_y": null,
            "padding": null,
            "right": null,
            "top": null,
            "visibility": null,
            "width": null
          }
        },
        "19e168fc844748b6a3c7b230a5afd832": {
          "model_module": "@jupyter-widgets/controls",
          "model_name": "DescriptionStyleModel",
          "model_module_version": "1.5.0",
          "state": {
            "_model_module": "@jupyter-widgets/controls",
            "_model_module_version": "1.5.0",
            "_model_name": "DescriptionStyleModel",
            "_view_count": null,
            "_view_module": "@jupyter-widgets/base",
            "_view_module_version": "1.2.0",
            "_view_name": "StyleView",
            "description_width": ""
          }
        },
        "8dd2ac92ec6e4f299fab4c320197936a": {
          "model_module": "@jupyter-widgets/controls",
          "model_name": "HBoxModel",
          "model_module_version": "1.5.0",
          "state": {
            "_dom_classes": [],
            "_model_module": "@jupyter-widgets/controls",
            "_model_module_version": "1.5.0",
            "_model_name": "HBoxModel",
            "_view_count": null,
            "_view_module": "@jupyter-widgets/controls",
            "_view_module_version": "1.5.0",
            "_view_name": "HBoxView",
            "box_style": "",
            "children": [
              "IPY_MODEL_d769cc27c6f644a6b6aa60e898514048",
              "IPY_MODEL_39afb675c0b74e64b3f42c68adb4a515",
              "IPY_MODEL_f07746b2b1dd4e6898ac94f190f9e40a"
            ],
            "layout": "IPY_MODEL_edd9fd7c18d443d4af8a7ebf2c3048c7"
          }
        },
        "d769cc27c6f644a6b6aa60e898514048": {
          "model_module": "@jupyter-widgets/controls",
          "model_name": "HTMLModel",
          "model_module_version": "1.5.0",
          "state": {
            "_dom_classes": [],
            "_model_module": "@jupyter-widgets/controls",
            "_model_module_version": "1.5.0",
            "_model_name": "HTMLModel",
            "_view_count": null,
            "_view_module": "@jupyter-widgets/controls",
            "_view_module_version": "1.5.0",
            "_view_name": "HTMLView",
            "description": "",
            "description_tooltip": null,
            "layout": "IPY_MODEL_675ed452281d499b9b2759e335fb937f",
            "placeholder": "​",
            "style": "IPY_MODEL_5d41cef522ad43b4b2969e50b90973ba",
            "value": "Downloading: 100%"
          }
        },
        "39afb675c0b74e64b3f42c68adb4a515": {
          "model_module": "@jupyter-widgets/controls",
          "model_name": "FloatProgressModel",
          "model_module_version": "1.5.0",
          "state": {
            "_dom_classes": [],
            "_model_module": "@jupyter-widgets/controls",
            "_model_module_version": "1.5.0",
            "_model_name": "FloatProgressModel",
            "_view_count": null,
            "_view_module": "@jupyter-widgets/controls",
            "_view_module_version": "1.5.0",
            "_view_name": "ProgressView",
            "bar_style": "success",
            "description": "",
            "description_tooltip": null,
            "layout": "IPY_MODEL_5c5c5a439f73493cb7ab7e7259db8c12",
            "max": 570,
            "min": 0,
            "orientation": "horizontal",
            "style": "IPY_MODEL_244343a34bed43339275a567d5ff70a9",
            "value": 570
          }
        },
        "f07746b2b1dd4e6898ac94f190f9e40a": {
          "model_module": "@jupyter-widgets/controls",
          "model_name": "HTMLModel",
          "model_module_version": "1.5.0",
          "state": {
            "_dom_classes": [],
            "_model_module": "@jupyter-widgets/controls",
            "_model_module_version": "1.5.0",
            "_model_name": "HTMLModel",
            "_view_count": null,
            "_view_module": "@jupyter-widgets/controls",
            "_view_module_version": "1.5.0",
            "_view_name": "HTMLView",
            "description": "",
            "description_tooltip": null,
            "layout": "IPY_MODEL_fbeeed1bef444ab4a8dc0102309bc1c9",
            "placeholder": "​",
            "style": "IPY_MODEL_260c3c12b1924811bbda75ccad6a3e57",
            "value": " 570/570 [00:00&lt;00:00, 4.53kB/s]"
          }
        },
        "edd9fd7c18d443d4af8a7ebf2c3048c7": {
          "model_module": "@jupyter-widgets/base",
          "model_name": "LayoutModel",
          "model_module_version": "1.2.0",
          "state": {
            "_model_module": "@jupyter-widgets/base",
            "_model_module_version": "1.2.0",
            "_model_name": "LayoutModel",
            "_view_count": null,
            "_view_module": "@jupyter-widgets/base",
            "_view_module_version": "1.2.0",
            "_view_name": "LayoutView",
            "align_content": null,
            "align_items": null,
            "align_self": null,
            "border": null,
            "bottom": null,
            "display": null,
            "flex": null,
            "flex_flow": null,
            "grid_area": null,
            "grid_auto_columns": null,
            "grid_auto_flow": null,
            "grid_auto_rows": null,
            "grid_column": null,
            "grid_gap": null,
            "grid_row": null,
            "grid_template_areas": null,
            "grid_template_columns": null,
            "grid_template_rows": null,
            "height": null,
            "justify_content": null,
            "justify_items": null,
            "left": null,
            "margin": null,
            "max_height": null,
            "max_width": null,
            "min_height": null,
            "min_width": null,
            "object_fit": null,
            "object_position": null,
            "order": null,
            "overflow": null,
            "overflow_x": null,
            "overflow_y": null,
            "padding": null,
            "right": null,
            "top": null,
            "visibility": null,
            "width": null
          }
        },
        "675ed452281d499b9b2759e335fb937f": {
          "model_module": "@jupyter-widgets/base",
          "model_name": "LayoutModel",
          "model_module_version": "1.2.0",
          "state": {
            "_model_module": "@jupyter-widgets/base",
            "_model_module_version": "1.2.0",
            "_model_name": "LayoutModel",
            "_view_count": null,
            "_view_module": "@jupyter-widgets/base",
            "_view_module_version": "1.2.0",
            "_view_name": "LayoutView",
            "align_content": null,
            "align_items": null,
            "align_self": null,
            "border": null,
            "bottom": null,
            "display": null,
            "flex": null,
            "flex_flow": null,
            "grid_area": null,
            "grid_auto_columns": null,
            "grid_auto_flow": null,
            "grid_auto_rows": null,
            "grid_column": null,
            "grid_gap": null,
            "grid_row": null,
            "grid_template_areas": null,
            "grid_template_columns": null,
            "grid_template_rows": null,
            "height": null,
            "justify_content": null,
            "justify_items": null,
            "left": null,
            "margin": null,
            "max_height": null,
            "max_width": null,
            "min_height": null,
            "min_width": null,
            "object_fit": null,
            "object_position": null,
            "order": null,
            "overflow": null,
            "overflow_x": null,
            "overflow_y": null,
            "padding": null,
            "right": null,
            "top": null,
            "visibility": null,
            "width": null
          }
        },
        "5d41cef522ad43b4b2969e50b90973ba": {
          "model_module": "@jupyter-widgets/controls",
          "model_name": "DescriptionStyleModel",
          "model_module_version": "1.5.0",
          "state": {
            "_model_module": "@jupyter-widgets/controls",
            "_model_module_version": "1.5.0",
            "_model_name": "DescriptionStyleModel",
            "_view_count": null,
            "_view_module": "@jupyter-widgets/base",
            "_view_module_version": "1.2.0",
            "_view_name": "StyleView",
            "description_width": ""
          }
        },
        "5c5c5a439f73493cb7ab7e7259db8c12": {
          "model_module": "@jupyter-widgets/base",
          "model_name": "LayoutModel",
          "model_module_version": "1.2.0",
          "state": {
            "_model_module": "@jupyter-widgets/base",
            "_model_module_version": "1.2.0",
            "_model_name": "LayoutModel",
            "_view_count": null,
            "_view_module": "@jupyter-widgets/base",
            "_view_module_version": "1.2.0",
            "_view_name": "LayoutView",
            "align_content": null,
            "align_items": null,
            "align_self": null,
            "border": null,
            "bottom": null,
            "display": null,
            "flex": null,
            "flex_flow": null,
            "grid_area": null,
            "grid_auto_columns": null,
            "grid_auto_flow": null,
            "grid_auto_rows": null,
            "grid_column": null,
            "grid_gap": null,
            "grid_row": null,
            "grid_template_areas": null,
            "grid_template_columns": null,
            "grid_template_rows": null,
            "height": null,
            "justify_content": null,
            "justify_items": null,
            "left": null,
            "margin": null,
            "max_height": null,
            "max_width": null,
            "min_height": null,
            "min_width": null,
            "object_fit": null,
            "object_position": null,
            "order": null,
            "overflow": null,
            "overflow_x": null,
            "overflow_y": null,
            "padding": null,
            "right": null,
            "top": null,
            "visibility": null,
            "width": null
          }
        },
        "244343a34bed43339275a567d5ff70a9": {
          "model_module": "@jupyter-widgets/controls",
          "model_name": "ProgressStyleModel",
          "model_module_version": "1.5.0",
          "state": {
            "_model_module": "@jupyter-widgets/controls",
            "_model_module_version": "1.5.0",
            "_model_name": "ProgressStyleModel",
            "_view_count": null,
            "_view_module": "@jupyter-widgets/base",
            "_view_module_version": "1.2.0",
            "_view_name": "StyleView",
            "bar_color": null,
            "description_width": ""
          }
        },
        "fbeeed1bef444ab4a8dc0102309bc1c9": {
          "model_module": "@jupyter-widgets/base",
          "model_name": "LayoutModel",
          "model_module_version": "1.2.0",
          "state": {
            "_model_module": "@jupyter-widgets/base",
            "_model_module_version": "1.2.0",
            "_model_name": "LayoutModel",
            "_view_count": null,
            "_view_module": "@jupyter-widgets/base",
            "_view_module_version": "1.2.0",
            "_view_name": "LayoutView",
            "align_content": null,
            "align_items": null,
            "align_self": null,
            "border": null,
            "bottom": null,
            "display": null,
            "flex": null,
            "flex_flow": null,
            "grid_area": null,
            "grid_auto_columns": null,
            "grid_auto_flow": null,
            "grid_auto_rows": null,
            "grid_column": null,
            "grid_gap": null,
            "grid_row": null,
            "grid_template_areas": null,
            "grid_template_columns": null,
            "grid_template_rows": null,
            "height": null,
            "justify_content": null,
            "justify_items": null,
            "left": null,
            "margin": null,
            "max_height": null,
            "max_width": null,
            "min_height": null,
            "min_width": null,
            "object_fit": null,
            "object_position": null,
            "order": null,
            "overflow": null,
            "overflow_x": null,
            "overflow_y": null,
            "padding": null,
            "right": null,
            "top": null,
            "visibility": null,
            "width": null
          }
        },
        "260c3c12b1924811bbda75ccad6a3e57": {
          "model_module": "@jupyter-widgets/controls",
          "model_name": "DescriptionStyleModel",
          "model_module_version": "1.5.0",
          "state": {
            "_model_module": "@jupyter-widgets/controls",
            "_model_module_version": "1.5.0",
            "_model_name": "DescriptionStyleModel",
            "_view_count": null,
            "_view_module": "@jupyter-widgets/base",
            "_view_module_version": "1.2.0",
            "_view_name": "StyleView",
            "description_width": ""
          }
        },
        "9e0bbf6c8c56408ca0e130ee8699fd5f": {
          "model_module": "@jupyter-widgets/controls",
          "model_name": "HBoxModel",
          "model_module_version": "1.5.0",
          "state": {
            "_dom_classes": [],
            "_model_module": "@jupyter-widgets/controls",
            "_model_module_version": "1.5.0",
            "_model_name": "HBoxModel",
            "_view_count": null,
            "_view_module": "@jupyter-widgets/controls",
            "_view_module_version": "1.5.0",
            "_view_name": "HBoxView",
            "box_style": "",
            "children": [
              "IPY_MODEL_30b41bb96f004f1091500e7a65fed966",
              "IPY_MODEL_d11b617ac56a4727996ac2697739fc93",
              "IPY_MODEL_52ca35325a48405aa17e5f1fe41f35cb"
            ],
            "layout": "IPY_MODEL_586fe9ec824f446e8d04160981093a03"
          }
        },
        "30b41bb96f004f1091500e7a65fed966": {
          "model_module": "@jupyter-widgets/controls",
          "model_name": "HTMLModel",
          "model_module_version": "1.5.0",
          "state": {
            "_dom_classes": [],
            "_model_module": "@jupyter-widgets/controls",
            "_model_module_version": "1.5.0",
            "_model_name": "HTMLModel",
            "_view_count": null,
            "_view_module": "@jupyter-widgets/controls",
            "_view_module_version": "1.5.0",
            "_view_name": "HTMLView",
            "description": "",
            "description_tooltip": null,
            "layout": "IPY_MODEL_ec9ad02bfe094468b32e6101a1ddd7ad",
            "placeholder": "​",
            "style": "IPY_MODEL_d9987f1a3c05440b997e141665432852",
            "value": "Downloading: 100%"
          }
        },
        "d11b617ac56a4727996ac2697739fc93": {
          "model_module": "@jupyter-widgets/controls",
          "model_name": "FloatProgressModel",
          "model_module_version": "1.5.0",
          "state": {
            "_dom_classes": [],
            "_model_module": "@jupyter-widgets/controls",
            "_model_module_version": "1.5.0",
            "_model_name": "FloatProgressModel",
            "_view_count": null,
            "_view_module": "@jupyter-widgets/controls",
            "_view_module_version": "1.5.0",
            "_view_name": "ProgressView",
            "bar_style": "success",
            "description": "",
            "description_tooltip": null,
            "layout": "IPY_MODEL_e36fc62ccac044e59e79a27305cf99b6",
            "max": 213450,
            "min": 0,
            "orientation": "horizontal",
            "style": "IPY_MODEL_c46a965f3bb847c297ac9742eb2000a4",
            "value": 213450
          }
        },
        "52ca35325a48405aa17e5f1fe41f35cb": {
          "model_module": "@jupyter-widgets/controls",
          "model_name": "HTMLModel",
          "model_module_version": "1.5.0",
          "state": {
            "_dom_classes": [],
            "_model_module": "@jupyter-widgets/controls",
            "_model_module_version": "1.5.0",
            "_model_name": "HTMLModel",
            "_view_count": null,
            "_view_module": "@jupyter-widgets/controls",
            "_view_module_version": "1.5.0",
            "_view_name": "HTMLView",
            "description": "",
            "description_tooltip": null,
            "layout": "IPY_MODEL_bb3336ff47284eac8a00b848f3c3e517",
            "placeholder": "​",
            "style": "IPY_MODEL_103dac4c18d14a4789c5e51cf7f86807",
            "value": " 208k/208k [00:00&lt;00:00, 536kB/s]"
          }
        },
        "586fe9ec824f446e8d04160981093a03": {
          "model_module": "@jupyter-widgets/base",
          "model_name": "LayoutModel",
          "model_module_version": "1.2.0",
          "state": {
            "_model_module": "@jupyter-widgets/base",
            "_model_module_version": "1.2.0",
            "_model_name": "LayoutModel",
            "_view_count": null,
            "_view_module": "@jupyter-widgets/base",
            "_view_module_version": "1.2.0",
            "_view_name": "LayoutView",
            "align_content": null,
            "align_items": null,
            "align_self": null,
            "border": null,
            "bottom": null,
            "display": null,
            "flex": null,
            "flex_flow": null,
            "grid_area": null,
            "grid_auto_columns": null,
            "grid_auto_flow": null,
            "grid_auto_rows": null,
            "grid_column": null,
            "grid_gap": null,
            "grid_row": null,
            "grid_template_areas": null,
            "grid_template_columns": null,
            "grid_template_rows": null,
            "height": null,
            "justify_content": null,
            "justify_items": null,
            "left": null,
            "margin": null,
            "max_height": null,
            "max_width": null,
            "min_height": null,
            "min_width": null,
            "object_fit": null,
            "object_position": null,
            "order": null,
            "overflow": null,
            "overflow_x": null,
            "overflow_y": null,
            "padding": null,
            "right": null,
            "top": null,
            "visibility": null,
            "width": null
          }
        },
        "ec9ad02bfe094468b32e6101a1ddd7ad": {
          "model_module": "@jupyter-widgets/base",
          "model_name": "LayoutModel",
          "model_module_version": "1.2.0",
          "state": {
            "_model_module": "@jupyter-widgets/base",
            "_model_module_version": "1.2.0",
            "_model_name": "LayoutModel",
            "_view_count": null,
            "_view_module": "@jupyter-widgets/base",
            "_view_module_version": "1.2.0",
            "_view_name": "LayoutView",
            "align_content": null,
            "align_items": null,
            "align_self": null,
            "border": null,
            "bottom": null,
            "display": null,
            "flex": null,
            "flex_flow": null,
            "grid_area": null,
            "grid_auto_columns": null,
            "grid_auto_flow": null,
            "grid_auto_rows": null,
            "grid_column": null,
            "grid_gap": null,
            "grid_row": null,
            "grid_template_areas": null,
            "grid_template_columns": null,
            "grid_template_rows": null,
            "height": null,
            "justify_content": null,
            "justify_items": null,
            "left": null,
            "margin": null,
            "max_height": null,
            "max_width": null,
            "min_height": null,
            "min_width": null,
            "object_fit": null,
            "object_position": null,
            "order": null,
            "overflow": null,
            "overflow_x": null,
            "overflow_y": null,
            "padding": null,
            "right": null,
            "top": null,
            "visibility": null,
            "width": null
          }
        },
        "d9987f1a3c05440b997e141665432852": {
          "model_module": "@jupyter-widgets/controls",
          "model_name": "DescriptionStyleModel",
          "model_module_version": "1.5.0",
          "state": {
            "_model_module": "@jupyter-widgets/controls",
            "_model_module_version": "1.5.0",
            "_model_name": "DescriptionStyleModel",
            "_view_count": null,
            "_view_module": "@jupyter-widgets/base",
            "_view_module_version": "1.2.0",
            "_view_name": "StyleView",
            "description_width": ""
          }
        },
        "e36fc62ccac044e59e79a27305cf99b6": {
          "model_module": "@jupyter-widgets/base",
          "model_name": "LayoutModel",
          "model_module_version": "1.2.0",
          "state": {
            "_model_module": "@jupyter-widgets/base",
            "_model_module_version": "1.2.0",
            "_model_name": "LayoutModel",
            "_view_count": null,
            "_view_module": "@jupyter-widgets/base",
            "_view_module_version": "1.2.0",
            "_view_name": "LayoutView",
            "align_content": null,
            "align_items": null,
            "align_self": null,
            "border": null,
            "bottom": null,
            "display": null,
            "flex": null,
            "flex_flow": null,
            "grid_area": null,
            "grid_auto_columns": null,
            "grid_auto_flow": null,
            "grid_auto_rows": null,
            "grid_column": null,
            "grid_gap": null,
            "grid_row": null,
            "grid_template_areas": null,
            "grid_template_columns": null,
            "grid_template_rows": null,
            "height": null,
            "justify_content": null,
            "justify_items": null,
            "left": null,
            "margin": null,
            "max_height": null,
            "max_width": null,
            "min_height": null,
            "min_width": null,
            "object_fit": null,
            "object_position": null,
            "order": null,
            "overflow": null,
            "overflow_x": null,
            "overflow_y": null,
            "padding": null,
            "right": null,
            "top": null,
            "visibility": null,
            "width": null
          }
        },
        "c46a965f3bb847c297ac9742eb2000a4": {
          "model_module": "@jupyter-widgets/controls",
          "model_name": "ProgressStyleModel",
          "model_module_version": "1.5.0",
          "state": {
            "_model_module": "@jupyter-widgets/controls",
            "_model_module_version": "1.5.0",
            "_model_name": "ProgressStyleModel",
            "_view_count": null,
            "_view_module": "@jupyter-widgets/base",
            "_view_module_version": "1.2.0",
            "_view_name": "StyleView",
            "bar_color": null,
            "description_width": ""
          }
        },
        "bb3336ff47284eac8a00b848f3c3e517": {
          "model_module": "@jupyter-widgets/base",
          "model_name": "LayoutModel",
          "model_module_version": "1.2.0",
          "state": {
            "_model_module": "@jupyter-widgets/base",
            "_model_module_version": "1.2.0",
            "_model_name": "LayoutModel",
            "_view_count": null,
            "_view_module": "@jupyter-widgets/base",
            "_view_module_version": "1.2.0",
            "_view_name": "LayoutView",
            "align_content": null,
            "align_items": null,
            "align_self": null,
            "border": null,
            "bottom": null,
            "display": null,
            "flex": null,
            "flex_flow": null,
            "grid_area": null,
            "grid_auto_columns": null,
            "grid_auto_flow": null,
            "grid_auto_rows": null,
            "grid_column": null,
            "grid_gap": null,
            "grid_row": null,
            "grid_template_areas": null,
            "grid_template_columns": null,
            "grid_template_rows": null,
            "height": null,
            "justify_content": null,
            "justify_items": null,
            "left": null,
            "margin": null,
            "max_height": null,
            "max_width": null,
            "min_height": null,
            "min_width": null,
            "object_fit": null,
            "object_position": null,
            "order": null,
            "overflow": null,
            "overflow_x": null,
            "overflow_y": null,
            "padding": null,
            "right": null,
            "top": null,
            "visibility": null,
            "width": null
          }
        },
        "103dac4c18d14a4789c5e51cf7f86807": {
          "model_module": "@jupyter-widgets/controls",
          "model_name": "DescriptionStyleModel",
          "model_module_version": "1.5.0",
          "state": {
            "_model_module": "@jupyter-widgets/controls",
            "_model_module_version": "1.5.0",
            "_model_name": "DescriptionStyleModel",
            "_view_count": null,
            "_view_module": "@jupyter-widgets/base",
            "_view_module_version": "1.2.0",
            "_view_name": "StyleView",
            "description_width": ""
          }
        },
        "186411fe33b54adaa8a12aa393430ec7": {
          "model_module": "@jupyter-widgets/controls",
          "model_name": "HBoxModel",
          "model_module_version": "1.5.0",
          "state": {
            "_dom_classes": [],
            "_model_module": "@jupyter-widgets/controls",
            "_model_module_version": "1.5.0",
            "_model_name": "HBoxModel",
            "_view_count": null,
            "_view_module": "@jupyter-widgets/controls",
            "_view_module_version": "1.5.0",
            "_view_name": "HBoxView",
            "box_style": "",
            "children": [
              "IPY_MODEL_1df45c6c6f2946018fe81de1ec500dc8",
              "IPY_MODEL_22c06d3803c644cd878bbbb143717166",
              "IPY_MODEL_438c2c9e0e5e40ab8d4d640d2e6f355e"
            ],
            "layout": "IPY_MODEL_4e11d92535424cc1b59e0fdad1859bd8"
          }
        },
        "1df45c6c6f2946018fe81de1ec500dc8": {
          "model_module": "@jupyter-widgets/controls",
          "model_name": "HTMLModel",
          "model_module_version": "1.5.0",
          "state": {
            "_dom_classes": [],
            "_model_module": "@jupyter-widgets/controls",
            "_model_module_version": "1.5.0",
            "_model_name": "HTMLModel",
            "_view_count": null,
            "_view_module": "@jupyter-widgets/controls",
            "_view_module_version": "1.5.0",
            "_view_name": "HTMLView",
            "description": "",
            "description_tooltip": null,
            "layout": "IPY_MODEL_708624cc965c45558a715a4415f04941",
            "placeholder": "​",
            "style": "IPY_MODEL_ee8a4c1a5d534aae80e3499cd4318901",
            "value": "Downloading: 100%"
          }
        },
        "22c06d3803c644cd878bbbb143717166": {
          "model_module": "@jupyter-widgets/controls",
          "model_name": "FloatProgressModel",
          "model_module_version": "1.5.0",
          "state": {
            "_dom_classes": [],
            "_model_module": "@jupyter-widgets/controls",
            "_model_module_version": "1.5.0",
            "_model_name": "FloatProgressModel",
            "_view_count": null,
            "_view_module": "@jupyter-widgets/controls",
            "_view_module_version": "1.5.0",
            "_view_name": "ProgressView",
            "bar_style": "success",
            "description": "",
            "description_tooltip": null,
            "layout": "IPY_MODEL_6123612eba1f42c7acb332428a0fcd58",
            "max": 435797,
            "min": 0,
            "orientation": "horizontal",
            "style": "IPY_MODEL_f50963f31491401b9bbef9693125616c",
            "value": 435797
          }
        },
        "438c2c9e0e5e40ab8d4d640d2e6f355e": {
          "model_module": "@jupyter-widgets/controls",
          "model_name": "HTMLModel",
          "model_module_version": "1.5.0",
          "state": {
            "_dom_classes": [],
            "_model_module": "@jupyter-widgets/controls",
            "_model_module_version": "1.5.0",
            "_model_name": "HTMLModel",
            "_view_count": null,
            "_view_module": "@jupyter-widgets/controls",
            "_view_module_version": "1.5.0",
            "_view_name": "HTMLView",
            "description": "",
            "description_tooltip": null,
            "layout": "IPY_MODEL_e3591945e3eb4eaaa8086816d3b7f8cb",
            "placeholder": "​",
            "style": "IPY_MODEL_4ec4bd9f2cca43baba45bc174842f061",
            "value": " 426k/426k [00:00&lt;00:00, 601kB/s]"
          }
        },
        "4e11d92535424cc1b59e0fdad1859bd8": {
          "model_module": "@jupyter-widgets/base",
          "model_name": "LayoutModel",
          "model_module_version": "1.2.0",
          "state": {
            "_model_module": "@jupyter-widgets/base",
            "_model_module_version": "1.2.0",
            "_model_name": "LayoutModel",
            "_view_count": null,
            "_view_module": "@jupyter-widgets/base",
            "_view_module_version": "1.2.0",
            "_view_name": "LayoutView",
            "align_content": null,
            "align_items": null,
            "align_self": null,
            "border": null,
            "bottom": null,
            "display": null,
            "flex": null,
            "flex_flow": null,
            "grid_area": null,
            "grid_auto_columns": null,
            "grid_auto_flow": null,
            "grid_auto_rows": null,
            "grid_column": null,
            "grid_gap": null,
            "grid_row": null,
            "grid_template_areas": null,
            "grid_template_columns": null,
            "grid_template_rows": null,
            "height": null,
            "justify_content": null,
            "justify_items": null,
            "left": null,
            "margin": null,
            "max_height": null,
            "max_width": null,
            "min_height": null,
            "min_width": null,
            "object_fit": null,
            "object_position": null,
            "order": null,
            "overflow": null,
            "overflow_x": null,
            "overflow_y": null,
            "padding": null,
            "right": null,
            "top": null,
            "visibility": null,
            "width": null
          }
        },
        "708624cc965c45558a715a4415f04941": {
          "model_module": "@jupyter-widgets/base",
          "model_name": "LayoutModel",
          "model_module_version": "1.2.0",
          "state": {
            "_model_module": "@jupyter-widgets/base",
            "_model_module_version": "1.2.0",
            "_model_name": "LayoutModel",
            "_view_count": null,
            "_view_module": "@jupyter-widgets/base",
            "_view_module_version": "1.2.0",
            "_view_name": "LayoutView",
            "align_content": null,
            "align_items": null,
            "align_self": null,
            "border": null,
            "bottom": null,
            "display": null,
            "flex": null,
            "flex_flow": null,
            "grid_area": null,
            "grid_auto_columns": null,
            "grid_auto_flow": null,
            "grid_auto_rows": null,
            "grid_column": null,
            "grid_gap": null,
            "grid_row": null,
            "grid_template_areas": null,
            "grid_template_columns": null,
            "grid_template_rows": null,
            "height": null,
            "justify_content": null,
            "justify_items": null,
            "left": null,
            "margin": null,
            "max_height": null,
            "max_width": null,
            "min_height": null,
            "min_width": null,
            "object_fit": null,
            "object_position": null,
            "order": null,
            "overflow": null,
            "overflow_x": null,
            "overflow_y": null,
            "padding": null,
            "right": null,
            "top": null,
            "visibility": null,
            "width": null
          }
        },
        "ee8a4c1a5d534aae80e3499cd4318901": {
          "model_module": "@jupyter-widgets/controls",
          "model_name": "DescriptionStyleModel",
          "model_module_version": "1.5.0",
          "state": {
            "_model_module": "@jupyter-widgets/controls",
            "_model_module_version": "1.5.0",
            "_model_name": "DescriptionStyleModel",
            "_view_count": null,
            "_view_module": "@jupyter-widgets/base",
            "_view_module_version": "1.2.0",
            "_view_name": "StyleView",
            "description_width": ""
          }
        },
        "6123612eba1f42c7acb332428a0fcd58": {
          "model_module": "@jupyter-widgets/base",
          "model_name": "LayoutModel",
          "model_module_version": "1.2.0",
          "state": {
            "_model_module": "@jupyter-widgets/base",
            "_model_module_version": "1.2.0",
            "_model_name": "LayoutModel",
            "_view_count": null,
            "_view_module": "@jupyter-widgets/base",
            "_view_module_version": "1.2.0",
            "_view_name": "LayoutView",
            "align_content": null,
            "align_items": null,
            "align_self": null,
            "border": null,
            "bottom": null,
            "display": null,
            "flex": null,
            "flex_flow": null,
            "grid_area": null,
            "grid_auto_columns": null,
            "grid_auto_flow": null,
            "grid_auto_rows": null,
            "grid_column": null,
            "grid_gap": null,
            "grid_row": null,
            "grid_template_areas": null,
            "grid_template_columns": null,
            "grid_template_rows": null,
            "height": null,
            "justify_content": null,
            "justify_items": null,
            "left": null,
            "margin": null,
            "max_height": null,
            "max_width": null,
            "min_height": null,
            "min_width": null,
            "object_fit": null,
            "object_position": null,
            "order": null,
            "overflow": null,
            "overflow_x": null,
            "overflow_y": null,
            "padding": null,
            "right": null,
            "top": null,
            "visibility": null,
            "width": null
          }
        },
        "f50963f31491401b9bbef9693125616c": {
          "model_module": "@jupyter-widgets/controls",
          "model_name": "ProgressStyleModel",
          "model_module_version": "1.5.0",
          "state": {
            "_model_module": "@jupyter-widgets/controls",
            "_model_module_version": "1.5.0",
            "_model_name": "ProgressStyleModel",
            "_view_count": null,
            "_view_module": "@jupyter-widgets/base",
            "_view_module_version": "1.2.0",
            "_view_name": "StyleView",
            "bar_color": null,
            "description_width": ""
          }
        },
        "e3591945e3eb4eaaa8086816d3b7f8cb": {
          "model_module": "@jupyter-widgets/base",
          "model_name": "LayoutModel",
          "model_module_version": "1.2.0",
          "state": {
            "_model_module": "@jupyter-widgets/base",
            "_model_module_version": "1.2.0",
            "_model_name": "LayoutModel",
            "_view_count": null,
            "_view_module": "@jupyter-widgets/base",
            "_view_module_version": "1.2.0",
            "_view_name": "LayoutView",
            "align_content": null,
            "align_items": null,
            "align_self": null,
            "border": null,
            "bottom": null,
            "display": null,
            "flex": null,
            "flex_flow": null,
            "grid_area": null,
            "grid_auto_columns": null,
            "grid_auto_flow": null,
            "grid_auto_rows": null,
            "grid_column": null,
            "grid_gap": null,
            "grid_row": null,
            "grid_template_areas": null,
            "grid_template_columns": null,
            "grid_template_rows": null,
            "height": null,
            "justify_content": null,
            "justify_items": null,
            "left": null,
            "margin": null,
            "max_height": null,
            "max_width": null,
            "min_height": null,
            "min_width": null,
            "object_fit": null,
            "object_position": null,
            "order": null,
            "overflow": null,
            "overflow_x": null,
            "overflow_y": null,
            "padding": null,
            "right": null,
            "top": null,
            "visibility": null,
            "width": null
          }
        },
        "4ec4bd9f2cca43baba45bc174842f061": {
          "model_module": "@jupyter-widgets/controls",
          "model_name": "DescriptionStyleModel",
          "model_module_version": "1.5.0",
          "state": {
            "_model_module": "@jupyter-widgets/controls",
            "_model_module_version": "1.5.0",
            "_model_name": "DescriptionStyleModel",
            "_view_count": null,
            "_view_module": "@jupyter-widgets/base",
            "_view_module_version": "1.2.0",
            "_view_name": "StyleView",
            "description_width": ""
          }
        },
        "82bcd8751e4844888d23aebc46e3fb6b": {
          "model_module": "@jupyter-widgets/controls",
          "model_name": "HBoxModel",
          "model_module_version": "1.5.0",
          "state": {
            "_dom_classes": [],
            "_model_module": "@jupyter-widgets/controls",
            "_model_module_version": "1.5.0",
            "_model_name": "HBoxModel",
            "_view_count": null,
            "_view_module": "@jupyter-widgets/controls",
            "_view_module_version": "1.5.0",
            "_view_name": "HBoxView",
            "box_style": "",
            "children": [
              "IPY_MODEL_e265793e4abd4023975bf515a9c5fa4c",
              "IPY_MODEL_06c59155178148229562076e45e94ccb",
              "IPY_MODEL_c94209038bce448e93703d8bde5806ef"
            ],
            "layout": "IPY_MODEL_d18040d450e54787a2359e8fdff6bcb6"
          }
        },
        "e265793e4abd4023975bf515a9c5fa4c": {
          "model_module": "@jupyter-widgets/controls",
          "model_name": "HTMLModel",
          "model_module_version": "1.5.0",
          "state": {
            "_dom_classes": [],
            "_model_module": "@jupyter-widgets/controls",
            "_model_module_version": "1.5.0",
            "_model_name": "HTMLModel",
            "_view_count": null,
            "_view_module": "@jupyter-widgets/controls",
            "_view_module_version": "1.5.0",
            "_view_name": "HTMLView",
            "description": "",
            "description_tooltip": null,
            "layout": "IPY_MODEL_fe26a537bcda48409ce0c9cb7de81b79",
            "placeholder": "​",
            "style": "IPY_MODEL_2231f9b6b3a64a9cb294551ab59bf16f",
            "value": "100%"
          }
        },
        "06c59155178148229562076e45e94ccb": {
          "model_module": "@jupyter-widgets/controls",
          "model_name": "FloatProgressModel",
          "model_module_version": "1.5.0",
          "state": {
            "_dom_classes": [],
            "_model_module": "@jupyter-widgets/controls",
            "_model_module_version": "1.5.0",
            "_model_name": "FloatProgressModel",
            "_view_count": null,
            "_view_module": "@jupyter-widgets/controls",
            "_view_module_version": "1.5.0",
            "_view_name": "ProgressView",
            "bar_style": "success",
            "description": "",
            "description_tooltip": null,
            "layout": "IPY_MODEL_eb69256ae1a64654a6fbe793bcbd0aad",
            "max": 1,
            "min": 0,
            "orientation": "horizontal",
            "style": "IPY_MODEL_33ef19c257734ccfab33b39056c5ee85",
            "value": 1
          }
        },
        "c94209038bce448e93703d8bde5806ef": {
          "model_module": "@jupyter-widgets/controls",
          "model_name": "HTMLModel",
          "model_module_version": "1.5.0",
          "state": {
            "_dom_classes": [],
            "_model_module": "@jupyter-widgets/controls",
            "_model_module_version": "1.5.0",
            "_model_name": "HTMLModel",
            "_view_count": null,
            "_view_module": "@jupyter-widgets/controls",
            "_view_module_version": "1.5.0",
            "_view_name": "HTMLView",
            "description": "",
            "description_tooltip": null,
            "layout": "IPY_MODEL_f11ec953585a48cf8771e9fba3a3fb88",
            "placeholder": "​",
            "style": "IPY_MODEL_f7437ac8dc294605a131c01e11ad1c59",
            "value": " 1/1 [00:02&lt;00:00,  2.25s/ba]"
          }
        },
        "d18040d450e54787a2359e8fdff6bcb6": {
          "model_module": "@jupyter-widgets/base",
          "model_name": "LayoutModel",
          "model_module_version": "1.2.0",
          "state": {
            "_model_module": "@jupyter-widgets/base",
            "_model_module_version": "1.2.0",
            "_model_name": "LayoutModel",
            "_view_count": null,
            "_view_module": "@jupyter-widgets/base",
            "_view_module_version": "1.2.0",
            "_view_name": "LayoutView",
            "align_content": null,
            "align_items": null,
            "align_self": null,
            "border": null,
            "bottom": null,
            "display": null,
            "flex": null,
            "flex_flow": null,
            "grid_area": null,
            "grid_auto_columns": null,
            "grid_auto_flow": null,
            "grid_auto_rows": null,
            "grid_column": null,
            "grid_gap": null,
            "grid_row": null,
            "grid_template_areas": null,
            "grid_template_columns": null,
            "grid_template_rows": null,
            "height": null,
            "justify_content": null,
            "justify_items": null,
            "left": null,
            "margin": null,
            "max_height": null,
            "max_width": null,
            "min_height": null,
            "min_width": null,
            "object_fit": null,
            "object_position": null,
            "order": null,
            "overflow": null,
            "overflow_x": null,
            "overflow_y": null,
            "padding": null,
            "right": null,
            "top": null,
            "visibility": null,
            "width": null
          }
        },
        "fe26a537bcda48409ce0c9cb7de81b79": {
          "model_module": "@jupyter-widgets/base",
          "model_name": "LayoutModel",
          "model_module_version": "1.2.0",
          "state": {
            "_model_module": "@jupyter-widgets/base",
            "_model_module_version": "1.2.0",
            "_model_name": "LayoutModel",
            "_view_count": null,
            "_view_module": "@jupyter-widgets/base",
            "_view_module_version": "1.2.0",
            "_view_name": "LayoutView",
            "align_content": null,
            "align_items": null,
            "align_self": null,
            "border": null,
            "bottom": null,
            "display": null,
            "flex": null,
            "flex_flow": null,
            "grid_area": null,
            "grid_auto_columns": null,
            "grid_auto_flow": null,
            "grid_auto_rows": null,
            "grid_column": null,
            "grid_gap": null,
            "grid_row": null,
            "grid_template_areas": null,
            "grid_template_columns": null,
            "grid_template_rows": null,
            "height": null,
            "justify_content": null,
            "justify_items": null,
            "left": null,
            "margin": null,
            "max_height": null,
            "max_width": null,
            "min_height": null,
            "min_width": null,
            "object_fit": null,
            "object_position": null,
            "order": null,
            "overflow": null,
            "overflow_x": null,
            "overflow_y": null,
            "padding": null,
            "right": null,
            "top": null,
            "visibility": null,
            "width": null
          }
        },
        "2231f9b6b3a64a9cb294551ab59bf16f": {
          "model_module": "@jupyter-widgets/controls",
          "model_name": "DescriptionStyleModel",
          "model_module_version": "1.5.0",
          "state": {
            "_model_module": "@jupyter-widgets/controls",
            "_model_module_version": "1.5.0",
            "_model_name": "DescriptionStyleModel",
            "_view_count": null,
            "_view_module": "@jupyter-widgets/base",
            "_view_module_version": "1.2.0",
            "_view_name": "StyleView",
            "description_width": ""
          }
        },
        "eb69256ae1a64654a6fbe793bcbd0aad": {
          "model_module": "@jupyter-widgets/base",
          "model_name": "LayoutModel",
          "model_module_version": "1.2.0",
          "state": {
            "_model_module": "@jupyter-widgets/base",
            "_model_module_version": "1.2.0",
            "_model_name": "LayoutModel",
            "_view_count": null,
            "_view_module": "@jupyter-widgets/base",
            "_view_module_version": "1.2.0",
            "_view_name": "LayoutView",
            "align_content": null,
            "align_items": null,
            "align_self": null,
            "border": null,
            "bottom": null,
            "display": null,
            "flex": null,
            "flex_flow": null,
            "grid_area": null,
            "grid_auto_columns": null,
            "grid_auto_flow": null,
            "grid_auto_rows": null,
            "grid_column": null,
            "grid_gap": null,
            "grid_row": null,
            "grid_template_areas": null,
            "grid_template_columns": null,
            "grid_template_rows": null,
            "height": null,
            "justify_content": null,
            "justify_items": null,
            "left": null,
            "margin": null,
            "max_height": null,
            "max_width": null,
            "min_height": null,
            "min_width": null,
            "object_fit": null,
            "object_position": null,
            "order": null,
            "overflow": null,
            "overflow_x": null,
            "overflow_y": null,
            "padding": null,
            "right": null,
            "top": null,
            "visibility": null,
            "width": null
          }
        },
        "33ef19c257734ccfab33b39056c5ee85": {
          "model_module": "@jupyter-widgets/controls",
          "model_name": "ProgressStyleModel",
          "model_module_version": "1.5.0",
          "state": {
            "_model_module": "@jupyter-widgets/controls",
            "_model_module_version": "1.5.0",
            "_model_name": "ProgressStyleModel",
            "_view_count": null,
            "_view_module": "@jupyter-widgets/base",
            "_view_module_version": "1.2.0",
            "_view_name": "StyleView",
            "bar_color": null,
            "description_width": ""
          }
        },
        "f11ec953585a48cf8771e9fba3a3fb88": {
          "model_module": "@jupyter-widgets/base",
          "model_name": "LayoutModel",
          "model_module_version": "1.2.0",
          "state": {
            "_model_module": "@jupyter-widgets/base",
            "_model_module_version": "1.2.0",
            "_model_name": "LayoutModel",
            "_view_count": null,
            "_view_module": "@jupyter-widgets/base",
            "_view_module_version": "1.2.0",
            "_view_name": "LayoutView",
            "align_content": null,
            "align_items": null,
            "align_self": null,
            "border": null,
            "bottom": null,
            "display": null,
            "flex": null,
            "flex_flow": null,
            "grid_area": null,
            "grid_auto_columns": null,
            "grid_auto_flow": null,
            "grid_auto_rows": null,
            "grid_column": null,
            "grid_gap": null,
            "grid_row": null,
            "grid_template_areas": null,
            "grid_template_columns": null,
            "grid_template_rows": null,
            "height": null,
            "justify_content": null,
            "justify_items": null,
            "left": null,
            "margin": null,
            "max_height": null,
            "max_width": null,
            "min_height": null,
            "min_width": null,
            "object_fit": null,
            "object_position": null,
            "order": null,
            "overflow": null,
            "overflow_x": null,
            "overflow_y": null,
            "padding": null,
            "right": null,
            "top": null,
            "visibility": null,
            "width": null
          }
        },
        "f7437ac8dc294605a131c01e11ad1c59": {
          "model_module": "@jupyter-widgets/controls",
          "model_name": "DescriptionStyleModel",
          "model_module_version": "1.5.0",
          "state": {
            "_model_module": "@jupyter-widgets/controls",
            "_model_module_version": "1.5.0",
            "_model_name": "DescriptionStyleModel",
            "_view_count": null,
            "_view_module": "@jupyter-widgets/base",
            "_view_module_version": "1.2.0",
            "_view_name": "StyleView",
            "description_width": ""
          }
        },
        "7ce0a91d345d48e79990036d1d2ac6d9": {
          "model_module": "@jupyter-widgets/controls",
          "model_name": "HBoxModel",
          "model_module_version": "1.5.0",
          "state": {
            "_dom_classes": [],
            "_model_module": "@jupyter-widgets/controls",
            "_model_module_version": "1.5.0",
            "_model_name": "HBoxModel",
            "_view_count": null,
            "_view_module": "@jupyter-widgets/controls",
            "_view_module_version": "1.5.0",
            "_view_name": "HBoxView",
            "box_style": "",
            "children": [
              "IPY_MODEL_aa6a5aa76a4c48a4a514d819d016050a",
              "IPY_MODEL_a4814b8ce19b4ec4877e7d94021b996a",
              "IPY_MODEL_1f57d06397d944ab89240d517db57e0a"
            ],
            "layout": "IPY_MODEL_064bb5e54d9a4167ace00c38f55b7b84"
          }
        },
        "aa6a5aa76a4c48a4a514d819d016050a": {
          "model_module": "@jupyter-widgets/controls",
          "model_name": "HTMLModel",
          "model_module_version": "1.5.0",
          "state": {
            "_dom_classes": [],
            "_model_module": "@jupyter-widgets/controls",
            "_model_module_version": "1.5.0",
            "_model_name": "HTMLModel",
            "_view_count": null,
            "_view_module": "@jupyter-widgets/controls",
            "_view_module_version": "1.5.0",
            "_view_name": "HTMLView",
            "description": "",
            "description_tooltip": null,
            "layout": "IPY_MODEL_80601a000a394260b422617c2c65a863",
            "placeholder": "​",
            "style": "IPY_MODEL_d8dd93b03c594c9f93643f8fc6a0e24e",
            "value": "100%"
          }
        },
        "a4814b8ce19b4ec4877e7d94021b996a": {
          "model_module": "@jupyter-widgets/controls",
          "model_name": "FloatProgressModel",
          "model_module_version": "1.5.0",
          "state": {
            "_dom_classes": [],
            "_model_module": "@jupyter-widgets/controls",
            "_model_module_version": "1.5.0",
            "_model_name": "FloatProgressModel",
            "_view_count": null,
            "_view_module": "@jupyter-widgets/controls",
            "_view_module_version": "1.5.0",
            "_view_name": "ProgressView",
            "bar_style": "success",
            "description": "",
            "description_tooltip": null,
            "layout": "IPY_MODEL_2fc67b656656401fb70c254dcdac3b41",
            "max": 1,
            "min": 0,
            "orientation": "horizontal",
            "style": "IPY_MODEL_93923fa1b29749ea8cbab7fb9c8ebc62",
            "value": 1
          }
        },
        "1f57d06397d944ab89240d517db57e0a": {
          "model_module": "@jupyter-widgets/controls",
          "model_name": "HTMLModel",
          "model_module_version": "1.5.0",
          "state": {
            "_dom_classes": [],
            "_model_module": "@jupyter-widgets/controls",
            "_model_module_version": "1.5.0",
            "_model_name": "HTMLModel",
            "_view_count": null,
            "_view_module": "@jupyter-widgets/controls",
            "_view_module_version": "1.5.0",
            "_view_name": "HTMLView",
            "description": "",
            "description_tooltip": null,
            "layout": "IPY_MODEL_903ae9540b1649c0b642892858fdaffa",
            "placeholder": "​",
            "style": "IPY_MODEL_4322ad4d5fd24c44bf3cbc3625c6ba02",
            "value": " 1/1 [00:00&lt;00:00,  3.45ba/s]"
          }
        },
        "064bb5e54d9a4167ace00c38f55b7b84": {
          "model_module": "@jupyter-widgets/base",
          "model_name": "LayoutModel",
          "model_module_version": "1.2.0",
          "state": {
            "_model_module": "@jupyter-widgets/base",
            "_model_module_version": "1.2.0",
            "_model_name": "LayoutModel",
            "_view_count": null,
            "_view_module": "@jupyter-widgets/base",
            "_view_module_version": "1.2.0",
            "_view_name": "LayoutView",
            "align_content": null,
            "align_items": null,
            "align_self": null,
            "border": null,
            "bottom": null,
            "display": null,
            "flex": null,
            "flex_flow": null,
            "grid_area": null,
            "grid_auto_columns": null,
            "grid_auto_flow": null,
            "grid_auto_rows": null,
            "grid_column": null,
            "grid_gap": null,
            "grid_row": null,
            "grid_template_areas": null,
            "grid_template_columns": null,
            "grid_template_rows": null,
            "height": null,
            "justify_content": null,
            "justify_items": null,
            "left": null,
            "margin": null,
            "max_height": null,
            "max_width": null,
            "min_height": null,
            "min_width": null,
            "object_fit": null,
            "object_position": null,
            "order": null,
            "overflow": null,
            "overflow_x": null,
            "overflow_y": null,
            "padding": null,
            "right": null,
            "top": null,
            "visibility": null,
            "width": null
          }
        },
        "80601a000a394260b422617c2c65a863": {
          "model_module": "@jupyter-widgets/base",
          "model_name": "LayoutModel",
          "model_module_version": "1.2.0",
          "state": {
            "_model_module": "@jupyter-widgets/base",
            "_model_module_version": "1.2.0",
            "_model_name": "LayoutModel",
            "_view_count": null,
            "_view_module": "@jupyter-widgets/base",
            "_view_module_version": "1.2.0",
            "_view_name": "LayoutView",
            "align_content": null,
            "align_items": null,
            "align_self": null,
            "border": null,
            "bottom": null,
            "display": null,
            "flex": null,
            "flex_flow": null,
            "grid_area": null,
            "grid_auto_columns": null,
            "grid_auto_flow": null,
            "grid_auto_rows": null,
            "grid_column": null,
            "grid_gap": null,
            "grid_row": null,
            "grid_template_areas": null,
            "grid_template_columns": null,
            "grid_template_rows": null,
            "height": null,
            "justify_content": null,
            "justify_items": null,
            "left": null,
            "margin": null,
            "max_height": null,
            "max_width": null,
            "min_height": null,
            "min_width": null,
            "object_fit": null,
            "object_position": null,
            "order": null,
            "overflow": null,
            "overflow_x": null,
            "overflow_y": null,
            "padding": null,
            "right": null,
            "top": null,
            "visibility": null,
            "width": null
          }
        },
        "d8dd93b03c594c9f93643f8fc6a0e24e": {
          "model_module": "@jupyter-widgets/controls",
          "model_name": "DescriptionStyleModel",
          "model_module_version": "1.5.0",
          "state": {
            "_model_module": "@jupyter-widgets/controls",
            "_model_module_version": "1.5.0",
            "_model_name": "DescriptionStyleModel",
            "_view_count": null,
            "_view_module": "@jupyter-widgets/base",
            "_view_module_version": "1.2.0",
            "_view_name": "StyleView",
            "description_width": ""
          }
        },
        "2fc67b656656401fb70c254dcdac3b41": {
          "model_module": "@jupyter-widgets/base",
          "model_name": "LayoutModel",
          "model_module_version": "1.2.0",
          "state": {
            "_model_module": "@jupyter-widgets/base",
            "_model_module_version": "1.2.0",
            "_model_name": "LayoutModel",
            "_view_count": null,
            "_view_module": "@jupyter-widgets/base",
            "_view_module_version": "1.2.0",
            "_view_name": "LayoutView",
            "align_content": null,
            "align_items": null,
            "align_self": null,
            "border": null,
            "bottom": null,
            "display": null,
            "flex": null,
            "flex_flow": null,
            "grid_area": null,
            "grid_auto_columns": null,
            "grid_auto_flow": null,
            "grid_auto_rows": null,
            "grid_column": null,
            "grid_gap": null,
            "grid_row": null,
            "grid_template_areas": null,
            "grid_template_columns": null,
            "grid_template_rows": null,
            "height": null,
            "justify_content": null,
            "justify_items": null,
            "left": null,
            "margin": null,
            "max_height": null,
            "max_width": null,
            "min_height": null,
            "min_width": null,
            "object_fit": null,
            "object_position": null,
            "order": null,
            "overflow": null,
            "overflow_x": null,
            "overflow_y": null,
            "padding": null,
            "right": null,
            "top": null,
            "visibility": null,
            "width": null
          }
        },
        "93923fa1b29749ea8cbab7fb9c8ebc62": {
          "model_module": "@jupyter-widgets/controls",
          "model_name": "ProgressStyleModel",
          "model_module_version": "1.5.0",
          "state": {
            "_model_module": "@jupyter-widgets/controls",
            "_model_module_version": "1.5.0",
            "_model_name": "ProgressStyleModel",
            "_view_count": null,
            "_view_module": "@jupyter-widgets/base",
            "_view_module_version": "1.2.0",
            "_view_name": "StyleView",
            "bar_color": null,
            "description_width": ""
          }
        },
        "903ae9540b1649c0b642892858fdaffa": {
          "model_module": "@jupyter-widgets/base",
          "model_name": "LayoutModel",
          "model_module_version": "1.2.0",
          "state": {
            "_model_module": "@jupyter-widgets/base",
            "_model_module_version": "1.2.0",
            "_model_name": "LayoutModel",
            "_view_count": null,
            "_view_module": "@jupyter-widgets/base",
            "_view_module_version": "1.2.0",
            "_view_name": "LayoutView",
            "align_content": null,
            "align_items": null,
            "align_self": null,
            "border": null,
            "bottom": null,
            "display": null,
            "flex": null,
            "flex_flow": null,
            "grid_area": null,
            "grid_auto_columns": null,
            "grid_auto_flow": null,
            "grid_auto_rows": null,
            "grid_column": null,
            "grid_gap": null,
            "grid_row": null,
            "grid_template_areas": null,
            "grid_template_columns": null,
            "grid_template_rows": null,
            "height": null,
            "justify_content": null,
            "justify_items": null,
            "left": null,
            "margin": null,
            "max_height": null,
            "max_width": null,
            "min_height": null,
            "min_width": null,
            "object_fit": null,
            "object_position": null,
            "order": null,
            "overflow": null,
            "overflow_x": null,
            "overflow_y": null,
            "padding": null,
            "right": null,
            "top": null,
            "visibility": null,
            "width": null
          }
        },
        "4322ad4d5fd24c44bf3cbc3625c6ba02": {
          "model_module": "@jupyter-widgets/controls",
          "model_name": "DescriptionStyleModel",
          "model_module_version": "1.5.0",
          "state": {
            "_model_module": "@jupyter-widgets/controls",
            "_model_module_version": "1.5.0",
            "_model_name": "DescriptionStyleModel",
            "_view_count": null,
            "_view_module": "@jupyter-widgets/base",
            "_view_module_version": "1.2.0",
            "_view_name": "StyleView",
            "description_width": ""
          }
        },
        "9fafedbf01534732974720c254cedcb5": {
          "model_module": "@jupyter-widgets/controls",
          "model_name": "HBoxModel",
          "model_module_version": "1.5.0",
          "state": {
            "_dom_classes": [],
            "_model_module": "@jupyter-widgets/controls",
            "_model_module_version": "1.5.0",
            "_model_name": "HBoxModel",
            "_view_count": null,
            "_view_module": "@jupyter-widgets/controls",
            "_view_module_version": "1.5.0",
            "_view_name": "HBoxView",
            "box_style": "",
            "children": [
              "IPY_MODEL_45dc2a3520dc48cfa09661a30136fe88",
              "IPY_MODEL_340ebc0041d842f29748253e90241c12",
              "IPY_MODEL_c3797a81da234cffb46e5bf5fbff2ec6"
            ],
            "layout": "IPY_MODEL_480834a6685542649be9e6ef7cce43c0"
          }
        },
        "45dc2a3520dc48cfa09661a30136fe88": {
          "model_module": "@jupyter-widgets/controls",
          "model_name": "HTMLModel",
          "model_module_version": "1.5.0",
          "state": {
            "_dom_classes": [],
            "_model_module": "@jupyter-widgets/controls",
            "_model_module_version": "1.5.0",
            "_model_name": "HTMLModel",
            "_view_count": null,
            "_view_module": "@jupyter-widgets/controls",
            "_view_module_version": "1.5.0",
            "_view_name": "HTMLView",
            "description": "",
            "description_tooltip": null,
            "layout": "IPY_MODEL_1f302de3b5cd42178d2970e672ebff58",
            "placeholder": "​",
            "style": "IPY_MODEL_a964c1d1b7ef4a27b5dc11d6e7b63e6a",
            "value": "Downloading: 100%"
          }
        },
        "340ebc0041d842f29748253e90241c12": {
          "model_module": "@jupyter-widgets/controls",
          "model_name": "FloatProgressModel",
          "model_module_version": "1.5.0",
          "state": {
            "_dom_classes": [],
            "_model_module": "@jupyter-widgets/controls",
            "_model_module_version": "1.5.0",
            "_model_name": "FloatProgressModel",
            "_view_count": null,
            "_view_module": "@jupyter-widgets/controls",
            "_view_module_version": "1.5.0",
            "_view_name": "ProgressView",
            "bar_style": "success",
            "description": "",
            "description_tooltip": null,
            "layout": "IPY_MODEL_fe2c9126cea248caa491b307ca204799",
            "max": 760,
            "min": 0,
            "orientation": "horizontal",
            "style": "IPY_MODEL_7f4149c482474b72971091b29827b233",
            "value": 760
          }
        },
        "c3797a81da234cffb46e5bf5fbff2ec6": {
          "model_module": "@jupyter-widgets/controls",
          "model_name": "HTMLModel",
          "model_module_version": "1.5.0",
          "state": {
            "_dom_classes": [],
            "_model_module": "@jupyter-widgets/controls",
            "_model_module_version": "1.5.0",
            "_model_name": "HTMLModel",
            "_view_count": null,
            "_view_module": "@jupyter-widgets/controls",
            "_view_module_version": "1.5.0",
            "_view_name": "HTMLView",
            "description": "",
            "description_tooltip": null,
            "layout": "IPY_MODEL_3dfae15bea67416ca423fe86eed0ee21",
            "placeholder": "​",
            "style": "IPY_MODEL_c7bd9e8fb1944c3085f5bbcc8cffaaec",
            "value": " 760/760 [00:00&lt;00:00, 15.7kB/s]"
          }
        },
        "480834a6685542649be9e6ef7cce43c0": {
          "model_module": "@jupyter-widgets/base",
          "model_name": "LayoutModel",
          "model_module_version": "1.2.0",
          "state": {
            "_model_module": "@jupyter-widgets/base",
            "_model_module_version": "1.2.0",
            "_model_name": "LayoutModel",
            "_view_count": null,
            "_view_module": "@jupyter-widgets/base",
            "_view_module_version": "1.2.0",
            "_view_name": "LayoutView",
            "align_content": null,
            "align_items": null,
            "align_self": null,
            "border": null,
            "bottom": null,
            "display": null,
            "flex": null,
            "flex_flow": null,
            "grid_area": null,
            "grid_auto_columns": null,
            "grid_auto_flow": null,
            "grid_auto_rows": null,
            "grid_column": null,
            "grid_gap": null,
            "grid_row": null,
            "grid_template_areas": null,
            "grid_template_columns": null,
            "grid_template_rows": null,
            "height": null,
            "justify_content": null,
            "justify_items": null,
            "left": null,
            "margin": null,
            "max_height": null,
            "max_width": null,
            "min_height": null,
            "min_width": null,
            "object_fit": null,
            "object_position": null,
            "order": null,
            "overflow": null,
            "overflow_x": null,
            "overflow_y": null,
            "padding": null,
            "right": null,
            "top": null,
            "visibility": null,
            "width": null
          }
        },
        "1f302de3b5cd42178d2970e672ebff58": {
          "model_module": "@jupyter-widgets/base",
          "model_name": "LayoutModel",
          "model_module_version": "1.2.0",
          "state": {
            "_model_module": "@jupyter-widgets/base",
            "_model_module_version": "1.2.0",
            "_model_name": "LayoutModel",
            "_view_count": null,
            "_view_module": "@jupyter-widgets/base",
            "_view_module_version": "1.2.0",
            "_view_name": "LayoutView",
            "align_content": null,
            "align_items": null,
            "align_self": null,
            "border": null,
            "bottom": null,
            "display": null,
            "flex": null,
            "flex_flow": null,
            "grid_area": null,
            "grid_auto_columns": null,
            "grid_auto_flow": null,
            "grid_auto_rows": null,
            "grid_column": null,
            "grid_gap": null,
            "grid_row": null,
            "grid_template_areas": null,
            "grid_template_columns": null,
            "grid_template_rows": null,
            "height": null,
            "justify_content": null,
            "justify_items": null,
            "left": null,
            "margin": null,
            "max_height": null,
            "max_width": null,
            "min_height": null,
            "min_width": null,
            "object_fit": null,
            "object_position": null,
            "order": null,
            "overflow": null,
            "overflow_x": null,
            "overflow_y": null,
            "padding": null,
            "right": null,
            "top": null,
            "visibility": null,
            "width": null
          }
        },
        "a964c1d1b7ef4a27b5dc11d6e7b63e6a": {
          "model_module": "@jupyter-widgets/controls",
          "model_name": "DescriptionStyleModel",
          "model_module_version": "1.5.0",
          "state": {
            "_model_module": "@jupyter-widgets/controls",
            "_model_module_version": "1.5.0",
            "_model_name": "DescriptionStyleModel",
            "_view_count": null,
            "_view_module": "@jupyter-widgets/base",
            "_view_module_version": "1.2.0",
            "_view_name": "StyleView",
            "description_width": ""
          }
        },
        "fe2c9126cea248caa491b307ca204799": {
          "model_module": "@jupyter-widgets/base",
          "model_name": "LayoutModel",
          "model_module_version": "1.2.0",
          "state": {
            "_model_module": "@jupyter-widgets/base",
            "_model_module_version": "1.2.0",
            "_model_name": "LayoutModel",
            "_view_count": null,
            "_view_module": "@jupyter-widgets/base",
            "_view_module_version": "1.2.0",
            "_view_name": "LayoutView",
            "align_content": null,
            "align_items": null,
            "align_self": null,
            "border": null,
            "bottom": null,
            "display": null,
            "flex": null,
            "flex_flow": null,
            "grid_area": null,
            "grid_auto_columns": null,
            "grid_auto_flow": null,
            "grid_auto_rows": null,
            "grid_column": null,
            "grid_gap": null,
            "grid_row": null,
            "grid_template_areas": null,
            "grid_template_columns": null,
            "grid_template_rows": null,
            "height": null,
            "justify_content": null,
            "justify_items": null,
            "left": null,
            "margin": null,
            "max_height": null,
            "max_width": null,
            "min_height": null,
            "min_width": null,
            "object_fit": null,
            "object_position": null,
            "order": null,
            "overflow": null,
            "overflow_x": null,
            "overflow_y": null,
            "padding": null,
            "right": null,
            "top": null,
            "visibility": null,
            "width": null
          }
        },
        "7f4149c482474b72971091b29827b233": {
          "model_module": "@jupyter-widgets/controls",
          "model_name": "ProgressStyleModel",
          "model_module_version": "1.5.0",
          "state": {
            "_model_module": "@jupyter-widgets/controls",
            "_model_module_version": "1.5.0",
            "_model_name": "ProgressStyleModel",
            "_view_count": null,
            "_view_module": "@jupyter-widgets/base",
            "_view_module_version": "1.2.0",
            "_view_name": "StyleView",
            "bar_color": null,
            "description_width": ""
          }
        },
        "3dfae15bea67416ca423fe86eed0ee21": {
          "model_module": "@jupyter-widgets/base",
          "model_name": "LayoutModel",
          "model_module_version": "1.2.0",
          "state": {
            "_model_module": "@jupyter-widgets/base",
            "_model_module_version": "1.2.0",
            "_model_name": "LayoutModel",
            "_view_count": null,
            "_view_module": "@jupyter-widgets/base",
            "_view_module_version": "1.2.0",
            "_view_name": "LayoutView",
            "align_content": null,
            "align_items": null,
            "align_self": null,
            "border": null,
            "bottom": null,
            "display": null,
            "flex": null,
            "flex_flow": null,
            "grid_area": null,
            "grid_auto_columns": null,
            "grid_auto_flow": null,
            "grid_auto_rows": null,
            "grid_column": null,
            "grid_gap": null,
            "grid_row": null,
            "grid_template_areas": null,
            "grid_template_columns": null,
            "grid_template_rows": null,
            "height": null,
            "justify_content": null,
            "justify_items": null,
            "left": null,
            "margin": null,
            "max_height": null,
            "max_width": null,
            "min_height": null,
            "min_width": null,
            "object_fit": null,
            "object_position": null,
            "order": null,
            "overflow": null,
            "overflow_x": null,
            "overflow_y": null,
            "padding": null,
            "right": null,
            "top": null,
            "visibility": null,
            "width": null
          }
        },
        "c7bd9e8fb1944c3085f5bbcc8cffaaec": {
          "model_module": "@jupyter-widgets/controls",
          "model_name": "DescriptionStyleModel",
          "model_module_version": "1.5.0",
          "state": {
            "_model_module": "@jupyter-widgets/controls",
            "_model_module_version": "1.5.0",
            "_model_name": "DescriptionStyleModel",
            "_view_count": null,
            "_view_module": "@jupyter-widgets/base",
            "_view_module_version": "1.2.0",
            "_view_name": "StyleView",
            "description_width": ""
          }
        },
        "e767336e90c543fc8aa432d35151dd81": {
          "model_module": "@jupyter-widgets/controls",
          "model_name": "HBoxModel",
          "model_module_version": "1.5.0",
          "state": {
            "_dom_classes": [],
            "_model_module": "@jupyter-widgets/controls",
            "_model_module_version": "1.5.0",
            "_model_name": "HBoxModel",
            "_view_count": null,
            "_view_module": "@jupyter-widgets/controls",
            "_view_module_version": "1.5.0",
            "_view_name": "HBoxView",
            "box_style": "",
            "children": [
              "IPY_MODEL_5d5a1a81a66149fc9bd3d523c3642cbd",
              "IPY_MODEL_f2ec5a4d90a34bf881c1173dfd755c19",
              "IPY_MODEL_5ab3b7097fbc4a91991956ca59c8abb6"
            ],
            "layout": "IPY_MODEL_ff921fed7bfd454a9c6c5314c15a3487"
          }
        },
        "5d5a1a81a66149fc9bd3d523c3642cbd": {
          "model_module": "@jupyter-widgets/controls",
          "model_name": "HTMLModel",
          "model_module_version": "1.5.0",
          "state": {
            "_dom_classes": [],
            "_model_module": "@jupyter-widgets/controls",
            "_model_module_version": "1.5.0",
            "_model_name": "HTMLModel",
            "_view_count": null,
            "_view_module": "@jupyter-widgets/controls",
            "_view_module_version": "1.5.0",
            "_view_name": "HTMLView",
            "description": "",
            "description_tooltip": null,
            "layout": "IPY_MODEL_86d18cac28184feca3e78dc7852bb83d",
            "placeholder": "​",
            "style": "IPY_MODEL_6700207b8cf04b1a863d3b60278408e1",
            "value": "Downloading: 100%"
          }
        },
        "f2ec5a4d90a34bf881c1173dfd755c19": {
          "model_module": "@jupyter-widgets/controls",
          "model_name": "FloatProgressModel",
          "model_module_version": "1.5.0",
          "state": {
            "_dom_classes": [],
            "_model_module": "@jupyter-widgets/controls",
            "_model_module_version": "1.5.0",
            "_model_name": "FloatProgressModel",
            "_view_count": null,
            "_view_module": "@jupyter-widgets/controls",
            "_view_module_version": "1.5.0",
            "_view_name": "ProgressView",
            "bar_style": "success",
            "description": "",
            "description_tooltip": null,
            "layout": "IPY_MODEL_f22d2aa10075497690e5f7897963a7d2",
            "max": 467042463,
            "min": 0,
            "orientation": "horizontal",
            "style": "IPY_MODEL_a4966ec26b834daf83e2736b20aa9fc1",
            "value": 467042463
          }
        },
        "5ab3b7097fbc4a91991956ca59c8abb6": {
          "model_module": "@jupyter-widgets/controls",
          "model_name": "HTMLModel",
          "model_module_version": "1.5.0",
          "state": {
            "_dom_classes": [],
            "_model_module": "@jupyter-widgets/controls",
            "_model_module_version": "1.5.0",
            "_model_name": "HTMLModel",
            "_view_count": null,
            "_view_module": "@jupyter-widgets/controls",
            "_view_module_version": "1.5.0",
            "_view_name": "HTMLView",
            "description": "",
            "description_tooltip": null,
            "layout": "IPY_MODEL_9229bbb9f89a40bab2804151f1284146",
            "placeholder": "​",
            "style": "IPY_MODEL_efcd5b378a5a4400bb30e09d23aa0166",
            "value": " 445M/445M [00:13&lt;00:00, 35.8MB/s]"
          }
        },
        "ff921fed7bfd454a9c6c5314c15a3487": {
          "model_module": "@jupyter-widgets/base",
          "model_name": "LayoutModel",
          "model_module_version": "1.2.0",
          "state": {
            "_model_module": "@jupyter-widgets/base",
            "_model_module_version": "1.2.0",
            "_model_name": "LayoutModel",
            "_view_count": null,
            "_view_module": "@jupyter-widgets/base",
            "_view_module_version": "1.2.0",
            "_view_name": "LayoutView",
            "align_content": null,
            "align_items": null,
            "align_self": null,
            "border": null,
            "bottom": null,
            "display": null,
            "flex": null,
            "flex_flow": null,
            "grid_area": null,
            "grid_auto_columns": null,
            "grid_auto_flow": null,
            "grid_auto_rows": null,
            "grid_column": null,
            "grid_gap": null,
            "grid_row": null,
            "grid_template_areas": null,
            "grid_template_columns": null,
            "grid_template_rows": null,
            "height": null,
            "justify_content": null,
            "justify_items": null,
            "left": null,
            "margin": null,
            "max_height": null,
            "max_width": null,
            "min_height": null,
            "min_width": null,
            "object_fit": null,
            "object_position": null,
            "order": null,
            "overflow": null,
            "overflow_x": null,
            "overflow_y": null,
            "padding": null,
            "right": null,
            "top": null,
            "visibility": null,
            "width": null
          }
        },
        "86d18cac28184feca3e78dc7852bb83d": {
          "model_module": "@jupyter-widgets/base",
          "model_name": "LayoutModel",
          "model_module_version": "1.2.0",
          "state": {
            "_model_module": "@jupyter-widgets/base",
            "_model_module_version": "1.2.0",
            "_model_name": "LayoutModel",
            "_view_count": null,
            "_view_module": "@jupyter-widgets/base",
            "_view_module_version": "1.2.0",
            "_view_name": "LayoutView",
            "align_content": null,
            "align_items": null,
            "align_self": null,
            "border": null,
            "bottom": null,
            "display": null,
            "flex": null,
            "flex_flow": null,
            "grid_area": null,
            "grid_auto_columns": null,
            "grid_auto_flow": null,
            "grid_auto_rows": null,
            "grid_column": null,
            "grid_gap": null,
            "grid_row": null,
            "grid_template_areas": null,
            "grid_template_columns": null,
            "grid_template_rows": null,
            "height": null,
            "justify_content": null,
            "justify_items": null,
            "left": null,
            "margin": null,
            "max_height": null,
            "max_width": null,
            "min_height": null,
            "min_width": null,
            "object_fit": null,
            "object_position": null,
            "order": null,
            "overflow": null,
            "overflow_x": null,
            "overflow_y": null,
            "padding": null,
            "right": null,
            "top": null,
            "visibility": null,
            "width": null
          }
        },
        "6700207b8cf04b1a863d3b60278408e1": {
          "model_module": "@jupyter-widgets/controls",
          "model_name": "DescriptionStyleModel",
          "model_module_version": "1.5.0",
          "state": {
            "_model_module": "@jupyter-widgets/controls",
            "_model_module_version": "1.5.0",
            "_model_name": "DescriptionStyleModel",
            "_view_count": null,
            "_view_module": "@jupyter-widgets/base",
            "_view_module_version": "1.2.0",
            "_view_name": "StyleView",
            "description_width": ""
          }
        },
        "f22d2aa10075497690e5f7897963a7d2": {
          "model_module": "@jupyter-widgets/base",
          "model_name": "LayoutModel",
          "model_module_version": "1.2.0",
          "state": {
            "_model_module": "@jupyter-widgets/base",
            "_model_module_version": "1.2.0",
            "_model_name": "LayoutModel",
            "_view_count": null,
            "_view_module": "@jupyter-widgets/base",
            "_view_module_version": "1.2.0",
            "_view_name": "LayoutView",
            "align_content": null,
            "align_items": null,
            "align_self": null,
            "border": null,
            "bottom": null,
            "display": null,
            "flex": null,
            "flex_flow": null,
            "grid_area": null,
            "grid_auto_columns": null,
            "grid_auto_flow": null,
            "grid_auto_rows": null,
            "grid_column": null,
            "grid_gap": null,
            "grid_row": null,
            "grid_template_areas": null,
            "grid_template_columns": null,
            "grid_template_rows": null,
            "height": null,
            "justify_content": null,
            "justify_items": null,
            "left": null,
            "margin": null,
            "max_height": null,
            "max_width": null,
            "min_height": null,
            "min_width": null,
            "object_fit": null,
            "object_position": null,
            "order": null,
            "overflow": null,
            "overflow_x": null,
            "overflow_y": null,
            "padding": null,
            "right": null,
            "top": null,
            "visibility": null,
            "width": null
          }
        },
        "a4966ec26b834daf83e2736b20aa9fc1": {
          "model_module": "@jupyter-widgets/controls",
          "model_name": "ProgressStyleModel",
          "model_module_version": "1.5.0",
          "state": {
            "_model_module": "@jupyter-widgets/controls",
            "_model_module_version": "1.5.0",
            "_model_name": "ProgressStyleModel",
            "_view_count": null,
            "_view_module": "@jupyter-widgets/base",
            "_view_module_version": "1.2.0",
            "_view_name": "StyleView",
            "bar_color": null,
            "description_width": ""
          }
        },
        "9229bbb9f89a40bab2804151f1284146": {
          "model_module": "@jupyter-widgets/base",
          "model_name": "LayoutModel",
          "model_module_version": "1.2.0",
          "state": {
            "_model_module": "@jupyter-widgets/base",
            "_model_module_version": "1.2.0",
            "_model_name": "LayoutModel",
            "_view_count": null,
            "_view_module": "@jupyter-widgets/base",
            "_view_module_version": "1.2.0",
            "_view_name": "LayoutView",
            "align_content": null,
            "align_items": null,
            "align_self": null,
            "border": null,
            "bottom": null,
            "display": null,
            "flex": null,
            "flex_flow": null,
            "grid_area": null,
            "grid_auto_columns": null,
            "grid_auto_flow": null,
            "grid_auto_rows": null,
            "grid_column": null,
            "grid_gap": null,
            "grid_row": null,
            "grid_template_areas": null,
            "grid_template_columns": null,
            "grid_template_rows": null,
            "height": null,
            "justify_content": null,
            "justify_items": null,
            "left": null,
            "margin": null,
            "max_height": null,
            "max_width": null,
            "min_height": null,
            "min_width": null,
            "object_fit": null,
            "object_position": null,
            "order": null,
            "overflow": null,
            "overflow_x": null,
            "overflow_y": null,
            "padding": null,
            "right": null,
            "top": null,
            "visibility": null,
            "width": null
          }
        },
        "efcd5b378a5a4400bb30e09d23aa0166": {
          "model_module": "@jupyter-widgets/controls",
          "model_name": "DescriptionStyleModel",
          "model_module_version": "1.5.0",
          "state": {
            "_model_module": "@jupyter-widgets/controls",
            "_model_module_version": "1.5.0",
            "_model_name": "DescriptionStyleModel",
            "_view_count": null,
            "_view_module": "@jupyter-widgets/base",
            "_view_module_version": "1.2.0",
            "_view_name": "StyleView",
            "description_width": ""
          }
        },
        "877824172fbf4119abc8d2962529405a": {
          "model_module": "@jupyter-widgets/controls",
          "model_name": "HBoxModel",
          "model_module_version": "1.5.0",
          "state": {
            "_dom_classes": [],
            "_model_module": "@jupyter-widgets/controls",
            "_model_module_version": "1.5.0",
            "_model_name": "HBoxModel",
            "_view_count": null,
            "_view_module": "@jupyter-widgets/controls",
            "_view_module_version": "1.5.0",
            "_view_name": "HBoxView",
            "box_style": "",
            "children": [
              "IPY_MODEL_d4fe239be06642bfbf3266f1987d7519",
              "IPY_MODEL_7735675d9d0741fea2523c00d9ffecd3",
              "IPY_MODEL_a8fbbabdaf34451984cb84042c4961bc"
            ],
            "layout": "IPY_MODEL_57e467d5e90a4462bdc563672759153d"
          }
        },
        "d4fe239be06642bfbf3266f1987d7519": {
          "model_module": "@jupyter-widgets/controls",
          "model_name": "HTMLModel",
          "model_module_version": "1.5.0",
          "state": {
            "_dom_classes": [],
            "_model_module": "@jupyter-widgets/controls",
            "_model_module_version": "1.5.0",
            "_model_name": "HTMLModel",
            "_view_count": null,
            "_view_module": "@jupyter-widgets/controls",
            "_view_module_version": "1.5.0",
            "_view_name": "HTMLView",
            "description": "",
            "description_tooltip": null,
            "layout": "IPY_MODEL_0880ec6397694e7a93493042c07e315c",
            "placeholder": "​",
            "style": "IPY_MODEL_92a828704160465b926d1f139e6a64dc",
            "value": "Upload file pytorch_model.bin: 100%"
          }
        },
        "7735675d9d0741fea2523c00d9ffecd3": {
          "model_module": "@jupyter-widgets/controls",
          "model_name": "FloatProgressModel",
          "model_module_version": "1.5.0",
          "state": {
            "_dom_classes": [],
            "_model_module": "@jupyter-widgets/controls",
            "_model_module_version": "1.5.0",
            "_model_name": "FloatProgressModel",
            "_view_count": null,
            "_view_module": "@jupyter-widgets/controls",
            "_view_module_version": "1.5.0",
            "_view_name": "ProgressView",
            "bar_style": "success",
            "description": "",
            "description_tooltip": null,
            "layout": "IPY_MODEL_4415f13c7f924c7caf3ac59192fd9fb4",
            "max": 466946849,
            "min": 0,
            "orientation": "horizontal",
            "style": "IPY_MODEL_4a08daf6c14f47bb8d0034212f634f9a",
            "value": 466946849
          }
        },
        "a8fbbabdaf34451984cb84042c4961bc": {
          "model_module": "@jupyter-widgets/controls",
          "model_name": "HTMLModel",
          "model_module_version": "1.5.0",
          "state": {
            "_dom_classes": [],
            "_model_module": "@jupyter-widgets/controls",
            "_model_module_version": "1.5.0",
            "_model_name": "HTMLModel",
            "_view_count": null,
            "_view_module": "@jupyter-widgets/controls",
            "_view_module_version": "1.5.0",
            "_view_name": "HTMLView",
            "description": "",
            "description_tooltip": null,
            "layout": "IPY_MODEL_233092bb1b0a4ca6b308512e691870f7",
            "placeholder": "​",
            "style": "IPY_MODEL_fefe5bd37223499d971558420a2cb49b",
            "value": " 445M/445M [06:54&lt;00:00, 654kB/s]"
          }
        },
        "57e467d5e90a4462bdc563672759153d": {
          "model_module": "@jupyter-widgets/base",
          "model_name": "LayoutModel",
          "model_module_version": "1.2.0",
          "state": {
            "_model_module": "@jupyter-widgets/base",
            "_model_module_version": "1.2.0",
            "_model_name": "LayoutModel",
            "_view_count": null,
            "_view_module": "@jupyter-widgets/base",
            "_view_module_version": "1.2.0",
            "_view_name": "LayoutView",
            "align_content": null,
            "align_items": null,
            "align_self": null,
            "border": null,
            "bottom": null,
            "display": null,
            "flex": null,
            "flex_flow": null,
            "grid_area": null,
            "grid_auto_columns": null,
            "grid_auto_flow": null,
            "grid_auto_rows": null,
            "grid_column": null,
            "grid_gap": null,
            "grid_row": null,
            "grid_template_areas": null,
            "grid_template_columns": null,
            "grid_template_rows": null,
            "height": null,
            "justify_content": null,
            "justify_items": null,
            "left": null,
            "margin": null,
            "max_height": null,
            "max_width": null,
            "min_height": null,
            "min_width": null,
            "object_fit": null,
            "object_position": null,
            "order": null,
            "overflow": null,
            "overflow_x": null,
            "overflow_y": null,
            "padding": null,
            "right": null,
            "top": null,
            "visibility": null,
            "width": null
          }
        },
        "0880ec6397694e7a93493042c07e315c": {
          "model_module": "@jupyter-widgets/base",
          "model_name": "LayoutModel",
          "model_module_version": "1.2.0",
          "state": {
            "_model_module": "@jupyter-widgets/base",
            "_model_module_version": "1.2.0",
            "_model_name": "LayoutModel",
            "_view_count": null,
            "_view_module": "@jupyter-widgets/base",
            "_view_module_version": "1.2.0",
            "_view_name": "LayoutView",
            "align_content": null,
            "align_items": null,
            "align_self": null,
            "border": null,
            "bottom": null,
            "display": null,
            "flex": null,
            "flex_flow": null,
            "grid_area": null,
            "grid_auto_columns": null,
            "grid_auto_flow": null,
            "grid_auto_rows": null,
            "grid_column": null,
            "grid_gap": null,
            "grid_row": null,
            "grid_template_areas": null,
            "grid_template_columns": null,
            "grid_template_rows": null,
            "height": null,
            "justify_content": null,
            "justify_items": null,
            "left": null,
            "margin": null,
            "max_height": null,
            "max_width": null,
            "min_height": null,
            "min_width": null,
            "object_fit": null,
            "object_position": null,
            "order": null,
            "overflow": null,
            "overflow_x": null,
            "overflow_y": null,
            "padding": null,
            "right": null,
            "top": null,
            "visibility": null,
            "width": null
          }
        },
        "92a828704160465b926d1f139e6a64dc": {
          "model_module": "@jupyter-widgets/controls",
          "model_name": "DescriptionStyleModel",
          "model_module_version": "1.5.0",
          "state": {
            "_model_module": "@jupyter-widgets/controls",
            "_model_module_version": "1.5.0",
            "_model_name": "DescriptionStyleModel",
            "_view_count": null,
            "_view_module": "@jupyter-widgets/base",
            "_view_module_version": "1.2.0",
            "_view_name": "StyleView",
            "description_width": ""
          }
        },
        "4415f13c7f924c7caf3ac59192fd9fb4": {
          "model_module": "@jupyter-widgets/base",
          "model_name": "LayoutModel",
          "model_module_version": "1.2.0",
          "state": {
            "_model_module": "@jupyter-widgets/base",
            "_model_module_version": "1.2.0",
            "_model_name": "LayoutModel",
            "_view_count": null,
            "_view_module": "@jupyter-widgets/base",
            "_view_module_version": "1.2.0",
            "_view_name": "LayoutView",
            "align_content": null,
            "align_items": null,
            "align_self": null,
            "border": null,
            "bottom": null,
            "display": null,
            "flex": null,
            "flex_flow": null,
            "grid_area": null,
            "grid_auto_columns": null,
            "grid_auto_flow": null,
            "grid_auto_rows": null,
            "grid_column": null,
            "grid_gap": null,
            "grid_row": null,
            "grid_template_areas": null,
            "grid_template_columns": null,
            "grid_template_rows": null,
            "height": null,
            "justify_content": null,
            "justify_items": null,
            "left": null,
            "margin": null,
            "max_height": null,
            "max_width": null,
            "min_height": null,
            "min_width": null,
            "object_fit": null,
            "object_position": null,
            "order": null,
            "overflow": null,
            "overflow_x": null,
            "overflow_y": null,
            "padding": null,
            "right": null,
            "top": null,
            "visibility": null,
            "width": null
          }
        },
        "4a08daf6c14f47bb8d0034212f634f9a": {
          "model_module": "@jupyter-widgets/controls",
          "model_name": "ProgressStyleModel",
          "model_module_version": "1.5.0",
          "state": {
            "_model_module": "@jupyter-widgets/controls",
            "_model_module_version": "1.5.0",
            "_model_name": "ProgressStyleModel",
            "_view_count": null,
            "_view_module": "@jupyter-widgets/base",
            "_view_module_version": "1.2.0",
            "_view_name": "StyleView",
            "bar_color": null,
            "description_width": ""
          }
        },
        "233092bb1b0a4ca6b308512e691870f7": {
          "model_module": "@jupyter-widgets/base",
          "model_name": "LayoutModel",
          "model_module_version": "1.2.0",
          "state": {
            "_model_module": "@jupyter-widgets/base",
            "_model_module_version": "1.2.0",
            "_model_name": "LayoutModel",
            "_view_count": null,
            "_view_module": "@jupyter-widgets/base",
            "_view_module_version": "1.2.0",
            "_view_name": "LayoutView",
            "align_content": null,
            "align_items": null,
            "align_self": null,
            "border": null,
            "bottom": null,
            "display": null,
            "flex": null,
            "flex_flow": null,
            "grid_area": null,
            "grid_auto_columns": null,
            "grid_auto_flow": null,
            "grid_auto_rows": null,
            "grid_column": null,
            "grid_gap": null,
            "grid_row": null,
            "grid_template_areas": null,
            "grid_template_columns": null,
            "grid_template_rows": null,
            "height": null,
            "justify_content": null,
            "justify_items": null,
            "left": null,
            "margin": null,
            "max_height": null,
            "max_width": null,
            "min_height": null,
            "min_width": null,
            "object_fit": null,
            "object_position": null,
            "order": null,
            "overflow": null,
            "overflow_x": null,
            "overflow_y": null,
            "padding": null,
            "right": null,
            "top": null,
            "visibility": null,
            "width": null
          }
        },
        "fefe5bd37223499d971558420a2cb49b": {
          "model_module": "@jupyter-widgets/controls",
          "model_name": "DescriptionStyleModel",
          "model_module_version": "1.5.0",
          "state": {
            "_model_module": "@jupyter-widgets/controls",
            "_model_module_version": "1.5.0",
            "_model_name": "DescriptionStyleModel",
            "_view_count": null,
            "_view_module": "@jupyter-widgets/base",
            "_view_module_version": "1.2.0",
            "_view_name": "StyleView",
            "description_width": ""
          }
        },
        "58b14191694c4df8834ee6b7bf4175d0": {
          "model_module": "@jupyter-widgets/controls",
          "model_name": "HBoxModel",
          "model_module_version": "1.5.0",
          "state": {
            "_dom_classes": [],
            "_model_module": "@jupyter-widgets/controls",
            "_model_module_version": "1.5.0",
            "_model_name": "HBoxModel",
            "_view_count": null,
            "_view_module": "@jupyter-widgets/controls",
            "_view_module_version": "1.5.0",
            "_view_name": "HBoxView",
            "box_style": "",
            "children": [
              "IPY_MODEL_9d072bfb1a614c70816eb7dc1788a2e2",
              "IPY_MODEL_2144c4871ff74c54b48b50b112a1dc0a",
              "IPY_MODEL_123a5ac4742749e2985abed21358e848"
            ],
            "layout": "IPY_MODEL_7e0e0ab9db924811b52e0d7c0dcf333d"
          }
        },
        "9d072bfb1a614c70816eb7dc1788a2e2": {
          "model_module": "@jupyter-widgets/controls",
          "model_name": "HTMLModel",
          "model_module_version": "1.5.0",
          "state": {
            "_dom_classes": [],
            "_model_module": "@jupyter-widgets/controls",
            "_model_module_version": "1.5.0",
            "_model_name": "HTMLModel",
            "_view_count": null,
            "_view_module": "@jupyter-widgets/controls",
            "_view_module_version": "1.5.0",
            "_view_name": "HTMLView",
            "description": "",
            "description_tooltip": null,
            "layout": "IPY_MODEL_718c00be24204c2484cc3a622c433796",
            "placeholder": "​",
            "style": "IPY_MODEL_d54c0b5d1c404d499f38e03bcd17f1f9",
            "value": "Upload file runs/Apr14_16-11-26_ab31e9cf965e/events.out.tfevents.1649952695.ab31e9cf965e.71.0: 100%"
          }
        },
        "2144c4871ff74c54b48b50b112a1dc0a": {
          "model_module": "@jupyter-widgets/controls",
          "model_name": "FloatProgressModel",
          "model_module_version": "1.5.0",
          "state": {
            "_dom_classes": [],
            "_model_module": "@jupyter-widgets/controls",
            "_model_module_version": "1.5.0",
            "_model_name": "FloatProgressModel",
            "_view_count": null,
            "_view_module": "@jupyter-widgets/controls",
            "_view_module_version": "1.5.0",
            "_view_name": "ProgressView",
            "bar_style": "success",
            "description": "",
            "description_tooltip": null,
            "layout": "IPY_MODEL_9d02e14430c04e799a3cc422b44f657a",
            "max": 5416,
            "min": 0,
            "orientation": "horizontal",
            "style": "IPY_MODEL_638ab475cd6e49deb564abcc7a213769",
            "value": 5416
          }
        },
        "123a5ac4742749e2985abed21358e848": {
          "model_module": "@jupyter-widgets/controls",
          "model_name": "HTMLModel",
          "model_module_version": "1.5.0",
          "state": {
            "_dom_classes": [],
            "_model_module": "@jupyter-widgets/controls",
            "_model_module_version": "1.5.0",
            "_model_name": "HTMLModel",
            "_view_count": null,
            "_view_module": "@jupyter-widgets/controls",
            "_view_module_version": "1.5.0",
            "_view_name": "HTMLView",
            "description": "",
            "description_tooltip": null,
            "layout": "IPY_MODEL_05b0e8ac63584980938d11ece1c68e60",
            "placeholder": "​",
            "style": "IPY_MODEL_55751036722b484195a9312a8a4a4b95",
            "value": " 5.29k/5.29k [06:54&lt;00:00, 4.81B/s]"
          }
        },
        "7e0e0ab9db924811b52e0d7c0dcf333d": {
          "model_module": "@jupyter-widgets/base",
          "model_name": "LayoutModel",
          "model_module_version": "1.2.0",
          "state": {
            "_model_module": "@jupyter-widgets/base",
            "_model_module_version": "1.2.0",
            "_model_name": "LayoutModel",
            "_view_count": null,
            "_view_module": "@jupyter-widgets/base",
            "_view_module_version": "1.2.0",
            "_view_name": "LayoutView",
            "align_content": null,
            "align_items": null,
            "align_self": null,
            "border": null,
            "bottom": null,
            "display": null,
            "flex": null,
            "flex_flow": null,
            "grid_area": null,
            "grid_auto_columns": null,
            "grid_auto_flow": null,
            "grid_auto_rows": null,
            "grid_column": null,
            "grid_gap": null,
            "grid_row": null,
            "grid_template_areas": null,
            "grid_template_columns": null,
            "grid_template_rows": null,
            "height": null,
            "justify_content": null,
            "justify_items": null,
            "left": null,
            "margin": null,
            "max_height": null,
            "max_width": null,
            "min_height": null,
            "min_width": null,
            "object_fit": null,
            "object_position": null,
            "order": null,
            "overflow": null,
            "overflow_x": null,
            "overflow_y": null,
            "padding": null,
            "right": null,
            "top": null,
            "visibility": null,
            "width": null
          }
        },
        "718c00be24204c2484cc3a622c433796": {
          "model_module": "@jupyter-widgets/base",
          "model_name": "LayoutModel",
          "model_module_version": "1.2.0",
          "state": {
            "_model_module": "@jupyter-widgets/base",
            "_model_module_version": "1.2.0",
            "_model_name": "LayoutModel",
            "_view_count": null,
            "_view_module": "@jupyter-widgets/base",
            "_view_module_version": "1.2.0",
            "_view_name": "LayoutView",
            "align_content": null,
            "align_items": null,
            "align_self": null,
            "border": null,
            "bottom": null,
            "display": null,
            "flex": null,
            "flex_flow": null,
            "grid_area": null,
            "grid_auto_columns": null,
            "grid_auto_flow": null,
            "grid_auto_rows": null,
            "grid_column": null,
            "grid_gap": null,
            "grid_row": null,
            "grid_template_areas": null,
            "grid_template_columns": null,
            "grid_template_rows": null,
            "height": null,
            "justify_content": null,
            "justify_items": null,
            "left": null,
            "margin": null,
            "max_height": null,
            "max_width": null,
            "min_height": null,
            "min_width": null,
            "object_fit": null,
            "object_position": null,
            "order": null,
            "overflow": null,
            "overflow_x": null,
            "overflow_y": null,
            "padding": null,
            "right": null,
            "top": null,
            "visibility": null,
            "width": null
          }
        },
        "d54c0b5d1c404d499f38e03bcd17f1f9": {
          "model_module": "@jupyter-widgets/controls",
          "model_name": "DescriptionStyleModel",
          "model_module_version": "1.5.0",
          "state": {
            "_model_module": "@jupyter-widgets/controls",
            "_model_module_version": "1.5.0",
            "_model_name": "DescriptionStyleModel",
            "_view_count": null,
            "_view_module": "@jupyter-widgets/base",
            "_view_module_version": "1.2.0",
            "_view_name": "StyleView",
            "description_width": ""
          }
        },
        "9d02e14430c04e799a3cc422b44f657a": {
          "model_module": "@jupyter-widgets/base",
          "model_name": "LayoutModel",
          "model_module_version": "1.2.0",
          "state": {
            "_model_module": "@jupyter-widgets/base",
            "_model_module_version": "1.2.0",
            "_model_name": "LayoutModel",
            "_view_count": null,
            "_view_module": "@jupyter-widgets/base",
            "_view_module_version": "1.2.0",
            "_view_name": "LayoutView",
            "align_content": null,
            "align_items": null,
            "align_self": null,
            "border": null,
            "bottom": null,
            "display": null,
            "flex": null,
            "flex_flow": null,
            "grid_area": null,
            "grid_auto_columns": null,
            "grid_auto_flow": null,
            "grid_auto_rows": null,
            "grid_column": null,
            "grid_gap": null,
            "grid_row": null,
            "grid_template_areas": null,
            "grid_template_columns": null,
            "grid_template_rows": null,
            "height": null,
            "justify_content": null,
            "justify_items": null,
            "left": null,
            "margin": null,
            "max_height": null,
            "max_width": null,
            "min_height": null,
            "min_width": null,
            "object_fit": null,
            "object_position": null,
            "order": null,
            "overflow": null,
            "overflow_x": null,
            "overflow_y": null,
            "padding": null,
            "right": null,
            "top": null,
            "visibility": null,
            "width": null
          }
        },
        "638ab475cd6e49deb564abcc7a213769": {
          "model_module": "@jupyter-widgets/controls",
          "model_name": "ProgressStyleModel",
          "model_module_version": "1.5.0",
          "state": {
            "_model_module": "@jupyter-widgets/controls",
            "_model_module_version": "1.5.0",
            "_model_name": "ProgressStyleModel",
            "_view_count": null,
            "_view_module": "@jupyter-widgets/base",
            "_view_module_version": "1.2.0",
            "_view_name": "StyleView",
            "bar_color": null,
            "description_width": ""
          }
        },
        "05b0e8ac63584980938d11ece1c68e60": {
          "model_module": "@jupyter-widgets/base",
          "model_name": "LayoutModel",
          "model_module_version": "1.2.0",
          "state": {
            "_model_module": "@jupyter-widgets/base",
            "_model_module_version": "1.2.0",
            "_model_name": "LayoutModel",
            "_view_count": null,
            "_view_module": "@jupyter-widgets/base",
            "_view_module_version": "1.2.0",
            "_view_name": "LayoutView",
            "align_content": null,
            "align_items": null,
            "align_self": null,
            "border": null,
            "bottom": null,
            "display": null,
            "flex": null,
            "flex_flow": null,
            "grid_area": null,
            "grid_auto_columns": null,
            "grid_auto_flow": null,
            "grid_auto_rows": null,
            "grid_column": null,
            "grid_gap": null,
            "grid_row": null,
            "grid_template_areas": null,
            "grid_template_columns": null,
            "grid_template_rows": null,
            "height": null,
            "justify_content": null,
            "justify_items": null,
            "left": null,
            "margin": null,
            "max_height": null,
            "max_width": null,
            "min_height": null,
            "min_width": null,
            "object_fit": null,
            "object_position": null,
            "order": null,
            "overflow": null,
            "overflow_x": null,
            "overflow_y": null,
            "padding": null,
            "right": null,
            "top": null,
            "visibility": null,
            "width": null
          }
        },
        "55751036722b484195a9312a8a4a4b95": {
          "model_module": "@jupyter-widgets/controls",
          "model_name": "DescriptionStyleModel",
          "model_module_version": "1.5.0",
          "state": {
            "_model_module": "@jupyter-widgets/controls",
            "_model_module_version": "1.5.0",
            "_model_name": "DescriptionStyleModel",
            "_view_count": null,
            "_view_module": "@jupyter-widgets/base",
            "_view_module_version": "1.2.0",
            "_view_name": "StyleView",
            "description_width": ""
          }
        },
        "9e66efd4814d4c94a0fea84096eec8d3": {
          "model_module": "@jupyter-widgets/controls",
          "model_name": "HBoxModel",
          "model_module_version": "1.5.0",
          "state": {
            "_dom_classes": [],
            "_model_module": "@jupyter-widgets/controls",
            "_model_module_version": "1.5.0",
            "_model_name": "HBoxModel",
            "_view_count": null,
            "_view_module": "@jupyter-widgets/controls",
            "_view_module_version": "1.5.0",
            "_view_name": "HBoxView",
            "box_style": "",
            "children": [
              "IPY_MODEL_34fb8f47e39b4dcc88571ffd43fa08aa",
              "IPY_MODEL_1bc0a8bbe7824762845cad7e8f537319",
              "IPY_MODEL_d76c19a9f30d448598f8b137c021bfdb"
            ],
            "layout": "IPY_MODEL_396a8de71e714d3a972a4e8cafc5fc0a"
          }
        },
        "34fb8f47e39b4dcc88571ffd43fa08aa": {
          "model_module": "@jupyter-widgets/controls",
          "model_name": "HTMLModel",
          "model_module_version": "1.5.0",
          "state": {
            "_dom_classes": [],
            "_model_module": "@jupyter-widgets/controls",
            "_model_module_version": "1.5.0",
            "_model_name": "HTMLModel",
            "_view_count": null,
            "_view_module": "@jupyter-widgets/controls",
            "_view_module_version": "1.5.0",
            "_view_name": "HTMLView",
            "description": "",
            "description_tooltip": null,
            "layout": "IPY_MODEL_9e9daacb9422451b82946e8b94d908f2",
            "placeholder": "​",
            "style": "IPY_MODEL_0ed08c4d304143a4bc66020706a3ded5",
            "value": "100%"
          }
        },
        "1bc0a8bbe7824762845cad7e8f537319": {
          "model_module": "@jupyter-widgets/controls",
          "model_name": "FloatProgressModel",
          "model_module_version": "1.5.0",
          "state": {
            "_dom_classes": [],
            "_model_module": "@jupyter-widgets/controls",
            "_model_module_version": "1.5.0",
            "_model_name": "FloatProgressModel",
            "_view_count": null,
            "_view_module": "@jupyter-widgets/controls",
            "_view_module_version": "1.5.0",
            "_view_name": "ProgressView",
            "bar_style": "success",
            "description": "",
            "description_tooltip": null,
            "layout": "IPY_MODEL_a9941c71d01c42418cd83a017d4eafce",
            "max": 1,
            "min": 0,
            "orientation": "horizontal",
            "style": "IPY_MODEL_885f2a9eef8045dfbf93abe62f9560b6",
            "value": 1
          }
        },
        "d76c19a9f30d448598f8b137c021bfdb": {
          "model_module": "@jupyter-widgets/controls",
          "model_name": "HTMLModel",
          "model_module_version": "1.5.0",
          "state": {
            "_dom_classes": [],
            "_model_module": "@jupyter-widgets/controls",
            "_model_module_version": "1.5.0",
            "_model_name": "HTMLModel",
            "_view_count": null,
            "_view_module": "@jupyter-widgets/controls",
            "_view_module_version": "1.5.0",
            "_view_name": "HTMLView",
            "description": "",
            "description_tooltip": null,
            "layout": "IPY_MODEL_ed606f057e0d417d9e4940430fd7c500",
            "placeholder": "​",
            "style": "IPY_MODEL_18bd96e70cb14bea8acf8535bfb66cc3",
            "value": " 1/1 [00:03&lt;00:00,  3.89s/ba]"
          }
        },
        "396a8de71e714d3a972a4e8cafc5fc0a": {
          "model_module": "@jupyter-widgets/base",
          "model_name": "LayoutModel",
          "model_module_version": "1.2.0",
          "state": {
            "_model_module": "@jupyter-widgets/base",
            "_model_module_version": "1.2.0",
            "_model_name": "LayoutModel",
            "_view_count": null,
            "_view_module": "@jupyter-widgets/base",
            "_view_module_version": "1.2.0",
            "_view_name": "LayoutView",
            "align_content": null,
            "align_items": null,
            "align_self": null,
            "border": null,
            "bottom": null,
            "display": null,
            "flex": null,
            "flex_flow": null,
            "grid_area": null,
            "grid_auto_columns": null,
            "grid_auto_flow": null,
            "grid_auto_rows": null,
            "grid_column": null,
            "grid_gap": null,
            "grid_row": null,
            "grid_template_areas": null,
            "grid_template_columns": null,
            "grid_template_rows": null,
            "height": null,
            "justify_content": null,
            "justify_items": null,
            "left": null,
            "margin": null,
            "max_height": null,
            "max_width": null,
            "min_height": null,
            "min_width": null,
            "object_fit": null,
            "object_position": null,
            "order": null,
            "overflow": null,
            "overflow_x": null,
            "overflow_y": null,
            "padding": null,
            "right": null,
            "top": null,
            "visibility": null,
            "width": null
          }
        },
        "9e9daacb9422451b82946e8b94d908f2": {
          "model_module": "@jupyter-widgets/base",
          "model_name": "LayoutModel",
          "model_module_version": "1.2.0",
          "state": {
            "_model_module": "@jupyter-widgets/base",
            "_model_module_version": "1.2.0",
            "_model_name": "LayoutModel",
            "_view_count": null,
            "_view_module": "@jupyter-widgets/base",
            "_view_module_version": "1.2.0",
            "_view_name": "LayoutView",
            "align_content": null,
            "align_items": null,
            "align_self": null,
            "border": null,
            "bottom": null,
            "display": null,
            "flex": null,
            "flex_flow": null,
            "grid_area": null,
            "grid_auto_columns": null,
            "grid_auto_flow": null,
            "grid_auto_rows": null,
            "grid_column": null,
            "grid_gap": null,
            "grid_row": null,
            "grid_template_areas": null,
            "grid_template_columns": null,
            "grid_template_rows": null,
            "height": null,
            "justify_content": null,
            "justify_items": null,
            "left": null,
            "margin": null,
            "max_height": null,
            "max_width": null,
            "min_height": null,
            "min_width": null,
            "object_fit": null,
            "object_position": null,
            "order": null,
            "overflow": null,
            "overflow_x": null,
            "overflow_y": null,
            "padding": null,
            "right": null,
            "top": null,
            "visibility": null,
            "width": null
          }
        },
        "0ed08c4d304143a4bc66020706a3ded5": {
          "model_module": "@jupyter-widgets/controls",
          "model_name": "DescriptionStyleModel",
          "model_module_version": "1.5.0",
          "state": {
            "_model_module": "@jupyter-widgets/controls",
            "_model_module_version": "1.5.0",
            "_model_name": "DescriptionStyleModel",
            "_view_count": null,
            "_view_module": "@jupyter-widgets/base",
            "_view_module_version": "1.2.0",
            "_view_name": "StyleView",
            "description_width": ""
          }
        },
        "a9941c71d01c42418cd83a017d4eafce": {
          "model_module": "@jupyter-widgets/base",
          "model_name": "LayoutModel",
          "model_module_version": "1.2.0",
          "state": {
            "_model_module": "@jupyter-widgets/base",
            "_model_module_version": "1.2.0",
            "_model_name": "LayoutModel",
            "_view_count": null,
            "_view_module": "@jupyter-widgets/base",
            "_view_module_version": "1.2.0",
            "_view_name": "LayoutView",
            "align_content": null,
            "align_items": null,
            "align_self": null,
            "border": null,
            "bottom": null,
            "display": null,
            "flex": null,
            "flex_flow": null,
            "grid_area": null,
            "grid_auto_columns": null,
            "grid_auto_flow": null,
            "grid_auto_rows": null,
            "grid_column": null,
            "grid_gap": null,
            "grid_row": null,
            "grid_template_areas": null,
            "grid_template_columns": null,
            "grid_template_rows": null,
            "height": null,
            "justify_content": null,
            "justify_items": null,
            "left": null,
            "margin": null,
            "max_height": null,
            "max_width": null,
            "min_height": null,
            "min_width": null,
            "object_fit": null,
            "object_position": null,
            "order": null,
            "overflow": null,
            "overflow_x": null,
            "overflow_y": null,
            "padding": null,
            "right": null,
            "top": null,
            "visibility": null,
            "width": null
          }
        },
        "885f2a9eef8045dfbf93abe62f9560b6": {
          "model_module": "@jupyter-widgets/controls",
          "model_name": "ProgressStyleModel",
          "model_module_version": "1.5.0",
          "state": {
            "_model_module": "@jupyter-widgets/controls",
            "_model_module_version": "1.5.0",
            "_model_name": "ProgressStyleModel",
            "_view_count": null,
            "_view_module": "@jupyter-widgets/base",
            "_view_module_version": "1.2.0",
            "_view_name": "StyleView",
            "bar_color": null,
            "description_width": ""
          }
        },
        "ed606f057e0d417d9e4940430fd7c500": {
          "model_module": "@jupyter-widgets/base",
          "model_name": "LayoutModel",
          "model_module_version": "1.2.0",
          "state": {
            "_model_module": "@jupyter-widgets/base",
            "_model_module_version": "1.2.0",
            "_model_name": "LayoutModel",
            "_view_count": null,
            "_view_module": "@jupyter-widgets/base",
            "_view_module_version": "1.2.0",
            "_view_name": "LayoutView",
            "align_content": null,
            "align_items": null,
            "align_self": null,
            "border": null,
            "bottom": null,
            "display": null,
            "flex": null,
            "flex_flow": null,
            "grid_area": null,
            "grid_auto_columns": null,
            "grid_auto_flow": null,
            "grid_auto_rows": null,
            "grid_column": null,
            "grid_gap": null,
            "grid_row": null,
            "grid_template_areas": null,
            "grid_template_columns": null,
            "grid_template_rows": null,
            "height": null,
            "justify_content": null,
            "justify_items": null,
            "left": null,
            "margin": null,
            "max_height": null,
            "max_width": null,
            "min_height": null,
            "min_width": null,
            "object_fit": null,
            "object_position": null,
            "order": null,
            "overflow": null,
            "overflow_x": null,
            "overflow_y": null,
            "padding": null,
            "right": null,
            "top": null,
            "visibility": null,
            "width": null
          }
        },
        "18bd96e70cb14bea8acf8535bfb66cc3": {
          "model_module": "@jupyter-widgets/controls",
          "model_name": "DescriptionStyleModel",
          "model_module_version": "1.5.0",
          "state": {
            "_model_module": "@jupyter-widgets/controls",
            "_model_module_version": "1.5.0",
            "_model_name": "DescriptionStyleModel",
            "_view_count": null,
            "_view_module": "@jupyter-widgets/base",
            "_view_module_version": "1.2.0",
            "_view_name": "StyleView",
            "description_width": ""
          }
        },
        "5f680ad9d98b4dba8e20ac6ce205fee4": {
          "model_module": "@jupyter-widgets/controls",
          "model_name": "HBoxModel",
          "model_module_version": "1.5.0",
          "state": {
            "_dom_classes": [],
            "_model_module": "@jupyter-widgets/controls",
            "_model_module_version": "1.5.0",
            "_model_name": "HBoxModel",
            "_view_count": null,
            "_view_module": "@jupyter-widgets/controls",
            "_view_module_version": "1.5.0",
            "_view_name": "HBoxView",
            "box_style": "",
            "children": [
              "IPY_MODEL_ebae73b7c9f7421faae9eee2e925bc89",
              "IPY_MODEL_db8031d0a22b47cbb6a83bfb02895bd9",
              "IPY_MODEL_2b759880f05d4258b0206b65f87c510d"
            ],
            "layout": "IPY_MODEL_969ed3efa33242a8a84fffe0c799b86d"
          }
        },
        "ebae73b7c9f7421faae9eee2e925bc89": {
          "model_module": "@jupyter-widgets/controls",
          "model_name": "HTMLModel",
          "model_module_version": "1.5.0",
          "state": {
            "_dom_classes": [],
            "_model_module": "@jupyter-widgets/controls",
            "_model_module_version": "1.5.0",
            "_model_name": "HTMLModel",
            "_view_count": null,
            "_view_module": "@jupyter-widgets/controls",
            "_view_module_version": "1.5.0",
            "_view_name": "HTMLView",
            "description": "",
            "description_tooltip": null,
            "layout": "IPY_MODEL_90374e2beded4986a5b2ea058dda0dc4",
            "placeholder": "​",
            "style": "IPY_MODEL_0fbe38135a93464893ab5ee49188174d",
            "value": "100%"
          }
        },
        "db8031d0a22b47cbb6a83bfb02895bd9": {
          "model_module": "@jupyter-widgets/controls",
          "model_name": "FloatProgressModel",
          "model_module_version": "1.5.0",
          "state": {
            "_dom_classes": [],
            "_model_module": "@jupyter-widgets/controls",
            "_model_module_version": "1.5.0",
            "_model_name": "FloatProgressModel",
            "_view_count": null,
            "_view_module": "@jupyter-widgets/controls",
            "_view_module_version": "1.5.0",
            "_view_name": "ProgressView",
            "bar_style": "success",
            "description": "",
            "description_tooltip": null,
            "layout": "IPY_MODEL_5d883383a6f24c1c81b5b03da632e67c",
            "max": 70,
            "min": 0,
            "orientation": "horizontal",
            "style": "IPY_MODEL_5d3f57c967e4449ba12116e2b4ccd683",
            "value": 70
          }
        },
        "2b759880f05d4258b0206b65f87c510d": {
          "model_module": "@jupyter-widgets/controls",
          "model_name": "HTMLModel",
          "model_module_version": "1.5.0",
          "state": {
            "_dom_classes": [],
            "_model_module": "@jupyter-widgets/controls",
            "_model_module_version": "1.5.0",
            "_model_name": "HTMLModel",
            "_view_count": null,
            "_view_module": "@jupyter-widgets/controls",
            "_view_module_version": "1.5.0",
            "_view_name": "HTMLView",
            "description": "",
            "description_tooltip": null,
            "layout": "IPY_MODEL_7a7d0ca069d14ef3b27951f0ef17e407",
            "placeholder": "​",
            "style": "IPY_MODEL_419a585548024432a7c58dfdbade50b9",
            "value": " 70/70 [00:01&lt;00:00, 49.93it/s]"
          }
        },
        "969ed3efa33242a8a84fffe0c799b86d": {
          "model_module": "@jupyter-widgets/base",
          "model_name": "LayoutModel",
          "model_module_version": "1.2.0",
          "state": {
            "_model_module": "@jupyter-widgets/base",
            "_model_module_version": "1.2.0",
            "_model_name": "LayoutModel",
            "_view_count": null,
            "_view_module": "@jupyter-widgets/base",
            "_view_module_version": "1.2.0",
            "_view_name": "LayoutView",
            "align_content": null,
            "align_items": null,
            "align_self": null,
            "border": null,
            "bottom": null,
            "display": null,
            "flex": null,
            "flex_flow": null,
            "grid_area": null,
            "grid_auto_columns": null,
            "grid_auto_flow": null,
            "grid_auto_rows": null,
            "grid_column": null,
            "grid_gap": null,
            "grid_row": null,
            "grid_template_areas": null,
            "grid_template_columns": null,
            "grid_template_rows": null,
            "height": null,
            "justify_content": null,
            "justify_items": null,
            "left": null,
            "margin": null,
            "max_height": null,
            "max_width": null,
            "min_height": null,
            "min_width": null,
            "object_fit": null,
            "object_position": null,
            "order": null,
            "overflow": null,
            "overflow_x": null,
            "overflow_y": null,
            "padding": null,
            "right": null,
            "top": null,
            "visibility": null,
            "width": null
          }
        },
        "90374e2beded4986a5b2ea058dda0dc4": {
          "model_module": "@jupyter-widgets/base",
          "model_name": "LayoutModel",
          "model_module_version": "1.2.0",
          "state": {
            "_model_module": "@jupyter-widgets/base",
            "_model_module_version": "1.2.0",
            "_model_name": "LayoutModel",
            "_view_count": null,
            "_view_module": "@jupyter-widgets/base",
            "_view_module_version": "1.2.0",
            "_view_name": "LayoutView",
            "align_content": null,
            "align_items": null,
            "align_self": null,
            "border": null,
            "bottom": null,
            "display": null,
            "flex": null,
            "flex_flow": null,
            "grid_area": null,
            "grid_auto_columns": null,
            "grid_auto_flow": null,
            "grid_auto_rows": null,
            "grid_column": null,
            "grid_gap": null,
            "grid_row": null,
            "grid_template_areas": null,
            "grid_template_columns": null,
            "grid_template_rows": null,
            "height": null,
            "justify_content": null,
            "justify_items": null,
            "left": null,
            "margin": null,
            "max_height": null,
            "max_width": null,
            "min_height": null,
            "min_width": null,
            "object_fit": null,
            "object_position": null,
            "order": null,
            "overflow": null,
            "overflow_x": null,
            "overflow_y": null,
            "padding": null,
            "right": null,
            "top": null,
            "visibility": null,
            "width": null
          }
        },
        "0fbe38135a93464893ab5ee49188174d": {
          "model_module": "@jupyter-widgets/controls",
          "model_name": "DescriptionStyleModel",
          "model_module_version": "1.5.0",
          "state": {
            "_model_module": "@jupyter-widgets/controls",
            "_model_module_version": "1.5.0",
            "_model_name": "DescriptionStyleModel",
            "_view_count": null,
            "_view_module": "@jupyter-widgets/base",
            "_view_module_version": "1.2.0",
            "_view_name": "StyleView",
            "description_width": ""
          }
        },
        "5d883383a6f24c1c81b5b03da632e67c": {
          "model_module": "@jupyter-widgets/base",
          "model_name": "LayoutModel",
          "model_module_version": "1.2.0",
          "state": {
            "_model_module": "@jupyter-widgets/base",
            "_model_module_version": "1.2.0",
            "_model_name": "LayoutModel",
            "_view_count": null,
            "_view_module": "@jupyter-widgets/base",
            "_view_module_version": "1.2.0",
            "_view_name": "LayoutView",
            "align_content": null,
            "align_items": null,
            "align_self": null,
            "border": null,
            "bottom": null,
            "display": null,
            "flex": null,
            "flex_flow": null,
            "grid_area": null,
            "grid_auto_columns": null,
            "grid_auto_flow": null,
            "grid_auto_rows": null,
            "grid_column": null,
            "grid_gap": null,
            "grid_row": null,
            "grid_template_areas": null,
            "grid_template_columns": null,
            "grid_template_rows": null,
            "height": null,
            "justify_content": null,
            "justify_items": null,
            "left": null,
            "margin": null,
            "max_height": null,
            "max_width": null,
            "min_height": null,
            "min_width": null,
            "object_fit": null,
            "object_position": null,
            "order": null,
            "overflow": null,
            "overflow_x": null,
            "overflow_y": null,
            "padding": null,
            "right": null,
            "top": null,
            "visibility": null,
            "width": null
          }
        },
        "5d3f57c967e4449ba12116e2b4ccd683": {
          "model_module": "@jupyter-widgets/controls",
          "model_name": "ProgressStyleModel",
          "model_module_version": "1.5.0",
          "state": {
            "_model_module": "@jupyter-widgets/controls",
            "_model_module_version": "1.5.0",
            "_model_name": "ProgressStyleModel",
            "_view_count": null,
            "_view_module": "@jupyter-widgets/base",
            "_view_module_version": "1.2.0",
            "_view_name": "StyleView",
            "bar_color": null,
            "description_width": ""
          }
        },
        "7a7d0ca069d14ef3b27951f0ef17e407": {
          "model_module": "@jupyter-widgets/base",
          "model_name": "LayoutModel",
          "model_module_version": "1.2.0",
          "state": {
            "_model_module": "@jupyter-widgets/base",
            "_model_module_version": "1.2.0",
            "_model_name": "LayoutModel",
            "_view_count": null,
            "_view_module": "@jupyter-widgets/base",
            "_view_module_version": "1.2.0",
            "_view_name": "LayoutView",
            "align_content": null,
            "align_items": null,
            "align_self": null,
            "border": null,
            "bottom": null,
            "display": null,
            "flex": null,
            "flex_flow": null,
            "grid_area": null,
            "grid_auto_columns": null,
            "grid_auto_flow": null,
            "grid_auto_rows": null,
            "grid_column": null,
            "grid_gap": null,
            "grid_row": null,
            "grid_template_areas": null,
            "grid_template_columns": null,
            "grid_template_rows": null,
            "height": null,
            "justify_content": null,
            "justify_items": null,
            "left": null,
            "margin": null,
            "max_height": null,
            "max_width": null,
            "min_height": null,
            "min_width": null,
            "object_fit": null,
            "object_position": null,
            "order": null,
            "overflow": null,
            "overflow_x": null,
            "overflow_y": null,
            "padding": null,
            "right": null,
            "top": null,
            "visibility": null,
            "width": null
          }
        },
        "419a585548024432a7c58dfdbade50b9": {
          "model_module": "@jupyter-widgets/controls",
          "model_name": "DescriptionStyleModel",
          "model_module_version": "1.5.0",
          "state": {
            "_model_module": "@jupyter-widgets/controls",
            "_model_module_version": "1.5.0",
            "_model_name": "DescriptionStyleModel",
            "_view_count": null,
            "_view_module": "@jupyter-widgets/base",
            "_view_module_version": "1.2.0",
            "_view_name": "StyleView",
            "description_width": ""
          }
        },
        "b55d1d7cf46a4d43a92053a68dbad5b3": {
          "model_module": "@jupyter-widgets/controls",
          "model_name": "HBoxModel",
          "model_module_version": "1.5.0",
          "state": {
            "_dom_classes": [],
            "_model_module": "@jupyter-widgets/controls",
            "_model_module_version": "1.5.0",
            "_model_name": "HBoxModel",
            "_view_count": null,
            "_view_module": "@jupyter-widgets/controls",
            "_view_module_version": "1.5.0",
            "_view_name": "HBoxView",
            "box_style": "",
            "children": [
              "IPY_MODEL_274373f0a4404e589f16e528b81785de",
              "IPY_MODEL_8d8e6440016e4314a5d131775bdc9446",
              "IPY_MODEL_7e83e7a122ec4bc5bfaa9e481d18aa14"
            ],
            "layout": "IPY_MODEL_11108463b6ed4a1ab0c910079d4c5080"
          }
        },
        "274373f0a4404e589f16e528b81785de": {
          "model_module": "@jupyter-widgets/controls",
          "model_name": "HTMLModel",
          "model_module_version": "1.5.0",
          "state": {
            "_dom_classes": [],
            "_model_module": "@jupyter-widgets/controls",
            "_model_module_version": "1.5.0",
            "_model_name": "HTMLModel",
            "_view_count": null,
            "_view_module": "@jupyter-widgets/controls",
            "_view_module_version": "1.5.0",
            "_view_name": "HTMLView",
            "description": "",
            "description_tooltip": null,
            "layout": "IPY_MODEL_21d993f8f0404f9abb66625c6e350e38",
            "placeholder": "​",
            "style": "IPY_MODEL_854e5226dd7f4cffa44b6e606bf6b4cb",
            "value": "Downloading builder script: "
          }
        },
        "8d8e6440016e4314a5d131775bdc9446": {
          "model_module": "@jupyter-widgets/controls",
          "model_name": "FloatProgressModel",
          "model_module_version": "1.5.0",
          "state": {
            "_dom_classes": [],
            "_model_module": "@jupyter-widgets/controls",
            "_model_module_version": "1.5.0",
            "_model_name": "FloatProgressModel",
            "_view_count": null,
            "_view_module": "@jupyter-widgets/controls",
            "_view_module_version": "1.5.0",
            "_view_name": "ProgressView",
            "bar_style": "success",
            "description": "",
            "description_tooltip": null,
            "layout": "IPY_MODEL_b4b0cc78ba904da6acf884c1f97c0124",
            "max": 2253,
            "min": 0,
            "orientation": "horizontal",
            "style": "IPY_MODEL_4c6d8bdb11534d50b694c364b8367509",
            "value": 2253
          }
        },
        "7e83e7a122ec4bc5bfaa9e481d18aa14": {
          "model_module": "@jupyter-widgets/controls",
          "model_name": "HTMLModel",
          "model_module_version": "1.5.0",
          "state": {
            "_dom_classes": [],
            "_model_module": "@jupyter-widgets/controls",
            "_model_module_version": "1.5.0",
            "_model_name": "HTMLModel",
            "_view_count": null,
            "_view_module": "@jupyter-widgets/controls",
            "_view_module_version": "1.5.0",
            "_view_name": "HTMLView",
            "description": "",
            "description_tooltip": null,
            "layout": "IPY_MODEL_cbd673f6dfd94756a75066bade7b167b",
            "placeholder": "​",
            "style": "IPY_MODEL_4d174e2a45b341b4b261f321e7f1c4cd",
            "value": " 6.46k/? [00:00&lt;00:00, 145kB/s]"
          }
        },
        "11108463b6ed4a1ab0c910079d4c5080": {
          "model_module": "@jupyter-widgets/base",
          "model_name": "LayoutModel",
          "model_module_version": "1.2.0",
          "state": {
            "_model_module": "@jupyter-widgets/base",
            "_model_module_version": "1.2.0",
            "_model_name": "LayoutModel",
            "_view_count": null,
            "_view_module": "@jupyter-widgets/base",
            "_view_module_version": "1.2.0",
            "_view_name": "LayoutView",
            "align_content": null,
            "align_items": null,
            "align_self": null,
            "border": null,
            "bottom": null,
            "display": null,
            "flex": null,
            "flex_flow": null,
            "grid_area": null,
            "grid_auto_columns": null,
            "grid_auto_flow": null,
            "grid_auto_rows": null,
            "grid_column": null,
            "grid_gap": null,
            "grid_row": null,
            "grid_template_areas": null,
            "grid_template_columns": null,
            "grid_template_rows": null,
            "height": null,
            "justify_content": null,
            "justify_items": null,
            "left": null,
            "margin": null,
            "max_height": null,
            "max_width": null,
            "min_height": null,
            "min_width": null,
            "object_fit": null,
            "object_position": null,
            "order": null,
            "overflow": null,
            "overflow_x": null,
            "overflow_y": null,
            "padding": null,
            "right": null,
            "top": null,
            "visibility": null,
            "width": null
          }
        },
        "21d993f8f0404f9abb66625c6e350e38": {
          "model_module": "@jupyter-widgets/base",
          "model_name": "LayoutModel",
          "model_module_version": "1.2.0",
          "state": {
            "_model_module": "@jupyter-widgets/base",
            "_model_module_version": "1.2.0",
            "_model_name": "LayoutModel",
            "_view_count": null,
            "_view_module": "@jupyter-widgets/base",
            "_view_module_version": "1.2.0",
            "_view_name": "LayoutView",
            "align_content": null,
            "align_items": null,
            "align_self": null,
            "border": null,
            "bottom": null,
            "display": null,
            "flex": null,
            "flex_flow": null,
            "grid_area": null,
            "grid_auto_columns": null,
            "grid_auto_flow": null,
            "grid_auto_rows": null,
            "grid_column": null,
            "grid_gap": null,
            "grid_row": null,
            "grid_template_areas": null,
            "grid_template_columns": null,
            "grid_template_rows": null,
            "height": null,
            "justify_content": null,
            "justify_items": null,
            "left": null,
            "margin": null,
            "max_height": null,
            "max_width": null,
            "min_height": null,
            "min_width": null,
            "object_fit": null,
            "object_position": null,
            "order": null,
            "overflow": null,
            "overflow_x": null,
            "overflow_y": null,
            "padding": null,
            "right": null,
            "top": null,
            "visibility": null,
            "width": null
          }
        },
        "854e5226dd7f4cffa44b6e606bf6b4cb": {
          "model_module": "@jupyter-widgets/controls",
          "model_name": "DescriptionStyleModel",
          "model_module_version": "1.5.0",
          "state": {
            "_model_module": "@jupyter-widgets/controls",
            "_model_module_version": "1.5.0",
            "_model_name": "DescriptionStyleModel",
            "_view_count": null,
            "_view_module": "@jupyter-widgets/base",
            "_view_module_version": "1.2.0",
            "_view_name": "StyleView",
            "description_width": ""
          }
        },
        "b4b0cc78ba904da6acf884c1f97c0124": {
          "model_module": "@jupyter-widgets/base",
          "model_name": "LayoutModel",
          "model_module_version": "1.2.0",
          "state": {
            "_model_module": "@jupyter-widgets/base",
            "_model_module_version": "1.2.0",
            "_model_name": "LayoutModel",
            "_view_count": null,
            "_view_module": "@jupyter-widgets/base",
            "_view_module_version": "1.2.0",
            "_view_name": "LayoutView",
            "align_content": null,
            "align_items": null,
            "align_self": null,
            "border": null,
            "bottom": null,
            "display": null,
            "flex": null,
            "flex_flow": null,
            "grid_area": null,
            "grid_auto_columns": null,
            "grid_auto_flow": null,
            "grid_auto_rows": null,
            "grid_column": null,
            "grid_gap": null,
            "grid_row": null,
            "grid_template_areas": null,
            "grid_template_columns": null,
            "grid_template_rows": null,
            "height": null,
            "justify_content": null,
            "justify_items": null,
            "left": null,
            "margin": null,
            "max_height": null,
            "max_width": null,
            "min_height": null,
            "min_width": null,
            "object_fit": null,
            "object_position": null,
            "order": null,
            "overflow": null,
            "overflow_x": null,
            "overflow_y": null,
            "padding": null,
            "right": null,
            "top": null,
            "visibility": null,
            "width": null
          }
        },
        "4c6d8bdb11534d50b694c364b8367509": {
          "model_module": "@jupyter-widgets/controls",
          "model_name": "ProgressStyleModel",
          "model_module_version": "1.5.0",
          "state": {
            "_model_module": "@jupyter-widgets/controls",
            "_model_module_version": "1.5.0",
            "_model_name": "ProgressStyleModel",
            "_view_count": null,
            "_view_module": "@jupyter-widgets/base",
            "_view_module_version": "1.2.0",
            "_view_name": "StyleView",
            "bar_color": null,
            "description_width": ""
          }
        },
        "cbd673f6dfd94756a75066bade7b167b": {
          "model_module": "@jupyter-widgets/base",
          "model_name": "LayoutModel",
          "model_module_version": "1.2.0",
          "state": {
            "_model_module": "@jupyter-widgets/base",
            "_model_module_version": "1.2.0",
            "_model_name": "LayoutModel",
            "_view_count": null,
            "_view_module": "@jupyter-widgets/base",
            "_view_module_version": "1.2.0",
            "_view_name": "LayoutView",
            "align_content": null,
            "align_items": null,
            "align_self": null,
            "border": null,
            "bottom": null,
            "display": null,
            "flex": null,
            "flex_flow": null,
            "grid_area": null,
            "grid_auto_columns": null,
            "grid_auto_flow": null,
            "grid_auto_rows": null,
            "grid_column": null,
            "grid_gap": null,
            "grid_row": null,
            "grid_template_areas": null,
            "grid_template_columns": null,
            "grid_template_rows": null,
            "height": null,
            "justify_content": null,
            "justify_items": null,
            "left": null,
            "margin": null,
            "max_height": null,
            "max_width": null,
            "min_height": null,
            "min_width": null,
            "object_fit": null,
            "object_position": null,
            "order": null,
            "overflow": null,
            "overflow_x": null,
            "overflow_y": null,
            "padding": null,
            "right": null,
            "top": null,
            "visibility": null,
            "width": null
          }
        },
        "4d174e2a45b341b4b261f321e7f1c4cd": {
          "model_module": "@jupyter-widgets/controls",
          "model_name": "DescriptionStyleModel",
          "model_module_version": "1.5.0",
          "state": {
            "_model_module": "@jupyter-widgets/controls",
            "_model_module_version": "1.5.0",
            "_model_name": "DescriptionStyleModel",
            "_view_count": null,
            "_view_module": "@jupyter-widgets/base",
            "_view_module_version": "1.2.0",
            "_view_name": "StyleView",
            "description_width": ""
          }
        },
        "6dd163d82ab6433587d10a14993a3afa": {
          "model_module": "@jupyter-widgets/controls",
          "model_name": "HBoxModel",
          "model_module_version": "1.5.0",
          "state": {
            "_dom_classes": [],
            "_model_module": "@jupyter-widgets/controls",
            "_model_module_version": "1.5.0",
            "_model_name": "HBoxModel",
            "_view_count": null,
            "_view_module": "@jupyter-widgets/controls",
            "_view_module_version": "1.5.0",
            "_view_name": "HBoxView",
            "box_style": "",
            "children": [
              "IPY_MODEL_e1624630d1cd480a833bfe406c7170f7",
              "IPY_MODEL_ea83f3d3174147f29b4b5c6957af2ae8",
              "IPY_MODEL_3d71ef339b9549369256ba4bb2d6c6d3"
            ],
            "layout": "IPY_MODEL_09c7f3ae1dbc4deb9b81db895d864632"
          }
        },
        "e1624630d1cd480a833bfe406c7170f7": {
          "model_module": "@jupyter-widgets/controls",
          "model_name": "HTMLModel",
          "model_module_version": "1.5.0",
          "state": {
            "_dom_classes": [],
            "_model_module": "@jupyter-widgets/controls",
            "_model_module_version": "1.5.0",
            "_model_name": "HTMLModel",
            "_view_count": null,
            "_view_module": "@jupyter-widgets/controls",
            "_view_module_version": "1.5.0",
            "_view_name": "HTMLView",
            "description": "",
            "description_tooltip": null,
            "layout": "IPY_MODEL_9931871f48a947cfa3a31cd49d6737ff",
            "placeholder": "​",
            "style": "IPY_MODEL_b8536b9e28ee41d3b3ded249b51e6833",
            "value": "Downloading extra modules: "
          }
        },
        "ea83f3d3174147f29b4b5c6957af2ae8": {
          "model_module": "@jupyter-widgets/controls",
          "model_name": "FloatProgressModel",
          "model_module_version": "1.5.0",
          "state": {
            "_dom_classes": [],
            "_model_module": "@jupyter-widgets/controls",
            "_model_module_version": "1.5.0",
            "_model_name": "FloatProgressModel",
            "_view_count": null,
            "_view_module": "@jupyter-widgets/controls",
            "_view_module_version": "1.5.0",
            "_view_name": "ProgressView",
            "bar_style": "success",
            "description": "",
            "description_tooltip": null,
            "layout": "IPY_MODEL_77bd5522962f445a94249b1d4f33f593",
            "max": 3188,
            "min": 0,
            "orientation": "horizontal",
            "style": "IPY_MODEL_5f96ee2f81344a9ab6b4f801725399fc",
            "value": 3188
          }
        },
        "3d71ef339b9549369256ba4bb2d6c6d3": {
          "model_module": "@jupyter-widgets/controls",
          "model_name": "HTMLModel",
          "model_module_version": "1.5.0",
          "state": {
            "_dom_classes": [],
            "_model_module": "@jupyter-widgets/controls",
            "_model_module_version": "1.5.0",
            "_model_name": "HTMLModel",
            "_view_count": null,
            "_view_module": "@jupyter-widgets/controls",
            "_view_module_version": "1.5.0",
            "_view_name": "HTMLView",
            "description": "",
            "description_tooltip": null,
            "layout": "IPY_MODEL_099e402aa9aa41b1ac22379fdf92168f",
            "placeholder": "​",
            "style": "IPY_MODEL_bab3aeb1a34542fe8b52f5daa9f888a2",
            "value": " 11.3k/? [00:00&lt;00:00, 273kB/s]"
          }
        },
        "09c7f3ae1dbc4deb9b81db895d864632": {
          "model_module": "@jupyter-widgets/base",
          "model_name": "LayoutModel",
          "model_module_version": "1.2.0",
          "state": {
            "_model_module": "@jupyter-widgets/base",
            "_model_module_version": "1.2.0",
            "_model_name": "LayoutModel",
            "_view_count": null,
            "_view_module": "@jupyter-widgets/base",
            "_view_module_version": "1.2.0",
            "_view_name": "LayoutView",
            "align_content": null,
            "align_items": null,
            "align_self": null,
            "border": null,
            "bottom": null,
            "display": null,
            "flex": null,
            "flex_flow": null,
            "grid_area": null,
            "grid_auto_columns": null,
            "grid_auto_flow": null,
            "grid_auto_rows": null,
            "grid_column": null,
            "grid_gap": null,
            "grid_row": null,
            "grid_template_areas": null,
            "grid_template_columns": null,
            "grid_template_rows": null,
            "height": null,
            "justify_content": null,
            "justify_items": null,
            "left": null,
            "margin": null,
            "max_height": null,
            "max_width": null,
            "min_height": null,
            "min_width": null,
            "object_fit": null,
            "object_position": null,
            "order": null,
            "overflow": null,
            "overflow_x": null,
            "overflow_y": null,
            "padding": null,
            "right": null,
            "top": null,
            "visibility": null,
            "width": null
          }
        },
        "9931871f48a947cfa3a31cd49d6737ff": {
          "model_module": "@jupyter-widgets/base",
          "model_name": "LayoutModel",
          "model_module_version": "1.2.0",
          "state": {
            "_model_module": "@jupyter-widgets/base",
            "_model_module_version": "1.2.0",
            "_model_name": "LayoutModel",
            "_view_count": null,
            "_view_module": "@jupyter-widgets/base",
            "_view_module_version": "1.2.0",
            "_view_name": "LayoutView",
            "align_content": null,
            "align_items": null,
            "align_self": null,
            "border": null,
            "bottom": null,
            "display": null,
            "flex": null,
            "flex_flow": null,
            "grid_area": null,
            "grid_auto_columns": null,
            "grid_auto_flow": null,
            "grid_auto_rows": null,
            "grid_column": null,
            "grid_gap": null,
            "grid_row": null,
            "grid_template_areas": null,
            "grid_template_columns": null,
            "grid_template_rows": null,
            "height": null,
            "justify_content": null,
            "justify_items": null,
            "left": null,
            "margin": null,
            "max_height": null,
            "max_width": null,
            "min_height": null,
            "min_width": null,
            "object_fit": null,
            "object_position": null,
            "order": null,
            "overflow": null,
            "overflow_x": null,
            "overflow_y": null,
            "padding": null,
            "right": null,
            "top": null,
            "visibility": null,
            "width": null
          }
        },
        "b8536b9e28ee41d3b3ded249b51e6833": {
          "model_module": "@jupyter-widgets/controls",
          "model_name": "DescriptionStyleModel",
          "model_module_version": "1.5.0",
          "state": {
            "_model_module": "@jupyter-widgets/controls",
            "_model_module_version": "1.5.0",
            "_model_name": "DescriptionStyleModel",
            "_view_count": null,
            "_view_module": "@jupyter-widgets/base",
            "_view_module_version": "1.2.0",
            "_view_name": "StyleView",
            "description_width": ""
          }
        },
        "77bd5522962f445a94249b1d4f33f593": {
          "model_module": "@jupyter-widgets/base",
          "model_name": "LayoutModel",
          "model_module_version": "1.2.0",
          "state": {
            "_model_module": "@jupyter-widgets/base",
            "_model_module_version": "1.2.0",
            "_model_name": "LayoutModel",
            "_view_count": null,
            "_view_module": "@jupyter-widgets/base",
            "_view_module_version": "1.2.0",
            "_view_name": "LayoutView",
            "align_content": null,
            "align_items": null,
            "align_self": null,
            "border": null,
            "bottom": null,
            "display": null,
            "flex": null,
            "flex_flow": null,
            "grid_area": null,
            "grid_auto_columns": null,
            "grid_auto_flow": null,
            "grid_auto_rows": null,
            "grid_column": null,
            "grid_gap": null,
            "grid_row": null,
            "grid_template_areas": null,
            "grid_template_columns": null,
            "grid_template_rows": null,
            "height": null,
            "justify_content": null,
            "justify_items": null,
            "left": null,
            "margin": null,
            "max_height": null,
            "max_width": null,
            "min_height": null,
            "min_width": null,
            "object_fit": null,
            "object_position": null,
            "order": null,
            "overflow": null,
            "overflow_x": null,
            "overflow_y": null,
            "padding": null,
            "right": null,
            "top": null,
            "visibility": null,
            "width": null
          }
        },
        "5f96ee2f81344a9ab6b4f801725399fc": {
          "model_module": "@jupyter-widgets/controls",
          "model_name": "ProgressStyleModel",
          "model_module_version": "1.5.0",
          "state": {
            "_model_module": "@jupyter-widgets/controls",
            "_model_module_version": "1.5.0",
            "_model_name": "ProgressStyleModel",
            "_view_count": null,
            "_view_module": "@jupyter-widgets/base",
            "_view_module_version": "1.2.0",
            "_view_name": "StyleView",
            "bar_color": null,
            "description_width": ""
          }
        },
        "099e402aa9aa41b1ac22379fdf92168f": {
          "model_module": "@jupyter-widgets/base",
          "model_name": "LayoutModel",
          "model_module_version": "1.2.0",
          "state": {
            "_model_module": "@jupyter-widgets/base",
            "_model_module_version": "1.2.0",
            "_model_name": "LayoutModel",
            "_view_count": null,
            "_view_module": "@jupyter-widgets/base",
            "_view_module_version": "1.2.0",
            "_view_name": "LayoutView",
            "align_content": null,
            "align_items": null,
            "align_self": null,
            "border": null,
            "bottom": null,
            "display": null,
            "flex": null,
            "flex_flow": null,
            "grid_area": null,
            "grid_auto_columns": null,
            "grid_auto_flow": null,
            "grid_auto_rows": null,
            "grid_column": null,
            "grid_gap": null,
            "grid_row": null,
            "grid_template_areas": null,
            "grid_template_columns": null,
            "grid_template_rows": null,
            "height": null,
            "justify_content": null,
            "justify_items": null,
            "left": null,
            "margin": null,
            "max_height": null,
            "max_width": null,
            "min_height": null,
            "min_width": null,
            "object_fit": null,
            "object_position": null,
            "order": null,
            "overflow": null,
            "overflow_x": null,
            "overflow_y": null,
            "padding": null,
            "right": null,
            "top": null,
            "visibility": null,
            "width": null
          }
        },
        "bab3aeb1a34542fe8b52f5daa9f888a2": {
          "model_module": "@jupyter-widgets/controls",
          "model_name": "DescriptionStyleModel",
          "model_module_version": "1.5.0",
          "state": {
            "_model_module": "@jupyter-widgets/controls",
            "_model_module_version": "1.5.0",
            "_model_name": "DescriptionStyleModel",
            "_view_count": null,
            "_view_module": "@jupyter-widgets/base",
            "_view_module_version": "1.2.0",
            "_view_name": "StyleView",
            "description_width": ""
          }
        }
      }
    },
    "accelerator": "GPU"
  },
  "cells": [
    {
      "cell_type": "markdown",
      "metadata": {
        "id": "view-in-github",
        "colab_type": "text"
      },
      "source": [
        "<a href=\"https://colab.research.google.com/github/nntadotzip/XLNet-sandbox/blob/main/XLNetQA_huggingfacePipeline_bertTokenizer_dataVer12April2022.ipynb\" target=\"_parent\"><img src=\"https://colab.research.google.com/assets/colab-badge.svg\" alt=\"Open In Colab\"/></a>"
      ]
    },
    {
      "cell_type": "markdown",
      "source": [
        "# Import and Install"
      ],
      "metadata": {
        "id": "ePhfO2A3wlWM"
      }
    },
    {
      "cell_type": "code",
      "source": [
        "import tensorflow as tf\n",
        "\n",
        "device_name = tf.test.gpu_device_name()\n",
        "if device_name != '/device:GPU:0':\n",
        "  raise SystemError('GPU device not found')\n",
        "print('Found GPU at: {}'.format(device_name))"
      ],
      "metadata": {
        "colab": {
          "base_uri": "https://localhost:8080/"
        },
        "id": "kgtA4B-Sdj4Z",
        "outputId": "cd3b9771-bcc6-47a2-f5d3-95fe8d8525dc"
      },
      "execution_count": 1,
      "outputs": [
        {
          "output_type": "stream",
          "name": "stdout",
          "text": [
            "Found GPU at: /device:GPU:0\n"
          ]
        }
      ]
    },
    {
      "cell_type": "code",
      "execution_count": 3,
      "metadata": {
        "id": "Rv_xR_o9wetZ",
        "colab": {
          "base_uri": "https://localhost:8080/"
        },
        "outputId": "40920b63-d804-4ec6-ae2f-7ec3b3d78159"
      },
      "outputs": [
        {
          "output_type": "stream",
          "name": "stdout",
          "text": [
            "Requirement already satisfied: datasets in /usr/local/lib/python3.7/dist-packages (2.1.0)\n",
            "Requirement already satisfied: transformers in /usr/local/lib/python3.7/dist-packages (4.18.0)\n",
            "Requirement already satisfied: pandas in /usr/local/lib/python3.7/dist-packages (from datasets) (1.3.5)\n",
            "Requirement already satisfied: dill in /usr/local/lib/python3.7/dist-packages (from datasets) (0.3.4)\n",
            "Requirement already satisfied: multiprocess in /usr/local/lib/python3.7/dist-packages (from datasets) (0.70.12.2)\n",
            "Requirement already satisfied: aiohttp in /usr/local/lib/python3.7/dist-packages (from datasets) (3.8.1)\n",
            "Requirement already satisfied: numpy>=1.17 in /usr/local/lib/python3.7/dist-packages (from datasets) (1.21.5)\n",
            "Requirement already satisfied: tqdm>=4.62.1 in /usr/local/lib/python3.7/dist-packages (from datasets) (4.64.0)\n",
            "Requirement already satisfied: xxhash in /usr/local/lib/python3.7/dist-packages (from datasets) (3.0.0)\n",
            "Requirement already satisfied: pyarrow>=5.0.0 in /usr/local/lib/python3.7/dist-packages (from datasets) (6.0.1)\n",
            "Requirement already satisfied: requests>=2.19.0 in /usr/local/lib/python3.7/dist-packages (from datasets) (2.23.0)\n",
            "Requirement already satisfied: packaging in /usr/local/lib/python3.7/dist-packages (from datasets) (21.3)\n",
            "Requirement already satisfied: fsspec[http]>=2021.05.0 in /usr/local/lib/python3.7/dist-packages (from datasets) (2022.3.0)\n",
            "Requirement already satisfied: responses<0.19 in /usr/local/lib/python3.7/dist-packages (from datasets) (0.18.0)\n",
            "Requirement already satisfied: importlib-metadata in /usr/local/lib/python3.7/dist-packages (from datasets) (4.11.3)\n",
            "Requirement already satisfied: huggingface-hub<1.0.0,>=0.1.0 in /usr/local/lib/python3.7/dist-packages (from datasets) (0.5.1)\n",
            "Requirement already satisfied: pyyaml in /usr/local/lib/python3.7/dist-packages (from huggingface-hub<1.0.0,>=0.1.0->datasets) (6.0)\n",
            "Requirement already satisfied: filelock in /usr/local/lib/python3.7/dist-packages (from huggingface-hub<1.0.0,>=0.1.0->datasets) (3.6.0)\n",
            "Requirement already satisfied: typing-extensions>=3.7.4.3 in /usr/local/lib/python3.7/dist-packages (from huggingface-hub<1.0.0,>=0.1.0->datasets) (4.1.1)\n",
            "Requirement already satisfied: pyparsing!=3.0.5,>=2.0.2 in /usr/local/lib/python3.7/dist-packages (from packaging->datasets) (3.0.8)\n",
            "Requirement already satisfied: urllib3!=1.25.0,!=1.25.1,<1.26,>=1.21.1 in /usr/local/lib/python3.7/dist-packages (from requests>=2.19.0->datasets) (1.25.11)\n",
            "Requirement already satisfied: idna<3,>=2.5 in /usr/local/lib/python3.7/dist-packages (from requests>=2.19.0->datasets) (2.10)\n",
            "Requirement already satisfied: chardet<4,>=3.0.2 in /usr/local/lib/python3.7/dist-packages (from requests>=2.19.0->datasets) (3.0.4)\n",
            "Requirement already satisfied: certifi>=2017.4.17 in /usr/local/lib/python3.7/dist-packages (from requests>=2.19.0->datasets) (2021.10.8)\n",
            "Requirement already satisfied: regex!=2019.12.17 in /usr/local/lib/python3.7/dist-packages (from transformers) (2019.12.20)\n",
            "Requirement already satisfied: tokenizers!=0.11.3,<0.13,>=0.11.1 in /usr/local/lib/python3.7/dist-packages (from transformers) (0.12.1)\n",
            "Requirement already satisfied: sacremoses in /usr/local/lib/python3.7/dist-packages (from transformers) (0.0.49)\n",
            "Requirement already satisfied: multidict<7.0,>=4.5 in /usr/local/lib/python3.7/dist-packages (from aiohttp->datasets) (6.0.2)\n",
            "Requirement already satisfied: asynctest==0.13.0 in /usr/local/lib/python3.7/dist-packages (from aiohttp->datasets) (0.13.0)\n",
            "Requirement already satisfied: aiosignal>=1.1.2 in /usr/local/lib/python3.7/dist-packages (from aiohttp->datasets) (1.2.0)\n",
            "Requirement already satisfied: frozenlist>=1.1.1 in /usr/local/lib/python3.7/dist-packages (from aiohttp->datasets) (1.3.0)\n",
            "Requirement already satisfied: async-timeout<5.0,>=4.0.0a3 in /usr/local/lib/python3.7/dist-packages (from aiohttp->datasets) (4.0.2)\n",
            "Requirement already satisfied: charset-normalizer<3.0,>=2.0 in /usr/local/lib/python3.7/dist-packages (from aiohttp->datasets) (2.0.12)\n",
            "Requirement already satisfied: attrs>=17.3.0 in /usr/local/lib/python3.7/dist-packages (from aiohttp->datasets) (21.4.0)\n",
            "Requirement already satisfied: yarl<2.0,>=1.0 in /usr/local/lib/python3.7/dist-packages (from aiohttp->datasets) (1.7.2)\n",
            "Requirement already satisfied: zipp>=0.5 in /usr/local/lib/python3.7/dist-packages (from importlib-metadata->datasets) (3.8.0)\n",
            "Requirement already satisfied: python-dateutil>=2.7.3 in /usr/local/lib/python3.7/dist-packages (from pandas->datasets) (2.8.2)\n",
            "Requirement already satisfied: pytz>=2017.3 in /usr/local/lib/python3.7/dist-packages (from pandas->datasets) (2018.9)\n",
            "Requirement already satisfied: six>=1.5 in /usr/local/lib/python3.7/dist-packages (from python-dateutil>=2.7.3->pandas->datasets) (1.15.0)\n",
            "Requirement already satisfied: click in /usr/local/lib/python3.7/dist-packages (from sacremoses->transformers) (7.1.2)\n",
            "Requirement already satisfied: joblib in /usr/local/lib/python3.7/dist-packages (from sacremoses->transformers) (1.1.0)\n",
            "Requirement already satisfied: pytorch-transformers in /usr/local/lib/python3.7/dist-packages (1.2.0)\n",
            "Requirement already satisfied: torch>=1.0.0 in /usr/local/lib/python3.7/dist-packages (from pytorch-transformers) (1.10.0+cu111)\n",
            "Requirement already satisfied: tqdm in /usr/local/lib/python3.7/dist-packages (from pytorch-transformers) (4.64.0)\n",
            "Requirement already satisfied: boto3 in /usr/local/lib/python3.7/dist-packages (from pytorch-transformers) (1.21.40)\n",
            "Requirement already satisfied: sacremoses in /usr/local/lib/python3.7/dist-packages (from pytorch-transformers) (0.0.49)\n",
            "Requirement already satisfied: numpy in /usr/local/lib/python3.7/dist-packages (from pytorch-transformers) (1.21.5)\n",
            "Requirement already satisfied: requests in /usr/local/lib/python3.7/dist-packages (from pytorch-transformers) (2.23.0)\n",
            "Requirement already satisfied: regex in /usr/local/lib/python3.7/dist-packages (from pytorch-transformers) (2019.12.20)\n",
            "Requirement already satisfied: sentencepiece in /usr/local/lib/python3.7/dist-packages (from pytorch-transformers) (0.1.96)\n",
            "Requirement already satisfied: typing-extensions in /usr/local/lib/python3.7/dist-packages (from torch>=1.0.0->pytorch-transformers) (4.1.1)\n",
            "Requirement already satisfied: jmespath<2.0.0,>=0.7.1 in /usr/local/lib/python3.7/dist-packages (from boto3->pytorch-transformers) (1.0.0)\n",
            "Requirement already satisfied: botocore<1.25.0,>=1.24.40 in /usr/local/lib/python3.7/dist-packages (from boto3->pytorch-transformers) (1.24.40)\n",
            "Requirement already satisfied: s3transfer<0.6.0,>=0.5.0 in /usr/local/lib/python3.7/dist-packages (from boto3->pytorch-transformers) (0.5.2)\n",
            "Requirement already satisfied: urllib3<1.27,>=1.25.4 in /usr/local/lib/python3.7/dist-packages (from botocore<1.25.0,>=1.24.40->boto3->pytorch-transformers) (1.25.11)\n",
            "Requirement already satisfied: python-dateutil<3.0.0,>=2.1 in /usr/local/lib/python3.7/dist-packages (from botocore<1.25.0,>=1.24.40->boto3->pytorch-transformers) (2.8.2)\n",
            "Requirement already satisfied: six>=1.5 in /usr/local/lib/python3.7/dist-packages (from python-dateutil<3.0.0,>=2.1->botocore<1.25.0,>=1.24.40->boto3->pytorch-transformers) (1.15.0)\n",
            "Requirement already satisfied: certifi>=2017.4.17 in /usr/local/lib/python3.7/dist-packages (from requests->pytorch-transformers) (2021.10.8)\n",
            "Requirement already satisfied: idna<3,>=2.5 in /usr/local/lib/python3.7/dist-packages (from requests->pytorch-transformers) (2.10)\n",
            "Requirement already satisfied: chardet<4,>=3.0.2 in /usr/local/lib/python3.7/dist-packages (from requests->pytorch-transformers) (3.0.4)\n",
            "Requirement already satisfied: joblib in /usr/local/lib/python3.7/dist-packages (from sacremoses->pytorch-transformers) (1.1.0)\n",
            "Requirement already satisfied: click in /usr/local/lib/python3.7/dist-packages (from sacremoses->pytorch-transformers) (7.1.2)\n"
          ]
        }
      ],
      "source": [
        "! pip install datasets transformers\n",
        "! pip install pytorch-transformers"
      ]
    },
    {
      "cell_type": "code",
      "source": [
        "!huggingface-cli login"
      ],
      "metadata": {
        "id": "2HpdDzs6wkvX",
        "outputId": "e12f4e61-f8be-493d-9dc3-dff5d09b3723",
        "colab": {
          "base_uri": "https://localhost:8080/"
        }
      },
      "execution_count": 6,
      "outputs": [
        {
          "output_type": "stream",
          "name": "stdout",
          "text": [
            "\n",
            "        _|    _|  _|    _|    _|_|_|    _|_|_|  _|_|_|  _|      _|    _|_|_|      _|_|_|_|    _|_|      _|_|_|  _|_|_|_|\n",
            "        _|    _|  _|    _|  _|        _|          _|    _|_|    _|  _|            _|        _|    _|  _|        _|\n",
            "        _|_|_|_|  _|    _|  _|  _|_|  _|  _|_|    _|    _|  _|  _|  _|  _|_|      _|_|_|    _|_|_|_|  _|        _|_|_|\n",
            "        _|    _|  _|    _|  _|    _|  _|    _|    _|    _|    _|_|  _|    _|      _|        _|    _|  _|        _|\n",
            "        _|    _|    _|_|      _|_|_|    _|_|_|  _|_|_|  _|      _|    _|_|_|      _|        _|    _|    _|_|_|  _|_|_|_|\n",
            "\n",
            "        To login, `huggingface_hub` now requires a token generated from https://huggingface.co/settings/tokens.\n",
            "        (Deprecated, will be removed in v0.3.0) To login with username and password instead, interrupt with Ctrl+C.\n",
            "        \n",
            "Token: \n",
            "Login successful\n",
            "Your token has been saved to /root/.huggingface/token\n",
            "\u001b[1m\u001b[31mAuthenticated through git-credential store but this isn't the helper defined on your machine.\n",
            "You might have to re-authenticate when pushing to the Hugging Face Hub. Run the following command in your terminal in case you want to set this credential helper as the default\n",
            "\n",
            "git config --global credential.helper store\u001b[0m\n"
          ]
        }
      ]
    },
    {
      "cell_type": "code",
      "source": [
        "import torch\n",
        "import transformers\n",
        "from torch.utils.data import TensorDataset, DataLoader, RandomSampler, SequentialSampler\n",
        "from keras.preprocessing.sequence import pad_sequences\n",
        "from sklearn.model_selection import train_test_split\n",
        "\n",
        "from transformers import XLNetModel, XLNetTokenizer, XLNetForQuestionAnswering\n",
        "from transformers import AutoModelForQuestionAnswering, AutoTokenizer\n",
        "from transformers import AdamW\n",
        "\n",
        "from tqdm import tqdm, trange\n",
        "import pandas as pd\n",
        "import io\n",
        "import numpy as np\n",
        "import matplotlib.pyplot as plt\n",
        "% matplotlib inline"
      ],
      "metadata": {
        "id": "uldvT61mdt4X"
      },
      "execution_count": 7,
      "outputs": []
    },
    {
      "cell_type": "code",
      "source": [
        "device = torch.device(\"cuda\" if torch.cuda.is_available() else \"cpu\")\n",
        "n_gpu = torch.cuda.device_count()\n",
        "torch.cuda.get_device_name(0)"
      ],
      "metadata": {
        "colab": {
          "base_uri": "https://localhost:8080/",
          "height": 35
        },
        "id": "N3odrIFjdxUI",
        "outputId": "8cb0a19d-ac51-46a4-9bcb-7d3ebf80cefd"
      },
      "execution_count": 8,
      "outputs": [
        {
          "output_type": "execute_result",
          "data": {
            "text/plain": [
              "'Tesla K80'"
            ],
            "application/vnd.google.colaboratory.intrinsic+json": {
              "type": "string"
            }
          },
          "metadata": {},
          "execution_count": 8
        }
      ]
    },
    {
      "cell_type": "code",
      "source": [
        "!git config --global credential.helper store"
      ],
      "metadata": {
        "id": "fCMjYetfd0eU"
      },
      "execution_count": 9,
      "outputs": []
    },
    {
      "cell_type": "code",
      "source": [
        "from huggingface_hub import notebook_login\n",
        "notebook_login()"
      ],
      "metadata": {
        "colab": {
          "base_uri": "https://localhost:8080/",
          "height": 359,
          "referenced_widgets": [
            "54439dcc0b994b7ab23e18eafef09843",
            "50570383ac8846cf8ffd749e8d7cfc6f",
            "74cfd574330247d98967321bf86c863f",
            "de70b9bcee3e43f7a914e21f422aa26d",
            "e5df86c1112845dba39a5882acedd453",
            "f4b113ae2ed541cf994580ed3679bda3",
            "2a80aa792c314446a03ad4d0401581f7",
            "789f64151979445fafed17c5a949aa20",
            "6385d6aff9ea4d56a18cb6752f9d0a9d",
            "d90d0589ef504cd18d4e10d971c68db0",
            "e6781e815b194695a60eed4ee79e033c",
            "1adaa40570e84bafbb43c629128ff324",
            "8dfeb6a6f9d14fcfbc23d86708062a64",
            "69af8579c5f943a3a228fc169e987deb",
            "5462d672097148b7b163042f71b870a2",
            "cfa6f52ab6c54e3790d6b9e5266efb21",
            "a9d851734c0f4a8eb37c464505adc10f"
          ]
        },
        "id": "rYaLysZjd6Hg",
        "outputId": "4ef2d601-2086-4ef0-bff2-7589e0ba0b1e"
      },
      "execution_count": 10,
      "outputs": [
        {
          "output_type": "stream",
          "name": "stdout",
          "text": [
            "Login successful\n",
            "Your token has been saved to /root/.huggingface/token\n"
          ]
        }
      ]
    },
    {
      "cell_type": "code",
      "source": [
        "!apt install git-lfs\n",
        "!git config --global user.email \"nntanh@hcmiu.edu.vn\"\n",
        "!git config --global user.name \"nntadotzip\""
      ],
      "metadata": {
        "colab": {
          "base_uri": "https://localhost:8080/"
        },
        "id": "eerdC8NPd9Ce",
        "outputId": "6183984b-8a0d-47b7-ef84-b6a2341bf27c"
      },
      "execution_count": 11,
      "outputs": [
        {
          "output_type": "stream",
          "name": "stdout",
          "text": [
            "Reading package lists... Done\n",
            "Building dependency tree       \n",
            "Reading state information... Done\n",
            "The following NEW packages will be installed:\n",
            "  git-lfs\n",
            "0 upgraded, 1 newly installed, 0 to remove and 39 not upgraded.\n",
            "Need to get 2,129 kB of archives.\n",
            "After this operation, 7,662 kB of additional disk space will be used.\n",
            "Get:1 http://archive.ubuntu.com/ubuntu bionic/universe amd64 git-lfs amd64 2.3.4-1 [2,129 kB]\n",
            "Fetched 2,129 kB in 1s (2,738 kB/s)\n",
            "Selecting previously unselected package git-lfs.\n",
            "(Reading database ... 155455 files and directories currently installed.)\n",
            "Preparing to unpack .../git-lfs_2.3.4-1_amd64.deb ...\n",
            "Unpacking git-lfs (2.3.4-1) ...\n",
            "Setting up git-lfs (2.3.4-1) ...\n",
            "Processing triggers for man-db (2.8.3-2ubuntu0.1) ...\n"
          ]
        }
      ]
    },
    {
      "cell_type": "code",
      "source": [
        "from datasets import load_dataset\n",
        "dataset = load_dataset(\"nntadotzip/iuQAchatbot_ver12April2022\", use_auth_token=True, field='data')"
      ],
      "metadata": {
        "colab": {
          "base_uri": "https://localhost:8080/",
          "height": 249,
          "referenced_widgets": [
            "b16d1caae85447daaaf09c9bce7c82e5",
            "1e4173c151c64287b7278762e2bb330b",
            "9490dd86a5c844ed829b25fd3543a266",
            "9f4c21957a7c4d699520a42370f5595a",
            "671bf040a86545c7a98597e7a7a2eab6",
            "92de4f1f756b4edbb435b2194737197d",
            "304c8a0a3e7945c688e1f079b43a78f8",
            "a7665a95f92b444683b64f2addf49a5c",
            "6f2f84b15ea54a2283b40b856282c45f",
            "9bf457113a594760bf7fa50cd094a815",
            "ce288afa9ddc4c8eb720d0251662aa04",
            "e1aa961f6a59425c9eed8390222dbb0b",
            "bfc1f72f2e1644459a826eb770ba5abd",
            "4da6bb3475984e8f892b0faeb9b1dda0",
            "49e25ab284cd4f1c944a90073c0a0964",
            "c3a329f04a81473199d979c999a277f7",
            "d36885fea6804ec49d446d9ed7ad500d",
            "5018b508dc6f4375bb7b39a414ffe75e",
            "4f32305df16c4bc69d8974e5f707ee9a",
            "dfba1a611fe840fc9af96728bb3051ea",
            "2a30baf47fb14f05b5cf158126f55f88",
            "de9ce8dc2b944260938d455434271d03",
            "8f13fd6f79004dca8cf1548bb1ef94e9",
            "ebabe7a83eb04379b28b7ab44ca1e329",
            "d859314641ef4d1e8fe4a25ea9769f68",
            "db63da58c63045338aefbd4278bbe6dd",
            "0e12b6a1492e46b0a93888eb9c30e2c5",
            "719c145cacb04d9e911c52793bfbf6e8",
            "f0741eeb99e34044aec868ac0b29e5be",
            "5ed8e23bec3f4f03b6acf41a254708b0",
            "63b59681bb9a490f95ee0850798e554c",
            "c178ccbd44004ec7b809848deec02483",
            "70333b5c05c049e6834e6d55e9acc1ba",
            "78937178df4545a4b629286f575fac38",
            "e3dbeae657594a5a9878310c6c394724",
            "7f551df5472745f09f6846c2b898bff9",
            "f6fe45ea403d4a32bb671344db47d252",
            "61f8b82f098d4f0ea79538b3b9f56f45",
            "481f7d8cb6a74858aba8c1d6552f5aab",
            "158c8c216a2247c486708070343fac1a",
            "0eaa21fdc6a74749a366c82d515855c7",
            "7512e18fb8694cce99301171fc3932f8",
            "a672a4778b1f427e8443c3a42b53f00c",
            "b95155e4a6c04f27b439cc8808c030f2",
            "b8e59717ae1b4db08634ec4cd3adaa32",
            "5be7b228ff204260b5b6ad10982ba66d",
            "e2ac4203debf418c863f5b41891ba40a",
            "f81ef2a394b04417a078a8ce939bde9b",
            "54f75df5b841440c8d460b49e78d2146",
            "409632fe957a4a53af46baaccaa97f96",
            "b6d92f999f864ee6b6da743e34b3939d",
            "8bddc9e589184ff79e56659e148f13dc",
            "43eccfa279cd4771b2a1e05b814d8438",
            "809c2db45cf34c5e94815623964d679f",
            "d05a2aa86d864573a4308c6aee445333"
          ]
        },
        "id": "GRTVUxR8zw8g",
        "outputId": "b9521acc-22b3-436b-e69a-9696f4b0f305"
      },
      "execution_count": 12,
      "outputs": [
        {
          "output_type": "stream",
          "name": "stderr",
          "text": [
            "Using custom data configuration nntadotzip--iuQAchatbot_ver12April2022-546da607794b632c\n"
          ]
        },
        {
          "output_type": "stream",
          "name": "stdout",
          "text": [
            "Downloading and preparing dataset json/nntadotzip--iuQAchatbot_ver12April2022 to /root/.cache/huggingface/datasets/json/nntadotzip--iuQAchatbot_ver12April2022-546da607794b632c/0.0.0/ac0ca5f5289a6cf108e706efcf040422dbbfa8e658dee6a819f20d76bb84d26b...\n"
          ]
        },
        {
          "output_type": "display_data",
          "data": {
            "text/plain": [
              "Downloading data files:   0%|          | 0/2 [00:00<?, ?it/s]"
            ],
            "application/vnd.jupyter.widget-view+json": {
              "version_major": 2,
              "version_minor": 0,
              "model_id": "b16d1caae85447daaaf09c9bce7c82e5"
            }
          },
          "metadata": {}
        },
        {
          "output_type": "display_data",
          "data": {
            "text/plain": [
              "Downloading data:   0%|          | 0.00/2.60M [00:00<?, ?B/s]"
            ],
            "application/vnd.jupyter.widget-view+json": {
              "version_major": 2,
              "version_minor": 0,
              "model_id": "e1aa961f6a59425c9eed8390222dbb0b"
            }
          },
          "metadata": {}
        },
        {
          "output_type": "display_data",
          "data": {
            "text/plain": [
              "Downloading data:   0%|          | 0.00/279k [00:00<?, ?B/s]"
            ],
            "application/vnd.jupyter.widget-view+json": {
              "version_major": 2,
              "version_minor": 0,
              "model_id": "8f13fd6f79004dca8cf1548bb1ef94e9"
            }
          },
          "metadata": {}
        },
        {
          "output_type": "display_data",
          "data": {
            "text/plain": [
              "Extracting data files:   0%|          | 0/2 [00:00<?, ?it/s]"
            ],
            "application/vnd.jupyter.widget-view+json": {
              "version_major": 2,
              "version_minor": 0,
              "model_id": "78937178df4545a4b629286f575fac38"
            }
          },
          "metadata": {}
        },
        {
          "output_type": "stream",
          "name": "stdout",
          "text": [
            "Dataset json downloaded and prepared to /root/.cache/huggingface/datasets/json/nntadotzip--iuQAchatbot_ver12April2022-546da607794b632c/0.0.0/ac0ca5f5289a6cf108e706efcf040422dbbfa8e658dee6a819f20d76bb84d26b. Subsequent calls will reuse this data.\n"
          ]
        },
        {
          "output_type": "display_data",
          "data": {
            "text/plain": [
              "  0%|          | 0/2 [00:00<?, ?it/s]"
            ],
            "application/vnd.jupyter.widget-view+json": {
              "version_major": 2,
              "version_minor": 0,
              "model_id": "b8e59717ae1b4db08634ec4cd3adaa32"
            }
          },
          "metadata": {}
        }
      ]
    },
    {
      "cell_type": "code",
      "source": [
        "dataset"
      ],
      "metadata": {
        "id": "b2spthn401wh",
        "colab": {
          "base_uri": "https://localhost:8080/"
        },
        "outputId": "a2a26c60-8be9-4d59-90e1-afbf74adf7a2"
      },
      "execution_count": 13,
      "outputs": [
        {
          "output_type": "execute_result",
          "data": {
            "text/plain": [
              "DatasetDict({\n",
              "    train: Dataset({\n",
              "        features: ['answers', 'context', 'id', 'question', 'title'],\n",
              "        num_rows: 630\n",
              "    })\n",
              "    test: Dataset({\n",
              "        features: ['answers', 'context', 'id', 'question', 'title'],\n",
              "        num_rows: 70\n",
              "    })\n",
              "})"
            ]
          },
          "metadata": {},
          "execution_count": 13
        }
      ]
    },
    {
      "cell_type": "code",
      "source": [
        "dataset[\"train\"][0]"
      ],
      "metadata": {
        "colab": {
          "base_uri": "https://localhost:8080/"
        },
        "id": "pY8Qev97Yo1r",
        "outputId": "afbdeffb-1259-4e36-81cb-9e2d61ef6687"
      },
      "execution_count": 14,
      "outputs": [
        {
          "output_type": "execute_result",
          "data": {
            "text/plain": [
              "{'answers': {'answer_start': [1443],\n",
              "  'text': ['Ngành Kỹ thuật Hệ thống Công nghiệp (Mã ngành: 7520118) Chương trình: Trong nước Chương trình đại học của ngành Kỹ thuật Hệ thống công nghiệp (ISE) sẽ cung cấp cho sinh viên những kiến thức lý thuyết và kỹ năng thực tế trong việc thiết kế, vận hành, cải thiện và tối ưu các hệ thống sản xuất và dịch vụ Sau khi tốt nghiệp, sinh viên có thể:, Theo đuổi việc học lên cao hơn, có khả năng cạnh tranh thành công để giành được những học bổng uy tín để có thể theo học các chương trình cao học ở nước ngoài Trở thành kỹ sư Kỹ thuật Hệ thống công nghiệp giỏi, có thể tìm được việc làm trong các lĩnh vực sản xuất, quản lý vật tư tồn kho, chuỗi cung ứng và hậu cần, quản lý chất lượng, lập kế hoạch và điều độ, thiết kế và sắp xếp các mặt bằng trong các công ty/ cơquan: -']},\n",
              " 'context': 'Ngành Công nghệ Thông tin (Mã ngành: 7480201) Chương trình: Trong nước Công nghệ Thông tin (với hai chuyên ngành: kỹ sư mạng máy tính và cử nhân khoa học máy tính) và cử nhân Khoa học Dữ liệu. Chương trình đào tạo tuân thủ theo các chuẩn mực quốc tế và đã đạt được chứng nhận kiểm định chất lượng bởi Tổ chức các trường Đại học Đông Nam Á (AUN) từ năm 2009 và tái kiểm định năm 2017. Các chương trình đào tạo đã đạt được chuẩn MOET năm 2017 và hiện đang tiếp tục thực hiện quy chuẩn kiểm định ABET của Mỹ. -Ngành Kế toán (Mã ngành: 7340301) Chương trình: Trong nước Kế toán (tiếng Anh là Accountant) là công việc ghi chép, thu nhận, xử lý và cung cấp các thông tin về tình hình hoạt động tài chính của một tổ chức, một doanh nghiệp, một cơ quan nhà nước, một cơ sở kinh doanh tư nhân.. -Ngành Kỹ thuật Hóa học (Mã ngành: 7520301) Chương trình: Trong nước Đào tạo kỹ sư hóa học với triết lý ‘Job ready’, cụ thể như sau:, Có kiến thức cơ bản vững chắc về khoa học và kỹ thuật trong lĩnh vực hóa học và những lĩnh vực có liên quan (vd như sinh học, dược học, môi trường, v.v.) Có khả năng vận dụng sáng tạo các kiến thức cơ bản trong ngành để giải quyết các vấn đề đa dạng trong các lĩnh vực nghề nghiệp Có đạo đức nghề nghiệp, hiểu rõ các vấn đề về môi trường, xã hội, an ninh và kinh tế Có đầy đủ các kỹ năng mềm, kỹ năng quản lý, khả năng làm việc nhóm, khả năng lãnh đạo, khả năng giao tiếp và làm việc chuyên môn thành thạo bằng tiếng Anh. -Ngành Kỹ thuật Hệ thống Công nghiệp (Mã ngành: 7520118) Chương trình: Trong nước Chương trình đại học của ngành Kỹ thuật Hệ thống công nghiệp (ISE) sẽ cung cấp cho sinh viên những kiến thức lý thuyết và kỹ năng thực tế trong việc thiết kế, vận hành, cải thiện và tối ưu các hệ thống sản xuất và dịch vụ Sau khi tốt nghiệp, sinh viên có thể:, Theo đuổi việc học lên cao hơn, có khả năng cạnh tranh thành công để giành được những học bổng uy tín để có thể theo học các chương trình cao học ở nước ngoài Trở thành kỹ sư Kỹ thuật Hệ thống công nghiệp giỏi, có thể tìm được việc làm trong các lĩnh vực sản xuất, quản lý vật tư tồn kho, chuỗi cung ứng và hậu cần, quản lý chất lượng, lập kế hoạch và điều độ, thiết kế và sắp xếp các mặt bằng trong các công ty/ cơquan: -Ngành Kỹ thuật Hệ thống Công nghiệp (Mã ngành: 7520118) Chương trình: Trong nước Chương trình đại học của ngành Kỹ thuật Hệ thống công nghiệp (ISE) sẽ cung cấp cho sinh viên những kiến thức lý thuyết và kỹ năng thực tế trong việc thiết kế, vận hành, cải thiện và tối ưu các hệ thống sản xuất và dịch vụ Sau khi tốt nghiệp, sinh viên có thể:, Theo đuổi việc học lên cao hơn, có khả năng cạnh tranh thành công để giành được những học bổng uy tín để có thể theo học các chương trình cao học ở nước ngoài Trở thành kỹ sư Kỹ thuật Hệ thống công nghiệp giỏi, có thể tìm được việc làm trong các lĩnh vực sản xuất, quản lý vật tư tồn kho, chuỗi cung ứng và hậu cần, quản lý chất lượng, lập kế hoạch và điều độ, thiết kế và sắp xếp các mặt bằng trong các công ty/ cơquan: -',\n",
              " 'id': 256,\n",
              " 'question': 'Tôi muốn học môn Kỹ thuật hệ thống thì chọn ngành nào?',\n",
              " 'title': 'Chọn ngành'}"
            ]
          },
          "metadata": {},
          "execution_count": 14
        }
      ]
    },
    {
      "cell_type": "markdown",
      "source": [
        "Review the Dataset"
      ],
      "metadata": {
        "id": "IztAbwIWZB_M"
      }
    },
    {
      "cell_type": "code",
      "source": [
        "from datasets import ClassLabel, Sequence\n",
        "import random\n",
        "import pandas as pd\n",
        "from IPython.display import display, HTML\n",
        "\n",
        "def show_random_elements(dataset, num_examples=10):\n",
        "    assert num_examples <= len(dataset), \"Can't pick more elements than there are in the dataset.\"\n",
        "    picks = []\n",
        "    for _ in range(num_examples):\n",
        "        pick = random.randint(0, len(dataset)-1)\n",
        "        while pick in picks:\n",
        "            pick = random.randint(0, len(dataset)-1)\n",
        "        picks.append(pick)\n",
        "    \n",
        "    df = pd.DataFrame(dataset[picks])\n",
        "    for column, typ in dataset.features.items():\n",
        "        if isinstance(typ, ClassLabel):\n",
        "            df[column] = df[column].transform(lambda i: typ.names[i])\n",
        "        elif isinstance(typ, Sequence) and isinstance(typ.feature, ClassLabel):\n",
        "            df[column] = df[column].transform(lambda x: [typ.feature.names[i] for i in x])\n",
        "    display(HTML(df.to_html()))"
      ],
      "metadata": {
        "id": "klcStvFt0-d2"
      },
      "execution_count": 15,
      "outputs": []
    },
    {
      "cell_type": "code",
      "source": [
        "show_random_elements(dataset[\"train\"])"
      ],
      "metadata": {
        "colab": {
          "base_uri": "https://localhost:8080/",
          "height": 1000
        },
        "id": "ZId-9Gp6YzJQ",
        "outputId": "e7d313b6-fb09-43de-f7ea-2eb56730c50b"
      },
      "execution_count": 16,
      "outputs": [
        {
          "output_type": "display_data",
          "data": {
            "text/plain": [
              "<IPython.core.display.HTML object>"
            ],
            "text/html": [
              "<table border=\"1\" class=\"dataframe\">\n",
              "  <thead>\n",
              "    <tr style=\"text-align: right;\">\n",
              "      <th></th>\n",
              "      <th>answers</th>\n",
              "      <th>context</th>\n",
              "      <th>id</th>\n",
              "      <th>question</th>\n",
              "      <th>title</th>\n",
              "    </tr>\n",
              "  </thead>\n",
              "  <tbody>\n",
              "    <tr>\n",
              "      <th>0</th>\n",
              "      <td>{'answer_start': [0], 'text': ['Phương pháp nghiên cứu trong tài chính(MAFE403IU) Research Methods in Finance - Quản trị rủi ro tài chính 2(MAFE404IU) Financial Risk Management 2 - Toán Tài Chính 2(MAFE401IU) Financial Mathematics 2 - Quản Trị Danh Mục Đầu Tư(MAFE402IU) Portfolio Management - Quá trình ngẫu nhiên(MAFE302IU) Random Processes - Tối ưu hóa 1(MAFE303IU) Optimization 1 - Giải tích thực(MAFE201IU) Real Analysis - Phương trình vi phân(MAFE202IU) Differential Equations - Mạng máy tính(MAFE205IU) Computer Networks - Giải tích 3(MAFE203IU) Analysis 3 - Hệ quản trị cơ sở dữ liệu(MAFE204IU) Database Management system - Thị trường tài chính(MAFE209IU) Financial markets - Kỹ thuật ra quyết định(MAFE207IU) Decision Making - Giải tích số(MAFE208IU) Numerical Analysis - Đại số tuyến tính(MAFE104IU) Linear Algebra - Kinh tế tài chính(MAFE105IU) Financial Economics - Khai phá dữ liệu(MAFE312IU) Data mining - Định giá Tài sản(MAFE311IU) Asset pricing - Kinh tế lượng trong tài chính(MAFE314IU) Financial Econometrics - Giải tích 1(MAFE101IU) Analysis 1 - Lập trình C/C++(MAFE102IU) Programming C/C++ - Nhập môn Tài chính doanh nghiệp(MAFE315IU) Introduction to corporate finance - Toán Tài Chính 1(MAFE306IU) Financial Mathematics 1 - Tối ưu hóa 2(MAFE307IU) Optimization 2 - Quản trị rủi ro tài chính 1(MAFE308IU) Financial Risk Management 1 - Kỹ thuật phần mềm(MAFE309IU) Software Engineering - Kinh tế vi mô(BA117IU) Introduction to Micro Economics - Luận văn tốt nghiệp(MAFE409IU) Graduation Thesis - Kinh tế vĩ mô(BA119IU) Introduction to Macro Economics - Quản trị tài chính(MAFE215IU) Financial Management -']}</td>\n",
              "      <td>Phương pháp nghiên cứu trong tài chính(MAFE403IU) Research Methods in Finance - Quản trị rủi ro tài chính 2(MAFE404IU) Financial Risk Management 2 - Toán Tài Chính 2(MAFE401IU) Financial Mathematics 2 - Quản Trị Danh Mục Đầu Tư(MAFE402IU) Portfolio Management - Quá trình ngẫu nhiên(MAFE302IU) Random Processes - Tối ưu hóa 1(MAFE303IU) Optimization 1 - Giải tích thực(MAFE201IU) Real Analysis - Phương trình vi phân(MAFE202IU) Differential Equations - Mạng máy tính(MAFE205IU) Computer Networks - Giải tích 3(MAFE203IU) Analysis 3 - Hệ quản trị cơ sở dữ liệu(MAFE204IU) Database Management system - Thị trường tài chính(MAFE209IU) Financial markets - Kỹ thuật ra quyết định(MAFE207IU) Decision Making - Giải tích số(MAFE208IU) Numerical Analysis - Đại số tuyến tính(MAFE104IU) Linear Algebra - Kinh tế tài chính(MAFE105IU) Financial Economics - Khai phá dữ liệu(MAFE312IU) Data mining - Định giá Tài sản(MAFE311IU) Asset pricing - Kinh tế lượng trong tài chính(MAFE314IU) Financial Econometrics - Giải tích 1(MAFE101IU) Analysis 1 - Lập trình C/C++(MAFE102IU) Programming C/C++ - Nhập môn Tài chính doanh nghiệp(MAFE315IU) Introduction to corporate finance - Toán Tài Chính 1(MAFE306IU) Financial Mathematics 1 - Tối ưu hóa 2(MAFE307IU) Optimization 2 - Quản trị rủi ro tài chính 1(MAFE308IU) Financial Risk Management 1 - Kỹ thuật phần mềm(MAFE309IU) Software Engineering - Kinh tế vi mô(BA117IU) Introduction to Micro Economics - Luận văn tốt nghiệp(MAFE409IU) Graduation Thesis - Kinh tế vĩ mô(BA119IU) Introduction to Macro Economics - Quản trị tài chính(MAFE215IU) Financial Management -</td>\n",
              "      <td>176</td>\n",
              "      <td>Cho tôi biết chương trình ngành Toán ứng dụng (Kỹ thuật Tài chính và Quản trị rủi ro) ?</td>\n",
              "      <td>Chương trình</td>\n",
              "    </tr>\n",
              "    <tr>\n",
              "      <th>1</th>\n",
              "      <td>{'answer_start': [1594], 'text': ['Ngành Kỹ thuật Hệ thống Công nghiệp (Mã ngành: 7520118) Chương trình: Trong nước Chương trình đại học của ngành Kỹ thuật Hệ thống công nghiệp (ISE) sẽ cung cấp cho sinh viên những kiến thức lý thuyết và kỹ năng thực tế trong việc thiết kế, vận hành, cải thiện và tối ưu các hệ thống sản xuất và dịch vụ Sau khi tốt nghiệp, sinh viên có thể:, Theo đuổi việc học lên cao hơn, có khả năng cạnh tranh thành công để giành được những học bổng uy tín để có thể theo học các chương trình cao học ở nước ngoài Trở thành kỹ sư Kỹ thuật Hệ thống công nghiệp giỏi, có thể tìm được việc làm trong các lĩnh vực sản xuất, quản lý vật tư tồn kho, chuỗi cung ứng và hậu cần, quản lý chất lượng, lập kế hoạch và điều độ, thiết kế và sắp xếp các mặt bằng trong các công ty/ cơquan: -']}</td>\n",
              "      <td>Ngành Công nghệ Thực phẩm (Mã ngành: 7540101) Chương trình: Trong nước Chương trình đào tạo ngành CNTP tại Trường Đai học Quốc tế được thiết kế nhằm đào tạo các kỹ sư CNTP, có những nét chính như sau:, Cung cấp kiến thức rộng, cân bằng về các khoa học thực phẩm và kỹ thuật thực phẩm Cung cấp kiến thức cơ bản về quản lý thực phẩm (bao gồm cả quản lý sản xuất, chất lượng, vệ sinh an toàn thực phẩm và vệ sinh môi trường) Chú trọng đến kỹ năng thực hành và khả năng tiếp cận với thiết bị công nghệ cao Giảng dạy hoàn toàn bằng tiếng Anh (kỹ sư sau khi tốt nghiệp sẽ đạt trình độ tiếng Anh TOEF pBT 550 hoặc tương đương (IELTS 6.0, TOEFL iBT 60)). -Ngành Kỹ thuật Hóa học (Mã ngành: 7520301) Chương trình: Trong nước Đào tạo kỹ sư hóa học với triết lý ‘Job ready’, cụ thể như sau:, Có kiến thức cơ bản vững chắc về khoa học và kỹ thuật trong lĩnh vực hóa học và những lĩnh vực có liên quan (vd như sinh học, dược học, môi trường, v.v.) Có khả năng vận dụng sáng tạo các kiến thức cơ bản trong ngành để giải quyết các vấn đề đa dạng trong các lĩnh vực nghề nghiệp Có đạo đức nghề nghiệp, hiểu rõ các vấn đề về môi trường, xã hội, an ninh và kinh tế Có đầy đủ các kỹ năng mềm, kỹ năng quản lý, khả năng làm việc nhóm, khả năng lãnh đạo, khả năng giao tiếp và làm việc chuyên môn thành thạo bằng tiếng Anh. -Ngành Kỹ thuật Xây dựng (Mã ngành: 7580201) Chương trình: Trong nước Kỹ thuật xây dựng là ngành chuyên về lĩnh vực tư vấn, thiết kế, tổ chức thi công, quản lí giảm sát và nghiệm thu các công trình xây dựng phục vụ đời sống con người như: nhà ở, nhà hàng – khách sạn, bệnh viện, cầu đường… -Ngành Kỹ thuật Hệ thống Công nghiệp (Mã ngành: 7520118) Chương trình: Trong nước Chương trình đại học của ngành Kỹ thuật Hệ thống công nghiệp (ISE) sẽ cung cấp cho sinh viên những kiến thức lý thuyết và kỹ năng thực tế trong việc thiết kế, vận hành, cải thiện và tối ưu các hệ thống sản xuất và dịch vụ Sau khi tốt nghiệp, sinh viên có thể:, Theo đuổi việc học lên cao hơn, có khả năng cạnh tranh thành công để giành được những học bổng uy tín để có thể theo học các chương trình cao học ở nước ngoài Trở thành kỹ sư Kỹ thuật Hệ thống công nghiệp giỏi, có thể tìm được việc làm trong các lĩnh vực sản xuất, quản lý vật tư tồn kho, chuỗi cung ứng và hậu cần, quản lý chất lượng, lập kế hoạch và điều độ, thiết kế và sắp xếp các mặt bằng trong các công ty/ cơquan: -Ngành Hóa học (Hóa sinh) (Mã ngành: 7440112) Chương trình: Trong nước Ngành Hóa sinh được thiết kế dành riêng cho sinh viên chuyên nghiên cứu các tiến trình hóa học của sự sống ở cấp độ phân tử. Chương trình bao gồm giảng dạy các môn học về nguyên lý Sinh học, Hóa học, Vật lý và đặc biệt là mối liên quan của các nguyên lý này bên trong cơ thể sống. Sinh viên sẽ được nghiên cứu các tiến trình hóa học liên quan đến các đại phân tử và ý nghĩa từng cấu trúc trên các tiến trình tế bào. Chương trình còn khái quát các khía cạnh khác nhau của Hóa sinh bao gồm Hóa sinh phân tử, Enzym học, Công nghệ lên men, Hóa sinh lâm sàng và Kỹ thuật Hóa sinh -</td>\n",
              "      <td>511</td>\n",
              "      <td>Tôi muốn học môn Tin học cho kỹ sư thì chọn ngành nào?</td>\n",
              "      <td>Chọn ngành</td>\n",
              "    </tr>\n",
              "    <tr>\n",
              "      <th>2</th>\n",
              "      <td>{'answer_start': [2395], 'text': ['Ngành Khoa học Dữ liệu (Mã ngành: 7480109) Chương trình: Trong nước Khoa học dữ liệu (KHDL) là khoa học về việc quản trị và phân tích dữ liệu để tìm ra các hiểu biết, các tri thức hành động, các quyết định dẫn dắt hành động. KHDL gồm ba phần chính: Tạo ra và quản trị dữ liệu, phân tích dữ liệu, và chuyển kết quả phân tích thành giá trị của hành động. Nôm na bước thứ nhất là về số hóa và bước thứ hai là về dùng dữ liệu. Việc phân tích và dùng dữ liệu lại dựa vào ba nguồn tri thức: toán học (thống kê toán học), công nghệ thông tin (máy học) và tri thức của lĩnh vực ứng dụng cụ thể.']}</td>\n",
              "      <td>Ngành Ngôn ngữ Anh (3+1) (Mã ngành: 7220201_WE3) Chương trình: Chương trình liên kết cấp bằng của trường ĐH West of England (UK) (3+1) Chương trình Cử nhân Ngôn ngữ Anh của Bộ môn Anh tại trường Đại học Quốc tế được thiết kế nhằm giúp sinh viên đáp ứng nhu cầu sử dụng tiếng Anh trong môi trường học tập và làm việc toàn cầu. Theo dự kiến, sinh viên hoàn thành 135 tín chỉ của các khóa học trong bốn năm. Những chương trình Anh ngữ Tăng cường và Học thuật của chúng tôi góp phần thúc đẩy sự thành công của sinh viên IU trong môi trường học tập và nói tiếng Anh tại IU và các trường đại học trên toàn thế giới. Chúng tôi tập trung vào các lĩnh vực thường sử dụng tiếng Anh trong nhiều bối cảnh học thuật khác nhau, như đọc chuyên ngành, nghe bài giảng và ghi chú, kỹ thuật thuyết trình, viết học thuật, viết bài kỹ thuật và viết bài nghiên cứu, và chuẩn bị cho các bài kiểm tra tiêu chuẩn quốc tế như TOEFL iBT và IELTSNgành Quản trị Kinh doanh (Mã ngành: 7340101) Chương trình: Trong nước Quản trị kinh doanh là một ngành tổng hợp gồm nhiều bộ môn căn bản về “quản trị” và “kinh doanh”. Nói cách khác, khi đăng ký ngành này, bạn sẽ được đào tạo đầy đủ những kiến thức căn bản trong khối ngành kinh tế như tài chính, kế toán, nhân sự cho tới các chiến lược kinh doanh, marketing. Song song với các kiến thức trên, hệ thống tư duy, kỹ năng lãnh đạo cùng nhưng mô hình quản trị sao cho tối đa hóa hiệu suất công việc cũng là những môn học không thể thiếu của chuyên ngành đặc biệt này. Ngành Ngôn ngữ Anh (2+2) (Mã ngành: 7220201_WE2) Chương trình: Chương trình liên kết cấp bằng của trường ĐH West of England (UK) Chương trình Cử nhân Ngôn ngữ Anh của Bộ môn Anh tại trường Đại học Quốc tế được thiết kế nhằm giúp sinh viên đáp ứng nhu cầu sử dụng tiếng Anh trong môi trường học tập và làm việc toàn cầu. Theo dự kiến, sinh viên hoàn thành 135 tín chỉ của các khóa học trong bốn năm. Những chương trình Anh ngữ Tăng cường và Học thuật của chúng tôi góp phần thúc đẩy sự thành công của sinh viên IU trong môi trường học tập và nói tiếng Anh tại IU và các trường đại học trên toàn thế giới. Chúng tôi tập trung vào các lĩnh vực thường sử dụng tiếng Anh trong nhiều bối cảnh học thuật khác nhau, như đọc chuyên ngành, nghe bài giảng và ghi chú, kỹ thuật thuyết trình, viết học thuật, viết bài kỹ thuật và viết bài nghiên cứu, và chuẩn bị cho các bài kiểm tra tiêu chuẩn quốc tế như TOEFL iBT và IELTSNgành Khoa học Dữ liệu (Mã ngành: 7480109) Chương trình: Trong nước Khoa học dữ liệu (KHDL) là khoa học về việc quản trị và phân tích dữ liệu để tìm ra các hiểu biết, các tri thức hành động, các quyết định dẫn dắt hành động. KHDL gồm ba phần chính: Tạo ra và quản trị dữ liệu, phân tích dữ liệu, và chuyển kết quả phân tích thành giá trị của hành động. Nôm na bước thứ nhất là về số hóa và bước thứ hai là về dùng dữ liệu. Việc phân tích và dùng dữ liệu lại dựa vào ba nguồn tri thức: toán học (thống kê toán học), công nghệ thông tin (máy học) và tri thức của lĩnh vực ứng dụng cụ thể.</td>\n",
              "      <td>35</td>\n",
              "      <td>Cho tôi hỏi về Khoa học Dữ liệu</td>\n",
              "      <td>Ngành</td>\n",
              "    </tr>\n",
              "    <tr>\n",
              "      <th>3</th>\n",
              "      <td>{'answer_start': [0], 'text': ['Bộ môn Kỹ thuật Xây dựng: Bộ môn Kỹ thuật Xây dựng (KTXD) được thành lập vào tháng 1 năm 2011 nhằm xây dựng một nền tảng vững chắc cho sinh viên và giúp giảng viên phát huy tối đa khả năng của mình Liên hệ: Phòng O1 – 506 Điện thoại: (84 -28) 3724 4270 số nhánh lẻ: 342']}</td>\n",
              "      <td>Bộ môn Kỹ thuật Xây dựng: Bộ môn Kỹ thuật Xây dựng (KTXD) được thành lập vào tháng 1 năm 2011 nhằm xây dựng một nền tảng vững chắc cho sinh viên và giúp giảng viên phát huy tối đa khả năng của mình Liên hệ: Phòng O1 – 506 Điện thoại: (84 -28) 3724 4270 số nhánh lẻ: 342Khoa Kỹ thuật và Quản lý Công nghiệp: Khoa Kỹ thuật và Quản lý Công nghiệp mong muốn thu hút, đào tạo sinh viên và chuẩn bị cho họ trở thành những nhà cán bộ kỹ thuật và nhà lãnh đạo trong các lãnh vực Quản lý Sản xuất, Hậu cần, Chuỗi Cung ứng, các ngành Dịch vụ tại Việt Nam Liên hệ: Phòng O2 – 602 Điện thoại: (84 – 28) 37244270 số máy lẻ: 3327, 3982Khoa Công nghệ Sinh học: Chương trình đào tạo của Khoa CNSH được xây dựng trên nền tảng của các chương trình tiên tiến có khả năng giải quyết các nhu cầu thực tiễn trong nước, tập trung vào việc trang bị kiến thức hiện đại, kỹ năng thực hành và làm việc cần thiết cho người học Liên hệ: Phòng O1 – 708 Điện thoại: (84 – 28) 37244270 – số máy lẻ 3233Bộ môn Toán: Bộ môn Toán chịu trách nhiệm biên soạn đề cương, chương trình và thực hiện giảng dạy các học phần Toán học cho sinh viên trường Đại học Quốc tế. Liên hệ: Phòng O2 – 610 Điện thoại: (84-28) 3724 4270 số nhánh lẻ: 3235</td>\n",
              "      <td>82</td>\n",
              "      <td>Chức năng nhiệm vụ của Bộ môn Kỹ thuật Xây dựng là gì?</td>\n",
              "      <td>Chức năng, nhiệm vụ</td>\n",
              "    </tr>\n",
              "    <tr>\n",
              "      <th>4</th>\n",
              "      <td>{'answer_start': [1292], 'text': ['Ngành Công nghệ Thông tin (Mã ngành: 7480201) Chương trình: Trong nước Công nghệ Thông tin (với hai chuyên ngành: kỹ sư mạng máy tính và cử nhân khoa học máy tính) và cử nhân Khoa học Dữ liệu. Chương trình đào tạo tuân thủ theo các chuẩn mực quốc tế và đã đạt được chứng nhận kiểm định chất lượng bởi Tổ chức các trường Đại học Đông Nam Á (AUN) từ năm 2009 và tái kiểm định năm 2017. Các chương trình đào tạo đã đạt được chuẩn MOET năm 2017 và hiện đang tiếp tục thực hiện quy chuẩn kiểm định ABET của Mỹ. -']}</td>\n",
              "      <td>Ngành Hóa học (Hóa sinh) (Mã ngành: 7440112) Chương trình: Trong nước Ngành Hóa sinh được thiết kế dành riêng cho sinh viên chuyên nghiên cứu các tiến trình hóa học của sự sống ở cấp độ phân tử. Chương trình bao gồm giảng dạy các môn học về nguyên lý Sinh học, Hóa học, Vật lý và đặc biệt là mối liên quan của các nguyên lý này bên trong cơ thể sống. Sinh viên sẽ được nghiên cứu các tiến trình hóa học liên quan đến các đại phân tử và ý nghĩa từng cấu trúc trên các tiến trình tế bào. Chương trình còn khái quát các khía cạnh khác nhau của Hóa sinh bao gồm Hóa sinh phân tử, Enzym học, Công nghệ lên men, Hóa sinh lâm sàng và Kỹ thuật Hóa sinh -Ngành Hóa học (Hóa sinh) (Mã ngành: 7440112) Chương trình: Trong nước Ngành Hóa sinh được thiết kế dành riêng cho sinh viên chuyên nghiên cứu các tiến trình hóa học của sự sống ở cấp độ phân tử. Chương trình bao gồm giảng dạy các môn học về nguyên lý Sinh học, Hóa học, Vật lý và đặc biệt là mối liên quan của các nguyên lý này bên trong cơ thể sống. Sinh viên sẽ được nghiên cứu các tiến trình hóa học liên quan đến các đại phân tử và ý nghĩa từng cấu trúc trên các tiến trình tế bào. Chương trình còn khái quát các khía cạnh khác nhau của Hóa sinh bao gồm Hóa sinh phân tử, Enzym học, Công nghệ lên men, Hóa sinh lâm sàng và Kỹ thuật Hóa sinh -Ngành Công nghệ Thông tin (Mã ngành: 7480201) Chương trình: Trong nước Công nghệ Thông tin (với hai chuyên ngành: kỹ sư mạng máy tính và cử nhân khoa học máy tính) và cử nhân Khoa học Dữ liệu. Chương trình đào tạo tuân thủ theo các chuẩn mực quốc tế và đã đạt được chứng nhận kiểm định chất lượng bởi Tổ chức các trường Đại học Đông Nam Á (AUN) từ năm 2009 và tái kiểm định năm 2017. Các chương trình đào tạo đã đạt được chuẩn MOET năm 2017 và hiện đang tiếp tục thực hiện quy chuẩn kiểm định ABET của Mỹ. -Ngành Kỹ thuật Y Sinh (Mã ngành: 7520212) Chương trình: Trong nước Kỹ thuật Y Sinh (KTYS) hiện đang là một lĩnh vực nổi bật thu hút sự quan tâm trên thế giới. Đây là một lĩnh vực đa ngành ứng dụng kỹ thuật tiên tiến vào việc tạo ra các phương pháp nghiên cứu và thiết bị phục vụ cho sức khỏe cũng như giúp hiểu biết sâu hơn về các tiến trình sinh học của con người. -Ngành Công nghệ Thực phẩm (Mã ngành: 7540101) Chương trình: Trong nước Chương trình đào tạo ngành CNTP tại Trường Đai học Quốc tế được thiết kế nhằm đào tạo các kỹ sư CNTP, có những nét chính như sau:, Cung cấp kiến thức rộng, cân bằng về các khoa học thực phẩm và kỹ thuật thực phẩm Cung cấp kiến thức cơ bản về quản lý thực phẩm (bao gồm cả quản lý sản xuất, chất lượng, vệ sinh an toàn thực phẩm và vệ sinh môi trường) Chú trọng đến kỹ năng thực hành và khả năng tiếp cận với thiết bị công nghệ cao Giảng dạy hoàn toàn bằng tiếng Anh (kỹ sư sau khi tốt nghiệp sẽ đạt trình độ tiếng Anh TOEF pBT 550 hoặc tương đương (IELTS 6.0, TOEFL iBT 60)). -</td>\n",
              "      <td>590</td>\n",
              "      <td>Tôi muốn học môn Mạng không dây cơ bản thì chọn ngành nào?</td>\n",
              "      <td>Chọn ngành</td>\n",
              "    </tr>\n",
              "    <tr>\n",
              "      <th>5</th>\n",
              "      <td>{'answer_start': [0], 'text': ['Ngành Kỹ thuật Hóa học (Mã ngành: 7520301) Chương trình: Trong nước Đào tạo kỹ sư hóa học với triết lý ‘Job ready’, cụ thể như sau:, Có kiến thức cơ bản vững chắc về khoa học và kỹ thuật trong lĩnh vực hóa học và những lĩnh vực có liên quan (vd như sinh học, dược học, môi trường, v.v.) Có khả năng vận dụng sáng tạo các kiến thức cơ bản trong ngành để giải quyết các vấn đề đa dạng trong các lĩnh vực nghề nghiệp Có đạo đức nghề nghiệp, hiểu rõ các vấn đề về môi trường, xã hội, an ninh và kinh tế Có đầy đủ các kỹ năng mềm, kỹ năng quản lý, khả năng làm việc nhóm, khả năng lãnh đạo, khả năng giao tiếp và làm việc chuyên môn thành thạo bằng tiếng Anh. -']}</td>\n",
              "      <td>Ngành Kỹ thuật Hóa học (Mã ngành: 7520301) Chương trình: Trong nước Đào tạo kỹ sư hóa học với triết lý ‘Job ready’, cụ thể như sau:, Có kiến thức cơ bản vững chắc về khoa học và kỹ thuật trong lĩnh vực hóa học và những lĩnh vực có liên quan (vd như sinh học, dược học, môi trường, v.v.) Có khả năng vận dụng sáng tạo các kiến thức cơ bản trong ngành để giải quyết các vấn đề đa dạng trong các lĩnh vực nghề nghiệp Có đạo đức nghề nghiệp, hiểu rõ các vấn đề về môi trường, xã hội, an ninh và kinh tế Có đầy đủ các kỹ năng mềm, kỹ năng quản lý, khả năng làm việc nhóm, khả năng lãnh đạo, khả năng giao tiếp và làm việc chuyên môn thành thạo bằng tiếng Anh. -Ngành Logistics và Quản lý chuỗi cung ứng (Mã ngành: 7510605) Chương trình: Trong nước Logistics và Quản lý chuỗi cung ứng là việc quản lý một mạng lưới kết nối của các doanh nghiệp tham gia vào việc cung cấp hàng hoá và dịch vụ đến tận tay người tiêu dùng. Nó đòi hỏi nhiều quy trình khác nhau, bao gồm lưu trữ, vận chuyển nguyên vật liệu, quá trình xử lý hàng tồn kho, sản xuất… -Ngành Toán ứng dụng (Kỹ thuật Tài chính và Quản trị rủi ro) (Mã ngành: 7460112) Chương trình: Trong nước Chương trình Kĩ thuật tài chính và Quản trị rủi ro được thiết kế nhằm trang bị cho sinh viên các kiến thức cơ bản và hiện đại về Toán học, Tin học, và Kỹ thuật tài chính, giúp các em có thể thực hiện các quy trình phân tích, dự báo, quản trị các vấn đề tài chính và các vấn đề liên quan, giải quyết được các tình huống thực tế trong lĩnh vực Kinh tế-Tài chính. -Ngành Công nghệ Thực phẩm (Mã ngành: 7540101) Chương trình: Trong nước Chương trình đào tạo ngành CNTP tại Trường Đai học Quốc tế được thiết kế nhằm đào tạo các kỹ sư CNTP, có những nét chính như sau:, Cung cấp kiến thức rộng, cân bằng về các khoa học thực phẩm và kỹ thuật thực phẩm Cung cấp kiến thức cơ bản về quản lý thực phẩm (bao gồm cả quản lý sản xuất, chất lượng, vệ sinh an toàn thực phẩm và vệ sinh môi trường) Chú trọng đến kỹ năng thực hành và khả năng tiếp cận với thiết bị công nghệ cao Giảng dạy hoàn toàn bằng tiếng Anh (kỹ sư sau khi tốt nghiệp sẽ đạt trình độ tiếng Anh TOEF pBT 550 hoặc tương đương (IELTS 6.0, TOEFL iBT 60)). -Ngành Kỹ thuật Hệ thống Công nghiệp (Mã ngành: 7520118) Chương trình: Trong nước Chương trình đại học của ngành Kỹ thuật Hệ thống công nghiệp (ISE) sẽ cung cấp cho sinh viên những kiến thức lý thuyết và kỹ năng thực tế trong việc thiết kế, vận hành, cải thiện và tối ưu các hệ thống sản xuất và dịch vụ Sau khi tốt nghiệp, sinh viên có thể:, Theo đuổi việc học lên cao hơn, có khả năng cạnh tranh thành công để giành được những học bổng uy tín để có thể theo học các chương trình cao học ở nước ngoài Trở thành kỹ sư Kỹ thuật Hệ thống công nghiệp giỏi, có thể tìm được việc làm trong các lĩnh vực sản xuất, quản lý vật tư tồn kho, chuỗi cung ứng và hậu cần, quản lý chất lượng, lập kế hoạch và điều độ, thiết kế và sắp xếp các mặt bằng trong các công ty/ cơquan: -</td>\n",
              "      <td>458</td>\n",
              "      <td>Tôi muốn học môn Đo lường và điều khiển quá trình thì chọn ngành nào?</td>\n",
              "      <td>Chọn ngành</td>\n",
              "    </tr>\n",
              "    <tr>\n",
              "      <th>6</th>\n",
              "      <td>{'answer_start': [849], 'text': ['Ngành Kỹ thuật Hệ thống Công nghiệp (Mã ngành: 7520118) Chương trình: Trong nước Chương trình đại học của ngành Kỹ thuật Hệ thống công nghiệp (ISE) sẽ cung cấp cho sinh viên những kiến thức lý thuyết và kỹ năng thực tế trong việc thiết kế, vận hành, cải thiện và tối ưu các hệ thống sản xuất và dịch vụ Sau khi tốt nghiệp, sinh viên có thể:, Theo đuổi việc học lên cao hơn, có khả năng cạnh tranh thành công để giành được những học bổng uy tín để có thể theo học các chương trình cao học ở nước ngoài Trở thành kỹ sư Kỹ thuật Hệ thống công nghiệp giỏi, có thể tìm được việc làm trong các lĩnh vực sản xuất, quản lý vật tư tồn kho, chuỗi cung ứng và hậu cần, quản lý chất lượng, lập kế hoạch và điều độ, thiết kế và sắp xếp các mặt bằng trong các công ty/ cơquan: -']}</td>\n",
              "      <td>Ngành Toán ứng dụng (Kỹ thuật Tài chính và Quản trị rủi ro) (Mã ngành: 7460112) Chương trình: Trong nước Chương trình Kĩ thuật tài chính và Quản trị rủi ro được thiết kế nhằm trang bị cho sinh viên các kiến thức cơ bản và hiện đại về Toán học, Tin học, và Kỹ thuật tài chính, giúp các em có thể thực hiện các quy trình phân tích, dự báo, quản trị các vấn đề tài chính và các vấn đề liên quan, giải quyết được các tình huống thực tế trong lĩnh vực Kinh tế-Tài chính. -Ngành Logistics và Quản lý chuỗi cung ứng (Mã ngành: 7510605) Chương trình: Trong nước Logistics và Quản lý chuỗi cung ứng là việc quản lý một mạng lưới kết nối của các doanh nghiệp tham gia vào việc cung cấp hàng hoá và dịch vụ đến tận tay người tiêu dùng. Nó đòi hỏi nhiều quy trình khác nhau, bao gồm lưu trữ, vận chuyển nguyên vật liệu, quá trình xử lý hàng tồn kho, sản xuất… -Ngành Kỹ thuật Hệ thống Công nghiệp (Mã ngành: 7520118) Chương trình: Trong nước Chương trình đại học của ngành Kỹ thuật Hệ thống công nghiệp (ISE) sẽ cung cấp cho sinh viên những kiến thức lý thuyết và kỹ năng thực tế trong việc thiết kế, vận hành, cải thiện và tối ưu các hệ thống sản xuất và dịch vụ Sau khi tốt nghiệp, sinh viên có thể:, Theo đuổi việc học lên cao hơn, có khả năng cạnh tranh thành công để giành được những học bổng uy tín để có thể theo học các chương trình cao học ở nước ngoài Trở thành kỹ sư Kỹ thuật Hệ thống công nghiệp giỏi, có thể tìm được việc làm trong các lĩnh vực sản xuất, quản lý vật tư tồn kho, chuỗi cung ứng và hậu cần, quản lý chất lượng, lập kế hoạch và điều độ, thiết kế và sắp xếp các mặt bằng trong các công ty/ cơquan: -Ngành Kỹ thuật Điện tử - Viễn thông (Mã ngành: 7520207) Chương trình: Trong nước Chương trình Kỹ thuật Điện tử – Viễn thông đã được công nhận đạt chuẩn của các tổ chức kiểm định chất lượng quốc tế như của mạng lưới các trường Đông Nam Á (AUN) và gần đây nhất là của tổ chức Kiểm định các chương trình đào tạo kỹ thuật &amp; công nghệ của Hoa Kỳ từ cuối năm 2018 Mục tiêu đào tạo:, Cung cấp kiến thức cơ sở hoàn chỉnh và các kỹ năng trong lĩnh vực Điện tử và Viễn thông Phục vụ và đáp ứng các nhu cầu công nghiệp, nghiên cứu khoa học và học sau đại học Chuẩn bị cho sinh viên tốt nghiệp có thể thích ứng với sự thay đổi nhanh trong lĩnh vực công nghệ cao như Điện tử và Viễn thông. -Ngành Kỹ thuật Môi trường (Mã ngành: 7520320) Chương trình: Trong nước Chương trình nhằm đào tạo kỹ sư Kỹ thuật Môi trường có năng lực tốt và trình độ am hiểu các vấn đề Kỹ thuật Môi trường, theo đuổi sự nghiên cứu sáng tạo, kỹ thuật hiện đại để phục vụ nhu cầu của đất nước, xã hội, công nghiệp và cộng đồng khoa học Được thiết kế theo tiêu chí của ABET Inc. (cơ quan đánh giá giáo dục kỹ thuật của Hoa Kỳ), chương trình đào tạo ngành Kỹ thuật môi trường bao gồm 4 năm (8 đến 9 học kỳ, tùy trình độ năng lực tiếng Anh đầu vào) cho 145 tín chỉ. -</td>\n",
              "      <td>425</td>\n",
              "      <td>Tôi muốn học môn Thực tập 2 thì chọn ngành nào?</td>\n",
              "      <td>Chọn ngành</td>\n",
              "    </tr>\n",
              "    <tr>\n",
              "      <th>7</th>\n",
              "      <td>{'answer_start': [1692], 'text': ['Ngành Kế toán (Mã ngành: 7340301) Chương trình: Trong nước Kế toán (tiếng Anh là Accountant) là công việc ghi chép, thu nhận, xử lý và cung cấp các thông tin về tình hình hoạt động tài chính của một tổ chức, một doanh nghiệp, một cơ quan nhà nước, một cơ sở kinh doanh tư nhân.. -']}</td>\n",
              "      <td>Ngành Kỹ thuật Y Sinh (Mã ngành: 7520212) Chương trình: Trong nước Kỹ thuật Y Sinh (KTYS) hiện đang là một lĩnh vực nổi bật thu hút sự quan tâm trên thế giới. Đây là một lĩnh vực đa ngành ứng dụng kỹ thuật tiên tiến vào việc tạo ra các phương pháp nghiên cứu và thiết bị phục vụ cho sức khỏe cũng như giúp hiểu biết sâu hơn về các tiến trình sinh học của con người. -Ngành Kỹ thuật Không gian (Mã ngành: 7520121) Chương trình: Trong nước Kỹ thuật Không gian là chương trình đào tạo kỹ sư 4 năm trong lĩnh vực ứng dụng công nghệ vệ tinh, bao gồm xử lý và phân tích tín hiệu, hình ảnh vệ tinh, công nghệ viễn thám, và định vị vệ tinh. Chương trình ra đời nhằm đáp ứng nhu cầu rất lớn về nguồn nhân lực trình độ cao trong ứng dụng công nghệ vệ tinh vào đời sống xã hội, quản lý tài nguyên, môi trường, lãnh thổ, biển đảo, và an ninh quốc phòng. -Ngành Ngôn ngữ Anh (Mã ngành: 7220201) Chương trình: Trong nước Chương trình Cử nhân Ngôn ngữ Anh của Bộ môn Anh tại trường Đại học Quốc tế được thiết kế nhằm giúp sinh viên đáp ứng nhu cầu sử dụng tiếng Anh trong môi trường học tập và làm việc toàn cầu. Theo dự kiến, sinh viên hoàn thành 135 tín chỉ của các khóa học trong bốn năm. Những chương trình Anh ngữ Tăng cường và Học thuật của chúng tôi góp phần thúc đẩy sự thành công của sinh viên IU trong môi trường học tập và nói tiếng Anh tại IU và các trường đại học trên toàn thế giới. Chúng tôi tập trung vào các lĩnh vực thường sử dụng tiếng Anh trong nhiều bối cảnh học thuật khác nhau, như đọc chuyên ngành, nghe bài giảng và ghi chú, kỹ thuật thuyết trình, viết học thuật, viết bài kỹ thuật và viết bài nghiên cứu, và chuẩn bị cho các bài kiểm tra tiêu chuẩn quốc tế như TOEFL iBT và IELTS -Ngành Kế toán (Mã ngành: 7340301) Chương trình: Trong nước Kế toán (tiếng Anh là Accountant) là công việc ghi chép, thu nhận, xử lý và cung cấp các thông tin về tình hình hoạt động tài chính của một tổ chức, một doanh nghiệp, một cơ quan nhà nước, một cơ sở kinh doanh tư nhân.. -Ngành Kỹ thuật Điều khiển và Tự động hóa (Mã ngành: 7520216) Chương trình: Trong nước Mục tiêu đào tạo: , Cung cấp toàn bộ các kiến thức cơ sở của nhóm ngành Điện – Điện tử, các kiến thức chuyên ngành về Đo Lường, Giám Sát và Điều Khiển. Các kỹ năng cần thiết của một kỹ sư để đáp ứng nhu cầu của công nghiệp, để tiếp tục chương trình cao học, nghiên cứu chuyên sâu ngành Điều Khiển Các kỹ năng tự đào tạo để thích ứng với sự thay đổi của công nghệ Định hướng đào tạo: , Lý thuyết điều khiển và ứng dụng vào các đối tượng điều khiển và các quá trình. Công nghệ đo lường, điều khiển và giám sát hệ thống. Robot (công nghiệp, tự hành) và trí thông minh nhân tạo. -</td>\n",
              "      <td>601</td>\n",
              "      <td>Tôi muốn học môn Thuế thì chọn ngành nào?</td>\n",
              "      <td>Chọn ngành</td>\n",
              "    </tr>\n",
              "    <tr>\n",
              "      <th>8</th>\n",
              "      <td>{'answer_start': [0], 'text': ['Ngành Toán ứng dụng (Kỹ thuật Tài chính và Quản trị rủi ro) (Mã ngành: 7460112) Chương trình: Trong nước Chương trình Kĩ thuật tài chính và Quản trị rủi ro được thiết kế nhằm trang bị cho sinh viên các kiến thức cơ bản và hiện đại về Toán học, Tin học, và Kỹ thuật tài chính, giúp các em có thể thực hiện các quy trình phân tích, dự báo, quản trị các vấn đề tài chính và các vấn đề liên quan, giải quyết được các tình huống thực tế trong lĩnh vực Kinh tế-Tài chính. -']}</td>\n",
              "      <td>Ngành Toán ứng dụng (Kỹ thuật Tài chính và Quản trị rủi ro) (Mã ngành: 7460112) Chương trình: Trong nước Chương trình Kĩ thuật tài chính và Quản trị rủi ro được thiết kế nhằm trang bị cho sinh viên các kiến thức cơ bản và hiện đại về Toán học, Tin học, và Kỹ thuật tài chính, giúp các em có thể thực hiện các quy trình phân tích, dự báo, quản trị các vấn đề tài chính và các vấn đề liên quan, giải quyết được các tình huống thực tế trong lĩnh vực Kinh tế-Tài chính. -Ngành Ngôn ngữ Anh (Mã ngành: 7220201) Chương trình: Trong nước Chương trình Cử nhân Ngôn ngữ Anh của Bộ môn Anh tại trường Đại học Quốc tế được thiết kế nhằm giúp sinh viên đáp ứng nhu cầu sử dụng tiếng Anh trong môi trường học tập và làm việc toàn cầu. Theo dự kiến, sinh viên hoàn thành 135 tín chỉ của các khóa học trong bốn năm. Những chương trình Anh ngữ Tăng cường và Học thuật của chúng tôi góp phần thúc đẩy sự thành công của sinh viên IU trong môi trường học tập và nói tiếng Anh tại IU và các trường đại học trên toàn thế giới. Chúng tôi tập trung vào các lĩnh vực thường sử dụng tiếng Anh trong nhiều bối cảnh học thuật khác nhau, như đọc chuyên ngành, nghe bài giảng và ghi chú, kỹ thuật thuyết trình, viết học thuật, viết bài kỹ thuật và viết bài nghiên cứu, và chuẩn bị cho các bài kiểm tra tiêu chuẩn quốc tế như TOEFL iBT và IELTS -Ngành Kỹ thuật Y Sinh (Mã ngành: 7520212) Chương trình: Trong nước Kỹ thuật Y Sinh (KTYS) hiện đang là một lĩnh vực nổi bật thu hút sự quan tâm trên thế giới. Đây là một lĩnh vực đa ngành ứng dụng kỹ thuật tiên tiến vào việc tạo ra các phương pháp nghiên cứu và thiết bị phục vụ cho sức khỏe cũng như giúp hiểu biết sâu hơn về các tiến trình sinh học của con người. -Ngành Kỹ thuật Xây dựng (Mã ngành: 7580201) Chương trình: Trong nước Kỹ thuật xây dựng là ngành chuyên về lĩnh vực tư vấn, thiết kế, tổ chức thi công, quản lí giảm sát và nghiệm thu các công trình xây dựng phục vụ đời sống con người như: nhà ở, nhà hàng – khách sạn, bệnh viện, cầu đường… -Ngành Kỹ thuật Không gian (Mã ngành: 7520121) Chương trình: Trong nước Kỹ thuật Không gian là chương trình đào tạo kỹ sư 4 năm trong lĩnh vực ứng dụng công nghệ vệ tinh, bao gồm xử lý và phân tích tín hiệu, hình ảnh vệ tinh, công nghệ viễn thám, và định vị vệ tinh. Chương trình ra đời nhằm đáp ứng nhu cầu rất lớn về nguồn nhân lực trình độ cao trong ứng dụng công nghệ vệ tinh vào đời sống xã hội, quản lý tài nguyên, môi trường, lãnh thổ, biển đảo, và an ninh quốc phòng. -</td>\n",
              "      <td>533</td>\n",
              "      <td>Tôi muốn học môn Định giá Tài sản thì chọn ngành nào?</td>\n",
              "      <td>Chọn ngành</td>\n",
              "    </tr>\n",
              "    <tr>\n",
              "      <th>9</th>\n",
              "      <td>{'answer_start': [1325], 'text': ['Ngành Công nghệ Thông tin (Mã ngành: 7480201) Chương trình: Trong nước Công nghệ Thông tin (với hai chuyên ngành: kỹ sư mạng máy tính và cử nhân khoa học máy tính) và cử nhân Khoa học Dữ liệu. Chương trình đào tạo tuân thủ theo các chuẩn mực quốc tế và đã đạt được chứng nhận kiểm định chất lượng bởi Tổ chức các trường Đại học Đông Nam Á (AUN) từ năm 2009 và tái kiểm định năm 2017. Các chương trình đào tạo đã đạt được chuẩn MOET năm 2017 và hiện đang tiếp tục thực hiện quy chuẩn kiểm định ABET của Mỹ. -']}</td>\n",
              "      <td>Ngành Kỹ thuật Không gian (Mã ngành: 7520121) Chương trình: Trong nước Kỹ thuật Không gian là chương trình đào tạo kỹ sư 4 năm trong lĩnh vực ứng dụng công nghệ vệ tinh, bao gồm xử lý và phân tích tín hiệu, hình ảnh vệ tinh, công nghệ viễn thám, và định vị vệ tinh. Chương trình ra đời nhằm đáp ứng nhu cầu rất lớn về nguồn nhân lực trình độ cao trong ứng dụng công nghệ vệ tinh vào đời sống xã hội, quản lý tài nguyên, môi trường, lãnh thổ, biển đảo, và an ninh quốc phòng. -Ngành Ngôn ngữ Anh (Mã ngành: 7220201) Chương trình: Trong nước Chương trình Cử nhân Ngôn ngữ Anh của Bộ môn Anh tại trường Đại học Quốc tế được thiết kế nhằm giúp sinh viên đáp ứng nhu cầu sử dụng tiếng Anh trong môi trường học tập và làm việc toàn cầu. Theo dự kiến, sinh viên hoàn thành 135 tín chỉ của các khóa học trong bốn năm. Những chương trình Anh ngữ Tăng cường và Học thuật của chúng tôi góp phần thúc đẩy sự thành công của sinh viên IU trong môi trường học tập và nói tiếng Anh tại IU và các trường đại học trên toàn thế giới. Chúng tôi tập trung vào các lĩnh vực thường sử dụng tiếng Anh trong nhiều bối cảnh học thuật khác nhau, như đọc chuyên ngành, nghe bài giảng và ghi chú, kỹ thuật thuyết trình, viết học thuật, viết bài kỹ thuật và viết bài nghiên cứu, và chuẩn bị cho các bài kiểm tra tiêu chuẩn quốc tế như TOEFL iBT và IELTS -Ngành Công nghệ Thông tin (Mã ngành: 7480201) Chương trình: Trong nước Công nghệ Thông tin (với hai chuyên ngành: kỹ sư mạng máy tính và cử nhân khoa học máy tính) và cử nhân Khoa học Dữ liệu. Chương trình đào tạo tuân thủ theo các chuẩn mực quốc tế và đã đạt được chứng nhận kiểm định chất lượng bởi Tổ chức các trường Đại học Đông Nam Á (AUN) từ năm 2009 và tái kiểm định năm 2017. Các chương trình đào tạo đã đạt được chuẩn MOET năm 2017 và hiện đang tiếp tục thực hiện quy chuẩn kiểm định ABET của Mỹ. -Ngành Công nghệ Thông tin (Mã ngành: 7480201) Chương trình: Trong nước Công nghệ Thông tin (với hai chuyên ngành: kỹ sư mạng máy tính và cử nhân khoa học máy tính) và cử nhân Khoa học Dữ liệu. Chương trình đào tạo tuân thủ theo các chuẩn mực quốc tế và đã đạt được chứng nhận kiểm định chất lượng bởi Tổ chức các trường Đại học Đông Nam Á (AUN) từ năm 2009 và tái kiểm định năm 2017. Các chương trình đào tạo đã đạt được chuẩn MOET năm 2017 và hiện đang tiếp tục thực hiện quy chuẩn kiểm định ABET của Mỹ. -Ngành Kỹ thuật Xây dựng (Mã ngành: 7580201) Chương trình: Trong nước Kỹ thuật xây dựng là ngành chuyên về lĩnh vực tư vấn, thiết kế, tổ chức thi công, quản lí giảm sát và nghiệm thu các công trình xây dựng phục vụ đời sống con người như: nhà ở, nhà hàng – khách sạn, bệnh viện, cầu đường… -</td>\n",
              "      <td>211</td>\n",
              "      <td>Tôi muốn học môn Nguyên lý quản trị cơ sở dữ liệu thì chọn ngành nào?</td>\n",
              "      <td>Chọn ngành</td>\n",
              "    </tr>\n",
              "  </tbody>\n",
              "</table>"
            ]
          },
          "metadata": {}
        }
      ]
    },
    {
      "cell_type": "markdown",
      "source": [
        "# Preprocess the training data"
      ],
      "metadata": {
        "id": "bNkwBHN_ZHRI"
      }
    },
    {
      "cell_type": "code",
      "source": [
        "model_checkpoint = \"xlnet-base-cased\"\n",
        "batch_size = 8"
      ],
      "metadata": {
        "id": "yN6IsfnnZVOu"
      },
      "execution_count": 17,
      "outputs": []
    },
    {
      "cell_type": "code",
      "source": [
        "from transformers import AutoTokenizer\n",
        "tokenizer = AutoTokenizer.from_pretrained('bert-base-cased')"
      ],
      "metadata": {
        "id": "vi9_9j70Y0wy",
        "colab": {
          "base_uri": "https://localhost:8080/",
          "height": 145,
          "referenced_widgets": [
            "e1c9447ee68a40dfb2cdbd70bed8f1bb",
            "048233ab8e494be8b0f6555db5846564",
            "30041cbc40614ba6981f6cbbc0415e33",
            "76206d9d1bfc4aaa88857858755d369f",
            "dd178df861c44d9c8b900b5ccbaf705e",
            "868dcbc4581944579da4215fddda3200",
            "6040bde2c0b944a29bdf09ae8ea454a2",
            "7e6ffbaa15e649a4ab539d7c98a43664",
            "1bdcf751febf4842b78a14235b5ddffb",
            "eac9c96480604292899757648997f89d",
            "19e168fc844748b6a3c7b230a5afd832",
            "8dd2ac92ec6e4f299fab4c320197936a",
            "d769cc27c6f644a6b6aa60e898514048",
            "39afb675c0b74e64b3f42c68adb4a515",
            "f07746b2b1dd4e6898ac94f190f9e40a",
            "edd9fd7c18d443d4af8a7ebf2c3048c7",
            "675ed452281d499b9b2759e335fb937f",
            "5d41cef522ad43b4b2969e50b90973ba",
            "5c5c5a439f73493cb7ab7e7259db8c12",
            "244343a34bed43339275a567d5ff70a9",
            "fbeeed1bef444ab4a8dc0102309bc1c9",
            "260c3c12b1924811bbda75ccad6a3e57",
            "9e0bbf6c8c56408ca0e130ee8699fd5f",
            "30b41bb96f004f1091500e7a65fed966",
            "d11b617ac56a4727996ac2697739fc93",
            "52ca35325a48405aa17e5f1fe41f35cb",
            "586fe9ec824f446e8d04160981093a03",
            "ec9ad02bfe094468b32e6101a1ddd7ad",
            "d9987f1a3c05440b997e141665432852",
            "e36fc62ccac044e59e79a27305cf99b6",
            "c46a965f3bb847c297ac9742eb2000a4",
            "bb3336ff47284eac8a00b848f3c3e517",
            "103dac4c18d14a4789c5e51cf7f86807",
            "186411fe33b54adaa8a12aa393430ec7",
            "1df45c6c6f2946018fe81de1ec500dc8",
            "22c06d3803c644cd878bbbb143717166",
            "438c2c9e0e5e40ab8d4d640d2e6f355e",
            "4e11d92535424cc1b59e0fdad1859bd8",
            "708624cc965c45558a715a4415f04941",
            "ee8a4c1a5d534aae80e3499cd4318901",
            "6123612eba1f42c7acb332428a0fcd58",
            "f50963f31491401b9bbef9693125616c",
            "e3591945e3eb4eaaa8086816d3b7f8cb",
            "4ec4bd9f2cca43baba45bc174842f061"
          ]
        },
        "outputId": "34c04a5f-b6a1-4491-b8dd-e8e2d0f9dff7"
      },
      "execution_count": 18,
      "outputs": [
        {
          "output_type": "display_data",
          "data": {
            "text/plain": [
              "Downloading:   0%|          | 0.00/29.0 [00:00<?, ?B/s]"
            ],
            "application/vnd.jupyter.widget-view+json": {
              "version_major": 2,
              "version_minor": 0,
              "model_id": "e1c9447ee68a40dfb2cdbd70bed8f1bb"
            }
          },
          "metadata": {}
        },
        {
          "output_type": "display_data",
          "data": {
            "text/plain": [
              "Downloading:   0%|          | 0.00/570 [00:00<?, ?B/s]"
            ],
            "application/vnd.jupyter.widget-view+json": {
              "version_major": 2,
              "version_minor": 0,
              "model_id": "8dd2ac92ec6e4f299fab4c320197936a"
            }
          },
          "metadata": {}
        },
        {
          "output_type": "display_data",
          "data": {
            "text/plain": [
              "Downloading:   0%|          | 0.00/208k [00:00<?, ?B/s]"
            ],
            "application/vnd.jupyter.widget-view+json": {
              "version_major": 2,
              "version_minor": 0,
              "model_id": "9e0bbf6c8c56408ca0e130ee8699fd5f"
            }
          },
          "metadata": {}
        },
        {
          "output_type": "display_data",
          "data": {
            "text/plain": [
              "Downloading:   0%|          | 0.00/426k [00:00<?, ?B/s]"
            ],
            "application/vnd.jupyter.widget-view+json": {
              "version_major": 2,
              "version_minor": 0,
              "model_id": "186411fe33b54adaa8a12aa393430ec7"
            }
          },
          "metadata": {}
        }
      ]
    },
    {
      "cell_type": "code",
      "source": [
        "# import transformers\n",
        "# assert isinstance(tokenizer, transformers.XLNetTokenizerFast)"
      ],
      "metadata": {
        "id": "AmW2Kg0cZcHi"
      },
      "execution_count": 20,
      "outputs": []
    },
    {
      "cell_type": "code",
      "source": [
        "tokenizer(\"Phòng Bảo đảm Chất lượng Giáo dục và Khảo thí:\", \" Tư vấn, tham mưu cho Ban Giám hiệu về chiến lược, các kế hoạch cải tiến hoạt động bảo đảm chất lượng\")"
      ],
      "metadata": {
        "colab": {
          "base_uri": "https://localhost:8080/"
        },
        "id": "G7ctvSosZfmr",
        "outputId": "4acc1104-68cf-49d1-c1a8-60dcbca68aa8"
      },
      "execution_count": 21,
      "outputs": [
        {
          "output_type": "execute_result",
          "data": {
            "text/plain": [
              "{'input_ids': [101, 7642, 20142, 2118, 139, 28641, 1186, 288, 28641, 1306, 20394, 28642, 1204, 181, 28265, 28660, 2118, 144, 1182, 5589, 1186, 173, 28661, 1665, 191, 9183, 148, 1324, 28641, 1186, 24438, 6212, 131, 102, 157, 28265, 191, 28642, 1179, 117, 24438, 2312, 182, 28265, 1358, 22572, 1186, 18393, 144, 1182, 5589, 1306, 20844, 28651, 1358, 191, 28648, 22572, 1182, 28647, 1179, 181, 28265, 28660, 1665, 117, 172, 5589, 1665, 180, 28647, 16358, 28640, 1732, 172, 28641, 1182, 189, 1182, 28647, 1179, 16358, 28640, 1204, 288, 28657, 2118, 171, 28641, 1186, 288, 28641, 1306, 22572, 28642, 1204, 181, 28265, 28660, 2118, 102], 'token_type_ids': [0, 0, 0, 0, 0, 0, 0, 0, 0, 0, 0, 0, 0, 0, 0, 0, 0, 0, 0, 0, 0, 0, 0, 0, 0, 0, 0, 0, 0, 0, 0, 0, 0, 0, 1, 1, 1, 1, 1, 1, 1, 1, 1, 1, 1, 1, 1, 1, 1, 1, 1, 1, 1, 1, 1, 1, 1, 1, 1, 1, 1, 1, 1, 1, 1, 1, 1, 1, 1, 1, 1, 1, 1, 1, 1, 1, 1, 1, 1, 1, 1, 1, 1, 1, 1, 1, 1, 1, 1, 1, 1, 1, 1, 1, 1, 1, 1, 1, 1, 1, 1], 'attention_mask': [1, 1, 1, 1, 1, 1, 1, 1, 1, 1, 1, 1, 1, 1, 1, 1, 1, 1, 1, 1, 1, 1, 1, 1, 1, 1, 1, 1, 1, 1, 1, 1, 1, 1, 1, 1, 1, 1, 1, 1, 1, 1, 1, 1, 1, 1, 1, 1, 1, 1, 1, 1, 1, 1, 1, 1, 1, 1, 1, 1, 1, 1, 1, 1, 1, 1, 1, 1, 1, 1, 1, 1, 1, 1, 1, 1, 1, 1, 1, 1, 1, 1, 1, 1, 1, 1, 1, 1, 1, 1, 1, 1, 1, 1, 1, 1, 1, 1, 1, 1, 1]}"
            ]
          },
          "metadata": {},
          "execution_count": 21
        }
      ]
    },
    {
      "cell_type": "code",
      "source": [
        "max_length = 512 # The maximum length of a feature (question and context)\n",
        "doc_stride = 128 # The authorized overlap between two part of the context when splitting it is needed."
      ],
      "metadata": {
        "id": "bCXX2DSFZpwr"
      },
      "execution_count": 22,
      "outputs": []
    },
    {
      "cell_type": "markdown",
      "source": [
        "Let's find one long example in our dataset:"
      ],
      "metadata": {
        "id": "uR2JaE7VZ_M_"
      }
    },
    {
      "cell_type": "code",
      "source": [
        "for i, example in enumerate(dataset[\"train\"]):\n",
        "    if len(tokenizer(example[\"question\"], example[\"context\"])[\"input_ids\"]) > 512:\n",
        "        break\n",
        "example = dataset[\"train\"][i]"
      ],
      "metadata": {
        "id": "RFVMEfHHZsXN"
      },
      "execution_count": 24,
      "outputs": []
    },
    {
      "cell_type": "markdown",
      "source": [
        "Without any truncation, we get the following length for the input IDs:"
      ],
      "metadata": {
        "id": "5hcUHr5saCdf"
      }
    },
    {
      "cell_type": "code",
      "source": [
        "len(tokenizer(example[\"question\"], example[\"context\"])[\"input_ids\"])"
      ],
      "metadata": {
        "colab": {
          "base_uri": "https://localhost:8080/"
        },
        "id": "s7xjshN1Zun9",
        "outputId": "6aa05276-7473-437b-9abf-1ab8b41fbf9f"
      },
      "execution_count": 25,
      "outputs": [
        {
          "output_type": "execute_result",
          "data": {
            "text/plain": [
              "1910"
            ]
          },
          "metadata": {},
          "execution_count": 25
        }
      ]
    },
    {
      "cell_type": "markdown",
      "source": [
        "Now, if we just truncate, we will lose information (and possibly the answer to our question):"
      ],
      "metadata": {
        "id": "PyMJTUBiaGlw"
      }
    },
    {
      "cell_type": "code",
      "source": [
        "len(tokenizer(example[\"question\"], example[\"context\"], max_length=max_length, truncation=\"only_second\")[\"input_ids\"])"
      ],
      "metadata": {
        "colab": {
          "base_uri": "https://localhost:8080/"
        },
        "id": "tjF670G_aHWj",
        "outputId": "9ba5eff0-a14a-4201-a7af-5fc54cd801de"
      },
      "execution_count": 26,
      "outputs": [
        {
          "output_type": "execute_result",
          "data": {
            "text/plain": [
              "512"
            ]
          },
          "metadata": {},
          "execution_count": 26
        }
      ]
    },
    {
      "cell_type": "markdown",
      "source": [
        "Note that we never want to truncate the question, only the context, else the only_second truncation picked. Now, our tokenizer can automatically return us a list of features capped by a certain maximum length, with the overlap we talked above, we just have to tell it with return_overflowing_tokens=True and by passing the stride:"
      ],
      "metadata": {
        "id": "Ry5fRzhEaY4F"
      }
    },
    {
      "cell_type": "code",
      "source": [
        "tokenized_example = tokenizer(\n",
        "    example[\"question\"],\n",
        "    example[\"context\"],\n",
        "    max_length=max_length,\n",
        "    truncation=\"only_second\",\n",
        "    return_overflowing_tokens=True,\n",
        "    stride=doc_stride\n",
        ")"
      ],
      "metadata": {
        "id": "NH-yPYHdZ_lc"
      },
      "execution_count": 27,
      "outputs": []
    },
    {
      "cell_type": "markdown",
      "source": [
        "Now we don't have one list of input_ids, but several:"
      ],
      "metadata": {
        "id": "ci-oiY4taeAw"
      }
    },
    {
      "cell_type": "code",
      "source": [
        "for x in tokenized_example[\"input_ids\"][:2]:\n",
        "    print(tokenizer.decode(x))"
      ],
      "metadata": {
        "colab": {
          "base_uri": "https://localhost:8080/"
        },
        "id": "HK2C3FuCZ8jI",
        "outputId": "391430d6-1d85-4e15-c23e-52e11dda3f0f"
      },
      "execution_count": 28,
      "outputs": [
        {
          "output_type": "stream",
          "name": "stdout",
          "text": [
            "[CLS] Tôi muốn học môn Kỹ thuật hệ thống thì chọn ngành nào? [SEP] Ngành Công nghệ Thông tin ( Mã ngành : 7480201 ) Chương trình : Trong nước Công nghệ Thông tin ( với hai chuyên ngành : kỹ sư mạng máy tính và cử nhân khoa học máy tính ) và cử nhân Khoa học Dữ liệu. Chương trình đào tạo tuân thủ theo các chuẩn mực quốc tế và đã đạt được chứng nhận kiểm định chất lượng [UNK] Tổ chức các trường Đại học Đông Nam Á ( AUN ) từ năm 2009 và tái kiểm định năm 2017. Các chương trình đào tạo đã đạt được chuẩn MOET năm 2017 và hiện đang tiếp tục thực hiện quy chuẩn kiểm định ABET của Mỹ. - Ngành Kế toán ( Mã ngành : 7340301 ) Chương trình : Trong nước Kế toán ( tiếng Anh là Accountant ) là công việc ghi chép, thu nhận, xử lý và cung cấp các thông tin về tình hình hoạt động tài chính của một tổ chức, một doanh nghiệp, một cơ quan nhà nước, một c [SEP]\n",
            "[CLS] Tôi muốn học môn Kỹ thuật hệ thống thì chọn ngành nào? [SEP]nh : Trong nước Kế toán ( tiếng Anh là Accountant ) là công việc ghi chép, thu nhận, xử lý và cung cấp các thông tin về tình hình hoạt động tài chính của một tổ chức, một doanh nghiệp, một cơ quan nhà nước, một cơ [UNK] kinh doanh tư nhân.. - Ngành Kỹ thuật Hóa học ( Mã ngành : 7520301 ) Chương trình : Trong nước Đào tạo kỹ sư hóa học với triết lý ‘ Job ready ’, cụ thể như sau :, Có kiến thức cơ bản vững chắc về khoa học và kỹ thuật trong lĩnh vực hóa học và những lĩnh vực có liên quan ( vd như sinh học, dược học, môi trường, v. v. ) Có khả năng vận dụng sáng tạo các kiến thức cơ bản trong ngành để giải quyết các vấn đề đa dạng trong các lĩnh vực nghề nghiệp Có đạo đức nghề nghiệp, hiểu rõ các vấn đề về môi trường, xã hội, an ninh và kinh tế Có đầy đủ [SEP]\n"
          ]
        }
      ]
    },
    {
      "cell_type": "markdown",
      "source": [
        "Now this will give us some work to properly treat the answers: we need to find in which of those features the answer actually is, and where exactly in that feature. The models we will use require the start and end positions of these answers in the tokens, so we will also need to to map parts of the original context to some tokens. Thankfully, the tokenizer we're using can help us with that by returning an offset_mapping:"
      ],
      "metadata": {
        "id": "0ysQ4wY5alh3"
      }
    },
    {
      "cell_type": "code",
      "source": [
        "tokenized_example = tokenizer(\n",
        "    example[\"question\"],\n",
        "    example[\"context\"],\n",
        "    max_length=max_length,\n",
        "    truncation=\"only_second\",\n",
        "    return_overflowing_tokens=True,\n",
        "    return_offsets_mapping=True,\n",
        "    stride=doc_stride\n",
        ")\n",
        "print(tokenized_example[\"offset_mapping\"][0][:100])"
      ],
      "metadata": {
        "colab": {
          "base_uri": "https://localhost:8080/"
        },
        "id": "VTh0hmcSaZJf",
        "outputId": "9628b221-db80-4144-f7ea-2d00bc5df5db"
      },
      "execution_count": 29,
      "outputs": [
        {
          "output_type": "stream",
          "name": "stdout",
          "text": [
            "[(0, 0), (0, 1), (1, 2), (2, 3), (4, 5), (5, 6), (6, 7), (7, 8), (9, 10), (10, 11), (11, 12), (13, 14), (14, 15), (15, 16), (17, 18), (18, 19), (20, 22), (22, 23), (23, 24), (24, 25), (26, 27), (27, 28), (29, 31), (31, 32), (32, 34), (35, 37), (37, 38), (39, 41), (41, 42), (42, 43), (44, 46), (46, 47), (47, 49), (50, 51), (51, 52), (52, 53), (53, 54), (0, 0), (0, 2), (2, 3), (3, 5), (6, 7), (7, 8), (8, 10), (11, 13), (13, 14), (14, 15), (16, 17), (17, 18), (18, 19), (19, 21), (22, 25), (26, 27), (27, 28), (28, 29), (30, 32), (32, 33), (33, 35), (35, 36), (37, 39), (39, 41), (41, 43), (43, 44), (44, 45), (46, 48), (48, 49), (49, 50), (50, 52), (53, 54), (54, 55), (55, 56), (56, 58), (58, 59), (60, 61), (61, 65), (66, 67), (67, 68), (68, 69), (69, 70), (71, 72), (72, 73), (73, 75), (76, 78), (78, 79), (79, 80), (81, 82), (82, 83), (83, 84), (84, 86), (87, 90), (91, 92), (92, 93), (93, 94), (94, 95), (96, 98), (98, 99), (100, 102), (102, 104), (104, 105), (105, 106)]\n"
          ]
        }
      ]
    },
    {
      "cell_type": "markdown",
      "source": [
        "This gives, for each index of our input IDS, the corresponding start and end character in the original text that gave our token. The very first token ([CLS]) has (0, 0) because it doesn't correspond to any part of the question/answer, then the second token is the same as the characters 0 to 3 of the question:"
      ],
      "metadata": {
        "id": "rnzTDzYLaqPw"
      }
    },
    {
      "cell_type": "code",
      "source": [
        "first_token_id = tokenized_example[\"input_ids\"][0][1]\n",
        "offsets = tokenized_example[\"offset_mapping\"][0][1]\n",
        "print(tokenizer.convert_ids_to_tokens([first_token_id])[0], example[\"question\"][offsets[0]:offsets[1]])"
      ],
      "metadata": {
        "colab": {
          "base_uri": "https://localhost:8080/"
        },
        "id": "q5a9uDOVanxg",
        "outputId": "b8f0711d-20fd-4f76-9f7d-751c9b9d1acf"
      },
      "execution_count": 30,
      "outputs": [
        {
          "output_type": "stream",
          "name": "stdout",
          "text": [
            "T T\n"
          ]
        }
      ]
    },
    {
      "cell_type": "markdown",
      "source": [
        "So we can use this mapping to find the position of the start and end tokens of our answer in a given feature. We just have to distinguish which parts of the offsets correspond to the question and which part correspond to the context, this is where the sequence_ids method of our tokenized_example can be useful:"
      ],
      "metadata": {
        "id": "tLT44JyWavdr"
      }
    },
    {
      "cell_type": "code",
      "source": [
        "sequence_ids = tokenized_example.sequence_ids()\n",
        "print(sequence_ids)"
      ],
      "metadata": {
        "colab": {
          "base_uri": "https://localhost:8080/"
        },
        "id": "nwOHjiW1ar4A",
        "outputId": "62de1054-1586-4005-9a51-a13875aef08d"
      },
      "execution_count": 31,
      "outputs": [
        {
          "output_type": "stream",
          "name": "stdout",
          "text": [
            "[None, 0, 0, 0, 0, 0, 0, 0, 0, 0, 0, 0, 0, 0, 0, 0, 0, 0, 0, 0, 0, 0, 0, 0, 0, 0, 0, 0, 0, 0, 0, 0, 0, 0, 0, 0, 0, None, 1, 1, 1, 1, 1, 1, 1, 1, 1, 1, 1, 1, 1, 1, 1, 1, 1, 1, 1, 1, 1, 1, 1, 1, 1, 1, 1, 1, 1, 1, 1, 1, 1, 1, 1, 1, 1, 1, 1, 1, 1, 1, 1, 1, 1, 1, 1, 1, 1, 1, 1, 1, 1, 1, 1, 1, 1, 1, 1, 1, 1, 1, 1, 1, 1, 1, 1, 1, 1, 1, 1, 1, 1, 1, 1, 1, 1, 1, 1, 1, 1, 1, 1, 1, 1, 1, 1, 1, 1, 1, 1, 1, 1, 1, 1, 1, 1, 1, 1, 1, 1, 1, 1, 1, 1, 1, 1, 1, 1, 1, 1, 1, 1, 1, 1, 1, 1, 1, 1, 1, 1, 1, 1, 1, 1, 1, 1, 1, 1, 1, 1, 1, 1, 1, 1, 1, 1, 1, 1, 1, 1, 1, 1, 1, 1, 1, 1, 1, 1, 1, 1, 1, 1, 1, 1, 1, 1, 1, 1, 1, 1, 1, 1, 1, 1, 1, 1, 1, 1, 1, 1, 1, 1, 1, 1, 1, 1, 1, 1, 1, 1, 1, 1, 1, 1, 1, 1, 1, 1, 1, 1, 1, 1, 1, 1, 1, 1, 1, 1, 1, 1, 1, 1, 1, 1, 1, 1, 1, 1, 1, 1, 1, 1, 1, 1, 1, 1, 1, 1, 1, 1, 1, 1, 1, 1, 1, 1, 1, 1, 1, 1, 1, 1, 1, 1, 1, 1, 1, 1, 1, 1, 1, 1, 1, 1, 1, 1, 1, 1, 1, 1, 1, 1, 1, 1, 1, 1, 1, 1, 1, 1, 1, 1, 1, 1, 1, 1, 1, 1, 1, 1, 1, 1, 1, 1, 1, 1, 1, 1, 1, 1, 1, 1, 1, 1, 1, 1, 1, 1, 1, 1, 1, 1, 1, 1, 1, 1, 1, 1, 1, 1, 1, 1, 1, 1, 1, 1, 1, 1, 1, 1, 1, 1, 1, 1, 1, 1, 1, 1, 1, 1, 1, 1, 1, 1, 1, 1, 1, 1, 1, 1, 1, 1, 1, 1, 1, 1, 1, 1, 1, 1, 1, 1, 1, 1, 1, 1, 1, 1, 1, 1, 1, 1, 1, 1, 1, 1, 1, 1, 1, 1, 1, 1, 1, 1, 1, 1, 1, 1, 1, 1, 1, 1, 1, 1, 1, 1, 1, 1, 1, 1, 1, 1, 1, 1, 1, 1, 1, 1, 1, 1, 1, 1, 1, 1, 1, 1, 1, 1, 1, 1, 1, 1, 1, 1, 1, 1, 1, 1, 1, 1, 1, 1, 1, 1, 1, 1, 1, 1, 1, 1, 1, 1, 1, 1, 1, 1, 1, 1, 1, 1, 1, 1, 1, 1, 1, 1, 1, 1, 1, 1, 1, 1, 1, 1, 1, 1, 1, 1, 1, 1, 1, 1, 1, 1, 1, 1, 1, 1, 1, 1, 1, 1, 1, 1, 1, 1, 1, 1, 1, 1, 1, 1, None]\n"
          ]
        }
      ]
    },
    {
      "cell_type": "markdown",
      "source": [
        "It returns None for the special tokens, then 0 or 1 depending on whether the corresponding token comes from the first sentence past (the question) or the second (the context). Now with all of this, we can find the first and last token of the answer in one of our input feature (or if the answer is not in this feature):"
      ],
      "metadata": {
        "id": "V9VAqrVGa3_s"
      }
    },
    {
      "cell_type": "code",
      "source": [
        "answers = example[\"answers\"]\n",
        "start_char = answers[\"answer_start\"][0]\n",
        "end_char = start_char + len(answers[\"text\"][0])\n",
        "\n",
        "# Start token index of the current span in the text.\n",
        "token_start_index = 0\n",
        "while sequence_ids[token_start_index] != 1:\n",
        "    token_start_index += 1\n",
        "\n",
        "# End token index of the current span in the text.\n",
        "token_end_index = len(tokenized_example[\"input_ids\"][0]) - 1\n",
        "while sequence_ids[token_end_index] != 1:\n",
        "    token_end_index -= 1\n",
        "\n",
        "# Detect if the answer is out of the span (in which case this feature is labeled with the CLS index).\n",
        "offsets = tokenized_example[\"offset_mapping\"][0]\n",
        "if (offsets[token_start_index][0] <= start_char and offsets[token_end_index][1] >= end_char):\n",
        "    # Move the token_start_index and token_end_index to the two ends of the answer.\n",
        "    # Note: we could go after the last offset if the answer is the last word (edge case).\n",
        "    while token_start_index < len(offsets) and offsets[token_start_index][0] <= start_char:\n",
        "        token_start_index += 1\n",
        "    start_position = token_start_index - 1\n",
        "    while offsets[token_end_index][1] >= end_char:\n",
        "        token_end_index -= 1\n",
        "    end_position = token_end_index + 1\n",
        "    print(start_position, end_position)\n",
        "else:\n",
        "    print(\"The answer is not in this feature.\")"
      ],
      "metadata": {
        "colab": {
          "base_uri": "https://localhost:8080/"
        },
        "id": "KKvakmeVa19E",
        "outputId": "878a29d5-b4e0-4342-c477-09159c12b2be"
      },
      "execution_count": 32,
      "outputs": [
        {
          "output_type": "stream",
          "name": "stdout",
          "text": [
            "The answer is not in this feature.\n"
          ]
        }
      ]
    },
    {
      "cell_type": "markdown",
      "source": [
        "And we can double check that it is indeed the theoretical answer:"
      ],
      "metadata": {
        "id": "J6FcAtsUa8P6"
      }
    },
    {
      "cell_type": "code",
      "source": [
        "# print(tokenizer.decode(tokenized_example[\"input_ids\"][0][start_position: end_position+1]))\n",
        "# print(answers[\"text\"][0])"
      ],
      "metadata": {
        "id": "4xPkxsuTa5kV"
      },
      "execution_count": 33,
      "outputs": []
    },
    {
      "cell_type": "code",
      "source": [
        "pad_on_right = tokenizer.padding_side == \"right\""
      ],
      "metadata": {
        "id": "CElVOIu1a_ut"
      },
      "execution_count": 34,
      "outputs": []
    },
    {
      "cell_type": "markdown",
      "source": [
        "Now let's put everything together in one function we will apply to our training set. In the case of impossible answers (the answer is in another feature given by an example with a long context), we set the cls index for both the start and end position. We could also simply discard those examples from the training set if the flag allow_impossible_answers is False. Since the preprocessing is already complex enough as it is, we've kept is simple for this part."
      ],
      "metadata": {
        "id": "f6FoNfF8bFJF"
      }
    },
    {
      "cell_type": "code",
      "source": [
        "def prepare_train_features(examples):\n",
        "    # Some of the questions have lots of whitespace on the left, which is not useful and will make the\n",
        "    # truncation of the context fail (the tokenized question will take a lots of space). So we remove that\n",
        "    # left whitespace\n",
        "    examples[\"question\"] = [q.lstrip() for q in examples[\"question\"]]\n",
        "\n",
        "    # Tokenize our examples with truncation and padding, but keep the overflows using a stride. This results\n",
        "    # in one example possible giving several features when a context is long, each of those features having a\n",
        "    # context that overlaps a bit the context of the previous feature.\n",
        "    tokenized_examples = tokenizer(\n",
        "        examples[\"question\" if pad_on_right else \"context\"],\n",
        "        examples[\"context\" if pad_on_right else \"question\"],\n",
        "        truncation=\"only_second\" if pad_on_right else \"only_first\",\n",
        "        max_length=max_length,\n",
        "        stride=doc_stride,\n",
        "        return_overflowing_tokens=True,\n",
        "        return_offsets_mapping=True,\n",
        "        padding=\"max_length\",\n",
        "    )\n",
        "\n",
        "    # Since one example might give us several features if it has a long context, we need a map from a feature to\n",
        "    # its corresponding example. This key gives us just that.\n",
        "    sample_mapping = tokenized_examples.pop(\"overflow_to_sample_mapping\")\n",
        "    # The offset mappings will give us a map from token to character position in the original context. This will\n",
        "    # help us compute the start_positions and end_positions.\n",
        "    offset_mapping = tokenized_examples.pop(\"offset_mapping\")\n",
        "\n",
        "    # Let's label those examples!\n",
        "    tokenized_examples[\"start_positions\"] = []\n",
        "    tokenized_examples[\"end_positions\"] = []\n",
        "\n",
        "    for i, offsets in enumerate(offset_mapping):\n",
        "        # We will label impossible answers with the index of the CLS token.\n",
        "        input_ids = tokenized_examples[\"input_ids\"][i]\n",
        "        cls_index = input_ids.index(tokenizer.cls_token_id)\n",
        "\n",
        "        # Grab the sequence corresponding to that example (to know what is the context and what is the question).\n",
        "        sequence_ids = tokenized_examples.sequence_ids(i)\n",
        "\n",
        "        # One example can give several spans, this is the index of the example containing this span of text.\n",
        "        sample_index = sample_mapping[i]\n",
        "        answers = examples[\"answers\"][sample_index]\n",
        "        # If no answers are given, set the cls_index as answer.\n",
        "        if len(answers[\"answer_start\"]) == 0:\n",
        "            tokenized_examples[\"start_positions\"].append(cls_index)\n",
        "            tokenized_examples[\"end_positions\"].append(cls_index)\n",
        "        else:\n",
        "            # Start/end character index of the answer in the text.\n",
        "            start_char = answers[\"answer_start\"][0]\n",
        "            end_char = start_char + len(answers[\"text\"][0])\n",
        "\n",
        "            # Start token index of the current span in the text.\n",
        "            token_start_index = 0\n",
        "            while sequence_ids[token_start_index] != (1 if pad_on_right else 0):\n",
        "                token_start_index += 1\n",
        "\n",
        "            # End token index of the current span in the text.\n",
        "            token_end_index = len(input_ids) - 1\n",
        "            while sequence_ids[token_end_index] != (1 if pad_on_right else 0):\n",
        "                token_end_index -= 1\n",
        "\n",
        "            # Detect if the answer is out of the span (in which case this feature is labeled with the CLS index).\n",
        "            if not (offsets[token_start_index][0] <= start_char and offsets[token_end_index][1] >= end_char):\n",
        "                tokenized_examples[\"start_positions\"].append(cls_index)\n",
        "                tokenized_examples[\"end_positions\"].append(cls_index)\n",
        "            else:\n",
        "                # Otherwise move the token_start_index and token_end_index to the two ends of the answer.\n",
        "                # Note: we could go after the last offset if the answer is the last word (edge case).\n",
        "                while token_start_index < len(offsets) and offsets[token_start_index][0] <= start_char:\n",
        "                    token_start_index += 1\n",
        "                tokenized_examples[\"start_positions\"].append(token_start_index - 1)\n",
        "                while offsets[token_end_index][1] >= end_char:\n",
        "                    token_end_index -= 1\n",
        "                tokenized_examples[\"end_positions\"].append(token_end_index + 1)\n",
        "\n",
        "    return tokenized_examples"
      ],
      "metadata": {
        "id": "KXX97ogRbFbt"
      },
      "execution_count": 35,
      "outputs": []
    },
    {
      "cell_type": "markdown",
      "metadata": {
        "id": "0lm8ozrJIrJR"
      },
      "source": [
        "This function works with one or several examples. In the case of several examples, the tokenizer will return a list of lists for each key:"
      ]
    },
    {
      "cell_type": "code",
      "source": [
        "features = prepare_train_features(dataset['train'][:5])"
      ],
      "metadata": {
        "id": "YPJjo3nSbGlb"
      },
      "execution_count": 36,
      "outputs": []
    },
    {
      "cell_type": "markdown",
      "source": [
        "To apply this function on all the sentences (or pairs of sentences) in our dataset, we just use the map method of our dataset object we created earlier. This will apply the function on all the elements of all the splits in dataset, so our training, validation and testing data will be preprocessed in one single command. Since our preprocessing changes the number of samples, we need to remove the old columns when applying it."
      ],
      "metadata": {
        "id": "d1wUvM1rbXMD"
      }
    },
    {
      "cell_type": "code",
      "source": [
        "tokenized_datasets = dataset.map(prepare_train_features, batched=True, remove_columns=dataset[\"train\"].column_names)"
      ],
      "metadata": {
        "colab": {
          "base_uri": "https://localhost:8080/",
          "height": 81,
          "referenced_widgets": [
            "82bcd8751e4844888d23aebc46e3fb6b",
            "e265793e4abd4023975bf515a9c5fa4c",
            "06c59155178148229562076e45e94ccb",
            "c94209038bce448e93703d8bde5806ef",
            "d18040d450e54787a2359e8fdff6bcb6",
            "fe26a537bcda48409ce0c9cb7de81b79",
            "2231f9b6b3a64a9cb294551ab59bf16f",
            "eb69256ae1a64654a6fbe793bcbd0aad",
            "33ef19c257734ccfab33b39056c5ee85",
            "f11ec953585a48cf8771e9fba3a3fb88",
            "f7437ac8dc294605a131c01e11ad1c59",
            "7ce0a91d345d48e79990036d1d2ac6d9",
            "aa6a5aa76a4c48a4a514d819d016050a",
            "a4814b8ce19b4ec4877e7d94021b996a",
            "1f57d06397d944ab89240d517db57e0a",
            "064bb5e54d9a4167ace00c38f55b7b84",
            "80601a000a394260b422617c2c65a863",
            "d8dd93b03c594c9f93643f8fc6a0e24e",
            "2fc67b656656401fb70c254dcdac3b41",
            "93923fa1b29749ea8cbab7fb9c8ebc62",
            "903ae9540b1649c0b642892858fdaffa",
            "4322ad4d5fd24c44bf3cbc3625c6ba02"
          ]
        },
        "id": "chmPofNUbUgr",
        "outputId": "bdd81b06-d165-4a18-cc90-416a9caa248f"
      },
      "execution_count": 38,
      "outputs": [
        {
          "output_type": "display_data",
          "data": {
            "text/plain": [
              "  0%|          | 0/1 [00:00<?, ?ba/s]"
            ],
            "application/vnd.jupyter.widget-view+json": {
              "version_major": 2,
              "version_minor": 0,
              "model_id": "82bcd8751e4844888d23aebc46e3fb6b"
            }
          },
          "metadata": {}
        },
        {
          "output_type": "display_data",
          "data": {
            "text/plain": [
              "  0%|          | 0/1 [00:00<?, ?ba/s]"
            ],
            "application/vnd.jupyter.widget-view+json": {
              "version_major": 2,
              "version_minor": 0,
              "model_id": "7ce0a91d345d48e79990036d1d2ac6d9"
            }
          },
          "metadata": {}
        }
      ]
    },
    {
      "cell_type": "code",
      "source": [
        "tokenized_datasets"
      ],
      "metadata": {
        "colab": {
          "base_uri": "https://localhost:8080/"
        },
        "id": "9O14cpWX25ch",
        "outputId": "15ec97bf-f286-4fae-94b2-c9e9e48d2b72"
      },
      "execution_count": 39,
      "outputs": [
        {
          "output_type": "execute_result",
          "data": {
            "text/plain": [
              "DatasetDict({\n",
              "    train: Dataset({\n",
              "        features: ['input_ids', 'token_type_ids', 'attention_mask', 'start_positions', 'end_positions'],\n",
              "        num_rows: 2849\n",
              "    })\n",
              "    test: Dataset({\n",
              "        features: ['input_ids', 'token_type_ids', 'attention_mask', 'start_positions', 'end_positions'],\n",
              "        num_rows: 306\n",
              "    })\n",
              "})"
            ]
          },
          "metadata": {},
          "execution_count": 39
        }
      ]
    },
    {
      "cell_type": "markdown",
      "source": [
        "# Fine-tune the model"
      ],
      "metadata": {
        "id": "J3gOAtoDbh50"
      }
    },
    {
      "cell_type": "code",
      "source": [
        "from transformers import AutoModelForQuestionAnswering, TrainingArguments, Trainer\n",
        "\n",
        "model = AutoModelForQuestionAnswering.from_pretrained(model_checkpoint)"
      ],
      "metadata": {
        "colab": {
          "base_uri": "https://localhost:8080/",
          "height": 188,
          "referenced_widgets": [
            "9fafedbf01534732974720c254cedcb5",
            "45dc2a3520dc48cfa09661a30136fe88",
            "340ebc0041d842f29748253e90241c12",
            "c3797a81da234cffb46e5bf5fbff2ec6",
            "480834a6685542649be9e6ef7cce43c0",
            "1f302de3b5cd42178d2970e672ebff58",
            "a964c1d1b7ef4a27b5dc11d6e7b63e6a",
            "fe2c9126cea248caa491b307ca204799",
            "7f4149c482474b72971091b29827b233",
            "3dfae15bea67416ca423fe86eed0ee21",
            "c7bd9e8fb1944c3085f5bbcc8cffaaec",
            "e767336e90c543fc8aa432d35151dd81",
            "5d5a1a81a66149fc9bd3d523c3642cbd",
            "f2ec5a4d90a34bf881c1173dfd755c19",
            "5ab3b7097fbc4a91991956ca59c8abb6",
            "ff921fed7bfd454a9c6c5314c15a3487",
            "86d18cac28184feca3e78dc7852bb83d",
            "6700207b8cf04b1a863d3b60278408e1",
            "f22d2aa10075497690e5f7897963a7d2",
            "a4966ec26b834daf83e2736b20aa9fc1",
            "9229bbb9f89a40bab2804151f1284146",
            "efcd5b378a5a4400bb30e09d23aa0166"
          ]
        },
        "id": "u1K_E8ptbZLb",
        "outputId": "e72d8d3d-fc84-469c-afb7-2a1099d51632"
      },
      "execution_count": 40,
      "outputs": [
        {
          "output_type": "display_data",
          "data": {
            "text/plain": [
              "Downloading:   0%|          | 0.00/760 [00:00<?, ?B/s]"
            ],
            "application/vnd.jupyter.widget-view+json": {
              "version_major": 2,
              "version_minor": 0,
              "model_id": "9fafedbf01534732974720c254cedcb5"
            }
          },
          "metadata": {}
        },
        {
          "output_type": "display_data",
          "data": {
            "text/plain": [
              "Downloading:   0%|          | 0.00/445M [00:00<?, ?B/s]"
            ],
            "application/vnd.jupyter.widget-view+json": {
              "version_major": 2,
              "version_minor": 0,
              "model_id": "e767336e90c543fc8aa432d35151dd81"
            }
          },
          "metadata": {}
        },
        {
          "output_type": "stream",
          "name": "stderr",
          "text": [
            "Some weights of the model checkpoint at xlnet-base-cased were not used when initializing XLNetForQuestionAnsweringSimple: ['lm_loss.bias', 'lm_loss.weight']\n",
            "- This IS expected if you are initializing XLNetForQuestionAnsweringSimple from the checkpoint of a model trained on another task or with another architecture (e.g. initializing a BertForSequenceClassification model from a BertForPreTraining model).\n",
            "- This IS NOT expected if you are initializing XLNetForQuestionAnsweringSimple from the checkpoint of a model that you expect to be exactly identical (initializing a BertForSequenceClassification model from a BertForSequenceClassification model).\n",
            "Some weights of XLNetForQuestionAnsweringSimple were not initialized from the model checkpoint at xlnet-base-cased and are newly initialized: ['qa_outputs.bias', 'qa_outputs.weight']\n",
            "You should probably TRAIN this model on a down-stream task to be able to use it for predictions and inference.\n"
          ]
        }
      ]
    },
    {
      "cell_type": "code",
      "source": [
        "model_name = model_checkpoint.split(\"/\")[-1]\n",
        "args = TrainingArguments(\n",
        "    f\"{model_name}-iuChatbot-ontologyDts-xlnetBaseCased-bertTokenizer-12April2022\",\n",
        "    evaluation_strategy = \"epoch\",\n",
        "    learning_rate=2e-5,\n",
        "    per_device_train_batch_size=batch_size,\n",
        "    per_device_eval_batch_size=batch_size,\n",
        "    num_train_epochs=3,\n",
        "    weight_decay=0.01,\n",
        "    push_to_hub=True,\n",
        "    push_to_hub_model_id=f\"{model_name}-IUChatbot-ontologyDts-xlnetBaseCased-bertTokenizer-12April2022\",\n",
        ")"
      ],
      "metadata": {
        "colab": {
          "base_uri": "https://localhost:8080/"
        },
        "id": "D76rAHHWbl2w",
        "outputId": "38142a95-0d5c-4fad-a451-758ffc64297f"
      },
      "execution_count": 41,
      "outputs": [
        {
          "output_type": "stream",
          "name": "stderr",
          "text": [
            "/usr/local/lib/python3.7/dist-packages/transformers/training_args.py:966: FutureWarning: `--push_to_hub_model_id` is deprecated and will be removed in version 5 of 🤗 Transformers. Use `--hub_model_id` instead and pass the full repo name to this argument (in this case nntadotzip/xlnet-base-cased-IUChatbot-ontologyDts-xlnetBaseCased-bertTokenizer-12April2022).\n",
            "  FutureWarning,\n"
          ]
        }
      ]
    },
    {
      "cell_type": "code",
      "source": [
        "from transformers import default_data_collator\n",
        "\n",
        "data_collator = default_data_collator"
      ],
      "metadata": {
        "id": "dsR3qBMxbrw1"
      },
      "execution_count": 42,
      "outputs": []
    },
    {
      "cell_type": "code",
      "source": [
        "# !curl -s https://packagecloud.io/install/repositories/github/git-lfs/script.deb.sh | sudo bash"
      ],
      "metadata": {
        "id": "miWPrxf_bzVY"
      },
      "execution_count": 43,
      "outputs": []
    },
    {
      "cell_type": "code",
      "source": [
        "# !sudo apt-get install git-lfs"
      ],
      "metadata": {
        "id": "37qG2SvKchgy"
      },
      "execution_count": 44,
      "outputs": []
    },
    {
      "cell_type": "code",
      "source": [
        "trainer = Trainer(\n",
        "    model,\n",
        "    args,\n",
        "    train_dataset=tokenized_datasets[\"train\"],\n",
        "    eval_dataset=tokenized_datasets[\"test\"],\n",
        "    data_collator=data_collator,\n",
        "    tokenizer=tokenizer,\n",
        ")"
      ],
      "metadata": {
        "colab": {
          "base_uri": "https://localhost:8080/"
        },
        "id": "-MbgN6-0bsT1",
        "outputId": "5edf7786-b8f8-47a5-c7e3-9884ef83d572"
      },
      "execution_count": 45,
      "outputs": [
        {
          "output_type": "stream",
          "name": "stderr",
          "text": [
            "Cloning https://huggingface.co/nntadotzip/xlnet-base-cased-IUChatbot-ontologyDts-xlnetBaseCased-bertTokenizer-12April2022 into local empty directory.\n"
          ]
        }
      ]
    },
    {
      "cell_type": "code",
      "source": [
        "trainer.train()"
      ],
      "metadata": {
        "colab": {
          "base_uri": "https://localhost:8080/",
          "height": 814
        },
        "id": "85xwCTIubuol",
        "outputId": "42d176ba-5b0f-4191-9b43-80ad34094fd6"
      },
      "execution_count": 46,
      "outputs": [
        {
          "output_type": "stream",
          "name": "stderr",
          "text": [
            "/usr/local/lib/python3.7/dist-packages/transformers/optimization.py:309: FutureWarning: This implementation of AdamW is deprecated and will be removed in a future version. Use the PyTorch implementation torch.optim.AdamW instead, or set `no_deprecation_warning=True` to disable this warning\n",
            "  FutureWarning,\n",
            "***** Running training *****\n",
            "  Num examples = 2849\n",
            "  Num Epochs = 3\n",
            "  Instantaneous batch size per device = 8\n",
            "  Total train batch size (w. parallel, distributed & accumulation) = 8\n",
            "  Gradient Accumulation steps = 1\n",
            "  Total optimization steps = 1071\n"
          ]
        },
        {
          "output_type": "display_data",
          "data": {
            "text/plain": [
              "<IPython.core.display.HTML object>"
            ],
            "text/html": [
              "\n",
              "    <div>\n",
              "      \n",
              "      <progress value='1071' max='1071' style='width:300px; height:20px; vertical-align: middle;'></progress>\n",
              "      [1071/1071 57:00, Epoch 3/3]\n",
              "    </div>\n",
              "    <table border=\"1\" class=\"dataframe\">\n",
              "  <thead>\n",
              " <tr style=\"text-align: left;\">\n",
              "      <th>Epoch</th>\n",
              "      <th>Training Loss</th>\n",
              "      <th>Validation Loss</th>\n",
              "    </tr>\n",
              "  </thead>\n",
              "  <tbody>\n",
              "    <tr>\n",
              "      <td>1</td>\n",
              "      <td>No log</td>\n",
              "      <td>0.645125</td>\n",
              "    </tr>\n",
              "    <tr>\n",
              "      <td>2</td>\n",
              "      <td>0.841600</td>\n",
              "      <td>0.442829</td>\n",
              "    </tr>\n",
              "    <tr>\n",
              "      <td>3</td>\n",
              "      <td>0.522700</td>\n",
              "      <td>0.423975</td>\n",
              "    </tr>\n",
              "  </tbody>\n",
              "</table><p>"
            ]
          },
          "metadata": {}
        },
        {
          "output_type": "stream",
          "name": "stderr",
          "text": [
            "***** Running Evaluation *****\n",
            "  Num examples = 306\n",
            "  Batch size = 8\n",
            "Saving model checkpoint to xlnet-base-cased-iuChatbot-ontologyDts-xlnetBaseCased-bertTokenizer-12April2022/checkpoint-500\n",
            "Configuration saved in xlnet-base-cased-iuChatbot-ontologyDts-xlnetBaseCased-bertTokenizer-12April2022/checkpoint-500/config.json\n",
            "Model weights saved in xlnet-base-cased-iuChatbot-ontologyDts-xlnetBaseCased-bertTokenizer-12April2022/checkpoint-500/pytorch_model.bin\n",
            "tokenizer config file saved in xlnet-base-cased-iuChatbot-ontologyDts-xlnetBaseCased-bertTokenizer-12April2022/checkpoint-500/tokenizer_config.json\n",
            "Special tokens file saved in xlnet-base-cased-iuChatbot-ontologyDts-xlnetBaseCased-bertTokenizer-12April2022/checkpoint-500/special_tokens_map.json\n",
            "tokenizer config file saved in xlnet-base-cased-iuChatbot-ontologyDts-xlnetBaseCased-bertTokenizer-12April2022/tokenizer_config.json\n",
            "Special tokens file saved in xlnet-base-cased-iuChatbot-ontologyDts-xlnetBaseCased-bertTokenizer-12April2022/special_tokens_map.json\n",
            "***** Running Evaluation *****\n",
            "  Num examples = 306\n",
            "  Batch size = 8\n",
            "Saving model checkpoint to xlnet-base-cased-iuChatbot-ontologyDts-xlnetBaseCased-bertTokenizer-12April2022/checkpoint-1000\n",
            "Configuration saved in xlnet-base-cased-iuChatbot-ontologyDts-xlnetBaseCased-bertTokenizer-12April2022/checkpoint-1000/config.json\n",
            "Model weights saved in xlnet-base-cased-iuChatbot-ontologyDts-xlnetBaseCased-bertTokenizer-12April2022/checkpoint-1000/pytorch_model.bin\n",
            "tokenizer config file saved in xlnet-base-cased-iuChatbot-ontologyDts-xlnetBaseCased-bertTokenizer-12April2022/checkpoint-1000/tokenizer_config.json\n",
            "Special tokens file saved in xlnet-base-cased-iuChatbot-ontologyDts-xlnetBaseCased-bertTokenizer-12April2022/checkpoint-1000/special_tokens_map.json\n",
            "***** Running Evaluation *****\n",
            "  Num examples = 306\n",
            "  Batch size = 8\n",
            "\n",
            "\n",
            "Training completed. Do not forget to share your model on huggingface.co/models =)\n",
            "\n",
            "\n"
          ]
        },
        {
          "output_type": "execute_result",
          "data": {
            "text/plain": [
              "TrainOutput(global_step=1071, training_loss=0.6686687914708527, metrics={'train_runtime': 3423.7597, 'train_samples_per_second': 2.496, 'train_steps_per_second': 0.313, 'total_flos': 2419364938991616.0, 'train_loss': 0.6686687914708527, 'epoch': 3.0})"
            ]
          },
          "metadata": {},
          "execution_count": 46
        }
      ]
    },
    {
      "cell_type": "code",
      "source": [
        "trainer.save_model(\"iuchatbot-trained\")"
      ],
      "metadata": {
        "colab": {
          "base_uri": "https://localhost:8080/",
          "height": 428,
          "referenced_widgets": [
            "877824172fbf4119abc8d2962529405a",
            "d4fe239be06642bfbf3266f1987d7519",
            "7735675d9d0741fea2523c00d9ffecd3",
            "a8fbbabdaf34451984cb84042c4961bc",
            "57e467d5e90a4462bdc563672759153d",
            "0880ec6397694e7a93493042c07e315c",
            "92a828704160465b926d1f139e6a64dc",
            "4415f13c7f924c7caf3ac59192fd9fb4",
            "4a08daf6c14f47bb8d0034212f634f9a",
            "233092bb1b0a4ca6b308512e691870f7",
            "fefe5bd37223499d971558420a2cb49b",
            "58b14191694c4df8834ee6b7bf4175d0",
            "9d072bfb1a614c70816eb7dc1788a2e2",
            "2144c4871ff74c54b48b50b112a1dc0a",
            "123a5ac4742749e2985abed21358e848",
            "7e0e0ab9db924811b52e0d7c0dcf333d",
            "718c00be24204c2484cc3a622c433796",
            "d54c0b5d1c404d499f38e03bcd17f1f9",
            "9d02e14430c04e799a3cc422b44f657a",
            "638ab475cd6e49deb564abcc7a213769",
            "05b0e8ac63584980938d11ece1c68e60",
            "55751036722b484195a9312a8a4a4b95"
          ]
        },
        "id": "um1v8P5gjI2O",
        "outputId": "03b2914d-f9a1-4f6b-a9aa-70045b2aea64"
      },
      "execution_count": 47,
      "outputs": [
        {
          "output_type": "stream",
          "name": "stderr",
          "text": [
            "Saving model checkpoint to iuchatbot-trained\n",
            "Configuration saved in iuchatbot-trained/config.json\n",
            "Model weights saved in iuchatbot-trained/pytorch_model.bin\n",
            "tokenizer config file saved in iuchatbot-trained/tokenizer_config.json\n",
            "Special tokens file saved in iuchatbot-trained/special_tokens_map.json\n",
            "Saving model checkpoint to xlnet-base-cased-iuChatbot-ontologyDts-xlnetBaseCased-bertTokenizer-12April2022\n",
            "Configuration saved in xlnet-base-cased-iuChatbot-ontologyDts-xlnetBaseCased-bertTokenizer-12April2022/config.json\n",
            "Model weights saved in xlnet-base-cased-iuChatbot-ontologyDts-xlnetBaseCased-bertTokenizer-12April2022/pytorch_model.bin\n",
            "tokenizer config file saved in xlnet-base-cased-iuChatbot-ontologyDts-xlnetBaseCased-bertTokenizer-12April2022/tokenizer_config.json\n",
            "Special tokens file saved in xlnet-base-cased-iuChatbot-ontologyDts-xlnetBaseCased-bertTokenizer-12April2022/special_tokens_map.json\n",
            "Several commits (2) will be pushed upstream.\n",
            "The progress bars may be unreliable.\n"
          ]
        },
        {
          "output_type": "display_data",
          "data": {
            "text/plain": [
              "Upload file pytorch_model.bin:   0%|          | 3.34k/445M [00:00<?, ?B/s]"
            ],
            "application/vnd.jupyter.widget-view+json": {
              "version_major": 2,
              "version_minor": 0,
              "model_id": "877824172fbf4119abc8d2962529405a"
            }
          },
          "metadata": {}
        },
        {
          "output_type": "display_data",
          "data": {
            "text/plain": [
              "Upload file runs/Apr14_16-11-26_ab31e9cf965e/events.out.tfevents.1649952695.ab31e9cf965e.71.0:  63%|######3   …"
            ],
            "application/vnd.jupyter.widget-view+json": {
              "version_major": 2,
              "version_minor": 0,
              "model_id": "58b14191694c4df8834ee6b7bf4175d0"
            }
          },
          "metadata": {}
        },
        {
          "output_type": "stream",
          "name": "stderr",
          "text": [
            "To https://huggingface.co/nntadotzip/xlnet-base-cased-IUChatbot-ontologyDts-xlnetBaseCased-bertTokenizer-12April2022\n",
            "   73d7201..7df0c0f  main -> main\n",
            "\n",
            "Dropping the following result as it does not have all the necessary fields:\n",
            "{'task': {'name': 'Question Answering', 'type': 'question-answering'}}\n",
            "To https://huggingface.co/nntadotzip/xlnet-base-cased-IUChatbot-ontologyDts-xlnetBaseCased-bertTokenizer-12April2022\n",
            "   7df0c0f..3878f66  main -> main\n",
            "\n"
          ]
        }
      ]
    },
    {
      "cell_type": "markdown",
      "source": [
        "# Evaluation"
      ],
      "metadata": {
        "id": "0rHylkKUMvgc"
      }
    },
    {
      "cell_type": "code",
      "source": [
        "import torch\n",
        "\n",
        "for batch in trainer.get_eval_dataloader():\n",
        "    break\n",
        "batch = {k: v.to(trainer.args.device) for k, v in batch.items()}\n",
        "with torch.no_grad():\n",
        "    output = trainer.model(**batch)\n",
        "output.keys()"
      ],
      "metadata": {
        "colab": {
          "base_uri": "https://localhost:8080/"
        },
        "id": "EpPDJkGskzRC",
        "outputId": "ba575a67-4d98-4208-dd4a-9f4fab048a3a"
      },
      "execution_count": 48,
      "outputs": [
        {
          "output_type": "execute_result",
          "data": {
            "text/plain": [
              "odict_keys(['loss', 'start_logits', 'end_logits', 'mems'])"
            ]
          },
          "metadata": {},
          "execution_count": 48
        }
      ]
    },
    {
      "cell_type": "code",
      "source": [
        "output.start_logits.shape, output.end_logits.shape"
      ],
      "metadata": {
        "colab": {
          "base_uri": "https://localhost:8080/"
        },
        "id": "P-BC0FACNTGg",
        "outputId": "dc7bdfb5-9b3a-4142-8c32-0d382af9a450"
      },
      "execution_count": 49,
      "outputs": [
        {
          "output_type": "execute_result",
          "data": {
            "text/plain": [
              "(torch.Size([8, 512]), torch.Size([8, 512]))"
            ]
          },
          "metadata": {},
          "execution_count": 49
        }
      ]
    },
    {
      "cell_type": "code",
      "source": [
        "output.start_logits.argmax(dim=-1), output.end_logits.argmax(dim=-1)"
      ],
      "metadata": {
        "colab": {
          "base_uri": "https://localhost:8080/"
        },
        "id": "BG-88zMuNVfX",
        "outputId": "8a98a747-b9d5-452a-fa6c-73d907fddb49"
      },
      "execution_count": 50,
      "outputs": [
        {
          "output_type": "execute_result",
          "data": {
            "text/plain": [
              "(tensor([0, 0, 0, 0, 0, 0, 0, 0], device='cuda:0'),\n",
              " tensor([0, 0, 0, 0, 0, 0, 0, 0], device='cuda:0'))"
            ]
          },
          "metadata": {},
          "execution_count": 50
        }
      ]
    },
    {
      "cell_type": "code",
      "source": [
        "n_best_size = 20"
      ],
      "metadata": {
        "id": "1GABMlbwNYt3"
      },
      "execution_count": 51,
      "outputs": []
    },
    {
      "cell_type": "code",
      "source": [
        "import numpy as np\n",
        "\n",
        "start_logits = output.start_logits[0].cpu().numpy()\n",
        "end_logits = output.end_logits[0].cpu().numpy()\n",
        "# Gather the indices the best start/end logits:\n",
        "start_indexes = np.argsort(start_logits)[-1 : -n_best_size - 1 : -1].tolist()\n",
        "end_indexes = np.argsort(end_logits)[-1 : -n_best_size - 1 : -1].tolist()\n",
        "valid_answers = []\n",
        "for start_index in start_indexes:\n",
        "    for end_index in end_indexes:\n",
        "        if start_index <= end_index: # We need to refine that test to check the answer is inside the context\n",
        "            valid_answers.append(\n",
        "                {\n",
        "                    \"score\": start_logits[start_index] + end_logits[end_index],\n",
        "                    \"text\": \"\" # We need to find a way to get back the original substring corresponding to the answer in the context\n",
        "                }\n",
        "            )"
      ],
      "metadata": {
        "id": "_Sb350ZyNc8x"
      },
      "execution_count": 52,
      "outputs": []
    },
    {
      "cell_type": "code",
      "source": [
        "def prepare_validation_features(examples):\n",
        "    # Some of the questions have lots of whitespace on the left, which is not useful and will make the\n",
        "    # truncation of the context fail (the tokenized question will take a lots of space). So we remove that\n",
        "    # left whitespace\n",
        "    examples[\"question\"] = [q.lstrip() for q in examples[\"question\"]]\n",
        "\n",
        "    # Tokenize our examples with truncation and maybe padding, but keep the overflows using a stride. This results\n",
        "    # in one example possible giving several features when a context is long, each of those features having a\n",
        "    # context that overlaps a bit the context of the previous feature.\n",
        "    tokenized_examples = tokenizer(\n",
        "        examples[\"question\" if pad_on_right else \"context\"],\n",
        "        examples[\"context\" if pad_on_right else \"question\"],\n",
        "        truncation=\"only_second\" if pad_on_right else \"only_first\",\n",
        "        max_length=max_length,\n",
        "        stride=doc_stride,\n",
        "        return_overflowing_tokens=True,\n",
        "        return_offsets_mapping=True,\n",
        "        padding=\"max_length\",\n",
        "    )\n",
        "\n",
        "    # Since one example might give us several features if it has a long context, we need a map from a feature to\n",
        "    # its corresponding example. This key gives us just that.\n",
        "    sample_mapping = tokenized_examples.pop(\"overflow_to_sample_mapping\")\n",
        "\n",
        "    # We keep the example_id that gave us this feature and we will store the offset mappings.\n",
        "    tokenized_examples[\"example_id\"] = []\n",
        "\n",
        "    for i in range(len(tokenized_examples[\"input_ids\"])):\n",
        "        # Grab the sequence corresponding to that example (to know what is the context and what is the question).\n",
        "        sequence_ids = tokenized_examples.sequence_ids(i)\n",
        "        context_index = 1 if pad_on_right else 0\n",
        "\n",
        "        # One example can give several spans, this is the index of the example containing this span of text.\n",
        "        sample_index = sample_mapping[i]\n",
        "        tokenized_examples[\"example_id\"].append(examples[\"id\"][sample_index])\n",
        "\n",
        "        # Set to None the offset_mapping that are not part of the context so it's easy to determine if a token\n",
        "        # position is part of the context or not.\n",
        "        tokenized_examples[\"offset_mapping\"][i] = [\n",
        "            (o if sequence_ids[k] == context_index else None)\n",
        "            for k, o in enumerate(tokenized_examples[\"offset_mapping\"][i])\n",
        "        ]\n",
        "\n",
        "    return tokenized_examples"
      ],
      "metadata": {
        "id": "T0DAKkB6NfNa"
      },
      "execution_count": 53,
      "outputs": []
    },
    {
      "cell_type": "code",
      "source": [
        "validation_features = dataset[\"test\"].map(\n",
        "    prepare_validation_features,\n",
        "    batched=True,\n",
        "    remove_columns=dataset[\"test\"].column_names\n",
        ")"
      ],
      "metadata": {
        "colab": {
          "base_uri": "https://localhost:8080/",
          "height": 49,
          "referenced_widgets": [
            "9e66efd4814d4c94a0fea84096eec8d3",
            "34fb8f47e39b4dcc88571ffd43fa08aa",
            "1bc0a8bbe7824762845cad7e8f537319",
            "d76c19a9f30d448598f8b137c021bfdb",
            "396a8de71e714d3a972a4e8cafc5fc0a",
            "9e9daacb9422451b82946e8b94d908f2",
            "0ed08c4d304143a4bc66020706a3ded5",
            "a9941c71d01c42418cd83a017d4eafce",
            "885f2a9eef8045dfbf93abe62f9560b6",
            "ed606f057e0d417d9e4940430fd7c500",
            "18bd96e70cb14bea8acf8535bfb66cc3"
          ]
        },
        "id": "I6Mx4dQvNkFJ",
        "outputId": "33e70056-ad26-4f24-9eb7-0afaf72f1b97"
      },
      "execution_count": 54,
      "outputs": [
        {
          "output_type": "display_data",
          "data": {
            "text/plain": [
              "  0%|          | 0/1 [00:00<?, ?ba/s]"
            ],
            "application/vnd.jupyter.widget-view+json": {
              "version_major": 2,
              "version_minor": 0,
              "model_id": "9e66efd4814d4c94a0fea84096eec8d3"
            }
          },
          "metadata": {}
        }
      ]
    },
    {
      "cell_type": "code",
      "source": [
        "raw_predictions = trainer.predict(validation_features)"
      ],
      "metadata": {
        "colab": {
          "base_uri": "https://localhost:8080/",
          "height": 126
        },
        "id": "BdupZhwsNmK2",
        "outputId": "258397ae-3f49-4bbe-fc25-128a06ffc76a"
      },
      "execution_count": 55,
      "outputs": [
        {
          "output_type": "stream",
          "name": "stderr",
          "text": [
            "The following columns in the test set  don't have a corresponding argument in `XLNetForQuestionAnsweringSimple.forward` and have been ignored: offset_mapping, example_id. If offset_mapping, example_id are not expected by `XLNetForQuestionAnsweringSimple.forward`,  you can safely ignore this message.\n",
            "***** Running Prediction *****\n",
            "  Num examples = 306\n",
            "  Batch size = 8\n"
          ]
        },
        {
          "output_type": "display_data",
          "data": {
            "text/plain": [
              "<IPython.core.display.HTML object>"
            ],
            "text/html": [
              "\n",
              "    <div>\n",
              "      \n",
              "      <progress value='39' max='39' style='width:300px; height:20px; vertical-align: middle;'></progress>\n",
              "      [39/39 00:52]\n",
              "    </div>\n",
              "    "
            ]
          },
          "metadata": {}
        }
      ]
    },
    {
      "cell_type": "code",
      "source": [
        "validation_features.set_format(type=validation_features.format[\"type\"], columns=list(validation_features.features.keys()))"
      ],
      "metadata": {
        "id": "OY3sFCOlNv2a"
      },
      "execution_count": 56,
      "outputs": []
    },
    {
      "cell_type": "code",
      "source": [
        "max_answer_length = 512"
      ],
      "metadata": {
        "id": "2e_T_0wIN4AI"
      },
      "execution_count": 57,
      "outputs": []
    },
    {
      "cell_type": "code",
      "source": [
        "start_logits = output.start_logits[0].cpu().numpy()\n",
        "end_logits = output.end_logits[0].cpu().numpy()\n",
        "offset_mapping = validation_features[0][\"offset_mapping\"]\n",
        "# The first feature comes from the first example. For the more general case, we will need to be match the example_id to\n",
        "# an example index\n",
        "context = dataset[\"test\"][0][\"context\"]\n",
        "\n",
        "# Gather the indices the best start/end logits:\n",
        "start_indexes = np.argsort(start_logits)[-1 : -n_best_size - 1 : -1].tolist()\n",
        "end_indexes = np.argsort(end_logits)[-1 : -n_best_size - 1 : -1].tolist()\n",
        "valid_answers = []\n",
        "for start_index in start_indexes:\n",
        "    for end_index in end_indexes:\n",
        "        # Don't consider out-of-scope answers, either because the indices are out of bounds or correspond\n",
        "        # to part of the input_ids that are not in the context.\n",
        "        if (\n",
        "            start_index >= len(offset_mapping)\n",
        "            or end_index >= len(offset_mapping)\n",
        "            or offset_mapping[start_index] is None\n",
        "            or offset_mapping[end_index] is None\n",
        "        ):\n",
        "            continue\n",
        "        # Don't consider answers with a length that is either < 0 or > max_answer_length.\n",
        "        if end_index < start_index or end_index - start_index + 1 > max_answer_length:\n",
        "            continue\n",
        "        if start_index <= end_index: # We need to refine that test to check the answer is inside the context\n",
        "            start_char = offset_mapping[start_index][0]\n",
        "            end_char = offset_mapping[end_index][1]\n",
        "            valid_answers.append(\n",
        "                {\n",
        "                    \"score\": start_logits[start_index] + end_logits[end_index],\n",
        "                    \"text\": context[start_char: end_char]\n",
        "                }\n",
        "            )\n",
        "\n",
        "valid_answers = sorted(valid_answers, key=lambda x: x[\"score\"], reverse=True)[:n_best_size]\n",
        "valid_answers"
      ],
      "metadata": {
        "colab": {
          "base_uri": "https://localhost:8080/"
        },
        "id": "vG2tcXiLN6uk",
        "outputId": "03fa909f-abf5-4d87-f9ae-c9c43f9ddbee"
      },
      "execution_count": 58,
      "outputs": [
        {
          "output_type": "execute_result",
          "data": {
            "text/plain": [
              "[{'score': 11.634724,\n",
              "  'text': 'Ngành Công nghệ Thông tin (Mã ngành: 7480201) Chương trình: Trong nước Công nghệ Thông tin (với hai chuyên ngành: kỹ sư mạng máy tính và cử nhân khoa học máy tính) và cử nhân Khoa học Dữ liệu. Chương trình đào tạo tuân thủ theo các chuẩn mực quốc tế và đã đạt được chứng nhận kiểm định chất lượng bởi Tổ chức các trường Đại học Đông Nam Á (AUN) từ năm 2009 và tái kiểm định năm 2017. Các chương trình đào tạo đã đạt được chuẩn MOET năm 2017 và hiện đang tiếp tục thực hiện quy chuẩn kiểm định ABET của Mỹ. -'},\n",
              " {'score': 7.1981273, 'text': 'Ng'},\n",
              " {'score': 6.6377807, 'text': '-'},\n",
              " {'score': 6.3602204,\n",
              "  'text': 'Ngành Công nghệ Thông tin (Mã ngành: 7480201) Chương trình: Trong nước Công nghệ Thông tin (với hai chuyên ngành: kỹ sư mạng máy tính và cử nhân khoa học máy tính) và cử nhân Khoa học Dữ liệu. Chương trình đào tạo tuân thủ theo các chuẩn mực quốc tế và đã đạt được chứng nhận kiểm định chất lượng bởi Tổ chức các trường Đại học Đông Nam Á (AUN) từ năm 2009 và tái kiểm định năm 2017. Các chương trình đào tạo đã đạt được chuẩn MOET năm 2017 và hiện đang tiếp tục thực hiện quy chuẩn kiểm định ABET của Mỹ. -Ng'},\n",
              " {'score': 5.4685054,\n",
              "  'text': 'Ngành Công nghệ Thông tin (Mã ngành: 7480201) Chương trình: Trong nước Công nghệ Thông tin (với hai chuyên ngành: kỹ sư mạng máy tính và cử nhân khoa học máy tính) và cử nhân Khoa học Dữ liệu. Chương trình đào tạo tuân thủ theo các chuẩn mực quốc tế và đã đạt được chứng nhận kiểm định chất lượng bởi Tổ chức các trường Đại học Đông Nam Á (AUN) từ năm 2009 và tái kiểm định năm 2017. Các chương trình đào tạo đã đạt được chuẩn MOET năm 2017 và hiện đang tiếp tục thực hiện quy chuẩn kiểm định ABET của Mỹ. -Ngành Kỹ thuật Xây dựng (Mã ngành: 7580201) Chương trình: Trong nước Kỹ thuật xây dựng là ngành chuyên về lĩnh vực tư vấn, thiết kế, tổ chức thi công, quản lí giảm sát và nghiệm thu các công trình xây dựng phục vụ đời sống con người như: nhà ở'},\n",
              " {'score': 5.2482023,\n",
              "  'text': 'Ngành Công nghệ Thông tin (Mã ngành: 7480201) Chương trình: Trong nước Công nghệ Thông tin (với hai chuyên ngành: kỹ sư mạng máy tính và cử nhân khoa học máy tính) và cử nhân Khoa học Dữ liệu. Chương trình đào tạo tuân thủ theo các chuẩn mực quốc tế và đã đạt được chứng nhận kiểm định chất lượng bởi Tổ chức các trường Đại học Đông Nam Á (AUN) từ năm 2009 và tái kiểm định năm 2017. Các chương trình đào tạo đã đạt được chuẩn MOET năm 2017 và hiện đang tiếp tục thực hiện quy chuẩn kiểm định ABET của Mỹ.'},\n",
              " {'score': 4.2388406, 'text': 'Ng'},\n",
              " {'score': 3.6976073, 'text': 'Ngà'},\n",
              " {'score': 3.532929,\n",
              "  'text': 'ành Công nghệ Thông tin (Mã ngành: 7480201) Chương trình: Trong nước Công nghệ Thông tin (với hai chuyên ngành: kỹ sư mạng máy tính và cử nhân khoa học máy tính) và cử nhân Khoa học Dữ liệu. Chương trình đào tạo tuân thủ theo các chuẩn mực quốc tế và đã đạt được chứng nhận kiểm định chất lượng bởi Tổ chức các trường Đại học Đông Nam Á (AUN) từ năm 2009 và tái kiểm định năm 2017. Các chương trình đào tạo đã đạt được chuẩn MOET năm 2017 và hiện đang tiếp tục thực hiện quy chuẩn kiểm định ABET của Mỹ. -'},\n",
              " {'score': 3.5134113,\n",
              "  'text': 'Ngành Công nghệ Thông tin (Mã ngành: 7480201) Chương trình: Trong nước Công nghệ Thông tin (với hai chuyên ngành: kỹ sư mạng máy tính và cử nhân khoa học máy tính) và cử nhân Khoa học Dữ liệu. Chương trình đào tạo tuân thủ theo các chuẩn mực quốc tế và đã đạt được chứng nhận kiểm định chất lượng bởi Tổ chức các trường Đại học Đông Nam Á (AUN) từ năm 2009 và tái kiểm định năm 2017. Các chương trình đào tạo đã đạt được chuẩn MOET năm 2017 và hiện đang tiếp tục thực hiện quy chuẩn kiểm định ABET của Mỹ. -Ngà'},\n",
              " {'score': 3.3471255,\n",
              "  'text': 'Ngành Kỹ thuật Xây dựng (Mã ngành: 7580201) Chương trình: Trong nước Kỹ thuật xây dựng là ngành chuyên về lĩnh vực tư vấn, thiết kế, tổ chức thi công, quản lí giảm sát và nghiệm thu các công trình xây dựng phục vụ đời sống con người như: nhà ở'},\n",
              " {'score': 2.9303408, 'text': 'Ngành'},\n",
              " {'score': 2.8231735,\n",
              "  'text': 'Ngành Công nghệ Thông tin (Mã ngành: 7480201) Chương trình: Trong nước Công nghệ Thông tin (với hai chuyên ngành: kỹ sư mạng máy tính và cử nhân khoa học máy t'},\n",
              " {'score': 2.6820579,\n",
              "  'text': 'Ngành Công nghệ Thông tin (Mã ngành: 7480201) Chương trình: Trong nước Công nghệ Thông tin (với hai chuyên ngành: kỹ sư mạng máy tính và cử nhân khoa học máy tính) và cử nhân Khoa học Dữ liệu. Chương trình đào tạo tuân thủ theo các chuẩn mực quốc tế và đã đạt được chứng nhận kiểm định chất lượng bởi Tổ chức các trường Đại học Đông Nam Á (AUN) từ năm 2009 và tái kiểm định năm 2017. Các chương trình đào tạo đã đạt được chuẩn MOET năm 2017 và hiện đang tiếp tục thực hiện quy chuẩn kiểm định ABET của Mỹ'},\n",
              " {'score': 2.6208506,\n",
              "  'text': 'Ngành Công nghệ Thông tin (Mã ngành: 7480201) Chương trình: Trong nước Công nghệ Thông tin (với hai chuyên ngành: kỹ sư mạng máy tính và cử nhân khoa học máy tính) và cử nhân Khoa học Dữ liệu. Chương trình đào tạo tuân thủ theo các chuẩn mực quốc t'},\n",
              " {'score': 2.5612636,\n",
              "  'text': 'Ngành Công nghệ Thông tin (Mã ngành: 7480201) Chương trình: Trong nước Công nghệ Thông tin (với hai chuyên ngành: kỹ sư mạng máy t'},\n",
              " {'score': 2.522709,\n",
              "  'text': 'Ngành Công nghệ Thông tin (Mã ngành: 7480201) Chương trình: Trong nước Công nghệ Thông tin (với hai chuyên ngành: kỹ sư mạng máy tính và cử nhân khoa học máy tính) và cử nhân Khoa học Dữ liệu. Chương trình đào tạo tuân thủ theo các chuẩn mực quốc tế và đã đạt được chứng nhận kiểm định chất lượng bởi Tổ chức các trường Đại học Đông Nam Á (AUN) từ năm 2009 và tái kiểm định năm 2017. Các chương trình đào tạo đã đạt được chuẩn MOET năm 2017 và hiện đang tiếp tục thực hiện quy chuẩn kiểm định ABET của Mỹ. -Ngành Kỹ thuật Xây dựng (Mã ngành: 7580201) Chương trình: Trong nước Kỹ thuật xây dựng là ngành chuyên về lĩnh vực tư vấn, thiết kế, t'},\n",
              " {'score': 2.3142705,\n",
              "  'text': 'nh Công nghệ Thông tin (Mã ngành: 7480201) Chương trình: Trong nước Công nghệ Thông tin (với hai chuyên ngành: kỹ sư mạng máy tính và cử nhân khoa học máy tính) và cử nhân Khoa học Dữ liệu. Chương trình đào tạo tuân thủ theo các chuẩn mực quốc tế và đã đạt được chứng nhận kiểm định chất lượng bởi Tổ chức các trường Đại học Đông Nam Á (AUN) từ năm 2009 và tái kiểm định năm 2017. Các chương trình đào tạo đã đạt được chuẩn MOET năm 2017 và hiện đang tiếp tục thực hiện quy chuẩn kiểm định ABET của Mỹ. -'},\n",
              " {'score': 2.2680483,\n",
              "  'text': 'Ngành Công nghệ Thông tin (Mã ngành: 7480201) Chương trình: Trong nước Công nghệ Thông tin (với hai chuyên ngành: kỹ sư mạng máy tính và cử nhân khoa học máy tính) và cử nhân Khoa học Dữ liệu. Chương trình đào tạo tuân thủ theo các chuẩn mực quốc tế và đã đạt được chứng nhận kiểm định chất lượng bởi Tổ chức các t'},\n",
              " {'score': 2.0055904,\n",
              "  'text': 'Ngành Công nghệ Thông tin (Mã ngành: 7480201) Chương trình: Trong nước Công nghệ Thông tin (với hai chuyên ngành: kỹ sư mạng máy tính và cử nhân khoa học máy tính) và cử nhân Khoa học Dữ liệu. Chương trình đào tạo tuân thủ theo các chuẩn mực quốc tế và đã đạt được chứng nhận kiểm định chất lượng bởi Tổ chức các trường Đại học Đông Nam Á (AUN) từ năm 2009 và tái kiểm định năm 2017. Các chương trình đào tạo đã đạt được chuẩn MOET năm 2017 và hiện đang tiếp tục thực hiện quy chuẩn kiểm định ABET của Mỹ. -Ngành Kỹ thuật Xây dựng (Mã ngành: 7580201) Chương trình: Trong nước Kỹ thuật xây dựng là ngành chuyên về lĩnh vực t'}]"
            ]
          },
          "metadata": {},
          "execution_count": 58
        }
      ]
    },
    {
      "cell_type": "code",
      "source": [
        "dataset[\"test\"][0][\"answers\"]"
      ],
      "metadata": {
        "colab": {
          "base_uri": "https://localhost:8080/"
        },
        "id": "SpI94N51N8v0",
        "outputId": "a864e7b1-f625-4755-ab7f-ee240ea03d84"
      },
      "execution_count": 59,
      "outputs": [
        {
          "output_type": "execute_result",
          "data": {
            "text/plain": [
              "{'answer_start': [507],\n",
              " 'text': ['Ngành Kỹ thuật Xây dựng (Mã ngành: 7580201) Chương trình: Trong nước Kỹ thuật xây dựng là ngành chuyên về lĩnh vực tư vấn, thiết kế, tổ chức thi công, quản lí giảm sát và nghiệm thu các công trình xây dựng phục vụ đời sống con người như: nhà ở, nhà hàng – khách sạn, bệnh viện, cầu đường… -']}"
            ]
          },
          "metadata": {},
          "execution_count": 59
        }
      ]
    },
    {
      "cell_type": "code",
      "source": [
        "import collections\n",
        "\n",
        "examples = dataset[\"test\"]\n",
        "features = validation_features\n",
        "\n",
        "example_id_to_index = {k: i for i, k in enumerate(examples[\"id\"])}\n",
        "features_per_example = collections.defaultdict(list)\n",
        "for i, feature in enumerate(features):\n",
        "    features_per_example[example_id_to_index[feature[\"example_id\"]]].append(i)"
      ],
      "metadata": {
        "id": "JhcYOvd3OGdb"
      },
      "execution_count": 60,
      "outputs": []
    },
    {
      "cell_type": "code",
      "source": [
        "from tqdm.auto import tqdm\n",
        "\n",
        "def postprocess_qa_predictions(examples, features, raw_predictions, n_best_size = 20, max_answer_length = 30):\n",
        "    all_start_logits, all_end_logits = raw_predictions\n",
        "    # Build a map example to its corresponding features.\n",
        "    example_id_to_index = {k: i for i, k in enumerate(examples[\"id\"])}\n",
        "    features_per_example = collections.defaultdict(list)\n",
        "    for i, feature in enumerate(features):\n",
        "        features_per_example[example_id_to_index[feature[\"example_id\"]]].append(i)\n",
        "\n",
        "    # The dictionaries we have to fill.\n",
        "    predictions = collections.OrderedDict()\n",
        "\n",
        "    # Logging.\n",
        "    print(f\"Post-processing {len(examples)} example predictions split into {len(features)} features.\")\n",
        "\n",
        "    # Let's loop over all the examples!\n",
        "    for example_index, example in enumerate(tqdm(examples)):\n",
        "        # Those are the indices of the features associated to the current example.\n",
        "        feature_indices = features_per_example[example_index]\n",
        "\n",
        "        min_null_score = None # Only used if squad_v2 is True.\n",
        "        valid_answers = []\n",
        "        \n",
        "        context = example[\"context\"]\n",
        "        # Looping through all the features associated to the current example.\n",
        "        for feature_index in feature_indices:\n",
        "            # We grab the predictions of the model for this feature.\n",
        "            start_logits = all_start_logits[feature_index]\n",
        "            end_logits = all_end_logits[feature_index]\n",
        "            # This is what will allow us to map some the positions in our logits to span of texts in the original\n",
        "            # context.\n",
        "            offset_mapping = features[feature_index][\"offset_mapping\"]\n",
        "\n",
        "            # Update minimum null prediction.\n",
        "            cls_index = features[feature_index][\"input_ids\"].index(tokenizer.cls_token_id)\n",
        "            feature_null_score = start_logits[cls_index] + end_logits[cls_index]\n",
        "            if min_null_score is None or min_null_score < feature_null_score:\n",
        "                min_null_score = feature_null_score\n",
        "\n",
        "            # Go through all possibilities for the `n_best_size` greater start and end logits.\n",
        "            start_indexes = np.argsort(start_logits)[-1 : -n_best_size - 1 : -1].tolist()\n",
        "            end_indexes = np.argsort(end_logits)[-1 : -n_best_size - 1 : -1].tolist()\n",
        "            for start_index in start_indexes:\n",
        "                for end_index in end_indexes:\n",
        "                    # Don't consider out-of-scope answers, either because the indices are out of bounds or correspond\n",
        "                    # to part of the input_ids that are not in the context.\n",
        "                    if (\n",
        "                        start_index >= len(offset_mapping)\n",
        "                        or end_index >= len(offset_mapping)\n",
        "                        or offset_mapping[start_index] is None\n",
        "                        or offset_mapping[end_index] is None\n",
        "                    ):\n",
        "                        continue\n",
        "                    # Don't consider answers with a length that is either < 0 or > max_answer_length.\n",
        "                    if end_index < start_index or end_index - start_index + 1 > max_answer_length:\n",
        "                        continue\n",
        "\n",
        "                    start_char = offset_mapping[start_index][0]\n",
        "                    end_char = offset_mapping[end_index][1]\n",
        "                    valid_answers.append(\n",
        "                        {\n",
        "                            \"score\": start_logits[start_index] + end_logits[end_index],\n",
        "                            \"text\": context[start_char: end_char]\n",
        "                        }\n",
        "                    )\n",
        "        \n",
        "        if len(valid_answers) > 0:\n",
        "            best_answer = sorted(valid_answers, key=lambda x: x[\"score\"], reverse=True)[0]\n",
        "        else:\n",
        "            # In the very rare edge case we have not a single non-null prediction, we create a fake prediction to avoid\n",
        "            # failure.\n",
        "            best_answer = {\"text\": \"\", \"score\": 0.0}\n",
        "        \n",
        "        # Let's pick our final answer: the best one or the null answer (only for squad_v2)\n",
        "        # if not squad_v2:\n",
        "            # predictions[example[\"id\"]] = best_answer[\"text\"]\n",
        "        # else:\n",
        "        answer = best_answer[\"text\"] if best_answer[\"score\"] > min_null_score else \"\"\n",
        "        predictions[example[\"id\"]] = answer\n",
        "\n",
        "    return predictions"
      ],
      "metadata": {
        "id": "VWjqqDaEOO44"
      },
      "execution_count": 61,
      "outputs": []
    },
    {
      "cell_type": "code",
      "source": [
        "final_predictions = postprocess_qa_predictions(dataset[\"test\"], validation_features, raw_predictions.predictions)"
      ],
      "metadata": {
        "colab": {
          "base_uri": "https://localhost:8080/",
          "height": 66,
          "referenced_widgets": [
            "5f680ad9d98b4dba8e20ac6ce205fee4",
            "ebae73b7c9f7421faae9eee2e925bc89",
            "db8031d0a22b47cbb6a83bfb02895bd9",
            "2b759880f05d4258b0206b65f87c510d",
            "969ed3efa33242a8a84fffe0c799b86d",
            "90374e2beded4986a5b2ea058dda0dc4",
            "0fbe38135a93464893ab5ee49188174d",
            "5d883383a6f24c1c81b5b03da632e67c",
            "5d3f57c967e4449ba12116e2b4ccd683",
            "7a7d0ca069d14ef3b27951f0ef17e407",
            "419a585548024432a7c58dfdbade50b9"
          ]
        },
        "id": "N9MGa718OU2i",
        "outputId": "87a98bcf-cccd-477d-f47e-c3e1596b62eb"
      },
      "execution_count": 62,
      "outputs": [
        {
          "output_type": "stream",
          "name": "stdout",
          "text": [
            "Post-processing 70 example predictions split into 306 features.\n"
          ]
        },
        {
          "output_type": "display_data",
          "data": {
            "text/plain": [
              "  0%|          | 0/70 [00:00<?, ?it/s]"
            ],
            "application/vnd.jupyter.widget-view+json": {
              "version_major": 2,
              "version_minor": 0,
              "model_id": "5f680ad9d98b4dba8e20ac6ce205fee4"
            }
          },
          "metadata": {}
        }
      ]
    },
    {
      "cell_type": "code",
      "source": [
        "from datasets import load_metric\n",
        "metric = load_metric(\"squad_v2\")"
      ],
      "metadata": {
        "id": "PQfOVo-dO1Kj",
        "colab": {
          "base_uri": "https://localhost:8080/",
          "height": 81,
          "referenced_widgets": [
            "b55d1d7cf46a4d43a92053a68dbad5b3",
            "274373f0a4404e589f16e528b81785de",
            "8d8e6440016e4314a5d131775bdc9446",
            "7e83e7a122ec4bc5bfaa9e481d18aa14",
            "11108463b6ed4a1ab0c910079d4c5080",
            "21d993f8f0404f9abb66625c6e350e38",
            "854e5226dd7f4cffa44b6e606bf6b4cb",
            "b4b0cc78ba904da6acf884c1f97c0124",
            "4c6d8bdb11534d50b694c364b8367509",
            "cbd673f6dfd94756a75066bade7b167b",
            "4d174e2a45b341b4b261f321e7f1c4cd",
            "6dd163d82ab6433587d10a14993a3afa",
            "e1624630d1cd480a833bfe406c7170f7",
            "ea83f3d3174147f29b4b5c6957af2ae8",
            "3d71ef339b9549369256ba4bb2d6c6d3",
            "09c7f3ae1dbc4deb9b81db895d864632",
            "9931871f48a947cfa3a31cd49d6737ff",
            "b8536b9e28ee41d3b3ded249b51e6833",
            "77bd5522962f445a94249b1d4f33f593",
            "5f96ee2f81344a9ab6b4f801725399fc",
            "099e402aa9aa41b1ac22379fdf92168f",
            "bab3aeb1a34542fe8b52f5daa9f888a2"
          ]
        },
        "outputId": "92574d3f-7029-4356-e756-5e969cb978a1"
      },
      "execution_count": 63,
      "outputs": [
        {
          "output_type": "display_data",
          "data": {
            "text/plain": [
              "Downloading builder script:   0%|          | 0.00/2.25k [00:00<?, ?B/s]"
            ],
            "application/vnd.jupyter.widget-view+json": {
              "version_major": 2,
              "version_minor": 0,
              "model_id": "b55d1d7cf46a4d43a92053a68dbad5b3"
            }
          },
          "metadata": {}
        },
        {
          "output_type": "display_data",
          "data": {
            "text/plain": [
              "Downloading extra modules:   0%|          | 0.00/3.19k [00:00<?, ?B/s]"
            ],
            "application/vnd.jupyter.widget-view+json": {
              "version_major": 2,
              "version_minor": 0,
              "model_id": "6dd163d82ab6433587d10a14993a3afa"
            }
          },
          "metadata": {}
        }
      ]
    },
    {
      "cell_type": "code",
      "source": [
        "formatted_predictions = [{\"id\": k, \"prediction_text\": v, \"no_answer_probability\": 0.0} for k, v in final_predictions.items()]\n",
        "references = [{\"id\": ex[\"id\"], \"answers\": ex[\"answers\"]} for ex in dataset[\"test\"]]\n",
        "metric.compute(predictions=formatted_predictions, references=references)"
      ],
      "metadata": {
        "colab": {
          "base_uri": "https://localhost:8080/"
        },
        "id": "29tg35VuOXcV",
        "outputId": "9be1f0d5-e9e8-4756-8564-9c5977b84753"
      },
      "execution_count": 64,
      "outputs": [
        {
          "output_type": "execute_result",
          "data": {
            "text/plain": [
              "{'HasAns_exact': 0.0,\n",
              " 'HasAns_f1': 0.0,\n",
              " 'HasAns_total': 70,\n",
              " 'best_exact': 0.0,\n",
              " 'best_exact_thresh': 0.0,\n",
              " 'best_f1': 0.0,\n",
              " 'best_f1_thresh': 0.0,\n",
              " 'exact': 0.0,\n",
              " 'f1': 0.0,\n",
              " 'total': 70}"
            ]
          },
          "metadata": {},
          "execution_count": 64
        }
      ]
    },
    {
      "cell_type": "code",
      "source": [
        "trainer.push_to_hub()"
      ],
      "metadata": {
        "colab": {
          "base_uri": "https://localhost:8080/"
        },
        "id": "aOjDZq8POu7s",
        "outputId": "ee170b5c-938c-4271-cb6f-5155e78618e1"
      },
      "execution_count": 65,
      "outputs": [
        {
          "output_type": "stream",
          "name": "stderr",
          "text": [
            "Saving model checkpoint to xlnet-base-cased-iuChatbot-ontologyDts-xlnetBaseCased-bertTokenizer-12April2022\n",
            "Configuration saved in xlnet-base-cased-iuChatbot-ontologyDts-xlnetBaseCased-bertTokenizer-12April2022/config.json\n",
            "Model weights saved in xlnet-base-cased-iuChatbot-ontologyDts-xlnetBaseCased-bertTokenizer-12April2022/pytorch_model.bin\n",
            "tokenizer config file saved in xlnet-base-cased-iuChatbot-ontologyDts-xlnetBaseCased-bertTokenizer-12April2022/tokenizer_config.json\n",
            "Special tokens file saved in xlnet-base-cased-iuChatbot-ontologyDts-xlnetBaseCased-bertTokenizer-12April2022/special_tokens_map.json\n",
            "Dropping the following result as it does not have all the necessary fields:\n",
            "{'task': {'name': 'Question Answering', 'type': 'question-answering'}}\n"
          ]
        }
      ]
    },
    {
      "cell_type": "code",
      "source": [
        ""
      ],
      "metadata": {
        "id": "sX1lw_fgRZ_m"
      },
      "execution_count": null,
      "outputs": []
    }
  ]
}